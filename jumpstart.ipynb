{
 "cells": [
  {
   "cell_type": "code",
   "execution_count": 1,
   "id": "6ef0b8fa",
   "metadata": {},
   "outputs": [],
   "source": [
    "import pandas as pd\n",
    "from dotenv import load_dotenv\n",
    "from openai import OpenAI\n",
    "from anthropic import Anthropic\n",
    "from jumpstart.src.consts import *\n",
    "\n",
    "load_dotenv(override=True)\n",
    "openai = OpenAI()\n",
    "anthropic = Anthropic() "
   ]
  },
  {
   "cell_type": "code",
   "execution_count": 2,
   "id": "75fb80fc",
   "metadata": {},
   "outputs": [
    {
     "name": "stdout",
     "output_type": "stream",
     "text": [
      "🔄 Generating oracle CSV with automatic data download...\n",
      "Using cached cards data: .build/cards.csv\n",
      "Oracle CSV generated: output/oracle_output.csv\n",
      "✅ Oracle CSV generation complete!\n",
      "Oracle CSV generated: output/oracle_output.csv\n",
      "✅ Oracle CSV generation complete!\n"
     ]
    }
   ],
   "source": [
    "import jumpstart.src.oracle\n",
    "from jumpstart.src.oracle import generate_oracle_csv\n",
    "\n",
    "# Regenerate the oracle CSV with automatic MTG data download and caching\n",
    "print(\"🔄 Generating oracle CSV with automatic data download...\")\n",
    "generate_oracle_csv('pauper_cube_example_oracle.txt', 'output/oracle_output.csv')\n",
    "print(\"✅ Oracle CSV generation complete!\")"
   ]
  },
  {
   "cell_type": "code",
   "execution_count": 3,
   "id": "21175335",
   "metadata": {},
   "outputs": [
    {
     "name": "stdout",
     "output_type": "stream",
     "text": [
      "Loaded 450 cards from oracle_df\n",
      "Columns available: ['name', 'CMC', 'Type', 'Color', 'Color Category', 'Oracle Text', 'tags', 'MTGO ID', 'Power', 'Toughness']\n"
     ]
    },
    {
     "data": {
      "text/html": [
       "<div>\n",
       "<style scoped>\n",
       "    .dataframe tbody tr th:only-of-type {\n",
       "        vertical-align: middle;\n",
       "    }\n",
       "\n",
       "    .dataframe tbody tr th {\n",
       "        vertical-align: top;\n",
       "    }\n",
       "\n",
       "    .dataframe thead th {\n",
       "        text-align: right;\n",
       "    }\n",
       "</style>\n",
       "<table border=\"1\" class=\"dataframe\">\n",
       "  <thead>\n",
       "    <tr style=\"text-align: right;\">\n",
       "      <th></th>\n",
       "      <th>name</th>\n",
       "      <th>CMC</th>\n",
       "      <th>Type</th>\n",
       "      <th>Color</th>\n",
       "      <th>Color Category</th>\n",
       "      <th>Oracle Text</th>\n",
       "      <th>tags</th>\n",
       "      <th>MTGO ID</th>\n",
       "      <th>Power</th>\n",
       "      <th>Toughness</th>\n",
       "    </tr>\n",
       "  </thead>\n",
       "  <tbody>\n",
       "    <tr>\n",
       "      <th>0</th>\n",
       "      <td>Boros Elite</td>\n",
       "      <td>1</td>\n",
       "      <td>Creature — Human Soldier</td>\n",
       "      <td>W</td>\n",
       "      <td>White</td>\n",
       "      <td>Battalion — Whenever this creature and at leas...</td>\n",
       "      <td>NaN</td>\n",
       "      <td>NaN</td>\n",
       "      <td>1.0</td>\n",
       "      <td>1.0</td>\n",
       "    </tr>\n",
       "    <tr>\n",
       "      <th>1</th>\n",
       "      <td>Deftblade Elite</td>\n",
       "      <td>1</td>\n",
       "      <td>Creature — Human Soldier</td>\n",
       "      <td>W</td>\n",
       "      <td>White</td>\n",
       "      <td>Provoke (Whenever this creature attacks, you m...</td>\n",
       "      <td>NaN</td>\n",
       "      <td>NaN</td>\n",
       "      <td>1.0</td>\n",
       "      <td>1.0</td>\n",
       "    </tr>\n",
       "    <tr>\n",
       "      <th>2</th>\n",
       "      <td>Doomed Traveler</td>\n",
       "      <td>1</td>\n",
       "      <td>Creature — Human Soldier</td>\n",
       "      <td>W</td>\n",
       "      <td>White</td>\n",
       "      <td>When this creature dies, create a 1/1 white Sp...</td>\n",
       "      <td>NaN</td>\n",
       "      <td>NaN</td>\n",
       "      <td>1.0</td>\n",
       "      <td>1.0</td>\n",
       "    </tr>\n",
       "    <tr>\n",
       "      <th>3</th>\n",
       "      <td>Elite Vanguard</td>\n",
       "      <td>1</td>\n",
       "      <td>Creature — Human Soldier</td>\n",
       "      <td>W</td>\n",
       "      <td>White</td>\n",
       "      <td>NaN</td>\n",
       "      <td>NaN</td>\n",
       "      <td>NaN</td>\n",
       "      <td>2.0</td>\n",
       "      <td>1.0</td>\n",
       "    </tr>\n",
       "    <tr>\n",
       "      <th>4</th>\n",
       "      <td>Faerie Guidemother</td>\n",
       "      <td>1</td>\n",
       "      <td>Sorcery — Adventure</td>\n",
       "      <td>W</td>\n",
       "      <td>White</td>\n",
       "      <td>Target creature gets +2/+1 and gains flying un...</td>\n",
       "      <td>NaN</td>\n",
       "      <td>NaN</td>\n",
       "      <td>NaN</td>\n",
       "      <td>NaN</td>\n",
       "    </tr>\n",
       "  </tbody>\n",
       "</table>\n",
       "</div>"
      ],
      "text/plain": [
       "                 name  CMC                      Type Color Color Category  \\\n",
       "0         Boros Elite    1  Creature — Human Soldier     W          White   \n",
       "1     Deftblade Elite    1  Creature — Human Soldier     W          White   \n",
       "2     Doomed Traveler    1  Creature — Human Soldier     W          White   \n",
       "3      Elite Vanguard    1  Creature — Human Soldier     W          White   \n",
       "4  Faerie Guidemother    1       Sorcery — Adventure     W          White   \n",
       "\n",
       "                                         Oracle Text  tags  MTGO ID  Power  \\\n",
       "0  Battalion — Whenever this creature and at leas...   NaN      NaN    1.0   \n",
       "1  Provoke (Whenever this creature attacks, you m...   NaN      NaN    1.0   \n",
       "2  When this creature dies, create a 1/1 white Sp...   NaN      NaN    1.0   \n",
       "3                                                NaN   NaN      NaN    2.0   \n",
       "4  Target creature gets +2/+1 and gains flying un...   NaN      NaN    NaN   \n",
       "\n",
       "   Toughness  \n",
       "0        1.0  \n",
       "1        1.0  \n",
       "2        1.0  \n",
       "3        1.0  \n",
       "4        NaN  "
      ]
     },
     "execution_count": 3,
     "metadata": {},
     "output_type": "execute_result"
    }
   ],
   "source": [
    "# Load the data files\n",
    "oracle_df = pd.read_csv('output/oracle_output.csv')\n",
    "print(f\"Loaded {len(oracle_df)} cards from oracle_df\")\n",
    "print(f\"Columns available: {list(oracle_df.columns)}\")\n",
    "oracle_df.head()"
   ]
  },
  {
   "cell_type": "markdown",
   "id": "edcd32bf",
   "metadata": {},
   "source": [
    "# Generate Themes"
   ]
  },
  {
   "cell_type": "code",
   "execution_count": 4,
   "id": "c4e01734",
   "metadata": {},
   "outputs": [
    {
     "name": "stdout",
     "output_type": "stream",
     "text": [
      "# Extracted Themes Summary\n",
      "\n",
      "## Tribal Themes (4)\n",
      "- **Black Tribals** (B): Zombie tribal with synergistic effects and creature bonuses\n",
      "- **Blue Tribals** (U): Wizard tribal with synergistic effects and creature bonuses\n",
      "- **Red Tribals** (R): Warrior tribal with synergistic effects and creature bonuses\n",
      "- **White Tribals** (W): Soldier tribal with synergistic effects and creature bonuses\n",
      "\n",
      "## Equipment Themes (3)\n",
      "- **Black Equipment** (B): Equipment strategy with equipment gameplan\n",
      "- **Red Equipment** (R): Equipment strategy with equipment gameplan\n",
      "- **White Equipment** (W): Equipment strategy with equipment gameplan\n",
      "\n",
      "## Aggro Themes (12)\n",
      "- **Black Aggro** (B): Aggro strategy with aggro gameplan\n",
      "- **Black Fast** (B): Fast aggressive deck with efficient low-cost threats\n",
      "- **Blue Fast** (U): Fast aggressive deck with efficient low-cost threats\n",
      "- **Boros Aggro** (R + W): Boros guild synergies with aggro gameplan\n",
      "- **Green Aggro** (G): Aggro strategy with aggro gameplan\n",
      "- **Green Fast** (G): Fast aggressive deck with efficient low-cost threats\n",
      "- **Gruul Aggro** (G + R): Gruul guild synergies with aggro gameplan\n",
      "- **Rakdos Aggro** (B + R): Rakdos guild synergies with aggro gameplan\n",
      "- **Red Aggro** (R): Aggro strategy with aggro gameplan\n",
      "- **Red Fast** (R): Fast aggressive deck with efficient low-cost threats\n",
      "- **White Aggro** (W): Aggro strategy with aggro gameplan\n",
      "- **White Fast** (W): Fast aggressive deck with efficient low-cost threats\n",
      "\n",
      "## Control Themes (7)\n",
      "- **Azorius Control** (U + W): Azorius guild synergies with control gameplan\n",
      "- **Black Control** (B): Control strategy with control gameplan\n",
      "- **Blue Control** (U): Control strategy with control gameplan\n",
      "- **Dimir Control** (B + U): Dimir guild synergies with control gameplan\n",
      "- **Green Control** (G): Control strategy with control gameplan\n",
      "- **Red Control** (R): Control strategy with control gameplan\n",
      "- **White Control** (W): Control strategy with control gameplan\n",
      "\n",
      "## Tempo Themes (6)\n",
      "- **Black Tempo** (B): Tempo strategy with tempo gameplan\n",
      "- **Blue Tempo** (U): Tempo strategy with tempo gameplan\n",
      "- **Green Tempo** (G): Tempo strategy with tempo gameplan\n",
      "- **Izzet Tempo** (R + U): Izzet guild synergies with tempo gameplan\n",
      "- **Red Tempo** (R): Tempo strategy with tempo gameplan\n",
      "- **White Tempo** (W): Tempo strategy with tempo gameplan\n",
      "\n",
      "## Combo Themes (5)\n",
      "- **Black Combo** (B): Combo strategy with combo gameplan\n",
      "- **Blue Combo** (U): Combo strategy with combo gameplan\n",
      "- **Green Combo** (G): Combo strategy with combo gameplan\n",
      "- **Red Combo** (R): Combo strategy with combo gameplan\n",
      "- **White Combo** (W): Combo strategy with combo gameplan\n",
      "\n",
      "## Voltron Themes (2)\n",
      "- **Green Voltron** (G): Voltron strategy with voltron gameplan\n",
      "- **White Voltron** (W): Voltron strategy with voltron gameplan\n",
      "\n",
      "## Aristocrats Themes (4)\n",
      "- **Black Aristocrats** (B): Aristocrats strategy with aristocrats gameplan\n",
      "- **Green Aristocrats** (G): Aristocrats strategy with aristocrats gameplan\n",
      "- **Red Aristocrats** (R): Aristocrats strategy with aristocrats gameplan\n",
      "- **White Aristocrats** (W): Aristocrats strategy with aristocrats gameplan\n",
      "\n",
      "## Graveyard Themes (4)\n",
      "- **Black Graveyard** (B): Graveyard strategy with graveyard gameplan\n",
      "- **Blue Graveyard** (U): Graveyard strategy with graveyard gameplan\n",
      "- **Green Graveyard** (G): Graveyard strategy with graveyard gameplan\n",
      "- **White Graveyard** (W): Graveyard strategy with graveyard gameplan\n",
      "\n",
      "## Burn Themes (4)\n",
      "- **Blue Burn** (U): Burn strategy with burn gameplan\n",
      "- **Green Burn** (G): Burn strategy with burn gameplan\n",
      "- **Red Burn** (R): Burn strategy with burn gameplan\n",
      "- **White Burn** (W): Burn strategy with burn gameplan\n",
      "\n",
      "## Spellslinger Themes (5)\n",
      "- **Black Spellslinger** (B): Spellslinger strategy with spellslinger gameplan\n",
      "- **Blue Spellslinger** (U): Spellslinger strategy with spellslinger gameplan\n",
      "- **Green Spellslinger** (G): Spellslinger strategy with spellslinger gameplan\n",
      "- **Red Spellslinger** (R): Spellslinger strategy with spellslinger gameplan\n",
      "- **White Spellslinger** (W): Spellslinger strategy with spellslinger gameplan\n",
      "\n",
      "## Tokens Themes (3)\n",
      "- **Green Tokens** (G): Tokens strategy with tokens gameplan\n",
      "- **Red Tokens** (R): Tokens strategy with tokens gameplan\n",
      "- **White Tokens** (W): Tokens strategy with tokens gameplan\n",
      "\n",
      "## Enchantments Themes (1)\n",
      "- **White Enchantments** (W): Enchantments strategy with enchantments gameplan\n",
      "\n",
      "## Counters Themes (5)\n",
      "- **Black Counters** (B): Counters strategy with counters gameplan\n",
      "- **Blue Counters** (U): Counters strategy with counters gameplan\n",
      "- **Green Counters** (G): Counters strategy with counters gameplan\n",
      "- **Red Counters** (R): Counters strategy with counters gameplan\n",
      "- **White Counters** (W): Counters strategy with counters gameplan\n",
      "\n",
      "## Historic Themes (3)\n",
      "- **Black Historic** (B): Historic strategy with historic gameplan\n",
      "- **Red Historic** (R): Historic strategy with historic gameplan\n",
      "- **White Historic** (W): Historic strategy with historic gameplan\n",
      "\n",
      "## Slivers Themes (1)\n",
      "- **White Slivers** (W): Slivers strategy with slivers gameplan\n",
      "\n",
      "## Affinity Themes (3)\n",
      "- **Black Affinity** (B): Affinity strategy with affinity gameplan\n",
      "- **Red Affinity** (R): Affinity strategy with affinity gameplan\n",
      "- **White Affinity** (W): Affinity strategy with affinity gameplan\n",
      "\n",
      "## Mill Themes (2)\n",
      "- **Blue Mill** (U): Mill strategy with mill gameplan\n",
      "- **Green Mill** (G): Mill strategy with mill gameplan\n",
      "\n",
      "## Ramp Themes (5)\n",
      "- **Black Big** (B): Ramp into expensive threats and powerful late-game spells\n",
      "- **Blue Big** (U): Ramp into expensive threats and powerful late-game spells\n",
      "- **Green Big** (G): Ramp into expensive threats and powerful late-game spells\n",
      "- **Green Ramp** (G): Ramp strategy with ramp gameplan\n",
      "- **Simic Ramp** (G + U): Simic guild synergies with ramp gameplan\n",
      "\n",
      "## Sacrifice Themes (3)\n",
      "- **Black Sacrifice** (B): Sacrifice strategy with sacrifice gameplan\n",
      "- **Green Sacrifice** (G): Sacrifice strategy with sacrifice gameplan\n",
      "- **Red Sacrifice** (R): Sacrifice strategy with sacrifice gameplan\n",
      "\n",
      "## Midrange Themes (3)\n",
      "- **Golgari Midrange** (B + G): Golgari guild synergies with midrange gameplan\n",
      "- **Orzhov Midrange** (B + W): Orzhov guild synergies with midrange gameplan\n",
      "- **Selesnya Midrange** (G + W): Selesnya guild synergies with midrange gameplan\n",
      "\n",
      "**Total Themes Found:** 85\n",
      "🎯 Selecting optimal themes: 20 mono + 10 dual = 30 total\n",
      "Available: 75 mono, 10 dual themes\n",
      "  🎨 Distributing 20 mono themes: 4 per color + 0 extra\n",
      "    W: 4 themes selected\n",
      "    U: 4 themes selected\n",
      "    B: 4 themes selected\n",
      "    R: 4 themes selected\n",
      "    G: 4 themes selected\n",
      "  🎯 Final distribution: {'W': 4, 'U': 4, 'B': 4, 'R': 4, 'G': 4}\n",
      "  ✅ Selected 20 balanced mono-color themes\n",
      "  ℹ️  Only 10 dual-color themes available (requested 10)\n",
      "\n",
      "✅ Selected 30 themes:\n",
      "  📦 Mono-color: 20\n",
      "  🎭 Dual-color: 10\n",
      "\n",
      "📋 THEME SELECTION SUMMARY:\n",
      "==================================================\n",
      "🟡 MONO-COLOR THEMES:\n",
      "  White (W): 4 themes\n",
      "    • White Enchantments        - Enchantments\n",
      "    • White Slivers             - Slivers\n",
      "    • White Tribals             - Tribal\n",
      "    • White Voltron             - Voltron\n",
      "  Blue (U): 4 themes\n",
      "    • Blue Mill                 - Mill\n",
      "    • Blue Spellslinger         - Spellslinger\n",
      "    • Blue Tempo                - Tempo\n",
      "    • Blue Tribals              - Tribal\n",
      "  Black (B): 4 themes\n",
      "    • Black Aristocrats         - Aristocrats\n",
      "    • Black Spellslinger        - Spellslinger\n",
      "    • Black Tempo               - Tempo\n",
      "    • Black Tribals             - Tribal\n",
      "  Red (R): 4 themes\n",
      "    • Red Aggro                 - Aggro\n",
      "    • Red Burn                  - Burn\n",
      "    • Red Spellslinger          - Spellslinger\n",
      "    • Red Tribals               - Tribal\n",
      "  Green (G): 4 themes\n",
      "    • Green Mill                - Mill\n",
      "    • Green Ramp                - Ramp\n",
      "    • Green Tempo               - Tempo\n",
      "    • Green Voltron             - Voltron\n",
      "\n",
      "🎭 DUAL-COLOR THEMES:\n",
      "  • Azorius Control           (U+W) - Control\n",
      "  • Boros Aggro               (R+W) - Aggro\n",
      "  • Dimir Control             (B+U) - Control\n",
      "  • Golgari Midrange          (B+G) - Midrange\n",
      "  • Gruul Aggro               (G+R) - Aggro\n",
      "  • Izzet Tempo               (R+U) - Tempo\n",
      "  • Orzhov Midrange           (B+W) - Midrange\n",
      "  • Rakdos Aggro              (B+R) - Aggro\n",
      "  • Selesnya Midrange         (G+W) - Midrange\n",
      "  • Simic Ramp                (G+U) - Ramp\n",
      "\n",
      "🎯 ARCHETYPE DISTRIBUTION:\n",
      "  • Aggro       : 4 themes\n",
      "  • Aristocrats : 1 themes\n",
      "  • Burn        : 1 themes\n",
      "  • Control     : 2 themes\n",
      "  • Enchantments: 1 themes\n",
      "  • Midrange    : 3 themes\n",
      "  • Mill        : 2 themes\n",
      "  • Ramp        : 2 themes\n",
      "  • Slivers     : 1 themes\n",
      "  • Spellslinger: 3 themes\n",
      "  • Tempo       : 4 themes\n",
      "  • Tribal      : 4 themes\n",
      "  • Voltron     : 2 themes\n",
      "\n",
      "✅ Ready for deck construction with 30 optimized themes!\n",
      "\n",
      "🎯 Selecting optimal themes: 20 mono + 10 dual = 30 total\n",
      "Available: 75 mono, 10 dual themes\n",
      "  🎨 Distributing 20 mono themes: 4 per color + 0 extra\n",
      "    W: 4 themes selected\n",
      "    U: 4 themes selected\n",
      "    B: 4 themes selected\n",
      "    R: 4 themes selected\n",
      "    G: 4 themes selected\n",
      "  🎯 Final distribution: {'W': 4, 'U': 4, 'B': 4, 'R': 4, 'G': 4}\n",
      "  ✅ Selected 20 balanced mono-color themes\n",
      "  ℹ️  Only 10 dual-color themes available (requested 10)\n",
      "\n",
      "✅ Selected 30 themes:\n",
      "  📦 Mono-color: 20\n",
      "  🎭 Dual-color: 10\n",
      "\n",
      "📋 THEME SELECTION SUMMARY:\n",
      "==================================================\n",
      "🟡 MONO-COLOR THEMES:\n",
      "  White (W): 4 themes\n",
      "    • White Enchantments        - Enchantments\n",
      "    • White Slivers             - Slivers\n",
      "    • White Tribals             - Tribal\n",
      "    • White Voltron             - Voltron\n",
      "  Blue (U): 4 themes\n",
      "    • Blue Mill                 - Mill\n",
      "    • Blue Spellslinger         - Spellslinger\n",
      "    • Blue Tempo                - Tempo\n",
      "    • Blue Tribals              - Tribal\n",
      "  Black (B): 4 themes\n",
      "    • Black Aristocrats         - Aristocrats\n",
      "    • Black Spellslinger        - Spellslinger\n",
      "    • Black Tempo               - Tempo\n",
      "    • Black Tribals             - Tribal\n",
      "  Red (R): 4 themes\n",
      "    • Red Aggro                 - Aggro\n",
      "    • Red Burn                  - Burn\n",
      "    • Red Spellslinger          - Spellslinger\n",
      "    • Red Tribals               - Tribal\n",
      "  Green (G): 4 themes\n",
      "    • Green Mill                - Mill\n",
      "    • Green Ramp                - Ramp\n",
      "    • Green Tempo               - Tempo\n",
      "    • Green Voltron             - Voltron\n",
      "\n",
      "🎭 DUAL-COLOR THEMES:\n",
      "  • Azorius Control           (U+W) - Control\n",
      "  • Boros Aggro               (R+W) - Aggro\n",
      "  • Dimir Control             (B+U) - Control\n",
      "  • Golgari Midrange          (B+G) - Midrange\n",
      "  • Gruul Aggro               (G+R) - Aggro\n",
      "  • Izzet Tempo               (R+U) - Tempo\n",
      "  • Orzhov Midrange           (B+W) - Midrange\n",
      "  • Rakdos Aggro              (B+R) - Aggro\n",
      "  • Selesnya Midrange         (G+W) - Midrange\n",
      "  • Simic Ramp                (G+U) - Ramp\n",
      "\n",
      "🎯 ARCHETYPE DISTRIBUTION:\n",
      "  • Aggro       : 4 themes\n",
      "  • Aristocrats : 1 themes\n",
      "  • Burn        : 1 themes\n",
      "  • Control     : 2 themes\n",
      "  • Enchantments: 1 themes\n",
      "  • Midrange    : 3 themes\n",
      "  • Mill        : 2 themes\n",
      "  • Ramp        : 2 themes\n",
      "  • Slivers     : 1 themes\n",
      "  • Spellslinger: 3 themes\n",
      "  • Tempo       : 4 themes\n",
      "  • Tribal      : 4 themes\n",
      "  • Voltron     : 2 themes\n",
      "\n",
      "✅ Ready for deck construction with 30 optimized themes!\n"
     ]
    }
   ],
   "source": [
    "# Basic extraction with guild theme support\n",
    "from jumpstart.src.theme_extraction.extractor import ThemeExtractor\n",
    "from jumpstart.src.theme_extraction.utils import generate_theme_code\n",
    "\n",
    "\n",
    "extractor = ThemeExtractor(oracle_df)\n",
    "# Now includes guild themes by default!\n",
    "all_themes = extractor.extract_themes(min_cards_per_theme=10, include_guilds=True)\n",
    "print(extractor.generate_theme_summary(all_themes))\n",
    "\n",
    "generated_themes = extractor.select_optimal_themes(\n",
    "    themes=all_themes, \n",
    "    mono_count=20, \n",
    "    dual_count=10, \n",
    "    prioritize_buildability=True, \n",
    "    diversity_weight=0.5\n",
    ")"
   ]
  },
  {
   "cell_type": "markdown",
   "id": "9a53fc20",
   "metadata": {},
   "source": [
    "# Deck Construction\n",
    "Now let's test the deck construction function to build actual jumpstart decks from our themes."
   ]
  },
  {
   "cell_type": "code",
   "execution_count": null,
   "id": "f5fdc170",
   "metadata": {},
   "outputs": [
    {
     "name": "stdout",
     "output_type": "stream",
     "text": [
      "🚀 Starting deck construction with refactored algorithm...\n",
      "🏗️ CONSTRUCTING JUMPSTART DECKS\n",
      "==================================================\n",
      "\n",
      "🔒 Phase 0: Core card reservation\n",
      "Ensuring each theme gets its defining cards before general competition...\n",
      "\n",
      "🎯 White Enchantments: Reserving core cards\n",
      "  ✅ Glimmerlight              |   3.5 pts | Artifact — Equipment\n",
      "  ✅ Mandibular Kite           |   3.0 pts | Artifact — Equipment\n",
      "  ✅ Cartouche of Solidarity   |   3.0 pts | Enchantment — Aura C...\n",
      "  📦 Reserved 3 core cards\n",
      "\n",
      "🎯 White Slivers: Reserving core cards\n",
      "  ✅ Deftblade Elite           |   1.0 pts | Creature — Human Sol...\n",
      "  ✅ Faerie Guidemother        |   1.0 pts | Sorcery — Adventure\n",
      "  ✅ Seeker of the Way         |   1.0 pts | Creature — Human War...\n",
      "  📦 Reserved 3 core cards\n",
      "\n",
      "🎯 White Tribals: Reserving core cards\n",
      "  ✅ Ancestral Blade           |   6.0 pts | Artifact — Equipment\n",
      "  ✅ Boros Elite               |   5.3 pts | Creature — Human Sol...\n",
      "  ✅ Aerie Auxiliary           |   5.3 pts | Creature — Bird Sold...\n",
      "  ✅ Eagles of the North       |   5.3 pts | Creature — Bird Sold...\n",
      "  📦 Reserved 4 core cards\n",
      "\n",
      "🎯 White Voltron: Reserving core cards\n",
      "  ✅ Flayer Husk               |   7.0 pts | Artifact — Equipment\n",
      "  ✅ Vulshok Morningstar       |   6.0 pts | Artifact — Equipment\n",
      "  ✅ Greatsword of Tyr         |   5.0 pts | Artifact — Equipment\n",
      "  📦 Reserved 3 core cards\n",
      "\n",
      "🎯 Blue Tribals: Reserving core cards\n",
      "  ✅ Shipwreck Dowser          |   7.3 pts | Creature — Merfolk W...\n",
      "  ✅ Archaeomancer             |   5.3 pts | Creature — Human Wiz...\n",
      "  ✅ Cloudkin Seer             |   4.3 pts | Creature — Elemental...\n",
      "  📦 Reserved 3 core cards\n",
      "\n",
      "🎯 Blue Tempo: Reserving core cards\n",
      "  ✅ Moon-Circuit Hacker       |   4.5 pts | Enchantment Creature...\n",
      "  ✅ Miscalculation            |   3.3 pts | Instant\n",
      "  ✅ Repeal                    |   2.8 pts | Instant\n",
      "  ✅ Into the Roil             |   2.8 pts | Instant\n",
      "  ✅ Snap                      |   2.8 pts | Instant\n",
      "  📦 Reserved 5 core cards\n",
      "\n",
      "🎯 Blue Spellslinger: Reserving core cards\n",
      "  ✅ Lose Focus                |   4.3 pts | Instant\n",
      "  ✅ Jhessian Thief            |   4.0 pts | Creature — Human Rog...\n",
      "  ✅ Murmuring Mystic          |   4.0 pts | Creature — Human Wiz...\n",
      "  ✅ Tolarian Terror           |   4.0 pts | Creature — Serpent\n",
      "  ✅ Mistral Singer            |   3.5 pts | Creature — Siren\n",
      "  📦 Reserved 5 core cards\n",
      "\n",
      "🎯 Blue Mill: Reserving core cards\n",
      "  ✅ Deranged Assistant        |   2.0 pts | Creature — Human Wiz...\n",
      "  ✅ Cruel Witness             |   2.0 pts | Creature — Bird Horr...\n",
      "  ✅ Consider                  |   2.0 pts | Instant\n",
      "  📦 Reserved 3 core cards\n",
      "\n",
      "🎯 Black Tribals: Reserving core cards\n",
      "  ✅ Retrofitted Transmogrant  |   5.3 pts | Artifact Creature — ...\n",
      "  ✅ Legion Vanguard           |   5.3 pts | Creature — Vampire S...\n",
      "  ✅ Voracious Vermin          |   5.3 pts | Creature — Rat\n",
      "  📦 Reserved 3 core cards\n",
      "\n",
      "🎯 Black Aristocrats: Reserving core cards\n",
      "  ✅ Carrier Thrall            |   5.0 pts | Creature — Vampire\n",
      "  ✅ Infestation Sage          |   4.0 pts | Creature — Elf Warlo...\n",
      "  ✅ Nezumi Linkbreaker        |   4.0 pts | Creature — Rat Warlo...\n",
      "  📦 Reserved 3 core cards\n",
      "\n",
      "🎯 Black Tempo: Reserving core cards\n",
      "  ✅ Putrid Goblin             |   4.5 pts | Creature — Zombie Go...\n",
      "  ✅ Carnophage                |   4.0 pts | Creature — Zombie\n",
      "  ✅ Feign Death               |   3.8 pts | Instant\n",
      "  📦 Reserved 3 core cards\n",
      "\n",
      "🎯 Black Spellslinger: Reserving core cards\n",
      "  ✅ Village Rites             |   3.3 pts | Instant\n",
      "  ✅ Candy Grapple             |   3.3 pts | Instant\n",
      "  ✅ Leonin Bola               |   3.0 pts | Artifact — Equipment\n",
      "  📦 Reserved 3 core cards\n",
      "\n",
      "🎯 Red Tribals: Reserving core cards\n",
      "  ✅ Goblin Bushwhacker        |   4.3 pts | Creature — Goblin Wa...\n",
      "  ✅ Grim Initiate             |   3.3 pts | Creature — Zombie Wa...\n",
      "  ✅ Hobblefiend               |   3.3 pts | Creature — Devil\n",
      "  📦 Reserved 3 core cards\n",
      "\n",
      "🎯 Red Aggro: Reserving core cards\n",
      "  ✅ Goblin Motivator          |   6.8 pts | Creature — Goblin Wa...\n",
      "  ✅ Mayhem Patrol             |   6.8 pts | Creature — Devil War...\n",
      "  ✅ Fanatical Firebrand       |   5.8 pts | Creature — Goblin Pi...\n",
      "  📦 Reserved 3 core cards\n",
      "\n",
      "🎯 Red Spellslinger: Reserving core cards\n",
      "  ✅ Guttersnipe               |   4.0 pts | Creature — Goblin Sh...\n",
      "  ✅ Monastery Swiftspear      |   3.5 pts | Creature — Human Mon...\n",
      "  ✅ Burst Lightning           |   3.3 pts | Instant\n",
      "  ✅ Improvised Club           |   3.3 pts | Instant\n",
      "  ✅ Sulfurous Blast           |   3.3 pts | Instant\n",
      "  📦 Reserved 5 core cards\n",
      "\n",
      "🎯 Red Burn: Reserving core cards\n",
      "  ✅ Orcish Hellraiser         |   3.0 pts | Creature — Orc Warri...\n",
      "  ✅ Scorched Rusalka          |   2.5 pts | Creature — Spirit\n",
      "  ✅ Lightning Bolt            |   2.3 pts | Instant\n",
      "  📦 Reserved 3 core cards\n",
      "\n",
      "🎯 Green Voltron: Reserving core cards\n",
      "  ✅ Colossal Dreadmask        |   8.0 pts | Artifact — Equipment\n",
      "  ✅ Nyxborn Hydra             |   5.5 pts | Enchantment Creature...\n",
      "  ✅ Rancor                    |   5.0 pts | Enchantment — Aura\n",
      "  📦 Reserved 3 core cards\n",
      "\n",
      "🎯 Green Mill: Reserving core cards\n",
      "  ✅ Wary Thespian             |   2.0 pts | Creature — Cat Druid\n",
      "  ✅ Grapple with the Past     |   2.0 pts | Instant\n",
      "  ✅ Bonesplitter              |   2.0 pts | Artifact — Equipment\n",
      "  📦 Reserved 3 core cards\n",
      "\n",
      "🎯 Green Ramp: Reserving core cards\n",
      "  ✅ Greater Tanuki            |   3.5 pts | Enchantment Creature...\n",
      "  ✅ Shardless Outlander       |   3.5 pts | Artifact Creature — ...\n",
      "  ✅ Annoyed Altisaur          |   3.0 pts | Creature — Dinosaur\n",
      "  ✅ Krosan Tusker             |   3.0 pts | Creature — Boar Beas...\n",
      "  📦 Reserved 4 core cards\n",
      "\n",
      "🎯 Green Tempo: Reserving core cards\n",
      "  ✅ Experiment One            |   4.5 pts | Creature — Human Ooz...\n",
      "  ✅ Basking Broodscale        |   3.5 pts | Creature — Eldrazi L...\n",
      "  ✅ Gnarlid Colony            |   3.5 pts | Creature — Beast\n",
      "  ✅ Arbor Elf                 |   3.0 pts | Creature — Elf Druid\n",
      "  📦 Reserved 4 core cards\n",
      "\n",
      "🎯 Azorius Control: Reserving core cards\n",
      "  ✅ Miner's Guidewing         |   8.2 pts | Creature — Bird\n",
      "  ✅ Lyev Skyknight            |   7.5 pts | Creature — Human Kni...\n",
      "  📦 Reserved 2 core cards\n",
      "\n",
      "🎯 Dimir Control: Reserving core cards\n",
      "  ✅ Mire Triton               |   6.0 pts | Creature — Zombie Me...\n",
      "  ✅ Wither and Bloom          |   6.0 pts | Instant\n",
      "  📦 Reserved 2 core cards\n",
      "\n",
      "🎯 Rakdos Aggro: Reserving core cards\n",
      "🎯 Rakdos Aggro: Reserving core cards\n",
      "  ✅ Gingerbrute               |   5.8 pts | Artifact Creature — ...\n",
      "  ✅ Jackal Pup                |   5.3 pts | Creature — Jackal\n",
      "  📦 Reserved 2 core cards\n",
      "\n",
      "🎯 Gruul Aggro: Reserving core cards\n",
      "  ✅ Clockwork Percussionist   |   4.5 pts | Artifact Creature — ...\n",
      "  ✅ Harried Spearguard        |   4.5 pts | Creature — Human Sol...\n",
      "  📦 Reserved 2 core cards\n",
      "\n",
      "🎯 Selesnya Midrange: Reserving core cards\n",
      "  ✅ Raise the Alarm           |   2.0 pts | Instant\n",
      "  ✅ Battle Screech            |   2.0 pts | Sorcery\n",
      "  📦 Reserved 2 core cards\n",
      "\n",
      "🎯 Orzhov Midrange: Reserving core cards\n",
      "  ✅ Syndic of Tithes          |   2.0 pts | Creature — Human Cle...\n",
      "  ✅ Basilica Screecher        |   1.5 pts | Creature — Bat\n",
      "  📦 Reserved 2 core cards\n",
      "\n",
      "🎯 Izzet Tempo: Reserving core cards\n",
      "  ✅ Goblin Electromancer      |   2.5 pts | Creature — Goblin Wi...\n",
      "  ✅ Spelleater Wolverine      |   2.0 pts | Creature — Wolverine\n",
      "  📦 Reserved 2 core cards\n",
      "\n",
      "🎯 Golgari Midrange: Reserving core cards\n",
      "  ✅ Dread Return              |   3.0 pts | Sorcery\n",
      "  ✅ Bannerhide Krushok        |   3.0 pts | Creature — Beast\n",
      "  📦 Reserved 2 core cards\n",
      "\n",
      "  ✅ Gingerbrute               |   5.8 pts | Artifact Creature — ...\n",
      "  ✅ Jackal Pup                |   5.3 pts | Creature — Jackal\n",
      "  📦 Reserved 2 core cards\n",
      "\n",
      "🎯 Gruul Aggro: Reserving core cards\n",
      "  ✅ Clockwork Percussionist   |   4.5 pts | Artifact Creature — ...\n",
      "  ✅ Harried Spearguard        |   4.5 pts | Creature — Human Sol...\n",
      "  📦 Reserved 2 core cards\n",
      "\n",
      "🎯 Selesnya Midrange: Reserving core cards\n",
      "  ✅ Raise the Alarm           |   2.0 pts | Instant\n",
      "  ✅ Battle Screech            |   2.0 pts | Sorcery\n",
      "  📦 Reserved 2 core cards\n",
      "\n",
      "🎯 Orzhov Midrange: Reserving core cards\n",
      "  ✅ Syndic of Tithes          |   2.0 pts | Creature — Human Cle...\n",
      "  ✅ Basilica Screecher        |   1.5 pts | Creature — Bat\n",
      "  📦 Reserved 2 core cards\n",
      "\n",
      "🎯 Izzet Tempo: Reserving core cards\n",
      "  ✅ Goblin Electromancer      |   2.5 pts | Creature — Goblin Wi...\n",
      "  ✅ Spelleater Wolverine      |   2.0 pts | Creature — Wolverine\n",
      "  📦 Reserved 2 core cards\n",
      "\n",
      "🎯 Golgari Midrange: Reserving core cards\n",
      "  ✅ Dread Return              |   3.0 pts | Sorcery\n",
      "  ✅ Bannerhide Krushok        |   3.0 pts | Creature — Beast\n",
      "  📦 Reserved 2 core cards\n",
      "\n",
      "🎯 Boros Aggro: Reserving core cards\n",
      "  ✅ Elite Vanguard            |   4.3 pts | Creature — Human Sol...\n",
      "  ✅ Novice Inspector          |   4.3 pts | Creature — Human Det...\n",
      "  📦 Reserved 2 core cards\n",
      "\n",
      "🎯 Simic Ramp: Reserving core cards\n",
      "  ✅ Evolution Witness         |   1.5 pts | Creature — Elf Shama...\n",
      "  ✅ Owlbear                   |   1.5 pts | Creature — Bird Bear\n",
      "  📦 Reserved 2 core cards\n",
      "\n",
      "📦 Phase 1: Multicolor card assignment\n",
      "\n",
      "🎯 Multicolor phase: Azorius Control (2/13)\n",
      "  ✅ Added: Skybridge Towers (Score: 3.8) [Land]\n",
      "  ⚠️  Skipping Azorius Chancery: would exceed land limit\n",
      "  ⚠️  Skipping Tranquil Cove: would exceed land limit\n",
      "  ⚠️  Skipping Tranquil Landscape: would exceed land limit\n",
      "  ⚠️  Skipping Contaminated Landscape: would exceed land limit\n",
      "  ⚠️  Skipping Perilous Landscape: would exceed land limit\n",
      "  ✅ Added: Silver Drake (Score: 2.5) [Creature — Drake]\n",
      "  ✅ Added: Judge's Familiar (Score: 2.5) [Creature — Bird]\n",
      "  ✅ Added: Iron Apprentice (Score: 1.6) [Artifact Creature — Construct]\n",
      "  ✅ Added: Serrated Arrows (Score: 1.6) [Artifact]\n",
      "  ✅ Added: Renegade Freighter (Score: 1.1) [Artifact — Vehicle]\n",
      "  📊 Multicolor complete: 8/13 cards\n",
      "\n",
      "🎯 Multicolor phase: Dimir Control (2/13)\n",
      "  ⚠️  Below minimum creatures: 1/2 (need 1 more)\n",
      "  ✅ Added: Waterfront District (Score: 3.8) [Land]\n",
      "  ⚠️  Skipping Dimir Aqueduct: would exceed land limit\n",
      "  ⚠️  Skipping Dismal Backwater: would exceed land limit\n",
      "  ✅ Added: Cavern Harpy (Score: 3.5) [Creature — Harpy Beast]\n",
      "  ⚠️  Skipping Contaminated Landscape: would exceed land limit\n",
      "  ⚠️  Skipping Seething Landscape: would exceed land limit\n",
      "  ⚠️  Skipping Foreboding Landscape: would exceed land limit\n",
      "  ✅ Added: Dinrova Horror (Score: 3.0) [Creature — Horror]\n",
      "  ✅ Added: Juggernaut (Score: 2.6) [Artifact Creature — Juggernaut]\n",
      "  ✅ Added: Ulamog's Crusher (Score: 2.6) [Creature — Eldrazi]\n",
      "  ✅ Added: Dimir Guildmage (Score: 2.5) [Creature — Human Wizard]\n",
      "  ✅ Added: Perilous Myr (Score: 2.1) [Artifact Creature — Phyrexian Myr]\n",
      "  ✅ Added: Filigree Familiar (Score: 2.1) [Artifact Creature — Fox]\n",
      "  ✅ Added: Soul Manipulation (Score: 1.5) [Instant]\n",
      "  📊 Multicolor complete: 11/13 cards\n",
      "\n",
      "🎯 Multicolor phase: Rakdos Aggro (2/13)\n",
      "  ✅ Added: Fireblade Artist (Score: 4.8) [Creature — Human Shaman]\n",
      "  ✅ Added: Tramway Station (Score: 3.8) [Land]\n",
      "  ⚠️  Skipping Jagged Barrens: would exceed land limit\n",
      "  ⚠️  Skipping Rakdos Carnarium: would exceed land limit\n",
      "  ⚠️  Skipping Seething Landscape: would exceed land limit\n",
      "  ⚠️  Skipping Twisted Landscape: would exceed land limit\n",
      "  ⚠️  Skipping Shattered Landscape: would exceed land limit\n",
      "  ✅ Added: Candy Trail (Score: 3.1) [Artifact — Food Clue]\n",
      "  ✅ Added: Wayfarer's Bauble (Score: 3.1) [Artifact]\n",
      "  ✅ Added: Body Dropper (Score: 2.8) [Creature — Devil Warrior]\n",
      "  ✅ Added: Mind Stone (Score: 2.1) [Artifact]\n",
      "  ✅ Added: Blightning (Score: 1.5) [Sorcery]\n",
      "  ✅ Added: Guardian Idol (Score: 1.1) [Artifact]\n",
      "  ✅ Added: Prophetic Prism (Score: 1.1) [Artifact]\n",
      "  📊 Multicolor complete: 11/13 cards\n",
      "\n",
      "🎯 Multicolor phase: Gruul Aggro (2/13)\n",
      "  ✅ Added: Racers' Ring (Score: 3.8) [Land]\n",
      "  ⚠️  Skipping Bristling Backwoods: would exceed land limit\n",
      "  ⚠️  Skipping Gruul Turf: would exceed land limit\n",
      "  ⚠️  Skipping Twisted Landscape: would exceed land limit\n",
      "  ⚠️  Skipping Sheltering Landscape: would exceed land limit\n",
      "  ⚠️  Skipping Bountiful Landscape: would exceed land limit\n",
      "  ✅ Added: Goblin Anarchomancer (Score: 1.5) [Creature — Goblin Shaman]\n",
      "  ✅ Added: Burning-Tree Emissary (Score: 1.5) [Creature — Human Shaman]\n",
      "  📊 Multicolor complete: 5/13 cards\n",
      "\n",
      "🎯 Multicolor phase: Selesnya Midrange (2/13)\n",
      "  ⚠️  Below minimum creatures: 0/2 (need 2 more)\n",
      "  ✅ Added: Botanical Plaza (Score: 3.8) [Land]\n",
      "  ⚠️  Skipping Radiant Grove: would exceed land limit\n",
      "  ⚠️  Skipping Selesnya Sanctuary: would exceed land limit\n",
      "  ✅ Added: Faithful Watchdog (Score: 3.5) [Creature — Dog]\n",
      "  ✅ Added: Safehold Elite (Score: 3.5) [Creature — Elf Scout]\n",
      "  ⚠️  Skipping Tranquil Landscape: would exceed land limit\n",
      "  ⚠️  Skipping Sheltering Landscape: would exceed land limit\n",
      "  ⚠️  Skipping Deceptive Landscape: would exceed land limit\n",
      "  ✅ Added: Armadillo Cloak (Score: 1.5) [Enchantment — Aura]\n",
      "  ✅ Added: Captured by Lagacs (Score: 1.5) [Enchantment — Aura]\n",
      "  ✅ Added: Bonder's Ornament (Score: 1.1) [Artifact]\n",
      "  ✅ Added: Pristine Talisman (Score: 1.1) [Artifact]\n",
      "  📊 Multicolor complete: 9/13 cards\n",
      "\n",
      "🎯 Multicolor phase: Orzhov Midrange (2/13)\n",
      "  ✅ Added: Orzhov Basilica (Score: 3.7) [Land]\n",
      "  ⚠️  Skipping Scoured Barrens: would exceed land limit\n",
      "  ⚠️  Skipping Silverquill Campus: would exceed land limit\n",
      "  ⚠️  Skipping Contaminated Landscape: would exceed land limit\n",
      "  ⚠️  Skipping Shattered Landscape: would exceed land limit\n",
      "  ⚠️  Skipping Deceptive Landscape: would exceed land limit\n",
      "  ✅ Added: Tithe Drinker (Score: 2.0) [Creature — Vampire]\n",
      "  ✅ Added: Kingpin's Pet (Score: 2.0) [Creature — Thrull]\n",
      "  ✅ Added: Pillory of the Sleepless (Score: 1.5) [Enchantment — Aura]\n",
      "  ✅ Added: Gift of Orzhova (Score: 1.5) [Enchantment — Aura]\n",
      "  📊 Multicolor complete: 7/13 cards\n",
      "\n",
      "🎯 Multicolor phase: Izzet Tempo (2/13)\n",
      "  ✅ Added: Eroded Canyon (Score: 3.7) [Land — Desert]\n",
      "  ⚠️  Skipping Izzet Boilerworks: would exceed land limit\n",
      "  ⚠️  Skipping Prismari Campus: would exceed land limit\n",
      "  ⚠️  Skipping Seething Landscape: would exceed land limit\n",
      "  ⚠️  Skipping Bountiful Landscape: would exceed land limit\n",
      "  ⚠️  Skipping Perilous Landscape: would exceed land limit\n",
      "  ✅ Added: Bloodwater Entity (Score: 2.5) [Creature — Elemental]\n",
      "  ✅ Added: Izzet Charm (Score: 1.8) [Instant]\n",
      "  📊 Multicolor complete: 5/13 cards\n",
      "\n",
      "🎯 Multicolor phase: Golgari Midrange (2/13)\n",
      "  ⚠️  Below minimum creatures: 1/2 (need 1 more)\n",
      "  ✅ Added: Dreg Mangler (Score: 5.5) [Creature — Plant Zombie]\n",
      "  ✅ Added: Desecrator Hag (Score: 4.5) [Creature — Hag]\n",
      "  ✅ Added: Golgari Rot Farm (Score: 3.7) [Land]\n",
      "  ⚠️  Skipping Haunted Mire: would exceed land limit\n",
      "  ⚠️  Skipping Witherbloom Campus: would exceed land limit\n",
      "  ✅ Added: Putrid Leech (Score: 3.5) [Creature — Zombie Leech]\n",
      "  ⚠️  Skipping Twisted Landscape: would exceed land limit\n",
      "  ⚠️  Skipping Deceptive Landscape: would exceed land limit\n",
      "  ⚠️  Skipping Foreboding Landscape: would exceed land limit\n",
      "  ✅ Added: Infuse with Vitality (Score: 1.5) [Instant]\n",
      "  📊 Multicolor complete: 7/13 cards\n",
      "\n",
      "🎯 Multicolor phase: Boros Aggro (2/13)\n",
      "  ✅ Added: Abraded Bluffs (Score: 3.7) [Land — Desert]\n",
      "  ⚠️  Skipping Boros Garrison: would exceed land limit\n",
      "  ⚠️  Skipping Lorehold Campus: would exceed land limit\n",
      "  ⚠️  Skipping Sheltering Landscape: would exceed land limit\n",
      "  ⚠️  Skipping Shattered Landscape: would exceed land limit\n",
      "  ⚠️  Skipping Perilous Landscape: would exceed land limit\n",
      "  ✅ Added: Conduit Goblin (Score: 3.3) [Creature — Goblin Warrior]\n",
      "  ✅ Added: Dog Walker (Score: 2.8) [Creature — Human Citizen]\n",
      "  ✅ Added: Tenth District Legionnaire (Score: 2.3) [Creature — Human Soldier]\n",
      "  📊 Multicolor complete: 6/13 cards\n",
      "\n",
      "🎯 Multicolor phase: Simic Ramp (2/13)\n",
      "  ✅ Added: Quandrix Campus (Score: 3.7) [Land]\n",
      "  ⚠️  Skipping Simic Growth Chamber: would exceed land limit\n",
      "  ⚠️  Skipping Tangled Islet: would exceed land limit\n",
      "  ⚠️  Skipping Tranquil Landscape: would exceed land limit\n",
      "  ⚠️  Skipping Bountiful Landscape: would exceed land limit\n",
      "  ⚠️  Skipping Foreboding Landscape: would exceed land limit\n",
      "  📊 Multicolor complete: 3/13 cards\n",
      "\n",
      "📦 Phase 2: General card assignment\n",
      "\n",
      "🎯 General phase: White Enchantments (3/13)\n",
      "  ⚠️  Below minimum creatures: 0/2 (need 2 more)\n",
      "  ✅ Added: Cathar Commando (Score: 4.0) [Creature — Human Soldier]\n",
      "  ✅ Added: Custodi Squire (Score: 4.0) [Creature — Spirit Cleric]\n",
      "  ✅ Added: Heliod's Pilgrim (Score: 3.5) [Creature — Human Cleric]\n",
      "  ✅ Added: Petrify (Score: 3.5) [Enchantment — Aura]\n",
      "  ✅ Added: Planar Disruption (Score: 3.5) [Enchantment — Aura]\n",
      "  ✅ Added: Faith's Fetters (Score: 3.5) [Enchantment — Aura]\n",
      "  ✅ Added: Dog Umbra (Score: 3.0) [Enchantment — Aura]\n",
      "  ✅ Added: Doomed Traveler (Score: 2.5) [Creature — Human Soldier]\n",
      "  ✅ Added: Gideon's Lawkeeper (Score: 2.5) [Creature — Human Soldier]\n",
      "  ⚠️  Skipping Goldmeadow Harrier: constraint violation\n",
      "  ⚠️  Skipping Savannah Lions: constraint violation\n",
      "  ⚠️  Skipping Thraben Inspector: constraint violation\n",
      "  ⚠️  Skipping Ainok Bond-Kin: constraint violation\n",
      "  ⚠️  Skipping Kor Skyfisher: constraint violation\n",
      "  ⚠️  Skipping Phantom Nomad: constraint violation\n",
      "  ⚠️  Skipping Raffine's Informant: constraint violation\n",
      "  ⚠️  Skipping Soltari Trooper: constraint violation\n",
      "  ⚠️  Skipping Stormfront Pegasus: constraint violation\n",
      "  ⚠️  Skipping Suture Priest: constraint violation\n",
      "  ⚠️  Skipping Topan Freeblade: constraint violation\n",
      "  ⚠️  Skipping Holy Cow: constraint violation\n",
      "  ⚠️  Skipping Inspiring Overseer: constraint violation\n",
      "  ⚠️  Skipping Inspiring Paladin: constraint violation\n",
      "  ⚠️  Skipping Militia Bugler: constraint violation\n",
      "  ⚠️  Skipping Sandsteppe Outcast: constraint violation\n",
      "  ⚠️  Skipping Coalition Honor Guard: constraint violation\n",
      "  ⚠️  Skipping Combat Professor: constraint violation\n",
      "  ⚠️  Skipping Guardian of the Guildpact: constraint violation\n",
      "  ⚠️  Skipping Palace Sentinels: constraint violation\n",
      "  ⚠️  Skipping Rhox Veteran: constraint violation\n",
      "  ⚠️  Skipping Search Party Captain: constraint violation\n",
      "  ⚠️  Skipping Alabaster Host Intercessor: constraint violation\n",
      "  ⚠️  Skipping Porcelain Legionnaire: constraint violation\n",
      "  ⚠️  Skipping Thraben Charm: constraint violation\n",
      "  ⚠️  Skipping Journey to Nowhere: constraint violation\n",
      "  ⚠️  Skipping Oblivion Ring: constraint violation\n",
      "  ⚠️  Skipping Trapped in the Screen: constraint violation\n",
      "  ⚠️  Skipping Gods Willing: constraint violation\n",
      "  ✅ Added: Azorius Chancery (Score: 1.0) [Land]\n",
      "  📊 General complete: 13/13 cards\n",
      "\n",
      "🎯 General phase: White Slivers (3/13)\n",
      "  ✅ Added: Suture Priest (Score: 1.5) [Creature — Phyrexian Cleric]\n",
      "  ✅ Added: Inspiring Paladin (Score: 1.5) [Creature — Human Knight]\n",
      "  ✅ Added: Blessed Hippogriff (Score: 1.5) [Instant — Adventure]\n",
      "  ✅ Added: Combat Professor (Score: 1.5) [Creature — Bird Cleric]\n",
      "  ✅ Added: Gods Willing (Score: 1.5) [Instant]\n",
      "  ✅ Added: Tranquil Cove (Score: 1.0) [Land]\n",
      "  ⚠️  Skipping Radiant Grove: would exceed land limit\n",
      "  ⚠️  Skipping Selesnya Sanctuary: would exceed land limit\n",
      "  ⚠️  Skipping Scoured Barrens: would exceed land limit\n",
      "  ⚠️  Skipping Silverquill Campus: would exceed land limit\n",
      "  ⚠️  Skipping Boros Garrison: would exceed land limit\n",
      "  ⚠️  Skipping Lorehold Campus: would exceed land limit\n",
      "  ⚠️  Skipping Tranquil Landscape: would exceed land limit\n",
      "  ⚠️  Skipping Contaminated Landscape: would exceed land limit\n",
      "  ⚠️  Skipping Sheltering Landscape: would exceed land limit\n",
      "  ⚠️  Skipping Shattered Landscape: would exceed land limit\n",
      "  ⚠️  Skipping Deceptive Landscape: would exceed land limit\n",
      "  ⚠️  Skipping Perilous Landscape: would exceed land limit\n",
      "  ✅ Added: Goldmeadow Harrier (Score: 0.5) [Creature — Kithkin Soldier]\n",
      "  ✅ Added: Savannah Lions (Score: 0.5) [Creature — Cat]\n",
      "  ✅ Added: Thraben Inspector (Score: 0.5) [Creature — Human Soldier]\n",
      "  ✅ Added: Ainok Bond-Kin (Score: 0.5) [Creature — Dog Soldier]\n",
      "  📊 General complete: 13/13 cards\n",
      "\n",
      "🎯 General phase: White Tribals (4/13)\n",
      "  ✅ Added: Militia Bugler (Score: 5.3) [Creature — Human Soldier]\n",
      "  ✅ Added: Soltari Trooper (Score: 4.3) [Creature — Soltari Soldier]\n",
      "  ✅ Added: Topan Freeblade (Score: 4.3) [Creature — Human Soldier]\n",
      "  ✅ Added: Rhox Veteran (Score: 4.3) [Creature — Rhino Soldier]\n",
      "  ✅ Added: Search Party Captain (Score: 4.3) [Creature — Human Soldier]\n",
      "  ✅ Added: Kor Skyfisher (Score: 3.8) [Creature — Kor Soldier]\n",
      "  ⚠️  Skipping Palace Sentinels: would exceed creature limit (9/9)\n",
      "  ⚠️  Skipping Porcelain Legionnaire: would exceed creature limit (9/9)\n",
      "  ⚠️  Skipping Phantom Nomad: would exceed creature limit (9/9)\n",
      "  ⚠️  Skipping Raffine's Informant: would exceed creature limit (9/9)\n",
      "  ⚠️  Skipping Holy Cow: would exceed creature limit (9/9)\n",
      "  ⚠️  Skipping Inspiring Overseer: would exceed creature limit (9/9)\n",
      "  ⚠️  Skipping Sandsteppe Outcast: would exceed creature limit (9/9)\n",
      "  ⚠️  Skipping Alabaster Host Intercessor: would exceed creature limit (9/9)\n",
      "  ✅ Added: Imperial Oath (Score: 2.5) [Sorcery]\n",
      "  ✅ Added: Journey to Nowhere (Score: 2.5) [Enchantment]\n",
      "  ⚠️  Skipping Trapped in the Screen: constraint violation\n",
      "  ⚠️  Skipping You Hear Something on Watch: constraint violation\n",
      "  ⚠️  Skipping Stormfront Pegasus: would exceed creature limit (9/9)\n",
      "  ⚠️  Skipping Coalition Honor Guard: would exceed creature limit (9/9)\n",
      "  ⚠️  Skipping Guardian of the Guildpact: would exceed creature limit (9/9)\n",
      "  ⚠️  Skipping Ardenvale Tactician: constraint violation\n",
      "  ⚠️  Skipping Pegasus Guardian: constraint violation\n",
      "  ⚠️  Skipping Ephemerate: constraint violation\n",
      "  ⚠️  Skipping Thraben Charm: constraint violation\n",
      "  ⚠️  Skipping Prismatic Strands: constraint violation\n",
      "  ⚠️  Skipping Sunlance: constraint violation\n",
      "  ⚠️  Skipping Settle Beyond Reality: constraint violation\n",
      "  ⚠️  Skipping Triplicate Spirits: constraint violation\n",
      "  ⚠️  Skipping Oblivion Ring: constraint violation\n",
      "  ⚠️  Skipping Momentary Blink: constraint violation\n",
      "  ⚠️  Skipping Dauntless Unity: constraint violation\n",
      "  ⚠️  Skipping Unbounded Potential: constraint violation\n",
      "  ⚠️  Skipping Borrowed Grace: constraint violation\n",
      "  ⚠️  Skipping Rally the Peasants: constraint violation\n",
      "  ✅ Added: Radiant Grove (Score: 1.0) [Land — Forest Plains]\n",
      "  📊 General complete: 13/13 cards\n",
      "\n",
      "🎯 General phase: White Voltron (3/13)\n",
      "  ⚠️  Below minimum creatures: 0/2 (need 2 more)\n",
      "  ✅ Added: Guardian of the Guildpact (Score: 3.5) [Creature — Spirit]\n",
      "  ✅ Added: Phantom Nomad (Score: 2.5) [Creature — Spirit Nomad]\n",
      "  ✅ Added: Raffine's Informant (Score: 2.5) [Creature — Human Wizard]\n",
      "  ✅ Added: Stormfront Pegasus (Score: 2.5) [Creature — Pegasus]\n",
      "  ✅ Added: Holy Cow (Score: 2.5) [Creature — Ox Angel]\n",
      "  ✅ Added: Inspiring Overseer (Score: 2.5) [Creature — Angel Cleric]\n",
      "  ✅ Added: Sandsteppe Outcast (Score: 2.5) [Creature — Human Warrior]\n",
      "  ✅ Added: Coalition Honor Guard (Score: 2.5) [Creature — Human Flagbearer]\n",
      "  ✅ Added: Palace Sentinels (Score: 2.5) [Creature — Human Soldier]\n",
      "  ⚠️  Skipping Alabaster Host Intercessor: would exceed creature limit (9/9)\n",
      "  ⚠️  Skipping Porcelain Legionnaire: would exceed creature limit (9/9)\n",
      "  ⚠️  Skipping Thraben Charm: constraint violation\n",
      "  ⚠️  Skipping Oblivion Ring: constraint violation\n",
      "  ⚠️  Skipping Trapped in the Screen: constraint violation\n",
      "  ✅ Added: Selesnya Sanctuary (Score: 1.0) [Land]\n",
      "  📊 General complete: 13/13 cards\n",
      "\n",
      "🎯 General phase: Blue Tribals (3/13)\n",
      "  ✅ Added: Serum Visionary (Score: 4.8) [Creature — Vedalken Wizard]\n",
      "  ✅ Added: Exclude (Score: 4.3) [Instant]\n",
      "  ✅ Added: Faerie Seer (Score: 3.8) [Creature — Faerie Wizard]\n",
      "  ✅ Added: Frost Trickster (Score: 3.8) [Creature — Bird Wizard]\n",
      "  ✅ Added: Winter Eladrin (Score: 3.8) [Creature — Faerie Elf Wizard]\n",
      "  ✅ Added: Mulldrifter (Score: 3.8) [Creature — Elemental]\n",
      "  ✅ Added: Young Blue Dragon (Score: 3.8) [Sorcery — Adventure]\n",
      "  ✅ Added: Phantom Interference (Score: 3.8) [Instant]\n",
      "  ✅ Added: Remove Soul (Score: 3.8) [Instant]\n",
      "  ⚠️  Skipping Hard Evidence: constraint violation\n",
      "  ⚠️  Skipping Mocking Sprite: constraint violation\n",
      "  ⚠️  Skipping Looter il-Kor: constraint violation\n",
      "  ⚠️  Skipping Merfolk Looter: constraint violation\n",
      "  ⚠️  Skipping Eldrazi Skyspawner: constraint violation\n",
      "  ⚠️  Skipping Man-o'-War: constraint violation\n",
      "  ⚠️  Skipping Pestermite: constraint violation\n",
      "  ⚠️  Skipping Preening Champion: constraint violation\n",
      "  ⚠️  Skipping Vizier of Tumbling Sands: constraint violation\n",
      "  ⚠️  Skipping Warden of Evos Isle: constraint violation\n",
      "  ⚠️  Skipping Mist Raven: constraint violation\n",
      "  ⚠️  Skipping Ninja of the Deep Hours: constraint violation\n",
      "  ⚠️  Skipping Peregrine Drake: constraint violation\n",
      "  ⚠️  Skipping Aethersnipe: constraint violation\n",
      "  ⚠️  Skipping Mirrorshell Crab: constraint violation\n",
      "  ⚠️  Skipping Striped Riverwinder: constraint violation\n",
      "  ⚠️  Skipping Sword Coast Serpent: constraint violation\n",
      "  ⚠️  Skipping Brainstorm: constraint violation\n",
      "  ⚠️  Skipping Condescend: constraint violation\n",
      "  ⚠️  Skipping Counterspell: constraint violation\n",
      "  ⚠️  Skipping Mana Leak: constraint violation\n",
      "  ⚠️  Skipping Quick Study: constraint violation\n",
      "  ⚠️  Skipping Behold the Multiverse: constraint violation\n",
      "  ⚠️  Skipping Preordain: constraint violation\n",
      "  ⚠️  Skipping Serum Visions: constraint violation\n",
      "  ⚠️  Skipping Lórien Revealed: constraint violation\n",
      "  ⚠️  Skipping Bubble Snare: constraint violation\n",
      "  ⚠️  Skipping Weakstone's Subjugation: constraint violation\n",
      "  ⚠️  Skipping Opt: constraint violation\n",
      "  ⚠️  Skipping Displace: constraint violation\n",
      "  ⚠️  Skipping Ghostly Flicker: constraint violation\n",
      "  ⚠️  Skipping Ponder: constraint violation\n",
      "  ⚠️  Skipping Compulsive Research: constraint violation\n",
      "  ⚠️  Skipping Deep Analysis: constraint violation\n",
      "  ⚠️  Skipping Treasure Cruise: constraint violation\n",
      "  ⚠️  Skipping Gitaxian Probe: constraint violation\n",
      "  ⚠️  Skipping Zephyr Winder: constraint violation\n",
      "  ⚠️  Skipping Geyser Drake: constraint violation\n",
      "  ⚠️  Skipping Impulse: constraint violation\n",
      "  ⚠️  Skipping Capsize: constraint violation\n",
      "  ⚠️  Skipping Unable to Scream: constraint violation\n",
      "  ⚠️  Skipping Witness Protection: constraint violation\n",
      "  ✅ Added: Mystic Sanctuary (Score: 1.0) [Land — Island]\n",
      "  📊 General complete: 13/13 cards\n",
      "\n",
      "🎯 General phase: Blue Tempo (5/13)\n",
      "  ⚠️  Below minimum creatures: 1/2 (need 1 more)\n",
      "  ✅ Added: Looter il-Kor (Score: 5.0) [Creature — Kor Rogue]\n",
      "  ✅ Added: Merfolk Looter (Score: 5.0) [Creature — Merfolk Rogue]\n",
      "  ✅ Added: Zephyr Winder (Score: 5.0) [Creature — Elemental]\n",
      "  ✅ Added: Pestermite (Score: 5.0) [Creature — Faerie Rogue]\n",
      "  ✅ Added: Ninja of the Deep Hours (Score: 5.0) [Creature — Human Ninja]\n",
      "  ✅ Added: Man-o'-War (Score: 4.0) [Creature — Jellyfish]\n",
      "  ✅ Added: Vizier of Tumbling Sands (Score: 4.0) [Creature — Human Cleric]\n",
      "  ⚠️  Skipping Mist Raven: constraint violation\n",
      "  ⚠️  Skipping Aethersnipe: constraint violation\n",
      "  ⚠️  Skipping Mirrorshell Crab: constraint violation\n",
      "  ⚠️  Skipping Striped Riverwinder: constraint violation\n",
      "  ⚠️  Skipping Eldrazi Skyspawner: constraint violation\n",
      "  ⚠️  Skipping Geyser Drake: constraint violation\n",
      "  ⚠️  Skipping Mocking Sprite: constraint violation\n",
      "  ⚠️  Skipping Preening Champion: constraint violation\n",
      "  ⚠️  Skipping Warden of Evos Isle: constraint violation\n",
      "  ⚠️  Skipping Peregrine Drake: constraint violation\n",
      "  ⚠️  Skipping Brainstorm: constraint violation\n",
      "  ⚠️  Skipping Condescend: constraint violation\n",
      "  ⚠️  Skipping Counterspell: constraint violation\n",
      "  ⚠️  Skipping Mana Leak: constraint violation\n",
      "  ⚠️  Skipping Hard Evidence: constraint violation\n",
      "  ⚠️  Skipping Preordain: constraint violation\n",
      "  ⚠️  Skipping Serum Visions: constraint violation\n",
      "  ⚠️  Skipping Bubble Snare: constraint violation\n",
      "  ⚠️  Skipping Weakstone's Subjugation: constraint violation\n",
      "  ⚠️  Skipping Opt: constraint violation\n",
      "  ⚠️  Skipping Ponder: constraint violation\n",
      "  ⚠️  Skipping Gitaxian Probe: constraint violation\n",
      "  ⚠️  Skipping Sword Coast Serpent: constraint violation\n",
      "  ⚠️  Skipping Impulse: constraint violation\n",
      "  ⚠️  Skipping Displace: constraint violation\n",
      "  ⚠️  Skipping Ghostly Flicker: constraint violation\n",
      "  ⚠️  Skipping Quick Study: constraint violation\n",
      "  ⚠️  Skipping Behold the Multiverse: constraint violation\n",
      "  ⚠️  Skipping Deep Analysis: constraint violation\n",
      "  ⚠️  Skipping Lórien Revealed: constraint violation\n",
      "  ⚠️  Skipping Unable to Scream: constraint violation\n",
      "  ⚠️  Skipping Witness Protection: constraint violation\n",
      "  ⚠️  Skipping Capsize: constraint violation\n",
      "  ⚠️  Skipping Compulsive Research: constraint violation\n",
      "  ⚠️  Skipping Treasure Cruise: constraint violation\n",
      "  ✅ Added: Dimir Aqueduct (Score: 1.0) [Land]\n",
      "  📊 General complete: 13/13 cards\n",
      "\n",
      "🎯 General phase: Blue Spellslinger (5/13)\n",
      "  ✅ Added: Capsize (Score: 3.8) [Instant]\n",
      "  ✅ Added: Mocking Sprite (Score: 3.5) [Creature — Faerie Rogue]\n",
      "  ✅ Added: Treasure Cruise (Score: 3.3) [Sorcery]\n",
      "  ✅ Added: Sword Coast Serpent (Score: 2.8) [Instant — Adventure]\n",
      "  ✅ Added: Condescend (Score: 2.8) [Instant]\n",
      "  ✅ Added: Counterspell (Score: 2.8) [Instant]\n",
      "  ✅ Added: Mana Leak (Score: 2.8) [Instant]\n",
      "  ⚠️  Skipping Behold the Multiverse: constraint violation\n",
      "  ⚠️  Skipping Deep Analysis: constraint violation\n",
      "  ⚠️  Skipping Aethersnipe: constraint violation\n",
      "  ⚠️  Skipping Bubble Snare: constraint violation\n",
      "  ⚠️  Skipping Brainstorm: constraint violation\n",
      "  ⚠️  Skipping Geyser Drake: constraint violation\n",
      "  ⚠️  Skipping Warden of Evos Isle: constraint violation\n",
      "  ⚠️  Skipping Opt: constraint violation\n",
      "  ⚠️  Skipping Impulse: constraint violation\n",
      "  ⚠️  Skipping Displace: constraint violation\n",
      "  ⚠️  Skipping Ghostly Flicker: constraint violation\n",
      "  ⚠️  Skipping Quick Study: constraint violation\n",
      "  ⚠️  Skipping Hard Evidence: constraint violation\n",
      "  ⚠️  Skipping Ponder: constraint violation\n",
      "  ⚠️  Skipping Preordain: constraint violation\n",
      "  ⚠️  Skipping Serum Visions: constraint violation\n",
      "  ⚠️  Skipping Compulsive Research: constraint violation\n",
      "  ⚠️  Skipping Lórien Revealed: constraint violation\n",
      "  ⚠️  Skipping Gitaxian Probe: constraint violation\n",
      "  ⚠️  Skipping Mirrorshell Crab: constraint violation\n",
      "  ⚠️  Skipping Striped Riverwinder: constraint violation\n",
      "  ✅ Added: Dismal Backwater (Score: 1.0) [Land]\n",
      "  📊 General complete: 13/13 cards\n",
      "\n",
      "🎯 General phase: Blue Mill (3/13)\n",
      "  ✅ Added: Brainstorm (Score: 1.5) [Instant]\n",
      "  ✅ Added: Opt (Score: 1.5) [Instant]\n",
      "  ✅ Added: Impulse (Score: 1.5) [Instant]\n",
      "  ✅ Added: Ponder (Score: 1.5) [Sorcery]\n",
      "  ✅ Added: Preordain (Score: 1.5) [Sorcery]\n",
      "  ✅ Added: Lórien Revealed (Score: 1.5) [Sorcery]\n",
      "  ✅ Added: Izzet Boilerworks (Score: 1.0) [Land]\n",
      "  ⚠️  Skipping Prismari Campus: would exceed land limit\n",
      "  ⚠️  Skipping Simic Growth Chamber: would exceed land limit\n",
      "  ⚠️  Skipping Tangled Islet: would exceed land limit\n",
      "  ⚠️  Skipping Tranquil Landscape: would exceed land limit\n",
      "  ⚠️  Skipping Contaminated Landscape: would exceed land limit\n",
      "  ⚠️  Skipping Seething Landscape: would exceed land limit\n",
      "  ⚠️  Skipping Bountiful Landscape: would exceed land limit\n",
      "  ⚠️  Skipping Perilous Landscape: would exceed land limit\n",
      "  ⚠️  Skipping Foreboding Landscape: would exceed land limit\n",
      "  ✅ Added: Eldrazi Skyspawner (Score: 0.5) [Creature — Eldrazi Drone]\n",
      "  ✅ Added: Geyser Drake (Score: 0.5) [Creature — Drake]\n",
      "  ✅ Added: Preening Champion (Score: 0.5) [Creature — Bird Knight]\n",
      "  📊 General complete: 13/13 cards\n",
      "\n",
      "🎯 General phase: Black Tribals (3/13)\n",
      "  ✅ Added: Gravedigger (Score: 5.8) [Creature — Zombie]\n",
      "  ✅ Added: Blood Fountain (Score: 5.5) [Artifact]\n",
      "  ✅ Added: First-Sphere Gargantua (Score: 4.8) [Creature — Phyrexian Horror]\n",
      "  ✅ Added: Grim Bauble (Score: 4.5) [Artifact]\n",
      "  ✅ Added: Accursed Marauder (Score: 4.3) [Creature — Zombie Warrior]\n",
      "  ✅ Added: Nested Shambler (Score: 3.8) [Creature — Zombie]\n",
      "  ✅ Added: Faceless Butcher (Score: 3.8) [Creature — Nightmare Horror]\n",
      "  ✅ Added: Gray Merchant of Asphodel (Score: 3.8) [Creature — Zombie]\n",
      "  ⚠️  Skipping Loathsome Curator: would exceed creature limit (9/9)\n",
      "  ⚠️  Skipping Gurmag Angler: would exceed creature limit (9/9)\n",
      "  ✅ Added: Undying Malice (Score: 3.5) [Instant]\n",
      "  ⚠️  Skipping Death Denied: constraint violation\n",
      "  ⚠️  Skipping Unearth: constraint violation\n",
      "  ⚠️  Skipping Tortured Existence: constraint violation\n",
      "  ⚠️  Skipping Carrion Feeder: would exceed creature limit (9/9)\n",
      "  ⚠️  Skipping Grasping Scoundrel: would exceed creature limit (9/9)\n",
      "  ⚠️  Skipping Plagued Rusalka: would exceed creature limit (9/9)\n",
      "  ⚠️  Skipping Unwilling Ingredient: would exceed creature limit (9/9)\n",
      "  ⚠️  Skipping Aether Poisoner: would exceed creature limit (9/9)\n",
      "  ⚠️  Skipping Gixian Infiltrator: would exceed creature limit (9/9)\n",
      "  ⚠️  Skipping Guildsworn Prowler: would exceed creature limit (9/9)\n",
      "  ⚠️  Skipping Mardu Skullhunter: would exceed creature limit (9/9)\n",
      "  ⚠️  Skipping Phyrexian Rager: would exceed creature limit (9/9)\n",
      "  ⚠️  Skipping Falkenrath Noble: would exceed creature limit (9/9)\n",
      "  ⚠️  Skipping Scurrilous Sentry: would exceed creature limit (9/9)\n",
      "  ⚠️  Skipping Thorn of the Black Rose: would exceed creature limit (9/9)\n",
      "  ⚠️  Skipping Okiba-Gang Shinobi: would exceed creature limit (9/9)\n",
      "  ⚠️  Skipping Vampire Sovereign: would exceed creature limit (9/9)\n",
      "  ⚠️  Skipping Chitin Gravestalker: would exceed creature limit (9/9)\n",
      "  ⚠️  Skipping Gift of Fangs: constraint violation\n",
      "  ⚠️  Skipping Pestilence: constraint violation\n",
      "  ⚠️  Skipping Ecstatic Awakener: would exceed creature limit (9/9)\n",
      "  ⚠️  Skipping Vampire Lacerator: would exceed creature limit (9/9)\n",
      "  ⚠️  Skipping Dauthi Horror: would exceed creature limit (9/9)\n",
      "  ⚠️  Skipping Dauthi Slayer: would exceed creature limit (9/9)\n",
      "  ⚠️  Skipping Crypt Rats: would exceed creature limit (9/9)\n",
      "  ⚠️  Skipping Bone Picker: would exceed creature limit (9/9)\n",
      "  ⚠️  Skipping Troll of Khazad-dûm: would exceed creature limit (9/9)\n",
      "  ⚠️  Skipping Vault Skirge: would exceed creature limit (9/9)\n",
      "  ⚠️  Skipping Disfigure: constraint violation\n",
      "  ⚠️  Skipping Tragic Slip: constraint violation\n",
      "  ⚠️  Skipping Vendetta: constraint violation\n",
      "  ⚠️  Skipping Cast Down: constraint violation\n",
      "  ⚠️  Skipping Doom Blade: constraint violation\n",
      "  ⚠️  Skipping Go for the Throat: constraint violation\n",
      "  ⚠️  Skipping Feed the Swarm: constraint violation\n",
      "  ⚠️  Skipping Ransack the Lab: constraint violation\n",
      "  ⚠️  Skipping Clawing Torment: constraint violation\n",
      "  ⚠️  Skipping Ashes to Ashes: constraint violation\n",
      "  ⚠️  Skipping Arms of Hadar: constraint violation\n",
      "  ✅ Added: Witch's Cottage (Score: 1.0) [Land — Swamp]\n",
      "  📊 General complete: 13/13 cards\n",
      "\n",
      "🎯 General phase: Black Aristocrats (3/13)\n",
      "  ✅ Added: Aether Poisoner (Score: 3.0) [Creature — Human Artificer]\n",
      "  ✅ Added: Guildsworn Prowler (Score: 3.0) [Creature — Tiefling Rogue Assassin]\n",
      "  ✅ Added: Falkenrath Noble (Score: 2.5) [Creature — Vampire Noble]\n",
      "  ✅ Added: Plagued Rusalka (Score: 1.5) [Creature — Spirit]\n",
      "  ✅ Added: Gixian Infiltrator (Score: 1.5) [Creature — Phyrexian Human]\n",
      "  ✅ Added: Loathsome Curator (Score: 1.5) [Creature — Gorgon Wizard]\n",
      "  ✅ Added: Death Denied (Score: 1.5) [Instant — Arcane]\n",
      "  ✅ Added: Pestilence (Score: 1.5) [Enchantment]\n",
      "  ⚠️  Skipping Carrion Feeder: would exceed creature limit (9/9)\n",
      "  ⚠️  Skipping Bone Picker: would exceed creature limit (9/9)\n",
      "  ⚠️  Skipping Thorn of the Black Rose: would exceed creature limit (9/9)\n",
      "  ✅ Added: Jagged Barrens (Score: 1.0) [Land — Desert]\n",
      "  ⚠️  Skipping Rakdos Carnarium: would exceed land limit\n",
      "  ⚠️  Skipping Scoured Barrens: would exceed land limit\n",
      "  ⚠️  Skipping Silverquill Campus: would exceed land limit\n",
      "  ⚠️  Skipping Haunted Mire: would exceed land limit\n",
      "  ⚠️  Skipping Witherbloom Campus: would exceed land limit\n",
      "  ⚠️  Skipping Contaminated Landscape: would exceed land limit\n",
      "  ⚠️  Skipping Seething Landscape: would exceed land limit\n",
      "  ⚠️  Skipping Twisted Landscape: would exceed land limit\n",
      "  ⚠️  Skipping Shattered Landscape: would exceed land limit\n",
      "  ⚠️  Skipping Deceptive Landscape: would exceed land limit\n",
      "  ⚠️  Skipping Foreboding Landscape: would exceed land limit\n",
      "  ⚠️  Skipping Ecstatic Awakener: would exceed creature limit (9/9)\n",
      "  ⚠️  Skipping Grasping Scoundrel: would exceed creature limit (9/9)\n",
      "  ⚠️  Skipping Unwilling Ingredient: would exceed creature limit (9/9)\n",
      "  ⚠️  Skipping Vampire Lacerator: would exceed creature limit (9/9)\n",
      "  ⚠️  Skipping Dauthi Horror: would exceed creature limit (9/9)\n",
      "  ⚠️  Skipping Dauthi Slayer: would exceed creature limit (9/9)\n",
      "  ⚠️  Skipping Mardu Skullhunter: would exceed creature limit (9/9)\n",
      "  ⚠️  Skipping Crypt Rats: would exceed creature limit (9/9)\n",
      "  ⚠️  Skipping Phyrexian Rager: would exceed creature limit (9/9)\n",
      "  ⚠️  Skipping Scurrilous Sentry: would exceed creature limit (9/9)\n",
      "  ⚠️  Skipping Okiba-Gang Shinobi: would exceed creature limit (9/9)\n",
      "  ⚠️  Skipping Vampire Sovereign: would exceed creature limit (9/9)\n",
      "  ⚠️  Skipping Chitin Gravestalker: would exceed creature limit (9/9)\n",
      "  ⚠️  Skipping Troll of Khazad-dûm: would exceed creature limit (9/9)\n",
      "  ⚠️  Skipping Gurmag Angler: would exceed creature limit (9/9)\n",
      "  ✅ Added: Disfigure (Score: 0.5) [Instant]\n",
      "  📊 General complete: 13/13 cards\n",
      "\n",
      "🎯 General phase: Black Tempo (3/13)\n",
      "  ✅ Added: Unearth (Score: 3.8) [Sorcery]\n",
      "  ✅ Added: Carrion Feeder (Score: 3.5) [Creature — Zombie]\n",
      "  ✅ Added: Unwilling Ingredient (Score: 3.5) [Creature — Frog]\n",
      "  ✅ Added: Mardu Skullhunter (Score: 3.0) [Creature — Human Warrior]\n",
      "  ✅ Added: Night's Whisper (Score: 2.8) [Sorcery]\n",
      "  ✅ Added: Ecstatic Awakener (Score: 2.5) [Creature — Demon]\n",
      "  ✅ Added: Grasping Scoundrel (Score: 2.5) [Creature — Human Pirate]\n",
      "  ✅ Added: Vampire Lacerator (Score: 2.5) [Creature — Vampire Warrior]\n",
      "  ✅ Added: Dauthi Horror (Score: 2.5) [Creature — Dauthi Horror]\n",
      "  ⚠️  Skipping Dauthi Slayer: would exceed creature limit (9/9)\n",
      "  ⚠️  Skipping Scurrilous Sentry: would exceed creature limit (9/9)\n",
      "  ⚠️  Skipping Tortured Existence: constraint violation\n",
      "  ⚠️  Skipping Phyrexian Rager: would exceed creature limit (9/9)\n",
      "  ⚠️  Skipping Okiba-Gang Shinobi: would exceed creature limit (9/9)\n",
      "  ⚠️  Skipping Chitin Gravestalker: would exceed creature limit (9/9)\n",
      "  ⚠️  Skipping Vault Skirge: would exceed creature limit (9/9)\n",
      "  ⚠️  Skipping Tragic Slip: constraint violation\n",
      "  ⚠️  Skipping Vendetta: constraint violation\n",
      "  ⚠️  Skipping Cast Down: constraint violation\n",
      "  ⚠️  Skipping Doom Blade: constraint violation\n",
      "  ⚠️  Skipping Go for the Throat: constraint violation\n",
      "  ⚠️  Skipping Feed the Swarm: constraint violation\n",
      "  ⚠️  Skipping Ransack the Lab: constraint violation\n",
      "  ⚠️  Skipping Troll of Khazad-dûm: would exceed creature limit (9/9)\n",
      "  ⚠️  Skipping Tithing Blade: constraint violation\n",
      "  ⚠️  Skipping Clawing Torment: constraint violation\n",
      "  ⚠️  Skipping Gift of Fangs: constraint violation\n",
      "  ⚠️  Skipping Bone Picker: would exceed creature limit (9/9)\n",
      "  ✅ Added: Rakdos Carnarium (Score: 1.0) [Land]\n",
      "  📊 General complete: 13/13 cards\n",
      "\n",
      "🎯 General phase: Black Spellslinger (3/13)\n",
      "  ⚠️  Below minimum creatures: 0/2 (need 2 more)\n",
      "  ✅ Added: Bone Picker (Score: 4.5) [Creature — Bird]\n",
      "  ✅ Added: Chitin Gravestalker (Score: 4.5) [Creature — Insect Warrior]\n",
      "  ✅ Added: Gurmag Angler (Score: 4.0) [Creature — Zombie Fish]\n",
      "  ✅ Added: Cast Down (Score: 2.8) [Instant]\n",
      "  ✅ Added: Dauthi Slayer (Score: 2.5) [Creature — Dauthi Soldier]\n",
      "  ✅ Added: Crypt Rats (Score: 2.5) [Creature — Rat]\n",
      "  ✅ Added: Phyrexian Rager (Score: 2.5) [Creature — Phyrexian Horror]\n",
      "  ✅ Added: Scurrilous Sentry (Score: 2.5) [Creature — Human Knight Rogue]\n",
      "  ✅ Added: Thorn of the Black Rose (Score: 2.5) [Creature — Human Assassin]\n",
      "  ⚠️  Skipping Okiba-Gang Shinobi: constraint violation\n",
      "  ⚠️  Skipping Vampire Sovereign: constraint violation\n",
      "  ⚠️  Skipping Troll of Khazad-dûm: constraint violation\n",
      "  ⚠️  Skipping Vault Skirge: constraint violation\n",
      "  ⚠️  Skipping Tragic Slip: constraint violation\n",
      "  ⚠️  Skipping Vendetta: constraint violation\n",
      "  ⚠️  Skipping Doom Blade: constraint violation\n",
      "  ⚠️  Skipping Go for the Throat: constraint violation\n",
      "  ⚠️  Skipping Feed the Swarm: constraint violation\n",
      "  ⚠️  Skipping Ransack the Lab: constraint violation\n",
      "  ⚠️  Skipping Ashes to Ashes: constraint violation\n",
      "  ⚠️  Skipping Arms of Hadar: constraint violation\n",
      "  ✅ Added: Scoured Barrens (Score: 1.0) [Land]\n",
      "  📊 General complete: 13/13 cards\n",
      "\n",
      "🎯 General phase: Red Tribals (3/13)\n"
     ]
    }
   ],
   "source": [
    "# Test the refactored deck construction function\n",
    "\n",
    "# Build all jumpstart decks using the new refactored version\n",
    "from jumpstart.src.construct import construct_jumpstart_decks, print_detailed_deck_analysis, CardConstraints, analyze_deck_composition\n",
    "\n",
    "# Create constraints with custom target deck size and non-land limits\n",
    "constraints = CardConstraints(\n",
    "    target_deck_size=13,\n",
    "    max_lands_dual=1,\n",
    "    max_lands_mono=1,\n",
    "    total_non_land=12,  # All 12 cards should be non-lands\n",
    "    min_creatures=2,  # Set minimum to 4 for testing\n",
    "    max_creatures=9\n",
    ")\n",
    "\n",
    "print(\"🚀 Starting deck construction with refactored algorithm...\")\n",
    "# deck_dataframes = construct_jumpstart_decks(oracle_df, constraints=constraints, themes=ALL_THEMES)\n",
    "deck_dataframes = construct_jumpstart_decks(oracle_df, constraints=constraints, themes=generated_themes)\n",
    "\n",
    "# Generate analysis first, then print detailed analysis\n",
    "analysis = analyze_deck_composition(deck_dataframes)\n",
    "print_detailed_deck_analysis(deck_dataframes, analysis, constraints)"
   ]
  },
  {
   "cell_type": "code",
   "execution_count": null,
   "id": "d0e2d791",
   "metadata": {},
   "outputs": [
    {
     "name": "stdout",
     "output_type": "stream",
     "text": [
      "Exporting jumpstart cube to output/generated_jumpstart_decks.csv...\n",
      "Adding 125 unassigned cards...\n",
      "✅ Successfully exported 450 cards to output/generated_jumpstart_decks.csv\n",
      "\n",
      "📊 Export Summary:\n",
      "Total cards: 450\n",
      "Assigned cards: 325\n",
      "Unassigned cards: 125\n",
      "Number of decks: 25\n",
      "\n",
      "Deck breakdown:\n",
      "  Red Burn: 13 cards\n",
      "  Green Voltron: 13 cards\n",
      "  Black Tempo: 13 cards\n",
      "  Blue Spellslinger: 13 cards\n",
      "  Red Aggro: 13 cards\n",
      "  Blue Mill: 13 cards\n",
      "  Orzhov Midrange: 13 cards\n",
      "  Rakdos Aggro: 13 cards\n",
      "  White Slivers: 13 cards\n",
      "  Izzet Tempo: 13 cards\n",
      "  Unassigned: 125 cards\n",
      "  ... and 15 more decks\n"
     ]
    },
    {
     "data": {
      "text/plain": [
       "'output/generated_jumpstart_decks.csv'"
      ]
     },
     "execution_count": 6,
     "metadata": {},
     "output_type": "execute_result"
    }
   ],
   "source": [
    "from jumpstart.src.export import export_cube_to_csv\n",
    "\n",
    "\n",
    "export_cube_to_csv(deck_dataframes, 'output/generated_jumpstart_decks.csv', oracle_df)"
   ]
  },
  {
   "cell_type": "code",
   "execution_count": null,
   "id": "26e39bda",
   "metadata": {},
   "outputs": [
    {
     "name": "stdout",
     "output_type": "stream",
     "text": [
      "🎯 COMPREHENSIVE JUMPSTART CUBE VALIDATION\n",
      "============================================================\n",
      "🔍 VALIDATING CARD UNIQUENESS\n",
      "==================================================\n",
      "📊 VALIDATION RESULTS:\n",
      "Total cards across all decks: 325\n",
      "Unique cards used: 325\n",
      "Duplicate cards found: 0\n",
      "\n",
      "✅ VALIDATION PASSED!\n",
      "All 325 cards are used exactly once.\n",
      "🔍 VALIDATING DECK CONSTRAINTS\n",
      "==================================================\n",
      "📊 CONSTRAINT VALIDATION RESULTS:\n",
      "Valid decks: 25/25\n",
      "Constraint violations: 0\n",
      "\n",
      "✅ ALL CONSTRAINTS SATISFIED!\n",
      "\n",
      "📈 CARD DISTRIBUTION ANALYSIS\n",
      "==================================================\n",
      "📊 OVERALL STATISTICS:\n",
      "Total cards available: 450\n",
      "Total cards used: 325\n",
      "Cards unused: 125\n",
      "Usage rate: 72.2%\n",
      "\n",
      "🎨 USAGE BY COLOR:\n",
      "  White    :  47/ 70 cards ( 67.1%)\n",
      "  Blue     :  60/ 67 cards ( 89.6%)\n",
      "  Black    :  50/ 67 cards ( 74.6%)\n",
      "  Red      :  50/ 67 cards ( 74.6%)\n",
      "  Green    :  56/ 67 cards ( 83.6%)\n",
      "  Colorless:  46/ 74 cards ( 62.2%)\n",
      "\n",
      "🎯 DECK COMPLETENESS:\n",
      "Complete decks (13 cards): 25\n",
      "Incomplete decks: 0\n",
      "\n",
      "📋 UNUSED CARDS ANALYSIS:\n",
      "Unused creatures: 40\n",
      "Unused lands: 28\n",
      "Unused spells: 57\n",
      "\n",
      "Sample unused cards:\n",
      "  • Aerie Auxiliary (Creature — Bird Soldier) - W\n",
      "  • Coalition Honor Guard (Creature — Human Flagbearer) - W\n",
      "  • Alabaster Host Intercessor (Creature — Phyrexian Samurai) - W\n",
      "  • Eagles of the North (Creature — Bird Soldier) - W\n",
      "  • Pegasus Guardian (Instant — Adventure) - W\n",
      "  • Ephemerate (Instant) - W\n",
      "  • Mana Tithe (Instant) - W\n",
      "  • Dauntless Unity (Instant) - W\n",
      "  • Raise the Alarm (Instant) - W\n",
      "  • Thraben Charm (Instant) - W\n",
      "\n",
      "🏆 OVERALL VALIDATION RESULT:\n",
      "✅ JUMPSTART CUBE CONSTRUCTION SUCCESSFUL!\n",
      "All constraints satisfied, no violations detected.\n"
     ]
    },
    {
     "data": {
      "text/plain": [
       "{'overall_valid': True,\n",
       " 'uniqueness': {'valid': True,\n",
       "  'total_cards': 325,\n",
       "  'unique_cards': 325,\n",
       "  'duplicates': {},\n",
       "  'duplicate_count': 0,\n",
       "  'extra_instances': 0},\n",
       " 'constraints': {'valid': True,\n",
       "  'valid_decks': 25,\n",
       "  'total_decks': 25,\n",
       "  'violations': []},\n",
       " 'distribution': {'total_available': 450,\n",
       "  'total_used': 325,\n",
       "  'unused_count': 125,\n",
       "  'usage_rate': 0.7222222222222222,\n",
       "  'color_stats': {'W': {'used': 47,\n",
       "    'available': 70,\n",
       "    'rate': 67.14285714285714},\n",
       "   'U': {'used': 60, 'available': 67, 'rate': 89.55223880597015},\n",
       "   'B': {'used': 50, 'available': 67, 'rate': 74.6268656716418},\n",
       "   'R': {'used': 50, 'available': 67, 'rate': 74.6268656716418},\n",
       "   'G': {'used': 56, 'available': 67, 'rate': 83.5820895522388},\n",
       "   'C': {'used': 46, 'available': 74, 'rate': 62.16216216216216}},\n",
       "  'complete_decks': 25,\n",
       "  'incomplete_decks': []}}"
      ]
     },
     "execution_count": 7,
     "metadata": {},
     "output_type": "execute_result"
    }
   ],
   "source": [
    "# Import validation functions and run card uniqueness validation\n",
    "from jumpstart.src.validation import validate_card_uniqueness, validate_deck_constraints, validate_jumpstart_cube, display_validation_summary\n",
    "\n",
    "# Run the validation\n",
    "# validation_result = validate_card_uniqueness(deck_dataframes)\n",
    "validate_jumpstart_cube(deck_dataframes, oracle_df, ALL_THEMES, constraints)"
   ]
  },
  {
   "cell_type": "code",
   "execution_count": null,
   "id": "b9729d05",
   "metadata": {},
   "outputs": [
    {
     "name": "stdout",
     "output_type": "stream",
     "text": [
      "\n",
      "📈 CARD DISTRIBUTION ANALYSIS\n",
      "==================================================\n",
      "📊 OVERALL STATISTICS:\n",
      "Total cards available: 450\n",
      "Total cards used: 325\n",
      "Cards unused: 125\n",
      "Usage rate: 72.2%\n",
      "\n",
      "🎨 USAGE BY COLOR:\n",
      "  White    :  47/ 70 cards ( 67.1%)\n",
      "  Blue     :  60/ 67 cards ( 89.6%)\n",
      "  Black    :  50/ 67 cards ( 74.6%)\n",
      "  Red      :  50/ 67 cards ( 74.6%)\n",
      "  Green    :  56/ 67 cards ( 83.6%)\n",
      "  Colorless:  46/ 74 cards ( 62.2%)\n",
      "\n",
      "🎯 DECK COMPLETENESS:\n",
      "Complete decks (13 cards): 25\n",
      "Incomplete decks: 0\n",
      "\n",
      "📋 UNUSED CARDS ANALYSIS:\n",
      "Unused creatures: 40\n",
      "Unused lands: 28\n",
      "Unused spells: 57\n",
      "\n",
      "Sample unused cards:\n",
      "  • Aerie Auxiliary (Creature — Bird Soldier) - W\n",
      "  • Coalition Honor Guard (Creature — Human Flagbearer) - W\n",
      "  • Alabaster Host Intercessor (Creature — Phyrexian Samurai) - W\n",
      "  • Eagles of the North (Creature — Bird Soldier) - W\n",
      "  • Pegasus Guardian (Instant — Adventure) - W\n",
      "  • Ephemerate (Instant) - W\n",
      "  • Mana Tithe (Instant) - W\n",
      "  • Dauntless Unity (Instant) - W\n",
      "  • Raise the Alarm (Instant) - W\n",
      "  • Thraben Charm (Instant) - W\n"
     ]
    }
   ],
   "source": [
    "# Additional analysis using the imported validation functions\n",
    "from jumpstart.src.validation import analyze_card_distribution\n",
    "\n",
    "# Run the distribution analysis\n",
    "distribution_analysis = analyze_card_distribution(deck_dataframes, oracle_df, constraints)"
   ]
  },
  {
   "cell_type": "code",
   "execution_count": null,
   "id": "c728eb3c",
   "metadata": {},
   "outputs": [
    {
     "data": {
      "text/html": [
       "<div>\n",
       "<style scoped>\n",
       "    .dataframe tbody tr th:only-of-type {\n",
       "        vertical-align: middle;\n",
       "    }\n",
       "\n",
       "    .dataframe tbody tr th {\n",
       "        vertical-align: top;\n",
       "    }\n",
       "\n",
       "    .dataframe thead th {\n",
       "        text-align: right;\n",
       "    }\n",
       "</style>\n",
       "<table border=\"1\" class=\"dataframe\">\n",
       "  <thead>\n",
       "    <tr style=\"text-align: right;\">\n",
       "      <th></th>\n",
       "      <th>avg_cmc</th>\n",
       "      <th>keyword_density</th>\n",
       "      <th>archetype_alignment</th>\n",
       "      <th>card_quality</th>\n",
       "      <th>synergy</th>\n",
       "      <th>deck_size</th>\n",
       "      <th>type_artifact</th>\n",
       "      <th>type_equipment</th>\n",
       "      <th>type_enchantment</th>\n",
       "      <th>type_aura</th>\n",
       "      <th>...</th>\n",
       "      <th>type_myr</th>\n",
       "      <th>type_thrull</th>\n",
       "      <th>type_fox</th>\n",
       "      <th>type_juggernaut</th>\n",
       "      <th>type_vehicle</th>\n",
       "      <th>type_hag</th>\n",
       "      <th>type_leech</th>\n",
       "      <th>type_mutant</th>\n",
       "      <th>type_crab</th>\n",
       "      <th>type_turtle</th>\n",
       "    </tr>\n",
       "    <tr>\n",
       "      <th>theme</th>\n",
       "      <th></th>\n",
       "      <th></th>\n",
       "      <th></th>\n",
       "      <th></th>\n",
       "      <th></th>\n",
       "      <th></th>\n",
       "      <th></th>\n",
       "      <th></th>\n",
       "      <th></th>\n",
       "      <th></th>\n",
       "      <th></th>\n",
       "      <th></th>\n",
       "      <th></th>\n",
       "      <th></th>\n",
       "      <th></th>\n",
       "      <th></th>\n",
       "      <th></th>\n",
       "      <th></th>\n",
       "      <th></th>\n",
       "      <th></th>\n",
       "      <th></th>\n",
       "    </tr>\n",
       "  </thead>\n",
       "  <tbody>\n",
       "    <tr>\n",
       "      <th>White Enchantments</th>\n",
       "      <td>2.000000</td>\n",
       "      <td>0.0</td>\n",
       "      <td>0.0</td>\n",
       "      <td>1.384615</td>\n",
       "      <td>0.0</td>\n",
       "      <td>13</td>\n",
       "      <td>0.064516</td>\n",
       "      <td>0.064516</td>\n",
       "      <td>0.16129</td>\n",
       "      <td>0.16129</td>\n",
       "      <td>...</td>\n",
       "      <td>NaN</td>\n",
       "      <td>NaN</td>\n",
       "      <td>NaN</td>\n",
       "      <td>NaN</td>\n",
       "      <td>NaN</td>\n",
       "      <td>NaN</td>\n",
       "      <td>NaN</td>\n",
       "      <td>NaN</td>\n",
       "      <td>NaN</td>\n",
       "      <td>NaN</td>\n",
       "    </tr>\n",
       "    <tr>\n",
       "      <th>White Slivers</th>\n",
       "      <td>1.538462</td>\n",
       "      <td>0.0</td>\n",
       "      <td>0.0</td>\n",
       "      <td>1.923077</td>\n",
       "      <td>0.0</td>\n",
       "      <td>13</td>\n",
       "      <td>NaN</td>\n",
       "      <td>NaN</td>\n",
       "      <td>NaN</td>\n",
       "      <td>NaN</td>\n",
       "      <td>...</td>\n",
       "      <td>NaN</td>\n",
       "      <td>NaN</td>\n",
       "      <td>NaN</td>\n",
       "      <td>NaN</td>\n",
       "      <td>NaN</td>\n",
       "      <td>NaN</td>\n",
       "      <td>NaN</td>\n",
       "      <td>NaN</td>\n",
       "      <td>NaN</td>\n",
       "      <td>NaN</td>\n",
       "    </tr>\n",
       "    <tr>\n",
       "      <th>White Tribals</th>\n",
       "      <td>2.384615</td>\n",
       "      <td>0.0</td>\n",
       "      <td>0.0</td>\n",
       "      <td>2.846154</td>\n",
       "      <td>0.0</td>\n",
       "      <td>13</td>\n",
       "      <td>NaN</td>\n",
       "      <td>NaN</td>\n",
       "      <td>0.06250</td>\n",
       "      <td>NaN</td>\n",
       "      <td>...</td>\n",
       "      <td>NaN</td>\n",
       "      <td>NaN</td>\n",
       "      <td>NaN</td>\n",
       "      <td>NaN</td>\n",
       "      <td>NaN</td>\n",
       "      <td>NaN</td>\n",
       "      <td>NaN</td>\n",
       "      <td>NaN</td>\n",
       "      <td>NaN</td>\n",
       "      <td>NaN</td>\n",
       "    </tr>\n",
       "    <tr>\n",
       "      <th>White Voltron</th>\n",
       "      <td>2.230769</td>\n",
       "      <td>0.0</td>\n",
       "      <td>0.0</td>\n",
       "      <td>2.307692</td>\n",
       "      <td>0.0</td>\n",
       "      <td>13</td>\n",
       "      <td>0.093750</td>\n",
       "      <td>0.093750</td>\n",
       "      <td>NaN</td>\n",
       "      <td>NaN</td>\n",
       "      <td>...</td>\n",
       "      <td>NaN</td>\n",
       "      <td>NaN</td>\n",
       "      <td>NaN</td>\n",
       "      <td>NaN</td>\n",
       "      <td>NaN</td>\n",
       "      <td>NaN</td>\n",
       "      <td>NaN</td>\n",
       "      <td>NaN</td>\n",
       "      <td>NaN</td>\n",
       "      <td>NaN</td>\n",
       "    </tr>\n",
       "    <tr>\n",
       "      <th>Blue Tribals</th>\n",
       "      <td>2.923077</td>\n",
       "      <td>0.0</td>\n",
       "      <td>0.0</td>\n",
       "      <td>2.307692</td>\n",
       "      <td>0.0</td>\n",
       "      <td>13</td>\n",
       "      <td>NaN</td>\n",
       "      <td>NaN</td>\n",
       "      <td>NaN</td>\n",
       "      <td>NaN</td>\n",
       "      <td>...</td>\n",
       "      <td>NaN</td>\n",
       "      <td>NaN</td>\n",
       "      <td>NaN</td>\n",
       "      <td>NaN</td>\n",
       "      <td>NaN</td>\n",
       "      <td>NaN</td>\n",
       "      <td>NaN</td>\n",
       "      <td>NaN</td>\n",
       "      <td>NaN</td>\n",
       "      <td>NaN</td>\n",
       "    </tr>\n",
       "  </tbody>\n",
       "</table>\n",
       "<p>5 rows × 117 columns</p>\n",
       "</div>"
      ],
      "text/plain": [
       "                     avg_cmc  keyword_density  archetype_alignment  \\\n",
       "theme                                                                \n",
       "White Enchantments  2.000000              0.0                  0.0   \n",
       "White Slivers       1.538462              0.0                  0.0   \n",
       "White Tribals       2.384615              0.0                  0.0   \n",
       "White Voltron       2.230769              0.0                  0.0   \n",
       "Blue Tribals        2.923077              0.0                  0.0   \n",
       "\n",
       "                    card_quality  synergy  deck_size  type_artifact  \\\n",
       "theme                                                                 \n",
       "White Enchantments      1.384615      0.0         13       0.064516   \n",
       "White Slivers           1.923077      0.0         13            NaN   \n",
       "White Tribals           2.846154      0.0         13            NaN   \n",
       "White Voltron           2.307692      0.0         13       0.093750   \n",
       "Blue Tribals            2.307692      0.0         13            NaN   \n",
       "\n",
       "                    type_equipment  type_enchantment  type_aura  ...  \\\n",
       "theme                                                            ...   \n",
       "White Enchantments        0.064516           0.16129    0.16129  ...   \n",
       "White Slivers                  NaN               NaN        NaN  ...   \n",
       "White Tribals                  NaN           0.06250        NaN  ...   \n",
       "White Voltron             0.093750               NaN        NaN  ...   \n",
       "Blue Tribals                   NaN               NaN        NaN  ...   \n",
       "\n",
       "                    type_myr  type_thrull  type_fox  type_juggernaut  \\\n",
       "theme                                                                  \n",
       "White Enchantments       NaN          NaN       NaN              NaN   \n",
       "White Slivers            NaN          NaN       NaN              NaN   \n",
       "White Tribals            NaN          NaN       NaN              NaN   \n",
       "White Voltron            NaN          NaN       NaN              NaN   \n",
       "Blue Tribals             NaN          NaN       NaN              NaN   \n",
       "\n",
       "                    type_vehicle  type_hag  type_leech  type_mutant  \\\n",
       "theme                                                                 \n",
       "White Enchantments           NaN       NaN         NaN          NaN   \n",
       "White Slivers                NaN       NaN         NaN          NaN   \n",
       "White Tribals                NaN       NaN         NaN          NaN   \n",
       "White Voltron                NaN       NaN         NaN          NaN   \n",
       "Blue Tribals                 NaN       NaN         NaN          NaN   \n",
       "\n",
       "                    type_crab  type_turtle  \n",
       "theme                                       \n",
       "White Enchantments        NaN          NaN  \n",
       "White Slivers             NaN          NaN  \n",
       "White Tribals             NaN          NaN  \n",
       "White Voltron             NaN          NaN  \n",
       "Blue Tribals              NaN          NaN  \n",
       "\n",
       "[5 rows x 117 columns]"
      ]
     },
     "execution_count": 9,
     "metadata": {},
     "output_type": "execute_result"
    }
   ],
   "source": [
    "# Compute metrics for all decks\\n\n",
    "from jumpstart.src.balance import compute_all_deck_metrics\n",
    "metrics_df = compute_all_deck_metrics(deck_dataframes, ALL_THEMES)\n",
    "metrics_df.set_index('theme', inplace=True)\n",
    "metrics_df.head()\n"
   ]
  },
  {
   "cell_type": "code",
   "execution_count": null,
   "id": "3812a2f2",
   "metadata": {},
   "outputs": [
    {
     "data": {
      "image/png": "[encoded data removed]",
      "text/plain": [
       "<Figure size 1400x600 with 4 Axes>"
      ]
     },
     "metadata": {},
     "output_type": "display_data"
    }
   ],
   "source": [
    "# Bar plots for key metrics\n",
    "import matplotlib.pyplot as plt\n",
    "import seaborn as sns\n",
    "plt.figure(figsize=(14, 6))\n",
    "for i, metric in enumerate(['avg_cmc', 'card_quality', 'archetype_alignment', 'synergy']):\n",
    "    plt.subplot(1, 4, i+1)\n",
    "    sns.barplot(y=metrics_df.index, x=metrics_df[metric], orient='h')\n",
    "    plt.title(metric.replace('_', ' ').title())\n",
    "    plt.tight_layout()\n",
    "plt.show()"
   ]
  },
  {
   "cell_type": "code",
   "execution_count": null,
   "id": "11c907ea",
   "metadata": {},
   "outputs": [
    {
     "data": {
      "application/vnd.plotly.v1+json": {
       "config": {
        "plotlyServerURL": "https://plot.ly"
       },
       "data": [
        {
         "fill": "toself",
         "name": "White Enchantments",
         "r": [
          2,
          1.3846153846153846,
          0,
          0,
          0,
          2
         ],
         "theta": [
          "avg_cmc",
          "card_quality",
          "archetype_alignment",
          "synergy",
          "keyword_density",
          "avg_cmc"
         ],
         "type": "scatterpolar"
        },
        {
         "fill": "toself",
         "name": "White Slivers",
         "r": [
          1.5384615384615385,
          1.9230769230769231,
          0,
          0,
          0,
          1.5384615384615385
         ],
         "theta": [
          "avg_cmc",
          "card_quality",
          "archetype_alignment",
          "synergy",
          "keyword_density",
          "avg_cmc"
         ],
         "type": "scatterpolar"
        },
        {
         "fill": "toself",
         "name": "White Tribals",
         "r": [
          2.3846153846153846,
          2.8461538461538463,
          0,
          0,
          0,
          2.3846153846153846
         ],
         "theta": [
          "avg_cmc",
          "card_quality",
          "archetype_alignment",
          "synergy",
          "keyword_density",
          "avg_cmc"
         ],
         "type": "scatterpolar"
        },
        {
         "fill": "toself",
         "name": "White Voltron",
         "r": [
          2.230769230769231,
          2.3076923076923075,
          0,
          0,
          0,
          2.230769230769231
         ],
         "theta": [
          "avg_cmc",
          "card_quality",
          "archetype_alignment",
          "synergy",
          "keyword_density",
          "avg_cmc"
         ],
         "type": "scatterpolar"
        },
        {
         "fill": "toself",
         "name": "Blue Tribals",
         "r": [
          2.923076923076923,
          2.3076923076923075,
          0,
          0,
          0,
          2.923076923076923
         ],
         "theta": [
          "avg_cmc",
          "card_quality",
          "archetype_alignment",
          "synergy",
          "keyword_density",
          "avg_cmc"
         ],
         "type": "scatterpolar"
        },
        {
         "fill": "toself",
         "name": "Blue Tempo",
         "r": [
          2.1538461538461537,
          1.9230769230769231,
          0.8461538461538461,
          0.8461538461538461,
          0.4444444444444444,
          2.1538461538461537
         ],
         "theta": [
          "avg_cmc",
          "card_quality",
          "archetype_alignment",
          "synergy",
          "keyword_density",
          "avg_cmc"
         ],
         "type": "scatterpolar"
        },
        {
         "fill": "toself",
         "name": "Blue Spellslinger",
         "r": [
          3.4615384615384617,
          2.076923076923077,
          0,
          0,
          0,
          3.4615384615384617
         ],
         "theta": [
          "avg_cmc",
          "card_quality",
          "archetype_alignment",
          "synergy",
          "keyword_density",
          "avg_cmc"
         ],
         "type": "scatterpolar"
        },
        {
         "fill": "toself",
         "name": "Blue Mill",
         "r": [
          2.076923076923077,
          1.5384615384615385,
          0,
          0,
          0,
          2.076923076923077
         ],
         "theta": [
          "avg_cmc",
          "card_quality",
          "archetype_alignment",
          "synergy",
          "keyword_density",
          "avg_cmc"
         ],
         "type": "scatterpolar"
        },
        {
         "fill": "toself",
         "name": "Black Tribals",
         "r": [
          2.1538461538461537,
          2.6923076923076925,
          0,
          0,
          0,
          2.1538461538461537
         ],
         "theta": [
          "avg_cmc",
          "card_quality",
          "archetype_alignment",
          "synergy",
          "keyword_density",
          "avg_cmc"
         ],
         "type": "scatterpolar"
        },
        {
         "fill": "toself",
         "name": "Black Aristocrats",
         "r": [
          2.076923076923077,
          2.3076923076923075,
          0,
          0,
          0,
          2.076923076923077
         ],
         "theta": [
          "avg_cmc",
          "card_quality",
          "archetype_alignment",
          "synergy",
          "keyword_density",
          "avg_cmc"
         ],
         "type": "scatterpolar"
        },
        {
         "fill": "toself",
         "name": "Black Tempo",
         "r": [
          1.2307692307692308,
          2.230769230769231,
          0,
          0,
          0,
          1.2307692307692308
         ],
         "theta": [
          "avg_cmc",
          "card_quality",
          "archetype_alignment",
          "synergy",
          "keyword_density",
          "avg_cmc"
         ],
         "type": "scatterpolar"
        },
        {
         "fill": "toself",
         "name": "Black Spellslinger",
         "r": [
          2.6923076923076925,
          3.076923076923077,
          0,
          0,
          0,
          2.6923076923076925
         ],
         "theta": [
          "avg_cmc",
          "card_quality",
          "archetype_alignment",
          "synergy",
          "keyword_density",
          "avg_cmc"
         ],
         "type": "scatterpolar"
        },
        {
         "fill": "toself",
         "name": "Red Tribals",
         "r": [
          1.8461538461538463,
          2.1538461538461537,
          0,
          0,
          0,
          1.8461538461538463
         ],
         "theta": [
          "avg_cmc",
          "card_quality",
          "archetype_alignment",
          "synergy",
          "keyword_density",
          "avg_cmc"
         ],
         "type": "scatterpolar"
        },
        {
         "fill": "toself",
         "name": "Red Aggro",
         "r": [
          1.2307692307692308,
          1.9230769230769231,
          0,
          0,
          0,
          1.2307692307692308
         ],
         "theta": [
          "avg_cmc",
          "card_quality",
          "archetype_alignment",
          "synergy",
          "keyword_density",
          "avg_cmc"
         ],
         "type": "scatterpolar"
        },
        {
         "fill": "toself",
         "name": "Red Spellslinger",
         "r": [
          2.6153846153846154,
          1.3846153846153846,
          0,
          0,
          0,
          2.6153846153846154
         ],
         "theta": [
          "avg_cmc",
          "card_quality",
          "archetype_alignment",
          "synergy",
          "keyword_density",
          "avg_cmc"
         ],
         "type": "scatterpolar"
        },
        {
         "fill": "toself",
         "name": "Red Burn",
         "r": [
          1.7692307692307692,
          1,
          0.3076923076923077,
          1.6153846153846154,
          0.42857142857142855,
          1.7692307692307692
         ],
         "theta": [
          "avg_cmc",
          "card_quality",
          "archetype_alignment",
          "synergy",
          "keyword_density",
          "avg_cmc"
         ],
         "type": "scatterpolar"
        },
        {
         "fill": "toself",
         "name": "Green Voltron",
         "r": [
          2.6153846153846154,
          3.230769230769231,
          0,
          0,
          0,
          2.6153846153846154
         ],
         "theta": [
          "avg_cmc",
          "card_quality",
          "archetype_alignment",
          "synergy",
          "keyword_density",
          "avg_cmc"
         ],
         "type": "scatterpolar"
        },
        {
         "fill": "toself",
         "name": "Green Mill",
         "r": [
          2,
          3,
          0,
          0,
          0,
          2
         ],
         "theta": [
          "avg_cmc",
          "card_quality",
          "archetype_alignment",
          "synergy",
          "keyword_density",
          "avg_cmc"
         ],
         "type": "scatterpolar"
        },
        {
         "fill": "toself",
         "name": "Green Ramp",
         "r": [
          4.153846153846154,
          5.6923076923076925,
          1,
          1.8461538461538463,
          0.5714285714285714,
          4.153846153846154
         ],
         "theta": [
          "avg_cmc",
          "card_quality",
          "archetype_alignment",
          "synergy",
          "keyword_density",
          "avg_cmc"
         ],
         "type": "scatterpolar"
        },
        {
         "fill": "toself",
         "name": "Green Tempo",
         "r": [
          2.076923076923077,
          3.5384615384615383,
          0,
          0,
          0,
          2.076923076923077
         ],
         "theta": [
          "avg_cmc",
          "card_quality",
          "archetype_alignment",
          "synergy",
          "keyword_density",
          "avg_cmc"
         ],
         "type": "scatterpolar"
        },
        {
         "fill": "toself",
         "name": "Izzet Tempo",
         "r": [
          2.4615384615384617,
          1,
          0,
          0,
          0,
          2.4615384615384617
         ],
         "theta": [
          "avg_cmc",
          "card_quality",
          "archetype_alignment",
          "synergy",
          "keyword_density",
          "avg_cmc"
         ],
         "type": "scatterpolar"
        },
        {
         "fill": "toself",
         "name": "Rakdos Aggro",
         "r": [
          1.5384615384615385,
          1.1538461538461537,
          0.46153846153846156,
          1.2307692307692308,
          0.5,
          1.5384615384615385
         ],
         "theta": [
          "avg_cmc",
          "card_quality",
          "archetype_alignment",
          "synergy",
          "keyword_density",
          "avg_cmc"
         ],
         "type": "scatterpolar"
        },
        {
         "fill": "toself",
         "name": "Orzhov Midrange",
         "r": [
          3,
          3.5384615384615383,
          0,
          0,
          0,
          3
         ],
         "theta": [
          "avg_cmc",
          "card_quality",
          "archetype_alignment",
          "synergy",
          "keyword_density",
          "avg_cmc"
         ],
         "type": "scatterpolar"
        },
        {
         "fill": "toself",
         "name": "Golgari Midrange",
         "r": [
          2.769230769230769,
          2.5384615384615383,
          0,
          0,
          0,
          2.769230769230769
         ],
         "theta": [
          "avg_cmc",
          "card_quality",
          "archetype_alignment",
          "synergy",
          "keyword_density",
          "avg_cmc"
         ],
         "type": "scatterpolar"
        },
        {
         "fill": "toself",
         "name": "Simic Ramp",
         "r": [
          3.6923076923076925,
          4.230769230769231,
          0,
          0,
          0,
          3.6923076923076925
         ],
         "theta": [
          "avg_cmc",
          "card_quality",
          "archetype_alignment",
          "synergy",
          "keyword_density",
          "avg_cmc"
         ],
         "type": "scatterpolar"
        }
       ],
       "layout": {
        "polar": {
         "radialaxis": {
          "visible": true
         }
        },
        "showlegend": true,
        "template": {
         "data": {
          "bar": [
           {
            "error_x": {
             "color": "#2a3f5f"
            },
            "error_y": {
             "color": "#2a3f5f"
            },
            "marker": {
             "line": {
              "color": "#E5ECF6",
              "width": 0.5
             },
             "pattern": {
              "fillmode": "overlay",
              "size": 10,
              "solidity": 0.2
             }
            },
            "type": "bar"
           }
          ],
          "barpolar": [
           {
            "marker": {
             "line": {
              "color": "#E5ECF6",
              "width": 0.5
             },
             "pattern": {
              "fillmode": "overlay",
              "size": 10,
              "solidity": 0.2
             }
            },
            "type": "barpolar"
           }
          ],
          "carpet": [
           {
            "aaxis": {
             "endlinecolor": "#2a3f5f",
             "gridcolor": "white",
             "linecolor": "white",
             "minorgridcolor": "white",
             "startlinecolor": "#2a3f5f"
            },
            "baxis": {
             "endlinecolor": "#2a3f5f",
             "gridcolor": "white",
             "linecolor": "white",
             "minorgridcolor": "white",
             "startlinecolor": "#2a3f5f"
            },
            "type": "carpet"
           }
          ],
          "choropleth": [
           {
            "colorbar": {
             "outlinewidth": 0,
             "ticks": ""
            },
            "type": "choropleth"
           }
          ],
          "contour": [
           {
            "colorbar": {
             "outlinewidth": 0,
             "ticks": ""
            },
            "colorscale": [
             [
              0,
              "#0d0887"
             ],
             [
              0.1111111111111111,
              "#46039f"
             ],
             [
              0.2222222222222222,
              "#7201a8"
             ],
             [
              0.3333333333333333,
              "#9c179e"
             ],
             [
              0.4444444444444444,
              "#bd3786"
             ],
             [
              0.5555555555555556,
              "#d8576b"
             ],
             [
              0.6666666666666666,
              "#ed7953"
             ],
             [
              0.7777777777777778,
              "#fb9f3a"
             ],
             [
              0.8888888888888888,
              "#fdca26"
             ],
             [
              1,
              "#f0f921"
             ]
            ],
            "type": "contour"
           }
          ],
          "contourcarpet": [
           {
            "colorbar": {
             "outlinewidth": 0,
             "ticks": ""
            },
            "type": "contourcarpet"
           }
          ],
          "heatmap": [
           {
            "colorbar": {
             "outlinewidth": 0,
             "ticks": ""
            },
            "colorscale": [
             [
              0,
              "#0d0887"
             ],
             [
              0.1111111111111111,
              "#46039f"
             ],
             [
              0.2222222222222222,
              "#7201a8"
             ],
             [
              0.3333333333333333,
              "#9c179e"
             ],
             [
              0.4444444444444444,
              "#bd3786"
             ],
             [
              0.5555555555555556,
              "#d8576b"
             ],
             [
              0.6666666666666666,
              "#ed7953"
             ],
             [
              0.7777777777777778,
              "#fb9f3a"
             ],
             [
              0.8888888888888888,
              "#fdca26"
             ],
             [
              1,
              "#f0f921"
             ]
            ],
            "type": "heatmap"
           }
          ],
          "histogram": [
           {
            "marker": {
             "pattern": {
              "fillmode": "overlay",
              "size": 10,
              "solidity": 0.2
             }
            },
            "type": "histogram"
           }
          ],
          "histogram2d": [
           {
            "colorbar": {
             "outlinewidth": 0,
             "ticks": ""
            },
            "colorscale": [
             [
              0,
              "#0d0887"
             ],
             [
              0.1111111111111111,
              "#46039f"
             ],
             [
              0.2222222222222222,
              "#7201a8"
             ],
             [
              0.3333333333333333,
              "#9c179e"
             ],
             [
              0.4444444444444444,
              "#bd3786"
             ],
             [
              0.5555555555555556,
              "#d8576b"
             ],
             [
              0.6666666666666666,
              "#ed7953"
             ],
             [
              0.7777777777777778,
              "#fb9f3a"
             ],
             [
              0.8888888888888888,
              "#fdca26"
             ],
             [
              1,
              "#f0f921"
             ]
            ],
            "type": "histogram2d"
           }
          ],
          "histogram2dcontour": [
           {
            "colorbar": {
             "outlinewidth": 0,
             "ticks": ""
            },
            "colorscale": [
             [
              0,
              "#0d0887"
             ],
             [
              0.1111111111111111,
              "#46039f"
             ],
             [
              0.2222222222222222,
              "#7201a8"
             ],
             [
              0.3333333333333333,
              "#9c179e"
             ],
             [
              0.4444444444444444,
              "#bd3786"
             ],
             [
              0.5555555555555556,
              "#d8576b"
             ],
             [
              0.6666666666666666,
              "#ed7953"
             ],
             [
              0.7777777777777778,
              "#fb9f3a"
             ],
             [
              0.8888888888888888,
              "#fdca26"
             ],
             [
              1,
              "#f0f921"
             ]
            ],
            "type": "histogram2dcontour"
           }
          ],
          "mesh3d": [
           {
            "colorbar": {
             "outlinewidth": 0,
             "ticks": ""
            },
            "type": "mesh3d"
           }
          ],
          "parcoords": [
           {
            "line": {
             "colorbar": {
              "outlinewidth": 0,
              "ticks": ""
             }
            },
            "type": "parcoords"
           }
          ],
          "pie": [
           {
            "automargin": true,
            "type": "pie"
           }
          ],
          "scatter": [
           {
            "fillpattern": {
             "fillmode": "overlay",
             "size": 10,
             "solidity": 0.2
            },
            "type": "scatter"
           }
          ],
          "scatter3d": [
           {
            "line": {
             "colorbar": {
              "outlinewidth": 0,
              "ticks": ""
             }
            },
            "marker": {
             "colorbar": {
              "outlinewidth": 0,
              "ticks": ""
             }
            },
            "type": "scatter3d"
           }
          ],
          "scattercarpet": [
           {
            "marker": {
             "colorbar": {
              "outlinewidth": 0,
              "ticks": ""
             }
            },
            "type": "scattercarpet"
           }
          ],
          "scattergeo": [
           {
            "marker": {
             "colorbar": {
              "outlinewidth": 0,
              "ticks": ""
             }
            },
            "type": "scattergeo"
           }
          ],
          "scattergl": [
           {
            "marker": {
             "colorbar": {
              "outlinewidth": 0,
              "ticks": ""
             }
            },
            "type": "scattergl"
           }
          ],
          "scattermap": [
           {
            "marker": {
             "colorbar": {
              "outlinewidth": 0,
              "ticks": ""
             }
            },
            "type": "scattermap"
           }
          ],
          "scattermapbox": [
           {
            "marker": {
             "colorbar": {
              "outlinewidth": 0,
              "ticks": ""
             }
            },
            "type": "scattermapbox"
           }
          ],
          "scatterpolar": [
           {
            "marker": {
             "colorbar": {
              "outlinewidth": 0,
              "ticks": ""
             }
            },
            "type": "scatterpolar"
           }
          ],
          "scatterpolargl": [
           {
            "marker": {
             "colorbar": {
              "outlinewidth": 0,
              "ticks": ""
             }
            },
            "type": "scatterpolargl"
           }
          ],
          "scatterternary": [
           {
            "marker": {
             "colorbar": {
              "outlinewidth": 0,
              "ticks": ""
             }
            },
            "type": "scatterternary"
           }
          ],
          "surface": [
           {
            "colorbar": {
             "outlinewidth": 0,
             "ticks": ""
            },
            "colorscale": [
             [
              0,
              "#0d0887"
             ],
             [
              0.1111111111111111,
              "#46039f"
             ],
             [
              0.2222222222222222,
              "#7201a8"
             ],
             [
              0.3333333333333333,
              "#9c179e"
             ],
             [
              0.4444444444444444,
              "#bd3786"
             ],
             [
              0.5555555555555556,
              "#d8576b"
             ],
             [
              0.6666666666666666,
              "#ed7953"
             ],
             [
              0.7777777777777778,
              "#fb9f3a"
             ],
             [
              0.8888888888888888,
              "#fdca26"
             ],
             [
              1,
              "#f0f921"
             ]
            ],
            "type": "surface"
           }
          ],
          "table": [
           {
            "cells": {
             "fill": {
              "color": "#EBF0F8"
             },
             "line": {
              "color": "white"
             }
            },
            "header": {
             "fill": {
              "color": "#C8D4E3"
             },
             "line": {
              "color": "white"
             }
            },
            "type": "table"
           }
          ]
         },
         "layout": {
          "annotationdefaults": {
           "arrowcolor": "#2a3f5f",
           "arrowhead": 0,
           "arrowwidth": 1
          },
          "autotypenumbers": "strict",
          "coloraxis": {
           "colorbar": {
            "outlinewidth": 0,
            "ticks": ""
           }
          },
          "colorscale": {
           "diverging": [
            [
             0,
             "#8e0152"
            ],
            [
             0.1,
             "#c51b7d"
            ],
            [
             0.2,
             "#de77ae"
            ],
            [
             0.3,
             "#f1b6da"
            ],
            [
             0.4,
             "#fde0ef"
            ],
            [
             0.5,
             "#f7f7f7"
            ],
            [
             0.6,
             "#e6f5d0"
            ],
            [
             0.7,
             "#b8e186"
            ],
            [
             0.8,
             "#7fbc41"
            ],
            [
             0.9,
             "#4d9221"
            ],
            [
             1,
             "#276419"
            ]
           ],
           "sequential": [
            [
             0,
             "#0d0887"
            ],
            [
             0.1111111111111111,
             "#46039f"
            ],
            [
             0.2222222222222222,
             "#7201a8"
            ],
            [
             0.3333333333333333,
             "#9c179e"
            ],
            [
             0.4444444444444444,
             "#bd3786"
            ],
            [
             0.5555555555555556,
             "#d8576b"
            ],
            [
             0.6666666666666666,
             "#ed7953"
            ],
            [
             0.7777777777777778,
             "#fb9f3a"
            ],
            [
             0.8888888888888888,
             "#fdca26"
            ],
            [
             1,
             "#f0f921"
            ]
           ],
           "sequentialminus": [
            [
             0,
             "#0d0887"
            ],
            [
             0.1111111111111111,
             "#46039f"
            ],
            [
             0.2222222222222222,
             "#7201a8"
            ],
            [
             0.3333333333333333,
             "#9c179e"
            ],
            [
             0.4444444444444444,
             "#bd3786"
            ],
            [
             0.5555555555555556,
             "#d8576b"
            ],
            [
             0.6666666666666666,
             "#ed7953"
            ],
            [
             0.7777777777777778,
             "#fb9f3a"
            ],
            [
             0.8888888888888888,
             "#fdca26"
            ],
            [
             1,
             "#f0f921"
            ]
           ]
          },
          "colorway": [
           "#636efa",
           "#EF553B",
           "#00cc96",
           "#ab63fa",
           "#FFA15A",
           "#19d3f3",
           "#FF6692",
           "#B6E880",
           "#FF97FF",
           "#FECB52"
          ],
          "font": {
           "color": "#2a3f5f"
          },
          "geo": {
           "bgcolor": "white",
           "lakecolor": "white",
           "landcolor": "#E5ECF6",
           "showlakes": true,
           "showland": true,
           "subunitcolor": "white"
          },
          "hoverlabel": {
           "align": "left"
          },
          "hovermode": "closest",
          "mapbox": {
           "style": "light"
          },
          "paper_bgcolor": "white",
          "plot_bgcolor": "#E5ECF6",
          "polar": {
           "angularaxis": {
            "gridcolor": "white",
            "linecolor": "white",
            "ticks": ""
           },
           "bgcolor": "#E5ECF6",
           "radialaxis": {
            "gridcolor": "white",
            "linecolor": "white",
            "ticks": ""
           }
          },
          "scene": {
           "xaxis": {
            "backgroundcolor": "#E5ECF6",
            "gridcolor": "white",
            "gridwidth": 2,
            "linecolor": "white",
            "showbackground": true,
            "ticks": "",
            "zerolinecolor": "white"
           },
           "yaxis": {
            "backgroundcolor": "#E5ECF6",
            "gridcolor": "white",
            "gridwidth": 2,
            "linecolor": "white",
            "showbackground": true,
            "ticks": "",
            "zerolinecolor": "white"
           },
           "zaxis": {
            "backgroundcolor": "#E5ECF6",
            "gridcolor": "white",
            "gridwidth": 2,
            "linecolor": "white",
            "showbackground": true,
            "ticks": "",
            "zerolinecolor": "white"
           }
          },
          "shapedefaults": {
           "line": {
            "color": "#2a3f5f"
           }
          },
          "ternary": {
           "aaxis": {
            "gridcolor": "white",
            "linecolor": "white",
            "ticks": ""
           },
           "baxis": {
            "gridcolor": "white",
            "linecolor": "white",
            "ticks": ""
           },
           "bgcolor": "#E5ECF6",
           "caxis": {
            "gridcolor": "white",
            "linecolor": "white",
            "ticks": ""
           }
          },
          "title": {
           "x": 0.05
          },
          "xaxis": {
           "automargin": true,
           "gridcolor": "white",
           "linecolor": "white",
           "ticks": "",
           "title": {
            "standoff": 15
           },
           "zerolinecolor": "white",
           "zerolinewidth": 2
          },
          "yaxis": {
           "automargin": true,
           "gridcolor": "white",
           "linecolor": "white",
           "ticks": "",
           "title": {
            "standoff": 15
           },
           "zerolinecolor": "white",
           "zerolinewidth": 2
          }
         }
        },
        "title": {
         "text": "Deck Balance Radar Chart (Sample)"
        }
       }
      }
     },
     "metadata": {},
     "output_type": "display_data"
    }
   ],
   "source": [
    "# Import plotly for interactive visualizations\n",
    "import plotly.graph_objects as go\n",
    "\n",
    "sample_themes = metrics_df.index[:]  # Show first 5 decks as example\n",
    "radar_metrics = ['avg_cmc', 'card_quality', 'archetype_alignment', 'synergy', 'keyword_density']\n",
    "fig = go.Figure()\n",
    "for theme in sample_themes:\n",
    "    values = metrics_df.loc[theme, radar_metrics].values.tolist()\n",
    "    fig.add_trace(go.Scatterpolar(\n",
    "        r=values + [values[0]],\n",
    "        theta=radar_metrics + [radar_metrics[0]],\n",
    "        fill='toself',\n",
    "        name=theme\n",
    "    ))\n",
    "fig.update_layout(\n",
    "    polar=dict(radialaxis=dict(visible=True)),\n",
    "    showlegend=True,\n",
    "    title='Deck Balance Radar Chart (Sample)'\n",
    ")\n",
    "fig.show()"
   ]
  },
  {
   "cell_type": "markdown",
   "id": "e960abc8",
   "metadata": {},
   "source": [
    "# CMC Curve Analysis\n",
    "Let's visualize the Converted Mana Cost (CMC) curves for each deck to understand their mana distribution and speed."
   ]
  },
  {
   "cell_type": "code",
   "execution_count": null,
   "id": "7bcbdaa8",
   "metadata": {},
   "outputs": [
    {
     "name": "stdout",
     "output_type": "stream",
     "text": [
      "CMC curve data calculated for all decks!\n",
      "Sample stats for first deck (White Enchantments):\n",
      "  Average CMC: 2.17\n",
      "  Total cards: 13\n",
      "  Non-land cards: 12\n",
      "  Lands: 1\n"
     ]
    }
   ],
   "source": [
    "# Calculate CMC curves for all decks\n",
    "import matplotlib.pyplot as plt\n",
    "import seaborn as sns\n",
    "import numpy as np\n",
    "from collections import Counter\n",
    "\n",
    "def calculate_cmc_curve(deck_df):\n",
    "    \"\"\"Calculate the CMC distribution for a deck.\"\"\"\n",
    "    # Only count non-land cards for CMC curve\n",
    "    non_lands = deck_df[deck_df['Type'].str.contains('Land', na=False) == False]\n",
    "    cmc_counts = Counter(non_lands['CMC'])\n",
    "    \n",
    "    # Create a full range from 0 to max CMC\n",
    "    max_cmc = max(cmc_counts.keys()) if cmc_counts else 0\n",
    "    cmc_curve = [cmc_counts.get(i, 0) for i in range(max_cmc + 1)]\n",
    "    \n",
    "    return cmc_curve, non_lands\n",
    "\n",
    "# Calculate CMC curves for all decks\n",
    "cmc_data = {}\n",
    "deck_stats = {}\n",
    "\n",
    "for theme_name, deck_df in deck_dataframes.items():\n",
    "    cmc_curve, non_lands = calculate_cmc_curve(deck_df)\n",
    "    cmc_data[theme_name] = cmc_curve\n",
    "    deck_stats[theme_name] = {\n",
    "        'avg_cmc': non_lands['CMC'].mean() if len(non_lands) > 0 else 0,\n",
    "        'total_cards': len(deck_df),\n",
    "        'non_lands': len(non_lands),\n",
    "        'lands': len(deck_df) - len(non_lands)\n",
    "    }\n",
    "\n",
    "print(\"CMC curve data calculated for all decks!\")\n",
    "print(f\"Sample stats for first deck ({list(deck_stats.keys())[0]}):\")\n",
    "first_deck = list(deck_stats.keys())[0]\n",
    "print(f\"  Average CMC: {deck_stats[first_deck]['avg_cmc']:.2f}\")\n",
    "print(f\"  Total cards: {deck_stats[first_deck]['total_cards']}\")\n",
    "print(f\"  Non-land cards: {deck_stats[first_deck]['non_lands']}\")\n",
    "print(f\"  Lands: {deck_stats[first_deck]['lands']}\")"
   ]
  },
  {
   "cell_type": "code",
   "execution_count": null,
   "id": "4813fa19",
   "metadata": {},
   "outputs": [
    {
     "data": {
      "image/png": "[encoded data removed]",
      "text/plain": [
       "<Figure size 2000x2000 with 30 Axes>"
      ]
     },
     "metadata": {},
     "output_type": "display_data"
    },
    {
     "name": "stdout",
     "output_type": "stream",
     "text": [
      "✅ CMC curves plotted for all 25 decks!\n",
      "Color legend:\n",
      "  Aggro: #FF6B6B\n",
      "  Control: #4ECDC4\n",
      "  Midrange: #45B7D1\n",
      "  Tempo: #96CEB4\n",
      "  Combo: #FFEAA7\n"
     ]
    }
   ],
   "source": [
    "# Create a large grid plot showing CMC curves for all decks\n",
    "plt.style.use('default')\n",
    "num_decks = len(deck_dataframes)\n",
    "cols = 6  # 6 columns\n",
    "rows = (num_decks + cols - 1) // cols  # Calculate needed rows\n",
    "\n",
    "fig, axes = plt.subplots(rows, cols, figsize=(20, 4 * rows))\n",
    "fig.suptitle('CMC Curves for All Jumpstart Decks', fontsize=16, y=0.98)\n",
    "\n",
    "# Flatten axes for easy iteration\n",
    "if rows == 1:\n",
    "    axes = [axes] if cols == 1 else axes\n",
    "else:\n",
    "    axes = axes.flatten()\n",
    "\n",
    "# Color scheme for different archetypes\n",
    "archetype_colors = {\n",
    "    'Aggro': '#FF6B6B',\n",
    "    'Control': '#4ECDC4', \n",
    "    'Midrange': '#45B7D1',\n",
    "    'Tempo': '#96CEB4',\n",
    "    'Combo': '#FFEAA7'\n",
    "}\n",
    "\n",
    "for i, (theme_name, deck_df) in enumerate(deck_dataframes.items()):\n",
    "    ax = axes[i]\n",
    "    \n",
    "    # Get CMC curve and deck info\n",
    "    cmc_curve, non_lands = calculate_cmc_curve(deck_df)\n",
    "    \n",
    "    # Determine archetype for coloring\n",
    "    archetype = 'Midrange'  # Default\n",
    "    if theme_name in ALL_THEMES:\n",
    "        archetype = ALL_THEMES[theme_name].get('archetype', 'Midrange')\n",
    "    \n",
    "    color = archetype_colors.get(archetype, '#45B7D1')\n",
    "    \n",
    "    # Plot the CMC curve\n",
    "    x_values = list(range(len(cmc_curve)))\n",
    "    ax.bar(x_values, cmc_curve, color=color, alpha=0.7, edgecolor='black', linewidth=0.5)\n",
    "    \n",
    "    # Customize each subplot\n",
    "    ax.set_title(f'{theme_name}\\n({archetype})', fontsize=10, fontweight='bold')\n",
    "    ax.set_xlabel('CMC', fontsize=8)\n",
    "    ax.set_ylabel('Count', fontsize=8)\n",
    "    ax.set_xticks(x_values)\n",
    "    ax.grid(True, alpha=0.3)\n",
    "    \n",
    "    # Add average CMC as text\n",
    "    avg_cmc = non_lands['CMC'].mean() if len(non_lands) > 0 else 0\n",
    "    ax.text(0.98, 0.95, f'Avg: {avg_cmc:.1f}', transform=ax.transAxes, \n",
    "            ha='right', va='top', fontsize=8, \n",
    "            bbox=dict(boxstyle='round,pad=0.3', facecolor='white', alpha=0.8))\n",
    "    \n",
    "    # Set consistent y-axis limits\n",
    "    ax.set_ylim(0, max(max(cmc_curve), 1) + 1)\n",
    "\n",
    "# Hide empty subplots\n",
    "for i in range(num_decks, len(axes)):\n",
    "    axes[i].set_visible(False)\n",
    "\n",
    "plt.tight_layout()\n",
    "plt.subplots_adjust(top=0.94)\n",
    "plt.show()\n",
    "\n",
    "print(f\"✅ CMC curves plotted for all {num_decks} decks!\")\n",
    "print(\"Color legend:\")\n",
    "for archetype, color in archetype_colors.items():\n",
    "    print(f\"  {archetype}: {color}\")"
   ]
  },
  {
   "cell_type": "code",
   "execution_count": null,
   "id": "69637a47",
   "metadata": {},
   "outputs": [
    {
     "name": "stdout",
     "output_type": "stream",
     "text": [
      "📊 CMC CURVE SUMMARY STATISTICS\n",
      "==================================================\n",
      "Top 5 Fastest Decks (Lowest Average CMC):\n",
      "        Theme Archetype  Avg_CMC\n",
      "    Red Aggro  Midrange 1.333333\n",
      "  Black Tempo  Midrange 1.333333\n",
      "White Slivers  Midrange 1.666667\n",
      " Rakdos Aggro     Aggro 1.666667\n",
      "     Red Burn     Aggro 1.916667\n",
      "\n",
      "Top 5 Slowest Decks (Highest Average CMC):\n",
      "            Theme Archetype  Avg_CMC\n",
      "     Blue Tribals  Midrange 3.166667\n",
      "  Orzhov Midrange  Midrange 3.250000\n",
      "Blue Spellslinger  Midrange 3.750000\n",
      "       Simic Ramp  Midrange 4.000000\n",
      "       Green Ramp      Ramp 4.500000\n",
      "\n",
      "Overall Statistics:\n",
      "Average CMC across all decks: 2.54\n",
      "CMC Standard Deviation: 0.78\n",
      "Fastest deck: Red Aggro (1.33)\n",
      "Slowest deck: Green Ramp (4.50)\n"
     ]
    }
   ],
   "source": [
    "# Summary statistics and comparison plots\n",
    "print(\"📊 CMC CURVE SUMMARY STATISTICS\")\n",
    "print(\"=\"*50)\n",
    "\n",
    "# Create a DataFrame with CMC statistics\n",
    "cmc_summary = []\n",
    "for theme_name, stats in deck_stats.items():\n",
    "    archetype = ALL_THEMES.get(theme_name, {}).get('archetype', 'Midrange')\n",
    "    # Convert enum to string for DataFrame compatibility\n",
    "    if hasattr(archetype, 'value'):\n",
    "        archetype = archetype.value\n",
    "    \n",
    "    cmc_summary.append({\n",
    "        'Theme': theme_name,\n",
    "        'Archetype': archetype,\n",
    "        'Avg_CMC': stats['avg_cmc'],\n",
    "        'Total_Cards': stats['total_cards'],\n",
    "        'Non_Lands': stats['non_lands'],\n",
    "        'Lands': stats['lands']\n",
    "    })\n",
    "\n",
    "cmc_summary_df = pd.DataFrame(cmc_summary)\n",
    "cmc_summary_df = cmc_summary_df.sort_values('Avg_CMC')\n",
    "\n",
    "print(\"Top 5 Fastest Decks (Lowest Average CMC):\")\n",
    "print(cmc_summary_df.head()[['Theme', 'Archetype', 'Avg_CMC']].to_string(index=False))\n",
    "\n",
    "print(\"\\nTop 5 Slowest Decks (Highest Average CMC):\")\n",
    "print(cmc_summary_df.tail()[['Theme', 'Archetype', 'Avg_CMC']].to_string(index=False))\n",
    "\n",
    "print(f\"\\nOverall Statistics:\")\n",
    "print(f\"Average CMC across all decks: {cmc_summary_df['Avg_CMC'].mean():.2f}\")\n",
    "print(f\"CMC Standard Deviation: {cmc_summary_df['Avg_CMC'].std():.2f}\")\n",
    "print(f\"Fastest deck: {cmc_summary_df.iloc[0]['Theme']} ({cmc_summary_df.iloc[0]['Avg_CMC']:.2f})\")\n",
    "print(f\"Slowest deck: {cmc_summary_df.iloc[-1]['Theme']} ({cmc_summary_df.iloc[-1]['Avg_CMC']:.2f})\")"
   ]
  },
  {
   "cell_type": "code",
   "execution_count": null,
   "id": "6e65c98e",
   "metadata": {},
   "outputs": [
    {
     "data": {
      "image/png": "[encoded data removed]",
      "text/plain": [
       "<Figure size 1600x1200 with 4 Axes>"
      ]
     },
     "metadata": {},
     "output_type": "display_data"
    },
    {
     "name": "stdout",
     "output_type": "stream",
     "text": [
      "✅ CMC analysis complete! The visualizations show:\n",
      "  📈 Individual deck curves with archetype coloring\n",
      "  📊 Statistical summaries and comparisons\n",
      "  🎯 Archetype-based CMC patterns\n",
      "  📋 Overall cube CMC distribution\n"
     ]
    }
   ],
   "source": [
    "# Archetype comparison plots\n",
    "fig, ((ax1, ax2), (ax3, ax4)) = plt.subplots(2, 2, figsize=(16, 12))\n",
    "\n",
    "# Convert archetype enums to strings for plotting compatibility\n",
    "cmc_summary_df_plot = cmc_summary_df.copy()\n",
    "cmc_summary_df_plot['Archetype'] = cmc_summary_df_plot['Archetype'].apply(\n",
    "    lambda x: x.value if hasattr(x, 'value') else str(x)\n",
    ")\n",
    "\n",
    "# 1. Average CMC by Archetype\n",
    "archetype_cmc = cmc_summary_df_plot.groupby('Archetype')['Avg_CMC'].agg(['mean', 'std', 'count'])\n",
    "ax1.bar(archetype_cmc.index, archetype_cmc['mean'], \n",
    "        yerr=archetype_cmc['std'], capsize=5, alpha=0.7,\n",
    "        color=[archetype_colors.get(arch, '#45B7D1') for arch in archetype_cmc.index])\n",
    "ax1.set_title('Average CMC by Archetype')\n",
    "ax1.set_ylabel('Average CMC')\n",
    "ax1.set_xlabel('Archetype')\n",
    "ax1.grid(True, alpha=0.3)\n",
    "\n",
    "# 2. CMC Distribution (all decks combined)\n",
    "all_cmcs = []\n",
    "for theme_name, deck_df in deck_dataframes.items():\n",
    "    non_lands = deck_df[deck_df['Type'].str.contains('Land', na=False) == False]\n",
    "    all_cmcs.extend(non_lands['CMC'].tolist())\n",
    "\n",
    "ax2.hist(all_cmcs, bins=range(max(all_cmcs) + 2), alpha=0.7, color='skyblue', edgecolor='black')\n",
    "ax2.set_title('Overall CMC Distribution (All Decks)')\n",
    "ax2.set_xlabel('CMC')\n",
    "ax2.set_ylabel('Number of Cards')\n",
    "ax2.grid(True, alpha=0.3)\n",
    "\n",
    "# 3. Average CMC scatter plot by theme\n",
    "colors = []\n",
    "for theme in cmc_summary_df_plot['Theme']:\n",
    "    archetype = ALL_THEMES.get(theme, {}).get('archetype', 'Midrange')\n",
    "    # Convert enum to string for color lookup\n",
    "    if hasattr(archetype, 'value'):\n",
    "        archetype = archetype.value\n",
    "    colors.append(archetype_colors.get(archetype, '#45B7D1'))\n",
    "\n",
    "ax3.scatter(range(len(cmc_summary_df_plot)), cmc_summary_df_plot['Avg_CMC'], \n",
    "           c=colors, alpha=0.7, s=100)\n",
    "ax3.set_title('Average CMC by Theme (Sorted)')\n",
    "ax3.set_xlabel('Theme Index (sorted by CMC)')\n",
    "ax3.set_ylabel('Average CMC')\n",
    "ax3.grid(True, alpha=0.3)\n",
    "\n",
    "# Add archetype legend\n",
    "handles = [plt.Rectangle((0,0),1,1, color=color, alpha=0.7) \n",
    "           for archetype, color in archetype_colors.items()]\n",
    "labels = list(archetype_colors.keys())\n",
    "ax3.legend(handles, labels, title='Archetype', loc='upper left')\n",
    "\n",
    "# 4. Cards per CMC slot comparison\n",
    "cmc_slots = {}\n",
    "max_cmc = max(all_cmcs)\n",
    "for cmc in range(max_cmc + 1):\n",
    "    cmc_slots[cmc] = sum(1 for c in all_cmcs if c == cmc)\n",
    "\n",
    "ax4.bar(cmc_slots.keys(), cmc_slots.values(), alpha=0.7, color='lightcoral', edgecolor='black')\n",
    "ax4.set_title('Total Cards per CMC Slot (All Decks)')\n",
    "ax4.set_xlabel('CMC')\n",
    "ax4.set_ylabel('Total Cards')\n",
    "ax4.grid(True, alpha=0.3)\n",
    "\n",
    "plt.tight_layout()\n",
    "plt.show()\n",
    "\n",
    "print(\"✅ CMC analysis complete! The visualizations show:\")\n",
    "print(\"  📈 Individual deck curves with archetype coloring\")\n",
    "print(\"  📊 Statistical summaries and comparisons\")\n",
    "print(\"  🎯 Archetype-based CMC patterns\")\n",
    "print(\"  📋 Overall cube CMC distribution\")"
   ]
  },
  {
   "cell_type": "markdown",
   "id": "fc440130",
   "metadata": {},
   "source": [
    "# Comprehensive Deck Performance Analysis\n",
    "\n",
    "Now let's analyze how well each deck will perform across multiple dimensions. This analysis will help identify the strongest and weakest decks, and suggest improvements.\n",
    "\n",
    "## Performance Metrics We'll Analyze:\n",
    "1. **Speed & Consistency** - How fast and reliable the deck is\n",
    "2. **Card Quality** - Overall power level of individual cards\n",
    "3. **Synergy Score** - How well cards work together\n",
    "4. **Threat Density** - Proportion of impactful cards\n",
    "5. **Interaction Quality** - Removal and answers available\n",
    "6. **Mana Efficiency** - How well the deck uses its mana\n",
    "7. **Late Game Power** - Performance in longer games\n",
    "8. **Archetype Coherence** - How well the deck follows its intended strategy"
   ]
  },
  {
   "cell_type": "code",
   "execution_count": null,
   "id": "273087d9",
   "metadata": {},
   "outputs": [
    {
     "name": "stdout",
     "output_type": "stream",
     "text": [
      "🎯 Calculating comprehensive performance metrics for all decks...\n",
      "✅ Performance analysis complete for 25 decks!\n",
      "\n",
      "Top 5 performing decks (Overall Performance Score):\n",
      "             archetype  overall_performance  card_quality  threat_density\n",
      "theme                                                                    \n",
      "Red Aggro     Midrange                1.752         0.974           0.375\n",
      "Black Tempo   Midrange                1.746         0.974           0.333\n",
      "Rakdos Aggro     Aggro                1.691         1.179           0.250\n",
      "Red Burn         Aggro                1.648         1.333           0.208\n",
      "Red Tribals   Midrange                1.599         1.385           0.375\n"
     ]
    }
   ],
   "source": [
    "def calculate_deck_performance_metrics(deck_df, theme_name, oracle_df):\n",
    "    \"\"\"\n",
    "    Calculate comprehensive performance metrics for a single deck.\n",
    "    \"\"\"\n",
    "    metrics = {}\n",
    "    \n",
    "    # Basic deck info\n",
    "    non_lands = deck_df[deck_df['Type'].str.contains('Land', na=False) == False]\n",
    "    creatures = deck_df[deck_df['Type'].str.contains('Creature', na=False)]\n",
    "    \n",
    "    # 1. Speed & Consistency Metrics\n",
    "    avg_cmc = non_lands['CMC'].mean() if len(non_lands) > 0 else 0\n",
    "    cmc_variance = non_lands['CMC'].var() if len(non_lands) > 1 else 0\n",
    "    early_game_cards = len(non_lands[non_lands['CMC'] <= 2])\n",
    "    \n",
    "    metrics['speed_score'] = max(0, 5 - avg_cmc)  # Lower CMC = higher speed\n",
    "    metrics['consistency_score'] = max(0, 5 - cmc_variance)  # Lower variance = more consistent\n",
    "    metrics['early_game_density'] = early_game_cards / len(non_lands) if len(non_lands) > 0 else 0\n",
    "    \n",
    "    # 2. Card Quality Assessment\n",
    "    # Use existing quality scores if available, otherwise estimate\n",
    "    if 'card_quality' in deck_df.columns:\n",
    "        avg_quality = deck_df['card_quality'].mean()\n",
    "    else:\n",
    "        # Estimate quality based on rarity and CMC efficiency\n",
    "        quality_scores = []\n",
    "        for _, card in deck_df.iterrows():\n",
    "            if 'Rarity' in card:\n",
    "                rarity_score = {'C': 1, 'U': 2, 'R': 3, 'M': 4}.get(card['Rarity'], 1)\n",
    "            else:\n",
    "                rarity_score = 2  # Default\n",
    "            \n",
    "            # Higher CMC should provide more value\n",
    "            cmc_efficiency = min(card['CMC'] / 3, 2) if card['CMC'] > 0 else 1\n",
    "            quality_scores.append(rarity_score * cmc_efficiency)\n",
    "        \n",
    "        avg_quality = sum(quality_scores) / len(quality_scores) if quality_scores else 2\n",
    "    \n",
    "    metrics['card_quality'] = min(avg_quality, 5)  # Cap at 5\n",
    "    \n",
    "    # 3. Threat Density\n",
    "    # Count cards that can win the game\n",
    "    win_conditions = 0\n",
    "    for _, card in deck_df.iterrows():\n",
    "        # Creatures with power >= 3, or planeswalkers, or key spells\n",
    "        if 'Creature' in str(card['Type']) and 'Power' in card:\n",
    "            try:\n",
    "                power = int(str(card['Power']).replace('*', '0'))\n",
    "                if power >= 3:\n",
    "                    win_conditions += 1\n",
    "            except:\n",
    "                win_conditions += 0.5  # Partial credit for unknown power\n",
    "        elif any(cardtype in str(card['Type']) for cardtype in ['Planeswalker', 'Enchantment']):\n",
    "            win_conditions += 0.5\n",
    "    \n",
    "    metrics['threat_density'] = min(win_conditions / len(non_lands), 1) if len(non_lands) > 0 else 0\n",
    "    \n",
    "    # 4. Interaction Quality\n",
    "    interaction_keywords = ['destroy', 'exile', 'counter', 'return', 'damage', 'fight', 'bounce']\n",
    "    interaction_count = 0\n",
    "    \n",
    "    for _, card in deck_df.iterrows():\n",
    "        text = str(card.get('Text', '') or '').lower()\n",
    "        if any(keyword in text for keyword in interaction_keywords):\n",
    "            interaction_count += 1\n",
    "    \n",
    "    metrics['interaction_score'] = min(interaction_count / len(non_lands), 0.5) if len(non_lands) > 0 else 0\n",
    "    \n",
    "    # 5. Mana Efficiency\n",
    "    total_mana_value = non_lands['CMC'].sum()\n",
    "    expected_mana = len(non_lands) * 2.5  # Expected average CMC\n",
    "    metrics['mana_efficiency'] = min(expected_mana / max(total_mana_value, 1), 2)\n",
    "    \n",
    "    # 6. Late Game Power\n",
    "    expensive_cards = len(non_lands[non_lands['CMC'] >= 5])\n",
    "    metrics['late_game_power'] = min(expensive_cards / max(len(non_lands), 1), 0.4)\n",
    "    \n",
    "    # 7. Creature Quality (for creature-based strategies)\n",
    "    creature_ratio = len(creatures) / len(non_lands) if len(non_lands) > 0 else 0\n",
    "    avg_creature_cmc = creatures['CMC'].mean() if len(creatures) > 0 else 0\n",
    "    \n",
    "    metrics['creature_quality'] = creature_ratio * min(avg_creature_cmc / 3, 1.5)\n",
    "    \n",
    "    # 8. Archetype Coherence\n",
    "    if theme_name in ALL_THEMES:\n",
    "        expected_archetype = ALL_THEMES[theme_name].get('archetype', 'Midrange')\n",
    "        \n",
    "        # Convert enum to string for comparison\n",
    "        if hasattr(expected_archetype, 'value'):\n",
    "            expected_archetype = expected_archetype.value\n",
    "        \n",
    "        # Score based on how well the deck matches its archetype\n",
    "        if expected_archetype == 'Aggro':\n",
    "            coherence = metrics['speed_score'] / 5 * 0.4 + metrics['early_game_density'] * 0.6\n",
    "        elif expected_archetype == 'Control':\n",
    "            coherence = metrics['interaction_score'] / 0.5 * 0.5 + metrics['late_game_power'] / 0.4 * 0.5\n",
    "        elif expected_archetype == 'Combo':\n",
    "            coherence = metrics['consistency_score'] / 5 * 0.7 + metrics['mana_efficiency'] / 2 * 0.3\n",
    "        else:  # Midrange/Tempo\n",
    "            coherence = (metrics['creature_quality'] + metrics['interaction_score'] / 0.5) / 2\n",
    "        \n",
    "        metrics['archetype_coherence'] = min(coherence, 1)\n",
    "    else:\n",
    "        metrics['archetype_coherence'] = 0.5  # Default\n",
    "    \n",
    "    # Overall Performance Score (weighted average)\n",
    "    weights = {\n",
    "        'speed_score': 0.15,\n",
    "        'consistency_score': 0.15,\n",
    "        'card_quality': 0.20,\n",
    "        'threat_density': 0.15,\n",
    "        'interaction_score': 0.10,\n",
    "        'mana_efficiency': 0.10,\n",
    "        'late_game_power': 0.05,\n",
    "        'archetype_coherence': 0.10\n",
    "    }\n",
    "    \n",
    "    overall_score = sum(metrics[key] * weight for key, weight in weights.items())\n",
    "    metrics['overall_performance'] = min(overall_score, 5)  # Cap at 5\n",
    "    \n",
    "    return metrics\n",
    "\n",
    "# Calculate performance metrics for all decks\n",
    "print(\"🎯 Calculating comprehensive performance metrics for all decks...\")\n",
    "performance_data = []\n",
    "\n",
    "for theme_name, deck_df in deck_dataframes.items():\n",
    "    metrics = calculate_deck_performance_metrics(deck_df, theme_name, oracle_df)\n",
    "    metrics['theme'] = theme_name\n",
    "    \n",
    "    # Convert archetype enum to string for DataFrame compatibility\n",
    "    archetype = ALL_THEMES.get(theme_name, {}).get('archetype', 'Midrange')\n",
    "    if hasattr(archetype, 'value'):\n",
    "        archetype = archetype.value\n",
    "    metrics['archetype'] = archetype\n",
    "    \n",
    "    performance_data.append(metrics)\n",
    "\n",
    "performance_df = pd.DataFrame(performance_data)\n",
    "performance_df = performance_df.set_index('theme')\n",
    "\n",
    "print(f\"✅ Performance analysis complete for {len(performance_df)} decks!\")\n",
    "print(\"\\nTop 5 performing decks (Overall Performance Score):\")\n",
    "top_performers = performance_df.nlargest(5, 'overall_performance')[['archetype', 'overall_performance', 'card_quality', 'threat_density']]\n",
    "print(top_performers.round(3))"
   ]
  },
  {
   "cell_type": "code",
   "execution_count": null,
   "id": "9ad960c8",
   "metadata": {},
   "outputs": [
    {
     "data": {
      "image/png": "[encoded data removed]",
      "text/plain": [
       "<Figure size 2000x1200 with 6 Axes>"
      ]
     },
     "metadata": {},
     "output_type": "display_data"
    },
    {
     "name": "stdout",
     "output_type": "stream",
     "text": [
      "📊 Performance dashboard complete!\n",
      "Best performing deck: Red Aggro (Score: 1.752)\n",
      "Worst performing deck: Green Ramp (Score: 0.794)\n"
     ]
    }
   ],
   "source": [
    "# Create comprehensive performance visualizations\n",
    "fig, axes = plt.subplots(2, 3, figsize=(20, 12))\n",
    "fig.suptitle('Deck Performance Analysis Dashboard', fontsize=16, y=0.98)\n",
    "\n",
    "# 1. Overall Performance Distribution\n",
    "ax1 = axes[0, 0]\n",
    "colors_by_archetype = [archetype_colors.get(arch, '#45B7D1') for arch in performance_df['archetype']]\n",
    "bars = ax1.bar(range(len(performance_df)), performance_df['overall_performance'].sort_values(ascending=False),\n",
    "               color=colors_by_archetype, alpha=0.8)\n",
    "ax1.set_title('Overall Performance Score by Deck')\n",
    "ax1.set_ylabel('Performance Score (0-5)')\n",
    "ax1.set_xlabel('Deck Rank')\n",
    "ax1.grid(True, alpha=0.3)\n",
    "\n",
    "# Add value labels on bars\n",
    "for i, (bar, score) in enumerate(zip(bars, performance_df['overall_performance'].sort_values(ascending=False))):\n",
    "    ax1.text(bar.get_x() + bar.get_width()/2, bar.get_height() + 0.02, \n",
    "             f'{score:.2f}', ha='center', va='bottom', fontsize=8)\n",
    "\n",
    "# 2. Performance by Archetype\n",
    "ax2 = axes[0, 1]\n",
    "archetype_performance = performance_df.groupby('archetype')['overall_performance'].agg(['mean', 'std', 'count'])\n",
    "bars2 = ax2.bar(archetype_performance.index, archetype_performance['mean'], \n",
    "                yerr=archetype_performance['std'], capsize=5, alpha=0.7,\n",
    "                color=[archetype_colors.get(arch, '#45B7D1') for arch in archetype_performance.index])\n",
    "ax2.set_title('Average Performance by Archetype')\n",
    "ax2.set_ylabel('Average Performance Score')\n",
    "ax2.set_xlabel('Archetype')\n",
    "ax2.grid(True, alpha=0.3)\n",
    "plt.setp(ax2.get_xticklabels(), rotation=45)\n",
    "\n",
    "# 3. Speed vs Card Quality\n",
    "ax3 = axes[0, 2]\n",
    "scatter = ax3.scatter(performance_df['speed_score'], performance_df['card_quality'], \n",
    "                     c=colors_by_archetype, alpha=0.7, s=100)\n",
    "ax3.set_title('Speed vs Card Quality')\n",
    "ax3.set_xlabel('Speed Score (Higher = Faster)')\n",
    "ax3.set_ylabel('Card Quality Score')\n",
    "ax3.grid(True, alpha=0.3)\n",
    "\n",
    "# Add trend line\n",
    "z = np.polyfit(performance_df['speed_score'], performance_df['card_quality'], 1)\n",
    "p = np.poly1d(z)\n",
    "ax3.plot(performance_df['speed_score'], p(performance_df['speed_score']), \"r--\", alpha=0.8)\n",
    "\n",
    "# 4. Threat Density vs Interaction\n",
    "ax4 = axes[1, 0]\n",
    "ax4.scatter(performance_df['threat_density'], performance_df['interaction_score'], \n",
    "           c=colors_by_archetype, alpha=0.7, s=100)\n",
    "ax4.set_title('Threat Density vs Interaction')\n",
    "ax4.set_xlabel('Threat Density')\n",
    "ax4.set_ylabel('Interaction Score')\n",
    "ax4.grid(True, alpha=0.3)\n",
    "\n",
    "# 5. Archetype Coherence Distribution\n",
    "ax5 = axes[1, 1]\n",
    "ax5.hist(performance_df['archetype_coherence'], bins=10, alpha=0.7, color='lightgreen', edgecolor='black')\n",
    "ax5.set_title('Archetype Coherence Distribution')\n",
    "ax5.set_xlabel('Coherence Score')\n",
    "ax5.set_ylabel('Number of Decks')\n",
    "ax5.grid(True, alpha=0.3)\n",
    "\n",
    "# 6. Performance Radar Chart (Top 5 vs Bottom 5)\n",
    "ax6 = axes[1, 2]\n",
    "ax6.remove()  # Remove this subplot for the radar chart\n",
    "\n",
    "# Create radar chart\n",
    "from math import pi\n",
    "categories = ['Speed', 'Consistency', 'Card Quality', 'Threats', 'Interaction', 'Mana Eff.', 'Late Game', 'Coherence']\n",
    "metric_cols = ['speed_score', 'consistency_score', 'card_quality', 'threat_density', \n",
    "               'interaction_score', 'mana_efficiency', 'late_game_power', 'archetype_coherence']\n",
    "\n",
    "# Normalize metrics to 0-1 scale for radar chart\n",
    "normalized_df = performance_df[metric_cols].copy()\n",
    "for col in metric_cols:\n",
    "    max_val = normalized_df[col].max()\n",
    "    if max_val > 0:\n",
    "        normalized_df[col] = normalized_df[col] / max_val\n",
    "\n",
    "# Get top and bottom performers\n",
    "top_deck = performance_df.nlargest(1, 'overall_performance').index[0]\n",
    "bottom_deck = performance_df.nsmallest(1, 'overall_performance').index[0]\n",
    "\n",
    "# Create subplot for radar\n",
    "ax6 = plt.subplot(2, 3, 6, projection='polar')\n",
    "angles = [n / float(len(categories)) * 2 * pi for n in range(len(categories))]\n",
    "angles += angles[:1]\n",
    "\n",
    "# Plot top performer\n",
    "top_values = normalized_df.loc[top_deck, metric_cols].values.tolist()\n",
    "top_values += top_values[:1]\n",
    "ax6.plot(angles, top_values, 'o-', linewidth=2, label=f'Best: {top_deck}', color='green')\n",
    "ax6.fill(angles, top_values, alpha=0.25, color='green')\n",
    "\n",
    "# Plot bottom performer\n",
    "bottom_values = normalized_df.loc[bottom_deck, metric_cols].values.tolist()\n",
    "bottom_values += bottom_values[:1]\n",
    "ax6.plot(angles, bottom_values, 'o-', linewidth=2, label=f'Worst: {bottom_deck}', color='red')\n",
    "ax6.fill(angles, bottom_values, alpha=0.25, color='red')\n",
    "\n",
    "ax6.set_xticks(angles[:-1])\n",
    "ax6.set_xticklabels(categories)\n",
    "ax6.set_ylim(0, 1)\n",
    "ax6.set_title('Performance Comparison\\n(Top vs Bottom Deck)', y=1.08)\n",
    "ax6.legend(loc='upper right', bbox_to_anchor=(1.3, 1.0))\n",
    "\n",
    "plt.tight_layout()\n",
    "plt.show()\n",
    "\n",
    "print(\"📊 Performance dashboard complete!\")\n",
    "print(f\"Best performing deck: {top_deck} (Score: {performance_df.loc[top_deck, 'overall_performance']:.3f})\")\n",
    "print(f\"Worst performing deck: {bottom_deck} (Score: {performance_df.loc[bottom_deck, 'overall_performance']:.3f})\")"
   ]
  },
  {
   "cell_type": "code",
   "execution_count": null,
   "id": "17901a69",
   "metadata": {},
   "outputs": [
    {
     "name": "stdout",
     "output_type": "stream",
     "text": [
      "🏆 DETAILED PERFORMANCE RANKINGS\n",
      "============================================================\n",
      "TOP 10 PERFORMING DECKS:\n",
      "----------------------------------------\n",
      " 1. Red Aggro            (Midrange) - Score: 1.752\n",
      " 2. Black Tempo          (Midrange) - Score: 1.746\n",
      " 3. Rakdos Aggro         (Aggro   ) - Score: 1.691\n",
      " 4. Red Burn             (Aggro   ) - Score: 1.648\n",
      " 5. Red Tribals          (Midrange) - Score: 1.599\n",
      " 6. Blue Tempo           (Tempo   ) - Score: 1.563\n",
      " 7. White Voltron        (Midrange) - Score: 1.554\n",
      " 8. White Slivers        (Midrange) - Score: 1.542\n",
      " 9. White Tribals        (Midrange) - Score: 1.528\n",
      "10. Golgari Midrange     (Midrange) - Score: 1.484\n",
      "\n",
      "BOTTOM 5 PERFORMING DECKS:\n",
      "----------------------------------------\n",
      "21. Orzhov Midrange      (Midrange) - Score: 1.219\n",
      "22. Black Spellslinger   (Midrange) - Score: 1.105\n",
      "23. Simic Ramp           (Midrange) - Score: 1.019\n",
      "24. Blue Spellslinger    (Midrange) - Score: 0.799\n",
      "25. Green Ramp           (Ramp    ) - Score: 0.794\n",
      "\n",
      "🥇 CATEGORY LEADERS:\n",
      "----------------------------------------\n",
      "Fastest Deck        : Black Tempo (Midrange) - 3.667\n",
      "Most Consistent     : Black Tempo (Midrange) - 4.758\n",
      "Highest Card Quality: Green Ramp (Ramp) - 2.718\n",
      "Best Threat Density : White Tribals (Midrange) - 0.458\n",
      "Most Interactive    : White Enchantments (Midrange) - 0.000\n",
      "Most Mana Efficient : Black Tempo (Midrange) - 1.875\n",
      "Best Late Game      : Green Ramp (Ramp) - 0.400\n",
      "Most Coherent       : Rakdos Aggro (Aggro) - 0.817\n",
      "\n",
      "📊 PERFORMANCE STATISTICS:\n",
      "----------------------------------------\n",
      "Average Performance Score: 1.394\n",
      "Performance Std Deviation: 0.256\n",
      "Performance Range: 0.794 - 1.752\n",
      "\n",
      "🎯 ARCHETYPE PERFORMANCE:\n",
      "----------------------------------------\n",
      "Aggro       : Avg 1.670 ± 0.030 (2.0 decks)\n",
      "Midrange    : Avg 1.388 ± 0.228 (21.0 decks)\n",
      "Ramp        : Avg 0.794 ± nan (1.0 decks)\n",
      "Tempo       : Avg 1.563 ± nan (1.0 decks)\n",
      "\n",
      "⚖️ BALANCE ASSESSMENT:\n",
      "----------------------------------------\n",
      "✅ EXCELLENT balance - decks are very evenly matched\n",
      "Performance range: 0.958\n",
      "Coefficient of variation: 0.184\n"
     ]
    }
   ],
   "source": [
    "# Detailed Performance Analysis and Rankings\n",
    "print(\"🏆 DETAILED PERFORMANCE RANKINGS\")\n",
    "print(\"=\"*60)\n",
    "\n",
    "# Sort by overall performance\n",
    "ranked_df = performance_df.sort_values('overall_performance', ascending=False)\n",
    "\n",
    "print(\"TOP 10 PERFORMING DECKS:\")\n",
    "print(\"-\" * 40)\n",
    "for i, (theme, row) in enumerate(ranked_df.head(10).iterrows(), 1):\n",
    "    print(f\"{i:2d}. {theme:<20} ({row['archetype']:<8}) - Score: {row['overall_performance']:.3f}\")\n",
    "\n",
    "print(\"\\nBOTTOM 5 PERFORMING DECKS:\")\n",
    "print(\"-\" * 40)\n",
    "for i, (theme, row) in enumerate(ranked_df.tail(5).iterrows(), len(ranked_df)-4):\n",
    "    print(f\"{i:2d}. {theme:<20} ({row['archetype']:<8}) - Score: {row['overall_performance']:.3f}\")\n",
    "\n",
    "# Category leaders\n",
    "print(\"\\n🥇 CATEGORY LEADERS:\")\n",
    "print(\"-\" * 40)\n",
    "categories = {\n",
    "    'Fastest Deck': 'speed_score',\n",
    "    'Most Consistent': 'consistency_score', \n",
    "    'Highest Card Quality': 'card_quality',\n",
    "    'Best Threat Density': 'threat_density',\n",
    "    'Most Interactive': 'interaction_score',\n",
    "    'Most Mana Efficient': 'mana_efficiency',\n",
    "    'Best Late Game': 'late_game_power',\n",
    "    'Most Coherent': 'archetype_coherence'\n",
    "}\n",
    "\n",
    "for category, metric in categories.items():\n",
    "    leader = performance_df.nlargest(1, metric)\n",
    "    theme = leader.index[0]\n",
    "    score = leader[metric].iloc[0]\n",
    "    archetype = leader['archetype'].iloc[0]\n",
    "    print(f\"{category:<20}: {theme} ({archetype}) - {score:.3f}\")\n",
    "\n",
    "print(\"\\n📊 PERFORMANCE STATISTICS:\")\n",
    "print(\"-\" * 40)\n",
    "print(f\"Average Performance Score: {performance_df['overall_performance'].mean():.3f}\")\n",
    "print(f\"Performance Std Deviation: {performance_df['overall_performance'].std():.3f}\")\n",
    "print(f\"Performance Range: {performance_df['overall_performance'].min():.3f} - {performance_df['overall_performance'].max():.3f}\")\n",
    "\n",
    "# Archetype analysis\n",
    "print(f\"\\n🎯 ARCHETYPE PERFORMANCE:\")\n",
    "print(\"-\" * 40)\n",
    "archetype_stats = performance_df.groupby('archetype')['overall_performance'].agg(['mean', 'std', 'count'])\n",
    "for archetype, stats in archetype_stats.iterrows():\n",
    "    print(f\"{archetype:<12}: Avg {stats['mean']:.3f} ± {stats['std']:.3f} ({stats['count']} decks)\")\n",
    "\n",
    "# Balance assessment\n",
    "performance_range = performance_df['overall_performance'].max() - performance_df['overall_performance'].min()\n",
    "print(f\"\\n⚖️ BALANCE ASSESSMENT:\")\n",
    "print(\"-\" * 40)\n",
    "if performance_range < 1.0:\n",
    "    print(\"✅ EXCELLENT balance - decks are very evenly matched\")\n",
    "elif performance_range < 1.5:\n",
    "    print(\"✅ GOOD balance - reasonable variation between decks\")\n",
    "elif performance_range < 2.0:\n",
    "    print(\"⚠️  MODERATE balance - some decks significantly stronger\")\n",
    "else:\n",
    "    print(\"❌ POOR balance - large performance gaps between decks\")\n",
    "\n",
    "print(f\"Performance range: {performance_range:.3f}\")\n",
    "print(f\"Coefficient of variation: {(performance_df['overall_performance'].std() / performance_df['overall_performance'].mean()):.3f}\")"
   ]
  },
  {
   "cell_type": "code",
   "execution_count": null,
   "id": "fe80908c",
   "metadata": {},
   "outputs": [
    {
     "name": "stdout",
     "output_type": "stream",
     "text": [
      "🔧 IMPROVEMENT SUGGESTIONS FOR WEAKEST DECKS\n",
      "============================================================\n",
      "\n",
      "📋 ORZHOV MIDRANGE (Midrange)\n",
      "Current Score: 1.219\n",
      "----------------------------------------\n",
      "  ⚡ SPEED: Reduce average CMC from 3.2 - add more 1-2 mana cards\n",
      "  🎯 CONSISTENCY: High CMC variance - smooth out the mana curve\n",
      "  🛡️ INTERACTION: Add removal spells, counterspells, or other answers\n",
      "  💎 EFFICIENCY: Cards are expensive for their effects - need better mana-to-impact ratio\n",
      "  📊 Current Stats:\n",
      "     - Avg CMC: 3.2\n",
      "     - Creatures: 6/12\n",
      "     - Early game (CMC ≤2): 3\n",
      "\n",
      "📋 BLACK SPELLSLINGER (Midrange)\n",
      "Current Score: 1.105\n",
      "----------------------------------------\n",
      "  ⚡ SPEED: Reduce average CMC from 2.9 - add more 1-2 mana cards\n",
      "  🎯 CONSISTENCY: High CMC variance - smooth out the mana curve\n",
      "  ⭐ QUALITY: Replace weakest cards with higher impact alternatives\n",
      "  🛡️ INTERACTION: Add removal spells, counterspells, or other answers\n",
      "  💎 EFFICIENCY: Cards are expensive for their effects - need better mana-to-impact ratio\n",
      "  📊 Current Stats:\n",
      "     - Avg CMC: 2.9\n",
      "     - Creatures: 8/12\n",
      "     - Early game (CMC ≤2): 7\n",
      "\n",
      "📋 SIMIC RAMP (Midrange)\n",
      "Current Score: 1.019\n",
      "----------------------------------------\n",
      "  ⚡ SPEED: Reduce average CMC from 4.0 - add more 1-2 mana cards\n",
      "  🎯 CONSISTENCY: High CMC variance - smooth out the mana curve\n",
      "  🛡️ INTERACTION: Add removal spells, counterspells, or other answers\n",
      "  💎 EFFICIENCY: Cards are expensive for their effects - need better mana-to-impact ratio\n",
      "  📊 Current Stats:\n",
      "     - Avg CMC: 4.0\n",
      "     - Creatures: 9/12\n",
      "     - Early game (CMC ≤2): 2\n",
      "\n",
      "📋 BLUE SPELLSLINGER (Midrange)\n",
      "Current Score: 0.799\n",
      "----------------------------------------\n",
      "  ⚡ SPEED: Reduce average CMC from 3.8 - add more 1-2 mana cards\n",
      "  🎯 CONSISTENCY: High CMC variance - smooth out the mana curve\n",
      "  👊 THREATS: Add more win conditions - need creatures with 3+ power or other threats\n",
      "  🛡️ INTERACTION: Add removal spells, counterspells, or other answers\n",
      "  💎 EFFICIENCY: Cards are expensive for their effects - need better mana-to-impact ratio\n",
      "  📊 Current Stats:\n",
      "     - Avg CMC: 3.8\n",
      "     - Creatures: 5/12\n",
      "     - Early game (CMC ≤2): 4\n",
      "\n",
      "📋 GREEN RAMP (Ramp)\n",
      "Current Score: 0.794\n",
      "----------------------------------------\n",
      "  ⚡ SPEED: Reduce average CMC from 4.5 - add more 1-2 mana cards\n",
      "  🎯 CONSISTENCY: High CMC variance - smooth out the mana curve\n",
      "  🛡️ INTERACTION: Add removal spells, counterspells, or other answers\n",
      "  💎 EFFICIENCY: Cards are expensive for their effects - need better mana-to-impact ratio\n",
      "  🎯 FOCUS: Better align cards with the midrange/tempo strategy\n",
      "  📊 Current Stats:\n",
      "     - Avg CMC: 4.5\n",
      "     - Creatures: 7/12\n",
      "     - Early game (CMC ≤2): 4\n",
      "\n",
      "💡 GENERAL IMPROVEMENT STRATEGIES:\n",
      "----------------------------------------\n",
      "1. 🎯 Focus on archetype coherence - ensure cards support the deck's strategy\n",
      "2. ⚡ Balance mana curve - avoid too many expensive or cheap cards\n",
      "3. 👊 Include enough threats - minimum 30-40% of non-lands should pressure opponents\n",
      "4. 🛡️ Add interaction - 15-25% removal/answers help deal with opposing threats\n",
      "5. ⭐ Prioritize card quality - powerful effects are worth slightly higher mana costs\n",
      "6. 🔄 Test synergies - cards that work together are more than sum of parts\n"
     ]
    }
   ],
   "source": [
    "def generate_improvement_suggestions(deck_name, metrics, deck_df):\n",
    "    \"\"\"Generate specific improvement suggestions for a deck based on its metrics.\"\"\"\n",
    "    suggestions = []\n",
    "    \n",
    "    # Speed improvements\n",
    "    if metrics['speed_score'] < 2.5:\n",
    "        avg_cmc = deck_df[deck_df['Type'].str.contains('Land', na=False) == False]['CMC'].mean()\n",
    "        suggestions.append(f\"⚡ SPEED: Reduce average CMC from {avg_cmc:.1f} - add more 1-2 mana cards\")\n",
    "    \n",
    "    # Consistency improvements  \n",
    "    if metrics['consistency_score'] < 2.5:\n",
    "        suggestions.append(\"🎯 CONSISTENCY: High CMC variance - smooth out the mana curve\")\n",
    "    \n",
    "    # Card quality improvements\n",
    "    if metrics['card_quality'] < 2.0:\n",
    "        suggestions.append(\"⭐ QUALITY: Replace weakest cards with higher impact alternatives\")\n",
    "    \n",
    "    # Threat density improvements\n",
    "    if metrics['threat_density'] < 0.3:\n",
    "        suggestions.append(\"👊 THREATS: Add more win conditions - need creatures with 3+ power or other threats\")\n",
    "    \n",
    "    # Interaction improvements\n",
    "    if metrics['interaction_score'] < 0.15:\n",
    "        suggestions.append(\"🛡️ INTERACTION: Add removal spells, counterspells, or other answers\")\n",
    "    \n",
    "    # Mana efficiency improvements\n",
    "    if metrics['mana_efficiency'] < 1.0:\n",
    "        suggestions.append(\"💎 EFFICIENCY: Cards are expensive for their effects - need better mana-to-impact ratio\")\n",
    "    \n",
    "    # Late game improvements\n",
    "    if metrics['late_game_power'] < 0.1 and metrics['archetype_coherence'] > 0.7:\n",
    "        archetype = ALL_THEMES.get(deck_name, {}).get('archetype', 'Midrange')\n",
    "        if archetype in ['Control', 'Midrange']:\n",
    "            suggestions.append(\"🏰 LATE GAME: Add more expensive, powerful finishers\")\n",
    "    \n",
    "    # Archetype coherence improvements\n",
    "    if metrics['archetype_coherence'] < 0.5:\n",
    "        archetype = ALL_THEMES.get(deck_name, {}).get('archetype', 'Midrange')\n",
    "        if archetype == 'Aggro':\n",
    "            suggestions.append(\"🏃 FOCUS: Deck should be faster and more aggressive for aggro archetype\")\n",
    "        elif archetype == 'Control':\n",
    "            suggestions.append(\"🧠 FOCUS: Need more interaction and late-game power for control archetype\")\n",
    "        elif archetype == 'Combo':\n",
    "            suggestions.append(\"⚙️ FOCUS: Improve consistency and mana efficiency for combo archetype\")\n",
    "        else:\n",
    "            suggestions.append(\"🎯 FOCUS: Better align cards with the midrange/tempo strategy\")\n",
    "    \n",
    "    return suggestions\n",
    "\n",
    "# Analyze weakest performing decks and generate improvement suggestions\n",
    "print(\"🔧 IMPROVEMENT SUGGESTIONS FOR WEAKEST DECKS\")\n",
    "print(\"=\"*60)\n",
    "\n",
    "weakest_decks = ranked_df.tail(5)\n",
    "for deck_name, metrics in weakest_decks.iterrows():\n",
    "    print(f\"\\n📋 {deck_name.upper()} ({metrics['archetype']})\")\n",
    "    print(f\"Current Score: {metrics['overall_performance']:.3f}\")\n",
    "    print(\"-\" * 40)\n",
    "    \n",
    "    suggestions = generate_improvement_suggestions(deck_name, metrics, deck_dataframes[deck_name])\n",
    "    \n",
    "    if suggestions:\n",
    "        for suggestion in suggestions:\n",
    "            print(f\"  {suggestion}\")\n",
    "    else:\n",
    "        print(\"  ✅ Deck is performing well overall - minor tweaks may help\")\n",
    "    \n",
    "    # Show current deck composition for context\n",
    "    deck_df = deck_dataframes[deck_name]\n",
    "    non_lands = deck_df[deck_df['Type'].str.contains('Land', na=False) == False]\n",
    "    creatures = deck_df[deck_df['Type'].str.contains('Creature', na=False)]\n",
    "    \n",
    "    print(f\"  📊 Current Stats:\")\n",
    "    print(f\"     - Avg CMC: {non_lands['CMC'].mean():.1f}\")\n",
    "    print(f\"     - Creatures: {len(creatures)}/{len(non_lands)}\")\n",
    "    print(f\"     - Early game (CMC ≤2): {len(non_lands[non_lands['CMC'] <= 2])}\")\n",
    "\n",
    "print(f\"\\n💡 GENERAL IMPROVEMENT STRATEGIES:\")\n",
    "print(\"-\" * 40)\n",
    "print(\"1. 🎯 Focus on archetype coherence - ensure cards support the deck's strategy\")\n",
    "print(\"2. ⚡ Balance mana curve - avoid too many expensive or cheap cards\")\n",
    "print(\"3. 👊 Include enough threats - minimum 30-40% of non-lands should pressure opponents\") \n",
    "print(\"4. 🛡️ Add interaction - 15-25% removal/answers help deal with opposing threats\")\n",
    "print(\"5. ⭐ Prioritize card quality - powerful effects are worth slightly higher mana costs\")\n",
    "print(\"6. 🔄 Test synergies - cards that work together are more than sum of parts\")"
   ]
  },
  {
   "cell_type": "code",
   "execution_count": null,
   "id": "cf536a47",
   "metadata": {},
   "outputs": [
    {
     "name": "stdout",
     "output_type": "stream",
     "text": [
      "📄 PERFORMANCE ANALYSIS EXPORT COMPLETE\n",
      "==================================================\n",
      "✅ Detailed metrics saved to: deck_performance_analysis.csv\n",
      "✅ Analysis covers 25 decks\n",
      "✅ Performance range: 0.958\n",
      "✅ Best deck: Red Aggro\n",
      "✅ Most balanced archetype: Aggro\n",
      "\n",
      "📊 EXPORTABLE PERFORMANCE DATA PREVIEW:\n",
      "--------------------------------------------------\n",
      "                   archetype  overall_performance  speed_score  card_quality  \\\n",
      "theme                                                                          \n",
      "White Enchantments  Midrange                1.464        2.833         1.487   \n",
      "White Slivers       Midrange                1.542        3.333         1.179   \n",
      "White Tribals       Midrange                1.528        2.417         1.744   \n",
      "White Voltron       Midrange                1.554        2.583         1.641   \n",
      "Blue Tribals        Midrange                1.342        1.833         2.103   \n",
      "Blue Tempo             Tempo                1.563        2.667         1.590   \n",
      "Blue Spellslinger   Midrange                0.799        1.250         2.256   \n",
      "Blue Mill           Midrange                1.391        2.750         1.538   \n",
      "Black Tribals       Midrange                1.295        2.667         1.590   \n",
      "Black Aristocrats   Midrange                1.422        2.750         1.538   \n",
      "\n",
      "                    threat_density  interaction_score  \n",
      "theme                                                  \n",
      "White Enchantments           0.417                0.0  \n",
      "White Slivers                0.375                0.0  \n",
      "White Tribals                0.458                0.0  \n",
      "White Voltron                0.375                0.0  \n",
      "Blue Tribals                 0.333                0.0  \n",
      "Blue Tempo                   0.333                0.0  \n",
      "Blue Spellslinger            0.208                0.0  \n",
      "Blue Mill                    0.208                0.0  \n",
      "Black Tribals                0.375                0.0  \n",
      "Black Aristocrats            0.417                0.0  \n"
     ]
    }
   ],
   "source": [
    "# Export performance analysis results\n",
    "performance_export = performance_df.round(3)\n",
    "performance_export.to_csv('output/deck_performance_analysis.csv')\n",
    "\n",
    "# Create a summary report\n",
    "summary_report = {\n",
    "    'total_decks': len(performance_df),\n",
    "    'avg_performance': performance_df['overall_performance'].mean(),\n",
    "    'performance_std': performance_df['overall_performance'].std(),\n",
    "    'best_deck': performance_df.nlargest(1, 'overall_performance').index[0],\n",
    "    'worst_deck': performance_df.nsmallest(1, 'overall_performance').index[0],\n",
    "    'most_balanced_archetype': archetype_stats.loc[archetype_stats['std'].idxmin()].name,\n",
    "    'performance_range': performance_df['overall_performance'].max() - performance_df['overall_performance'].min()\n",
    "}\n",
    "\n",
    "print(\"📄 PERFORMANCE ANALYSIS EXPORT COMPLETE\")\n",
    "print(\"=\"*50)\n",
    "print(f\"✅ Detailed metrics saved to: deck_performance_analysis.csv\")\n",
    "print(f\"✅ Analysis covers {summary_report['total_decks']} decks\")\n",
    "print(f\"✅ Performance range: {summary_report['performance_range']:.3f}\")\n",
    "print(f\"✅ Best deck: {summary_report['best_deck']}\")\n",
    "print(f\"✅ Most balanced archetype: {summary_report['most_balanced_archetype']}\")\n",
    "\n",
    "# Show exportable data preview\n",
    "print(f\"\\n📊 EXPORTABLE PERFORMANCE DATA PREVIEW:\")\n",
    "print(\"-\" * 50)\n",
    "preview_cols = ['archetype', 'overall_performance', 'speed_score', 'card_quality', 'threat_density', 'interaction_score']\n",
    "print(performance_export[preview_cols].head(10))"
   ]
  },
  {
   "cell_type": "code",
   "execution_count": null,
   "id": "92c9c6f7",
   "metadata": {},
   "outputs": [
    {
     "name": "stdout",
     "output_type": "stream",
     "text": [
      "🔄 Loading complete MTG card database...\n",
      "✅ Loaded 32383 cards for validation\n",
      "Sample card data:\n",
      "  Total cards: 32383\n",
      "  Cards with text: 32037\n",
      "  Unique card types: 3650\n",
      "\n",
      "Example cards:\n",
      "  And They Shall Know No Fear: Choose a creature type. Creatures you control of the chosen type get +1/+0 and gain indestructible u...\n",
      "  Celestine, the Living Saint: Flying, lifelink\\nHealing Tears — At the beginning of your end step, return target creature card wit...\n",
      "  Defenders of Humanity: When this enchantment enters, create X 2/2 white Astartes Warrior creature tokens with vigilance.\\n{...\n"
     ]
    }
   ],
   "source": [
    "# Load the complete MTG card database for validation\n",
    "import re\n",
    "from collections import Counter, defaultdict\n",
    "from jumpstart.src.theme_extraction.keywords import ALL_KEYWORD_SETS\n",
    "\n",
    "print(\"🔄 Loading complete MTG card database...\")\n",
    "cards_df = pd.read_csv('.build/cards.csv')\n",
    "print(f\"✅ Loaded {len(cards_df)} cards for validation\")\n",
    "\n",
    "# Clean and prepare card data for analysis\n",
    "cards_df['text'] = cards_df['text'].fillna('')  # Handle missing text\n",
    "cards_df['text_lower'] = cards_df['text'].str.lower()\n",
    "cards_df['type_lower'] = cards_df['type'].str.lower() \n",
    "\n",
    "print(f\"Sample card data:\")\n",
    "print(f\"  Total cards: {len(cards_df)}\")\n",
    "print(f\"  Cards with text: {len(cards_df[cards_df['text'] != ''])}\")\n",
    "print(f\"  Unique card types: {cards_df['type'].nunique()}\")\n",
    "\n",
    "# Show some examples\n",
    "print(f\"\\nExample cards:\")\n",
    "sample_cards = cards_df[cards_df['text'] != ''].head(3)\n",
    "for _, card in sample_cards.iterrows():\n",
    "    print(f\"  {card['name']}: {card['text'][:100]}...\")"
   ]
  }
 ],
 "metadata": {
  "kernelspec": {
   "display_name": ".venv (3.13.2)",
   "language": "python",
   "name": "python3"
  },
  "language_info": {
   "codemirror_mode": {
    "name": "ipython",
    "version": 3
   },
   "file_extension": ".py",
   "mimetype": "text/x-python",
   "name": "python",
   "nbconvert_exporter": "python",
   "pygments_lexer": "ipython3",
   "version": "3.13.2"
  }
 },
 "nbformat": 4,
 "nbformat_minor": 5
}

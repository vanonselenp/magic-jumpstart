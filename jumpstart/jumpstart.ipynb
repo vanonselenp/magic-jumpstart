{
 "cells": [
  {
   "cell_type": "code",
   "execution_count": null,
   "id": "6ef0b8fa",
   "metadata": {},
   "outputs": [],
   "source": [
    "import pandas as pd\n",
    "from dotenv import load_dotenv\n",
    "from openai import OpenAI\n",
    "from anthropic import Anthropic\n",
    "from src.consts import *\n",
    "from src.validation import validate_jumpstart_cube, display_validate_results\n",
    "from src.coherence import analyze_deck_theme_coherence_enhanced\n",
    "from src.improve import apply_swap\n",
    "\n",
    "load_dotenv(override=True)\n",
    "openai = OpenAI()\n",
    "anthropic = Anthropic() \n",
    "\n",
    "# Load the data files\n",
    "oracle_df = pd.read_csv('ThePauperCube_oracle_with_pt.csv')\n",
    "cube_df = pd.read_csv('JumpstartCube_ThePauperCube_ULTIMATE_Final_v2.csv')"
   ]
  },
  {
   "cell_type": "code",
   "execution_count": 5,
   "id": "cfbca9d7",
   "metadata": {},
   "outputs": [
    {
     "name": "stdout",
     "output_type": "stream",
     "text": [
      "=== DATA STRUCTURE DEBUG ===\n",
      "Cube_df shape: (390, 11)\n",
      "Cube_df columns: ['Name', 'Set', 'Collector Number', 'Rarity', 'Color Identity', 'Type', 'Mana Cost', 'CMC', 'Power', 'Toughness', 'Tags']\n",
      "\n",
      "First few rows of cube_df:\n",
      "                    Name    Set  Collector Number  Rarity Color Identity  \\\n",
      "0          Archaeomancer  Mixed               NaN  common              U   \n",
      "1  Behold the Multiverse  Mixed               NaN  common              U   \n",
      "2             Ephemerate  Mixed               NaN  common              W   \n",
      "3         Lyev Skyknight  Mixed               NaN  common             WU   \n",
      "4        Lórien Revealed  Mixed               NaN  common              U   \n",
      "\n",
      "                      Type  Mana Cost  CMC  Power  Toughness  \\\n",
      "0  Creature - Human Wizard        NaN    4    NaN        NaN   \n",
      "1                  Instant        NaN    4    NaN        NaN   \n",
      "2                  Instant        NaN    1    NaN        NaN   \n",
      "3  Creature - Human Knight        NaN    3    NaN        NaN   \n",
      "4                  Sorcery        NaN    5    NaN        NaN   \n",
      "\n",
      "                     Tags  \n",
      "0  Azorius Evasion/Flying  \n",
      "1  Azorius Evasion/Flying  \n",
      "2  Azorius Evasion/Flying  \n",
      "3  Azorius Evasion/Flying  \n",
      "4  Azorius Evasion/Flying  \n",
      "\n",
      "Oracle_df shape: (450, 10)\n",
      "Oracle_df columns: ['name', 'CMC', 'Type', 'Color', 'Color Category', 'Oracle Text', 'tags', 'MTGO ID', 'Power', 'Toughness']\n"
     ]
    }
   ],
   "source": [
    "# Debug: Check the data structure\n",
    "print(\"=== DATA STRUCTURE DEBUG ===\")\n",
    "print(f\"Cube_df shape: {cube_df.shape}\")\n",
    "print(f\"Cube_df columns: {list(cube_df.columns)}\")\n",
    "print(\"\\nFirst few rows of cube_df:\")\n",
    "print(cube_df.head())\n",
    "print(f\"\\nOracle_df shape: {oracle_df.shape}\")\n",
    "print(f\"Oracle_df columns: {list(oracle_df.columns)}\")"
   ]
  },
  {
   "cell_type": "markdown",
   "id": "4ed2b044",
   "metadata": {},
   "source": [
    "# Optimise"
   ]
  },
  {
   "cell_type": "code",
   "execution_count": 7,
   "id": "2a2f16e9",
   "metadata": {},
   "outputs": [
    {
     "name": "stdout",
     "output_type": "stream",
     "text": [
      "Swap history cleared\n"
     ]
    },
    {
     "data": {
      "text/markdown": [
       "Analyzing deck: Blue Flyers"
      ],
      "text/plain": [
       "<IPython.core.display.Markdown object>"
      ]
     },
     "metadata": {},
     "output_type": "display_data"
    },
    {
     "data": {
      "text/markdown": [
       "Current coherence: 0.3"
      ],
      "text/plain": [
       "<IPython.core.display.Markdown object>"
      ]
     },
     "metadata": {},
     "output_type": "display_data"
    },
    {
     "data": {
      "text/markdown": [
       "Expected themes: Unknown"
      ],
      "text/plain": [
       "<IPython.core.display.Markdown object>"
      ]
     },
     "metadata": {},
     "output_type": "display_data"
    },
    {
     "data": {
      "text/markdown": [
       "Deck colors: U"
      ],
      "text/plain": [
       "<IPython.core.display.Markdown object>"
      ]
     },
     "metadata": {},
     "output_type": "display_data"
    },
    {
     "data": {
      "text/markdown": [
       "Found 0 candidate cards to consider"
      ],
      "text/plain": [
       "<IPython.core.display.Markdown object>"
      ]
     },
     "metadata": {},
     "output_type": "display_data"
    },
    {
     "data": {
      "text/markdown": [
       "❌ **Error:** Not enough candidate cards found. Need 2, found 0"
      ],
      "text/plain": [
       "<IPython.core.display.Markdown object>"
      ]
     },
     "metadata": {},
     "output_type": "display_data"
    },
    {
     "name": "stdout",
     "output_type": "stream",
     "text": [
      "No swaps available for Blue Flyers: Not enough candidate cards found. Need 2, found 0\n",
      "Iteration 1: Total coherence: 214.19 (improvement: 0.00)\n",
      "No further improvements found - optimization complete!\n"
     ]
    }
   ],
   "source": [
    "# You can also analyze a specific deck by name\n",
    "# Example: Analyze the \"Green Big Creatures\" deck\n",
    "\n",
    "import importlib\n",
    "import src.process\n",
    "importlib.reload(src.process)\n",
    "\n",
    "from src.process import optimize_deck_coherence, clear_swap_history\n",
    "\n",
    "# Clear any previous swap history to prevent issues with oscillation\n",
    "clear_swap_history()\n",
    "\n",
    "coherence = analyze_deck_theme_coherence_enhanced(cube_df, oracle_df)\n",
    "total_coherence = sum(result['overall_coherence'] for result in coherence.values())\n",
    "\n",
    "improvement = True\n",
    "iteration = 0\n",
    "max_iterations = 20  # Prevent infinite loops\n",
    "\n",
    "while improvement and iteration < max_iterations:\n",
    "    prev_total_coherence = total_coherence\n",
    "    cube_df = optimize_deck_coherence(cube_df=cube_df, oracle_df=oracle_df)\n",
    "    coherence = analyze_deck_theme_coherence_enhanced(cube_df, oracle_df)\n",
    "    total_coherence = sum(result['overall_coherence'] for result in coherence.values())\n",
    "    improvement = total_coherence > prev_total_coherence\n",
    "    iteration += 1\n",
    "    print(f\"Iteration {iteration}: Total coherence: {total_coherence:.2f} (improvement: {total_coherence - prev_total_coherence:.2f})\")\n",
    "    \n",
    "    if not improvement:\n",
    "        print(\"No further improvements found - optimization complete!\")\n",
    "    elif iteration >= max_iterations:\n",
    "        print(\"Maximum iterations reached - stopping optimization\")"
   ]
  },
  {
   "cell_type": "markdown",
   "id": "f407f31b",
   "metadata": {},
   "source": [
    "# Save to file"
   ]
  },
  {
   "cell_type": "code",
   "execution_count": null,
   "id": "b89cb5cc",
   "metadata": {},
   "outputs": [
    {
     "name": "stdout",
     "output_type": "stream",
     "text": [
      "Exporting cube to JumpstartCube_ThePauperCube_ULTIMATE_Final_v4.csv...\n",
      "✅ Successfully exported 390 cards to JumpstartCube_ThePauperCube_ULTIMATE_Final_v4.csv\n",
      "\n",
      "📊 Export Summary:\n",
      "Total cards: 390\n",
      "Number of decks: 30\n",
      "\n",
      "Deck breakdown:\n",
      "  Azorius Evasion/Flying: 13 cards\n",
      "  Black Aggro: 13 cards\n",
      "  White Equipment: 13 cards\n",
      "  White Control: 13 cards\n",
      "  White Aggro: 13 cards\n",
      "  Simic Control: 13 cards\n",
      "  Selesnya Control: 13 cards\n",
      "  Red Artifacts: 13 cards\n",
      "  Red Burn: 13 cards\n",
      "  Rakdos Burn/Damage: 13 cards\n",
      "  ... and 20 more decks\n"
     ]
    },
    {
     "data": {
      "text/plain": [
       "'JumpstartCube_ThePauperCube_ULTIMATE_Final_v4.csv'"
      ]
     },
     "execution_count": 21,
     "metadata": {},
     "output_type": "execute_result"
    }
   ],
   "source": [
    "from src.export import export_cube_to_csv\n",
    "\n",
    "export_cube_to_csv(cube_df, oracle_df, 'JumpstartCube_ThePauperCube_ULTIMATE_Final_v2.csv')"
   ]
  },
  {
   "cell_type": "markdown",
   "id": "0af7f3c9",
   "metadata": {},
   "source": [
    "# Analysis"
   ]
  },
  {
   "cell_type": "code",
   "execution_count": null,
   "id": "2c4d7fff",
   "metadata": {},
   "outputs": [],
   "source": [
    "# from src.coherence import display_coherence_analysis_enhanced\n",
    "\n",
    "\n",
    "# display_coherence_analysis_enhanced(analyze_deck_theme_coherence_enhanced(cube_df, oracle_df))"
   ]
  }
 ],
 "metadata": {
  "kernelspec": {
   "display_name": "magic",
   "language": "python",
   "name": "python3"
  },
  "language_info": {
   "codemirror_mode": {
    "name": "ipython",
    "version": 3
   },
   "file_extension": ".py",
   "mimetype": "text/x-python",
   "name": "python",
   "nbconvert_exporter": "python",
   "pygments_lexer": "ipython3",
   "version": "3.13.2"
  }
 },
 "nbformat": 4,
 "nbformat_minor": 5
}

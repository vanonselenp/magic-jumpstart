{
 "cells": [
  {
   "cell_type": "code",
   "execution_count": null,
   "id": "6ef0b8fa",
   "metadata": {},
   "outputs": [],
   "source": [
    "import pandas as pd\n",
    "from dotenv import load_dotenv\n",
    "from openai import OpenAI\n",
    "from anthropic import Anthropic\n",
    "from src.consts import *\n",
    "\n",
    "load_dotenv(override=True)\n",
    "openai = OpenAI()\n",
    "anthropic = Anthropic() \n",
    "\n",
    "# Load the data files\n",
    "oracle_df = pd.read_csv('ThePauperCube_oracle_with_pt.csv')\n",
    "print(f\"Loaded {len(oracle_df)} cards from oracle_df\")\n",
    "print(f\"Columns available: {list(oracle_df.columns)}\")\n",
    "oracle_df.head()"
   ]
  },
  {
   "cell_type": "markdown",
   "id": "4ed2b044",
   "metadata": {},
   "source": [
    "# Theme Validation\n",
    "Let's check if we have enough cards available for each theme in our jumpstart cube."
   ]
  },
  {
   "cell_type": "markdown",
   "id": "9a53fc20",
   "metadata": {},
   "source": [
    "# Deck Construction\n",
    "Now let's test the deck construction function to build actual jumpstart decks from our themes."
   ]
  },
  {
   "cell_type": "code",
   "execution_count": null,
   "id": "f5fdc170",
   "metadata": {},
   "outputs": [],
   "source": [
    "# Test the refactored deck construction function\n",
    "\n",
    "# Build all jumpstart decks using the new refactored version\n",
    "from src.construct import construct_jumpstart_decks, print_detailed_deck_analysis, CardConstraints, analyze_deck_composition\n",
    "\n",
    "# Create constraints with custom target deck size and non-land limits\n",
    "constraints = CardConstraints(\n",
    "    target_deck_size=13,\n",
    "    max_lands_dual=1,\n",
    "    max_lands_mono=1,\n",
    "    total_non_land=12,  # All 12 cards should be non-lands\n",
    "    min_creatures=2,  # Set minimum to 4 for testing\n",
    "    max_creatures=9\n",
    ")\n",
    "\n",
    "print(\"🚀 Starting deck construction with refactored algorithm...\")\n",
    "deck_dataframes = construct_jumpstart_decks(oracle_df, constraints=constraints)\n",
    "\n",
    "# Generate analysis first, then print detailed analysis\n",
    "analysis = analyze_deck_composition(deck_dataframes)\n",
    "print_detailed_deck_analysis(deck_dataframes, analysis, constraints)"
   ]
  },
  {
   "cell_type": "code",
   "execution_count": null,
   "id": "d0e2d791",
   "metadata": {},
   "outputs": [],
   "source": [
    "from src.export import export_cube_to_csv\n",
    "\n",
    "\n",
    "export_cube_to_csv(deck_dataframes, 'jumpstart_decks.csv', oracle_df)"
   ]
  },
  {
   "cell_type": "code",
   "execution_count": null,
   "id": "26e39bda",
   "metadata": {},
   "outputs": [],
   "source": [
    "# Import validation functions and run card uniqueness validation\n",
    "from src.validation import validate_card_uniqueness, validate_deck_constraints, validate_jumpstart_cube, display_validation_summary\n",
    "\n",
    "# Run the validation\n",
    "# validation_result = validate_card_uniqueness(deck_dataframes)\n",
    "validate_jumpstart_cube(deck_dataframes, oracle_df, ALL_THEMES, constraints)"
   ]
  },
  {
   "cell_type": "code",
   "execution_count": null,
   "id": "b9729d05",
   "metadata": {},
   "outputs": [],
   "source": [
    "# Additional analysis using the imported validation functions\n",
    "from src.validation import analyze_card_distribution\n",
    "\n",
    "# Run the distribution analysis\n",
    "distribution_analysis = analyze_card_distribution(deck_dataframes, oracle_df, constraints)"
   ]
  },
  {
   "cell_type": "code",
   "execution_count": null,
   "id": "935b0a42",
   "metadata": {},
   "outputs": [],
   "source": [
    "# from src.generate import generate_all_theme_prompts\n",
    "\n",
    "\n",
    "# all_prompts = generate_all_theme_prompts()"
   ]
  },
  {
   "cell_type": "code",
   "execution_count": null,
   "id": "3de8e3f8",
   "metadata": {},
   "outputs": [],
   "source": [
    "# Generate printable deck dividers for physical storage\n",
    "# from src.generate import generate_all_deck_dividers, print_single_divider\n",
    "\n",
    "# print(\"=== GENERATING DECK DIVIDERS ===\")\n",
    "# print(\"Creating printable divider cards for physical deck organization...\")\n",
    "# print()\n",
    "\n",
    "# # Generate all dividers and save to file\n",
    "# dividers = generate_all_deck_dividers(deck_dataframes, \"jumpstart_deck_dividers.txt\")\n",
    "\n",
    "# print()\n",
    "# print(\"Example divider for Selesnya Value:\")\n",
    "# print(\"-\" * 60)\n",
    "\n",
    "# Show an example divider\n",
    "# if 'Selesnya Value' in deck_dataframes:\n",
    "#     print_single_divider('Selesnya Value', deck_dataframes['Selesnya Value'])\n",
    "# else:\n",
    "#     # Show first available theme as example\n",
    "#     first_theme = next(iter(deck_dataframes.keys()))\n",
    "#     print(f\"Showing example for {first_theme}:\")\n",
    "#     print_single_divider(first_theme, deck_dataframes[first_theme])"
   ]
  },
  {
   "cell_type": "markdown",
   "id": "20842177",
   "metadata": {},
   "source": [
    "# Generated\n",
    " \n",
    "Below is AI"
   ]
  }
 ],
 "metadata": {
  "kernelspec": {
   "display_name": "magic (3.13.2)",
   "language": "python",
   "name": "python3"
  },
  "language_info": {
   "codemirror_mode": {
    "name": "ipython",
    "version": 3
   },
   "file_extension": ".py",
   "mimetype": "text/x-python",
   "name": "python",
   "nbconvert_exporter": "python",
   "pygments_lexer": "ipython3",
   "version": "3.13.2"
  }
 },
 "nbformat": 4,
 "nbformat_minor": 5
}

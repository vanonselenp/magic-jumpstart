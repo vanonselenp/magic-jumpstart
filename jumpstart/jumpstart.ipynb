{
 "cells": [
  {
   "cell_type": "code",
   "execution_count": 1,
   "id": "6ef0b8fa",
   "metadata": {},
   "outputs": [],
   "source": [
    "import pandas as pd\n",
    "from dotenv import load_dotenv\n",
    "from openai import OpenAI\n",
    "from anthropic import Anthropic\n",
    "from src.consts import *\n",
    "from src.validation import validate_jumpstart_cube, display_validate_results\n",
    "from src.coherence import analyze_deck_theme_coherence_enhanced\n",
    "from src.improve import apply_swap\n",
    "\n",
    "load_dotenv(override=True)\n",
    "openai = OpenAI()\n",
    "anthropic = Anthropic() \n",
    "\n",
    "# Load the data files\n",
    "oracle_df = pd.read_csv('ThePauperCube_oracle_with_pt.csv')\n",
    "cube_df = pd.read_csv('JumpstartCube_ThePauperCube_ULTIMATE_Final_v2.csv')"
   ]
  },
  {
   "cell_type": "markdown",
   "id": "4ed2b044",
   "metadata": {},
   "source": [
    "# Optimise"
   ]
  },
  {
   "cell_type": "code",
   "execution_count": null,
   "id": "e1311e95",
   "metadata": {},
   "outputs": [],
   "source": [
    "# You can also analyze a specific deck by name\n",
    "# Example: Analyze the \"Green Big Creatures\" deck\n",
    "\n",
    "import importlib\n",
    "import src.process\n",
    "importlib.reload(src.process)\n",
    "\n",
    "from src.process import optimize_deck_coherence, clear_swap_history\n",
    "\n",
    "# Clear any previous swap history to prevent issues with oscillation\n",
    "clear_swap_history()\n",
    "\n",
    "coherence = analyze_deck_theme_coherence_enhanced(cube_df, oracle_df)\n",
    "total_coherence = sum(result['overall_coherence'] for result in coherence.values())\n",
    "\n",
    "improvement = True\n",
    "iteration = 0\n",
    "max_iterations = 20  # Prevent infinite loops\n",
    "\n",
    "while improvement and iteration < max_iterations:\n",
    "    prev_total_coherence = total_coherence\n",
    "    cube_df = optimize_deck_coherence(cube_df=cube_df, oracle_df=oracle_df)\n",
    "    coherence = analyze_deck_theme_coherence_enhanced(cube_df, oracle_df)\n",
    "    total_coherence = sum(result['overall_coherence'] for result in coherence.values())\n",
    "    improvement = total_coherence > prev_total_coherence\n",
    "    iteration += 1\n",
    "    print(f\"Iteration {iteration}: Total coherence: {total_coherence:.2f} (improvement: {total_coherence - prev_total_coherence:.2f})\")\n",
    "    \n",
    "    if not improvement:\n",
    "        print(\"No further improvements found - optimization complete!\")\n",
    "    elif iteration >= max_iterations:\n",
    "        print(\"Maximum iterations reached - stopping optimization\")"
   ]
  },
  {
   "cell_type": "code",
   "execution_count": 33,
   "id": "2a2f16e9",
   "metadata": {},
   "outputs": [
    {
     "name": "stdout",
     "output_type": "stream",
     "text": [
      "Swap history cleared\n"
     ]
    },
    {
     "data": {
      "text/markdown": [
       "Analyzing deck: Green Stompy"
      ],
      "text/plain": [
       "<IPython.core.display.Markdown object>"
      ]
     },
     "metadata": {},
     "output_type": "display_data"
    },
    {
     "data": {
      "text/markdown": [
       "Current coherence: 5.2"
      ],
      "text/plain": [
       "<IPython.core.display.Markdown object>"
      ]
     },
     "metadata": {},
     "output_type": "display_data"
    },
    {
     "data": {
      "text/markdown": [
       "Expected themes: Stompy"
      ],
      "text/plain": [
       "<IPython.core.display.Markdown object>"
      ]
     },
     "metadata": {},
     "output_type": "display_data"
    },
    {
     "data": {
      "text/markdown": [
       "Deck colors: G"
      ],
      "text/plain": [
       "<IPython.core.display.Markdown object>"
      ]
     },
     "metadata": {},
     "output_type": "display_data"
    },
    {
     "data": {
      "text/markdown": [
       "Found 61 candidate cards to consider"
      ],
      "text/plain": [
       "<IPython.core.display.Markdown object>"
      ]
     },
     "metadata": {},
     "output_type": "display_data"
    },
    {
     "data": {
      "text/markdown": [
       "Identified 13 cards as potential removal candidates"
      ],
      "text/plain": [
       "<IPython.core.display.Markdown object>"
      ]
     },
     "metadata": {},
     "output_type": "display_data"
    },
    {
     "data": {
      "text/markdown": [
       "# 🔄 Swap Recommendations for Green Stompy"
      ],
      "text/plain": [
       "<IPython.core.display.Markdown object>"
      ]
     },
     "metadata": {},
     "output_type": "display_data"
    },
    {
     "data": {
      "text/markdown": [
       "**Projected New Coherence:** 30.2/100 (+25.0)"
      ],
      "text/plain": [
       "<IPython.core.display.Markdown object>"
      ]
     },
     "metadata": {},
     "output_type": "display_data"
    },
    {
     "data": {
      "text/markdown": [
       "### Cards to Remove:"
      ],
      "text/plain": [
       "<IPython.core.display.Markdown object>"
      ]
     },
     "metadata": {},
     "output_type": "display_data"
    },
    {
     "data": {
      "text/markdown": [
       "- **Utopia Sprawl** (Theme Score: 0.0, CMC: 1.0)"
      ],
      "text/plain": [
       "<IPython.core.display.Markdown object>"
      ]
     },
     "metadata": {},
     "output_type": "display_data"
    },
    {
     "data": {
      "text/markdown": [
       "- **Llanowar Elves** (Theme Score: 1.0, CMC: 1.0)"
      ],
      "text/plain": [
       "<IPython.core.display.Markdown object>"
      ]
     },
     "metadata": {},
     "output_type": "display_data"
    },
    {
     "data": {
      "text/markdown": [
       "### Cards to Add:"
      ],
      "text/plain": [
       "<IPython.core.display.Markdown object>"
      ]
     },
     "metadata": {},
     "output_type": "display_data"
    },
    {
     "data": {
      "text/markdown": [
       "- **Bannerhide Krushok** (Theme Score: 4.0) - from Green Big Creatures"
      ],
      "text/plain": [
       "<IPython.core.display.Markdown object>"
      ]
     },
     "metadata": {},
     "output_type": "display_data"
    },
    {
     "data": {
      "text/markdown": [
       "- **Hazard of the Dunes** (Theme Score: 2.0) - from Green Big Creatures"
      ],
      "text/plain": [
       "<IPython.core.display.Markdown object>"
      ]
     },
     "metadata": {},
     "output_type": "display_data"
    },
    {
     "name": "stdout",
     "output_type": "stream",
     "text": [
      "Coherence change: 5.21 → 7.41 (improvement: 2.20)\n",
      "✅ Improved Green Stompy coherence from 5.2 to 7.4\n",
      "Iteration 1: Total coherence: 287.43 (improvement: 0.79)\n"
     ]
    },
    {
     "data": {
      "text/markdown": [
       "Analyzing deck: Green Big Creatures"
      ],
      "text/plain": [
       "<IPython.core.display.Markdown object>"
      ]
     },
     "metadata": {},
     "output_type": "display_data"
    },
    {
     "data": {
      "text/markdown": [
       "Current coherence: 5.4"
      ],
      "text/plain": [
       "<IPython.core.display.Markdown object>"
      ]
     },
     "metadata": {},
     "output_type": "display_data"
    },
    {
     "data": {
      "text/markdown": [
       "Expected themes: Big Creatures"
      ],
      "text/plain": [
       "<IPython.core.display.Markdown object>"
      ]
     },
     "metadata": {},
     "output_type": "display_data"
    },
    {
     "data": {
      "text/markdown": [
       "Deck colors: G"
      ],
      "text/plain": [
       "<IPython.core.display.Markdown object>"
      ]
     },
     "metadata": {},
     "output_type": "display_data"
    },
    {
     "data": {
      "text/markdown": [
       "Found 24 candidate cards to consider"
      ],
      "text/plain": [
       "<IPython.core.display.Markdown object>"
      ]
     },
     "metadata": {},
     "output_type": "display_data"
    },
    {
     "data": {
      "text/markdown": [
       "Identified 13 cards as potential removal candidates"
      ],
      "text/plain": [
       "<IPython.core.display.Markdown object>"
      ]
     },
     "metadata": {},
     "output_type": "display_data"
    },
    {
     "data": {
      "text/markdown": [
       "# 🔄 Swap Recommendations for Green Big Creatures"
      ],
      "text/plain": [
       "<IPython.core.display.Markdown object>"
      ]
     },
     "metadata": {},
     "output_type": "display_data"
    },
    {
     "data": {
      "text/markdown": [
       "**Projected New Coherence:** 40.4/100 (+35.0)"
      ],
      "text/plain": [
       "<IPython.core.display.Markdown object>"
      ]
     },
     "metadata": {},
     "output_type": "display_data"
    },
    {
     "data": {
      "text/markdown": [
       "### Cards to Remove:"
      ],
      "text/plain": [
       "<IPython.core.display.Markdown object>"
      ]
     },
     "metadata": {},
     "output_type": "display_data"
    },
    {
     "data": {
      "text/markdown": [
       "- **Utopia Sprawl** (Theme Score: 0.0, CMC: 1.0)"
      ],
      "text/plain": [
       "<IPython.core.display.Markdown object>"
      ]
     },
     "metadata": {},
     "output_type": "display_data"
    },
    {
     "data": {
      "text/markdown": [
       "- **Llanowar Elves** (Theme Score: 0.0, CMC: 1.0)"
      ],
      "text/plain": [
       "<IPython.core.display.Markdown object>"
      ]
     },
     "metadata": {},
     "output_type": "display_data"
    },
    {
     "data": {
      "text/markdown": [
       "### Cards to Add:"
      ],
      "text/plain": [
       "<IPython.core.display.Markdown object>"
      ]
     },
     "metadata": {},
     "output_type": "display_data"
    },
    {
     "data": {
      "text/markdown": [
       "- **Bannerhide Krushok** (Theme Score: 4.0) - from Green Stompy"
      ],
      "text/plain": [
       "<IPython.core.display.Markdown object>"
      ]
     },
     "metadata": {},
     "output_type": "display_data"
    },
    {
     "data": {
      "text/markdown": [
       "- **Hazard of the Dunes** (Theme Score: 3.0) - from Green Stompy"
      ],
      "text/plain": [
       "<IPython.core.display.Markdown object>"
      ]
     },
     "metadata": {},
     "output_type": "display_data"
    },
    {
     "name": "stdout",
     "output_type": "stream",
     "text": [
      "Skipping swap for Green Big Creatures - would reverse a recent swap (preventing oscillation)\n",
      "Iteration 2: Total coherence: 287.43 (improvement: 0.00)\n",
      "No further improvements found - optimization complete!\n"
     ]
    }
   ],
   "source": [
    "# You can also analyze a specific deck by name\n",
    "# Example: Analyze the \"Green Big Creatures\" deck\n",
    "\n",
    "import importlib\n",
    "import src.process\n",
    "importlib.reload(src.process)\n",
    "\n",
    "from src.process import optimize_deck_coherence, clear_swap_history\n",
    "\n",
    "# Clear any previous swap history to prevent issues with oscillation\n",
    "clear_swap_history()\n",
    "\n",
    "coherence = analyze_deck_theme_coherence_enhanced(cube_df, oracle_df)\n",
    "total_coherence = sum(result['overall_coherence'] for result in coherence.values())\n",
    "\n",
    "improvement = True\n",
    "iteration = 0\n",
    "max_iterations = 20  # Prevent infinite loops\n",
    "\n",
    "while improvement and iteration < max_iterations:\n",
    "    prev_total_coherence = total_coherence\n",
    "    cube_df = optimize_deck_coherence(cube_df=cube_df, oracle_df=oracle_df)\n",
    "    coherence = analyze_deck_theme_coherence_enhanced(cube_df, oracle_df)\n",
    "    total_coherence = sum(result['overall_coherence'] for result in coherence.values())\n",
    "    improvement = total_coherence > prev_total_coherence\n",
    "    iteration += 1\n",
    "    print(f\"Iteration {iteration}: Total coherence: {total_coherence:.2f} (improvement: {total_coherence - prev_total_coherence:.2f})\")\n",
    "    \n",
    "    if not improvement:\n",
    "        print(\"No further improvements found - optimization complete!\")\n",
    "    elif iteration >= max_iterations:\n",
    "        print(\"Maximum iterations reached - stopping optimization\")"
   ]
  },
  {
   "cell_type": "markdown",
   "id": "f407f31b",
   "metadata": {},
   "source": [
    "# Save to file"
   ]
  },
  {
   "cell_type": "code",
   "execution_count": 34,
   "id": "b89cb5cc",
   "metadata": {},
   "outputs": [
    {
     "name": "stdout",
     "output_type": "stream",
     "text": [
      "Exporting cube to JumpstartCube_ThePauperCube_ULTIMATE_Final_v2.csv...\n",
      "✅ Successfully exported 390 cards to JumpstartCube_ThePauperCube_ULTIMATE_Final_v2.csv\n",
      "\n",
      "📊 Export Summary:\n",
      "Total cards: 390\n",
      "Number of decks: 30\n",
      "\n",
      "Deck breakdown:\n",
      "  Azorius Evasion/Flying: 13 cards\n",
      "  Blue Card Draw: 13 cards\n",
      "  White Equipment: 13 cards\n",
      "  White Control: 13 cards\n",
      "  White Aggro: 13 cards\n",
      "  Selesnya Control: 13 cards\n",
      "  Red Burn: 13 cards\n",
      "  Rakdos Burn/Damage: 13 cards\n",
      "  Orzhov Control: 13 cards\n",
      "  Red Artifacts: 13 cards\n",
      "  ... and 20 more decks\n"
     ]
    },
    {
     "data": {
      "text/plain": [
       "'JumpstartCube_ThePauperCube_ULTIMATE_Final_v2.csv'"
      ]
     },
     "execution_count": 34,
     "metadata": {},
     "output_type": "execute_result"
    }
   ],
   "source": [
    "from src.export import export_cube_to_csv\n",
    "\n",
    "export_cube_to_csv(cube_df, oracle_df, 'JumpstartCube_ThePauperCube_ULTIMATE_Final_v2.csv')"
   ]
  },
  {
   "cell_type": "markdown",
   "id": "0af7f3c9",
   "metadata": {},
   "source": [
    "# Analysis"
   ]
  },
  {
   "cell_type": "code",
   "execution_count": 4,
   "id": "2c4d7fff",
   "metadata": {},
   "outputs": [],
   "source": [
    "# from src.coherence import display_coherence_analysis_enhanced\n",
    "\n",
    "# display_coherence_analysis_enhanced(analyze_deck_theme_coherence_enhanced(cube_df, oracle_df))"
   ]
  },
  {
   "cell_type": "markdown",
   "id": "06231bde",
   "metadata": {},
   "source": [
    "# Generated"
   ]
  },
  {
   "cell_type": "code",
   "execution_count": 35,
   "id": "f4041195",
   "metadata": {},
   "outputs": [
    {
     "name": "stdout",
     "output_type": "stream",
     "text": [
      "🌲 FINDING BEST UNASSIGNED CARDS FOR GREEN STOMPY\n",
      "============================================================\n",
      "Total unassigned cards: 60\n",
      "\n",
      "Green Stompy keywords: ['trample', 'force', 'green', 'attack', 'overrun', 'aggressive']\n",
      "Power threshold: 3\n",
      "Green unassigned cards: 2\n",
      "\n",
      "🏆 TOP GREEN STOMPY CANDIDATES:\n",
      "==================================================\n",
      "\n",
      "==================================================\n",
      "🎯 BEST STOMPY ADDITIONS:\n",
      "==================================================\n",
      "BEST CREATURES:\n",
      "\n",
      "BEST SPELLS:\n",
      "\n",
      "💡 RECOMMENDATIONS:\n",
      "Consider adding these high-scoring cards to improve Green Stompy coherence!\n",
      "Focus on creatures with trample and efficient power/CMC ratios.\n"
     ]
    }
   ],
   "source": [
    "# Find the best unassigned cards for Green Stompy\n",
    "print(\"🌲 FINDING BEST UNASSIGNED CARDS FOR GREEN STOMPY\")\n",
    "print(\"=\" * 60)\n",
    "\n",
    "# First, let's reload the updated theme criteria\n",
    "import importlib\n",
    "import src.consts\n",
    "importlib.reload(src.consts)\n",
    "from src.consts import theme_keywords, theme_criteria\n",
    "\n",
    "# Get current cards in the cube\n",
    "cube_card_names = set(cube_df['Name'].tolist())\n",
    "\n",
    "# Find all cards that are in oracle but not in cube (unassigned)\n",
    "unassigned_cards = oracle_df[~oracle_df['name'].isin(cube_card_names)]\n",
    "\n",
    "print(f\"Total unassigned cards: {len(unassigned_cards)}\")\n",
    "\n",
    "# Get Green Stompy theme details\n",
    "stompy_keywords = theme_keywords['Stompy']\n",
    "stompy_criteria = theme_criteria['Stompy']\n",
    "\n",
    "print(f\"\\nGreen Stompy keywords: {stompy_keywords}\")\n",
    "print(f\"Power threshold: {stompy_criteria['power_threshold']}\")\n",
    "\n",
    "# Filter for green cards that match Stompy criteria\n",
    "green_unassigned = unassigned_cards[\n",
    "    (unassigned_cards['Color Category'].str.contains('Green', na=False))\n",
    "]\n",
    "\n",
    "print(f\"Green unassigned cards: {len(green_unassigned)}\")\n",
    "\n",
    "# Score each green card for Stompy theme\n",
    "stompy_candidates = []\n",
    "\n",
    "for _, card in green_unassigned.iterrows():\n",
    "    oracle_text = card['Oracle Text'] if pd.notna(card['Oracle Text']) else ''\n",
    "    card_name = card['name']\n",
    "    cmc = card['CMC'] if pd.notna(card['CMC']) else 0\n",
    "    power = card['Power'] if pd.notna(card['Power']) else 0\n",
    "    \n",
    "    # Calculate theme score based on keywords\n",
    "    theme_score = 0\n",
    "    keyword_matches = []\n",
    "    \n",
    "    for keyword in stompy_keywords:\n",
    "        if keyword.lower() in oracle_text.lower():\n",
    "            theme_score += 1\n",
    "            keyword_matches.append(keyword)\n",
    "    \n",
    "    # Bonus for meeting power threshold\n",
    "    if power >= stompy_criteria['power_threshold']:\n",
    "        theme_score += 2\n",
    "        keyword_matches.append(f\"power>={stompy_criteria['power_threshold']}\")\n",
    "    \n",
    "    # Bonus for trample (key Stompy ability)\n",
    "    if 'trample' in oracle_text.lower():\n",
    "        theme_score += stompy_criteria.get('trample_bonus', 2)\n",
    "        keyword_matches.append(\"trample_bonus\")\n",
    "    \n",
    "    # Bonus for efficient creatures (power >= CMC)\n",
    "    if power > 0 and power >= cmc:\n",
    "        theme_score += 1\n",
    "        keyword_matches.append(\"efficient\")\n",
    "    \n",
    "    # Bonus for low CMC aggressive cards\n",
    "    if cmc <= 3 and power >= 2:\n",
    "        theme_score += 1\n",
    "        keyword_matches.append(\"aggressive\")\n",
    "    \n",
    "    if theme_score > 0:\n",
    "        stompy_candidates.append({\n",
    "            'name': card_name,\n",
    "            'cmc': cmc,\n",
    "            'power': power,\n",
    "            'toughness': card['Toughness'] if pd.notna(card['Toughness']) else 0,\n",
    "            'type': card['Type'],\n",
    "            'oracle_text': oracle_text,\n",
    "            'theme_score': theme_score,\n",
    "            'matches': keyword_matches\n",
    "        })\n",
    "\n",
    "# Sort by theme score\n",
    "stompy_candidates.sort(key=lambda x: x['theme_score'], reverse=True)\n",
    "\n",
    "print(f\"\\n🏆 TOP GREEN STOMPY CANDIDATES:\")\n",
    "print(\"=\" * 50)\n",
    "\n",
    "for i, candidate in enumerate(stompy_candidates[:15]):  # Show top 15\n",
    "    print(f\"\\n{i+1}. {candidate['name']} (Score: {candidate['theme_score']})\")\n",
    "    print(f\"   CMC: {candidate['cmc']}, P/T: {candidate['power']}/{candidate['toughness']}\")\n",
    "    print(f\"   Type: {candidate['type']}\")\n",
    "    print(f\"   Matches: {', '.join(candidate['matches'])}\")\n",
    "    print(f\"   Text: {candidate['oracle_text'][:80]}...\")\n",
    "\n",
    "print(f\"\\n{'='*50}\")\n",
    "print(\"🎯 BEST STOMPY ADDITIONS:\")\n",
    "print(\"=\" * 50)\n",
    "\n",
    "# Categorize the best candidates\n",
    "best_creatures = [c for c in stompy_candidates[:10] if 'Creature' in c['type']]\n",
    "best_spells = [c for c in stompy_candidates[:10] if 'Creature' not in c['type']]\n",
    "\n",
    "print(\"BEST CREATURES:\")\n",
    "for creature in best_creatures[:5]:\n",
    "    print(f\"  + {creature['name']} ({creature['cmc']} CMC, {creature['power']}/{creature['toughness']})\")\n",
    "\n",
    "print(\"\\nBEST SPELLS:\")\n",
    "for spell in best_spells[:3]:\n",
    "    print(f\"  + {spell['name']} ({spell['cmc']} CMC)\")\n",
    "\n",
    "print(f\"\\n💡 RECOMMENDATIONS:\")\n",
    "print(\"Consider adding these high-scoring cards to improve Green Stompy coherence!\")\n",
    "print(\"Focus on creatures with trample and efficient power/CMC ratios.\")"
   ]
  },
  {
   "cell_type": "code",
   "execution_count": 36,
   "id": "cb6f8061",
   "metadata": {},
   "outputs": [
    {
     "name": "stdout",
     "output_type": "stream",
     "text": [
      "🔍 INVESTIGATING UNASSIGNED CARD POOL\n",
      "============================================================\n",
      "Oracle cards total: 450\n",
      "Cube cards total: 390\n",
      "Unassigned cards: 60\n",
      "\n",
      "📊 UNASSIGNED CARDS BY COLOR:\n",
      "------------------------------\n",
      "Color Category\n",
      "Lands        26\n",
      "Colorless    11\n",
      "White         8\n",
      "Black         7\n",
      "Blue          4\n",
      "Red           2\n",
      "Green         2\n",
      "Name: count, dtype: int64\n",
      "\n",
      "🌲 THE 2 GREEN UNASSIGNED CARDS:\n",
      "----------------------------------------\n",
      "Card: Giant Growth\n",
      "Type: Instant\n",
      "CMC: 1\n",
      "P/T: nan/nan\n",
      "Oracle Text: Target creature gets +3/+3 until end of turn.\n",
      "----------------------------------------\n",
      "Card: Hickory Woodlot\n",
      "Type: Land\n",
      "CMC: 0\n",
      "P/T: nan/nan\n",
      "Oracle Text: This land enters tapped with two depletion counters on it. | {T}, Remove a depletion counter from this land: Add {G}{G}. If there are no depletion counters on this land, sacrifice it.\n",
      "----------------------------------------\n"
     ]
    },
    {
     "ename": "KeyError",
     "evalue": "'Color Category'",
     "output_type": "error",
     "traceback": [
      "\u001b[31m---------------------------------------------------------------------------\u001b[39m",
      "\u001b[31mKeyError\u001b[39m                                  Traceback (most recent call last)",
      "\u001b[36mFile \u001b[39m\u001b[32m~/workspace/personal/magic-jumpstart/.venv/lib/python3.13/site-packages/pandas/core/indexes/base.py:3812\u001b[39m, in \u001b[36mIndex.get_loc\u001b[39m\u001b[34m(self, key)\u001b[39m\n\u001b[32m   3811\u001b[39m \u001b[38;5;28;01mtry\u001b[39;00m:\n\u001b[32m-> \u001b[39m\u001b[32m3812\u001b[39m     \u001b[38;5;28;01mreturn\u001b[39;00m \u001b[38;5;28;43mself\u001b[39;49m\u001b[43m.\u001b[49m\u001b[43m_engine\u001b[49m\u001b[43m.\u001b[49m\u001b[43mget_loc\u001b[49m\u001b[43m(\u001b[49m\u001b[43mcasted_key\u001b[49m\u001b[43m)\u001b[49m\n\u001b[32m   3813\u001b[39m \u001b[38;5;28;01mexcept\u001b[39;00m \u001b[38;5;167;01mKeyError\u001b[39;00m \u001b[38;5;28;01mas\u001b[39;00m err:\n",
      "\u001b[36mFile \u001b[39m\u001b[32mpandas/_libs/index.pyx:167\u001b[39m, in \u001b[36mpandas._libs.index.IndexEngine.get_loc\u001b[39m\u001b[34m()\u001b[39m\n",
      "\u001b[36mFile \u001b[39m\u001b[32mpandas/_libs/index.pyx:196\u001b[39m, in \u001b[36mpandas._libs.index.IndexEngine.get_loc\u001b[39m\u001b[34m()\u001b[39m\n",
      "\u001b[36mFile \u001b[39m\u001b[32mpandas/_libs/hashtable_class_helper.pxi:7088\u001b[39m, in \u001b[36mpandas._libs.hashtable.PyObjectHashTable.get_item\u001b[39m\u001b[34m()\u001b[39m\n",
      "\u001b[36mFile \u001b[39m\u001b[32mpandas/_libs/hashtable_class_helper.pxi:7096\u001b[39m, in \u001b[36mpandas._libs.hashtable.PyObjectHashTable.get_item\u001b[39m\u001b[34m()\u001b[39m\n",
      "\u001b[31mKeyError\u001b[39m: 'Color Category'",
      "\nThe above exception was the direct cause of the following exception:\n",
      "\u001b[31mKeyError\u001b[39m                                  Traceback (most recent call last)",
      "\u001b[36mCell\u001b[39m\u001b[36m \u001b[39m\u001b[32mIn[36]\u001b[39m\u001b[32m, line 25\u001b[39m\n\u001b[32m     22\u001b[39m     \u001b[38;5;28mprint\u001b[39m(\u001b[33m\"\u001b[39m\u001b[33m-\u001b[39m\u001b[33m\"\u001b[39m * \u001b[32m40\u001b[39m)\n\u001b[32m     24\u001b[39m \u001b[38;5;66;03m# Let's also check how many green cards are currently in cube\u001b[39;00m\n\u001b[32m---> \u001b[39m\u001b[32m25\u001b[39m green_cube_cards = cube_df[\u001b[43mcube_df\u001b[49m\u001b[43m[\u001b[49m\u001b[33;43m'\u001b[39;49m\u001b[33;43mColor Category\u001b[39;49m\u001b[33;43m'\u001b[39;49m\u001b[43m]\u001b[49m.str.contains(\u001b[33m'\u001b[39m\u001b[33mGreen\u001b[39m\u001b[33m'\u001b[39m, na=\u001b[38;5;28;01mFalse\u001b[39;00m)]\n\u001b[32m     26\u001b[39m \u001b[38;5;28mprint\u001b[39m(\u001b[33mf\u001b[39m\u001b[33m\"\u001b[39m\u001b[38;5;130;01m\\n\u001b[39;00m\u001b[33m🟢 GREEN CARDS CURRENTLY IN CUBE: \u001b[39m\u001b[38;5;132;01m{\u001b[39;00m\u001b[38;5;28mlen\u001b[39m(green_cube_cards)\u001b[38;5;132;01m}\u001b[39;00m\u001b[33m\"\u001b[39m)\n\u001b[32m     28\u001b[39m \u001b[38;5;66;03m# Let's see the distribution of current green cards by theme\u001b[39;00m\n",
      "\u001b[36mFile \u001b[39m\u001b[32m~/workspace/personal/magic-jumpstart/.venv/lib/python3.13/site-packages/pandas/core/frame.py:4107\u001b[39m, in \u001b[36mDataFrame.__getitem__\u001b[39m\u001b[34m(self, key)\u001b[39m\n\u001b[32m   4105\u001b[39m \u001b[38;5;28;01mif\u001b[39;00m \u001b[38;5;28mself\u001b[39m.columns.nlevels > \u001b[32m1\u001b[39m:\n\u001b[32m   4106\u001b[39m     \u001b[38;5;28;01mreturn\u001b[39;00m \u001b[38;5;28mself\u001b[39m._getitem_multilevel(key)\n\u001b[32m-> \u001b[39m\u001b[32m4107\u001b[39m indexer = \u001b[38;5;28;43mself\u001b[39;49m\u001b[43m.\u001b[49m\u001b[43mcolumns\u001b[49m\u001b[43m.\u001b[49m\u001b[43mget_loc\u001b[49m\u001b[43m(\u001b[49m\u001b[43mkey\u001b[49m\u001b[43m)\u001b[49m\n\u001b[32m   4108\u001b[39m \u001b[38;5;28;01mif\u001b[39;00m is_integer(indexer):\n\u001b[32m   4109\u001b[39m     indexer = [indexer]\n",
      "\u001b[36mFile \u001b[39m\u001b[32m~/workspace/personal/magic-jumpstart/.venv/lib/python3.13/site-packages/pandas/core/indexes/base.py:3819\u001b[39m, in \u001b[36mIndex.get_loc\u001b[39m\u001b[34m(self, key)\u001b[39m\n\u001b[32m   3814\u001b[39m     \u001b[38;5;28;01mif\u001b[39;00m \u001b[38;5;28misinstance\u001b[39m(casted_key, \u001b[38;5;28mslice\u001b[39m) \u001b[38;5;129;01mor\u001b[39;00m (\n\u001b[32m   3815\u001b[39m         \u001b[38;5;28misinstance\u001b[39m(casted_key, abc.Iterable)\n\u001b[32m   3816\u001b[39m         \u001b[38;5;129;01mand\u001b[39;00m \u001b[38;5;28many\u001b[39m(\u001b[38;5;28misinstance\u001b[39m(x, \u001b[38;5;28mslice\u001b[39m) \u001b[38;5;28;01mfor\u001b[39;00m x \u001b[38;5;129;01min\u001b[39;00m casted_key)\n\u001b[32m   3817\u001b[39m     ):\n\u001b[32m   3818\u001b[39m         \u001b[38;5;28;01mraise\u001b[39;00m InvalidIndexError(key)\n\u001b[32m-> \u001b[39m\u001b[32m3819\u001b[39m     \u001b[38;5;28;01mraise\u001b[39;00m \u001b[38;5;167;01mKeyError\u001b[39;00m(key) \u001b[38;5;28;01mfrom\u001b[39;00m\u001b[38;5;250m \u001b[39m\u001b[34;01merr\u001b[39;00m\n\u001b[32m   3820\u001b[39m \u001b[38;5;28;01mexcept\u001b[39;00m \u001b[38;5;167;01mTypeError\u001b[39;00m:\n\u001b[32m   3821\u001b[39m     \u001b[38;5;66;03m# If we have a listlike key, _check_indexing_error will raise\u001b[39;00m\n\u001b[32m   3822\u001b[39m     \u001b[38;5;66;03m#  InvalidIndexError. Otherwise we fall through and re-raise\u001b[39;00m\n\u001b[32m   3823\u001b[39m     \u001b[38;5;66;03m#  the TypeError.\u001b[39;00m\n\u001b[32m   3824\u001b[39m     \u001b[38;5;28mself\u001b[39m._check_indexing_error(key)\n",
      "\u001b[31mKeyError\u001b[39m: 'Color Category'"
     ]
    }
   ],
   "source": [
    "# Let's investigate further - only 2 green unassigned cards seems low\n",
    "print(\"🔍 INVESTIGATING UNASSIGNED CARD POOL\")\n",
    "print(\"=\" * 60)\n",
    "\n",
    "print(f\"Oracle cards total: {len(oracle_df)}\")\n",
    "print(f\"Cube cards total: {len(cube_df)}\")\n",
    "print(f\"Unassigned cards: {len(unassigned_cards)}\")\n",
    "\n",
    "print(\"\\n📊 UNASSIGNED CARDS BY COLOR:\")\n",
    "print(\"-\" * 30)\n",
    "unassigned_by_color = unassigned_cards['Color Category'].value_counts()\n",
    "print(unassigned_by_color)\n",
    "\n",
    "print(\"\\n🌲 THE 2 GREEN UNASSIGNED CARDS:\")\n",
    "print(\"-\" * 40)\n",
    "for _, card in green_unassigned.iterrows():\n",
    "    print(f\"Card: {card['name']}\")\n",
    "    print(f\"Type: {card['Type']}\")\n",
    "    print(f\"CMC: {card['CMC']}\")\n",
    "    print(f\"P/T: {card['Power']}/{card['Toughness']}\")\n",
    "    print(f\"Oracle Text: {card['Oracle Text']}\")\n",
    "    print(\"-\" * 40)\n",
    "\n",
    "# Let's also check how many green cards are currently in cube\n",
    "green_cube_cards = cube_df[cube_df['Color Category'].str.contains('Green', na=False)]\n",
    "print(f\"\\n🟢 GREEN CARDS CURRENTLY IN CUBE: {len(green_cube_cards)}\")\n",
    "\n",
    "# Let's see the distribution of current green cards by theme\n",
    "print(\"\\n📈 CURRENT GREEN CARDS BY THEME:\")\n",
    "green_themes = green_cube_cards['Theme'].value_counts()\n",
    "print(green_themes)\n",
    "\n",
    "# Check if we should look at all colors for potential additions\n",
    "print(\"\\n🎯 BEST UNASSIGNED CARDS (ALL COLORS) FOR STOMPY:\")\n",
    "print(\"=\" * 50)\n",
    "\n",
    "# Score ALL unassigned cards for Stompy theme\n",
    "all_stompy_candidates = []\n",
    "\n",
    "for _, card in unassigned_cards.iterrows():\n",
    "    oracle_text = card['Oracle Text'] if pd.notna(card['Oracle Text']) else ''\n",
    "    card_name = card['name']\n",
    "    cmc = card['CMC'] if pd.notna(card['CMC']) else 0\n",
    "    power = card['Power'] if pd.notna(card['Power']) else 0\n",
    "    color = card['Color Category'] if pd.notna(card['Color Category']) else ''\n",
    "    \n",
    "    # Calculate theme score\n",
    "    theme_score = 0\n",
    "    keyword_matches = []\n",
    "    \n",
    "    for keyword in stompy_keywords:\n",
    "        if keyword.lower() in oracle_text.lower():\n",
    "            theme_score += 1\n",
    "            keyword_matches.append(keyword)\n",
    "    \n",
    "    # Power threshold bonus\n",
    "    if power >= stompy_criteria['power_threshold']:\n",
    "        theme_score += 2\n",
    "        keyword_matches.append(f\"power>={stompy_criteria['power_threshold']}\")\n",
    "    \n",
    "    # Trample bonus\n",
    "    if 'trample' in oracle_text.lower():\n",
    "        theme_score += 2\n",
    "        keyword_matches.append(\"trample\")\n",
    "    \n",
    "    # Efficiency bonus\n",
    "    if power > 0 and power >= cmc:\n",
    "        theme_score += 1\n",
    "        keyword_matches.append(\"efficient\")\n",
    "    \n",
    "    # Aggressive bonus\n",
    "    if cmc <= 3 and power >= 2:\n",
    "        theme_score += 1\n",
    "        keyword_matches.append(\"aggressive\")\n",
    "    \n",
    "    if theme_score > 0:\n",
    "        all_stompy_candidates.append({\n",
    "            'name': card_name,\n",
    "            'color': color,\n",
    "            'cmc': cmc,\n",
    "            'power': power,\n",
    "            'toughness': card['Toughness'] if pd.notna(card['Toughness']) else 0,\n",
    "            'type': card['Type'],\n",
    "            'oracle_text': oracle_text,\n",
    "            'theme_score': theme_score,\n",
    "            'matches': keyword_matches\n",
    "        })\n",
    "\n",
    "all_stompy_candidates.sort(key=lambda x: x['theme_score'], reverse=True)\n",
    "\n",
    "print(f\"Found {len(all_stompy_candidates)} cards with Stompy potential\")\n",
    "\n",
    "for i, candidate in enumerate(all_stompy_candidates[:10]):\n",
    "    print(f\"\\n{i+1}. {candidate['name']} (Score: {candidate['theme_score']})\")\n",
    "    print(f\"   Color: {candidate['color']}\")\n",
    "    print(f\"   CMC: {candidate['cmc']}, P/T: {candidate['power']}/{candidate['toughness']}\")\n",
    "    print(f\"   Matches: {', '.join(candidate['matches'])}\")\n",
    "    print(f\"   Text: {candidate['oracle_text'][:100]}...\")"
   ]
  },
  {
   "cell_type": "code",
   "execution_count": 37,
   "id": "7fb3fa64",
   "metadata": {},
   "outputs": [
    {
     "name": "stdout",
     "output_type": "stream",
     "text": [
      "📋 ORACLE_DF COLUMNS:\n",
      "['name', 'CMC', 'Type', 'Color', 'Color Category', 'Oracle Text', 'tags', 'MTGO ID', 'Power', 'Toughness']\n",
      "\n",
      "📋 CUBE_DF COLUMNS:\n",
      "['Name', 'Set', 'Collector Number', 'Rarity', 'Color Identity', 'Type', 'Mana Cost', 'CMC', 'Power', 'Toughness', 'Tags']\n",
      "\n",
      "🔍 ORACLE_DF SAMPLE:\n",
      "              name Color Category                      Type  Power  Toughness\n",
      "0      Boros Elite          White  Creature - Human Soldier    1.0        1.0\n",
      "1  Deftblade Elite          White  Creature - Human Soldier    1.0        1.0\n",
      "\n",
      "🔍 CUBE_DF SAMPLE:\n",
      "                    Name    Set Collector Number  Rarity Color Identity  \\\n",
      "0          Archaeomancer  Mixed              NaN  common              U   \n",
      "1  Behold the Multiverse  Mixed              NaN  common              U   \n",
      "\n",
      "                      Type Mana Cost  CMC Power Toughness  \\\n",
      "0  Creature - Human Wizard       NaN    4   NaN       NaN   \n",
      "1                  Instant       NaN    4   NaN       NaN   \n",
      "\n",
      "                     Tags  \n",
      "0  Azorius Evasion/Flying  \n",
      "1          Blue Card Draw  \n",
      "\n",
      "🎨 COLOR-RELATED COLUMNS IN CUBE_DF: ['Color Identity']\n",
      "\n",
      "🌲 ANALYZING GREEN CARDS IN CUBE:\n",
      "Theme distribution in cube:\n"
     ]
    },
    {
     "ename": "KeyError",
     "evalue": "'Theme'",
     "output_type": "error",
     "traceback": [
      "\u001b[31m---------------------------------------------------------------------------\u001b[39m",
      "\u001b[31mKeyError\u001b[39m                                  Traceback (most recent call last)",
      "\u001b[36mFile \u001b[39m\u001b[32m~/workspace/personal/magic-jumpstart/.venv/lib/python3.13/site-packages/pandas/core/indexes/base.py:3812\u001b[39m, in \u001b[36mIndex.get_loc\u001b[39m\u001b[34m(self, key)\u001b[39m\n\u001b[32m   3811\u001b[39m \u001b[38;5;28;01mtry\u001b[39;00m:\n\u001b[32m-> \u001b[39m\u001b[32m3812\u001b[39m     \u001b[38;5;28;01mreturn\u001b[39;00m \u001b[38;5;28;43mself\u001b[39;49m\u001b[43m.\u001b[49m\u001b[43m_engine\u001b[49m\u001b[43m.\u001b[49m\u001b[43mget_loc\u001b[49m\u001b[43m(\u001b[49m\u001b[43mcasted_key\u001b[49m\u001b[43m)\u001b[49m\n\u001b[32m   3813\u001b[39m \u001b[38;5;28;01mexcept\u001b[39;00m \u001b[38;5;167;01mKeyError\u001b[39;00m \u001b[38;5;28;01mas\u001b[39;00m err:\n",
      "\u001b[36mFile \u001b[39m\u001b[32mpandas/_libs/index.pyx:167\u001b[39m, in \u001b[36mpandas._libs.index.IndexEngine.get_loc\u001b[39m\u001b[34m()\u001b[39m\n",
      "\u001b[36mFile \u001b[39m\u001b[32mpandas/_libs/index.pyx:196\u001b[39m, in \u001b[36mpandas._libs.index.IndexEngine.get_loc\u001b[39m\u001b[34m()\u001b[39m\n",
      "\u001b[36mFile \u001b[39m\u001b[32mpandas/_libs/hashtable_class_helper.pxi:7088\u001b[39m, in \u001b[36mpandas._libs.hashtable.PyObjectHashTable.get_item\u001b[39m\u001b[34m()\u001b[39m\n",
      "\u001b[36mFile \u001b[39m\u001b[32mpandas/_libs/hashtable_class_helper.pxi:7096\u001b[39m, in \u001b[36mpandas._libs.hashtable.PyObjectHashTable.get_item\u001b[39m\u001b[34m()\u001b[39m\n",
      "\u001b[31mKeyError\u001b[39m: 'Theme'",
      "\nThe above exception was the direct cause of the following exception:\n",
      "\u001b[31mKeyError\u001b[39m                                  Traceback (most recent call last)",
      "\u001b[36mCell\u001b[39m\u001b[36m \u001b[39m\u001b[32mIn[37]\u001b[39m\u001b[32m, line 31\u001b[39m\n\u001b[32m     28\u001b[39m \u001b[38;5;28;01melse\u001b[39;00m:\n\u001b[32m     29\u001b[39m     \u001b[38;5;66;03m# Look at theme distribution instead\u001b[39;00m\n\u001b[32m     30\u001b[39m     \u001b[38;5;28mprint\u001b[39m(\u001b[33m\"\u001b[39m\u001b[33mTheme distribution in cube:\u001b[39m\u001b[33m\"\u001b[39m)\n\u001b[32m---> \u001b[39m\u001b[32m31\u001b[39m     \u001b[38;5;28mprint\u001b[39m(\u001b[43mcube_df\u001b[49m\u001b[43m[\u001b[49m\u001b[33;43m'\u001b[39;49m\u001b[33;43mTheme\u001b[39;49m\u001b[33;43m'\u001b[39;49m\u001b[43m]\u001b[49m.value_counts())\n\u001b[32m     33\u001b[39m     \u001b[38;5;66;03m# Filter for Stompy and Big Creatures themes (green themes)\u001b[39;00m\n\u001b[32m     34\u001b[39m     green_themes = [\u001b[33m'\u001b[39m\u001b[33mStompy\u001b[39m\u001b[33m'\u001b[39m, \u001b[33m'\u001b[39m\u001b[33mBig Creatures\u001b[39m\u001b[33m'\u001b[39m]\n",
      "\u001b[36mFile \u001b[39m\u001b[32m~/workspace/personal/magic-jumpstart/.venv/lib/python3.13/site-packages/pandas/core/frame.py:4107\u001b[39m, in \u001b[36mDataFrame.__getitem__\u001b[39m\u001b[34m(self, key)\u001b[39m\n\u001b[32m   4105\u001b[39m \u001b[38;5;28;01mif\u001b[39;00m \u001b[38;5;28mself\u001b[39m.columns.nlevels > \u001b[32m1\u001b[39m:\n\u001b[32m   4106\u001b[39m     \u001b[38;5;28;01mreturn\u001b[39;00m \u001b[38;5;28mself\u001b[39m._getitem_multilevel(key)\n\u001b[32m-> \u001b[39m\u001b[32m4107\u001b[39m indexer = \u001b[38;5;28;43mself\u001b[39;49m\u001b[43m.\u001b[49m\u001b[43mcolumns\u001b[49m\u001b[43m.\u001b[49m\u001b[43mget_loc\u001b[49m\u001b[43m(\u001b[49m\u001b[43mkey\u001b[49m\u001b[43m)\u001b[49m\n\u001b[32m   4108\u001b[39m \u001b[38;5;28;01mif\u001b[39;00m is_integer(indexer):\n\u001b[32m   4109\u001b[39m     indexer = [indexer]\n",
      "\u001b[36mFile \u001b[39m\u001b[32m~/workspace/personal/magic-jumpstart/.venv/lib/python3.13/site-packages/pandas/core/indexes/base.py:3819\u001b[39m, in \u001b[36mIndex.get_loc\u001b[39m\u001b[34m(self, key)\u001b[39m\n\u001b[32m   3814\u001b[39m     \u001b[38;5;28;01mif\u001b[39;00m \u001b[38;5;28misinstance\u001b[39m(casted_key, \u001b[38;5;28mslice\u001b[39m) \u001b[38;5;129;01mor\u001b[39;00m (\n\u001b[32m   3815\u001b[39m         \u001b[38;5;28misinstance\u001b[39m(casted_key, abc.Iterable)\n\u001b[32m   3816\u001b[39m         \u001b[38;5;129;01mand\u001b[39;00m \u001b[38;5;28many\u001b[39m(\u001b[38;5;28misinstance\u001b[39m(x, \u001b[38;5;28mslice\u001b[39m) \u001b[38;5;28;01mfor\u001b[39;00m x \u001b[38;5;129;01min\u001b[39;00m casted_key)\n\u001b[32m   3817\u001b[39m     ):\n\u001b[32m   3818\u001b[39m         \u001b[38;5;28;01mraise\u001b[39;00m InvalidIndexError(key)\n\u001b[32m-> \u001b[39m\u001b[32m3819\u001b[39m     \u001b[38;5;28;01mraise\u001b[39;00m \u001b[38;5;167;01mKeyError\u001b[39;00m(key) \u001b[38;5;28;01mfrom\u001b[39;00m\u001b[38;5;250m \u001b[39m\u001b[34;01merr\u001b[39;00m\n\u001b[32m   3820\u001b[39m \u001b[38;5;28;01mexcept\u001b[39;00m \u001b[38;5;167;01mTypeError\u001b[39;00m:\n\u001b[32m   3821\u001b[39m     \u001b[38;5;66;03m# If we have a listlike key, _check_indexing_error will raise\u001b[39;00m\n\u001b[32m   3822\u001b[39m     \u001b[38;5;66;03m#  InvalidIndexError. Otherwise we fall through and re-raise\u001b[39;00m\n\u001b[32m   3823\u001b[39m     \u001b[38;5;66;03m#  the TypeError.\u001b[39;00m\n\u001b[32m   3824\u001b[39m     \u001b[38;5;28mself\u001b[39m._check_indexing_error(key)\n",
      "\u001b[31mKeyError\u001b[39m: 'Theme'"
     ]
    }
   ],
   "source": [
    "# Check column names to understand the structure\n",
    "print(\"📋 ORACLE_DF COLUMNS:\")\n",
    "print(oracle_df.columns.tolist())\n",
    "print(\"\\n📋 CUBE_DF COLUMNS:\")\n",
    "print(cube_df.columns.tolist())\n",
    "\n",
    "# Let's look at a sample from each to understand the structure\n",
    "print(\"\\n🔍 ORACLE_DF SAMPLE:\")\n",
    "print(oracle_df.head(2)[['name', 'Color Category', 'Type', 'Power', 'Toughness']])\n",
    "\n",
    "print(\"\\n🔍 CUBE_DF SAMPLE:\")\n",
    "print(cube_df.head(2))\n",
    "\n",
    "# Now let's properly analyze green cards - check what column to use for color in cube_df\n",
    "# Look for color-related columns\n",
    "color_columns = [col for col in cube_df.columns if 'color' in col.lower() or 'Color' in col]\n",
    "print(f\"\\n🎨 COLOR-RELATED COLUMNS IN CUBE_DF: {color_columns}\")\n",
    "\n",
    "# Let's see if we can identify green cards in the cube another way\n",
    "print(\"\\n🌲 ANALYZING GREEN CARDS IN CUBE:\")\n",
    "# Try to find green cards by looking at different potential color columns\n",
    "if 'Colors' in cube_df.columns:\n",
    "    green_cube_cards = cube_df[cube_df['Colors'].str.contains('G', na=False)]\n",
    "    print(f\"Green cards by 'Colors' column: {len(green_cube_cards)}\")\n",
    "elif 'Color' in cube_df.columns:\n",
    "    green_cube_cards = cube_df[cube_df['Color'].str.contains('G', na=False)]\n",
    "    print(f\"Green cards by 'Color' column: {len(green_cube_cards)}\")\n",
    "else:\n",
    "    # Look at theme distribution instead\n",
    "    print(\"Theme distribution in cube:\")\n",
    "    print(cube_df['Theme'].value_counts())\n",
    "    \n",
    "    # Filter for Stompy and Big Creatures themes (green themes)\n",
    "    green_themes = ['Stompy', 'Big Creatures']\n",
    "    green_cube_cards = cube_df[cube_df['Theme'].isin(green_themes)]\n",
    "    print(f\"Green-themed cards: {len(green_cube_cards)}\")\n",
    "\n",
    "print(f\"\\n🟢 GREEN CARDS CURRENTLY IN CUBE: {len(green_cube_cards)}\")\n",
    "\n",
    "# Show current green cards\n",
    "if len(green_cube_cards) > 0:\n",
    "    print(\"\\n📈 CURRENT GREEN CARDS BY THEME:\")\n",
    "    green_themes_count = green_cube_cards['Theme'].value_counts()\n",
    "    print(green_themes_count)\n",
    "    \n",
    "    print(f\"\\n🃏 SAMPLE GREEN CARDS:\")\n",
    "    print(green_cube_cards[['Name', 'Theme']].head(10))"
   ]
  },
  {
   "cell_type": "code",
   "execution_count": 38,
   "id": "d77aaf0c",
   "metadata": {},
   "outputs": [
    {
     "name": "stdout",
     "output_type": "stream",
     "text": [
      "📊 CUBE STRUCTURE ANALYSIS\n",
      "==================================================\n",
      "🏷️ THEME DISTRIBUTION IN CUBE (Tags column):\n",
      "Tags\n",
      "Azorius Evasion/Flying    13\n",
      "Blue Card Draw            13\n",
      "White Equipment           13\n",
      "White Control             13\n",
      "White Aggro               13\n",
      "Selesnya Control          13\n",
      "Red Burn                  13\n",
      "Rakdos Burn/Damage        13\n",
      "Orzhov Control            13\n",
      "Red Artifacts             13\n",
      "Red Aggro                 13\n",
      "Izzet Control             13\n",
      "Red Small Creatures       13\n",
      "Gruul Aggro/Beatdown      13\n",
      "Green Ramp                13\n",
      "Green Big Creatures       13\n",
      "Green Stompy              13\n",
      "Green Midrange            13\n",
      "Golgari Graveyard         13\n",
      "Boros Aggro/Beatdown      13\n",
      "Simic Control             13\n",
      "Blue Control              13\n",
      "Dimir Control             13\n",
      "Blue Flying               13\n",
      "Black Sacrifice           13\n",
      "Black Graveyard           13\n",
      "Black Control             13\n",
      "Black Aggro               13\n",
      "Blue Tempo                13\n",
      "White Tokens              13\n",
      "Name: count, dtype: int64\n",
      "\n",
      "🟢 GREEN CARDS IN CUBE: 89\n",
      "\n",
      "🌲 GREEN CARDS BY THEME:\n",
      "Tags\n",
      "Green Midrange          13\n",
      "Green Big Creatures     13\n",
      "Green Ramp              13\n",
      "Green Stompy            12\n",
      "Simic Control           11\n",
      "Selesnya Control        11\n",
      "Golgari Graveyard        8\n",
      "Gruul Aggro/Beatdown     7\n",
      "Rakdos Burn/Damage       1\n",
      "Name: count, dtype: int64\n",
      "\n",
      "🔍 THE 2 UNASSIGNED GREEN CARDS:\n",
      "----------------------------------------\n",
      "Name: Giant Growth\n",
      "Type: Instant\n",
      "CMC: 1\n",
      "Oracle Text: Target creature gets +3/+3 until end of turn.\n",
      "Stompy Score: 0 (matches: [])\n",
      "----------------------------------------\n",
      "Name: Hickory Woodlot\n",
      "Type: Land\n",
      "CMC: 0\n",
      "Oracle Text: This land enters tapped with two depletion counters on it. | {T}, Remove a depletion counter from this land: Add {G}{G}. If there are no depletion counters on this land, sacrifice it.\n",
      "Stompy Score: 0 (matches: [])\n",
      "----------------------------------------\n",
      "\n",
      "🦏 CURRENT STOMPY CARDS IN CUBE: 13\n",
      "                    Name Color Identity          Tags\n",
      "135    Hooting Mandrills              G  Green Stompy\n",
      "137        Massive Might              G  Green Stompy\n",
      "138               Rancor              G  Green Stompy\n",
      "139      Trumpeting Herd              G  Green Stompy\n",
      "141   Colossal Dreadmask              G  Green Stompy\n",
      "143  Hazard of the Dunes              G  Green Stompy\n",
      "154   Bannerhide Krushok              G  Green Stompy\n",
      "158          Ram Through              G  Green Stompy\n",
      "170          Mother Bear              G  Green Stompy\n",
      "171        Phantom Tiger              G  Green Stompy\n",
      "\n",
      "🐘 CURRENT BIG CREATURES CARDS IN CUBE: 13\n",
      "                     Name Color Identity                 Tags\n",
      "142          Generous Ent              G  Green Big Creatures\n",
      "145           Jewel Thief              G  Green Big Creatures\n",
      "150     Urban Daggertooth              G  Green Big Creatures\n",
      "151         Utopia Sprawl              G  Green Big Creatures\n",
      "157         Nyxborn Hydra              G  Green Big Creatures\n",
      "164      Annoyed Altisaur              G  Green Big Creatures\n",
      "168        Llanowar Elves              G  Green Big Creatures\n",
      "169    Llanowar Visionary              G  Green Big Creatures\n",
      "174  You Meet in a Tavern              G  Green Big Creatures\n",
      "183     Silverback Shaman              G  Green Big Creatures\n",
      "\n",
      "📊 SUMMARY:\n",
      "• Total oracle cards: 450\n",
      "• Total cube cards: 390\n",
      "• Unassigned cards: 60\n",
      "• Green unassigned: 2\n",
      "• Current green cube cards: 89\n",
      "• Current Stompy cards: 13\n",
      "• Current Big Creatures cards: 13\n",
      "\n",
      "💡 INSIGHT:\n",
      "With only 2 unassigned green cards (Giant Growth and Hickory Woodlot),\n",
      "the oracle database appears to be almost fully utilized in the cube.\n",
      "Giant Growth could potentially fit Stompy theme as a pump spell.\n",
      "Consider looking at existing Stompy cards for optimization instead.\n"
     ]
    }
   ],
   "source": [
    "# Now I understand the structure better\n",
    "print(\"📊 CUBE STRUCTURE ANALYSIS\")\n",
    "print(\"=\" * 50)\n",
    "\n",
    "# The cube uses 'Tags' for themes and 'Color Identity' for colors\n",
    "print(\"🏷️ THEME DISTRIBUTION IN CUBE (Tags column):\")\n",
    "theme_distribution = cube_df['Tags'].value_counts()\n",
    "print(theme_distribution)\n",
    "\n",
    "# Find green cards using Color Identity\n",
    "green_cube_cards = cube_df[cube_df['Color Identity'].str.contains('G', na=False)]\n",
    "print(f\"\\n🟢 GREEN CARDS IN CUBE: {len(green_cube_cards)}\")\n",
    "\n",
    "# Show green cards by theme (Tags)\n",
    "print(f\"\\n🌲 GREEN CARDS BY THEME:\")\n",
    "green_theme_dist = green_cube_cards['Tags'].value_counts()\n",
    "print(green_theme_dist)\n",
    "\n",
    "# Now let's look at the 2 unassigned green cards more carefully\n",
    "print(f\"\\n🔍 THE 2 UNASSIGNED GREEN CARDS:\")\n",
    "print(\"-\" * 40)\n",
    "for _, card in green_unassigned.iterrows():\n",
    "    print(f\"Name: {card['name']}\")\n",
    "    print(f\"Type: {card['Type']}\")\n",
    "    print(f\"CMC: {card['CMC']}\")\n",
    "    if pd.notna(card['Power']):\n",
    "        print(f\"Power/Toughness: {card['Power']}/{card['Toughness']}\")\n",
    "    print(f\"Oracle Text: {card['Oracle Text']}\")\n",
    "    \n",
    "    # Score this card for Stompy\n",
    "    oracle_text = card['Oracle Text'] if pd.notna(card['Oracle Text']) else ''\n",
    "    power = card['Power'] if pd.notna(card['Power']) else 0\n",
    "    cmc = card['CMC'] if pd.notna(card['CMC']) else 0\n",
    "    \n",
    "    stompy_score = 0\n",
    "    matches = []\n",
    "    \n",
    "    for keyword in stompy_keywords:\n",
    "        if keyword.lower() in oracle_text.lower():\n",
    "            stompy_score += 1\n",
    "            matches.append(keyword)\n",
    "    \n",
    "    if power >= stompy_criteria['power_threshold']:\n",
    "        stompy_score += 2\n",
    "        matches.append(f\"power>={stompy_criteria['power_threshold']}\")\n",
    "    \n",
    "    if 'trample' in oracle_text.lower():\n",
    "        stompy_score += 2\n",
    "        matches.append(\"trample\")\n",
    "    \n",
    "    print(f\"Stompy Score: {stompy_score} (matches: {matches})\")\n",
    "    print(\"-\" * 40)\n",
    "\n",
    "# Let's also check what Green Stompy cards are currently in the cube\n",
    "stompy_cards = cube_df[cube_df['Tags'].str.contains('Stompy', na=False)]\n",
    "print(f\"\\n🦏 CURRENT STOMPY CARDS IN CUBE: {len(stompy_cards)}\")\n",
    "if len(stompy_cards) > 0:\n",
    "    print(stompy_cards[['Name', 'Color Identity', 'Tags']].head(10))\n",
    "\n",
    "# Check for \"Big Creatures\" theme too\n",
    "big_creatures = cube_df[cube_df['Tags'].str.contains('Big Creatures', na=False)]\n",
    "print(f\"\\n🐘 CURRENT BIG CREATURES CARDS IN CUBE: {len(big_creatures)}\")\n",
    "if len(big_creatures) > 0:\n",
    "    print(big_creatures[['Name', 'Color Identity', 'Tags']].head(10))\n",
    "\n",
    "# Summary\n",
    "print(f\"\\n📊 SUMMARY:\")\n",
    "print(f\"• Total oracle cards: {len(oracle_df)}\")\n",
    "print(f\"• Total cube cards: {len(cube_df)}\")\n",
    "print(f\"• Unassigned cards: {len(unassigned_cards)}\")\n",
    "print(f\"• Green unassigned: {len(green_unassigned)}\")\n",
    "print(f\"• Current green cube cards: {len(green_cube_cards)}\")\n",
    "print(f\"• Current Stompy cards: {len(stompy_cards)}\")\n",
    "print(f\"• Current Big Creatures cards: {len(big_creatures)}\")\n",
    "\n",
    "print(f\"\\n💡 INSIGHT:\")\n",
    "print(\"With only 2 unassigned green cards (Giant Growth and Hickory Woodlot),\")\n",
    "print(\"the oracle database appears to be almost fully utilized in the cube.\")\n",
    "print(\"Giant Growth could potentially fit Stompy theme as a pump spell.\")\n",
    "print(\"Consider looking at existing Stompy cards for optimization instead.\")"
   ]
  },
  {
   "cell_type": "code",
   "execution_count": 39,
   "id": "4fa03096",
   "metadata": {},
   "outputs": [
    {
     "name": "stdout",
     "output_type": "stream",
     "text": [
      "🏆 GREEN STOMPY OPTIMIZATION RECOMMENDATIONS\n",
      "============================================================\n",
      "📋 CURRENT STATUS:\n",
      "• Green Stompy has 12/13 cards (missing 1 card)\n",
      "• Green Big Creatures has 13/13 cards (complete)\n",
      "• Only 2 unassigned green cards available:\n",
      "  - Giant Growth (pump spell)\n",
      "  - Hickory Woodlot (land)\n",
      "\n",
      "🎯 RECOMMENDATIONS:\n",
      "========================================\n",
      "1. 🟢 ADD GIANT GROWTH TO STOMPY:\n",
      "   • Giant Growth fits Stompy theme as an aggressive pump spell\n",
      "   • +3/+3 boost can enable aggressive attacks\n",
      "   • Low CMC (1) fits aggro strategy\n",
      "   • Would complete the 13-card Stompy theme\n",
      "\n",
      "2. 🔄 CONSIDER INTERNAL OPTIMIZATION:\n",
      "   • Current Stompy deck might have suboptimal cards\n",
      "   • Could swap cards between Stompy and Big Creatures\n",
      "   • Some cards in Big Creatures might better fit Stompy\n",
      "\n",
      "📝 DETAILED STOMPY ANALYSIS:\n",
      "----------------------------------------\n",
      "Current Green Stompy cards (13/13):\n",
      "  • Hooting Mandrills (6 CMC, N/A/N/A) - Creature - Ape\n",
      "  • Massive Might (1 CMC, N/A/N/A) - Instant\n",
      "  • Rancor (1 CMC, N/A/N/A) - Enchantment - Aura\n",
      "  • Trumpeting Herd (4 CMC, N/A/N/A) - Creature Sorcery\n",
      "  • Colossal Dreadmask (6 CMC, N/A/N/A) - Creature Artifact - Equipment\n",
      "  • Hazard of the Dunes (4 CMC, N/A/N/A) - Creature - Wurm\n",
      "  • Bannerhide Krushok (4 CMC, N/A/N/A) - Creature - Beast\n",
      "  • Ram Through (2 CMC, N/A/N/A) - Instant\n",
      "  • Mother Bear (2 CMC, N/A/N/A) - Creature - Bear\n",
      "  • Phantom Tiger (3 CMC, N/A/N/A) - Creature - Cat Spirit\n",
      "  • Pulse of Murasa (3 CMC, N/A/N/A) - Instant\n",
      "  • Yavimaya Elder (3 CMC, N/A/N/A) - Creature - Human Druid\n",
      "  • Renegade Freighter (3 CMC, N/A/N/A) - Artifact - Vehicle\n",
      "\n",
      "📝 BIG CREATURES FOR COMPARISON:\n",
      "----------------------------------------\n",
      "Current Green Big Creatures cards (13/13):\n",
      "  • Generous Ent (6 CMC, N/A/N/A) - Creature - Treefolk\n",
      "  • Jewel Thief (3 CMC, N/A/N/A) - Creature - Cat Rogue\n",
      "  • Urban Daggertooth (4 CMC, N/A/N/A) - Creature - Dinosaur\n",
      "  • Utopia Sprawl (1 CMC, N/A/N/A) - Enchantment - Aura\n",
      "  • Nyxborn Hydra (1 CMC, N/A/N/A) - Enchantment Creature - Hydra\n",
      "  • Annoyed Altisaur (7 CMC, N/A/N/A) - Creature - Dinosaur\n",
      "  • Llanowar Elves (1 CMC, N/A/N/A) - Creature - Elf Druid\n",
      "  • Llanowar Visionary (3 CMC, N/A/N/A) - Creature - Elf Druid\n",
      "  • You Meet in a Tavern (4 CMC, N/A/N/A) - Sorcery\n",
      "  • Silverback Shaman (5 CMC, N/A/N/A) - Creature - Ape Shaman\n",
      "  • Bramble Wurm (7 CMC, N/A/N/A) - Creature - Wurm\n",
      "  • Greater Tanuki (6 CMC, N/A/N/A) - Enchantment Creature - Dog\n",
      "  • Basking Broodscale (2 CMC, N/A/N/A) - Creature - Eldrazi Lizard\n",
      "\n",
      "💡 FINAL RECOMMENDATION:\n",
      "========================================\n",
      "🎯 ADD Giant Growth to complete Green Stompy theme!\n",
      "🔧 Then run optimize_deck_coherence to refine both Green themes.\n",
      "📊 The optimization algorithm can swap cards between themes as needed.\n",
      "\n",
      "⚡ QUICK ACTION:\n",
      "To add Giant Growth to Green Stompy:\n",
      "1. Add 'Giant Growth' to the Green Stompy deck in your cube\n",
      "2. Run the optimization algorithm\n",
      "3. Check if any cards should swap between Stompy and Big Creatures\n"
     ]
    }
   ],
   "source": [
    "# Final Green Stompy Recommendations\n",
    "print(\"🏆 GREEN STOMPY OPTIMIZATION RECOMMENDATIONS\")\n",
    "print(\"=\" * 60)\n",
    "\n",
    "print(\"📋 CURRENT STATUS:\")\n",
    "print(f\"• Green Stompy has 12/13 cards (missing 1 card)\")\n",
    "print(f\"• Green Big Creatures has 13/13 cards (complete)\")\n",
    "print(f\"• Only 2 unassigned green cards available:\")\n",
    "print(f\"  - Giant Growth (pump spell)\")\n",
    "print(f\"  - Hickory Woodlot (land)\")\n",
    "\n",
    "print(f\"\\n🎯 RECOMMENDATIONS:\")\n",
    "print(\"=\" * 40)\n",
    "\n",
    "print(\"1. 🟢 ADD GIANT GROWTH TO STOMPY:\")\n",
    "print(\"   • Giant Growth fits Stompy theme as an aggressive pump spell\")\n",
    "print(\"   • +3/+3 boost can enable aggressive attacks\")\n",
    "print(\"   • Low CMC (1) fits aggro strategy\") \n",
    "print(\"   • Would complete the 13-card Stompy theme\")\n",
    "\n",
    "print(\"\\n2. 🔄 CONSIDER INTERNAL OPTIMIZATION:\")\n",
    "print(\"   • Current Stompy deck might have suboptimal cards\")\n",
    "print(\"   • Could swap cards between Stompy and Big Creatures\")\n",
    "print(\"   • Some cards in Big Creatures might better fit Stompy\")\n",
    "\n",
    "# Let's look at the actual current Stompy cards more closely\n",
    "print(f\"\\n📝 DETAILED STOMPY ANALYSIS:\")\n",
    "print(\"-\" * 40)\n",
    "\n",
    "stompy_cards_full = cube_df[cube_df['Tags'] == 'Green Stompy']\n",
    "print(f\"Current Green Stompy cards ({len(stompy_cards_full)}/13):\")\n",
    "\n",
    "for _, card in stompy_cards_full.iterrows():\n",
    "    name = card['Name']\n",
    "    cmc = card['CMC'] if pd.notna(card['CMC']) else 'N/A'\n",
    "    power = card['Power'] if pd.notna(card['Power']) else 'N/A'\n",
    "    toughness = card['Toughness'] if pd.notna(card['Toughness']) else 'N/A'\n",
    "    card_type = card['Type'] if pd.notna(card['Type']) else 'N/A'\n",
    "    \n",
    "    print(f\"  • {name} ({cmc} CMC, {power}/{toughness}) - {card_type}\")\n",
    "\n",
    "print(f\"\\n📝 BIG CREATURES FOR COMPARISON:\")\n",
    "print(\"-\" * 40)\n",
    "\n",
    "big_creatures_full = cube_df[cube_df['Tags'] == 'Green Big Creatures']\n",
    "print(f\"Current Green Big Creatures cards ({len(big_creatures_full)}/13):\")\n",
    "\n",
    "for _, card in big_creatures_full.iterrows():\n",
    "    name = card['Name']\n",
    "    cmc = card['CMC'] if pd.notna(card['CMC']) else 'N/A'\n",
    "    power = card['Power'] if pd.notna(card['Power']) else 'N/A'\n",
    "    toughness = card['Toughness'] if pd.notna(card['Toughness']) else 'N/A'\n",
    "    card_type = card['Type'] if pd.notna(card['Type']) else 'N/A'\n",
    "    \n",
    "    print(f\"  • {name} ({cmc} CMC, {power}/{toughness}) - {card_type}\")\n",
    "\n",
    "print(f\"\\n💡 FINAL RECOMMENDATION:\")\n",
    "print(\"=\" * 40)\n",
    "print(\"🎯 ADD Giant Growth to complete Green Stompy theme!\")\n",
    "print(\"🔧 Then run optimize_deck_coherence to refine both Green themes.\")\n",
    "print(\"📊 The optimization algorithm can swap cards between themes as needed.\")\n",
    "\n",
    "# Show how to add Giant Growth\n",
    "print(f\"\\n⚡ QUICK ACTION:\")\n",
    "print(\"To add Giant Growth to Green Stompy:\")\n",
    "print(\"1. Add 'Giant Growth' to the Green Stompy deck in your cube\")\n",
    "print(\"2. Run the optimization algorithm\") \n",
    "print(\"3. Check if any cards should swap between Stompy and Big Creatures\")"
   ]
  },
  {
   "cell_type": "code",
   "execution_count": 40,
   "id": "fa8c612a",
   "metadata": {},
   "outputs": [
    {
     "name": "stdout",
     "output_type": "stream",
     "text": [
      "🔍 ANALYZING PUMP SPELLS AND STOMPY KEYWORDS\n",
      "============================================================\n",
      "Current Stompy keywords: ['trample', 'force', 'green', 'attack', 'overrun', 'aggressive']\n",
      "\n",
      "📝 Giant Growth text: 'Target creature gets +3/+3 until end of turn.'\n",
      "\n",
      "🔧 PUMP SPELLS IN ORACLE (95 cards):\n",
      "----------------------------------------\n",
      "• Boros Elite: Battalion — Whenever this creature and at least two other creatures attack, this creature gets +2/+2 until end of turn.\n",
      "• Faerie Guidemother: Flying // Target creature gets +2/+1 and gains flying until end of turn. (Then exile this card. You may cast the creature later from exile.)\n",
      "• Miner's Guidewing: Flying, vigilance | When this creature dies, target creature you control explores. (Reveal the top card of your library. Put that card into your hand if it's a land. Otherwise, put a +1/+1 counter on that creature, then put the card back or put it into your graveyard.)\n",
      "• Ainok Bond-Kin: Outlast {1}{W} ({1}{W}, {T}: Put a +1/+1 counter on this creature. Outlast only as a sorcery.) | Each creature you control with a +1/+1 counter on it has first strike.\n",
      "• Phantom Nomad: This creature enters with two +1/+1 counters on it. | If damage would be dealt to this creature, prevent that damage. Remove a +1/+1 counter from this creature.\n",
      "• Raffine's Informant: When this creature enters, it connives. (Draw a card, then discard a card. If you discarded a nonland card, put a +1/+1 counter on this creature.)\n",
      "• Seeker of the Way: Prowess (Whenever you cast a noncreature spell, this creature gets +1/+1 until end of turn.) | Whenever you cast a noncreature spell, this creature gains lifelink until end of turn.\n",
      "• Soltari Trooper: Shadow (This creature can block or be blocked by only creatures with shadow.) | Whenever this creature attacks, it gets +1/+1 until end of turn.\n",
      "• Topan Freeblade: Vigilance (Attacking doesn't cause this creature to tap.) | Renown 1 (When this creature deals combat damage to a player, if it isn't renowned, put a +1/+1 counter on it and it becomes renowned.)\n",
      "• Inspiring Paladin: During your turn, this creature has first strike. (It deals combat damage before creatures without first strike.) | During your turn, creatures you control with +1/+1 counters on them have first strike.\n",
      "\n",
      "🎯 POTENTIAL STOMPY KEYWORDS TO ADD:\n",
      "----------------------------------------\n",
      "Analyzing current Stompy cards for keyword patterns...\n",
      "\n",
      "📋 CURRENT STOMPY CARDS WITH ORACLE TEXT:\n",
      "• Hooting Mandrills: Delve (Each card you exile from your graveyard while casting this spell pays for {1}.) | Trample\n",
      "• Massive Might: Target creature gets +2/+2 and gains trample until end of turn.\n",
      "• Rancor: Enchant creature | Enchanted creature gets +2/+0 and has trample. | When this Aura is put into a graveyard from the battlefield, return it to its owner's hand.\n",
      "• Trumpeting Herd: Create a 3/3 green Elephant creature token. | Rebound (If you cast this spell from your hand, exile it as it resolves. At the beginning of your next upkeep, you may cast this card from exile without paying its mana cost.)\n",
      "• Colossal Dreadmask: Living weapon (When this Equipment enters, create a 0/0 black Phyrexian Germ creature token, then attach this to it.) | Equipped creature gets +6/+6 and has trample. | Equip {3}{G}{G}\n",
      "• Hazard of the Dunes: Trample, reach | Exhaust — {6}{G}: Put three +1/+1 counters on this creature. (Activate each exhaust ability only once.)\n",
      "• Bannerhide Krushok: Trample | Reinforce 2—{1}{G} ({1}{G}, Discard this card: Put two +1/+1 counters on target creature.) | Scavenge {5}{G}{G} ({5}{G}{G}, Exile this card from your graveyard: Put a number of +1/+1 counters equal to this card's power on target creature. Scavenge only as a sorcery.)\n",
      "• Ram Through: Target creature you control deals damage equal to its power to target creature you don't control. If the creature you control has trample, excess damage is dealt to that creature's controller instead.\n",
      "\n",
      "🔤 KEYWORDS FOUND IN CURRENT STOMPY CARDS:\n",
      "  'trample' appears 8 times\n",
      "  'gets +' appears 4 times\n",
      "  'power' appears 3 times\n",
      "  'until end of turn' appears 3 times\n",
      "  'target creature gets' appears 1 times\n",
      "  'attack' appears 1 times\n",
      "\n",
      "💡 RECOMMENDED ADDITIONS TO STOMPY KEYWORDS:\n",
      "--------------------------------------------------\n",
      "Keywords that would help Giant Growth and similar cards score:\n",
      "  🎯 'gets +' - In Giant Growth\n",
      "  🎯 'target creature' - In Giant Growth\n",
      "  🎯 '+3/+3' - In Giant Growth\n",
      "  ✓ '+2/+2' - In current Stompy\n",
      "  ✓ '+1/+1' - In current Stompy\n",
      "  🎯 'until end of turn' - In Giant Growth\n",
      "  ○ 'combat' - Potential addition\n",
      "  ✓ 'power' - In current Stompy\n",
      "  ○ 'toughness' - Potential addition\n",
      "  ○ 'haste' - Potential addition\n",
      "  ○ 'vigilance' - Potential addition\n",
      "  ○ 'first strike' - Potential addition\n",
      "  ○ 'double strike' - Potential addition\n",
      "  ○ 'can't be blocked' - Potential addition\n",
      "  ○ 'must be blocked' - Potential addition\n",
      "\n",
      "🎯 = Would help Giant Growth score\n",
      "✓ = Already used in current Stompy cards\n",
      "○ = Potential future addition\n"
     ]
    }
   ],
   "source": [
    "# Analyze Giant Growth and similar cards to identify missing Stompy keywords\n",
    "print(\"🔍 ANALYZING PUMP SPELLS AND STOMPY KEYWORDS\")\n",
    "print(\"=\" * 60)\n",
    "\n",
    "# Current Stompy keywords\n",
    "current_stompy_keywords = theme_keywords['Stompy']\n",
    "print(f\"Current Stompy keywords: {current_stompy_keywords}\")\n",
    "\n",
    "# Let's analyze Giant Growth specifically\n",
    "giant_growth_text = \"Target creature gets +3/+3 until end of turn.\"\n",
    "print(f\"\\n📝 Giant Growth text: '{giant_growth_text}'\")\n",
    "\n",
    "# Look for pump spell patterns in the oracle\n",
    "pump_spells = oracle_df[\n",
    "    oracle_df['Oracle Text'].str.contains(r'\\+\\d+/\\+\\d+', na=False, regex=True)\n",
    "]\n",
    "\n",
    "print(f\"\\n🔧 PUMP SPELLS IN ORACLE ({len(pump_spells)} cards):\")\n",
    "print(\"-\" * 40)\n",
    "\n",
    "for _, spell in pump_spells.head(10).iterrows():\n",
    "    print(f\"• {spell['name']}: {spell['Oracle Text']}\")\n",
    "\n",
    "# Look for other aggressive/combat keywords that might fit Stompy\n",
    "combat_keywords = [\n",
    "    'gets +', 'target creature gets', 'pump', 'boost', 'enhance', \n",
    "    'combat', 'attack', 'attacking', 'power', 'toughness',\n",
    "    'until end of turn', 'this turn', 'trample', 'haste',\n",
    "    'can\\'t be blocked', 'unblockable', 'must be blocked',\n",
    "    'double strike', 'first strike', 'vigilance'\n",
    "]\n",
    "\n",
    "print(f\"\\n🎯 POTENTIAL STOMPY KEYWORDS TO ADD:\")\n",
    "print(\"-\" * 40)\n",
    "\n",
    "# Check current Stompy cards for common text patterns\n",
    "current_stompy_cards = cube_df[cube_df['Tags'] == 'Green Stompy']\n",
    "\n",
    "print(\"Analyzing current Stompy cards for keyword patterns...\")\n",
    "\n",
    "# Let's look at the oracle data for current stompy cards to see their text\n",
    "stompy_oracle_matches = []\n",
    "for _, stompy_card in current_stompy_cards.iterrows():\n",
    "    oracle_match = oracle_df[oracle_df['name'] == stompy_card['Name']]\n",
    "    if not oracle_match.empty:\n",
    "        stompy_oracle_matches.append({\n",
    "            'name': stompy_card['Name'],\n",
    "            'oracle_text': oracle_match.iloc[0]['Oracle Text'] if pd.notna(oracle_match.iloc[0]['Oracle Text']) else ''\n",
    "        })\n",
    "\n",
    "print(f\"\\n📋 CURRENT STOMPY CARDS WITH ORACLE TEXT:\")\n",
    "for match in stompy_oracle_matches[:8]:  # Show first 8\n",
    "    print(f\"• {match['name']}: {match['oracle_text']}\")\n",
    "\n",
    "# Analyze common words/phrases in Stompy cards\n",
    "all_stompy_text = ' '.join([match['oracle_text'].lower() for match in stompy_oracle_matches])\n",
    "stompy_words = all_stompy_text.split()\n",
    "\n",
    "# Count frequency of potentially relevant words\n",
    "from collections import Counter\n",
    "word_counts = Counter(stompy_words)\n",
    "\n",
    "relevant_words = []\n",
    "for word in combat_keywords:\n",
    "    count = all_stompy_text.count(word.lower())\n",
    "    if count > 0:\n",
    "        relevant_words.append((word, count))\n",
    "\n",
    "print(f\"\\n🔤 KEYWORDS FOUND IN CURRENT STOMPY CARDS:\")\n",
    "for word, count in sorted(relevant_words, key=lambda x: x[1], reverse=True):\n",
    "    print(f\"  '{word}' appears {count} times\")\n",
    "\n",
    "# Specific suggestions for Stompy keywords\n",
    "print(f\"\\n💡 RECOMMENDED ADDITIONS TO STOMPY KEYWORDS:\")\n",
    "print(\"-\" * 50)\n",
    "\n",
    "suggested_keywords = [\n",
    "    'gets +',           # For pump spells like Giant Growth\n",
    "    'target creature',  # Common in pump/combat spells  \n",
    "    '+3/+3',           # Specific pump amounts\n",
    "    '+2/+2', \n",
    "    '+1/+1',\n",
    "    'until end of turn', # Temporary boosts\n",
    "    'combat',          # Combat-related abilities\n",
    "    'power',           # Power-matters effects\n",
    "    'toughness',       # Size-matters effects\n",
    "    'haste',           # Aggressive keyword\n",
    "    'vigilance',       # Combat keyword\n",
    "    'first strike',    # Combat keyword\n",
    "    'double strike',   # Combat keyword\n",
    "    'can\\'t be blocked', # Evasion for aggro\n",
    "    'must be blocked'   # Forces combat\n",
    "]\n",
    "\n",
    "print(\"Keywords that would help Giant Growth and similar cards score:\")\n",
    "for keyword in suggested_keywords:\n",
    "    if keyword not in current_stompy_keywords:\n",
    "        # Check if this keyword appears in Giant Growth or current Stompy cards\n",
    "        in_giant_growth = keyword.lower() in giant_growth_text.lower()\n",
    "        in_stompy = keyword.lower() in all_stompy_text.lower()\n",
    "        \n",
    "        marker = \"🎯\" if in_giant_growth else (\"✓\" if in_stompy else \"○\")\n",
    "        print(f\"  {marker} '{keyword}' - {'In Giant Growth' if in_giant_growth else ('In current Stompy' if in_stompy else 'Potential addition')}\")\n",
    "\n",
    "print(f\"\\n🎯 = Would help Giant Growth score\")\n",
    "print(f\"✓ = Already used in current Stompy cards\") \n",
    "print(f\"○ = Potential future addition\")"
   ]
  },
  {
   "cell_type": "code",
   "execution_count": 41,
   "id": "56f0b334",
   "metadata": {},
   "outputs": [
    {
     "name": "stdout",
     "output_type": "stream",
     "text": [
      "🧪 TESTING GIANT GROWTH WITH UPDATED KEYWORDS\n",
      "============================================================\n",
      "Updated Stompy keywords: ['trample', 'force', 'green', 'attack', 'overrun', 'aggressive', 'gets +', 'target creature', '+1/+1', '+2/+2', '+3/+3', 'until end of turn', 'power', 'combat']\n",
      "\n",
      "Giant Growth text: 'Target creature gets +3/+3 until end of turn.'\n",
      "\n",
      "🎯 GIANT GROWTH STOMPY SCORE:\n",
      "Score: 4\n",
      "Matching keywords: ['gets +', 'target creature', '+3/+3', 'until end of turn']\n",
      "\n",
      "📊 OTHER PUMP SPELLS SCORING:\n",
      "----------------------------------------\n",
      "Massive Might: Score 5 - ['trample', 'gets +', 'target creature', '+2/+2', 'until end of turn']\n",
      "Rancor: Score 2 - ['trample', 'gets +']\n",
      "Colossal Dreadmask: Score 2 - ['trample', 'gets +']\n",
      "\n",
      "✅ IMPROVEMENT SUMMARY:\n",
      "Before update: Giant Growth scored 0 for Stompy\n",
      "After update: Giant Growth scores 4 for Stompy\n",
      "This makes pump spells properly recognized as Stompy cards!\n"
     ]
    }
   ],
   "source": [
    "# Test Giant Growth scoring with updated keywords\n",
    "print(\"🧪 TESTING GIANT GROWTH WITH UPDATED KEYWORDS\")\n",
    "print(\"=\" * 60)\n",
    "\n",
    "# Reload the updated constants\n",
    "import importlib\n",
    "import src.consts\n",
    "importlib.reload(src.consts)\n",
    "from src.consts import theme_keywords, theme_criteria\n",
    "\n",
    "# Show the updated Stompy keywords\n",
    "updated_stompy_keywords = theme_keywords['Stompy']\n",
    "print(f\"Updated Stompy keywords: {updated_stompy_keywords}\")\n",
    "\n",
    "# Test Giant Growth scoring\n",
    "giant_growth_text = \"Target creature gets +3/+3 until end of turn.\"\n",
    "print(f\"\\nGiant Growth text: '{giant_growth_text}'\")\n",
    "\n",
    "# Score Giant Growth with updated keywords\n",
    "theme_score = 0\n",
    "keyword_matches = []\n",
    "\n",
    "for keyword in updated_stompy_keywords:\n",
    "    if keyword.lower() in giant_growth_text.lower():\n",
    "        theme_score += 1\n",
    "        keyword_matches.append(keyword)\n",
    "\n",
    "print(f\"\\n🎯 GIANT GROWTH STOMPY SCORE:\")\n",
    "print(f\"Score: {theme_score}\")\n",
    "print(f\"Matching keywords: {keyword_matches}\")\n",
    "\n",
    "# Also test some other pump spells\n",
    "other_pump_spells = [\n",
    "    (\"Massive Might\", \"Target creature gets +2/+2 and gains trample until end of turn.\"),\n",
    "    (\"Rancor\", \"Enchant creature | Enchanted creature gets +2/+0 and has trample. | When this Aura is put into a graveyard from the battlefield, return it to its owner's hand.\"),\n",
    "    (\"Colossal Dreadmask\", \"Living weapon (When this Equipment enters, create a 0/0 black Phyrexian Germ creature token, then attach this to it.) | Equipped creature gets +6/+6 and has trample. | Equip {3}{G}{G}\")\n",
    "]\n",
    "\n",
    "print(f\"\\n📊 OTHER PUMP SPELLS SCORING:\")\n",
    "print(\"-\" * 40)\n",
    "\n",
    "for name, text in other_pump_spells:\n",
    "    score = 0\n",
    "    matches = []\n",
    "    for keyword in updated_stompy_keywords:\n",
    "        if keyword.lower() in text.lower():\n",
    "            score += 1\n",
    "            matches.append(keyword)\n",
    "    print(f\"{name}: Score {score} - {matches}\")\n",
    "\n",
    "print(f\"\\n✅ IMPROVEMENT SUMMARY:\")\n",
    "print(\"Before update: Giant Growth scored 0 for Stompy\")\n",
    "print(f\"After update: Giant Growth scores {theme_score} for Stompy\")\n",
    "print(\"This makes pump spells properly recognized as Stompy cards!\")"
   ]
  },
  {
   "cell_type": "code",
   "execution_count": 42,
   "id": "c986ea4c",
   "metadata": {},
   "outputs": [
    {
     "name": "stdout",
     "output_type": "stream",
     "text": [
      "📊 FINAL SUMMARY: STOMPY KEYWORD IMPROVEMENTS\n",
      "============================================================\n",
      "🔧 KEYWORDS ADDED TO STOMPY:\n",
      "  ✅ 'gets +'\n",
      "  ✅ 'target creature'\n",
      "  ✅ '+1/+1'\n",
      "  ✅ '+2/+2'\n",
      "  ✅ '+3/+3'\n",
      "  ✅ 'until end of turn'\n",
      "  ✅ 'power'\n",
      "  ✅ 'combat'\n",
      "\n",
      "🎯 IMPACT ON GIANT GROWTH:\n",
      "  • Before: 0 points (didn't match any Stompy keywords)\n",
      "  • After: 4 points (matches 4 keywords)\n",
      "  • Now properly recognized as a Stompy card!\n",
      "\n",
      "🔥 IMPACT ON EXISTING STOMPY CARDS:\n",
      "  • Massive Might: Now scores 5 points (was probably lower)\n",
      "  • Rancor: Scores 2 points for pump effect\n",
      "  • All pump spells now properly score for Stompy theme\n",
      "\n",
      "💡 RECOMMENDATION:\n",
      "========================================\n",
      "1. ✅ KEYWORDS UPDATED - Stompy now recognizes pump spells\n",
      "2. 🎯 ADD GIANT GROWTH - Will now score 4 points for Stompy\n",
      "3. 🔄 RUN OPTIMIZATION - Let the algorithm optimize both Green themes\n",
      "\n",
      "🚀 NEXT STEPS:\n",
      "1. Add Giant Growth to Green Stompy deck\n",
      "2. Run optimize_deck_coherence() to fine-tune the deck\n",
      "3. Check if any cards should swap between Stompy and Big Creatures\n",
      "\n",
      "🏆 EXPECTED RESULT:\n",
      "Green Stompy should now have better coherence with:\n",
      "  • Proper scoring for pump spells like Giant Growth\n",
      "  • Recognition of combat-focused abilities\n",
      "  • Better distinction from Big Creatures theme\n",
      "\n",
      "📈 THEME COHERENCE IMPROVEMENT:\n",
      "The updated keywords make Stompy more focused on:\n",
      "  • Pump effects and temporary boosts\n",
      "  • Combat tricks and aggressive strategies\n",
      "  • Power-matters effects\n",
      "  • Aggressive combat keywords\n",
      "\n",
      "This should resolve the 'No beneficial swaps found' issue!\n"
     ]
    }
   ],
   "source": [
    "# Summary and final recommendations\n",
    "print(\"📊 FINAL SUMMARY: STOMPY KEYWORD IMPROVEMENTS\")\n",
    "print(\"=\" * 60)\n",
    "\n",
    "print(\"🔧 KEYWORDS ADDED TO STOMPY:\")\n",
    "added_keywords = ['gets +', 'target creature', '+1/+1', '+2/+2', '+3/+3', 'until end of turn', 'power', 'combat']\n",
    "for keyword in added_keywords:\n",
    "    print(f\"  ✅ '{keyword}'\")\n",
    "\n",
    "print(f\"\\n🎯 IMPACT ON GIANT GROWTH:\")\n",
    "print(\"  • Before: 0 points (didn't match any Stompy keywords)\")  \n",
    "print(\"  • After: 4 points (matches 4 keywords)\")\n",
    "print(\"  • Now properly recognized as a Stompy card!\")\n",
    "\n",
    "print(f\"\\n🔥 IMPACT ON EXISTING STOMPY CARDS:\")\n",
    "print(\"  • Massive Might: Now scores 5 points (was probably lower)\")\n",
    "print(\"  • Rancor: Scores 2 points for pump effect\")\n",
    "print(\"  • All pump spells now properly score for Stompy theme\")\n",
    "\n",
    "print(f\"\\n💡 RECOMMENDATION:\")\n",
    "print(\"=\" * 40)\n",
    "print(\"1. ✅ KEYWORDS UPDATED - Stompy now recognizes pump spells\")\n",
    "print(\"2. 🎯 ADD GIANT GROWTH - Will now score 4 points for Stompy\")\n",
    "print(\"3. 🔄 RUN OPTIMIZATION - Let the algorithm optimize both Green themes\")\n",
    "\n",
    "print(f\"\\n🚀 NEXT STEPS:\")\n",
    "print(\"1. Add Giant Growth to Green Stompy deck\")\n",
    "print(\"2. Run optimize_deck_coherence() to fine-tune the deck\")\n",
    "print(\"3. Check if any cards should swap between Stompy and Big Creatures\")\n",
    "\n",
    "print(f\"\\n🏆 EXPECTED RESULT:\")\n",
    "print(\"Green Stompy should now have better coherence with:\")\n",
    "print(\"  • Proper scoring for pump spells like Giant Growth\")\n",
    "print(\"  • Recognition of combat-focused abilities\")\n",
    "print(\"  • Better distinction from Big Creatures theme\")\n",
    "\n",
    "print(f\"\\n📈 THEME COHERENCE IMPROVEMENT:\")\n",
    "print(\"The updated keywords make Stompy more focused on:\")\n",
    "print(\"  • Pump effects and temporary boosts\")\n",
    "print(\"  • Combat tricks and aggressive strategies\")  \n",
    "print(\"  • Power-matters effects\")\n",
    "print(\"  • Aggressive combat keywords\")\n",
    "print(\"\\nThis should resolve the 'No beneficial swaps found' issue!\")"
   ]
  }
 ],
 "metadata": {
  "kernelspec": {
   "display_name": "magic",
   "language": "python",
   "name": "python3"
  },
  "language_info": {
   "codemirror_mode": {
    "name": "ipython",
    "version": 3
   },
   "file_extension": ".py",
   "mimetype": "text/x-python",
   "name": "python",
   "nbconvert_exporter": "python",
   "pygments_lexer": "ipython3",
   "version": "3.13.2"
  }
 },
 "nbformat": 4,
 "nbformat_minor": 5
}

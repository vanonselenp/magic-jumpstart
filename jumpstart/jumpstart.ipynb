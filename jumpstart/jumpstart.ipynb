{
 "cells": [
  {
   "cell_type": "code",
   "execution_count": 17,
   "id": "6ef0b8fa",
   "metadata": {},
   "outputs": [],
   "source": [
    "import pandas as pd\n",
    "from dotenv import load_dotenv\n",
    "from openai import OpenAI\n",
    "from anthropic import Anthropic\n",
    "from src.consts import *\n",
    "from src.validation import validate_jumpstart_cube, display_validate_results\n",
    "from src.coherence import analyze_deck_theme_coherence_enhanced\n",
    "from src.improve import apply_swap\n",
    "\n",
    "load_dotenv(override=True)\n",
    "openai = OpenAI()\n",
    "anthropic = Anthropic() \n",
    "\n",
    "# Load the data files\n",
    "oracle_df = pd.read_csv('ThePauperCube_oracle_with_pt.csv')\n",
    "cube_df = pd.read_csv('JumpstartCube_ThePauperCube_ULTIMATE_Final_v3.csv')"
   ]
  },
  {
   "cell_type": "markdown",
   "id": "4ed2b044",
   "metadata": {},
   "source": [
    "# Generated"
   ]
  },
  {
   "cell_type": "code",
   "execution_count": 2,
   "id": "56f05954",
   "metadata": {},
   "outputs": [],
   "source": [
    "# display_validate_results(validate_jumpstart_cube(cube_df, oracle_df))"
   ]
  },
  {
   "cell_type": "code",
   "execution_count": 15,
   "id": "2a2f16e9",
   "metadata": {},
   "outputs": [
    {
     "name": "stdout",
     "output_type": "stream",
     "text": [
      "Swap history cleared\n"
     ]
    },
    {
     "data": {
      "text/markdown": [
       "Analyzing deck: Green Ramp"
      ],
      "text/plain": [
       "<IPython.core.display.Markdown object>"
      ]
     },
     "metadata": {},
     "output_type": "display_data"
    },
    {
     "data": {
      "text/markdown": [
       "Current coherence: 1.8"
      ],
      "text/plain": [
       "<IPython.core.display.Markdown object>"
      ]
     },
     "metadata": {},
     "output_type": "display_data"
    },
    {
     "data": {
      "text/markdown": [
       "Expected themes: Ramp"
      ],
      "text/plain": [
       "<IPython.core.display.Markdown object>"
      ]
     },
     "metadata": {},
     "output_type": "display_data"
    },
    {
     "data": {
      "text/markdown": [
       "Deck colors: G"
      ],
      "text/plain": [
       "<IPython.core.display.Markdown object>"
      ]
     },
     "metadata": {},
     "output_type": "display_data"
    },
    {
     "data": {
      "text/markdown": [
       "Found 60 candidate cards to consider"
      ],
      "text/plain": [
       "<IPython.core.display.Markdown object>"
      ]
     },
     "metadata": {},
     "output_type": "display_data"
    },
    {
     "data": {
      "text/markdown": [
       "Identified 13 cards as potential removal candidates"
      ],
      "text/plain": [
       "<IPython.core.display.Markdown object>"
      ]
     },
     "metadata": {},
     "output_type": "display_data"
    },
    {
     "data": {
      "text/markdown": [
       "# 🔄 Swap Recommendations for Green Ramp"
      ],
      "text/plain": [
       "<IPython.core.display.Markdown object>"
      ]
     },
     "metadata": {},
     "output_type": "display_data"
    },
    {
     "data": {
      "text/markdown": [
       "**Projected New Coherence:** 81.8/100 (+80.0)"
      ],
      "text/plain": [
       "<IPython.core.display.Markdown object>"
      ]
     },
     "metadata": {},
     "output_type": "display_data"
    },
    {
     "data": {
      "text/markdown": [
       "### Cards to Remove:"
      ],
      "text/plain": [
       "<IPython.core.display.Markdown object>"
      ]
     },
     "metadata": {},
     "output_type": "display_data"
    },
    {
     "data": {
      "text/markdown": [
       "- **Hooting Mandrills** (Theme Score: 0.0, CMC: 6.0)"
      ],
      "text/plain": [
       "<IPython.core.display.Markdown object>"
      ]
     },
     "metadata": {},
     "output_type": "display_data"
    },
    {
     "data": {
      "text/markdown": [
       "- **Wild Growth** (Theme Score: 0.0, CMC: 1.0)"
      ],
      "text/plain": [
       "<IPython.core.display.Markdown object>"
      ]
     },
     "metadata": {},
     "output_type": "display_data"
    },
    {
     "data": {
      "text/markdown": [
       "### Cards to Add:"
      ],
      "text/plain": [
       "<IPython.core.display.Markdown object>"
      ]
     },
     "metadata": {},
     "output_type": "display_data"
    },
    {
     "data": {
      "text/markdown": [
       "- **Generous Ent** (Theme Score: 8.0) - from Green Midrange"
      ],
      "text/plain": [
       "<IPython.core.display.Markdown object>"
      ]
     },
     "metadata": {},
     "output_type": "display_data"
    },
    {
     "data": {
      "text/markdown": [
       "- **Jewel Thief** (Theme Score: 8.0) - from Green Midrange"
      ],
      "text/plain": [
       "<IPython.core.display.Markdown object>"
      ]
     },
     "metadata": {},
     "output_type": "display_data"
    },
    {
     "name": "stdout",
     "output_type": "stream",
     "text": [
      "2.393846153846154\n",
      "{'expected_themes': ['Ramp'], 'theme_score': 4.230769230769231, 'theme_matches': [{'card': 'Abundant Harvest', 'score': 3, 'themes': ['Ramp']}, {'card': 'Generous Ent', 'score': 8, 'themes': ['Ramp']}, {'card': 'Jewel Thief', 'score': 8, 'themes': ['Ramp']}, {'card': 'Arbor Elf', 'score': 1, 'themes': ['Ramp']}, {'card': 'Bushwhack', 'score': 5, 'themes': ['Ramp']}, {'card': 'Elvish Mystic', 'score': 1, 'themes': ['Ramp']}, {'card': 'Nyxborn Hydra', 'score': 2, 'themes': ['Ramp']}, {'card': 'Sakura-Tribe Elder', 'score': 8, 'themes': ['Ramp']}, {'card': 'Treetop Snarespinner', 'score': 1, 'themes': ['Ramp']}, {'card': 'Tuskguard Captain', 'score': 1, 'themes': ['Ramp']}, {'card': 'Voracious Varmint', 'score': 1, 'themes': ['Ramp']}, {'card': 'Yavimaya Elder', 'score': 8, 'themes': ['Ramp']}, {'card': 'Greater Tanuki', 'score': 8, 'themes': ['Ramp']}], 'color_coherence': 1.0, 'color_issues': [], 'mana_curve_score': 0.8923076923076925, 'mana_curve': {1: 5, 6: 2, 3: 3, 2: 2, 4: 1}, 'creature_stats': {'creature_count': 11, 'total_power': 24.0, 'total_toughness': 29.0, 'avg_power': 2.1818181818181817, 'avg_toughness': 2.6363636363636362, 'power_distribution': {5: 1, 3: 1, 1: 4, 0: 1, 2: 3, 6: 1}, 'toughness_distribution': {7: 1, 3: 2, 1: 5, 4: 1, 2: 1, 5: 1}, 'creature_categories': {'small': 8, 'medium': 1, 'large': 2, 'utility': 6, 'evasive': 5}, 'theme_alignment_score': 0.0, 'creature_details': [{'name': 'Generous Ent', 'power': 5.0, 'toughness': 7.0, 'categories': ['large', 'utility'], 'has_evasion': False, 'has_utility': True}, {'name': 'Jewel Thief', 'power': 3.0, 'toughness': 3.0, 'categories': ['medium', 'evasive', 'utility'], 'has_evasion': True, 'has_utility': True}, {'name': 'Arbor Elf', 'power': 1.0, 'toughness': 1.0, 'categories': ['small'], 'has_evasion': False, 'has_utility': False}, {'name': 'Elvish Mystic', 'power': 1.0, 'toughness': 1.0, 'categories': ['small'], 'has_evasion': False, 'has_utility': False}, {'name': 'Nyxborn Hydra', 'power': 0.0, 'toughness': 1.0, 'categories': ['small', 'evasive', 'utility'], 'has_evasion': True, 'has_utility': True}, {'name': 'Sakura-Tribe Elder', 'power': 1.0, 'toughness': 1.0, 'categories': ['small', 'utility'], 'has_evasion': False, 'has_utility': True}, {'name': 'Treetop Snarespinner', 'power': 1.0, 'toughness': 4.0, 'categories': ['small', 'evasive'], 'has_evasion': True, 'has_utility': False}, {'name': 'Tuskguard Captain', 'power': 2.0, 'toughness': 3.0, 'categories': ['small', 'evasive'], 'has_evasion': True, 'has_utility': False}, {'name': 'Voracious Varmint', 'power': 2.0, 'toughness': 2.0, 'categories': ['small'], 'has_evasion': False, 'has_utility': False}, {'name': 'Yavimaya Elder', 'power': 2.0, 'toughness': 1.0, 'categories': ['small', 'utility'], 'has_evasion': False, 'has_utility': True}, {'name': 'Greater Tanuki', 'power': 6.0, 'toughness': 5.0, 'categories': ['large', 'evasive', 'utility'], 'has_evasion': True, 'has_utility': True}]}, 'overall_coherence': 2.393846153846154, 'deck_colors': 'G', 'card_count': 13}\n",
      "Improved Green Ramp coherence from 1.8 to 2.4\n",
      "Iteration 1: Total coherence: 225.39 (improvement: 0.12)\n"
     ]
    },
    {
     "data": {
      "text/markdown": [
       "Analyzing deck: Green Midrange"
      ],
      "text/plain": [
       "<IPython.core.display.Markdown object>"
      ]
     },
     "metadata": {},
     "output_type": "display_data"
    },
    {
     "data": {
      "text/markdown": [
       "Current coherence: 1.9"
      ],
      "text/plain": [
       "<IPython.core.display.Markdown object>"
      ]
     },
     "metadata": {},
     "output_type": "display_data"
    },
    {
     "data": {
      "text/markdown": [
       "Expected themes: Midrange"
      ],
      "text/plain": [
       "<IPython.core.display.Markdown object>"
      ]
     },
     "metadata": {},
     "output_type": "display_data"
    },
    {
     "data": {
      "text/markdown": [
       "Deck colors: G"
      ],
      "text/plain": [
       "<IPython.core.display.Markdown object>"
      ]
     },
     "metadata": {},
     "output_type": "display_data"
    },
    {
     "data": {
      "text/markdown": [
       "Found 67 candidate cards to consider"
      ],
      "text/plain": [
       "<IPython.core.display.Markdown object>"
      ]
     },
     "metadata": {},
     "output_type": "display_data"
    },
    {
     "data": {
      "text/markdown": [
       "Identified 13 cards as potential removal candidates"
      ],
      "text/plain": [
       "<IPython.core.display.Markdown object>"
      ]
     },
     "metadata": {},
     "output_type": "display_data"
    },
    {
     "data": {
      "text/markdown": [
       "# 🔄 Swap Recommendations for Green Midrange"
      ],
      "text/plain": [
       "<IPython.core.display.Markdown object>"
      ]
     },
     "metadata": {},
     "output_type": "display_data"
    },
    {
     "data": {
      "text/markdown": [
       "**Projected New Coherence:** 66.9/100 (+65.0)"
      ],
      "text/plain": [
       "<IPython.core.display.Markdown object>"
      ]
     },
     "metadata": {},
     "output_type": "display_data"
    },
    {
     "data": {
      "text/markdown": [
       "### Cards to Remove:"
      ],
      "text/plain": [
       "<IPython.core.display.Markdown object>"
      ]
     },
     "metadata": {},
     "output_type": "display_data"
    },
    {
     "data": {
      "text/markdown": [
       "- **Wild Growth** (Theme Score: 0.0, CMC: 1.0)"
      ],
      "text/plain": [
       "<IPython.core.display.Markdown object>"
      ]
     },
     "metadata": {},
     "output_type": "display_data"
    },
    {
     "data": {
      "text/markdown": [
       "- **Hooting Mandrills** (Theme Score: 2.0, CMC: 6.0)"
      ],
      "text/plain": [
       "<IPython.core.display.Markdown object>"
      ]
     },
     "metadata": {},
     "output_type": "display_data"
    },
    {
     "data": {
      "text/markdown": [
       "### Cards to Add:"
      ],
      "text/plain": [
       "<IPython.core.display.Markdown object>"
      ]
     },
     "metadata": {},
     "output_type": "display_data"
    },
    {
     "data": {
      "text/markdown": [
       "- **Jewel Thief** (Theme Score: 9.0) - from Green Ramp"
      ],
      "text/plain": [
       "<IPython.core.display.Markdown object>"
      ]
     },
     "metadata": {},
     "output_type": "display_data"
    },
    {
     "data": {
      "text/markdown": [
       "- **Generous Ent** (Theme Score: 6.0) - from Green Ramp"
      ],
      "text/plain": [
       "<IPython.core.display.Markdown object>"
      ]
     },
     "metadata": {},
     "output_type": "display_data"
    },
    {
     "name": "stdout",
     "output_type": "stream",
     "text": [
      "2.393846153846154\n",
      "{'expected_themes': ['Midrange'], 'theme_score': 4.230769230769231, 'theme_matches': [{'card': 'Bloom Hulk', 'score': 4, 'themes': ['Midrange']}, {'card': 'Conclave Naturalists', 'score': 3, 'themes': ['Midrange']}, {'card': 'Longstalk Brawl', 'score': 4, 'themes': ['Midrange']}, {'card': 'Massive Might', 'score': 2, 'themes': ['Midrange']}, {'card': 'Rancor', 'score': 3, 'themes': ['Midrange']}, {'card': 'Trumpeting Herd', 'score': 3, 'themes': ['Midrange']}, {'card': 'Vines of Vastwood', 'score': 2, 'themes': ['Midrange']}, {'card': 'Generous Ent', 'score': 6, 'themes': ['Midrange']}, {'card': 'Jewel Thief', 'score': 9, 'themes': ['Midrange']}, {'card': 'Bannerhide Krushok', 'score': 4, 'themes': ['Midrange']}, {'card': 'Ram Through', 'score': 2, 'themes': ['Midrange']}, {'card': 'Basking Broodscale', 'score': 7, 'themes': ['Midrange']}, {'card': 'Iron Apprentice', 'score': 6, 'themes': ['Midrange']}], 'color_coherence': 1.0, 'color_issues': [], 'mana_curve_score': 0.8923076923076922, 'mana_curve': {4: 3, 5: 1, 1: 5, 6: 1, 3: 1, 2: 2}, 'creature_stats': {'creature_count': 8, 'total_power': 22.0, 'total_toughness': 24.0, 'avg_power': 2.75, 'avg_toughness': 3.0, 'power_distribution': {4: 3, 0: 2, 5: 1, 3: 1, 2: 1}, 'toughness_distribution': {4: 3, 0: 2, 7: 1, 3: 1, 2: 1}, 'creature_categories': {'small': 3, 'medium': 4, 'large': 1, 'utility': 6, 'evasive': 2}, 'theme_alignment_score': 0.0, 'creature_details': [{'name': 'Bloom Hulk', 'power': 4.0, 'toughness': 4.0, 'categories': ['medium', 'utility'], 'has_evasion': False, 'has_utility': True}, {'name': 'Conclave Naturalists', 'power': 4.0, 'toughness': 4.0, 'categories': ['medium', 'utility'], 'has_evasion': False, 'has_utility': True}, {'name': 'Trumpeting Herd', 'power': 0.0, 'toughness': 0.0, 'categories': ['small'], 'has_evasion': False, 'has_utility': False}, {'name': 'Generous Ent', 'power': 5.0, 'toughness': 7.0, 'categories': ['large', 'utility'], 'has_evasion': False, 'has_utility': True}, {'name': 'Jewel Thief', 'power': 3.0, 'toughness': 3.0, 'categories': ['medium', 'evasive', 'utility'], 'has_evasion': True, 'has_utility': True}, {'name': 'Bannerhide Krushok', 'power': 4.0, 'toughness': 4.0, 'categories': ['medium', 'evasive'], 'has_evasion': True, 'has_utility': False}, {'name': 'Basking Broodscale', 'power': 2.0, 'toughness': 2.0, 'categories': ['small', 'utility'], 'has_evasion': False, 'has_utility': True}, {'name': 'Iron Apprentice', 'power': 0.0, 'toughness': 0.0, 'categories': ['small', 'utility'], 'has_evasion': False, 'has_utility': True}]}, 'overall_coherence': 2.393846153846154, 'deck_colors': 'G', 'card_count': 13}\n",
      "Improved Green Midrange coherence from 1.9 to 2.4\n",
      "Iteration 2: Total coherence: 225.28 (improvement: -0.12)\n",
      "No further improvements found - optimization complete!\n"
     ]
    }
   ],
   "source": [
    "# You can also analyze a specific deck by name\n",
    "# Example: Analyze the \"Green Big Creatures\" deck\n",
    "\n",
    "import importlib\n",
    "import src.process\n",
    "importlib.reload(src.process)\n",
    "\n",
    "from src.process import optimize_deck_coherence, clear_swap_history\n",
    "\n",
    "# Clear any previous swap history to prevent issues with oscillation\n",
    "clear_swap_history()\n",
    "\n",
    "coherence = analyze_deck_theme_coherence_enhanced(cube_df, oracle_df)\n",
    "total_coherence = sum(result['overall_coherence'] for result in coherence.values())\n",
    "\n",
    "improvement = True\n",
    "iteration = 0\n",
    "max_iterations = 20  # Prevent infinite loops\n",
    "\n",
    "while improvement and iteration < max_iterations:\n",
    "    prev_total_coherence = total_coherence\n",
    "    cube_df = optimize_deck_coherence(cube_df=cube_df, oracle_df=oracle_df)\n",
    "    coherence = analyze_deck_theme_coherence_enhanced(cube_df, oracle_df)\n",
    "    total_coherence = sum(result['overall_coherence'] for result in coherence.values())\n",
    "    improvement = total_coherence > prev_total_coherence\n",
    "    iteration += 1\n",
    "    print(f\"Iteration {iteration}: Total coherence: {total_coherence:.2f} (improvement: {total_coherence - prev_total_coherence:.2f})\")\n",
    "    \n",
    "    if not improvement:\n",
    "        print(\"No further improvements found - optimization complete!\")\n",
    "    elif iteration >= max_iterations:\n",
    "        print(\"Maximum iterations reached - stopping optimization\")"
   ]
  },
  {
   "cell_type": "markdown",
   "id": "f407f31b",
   "metadata": {},
   "source": [
    "# Save to file"
   ]
  },
  {
   "cell_type": "code",
   "execution_count": 16,
   "id": "b89cb5cc",
   "metadata": {},
   "outputs": [
    {
     "name": "stdout",
     "output_type": "stream",
     "text": [
      "Exporting cube to JumpstartCube_ThePauperCube_ULTIMATE_Final_v4.csv...\n",
      "✅ Successfully exported 390 cards to JumpstartCube_ThePauperCube_ULTIMATE_Final_v4.csv\n",
      "\n",
      "📊 Export Summary:\n",
      "Total cards: 390\n",
      "Number of decks: 30\n",
      "\n",
      "Deck breakdown:\n",
      "  Azorius Evasion/Flying: 13 cards\n",
      "  Blue Card Draw: 13 cards\n",
      "  White Equipment: 13 cards\n",
      "  White Control: 13 cards\n",
      "  White Aggro: 13 cards\n",
      "  Simic Control: 13 cards\n",
      "  Selesnya Control: 13 cards\n",
      "  Red Artifacts: 13 cards\n",
      "  Red Burn: 13 cards\n",
      "  Rakdos Burn/Damage: 13 cards\n",
      "  ... and 20 more decks\n"
     ]
    },
    {
     "data": {
      "text/plain": [
       "'JumpstartCube_ThePauperCube_ULTIMATE_Final_v4.csv'"
      ]
     },
     "execution_count": 16,
     "metadata": {},
     "output_type": "execute_result"
    }
   ],
   "source": [
    "# display_coherence_analysis_enhanced(analyze_deck_theme_coherence_enhanced(cube_df, oracle_df))\n",
    "\n",
    "from src.export import export_cube_to_csv\n",
    "\n",
    "\n",
    "export_cube_to_csv(cube_df, oracle_df, 'JumpstartCube_ThePauperCube_ULTIMATE_Final_v4.csv')"
   ]
  },
  {
   "cell_type": "code",
   "execution_count": null,
   "id": "2c4d7fff",
   "metadata": {},
   "outputs": [
    {
     "data": {
      "text/markdown": [
       "# Enhanced Deck Theme Coherence Analysis"
      ],
      "text/plain": [
       "<IPython.core.display.Markdown object>"
      ]
     },
     "metadata": {},
     "output_type": "display_data"
    },
    {
     "data": {
      "text/markdown": [
       "**Average Coherence Score: 7.5/100**"
      ],
      "text/plain": [
       "<IPython.core.display.Markdown object>"
      ]
     },
     "metadata": {},
     "output_type": "display_data"
    },
    {
     "data": {
      "text/markdown": [
       "## Top 5 Most Coherent Decks"
      ],
      "text/plain": [
       "<IPython.core.display.Markdown object>"
      ]
     },
     "metadata": {},
     "output_type": "display_data"
    },
    {
     "data": {
      "text/markdown": [
       "### 1. Rakdos Burn/Damage"
      ],
      "text/plain": [
       "<IPython.core.display.Markdown object>"
      ]
     },
     "metadata": {},
     "output_type": "display_data"
    },
    {
     "data": {
      "text/markdown": [
       "- **Overall Score: 12.8/100**"
      ],
      "text/plain": [
       "<IPython.core.display.Markdown object>"
      ]
     },
     "metadata": {},
     "output_type": "display_data"
    },
    {
     "data": {
      "text/markdown": [
       "- **Expected Themes:** Burn, Sacrifice, Aggro"
      ],
      "text/plain": [
       "<IPython.core.display.Markdown object>"
      ]
     },
     "metadata": {},
     "output_type": "display_data"
    },
    {
     "data": {
      "text/markdown": [
       "- **Theme Match Score:** 5.0"
      ],
      "text/plain": [
       "<IPython.core.display.Markdown object>"
      ]
     },
     "metadata": {},
     "output_type": "display_data"
    },
    {
     "data": {
      "text/markdown": [
       "- **Color Coherence:** 100.0%"
      ],
      "text/plain": [
       "<IPython.core.display.Markdown object>"
      ]
     },
     "metadata": {},
     "output_type": "display_data"
    },
    {
     "data": {
      "text/markdown": [
       "- **Mana Curve Score:** 100.0%"
      ],
      "text/plain": [
       "<IPython.core.display.Markdown object>"
      ]
     },
     "metadata": {},
     "output_type": "display_data"
    },
    {
     "data": {
      "text/markdown": [
       "- **Creature Count:** 6 (46.2% of deck)"
      ],
      "text/plain": [
       "<IPython.core.display.Markdown object>"
      ]
     },
     "metadata": {},
     "output_type": "display_data"
    },
    {
     "data": {
      "text/markdown": [
       "- **Avg Power/Toughness:** 2.0/1.7"
      ],
      "text/plain": [
       "<IPython.core.display.Markdown object>"
      ]
     },
     "metadata": {},
     "output_type": "display_data"
    },
    {
     "data": {
      "text/markdown": [
       "- **Creature Mix:** Small: 4, Medium: 2, Large: 0"
      ],
      "text/plain": [
       "<IPython.core.display.Markdown object>"
      ]
     },
     "metadata": {},
     "output_type": "display_data"
    },
    {
     "data": {
      "text/markdown": [
       "- **Creature Theme Alignment:** 5.2"
      ],
      "text/plain": [
       "<IPython.core.display.Markdown object>"
      ]
     },
     "metadata": {},
     "output_type": "display_data"
    },
    {
     "data": {
      "text/markdown": [
       "### 2. Simic Control"
      ],
      "text/plain": [
       "<IPython.core.display.Markdown object>"
      ]
     },
     "metadata": {},
     "output_type": "display_data"
    },
    {
     "data": {
      "text/markdown": [
       "- **Overall Score: 12.7/100**"
      ],
      "text/plain": [
       "<IPython.core.display.Markdown object>"
      ]
     },
     "metadata": {},
     "output_type": "display_data"
    },
    {
     "data": {
      "text/markdown": [
       "- **Expected Themes:** Card Draw, Control, Ramp"
      ],
      "text/plain": [
       "<IPython.core.display.Markdown object>"
      ]
     },
     "metadata": {},
     "output_type": "display_data"
    },
    {
     "data": {
      "text/markdown": [
       "- **Theme Match Score:** 6.2"
      ],
      "text/plain": [
       "<IPython.core.display.Markdown object>"
      ]
     },
     "metadata": {},
     "output_type": "display_data"
    },
    {
     "data": {
      "text/markdown": [
       "- **Color Coherence:** 100.0%"
      ],
      "text/plain": [
       "<IPython.core.display.Markdown object>"
      ]
     },
     "metadata": {},
     "output_type": "display_data"
    },
    {
     "data": {
      "text/markdown": [
       "- **Mana Curve Score:** 95.4%"
      ],
      "text/plain": [
       "<IPython.core.display.Markdown object>"
      ]
     },
     "metadata": {},
     "output_type": "display_data"
    },
    {
     "data": {
      "text/markdown": [
       "- **Creature Count:** 6 (46.2% of deck)"
      ],
      "text/plain": [
       "<IPython.core.display.Markdown object>"
      ]
     },
     "metadata": {},
     "output_type": "display_data"
    },
    {
     "data": {
      "text/markdown": [
       "- **Avg Power/Toughness:** 2.3/2.5"
      ],
      "text/plain": [
       "<IPython.core.display.Markdown object>"
      ]
     },
     "metadata": {},
     "output_type": "display_data"
    },
    {
     "data": {
      "text/markdown": [
       "- **Creature Mix:** Small: 5, Medium: 0, Large: 1"
      ],
      "text/plain": [
       "<IPython.core.display.Markdown object>"
      ]
     },
     "metadata": {},
     "output_type": "display_data"
    },
    {
     "data": {
      "text/markdown": [
       "- **Creature Theme Alignment:** 4.7"
      ],
      "text/plain": [
       "<IPython.core.display.Markdown object>"
      ]
     },
     "metadata": {},
     "output_type": "display_data"
    },
    {
     "data": {
      "text/markdown": [
       "### 3. Golgari Graveyard"
      ],
      "text/plain": [
       "<IPython.core.display.Markdown object>"
      ]
     },
     "metadata": {},
     "output_type": "display_data"
    },
    {
     "data": {
      "text/markdown": [
       "- **Overall Score: 12.0/100**"
      ],
      "text/plain": [
       "<IPython.core.display.Markdown object>"
      ]
     },
     "metadata": {},
     "output_type": "display_data"
    },
    {
     "data": {
      "text/markdown": [
       "- **Expected Themes:** Sacrifice, Graveyard"
      ],
      "text/plain": [
       "<IPython.core.display.Markdown object>"
      ]
     },
     "metadata": {},
     "output_type": "display_data"
    },
    {
     "data": {
      "text/markdown": [
       "- **Theme Match Score:** 3.4"
      ],
      "text/plain": [
       "<IPython.core.display.Markdown object>"
      ]
     },
     "metadata": {},
     "output_type": "display_data"
    },
    {
     "data": {
      "text/markdown": [
       "- **Color Coherence:** 100.0%"
      ],
      "text/plain": [
       "<IPython.core.display.Markdown object>"
      ]
     },
     "metadata": {},
     "output_type": "display_data"
    },
    {
     "data": {
      "text/markdown": [
       "- **Mana Curve Score:** 92.3%"
      ],
      "text/plain": [
       "<IPython.core.display.Markdown object>"
      ]
     },
     "metadata": {},
     "output_type": "display_data"
    },
    {
     "data": {
      "text/markdown": [
       "- **Creature Count:** 9 (69.2% of deck)"
      ],
      "text/plain": [
       "<IPython.core.display.Markdown object>"
      ]
     },
     "metadata": {},
     "output_type": "display_data"
    },
    {
     "data": {
      "text/markdown": [
       "- **Avg Power/Toughness:** 2.6/2.3"
      ],
      "text/plain": [
       "<IPython.core.display.Markdown object>"
      ]
     },
     "metadata": {},
     "output_type": "display_data"
    },
    {
     "data": {
      "text/markdown": [
       "- **Creature Mix:** Small: 6, Medium: 2, Large: 1"
      ],
      "text/plain": [
       "<IPython.core.display.Markdown object>"
      ]
     },
     "metadata": {},
     "output_type": "display_data"
    },
    {
     "data": {
      "text/markdown": [
       "- **Creature Theme Alignment:** 5.2"
      ],
      "text/plain": [
       "<IPython.core.display.Markdown object>"
      ]
     },
     "metadata": {},
     "output_type": "display_data"
    },
    {
     "data": {
      "text/markdown": [
       "### 4. Red Small Creatures"
      ],
      "text/plain": [
       "<IPython.core.display.Markdown object>"
      ]
     },
     "metadata": {},
     "output_type": "display_data"
    },
    {
     "data": {
      "text/markdown": [
       "- **Overall Score: 11.9/100**"
      ],
      "text/plain": [
       "<IPython.core.display.Markdown object>"
      ]
     },
     "metadata": {},
     "output_type": "display_data"
    },
    {
     "data": {
      "text/markdown": [
       "- **Expected Themes:** Small Creatures"
      ],
      "text/plain": [
       "<IPython.core.display.Markdown object>"
      ]
     },
     "metadata": {},
     "output_type": "display_data"
    },
    {
     "data": {
      "text/markdown": [
       "- **Theme Match Score:** 3.2"
      ],
      "text/plain": [
       "<IPython.core.display.Markdown object>"
      ]
     },
     "metadata": {},
     "output_type": "display_data"
    },
    {
     "data": {
      "text/markdown": [
       "- **Color Coherence:** 100.0%"
      ],
      "text/plain": [
       "<IPython.core.display.Markdown object>"
      ]
     },
     "metadata": {},
     "output_type": "display_data"
    },
    {
     "data": {
      "text/markdown": [
       "- **Mana Curve Score:** 100.0%"
      ],
      "text/plain": [
       "<IPython.core.display.Markdown object>"
      ]
     },
     "metadata": {},
     "output_type": "display_data"
    },
    {
     "data": {
      "text/markdown": [
       "- **Creature Count:** 10 (76.9% of deck)"
      ],
      "text/plain": [
       "<IPython.core.display.Markdown object>"
      ]
     },
     "metadata": {},
     "output_type": "display_data"
    },
    {
     "data": {
      "text/markdown": [
       "- **Avg Power/Toughness:** 1.1/1.0"
      ],
      "text/plain": [
       "<IPython.core.display.Markdown object>"
      ]
     },
     "metadata": {},
     "output_type": "display_data"
    },
    {
     "data": {
      "text/markdown": [
       "- **Creature Mix:** Small: 9, Medium: 1, Large: 0"
      ],
      "text/plain": [
       "<IPython.core.display.Markdown object>"
      ]
     },
     "metadata": {},
     "output_type": "display_data"
    },
    {
     "data": {
      "text/markdown": [
       "- **Creature Theme Alignment:** 7.6"
      ],
      "text/plain": [
       "<IPython.core.display.Markdown object>"
      ]
     },
     "metadata": {},
     "output_type": "display_data"
    },
    {
     "data": {
      "text/markdown": [
       "### 5. Azorius Evasion/Flying"
      ],
      "text/plain": [
       "<IPython.core.display.Markdown object>"
      ]
     },
     "metadata": {},
     "output_type": "display_data"
    },
    {
     "data": {
      "text/markdown": [
       "- **Overall Score: 11.6/100**"
      ],
      "text/plain": [
       "<IPython.core.display.Markdown object>"
      ]
     },
     "metadata": {},
     "output_type": "display_data"
    },
    {
     "data": {
      "text/markdown": [
       "- **Expected Themes:** Flying, Control"
      ],
      "text/plain": [
       "<IPython.core.display.Markdown object>"
      ]
     },
     "metadata": {},
     "output_type": "display_data"
    },
    {
     "data": {
      "text/markdown": [
       "- **Theme Match Score:** 2.7"
      ],
      "text/plain": [
       "<IPython.core.display.Markdown object>"
      ]
     },
     "metadata": {},
     "output_type": "display_data"
    },
    {
     "data": {
      "text/markdown": [
       "- **Color Coherence:** 100.0%"
      ],
      "text/plain": [
       "<IPython.core.display.Markdown object>"
      ]
     },
     "metadata": {},
     "output_type": "display_data"
    },
    {
     "data": {
      "text/markdown": [
       "- **Mana Curve Score:** 96.9%"
      ],
      "text/plain": [
       "<IPython.core.display.Markdown object>"
      ]
     },
     "metadata": {},
     "output_type": "display_data"
    },
    {
     "data": {
      "text/markdown": [
       "- **Creature Count:** 6 (46.2% of deck)"
      ],
      "text/plain": [
       "<IPython.core.display.Markdown object>"
      ]
     },
     "metadata": {},
     "output_type": "display_data"
    },
    {
     "data": {
      "text/markdown": [
       "- **Avg Power/Toughness:** 2.0/2.0"
      ],
      "text/plain": [
       "<IPython.core.display.Markdown object>"
      ]
     },
     "metadata": {},
     "output_type": "display_data"
    },
    {
     "data": {
      "text/markdown": [
       "- **Creature Mix:** Small: 4, Medium: 2, Large: 0"
      ],
      "text/plain": [
       "<IPython.core.display.Markdown object>"
      ]
     },
     "metadata": {},
     "output_type": "display_data"
    },
    {
     "data": {
      "text/markdown": [
       "- **Creature Theme Alignment:** 8.3"
      ],
      "text/plain": [
       "<IPython.core.display.Markdown object>"
      ]
     },
     "metadata": {},
     "output_type": "display_data"
    },
    {
     "data": {
      "text/markdown": [
       "## Bottom 5 Least Coherent Decks"
      ],
      "text/plain": [
       "<IPython.core.display.Markdown object>"
      ]
     },
     "metadata": {},
     "output_type": "display_data"
    },
    {
     "data": {
      "text/markdown": [
       "### 26. Green Ramp"
      ],
      "text/plain": [
       "<IPython.core.display.Markdown object>"
      ]
     },
     "metadata": {},
     "output_type": "display_data"
    },
    {
     "data": {
      "text/markdown": [
       "- **Overall Score: 1.6/100**"
      ],
      "text/plain": [
       "<IPython.core.display.Markdown object>"
      ]
     },
     "metadata": {},
     "output_type": "display_data"
    },
    {
     "data": {
      "text/markdown": [
       "- **Expected Themes:** Ramp"
      ],
      "text/plain": [
       "<IPython.core.display.Markdown object>"
      ]
     },
     "metadata": {},
     "output_type": "display_data"
    },
    {
     "data": {
      "text/markdown": [
       "- **Theme Match Score:** 2.7"
      ],
      "text/plain": [
       "<IPython.core.display.Markdown object>"
      ]
     },
     "metadata": {},
     "output_type": "display_data"
    },
    {
     "data": {
      "text/markdown": [
       "- **Color Coherence:** 100.0%"
      ],
      "text/plain": [
       "<IPython.core.display.Markdown object>"
      ]
     },
     "metadata": {},
     "output_type": "display_data"
    },
    {
     "data": {
      "text/markdown": [
       "- **Avg Power/Toughness:** 1.9/2.8"
      ],
      "text/plain": [
       "<IPython.core.display.Markdown object>"
      ]
     },
     "metadata": {},
     "output_type": "display_data"
    },
    {
     "data": {
      "text/markdown": [
       "- **Creature Theme Alignment:** 0.0"
      ],
      "text/plain": [
       "<IPython.core.display.Markdown object>"
      ]
     },
     "metadata": {},
     "output_type": "display_data"
    },
    {
     "data": {
      "text/markdown": [
       "### 27. Blue Card Draw"
      ],
      "text/plain": [
       "<IPython.core.display.Markdown object>"
      ]
     },
     "metadata": {},
     "output_type": "display_data"
    },
    {
     "data": {
      "text/markdown": [
       "- **Overall Score: 1.5/100**"
      ],
      "text/plain": [
       "<IPython.core.display.Markdown object>"
      ]
     },
     "metadata": {},
     "output_type": "display_data"
    },
    {
     "data": {
      "text/markdown": [
       "- **Expected Themes:** Card Draw"
      ],
      "text/plain": [
       "<IPython.core.display.Markdown object>"
      ]
     },
     "metadata": {},
     "output_type": "display_data"
    },
    {
     "data": {
      "text/markdown": [
       "- **Theme Match Score:** 2.5"
      ],
      "text/plain": [
       "<IPython.core.display.Markdown object>"
      ]
     },
     "metadata": {},
     "output_type": "display_data"
    },
    {
     "data": {
      "text/markdown": [
       "- **Color Coherence:** 100.0%"
      ],
      "text/plain": [
       "<IPython.core.display.Markdown object>"
      ]
     },
     "metadata": {},
     "output_type": "display_data"
    },
    {
     "data": {
      "text/markdown": [
       "- **Avg Power/Toughness:** 2.3/2.2"
      ],
      "text/plain": [
       "<IPython.core.display.Markdown object>"
      ]
     },
     "metadata": {},
     "output_type": "display_data"
    },
    {
     "data": {
      "text/markdown": [
       "- **Creature Theme Alignment:** 0.0"
      ],
      "text/plain": [
       "<IPython.core.display.Markdown object>"
      ]
     },
     "metadata": {},
     "output_type": "display_data"
    },
    {
     "data": {
      "text/markdown": [
       "### 28. Red Burn"
      ],
      "text/plain": [
       "<IPython.core.display.Markdown object>"
      ]
     },
     "metadata": {},
     "output_type": "display_data"
    },
    {
     "data": {
      "text/markdown": [
       "- **Overall Score: 1.5/100**"
      ],
      "text/plain": [
       "<IPython.core.display.Markdown object>"
      ]
     },
     "metadata": {},
     "output_type": "display_data"
    },
    {
     "data": {
      "text/markdown": [
       "- **Expected Themes:** Burn"
      ],
      "text/plain": [
       "<IPython.core.display.Markdown object>"
      ]
     },
     "metadata": {},
     "output_type": "display_data"
    },
    {
     "data": {
      "text/markdown": [
       "- **Theme Match Score:** 2.4"
      ],
      "text/plain": [
       "<IPython.core.display.Markdown object>"
      ]
     },
     "metadata": {},
     "output_type": "display_data"
    },
    {
     "data": {
      "text/markdown": [
       "- **Color Coherence:** 100.0%"
      ],
      "text/plain": [
       "<IPython.core.display.Markdown object>"
      ]
     },
     "metadata": {},
     "output_type": "display_data"
    },
    {
     "data": {
      "text/markdown": [
       "- **Avg Power/Toughness:** 2.0/1.5"
      ],
      "text/plain": [
       "<IPython.core.display.Markdown object>"
      ]
     },
     "metadata": {},
     "output_type": "display_data"
    },
    {
     "data": {
      "text/markdown": [
       "- **Creature Theme Alignment:** 0.0"
      ],
      "text/plain": [
       "<IPython.core.display.Markdown object>"
      ]
     },
     "metadata": {},
     "output_type": "display_data"
    },
    {
     "data": {
      "text/markdown": [
       "### 29. Blue Tempo"
      ],
      "text/plain": [
       "<IPython.core.display.Markdown object>"
      ]
     },
     "metadata": {},
     "output_type": "display_data"
    },
    {
     "data": {
      "text/markdown": [
       "- **Overall Score: 1.4/100**"
      ],
      "text/plain": [
       "<IPython.core.display.Markdown object>"
      ]
     },
     "metadata": {},
     "output_type": "display_data"
    },
    {
     "data": {
      "text/markdown": [
       "- **Expected Themes:** Tempo"
      ],
      "text/plain": [
       "<IPython.core.display.Markdown object>"
      ]
     },
     "metadata": {},
     "output_type": "display_data"
    },
    {
     "data": {
      "text/markdown": [
       "- **Theme Match Score:** 2.3"
      ],
      "text/plain": [
       "<IPython.core.display.Markdown object>"
      ]
     },
     "metadata": {},
     "output_type": "display_data"
    },
    {
     "data": {
      "text/markdown": [
       "- **Color Coherence:** 100.0%"
      ],
      "text/plain": [
       "<IPython.core.display.Markdown object>"
      ]
     },
     "metadata": {},
     "output_type": "display_data"
    },
    {
     "data": {
      "text/markdown": [
       "- **Avg Power/Toughness:** 2.2/1.7"
      ],
      "text/plain": [
       "<IPython.core.display.Markdown object>"
      ]
     },
     "metadata": {},
     "output_type": "display_data"
    },
    {
     "data": {
      "text/markdown": [
       "- **Creature Theme Alignment:** 0.0"
      ],
      "text/plain": [
       "<IPython.core.display.Markdown object>"
      ]
     },
     "metadata": {},
     "output_type": "display_data"
    },
    {
     "data": {
      "text/markdown": [
       "### 30. Green Midrange"
      ],
      "text/plain": [
       "<IPython.core.display.Markdown object>"
      ]
     },
     "metadata": {},
     "output_type": "display_data"
    },
    {
     "data": {
      "text/markdown": [
       "- **Overall Score: 1.4/100**"
      ],
      "text/plain": [
       "<IPython.core.display.Markdown object>"
      ]
     },
     "metadata": {},
     "output_type": "display_data"
    },
    {
     "data": {
      "text/markdown": [
       "- **Expected Themes:** Midrange"
      ],
      "text/plain": [
       "<IPython.core.display.Markdown object>"
      ]
     },
     "metadata": {},
     "output_type": "display_data"
    },
    {
     "data": {
      "text/markdown": [
       "- **Theme Match Score:** 2.3"
      ],
      "text/plain": [
       "<IPython.core.display.Markdown object>"
      ]
     },
     "metadata": {},
     "output_type": "display_data"
    },
    {
     "data": {
      "text/markdown": [
       "- **Color Coherence:** 100.0%"
      ],
      "text/plain": [
       "<IPython.core.display.Markdown object>"
      ]
     },
     "metadata": {},
     "output_type": "display_data"
    },
    {
     "data": {
      "text/markdown": [
       "- **Avg Power/Toughness:** 2.8/2.8"
      ],
      "text/plain": [
       "<IPython.core.display.Markdown object>"
      ]
     },
     "metadata": {},
     "output_type": "display_data"
    },
    {
     "data": {
      "text/markdown": [
       "- **Creature Theme Alignment:** 0.0"
      ],
      "text/plain": [
       "<IPython.core.display.Markdown object>"
      ]
     },
     "metadata": {},
     "output_type": "display_data"
    }
   ],
   "source": [
    "from src.coherence import display_coherence_analysis_enhanced\n",
    "\n",
    "\n",
    "display_coherence_analysis_enhanced(analyze_deck_theme_coherence_enhanced(cube_df, oracle_df))"
   ]
  },
  {
   "cell_type": "code",
   "execution_count": 18,
   "id": "c135f7b3",
   "metadata": {},
   "outputs": [
    {
     "name": "stdout",
     "output_type": "stream",
     "text": [
      "Found 260 color identity violations:\n",
      "- Carrier Thrall (Color: B) in Black Aggro\n",
      "  Reason: Non-black card (B) in Black deck\n",
      "\n",
      "- Carrion Feeder (Color: B) in Black Aggro\n",
      "  Reason: Non-black card (B) in Black deck\n",
      "\n",
      "- Dauthi Slayer (Color: B) in Black Aggro\n",
      "  Reason: Non-black card (B) in Black deck\n",
      "\n",
      "- Gixian Infiltrator (Color: B) in Black Aggro\n",
      "  Reason: Non-black card (B) in Black deck\n",
      "\n",
      "- Loathsome Curator (Color: B) in Black Aggro\n",
      "  Reason: Non-black card (B) in Black deck\n",
      "\n",
      "- Scurrilous Sentry (Color: B) in Black Aggro\n",
      "  Reason: Non-black card (B) in Black deck\n",
      "\n",
      "- Tithing Blade (Color: B) in Black Aggro\n",
      "  Reason: Non-black card (B) in Black deck\n",
      "\n",
      "- Tortured Existence (Color: B) in Black Aggro\n",
      "  Reason: Non-black card (B) in Black deck\n",
      "\n",
      "- Troll of Khazad-dûm (Color: B) in Black Aggro\n",
      "  Reason: Non-black card (B) in Black deck\n",
      "\n",
      "- Vampire Lacerator (Color: B) in Black Aggro\n",
      "  Reason: Non-black card (B) in Black deck\n",
      "\n",
      "- Vampire Sovereign (Color: B) in Black Aggro\n",
      "  Reason: Non-black card (B) in Black deck\n",
      "\n",
      "- Wither and Bloom (Color: B) in Black Aggro\n",
      "  Reason: Non-black card (B) in Black deck\n",
      "\n",
      "- Accursed Marauder (Color: B) in Black Control\n",
      "  Reason: Non-black card (B) in Black deck\n",
      "\n",
      "- Doom Blade (Color: B) in Black Control\n",
      "  Reason: Non-black card (B) in Black deck\n",
      "\n",
      "- Falkenrath Noble (Color: B) in Black Control\n",
      "  Reason: Non-black card (B) in Black deck\n",
      "\n",
      "- Gift of Fangs (Color: B) in Black Control\n",
      "  Reason: Non-black card (B) in Black deck\n",
      "\n",
      "- Gray Merchant of Asphodel (Color: B) in Black Control\n",
      "  Reason: Non-black card (B) in Black deck\n",
      "\n",
      "- Infestation Sage (Color: B) in Black Control\n",
      "  Reason: Non-black card (B) in Black deck\n",
      "\n",
      "- Phyrexian Rager (Color: B) in Black Control\n",
      "  Reason: Non-black card (B) in Black deck\n",
      "\n",
      "- Unearth (Color: B) in Black Control\n",
      "  Reason: Non-black card (B) in Black deck\n",
      "\n",
      "- Unwilling Ingredient (Color: B) in Black Control\n",
      "  Reason: Non-black card (B) in Black deck\n",
      "\n",
      "- Vendetta (Color: B) in Black Control\n",
      "  Reason: Non-black card (B) in Black deck\n",
      "\n",
      "- Voracious Vermin (Color: B) in Black Control\n",
      "  Reason: Non-black card (B) in Black deck\n",
      "\n",
      "- Blood Fountain (Color: B) in Black Graveyard\n",
      "  Reason: Non-black card (B) in Black deck\n",
      "\n",
      "- Crypt Rats (Color: B) in Black Graveyard\n",
      "  Reason: Non-black card (B) in Black deck\n",
      "\n",
      "- Faceless Butcher (Color: B) in Black Graveyard\n",
      "  Reason: Non-black card (B) in Black deck\n",
      "\n",
      "- First-Sphere Gargantua (Color: B) in Black Graveyard\n",
      "  Reason: Non-black card (B) in Black deck\n",
      "\n",
      "- Grim Bauble (Color: B) in Black Graveyard\n",
      "  Reason: Non-black card (B) in Black deck\n",
      "\n",
      "- Gurmag Angler (Color: B) in Black Graveyard\n",
      "  Reason: Non-black card (B) in Black deck\n",
      "\n",
      "- Nested Shambler (Color: B) in Black Graveyard\n",
      "  Reason: Non-black card (B) in Black deck\n",
      "\n",
      "- Nezumi Linkbreaker (Color: B) in Black Graveyard\n",
      "  Reason: Non-black card (B) in Black deck\n",
      "\n",
      "- Night's Whisper (Color: B) in Black Graveyard\n",
      "  Reason: Non-black card (B) in Black deck\n",
      "\n",
      "- Okiba-Gang Shinobi (Color: B) in Black Graveyard\n",
      "  Reason: Non-black card (B) in Black deck\n",
      "\n",
      "- Putrid Goblin (Color: B) in Black Graveyard\n",
      "  Reason: Non-black card (B) in Black deck\n",
      "\n",
      "- Tragic Slip (Color: B) in Black Graveyard\n",
      "  Reason: Non-black card (B) in Black deck\n",
      "\n",
      "- Aether Poisoner (Color: B) in Black Sacrifice\n",
      "  Reason: Non-black card (B) in Black deck\n",
      "\n",
      "- Ashes to Ashes (Color: B) in Black Sacrifice\n",
      "  Reason: Non-black card (B) in Black deck\n",
      "\n",
      "- Bone Picker (Color: B) in Black Sacrifice\n",
      "  Reason: Non-black card (B) in Black deck\n",
      "\n",
      "- Candy Grapple (Color: B) in Black Sacrifice\n",
      "  Reason: Non-black card (B) in Black deck\n",
      "\n",
      "- Carnophage (Color: B) in Black Sacrifice\n",
      "  Reason: Non-black card (B) in Black deck\n",
      "\n",
      "- Disfigure (Color: B) in Black Sacrifice\n",
      "  Reason: Non-black card (B) in Black deck\n",
      "\n",
      "- Dread Return (Color: B) in Black Sacrifice\n",
      "  Reason: Non-black card (B) in Black deck\n",
      "\n",
      "- Ecstatic Awakener (Color: B) in Black Sacrifice\n",
      "  Reason: Non-black card (B) in Black deck\n",
      "\n",
      "- Go for the Throat (Color: B) in Black Sacrifice\n",
      "  Reason: Non-black card (B) in Black deck\n",
      "\n",
      "- Mire Triton (Color: B) in Black Sacrifice\n",
      "  Reason: Non-black card (B) in Black deck\n",
      "\n",
      "- Retrofitted Transmogrant (Color: B) in Black Sacrifice\n",
      "  Reason: Non-black card (B) in Black deck\n",
      "\n",
      "- Thorn of the Black Rose (Color: B) in Black Sacrifice\n",
      "  Reason: Non-black card (B) in Black deck\n",
      "\n",
      "- Aethersnipe (Color: U) in Blue Card Draw\n",
      "  Reason: Non-blue card (U) in Blue deck\n",
      "\n",
      "- Consider (Color: U) in Blue Card Draw\n",
      "  Reason: Non-blue card (U) in Blue deck\n",
      "\n",
      "- Counterspell (Color: U) in Blue Card Draw\n",
      "  Reason: Non-blue card (U) in Blue deck\n",
      "\n",
      "- Deep Analysis (Color: U) in Blue Card Draw\n",
      "  Reason: Non-blue card (U) in Blue deck\n",
      "\n",
      "- Looter il-Kor (Color: U) in Blue Card Draw\n",
      "  Reason: Non-blue card (U) in Blue deck\n",
      "\n",
      "- Mirrorshell Crab (Color: U) in Blue Card Draw\n",
      "  Reason: Non-blue card (U) in Blue deck\n",
      "\n",
      "- Miscalculation (Color: U) in Blue Card Draw\n",
      "  Reason: Non-blue card (U) in Blue deck\n",
      "\n",
      "- Mist Raven (Color: U) in Blue Card Draw\n",
      "  Reason: Non-blue card (U) in Blue deck\n",
      "\n",
      "- Moon-Circuit Hacker (Color: U) in Blue Card Draw\n",
      "  Reason: Non-blue card (U) in Blue deck\n",
      "\n",
      "- Opt (Color: U) in Blue Card Draw\n",
      "  Reason: Non-blue card (U) in Blue deck\n",
      "\n",
      "- Preening Champion (Color: U) in Blue Card Draw\n",
      "  Reason: Non-blue card (U) in Blue deck\n",
      "\n",
      "- Winter Eladrin (Color: U) in Blue Card Draw\n",
      "  Reason: Non-blue card (U) in Blue deck\n",
      "\n",
      "- Displace (Color: U) in Blue Control\n",
      "  Reason: Non-blue card (U) in Blue deck\n",
      "\n",
      "- Ghostly Flicker (Color: U) in Blue Control\n",
      "  Reason: Non-blue card (U) in Blue deck\n",
      "\n",
      "- Man-o'-War (Color: U) in Blue Control\n",
      "  Reason: Non-blue card (U) in Blue deck\n",
      "\n",
      "- Merfolk Looter (Color: U) in Blue Control\n",
      "  Reason: Non-blue card (U) in Blue deck\n",
      "\n",
      "- Mistral Singer (Color: U) in Blue Control\n",
      "  Reason: Non-blue card (U) in Blue deck\n",
      "\n",
      "- Murmuring Mystic (Color: U) in Blue Control\n",
      "  Reason: Non-blue card (U) in Blue deck\n",
      "\n",
      "- Ponder (Color: U) in Blue Control\n",
      "  Reason: Non-blue card (U) in Blue deck\n",
      "\n",
      "- Snap (Color: U) in Blue Control\n",
      "  Reason: Non-blue card (U) in Blue deck\n",
      "\n",
      "- Sword Coast Serpent (Color: U) in Blue Control\n",
      "  Reason: Non-blue card (U) in Blue deck\n",
      "\n",
      "- Vizier of Tumbling Sands (Color: U) in Blue Control\n",
      "  Reason: Non-blue card (U) in Blue deck\n",
      "\n",
      "- Warden of Evos Isle (Color: U) in Blue Control\n",
      "  Reason: Non-blue card (U) in Blue deck\n",
      "\n",
      "- Young Blue Dragon (Color: U) in Blue Control\n",
      "  Reason: Non-blue card (U) in Blue deck\n",
      "\n",
      "- Brainstorm (Color: U) in Blue Flying\n",
      "  Reason: Non-blue card (U) in Blue deck\n",
      "\n",
      "- Condescend (Color: U) in Blue Flying\n",
      "  Reason: Non-blue card (U) in Blue deck\n",
      "\n",
      "- Deranged Assistant (Color: U) in Blue Flying\n",
      "  Reason: Non-blue card (U) in Blue deck\n",
      "\n",
      "- Geyser Drake (Color: U) in Blue Flying\n",
      "  Reason: Non-blue card (U) in Blue deck\n",
      "\n",
      "- Impulse (Color: U) in Blue Flying\n",
      "  Reason: Non-blue card (U) in Blue deck\n",
      "\n",
      "- Jhessian Thief (Color: U) in Blue Flying\n",
      "  Reason: Non-blue card (U) in Blue deck\n",
      "\n",
      "- Preordain (Color: U) in Blue Flying\n",
      "  Reason: Non-blue card (U) in Blue deck\n",
      "\n",
      "- Quick Study (Color: U) in Blue Flying\n",
      "  Reason: Non-blue card (U) in Blue deck\n",
      "\n",
      "- Repeal (Color: U) in Blue Flying\n",
      "  Reason: Non-blue card (U) in Blue deck\n",
      "\n",
      "- Striped Riverwinder (Color: U) in Blue Flying\n",
      "  Reason: Non-blue card (U) in Blue deck\n",
      "\n",
      "- Weakstone's Subjugation (Color: U) in Blue Flying\n",
      "  Reason: Non-blue card (U) in Blue deck\n",
      "\n",
      "- Capsize (Color: U) in Blue Tempo\n",
      "  Reason: Non-blue card (U) in Blue deck\n",
      "\n",
      "- Cloudkin Seer (Color: U) in Blue Tempo\n",
      "  Reason: Non-blue card (U) in Blue deck\n",
      "\n",
      "- Into the Roil (Color: U) in Blue Tempo\n",
      "  Reason: Non-blue card (U) in Blue deck\n",
      "\n",
      "- Lose Focus (Color: U) in Blue Tempo\n",
      "  Reason: Non-blue card (U) in Blue deck\n",
      "\n",
      "- Mana Leak (Color: U) in Blue Tempo\n",
      "  Reason: Non-blue card (U) in Blue deck\n",
      "\n",
      "- Mocking Sprite (Color: U) in Blue Tempo\n",
      "  Reason: Non-blue card (U) in Blue deck\n",
      "\n",
      "- Mulldrifter (Color: U) in Blue Tempo\n",
      "  Reason: Non-blue card (U) in Blue deck\n",
      "\n",
      "- Phantom Interference (Color: U) in Blue Tempo\n",
      "  Reason: Non-blue card (U) in Blue deck\n",
      "\n",
      "- Serum Visionary (Color: U) in Blue Tempo\n",
      "  Reason: Non-blue card (U) in Blue deck\n",
      "\n",
      "- Treasure Cruise (Color: U) in Blue Tempo\n",
      "  Reason: Non-blue card (U) in Blue deck\n",
      "\n",
      "- Unable to Scream (Color: U) in Blue Tempo\n",
      "  Reason: Non-blue card (U) in Blue deck\n",
      "\n",
      "- Zephyr Winder (Color: U) in Blue Tempo\n",
      "  Reason: Non-blue card (U) in Blue deck\n",
      "\n",
      "- Abundant Harvest (Color: G) in Green Midrange\n",
      "  Reason: Non-green card (G) in Green deck\n",
      "\n",
      "- Bloom Hulk (Color: G) in Green Midrange\n",
      "  Reason: Non-green card (G) in Green deck\n",
      "\n",
      "- Conclave Naturalists (Color: G) in Green Midrange\n",
      "  Reason: Non-green card (G) in Green deck\n",
      "\n",
      "- Fertile Ground (Color: G) in Green Ramp\n",
      "  Reason: Non-green card (G) in Green deck\n",
      "\n",
      "- Grapple with the Past (Color: G) in Green Midrange\n",
      "  Reason: Non-green card (G) in Green deck\n",
      "\n",
      "- Hooting Mandrills (Color: G) in Green Midrange\n",
      "  Reason: Non-green card (G) in Green deck\n",
      "\n",
      "- Longstalk Brawl (Color: G) in Green Midrange\n",
      "  Reason: Non-green card (G) in Green deck\n",
      "\n",
      "- Massive Might (Color: G) in Green Midrange\n",
      "  Reason: Non-green card (G) in Green deck\n",
      "\n",
      "- Rancor (Color: G) in Green Midrange\n",
      "  Reason: Non-green card (G) in Green deck\n",
      "\n",
      "- Trumpeting Herd (Color: G) in Green Midrange\n",
      "  Reason: Non-green card (G) in Green deck\n",
      "\n",
      "- Vines of Vastwood (Color: G) in Green Midrange\n",
      "  Reason: Non-green card (G) in Green deck\n",
      "\n",
      "- Colossal Dreadmask (Color: G) in Green Big Creatures\n",
      "  Reason: Non-green card (G) in Green deck\n",
      "\n",
      "- Generous Ent (Color: G) in Green Big Creatures\n",
      "  Reason: Non-green card (G) in Green deck\n",
      "\n",
      "- Hazard of the Dunes (Color: G) in Green Big Creatures\n",
      "  Reason: Non-green card (G) in Green deck\n",
      "\n",
      "- Jade Guardian (Color: G) in Green Big Creatures\n",
      "  Reason: Non-green card (G) in Green deck\n",
      "\n",
      "- Jewel Thief (Color: G) in Green Big Creatures\n",
      "  Reason: Non-green card (G) in Green deck\n",
      "\n",
      "- Krosan Tusker (Color: G) in Green Big Creatures\n",
      "  Reason: Non-green card (G) in Green deck\n",
      "\n",
      "- Lead the Stampede (Color: G) in Green Big Creatures\n",
      "  Reason: Non-green card (G) in Green deck\n",
      "\n",
      "- Malevolent Rumble (Color: G) in Green Big Creatures\n",
      "  Reason: Non-green card (G) in Green deck\n",
      "\n",
      "- Sarulf's Packmate (Color: G) in Green Big Creatures\n",
      "  Reason: Non-green card (G) in Green deck\n",
      "\n",
      "- Urban Daggertooth (Color: G) in Green Big Creatures\n",
      "  Reason: Non-green card (G) in Green deck\n",
      "\n",
      "- Utopia Sprawl (Color: G) in Green Big Creatures\n",
      "  Reason: Non-green card (G) in Green deck\n",
      "\n",
      "- Wary Thespian (Color: G) in Green Big Creatures\n",
      "  Reason: Non-green card (G) in Green deck\n",
      "\n",
      "- Arbor Elf (Color: G) in Green Ramp\n",
      "  Reason: Non-green card (G) in Green deck\n",
      "\n",
      "- Bannerhide Krushok (Color: G) in Green Midrange\n",
      "  Reason: Non-green card (G) in Green deck\n",
      "\n",
      "- Bushwhack (Color: G) in Green Ramp\n",
      "  Reason: Non-green card (G) in Green deck\n",
      "\n",
      "- Elvish Mystic (Color: G) in Green Midrange\n",
      "  Reason: Non-green card (G) in Green deck\n",
      "\n",
      "- Giant Growth (Color: G) in Green Ramp\n",
      "  Reason: Non-green card (G) in Green deck\n",
      "\n",
      "- Nyxborn Hydra (Color: G) in Green Ramp\n",
      "  Reason: Non-green card (G) in Green deck\n",
      "\n",
      "- Ram Through (Color: G) in Green Ramp\n",
      "  Reason: Non-green card (G) in Green deck\n",
      "\n",
      "- Sakura-Tribe Elder (Color: G) in Green Ramp\n",
      "  Reason: Non-green card (G) in Green deck\n",
      "\n",
      "- Tamiyo's Safekeeping (Color: G) in Green Ramp\n",
      "  Reason: Non-green card (G) in Green deck\n",
      "\n",
      "- Treetop Snarespinner (Color: G) in Green Ramp\n",
      "  Reason: Non-green card (G) in Green deck\n",
      "\n",
      "- Tuskguard Captain (Color: G) in Green Ramp\n",
      "  Reason: Non-green card (G) in Green deck\n",
      "\n",
      "- Voracious Varmint (Color: G) in Green Ramp\n",
      "  Reason: Non-green card (G) in Green deck\n",
      "\n",
      "- Annoyed Altisaur (Color: G) in Green Stompy\n",
      "  Reason: Non-green card (G) in Green deck\n",
      "\n",
      "- Contagious Vorrac (Color: G) in Green Stompy\n",
      "  Reason: Non-green card (G) in Green deck\n",
      "\n",
      "- Evolution Witness (Color: G) in Green Stompy\n",
      "  Reason: Non-green card (G) in Green deck\n",
      "\n",
      "- Gnarlid Colony (Color: G) in Green Stompy\n",
      "  Reason: Non-green card (G) in Green deck\n",
      "\n",
      "- Llanowar Elves (Color: G) in Green Stompy\n",
      "  Reason: Non-green card (G) in Green deck\n",
      "\n",
      "- Llanowar Visionary (Color: G) in Green Stompy\n",
      "  Reason: Non-green card (G) in Green deck\n",
      "\n",
      "- Mother Bear (Color: G) in Green Stompy\n",
      "  Reason: Non-green card (G) in Green deck\n",
      "\n",
      "- Phantom Tiger (Color: G) in Green Stompy\n",
      "  Reason: Non-green card (G) in Green deck\n",
      "\n",
      "- Pulse of Murasa (Color: G) in Green Stompy\n",
      "  Reason: Non-green card (G) in Green deck\n",
      "\n",
      "- Yavimaya Elder (Color: G) in Green Stompy\n",
      "  Reason: Non-green card (G) in Green deck\n",
      "\n",
      "- You Meet in a Tavern (Color: G) in Green Stompy\n",
      "  Reason: Non-green card (G) in Green deck\n",
      "\n",
      "- Clockwork Percussionist (Color: R) in Red Small Creatures\n",
      "  Reason: Non-red card (R) in Red deck\n",
      "\n",
      "- Fireblast (Color: R) in Red Aggro\n",
      "  Reason: Non-red card (R) in Red deck\n",
      "\n",
      "- Galvanic Discharge (Color: R) in Red Burn\n",
      "  Reason: Non-red card (R) in Red deck\n",
      "\n",
      "- Goblin Bushwhacker (Color: R) in Red Artifacts\n",
      "  Reason: Non-red card (R) in Red deck\n",
      "\n",
      "- Abrade (Color: R) in Red Aggro\n",
      "  Reason: Non-red card (R) in Red deck\n",
      "\n",
      "- Beetleback Chief (Color: R) in Red Aggro\n",
      "  Reason: Non-red card (R) in Red deck\n",
      "\n",
      "- Burst Lightning (Color: R) in Red Aggro\n",
      "  Reason: Non-red card (R) in Red deck\n",
      "\n",
      "- Firebrand Archer (Color: R) in Red Aggro\n",
      "  Reason: Non-red card (R) in Red deck\n",
      "\n",
      "- Fireslinger (Color: R) in Red Aggro\n",
      "  Reason: Non-red card (R) in Red deck\n",
      "\n",
      "- Grim Initiate (Color: R) in Red Small Creatures\n",
      "  Reason: Non-red card (R) in Red deck\n",
      "\n",
      "- Mogg War Marshal (Color: R) in Red Aggro\n",
      "  Reason: Non-red card (R) in Red deck\n",
      "\n",
      "- Sulfurous Blast (Color: R) in Red Aggro\n",
      "  Reason: Non-red card (R) in Red deck\n",
      "\n",
      "- Thriving Grubs (Color: R) in Red Aggro\n",
      "  Reason: Non-red card (R) in Red deck\n",
      "\n",
      "- Wrangle (Color: R) in Red Aggro\n",
      "  Reason: Non-red card (R) in Red deck\n",
      "\n",
      "- Yavimaya Steelcrusher (Color: R) in Red Aggro\n",
      "  Reason: Non-red card (R) in Red deck\n",
      "\n",
      "- Goblin Surprise (Color: R) in Red Artifacts\n",
      "  Reason: Non-red card (R) in Red deck\n",
      "\n",
      "- Hobblefiend (Color: R) in Red Artifacts\n",
      "  Reason: Non-red card (R) in Red deck\n",
      "\n",
      "- Monastery Swiftspear (Color: R) in Red Artifacts\n",
      "  Reason: Non-red card (R) in Red deck\n",
      "\n",
      "- Oliphaunt (Color: R) in Red Artifacts\n",
      "  Reason: Non-red card (R) in Red deck\n",
      "\n",
      "- Reckless Charge (Color: R) in Red Artifacts\n",
      "  Reason: Non-red card (R) in Red deck\n",
      "\n",
      "- Reckless Impulse (Color: R) in Red Artifacts\n",
      "  Reason: Non-red card (R) in Red deck\n",
      "\n",
      "- Rimrock Knight (Color: R) in Red Artifacts\n",
      "  Reason: Non-red card (R) in Red deck\n",
      "\n",
      "- Spelleater Wolverine (Color: R) in Red Artifacts\n",
      "  Reason: Non-red card (R) in Red deck\n",
      "\n",
      "- Underworld Rage-Hound (Color: R) in Red Artifacts\n",
      "  Reason: Non-red card (R) in Red deck\n",
      "\n",
      "- Wildfire Elemental (Color: R) in Red Artifacts\n",
      "  Reason: Non-red card (R) in Red deck\n",
      "\n",
      "- Wrenn's Resolve (Color: R) in Red Artifacts\n",
      "  Reason: Non-red card (R) in Red deck\n",
      "\n",
      "- Ambitious Assault (Color: R) in Red Burn\n",
      "  Reason: Non-red card (R) in Red deck\n",
      "\n",
      "- Ardent Elementalist (Color: R) in Red Burn\n",
      "  Reason: Non-red card (R) in Red deck\n",
      "\n",
      "- Barbed Batterfist (Color: R) in Red Burn\n",
      "  Reason: Non-red card (R) in Red deck\n",
      "\n",
      "- Dark-Dweller Oracle (Color: R) in Red Burn\n",
      "  Reason: Non-red card (R) in Red deck\n",
      "\n",
      "- Flame Slash (Color: R) in Red Burn\n",
      "  Reason: Non-red card (R) in Red deck\n",
      "\n",
      "- Incinerate (Color: R) in Red Burn\n",
      "  Reason: Non-red card (R) in Red deck\n",
      "\n",
      "- Mayhem Patrol (Color: R) in Red Small Creatures\n",
      "  Reason: Non-red card (R) in Red deck\n",
      "\n",
      "- Red Herring (Color: R) in Red Burn\n",
      "  Reason: Non-red card (R) in Red deck\n",
      "\n",
      "- Scholar of Combustion (Color: R) in Red Burn\n",
      "  Reason: Non-red card (R) in Red deck\n",
      "\n",
      "- Skewer the Critics (Color: R) in Red Burn\n",
      "  Reason: Non-red card (R) in Red deck\n",
      "\n",
      "- Tuskeri Firewalker (Color: R) in Red Burn\n",
      "  Reason: Non-red card (R) in Red deck\n",
      "\n",
      "- Aether Chaser (Color: R) in Red Small Creatures\n",
      "  Reason: Non-red card (R) in Red deck\n",
      "\n",
      "- Fanatical Firebrand (Color: R) in Red Small Creatures\n",
      "  Reason: Non-red card (R) in Red deck\n",
      "\n",
      "- Firebolt (Color: R) in Red Small Creatures\n",
      "  Reason: Non-red card (R) in Red deck\n",
      "\n",
      "- Forbidden Friendship (Color: R) in Red Small Creatures\n",
      "  Reason: Non-red card (R) in Red deck\n",
      "\n",
      "- Gnawing Crescendo (Color: R) in Red Small Creatures\n",
      "  Reason: Non-red card (R) in Red deck\n",
      "\n",
      "- Rally at the Hornburg (Color: R) in Red Small Creatures\n",
      "  Reason: Non-red card (R) in Red deck\n",
      "\n",
      "- Scorched Rusalka (Color: R) in Red Small Creatures\n",
      "  Reason: Non-red card (R) in Red deck\n",
      "\n",
      "- Searing Spear (Color: R) in Red Small Creatures\n",
      "  Reason: Non-red card (R) in Red deck\n",
      "\n",
      "- Thriving Skyclaw (Color: R) in Red Aggro\n",
      "  Reason: Non-red card (R) in Red deck\n",
      "\n",
      "- Witty Roastmaster (Color: R) in Red Small Creatures\n",
      "  Reason: Non-red card (R) in Red deck\n",
      "\n",
      "- Aerie Auxiliary (Color: W) in White Aggro\n",
      "  Reason: Non-white card (W) in White deck\n",
      "\n",
      "- Ainok Bond-Kin (Color: W) in White Aggro\n",
      "  Reason: Non-white card (W) in White deck\n",
      "\n",
      "- Cartouche of Solidarity (Color: W) in White Aggro\n",
      "  Reason: Non-white card (W) in White deck\n",
      "\n",
      "- Faerie Guidemother (Color: W) in White Aggro\n",
      "  Reason: Non-white card (W) in White deck\n",
      "\n",
      "- Gideon's Lawkeeper (Color: W) in White Aggro\n",
      "  Reason: Non-white card (W) in White deck\n",
      "\n",
      "- Inspiring Paladin (Color: W) in White Aggro\n",
      "  Reason: Non-white card (W) in White deck\n",
      "\n",
      "- Mandibular Kite (Color: W) in White Aggro\n",
      "  Reason: Non-white card (W) in White deck\n",
      "\n",
      "- Palace Sentinels (Color: W) in White Aggro\n",
      "  Reason: Non-white card (W) in White deck\n",
      "\n",
      "- Pegasus Guardian (Color: W) in White Aggro\n",
      "  Reason: Non-white card (W) in White deck\n",
      "\n",
      "- Raffine's Informant (Color: W) in White Aggro\n",
      "  Reason: Non-white card (W) in White deck\n",
      "\n",
      "- Sandsteppe Outcast (Color: W) in White Aggro\n",
      "  Reason: Non-white card (W) in White deck\n",
      "\n",
      "- Stormfront Pegasus (Color: W) in White Aggro\n",
      "  Reason: Non-white card (W) in White deck\n",
      "\n",
      "- Dauntless Unity (Color: W) in White Control\n",
      "  Reason: Non-white card (W) in White deck\n",
      "\n",
      "- Inspiring Overseer (Color: W) in White Control\n",
      "  Reason: Non-white card (W) in White deck\n",
      "\n",
      "- Journey to Nowhere (Color: W) in White Control\n",
      "  Reason: Non-white card (W) in White deck\n",
      "\n",
      "- Petrify (Color: W) in White Control\n",
      "  Reason: Non-white card (W) in White deck\n",
      "\n",
      "- Rhox Veteran (Color: W) in White Control\n",
      "  Reason: Non-white card (W) in White deck\n",
      "\n",
      "- Search Party Captain (Color: W) in White Control\n",
      "  Reason: Non-white card (W) in White deck\n",
      "\n",
      "- Suture Priest (Color: W) in White Control\n",
      "  Reason: Non-white card (W) in White deck\n",
      "\n",
      "- Thraben Charm (Color: W) in White Control\n",
      "  Reason: Non-white card (W) in White deck\n",
      "\n",
      "- Thraben Inspector (Color: W) in White Control\n",
      "  Reason: Non-white card (W) in White deck\n",
      "\n",
      "- You Hear Something on Watch (Color: W) in White Control\n",
      "  Reason: Non-white card (W) in White deck\n",
      "\n",
      "- Custodi Squire (Color: W) in White Equipment\n",
      "  Reason: Non-white card (W) in White deck\n",
      "\n",
      "- Deftblade Elite (Color: W) in White Equipment\n",
      "  Reason: Non-white card (W) in White deck\n",
      "\n",
      "- Doomed Traveler (Color: W) in White Equipment\n",
      "  Reason: Non-white card (W) in White deck\n",
      "\n",
      "- Heliod's Pilgrim (Color: W) in White Equipment\n",
      "  Reason: Non-white card (W) in White deck\n",
      "\n",
      "- Bonesplitter (Color: nan) in White Equipment\n",
      "  Reason: Non-white card (nan) in White deck\n",
      "\n",
      "- Miner's Guidewing (Color: W) in White Equipment\n",
      "  Reason: Non-white card (W) in White deck\n",
      "\n",
      "- Phantom Nomad (Color: W) in White Equipment\n",
      "  Reason: Non-white card (W) in White deck\n",
      "\n",
      "- Planar Disruption (Color: W) in White Equipment\n",
      "  Reason: Non-white card (W) in White deck\n",
      "\n",
      "- Vulshok Morningstar (Color: nan) in White Equipment\n",
      "  Reason: Non-white card (nan) in White deck\n",
      "\n",
      "- Seeker of the Way (Color: W) in White Equipment\n",
      "  Reason: Non-white card (W) in White deck\n",
      "\n",
      "- Glimmerlight (Color: nan) in White Equipment\n",
      "  Reason: Non-white card (nan) in White deck\n",
      "\n",
      "- Ardenvale Tactician (Color: W) in White Tokens\n",
      "  Reason: Non-white card (W) in White deck\n",
      "\n",
      "- Coalition Honor Guard (Color: W) in White Tokens\n",
      "  Reason: Non-white card (W) in White deck\n",
      "\n",
      "- Combat Professor (Color: W) in White Tokens\n",
      "  Reason: Non-white card (W) in White deck\n",
      "\n",
      "- Dog Umbra (Color: W) in White Tokens\n",
      "  Reason: Non-white card (W) in White deck\n",
      "\n",
      "- Eagles of the North (Color: W) in White Tokens\n",
      "  Reason: Non-white card (W) in White deck\n",
      "\n",
      "- Holy Cow (Color: W) in White Tokens\n",
      "  Reason: Non-white card (W) in White deck\n",
      "\n",
      "- Kor Skyfisher (Color: W) in White Tokens\n",
      "  Reason: Non-white card (W) in White deck\n",
      "\n",
      "- Savannah Lions (Color: W) in White Tokens\n",
      "  Reason: Non-white card (W) in White deck\n",
      "\n",
      "- Settle Beyond Reality (Color: W) in White Tokens\n",
      "  Reason: Non-white card (W) in White deck\n",
      "\n",
      "- Sunlance (Color: W) in White Tokens\n",
      "  Reason: Non-white card (W) in White deck\n",
      "\n",
      "- Syndic of Tithes (Color: W) in White Tokens\n",
      "  Reason: Non-white card (W) in White deck\n",
      "\n",
      "- Ancestral Blade (Color: W) in White Equipment\n",
      "  Reason: Non-white card (W) in White deck\n",
      "\n",
      "- Battle Screech (Color: W) in White Tokens\n",
      "  Reason: Non-white card (W) in White deck\n",
      "\n",
      "- Cathar Commando (Color: W) in White Control\n",
      "  Reason: Non-white card (W) in White deck\n",
      "\n",
      "- Plagued Rusalka (Color: B) in Black Control\n",
      "  Reason: Non-black card (B) in Black deck\n",
      "\n",
      "- Wild Growth (Color: G) in Green Ramp\n",
      "  Reason: Non-green card (G) in Green deck\n",
      "\n",
      "- Teetering Peaks (Color: R) in Red Burn\n",
      "  Reason: Non-red card (R) in Red deck\n",
      "\n",
      "- Compulsive Research (Color: U) in Blue Flying\n",
      "  Reason: Non-blue card (U) in Blue deck\n",
      "\n",
      "- Alabaster Host Intercessor (Color: W) in White Control\n",
      "  Reason: Non-white card (W) in White deck\n",
      "\n",
      "- Greater Tanuki (Color: G) in Green Stompy\n",
      "  Reason: Non-green card (G) in Green deck\n",
      "\n",
      "- Grasping Scoundrel (Color: B) in Black Aggro\n",
      "  Reason: Non-black card (B) in Black deck\n",
      "\n",
      "- Guildsworn Prowler (Color: B) in Black Control\n",
      "  Reason: Non-black card (B) in Black deck\n",
      "\n",
      "- Scrapwork Mutt (Color: nan) in Black Graveyard\n",
      "  Reason: Non-black card (nan) in Black deck\n",
      "\n",
      "- Basking Broodscale (Color: nan) in Green Big Creatures\n",
      "  Reason: Non-green card (nan) in Green deck\n",
      "\n",
      "- Cruel Witness (Color: U) in Blue Card Draw\n",
      "  Reason: Non-blue card (U) in Blue deck\n",
      "\n",
      "- Pestermite (Color: U) in Blue Control\n",
      "  Reason: Non-blue card (U) in Blue deck\n",
      "\n",
      "- Eldrazi Skyspawner (Color: U) in Blue Flying\n",
      "  Reason: Non-blue card (U) in Blue deck\n",
      "\n",
      "- Shipwreck Dowser (Color: U) in Blue Tempo\n",
      "  Reason: Non-blue card (U) in Blue deck\n",
      "\n",
      "- Farseek (Color: G) in Green Midrange\n",
      "  Reason: Non-green card (G) in Green deck\n",
      "\n",
      "- Horrific Assault (Color: G) in Green Ramp\n",
      "  Reason: Non-green card (G) in Green deck\n",
      "\n",
      "- Flayer Husk (Color: nan) in Black Sacrifice\n",
      "  Reason: Non-black card (nan) in Black deck\n",
      "\n",
      "- Renegade Freighter (Color: nan) in Green Stompy\n",
      "  Reason: Non-green card (nan) in Green deck\n",
      "\n",
      "- Harried Spearguard (Color: R) in Red Small Creatures\n",
      "  Reason: Non-red card (R) in Red deck\n",
      "\n",
      "- Gingerbrute (Color: nan) in Red Aggro\n",
      "  Reason: Non-red card (nan) in Red deck\n",
      "\n",
      "- Guardian Idol (Color: nan) in Red Artifacts\n",
      "  Reason: Non-red card (nan) in Red deck\n",
      "\n",
      "- Rift Bolt (Color: R) in Red Burn\n",
      "  Reason: Non-red card (R) in Red deck\n",
      "\n",
      "- Boros Elite (Color: W) in White Aggro\n",
      "  Reason: Non-white card (W) in White deck\n",
      "\n",
      "- Borrowed Grace (Color: W) in White Control\n",
      "  Reason: Non-white card (W) in White deck\n",
      "\n",
      "- Greatsword of Tyr (Color: W) in White Equipment\n",
      "  Reason: Non-white card (W) in White deck\n",
      "\n",
      "- Raise the Alarm (Color: W) in White Tokens\n",
      "  Reason: Non-white card (W) in White deck\n",
      "\n"
     ]
    }
   ],
   "source": [
    "# Check for color identity violations\n",
    "def find_color_violations(cube_df, oracle_df):\n",
    "    violations = []\n",
    "    \n",
    "    for _, cube_card in cube_df.iterrows():\n",
    "        card_name = cube_card['Name']\n",
    "        deck_name = cube_card['Tags']\n",
    "        \n",
    "        # Find the card in oracle data\n",
    "        oracle_card = oracle_df[oracle_df['name'] == card_name]\n",
    "        if oracle_card.empty:\n",
    "            continue\n",
    "            \n",
    "        oracle_card = oracle_card.iloc[0]\n",
    "        card_color = oracle_card.get('Color', '')\n",
    "        \n",
    "        # Check if this is a color violation\n",
    "        is_violation = False\n",
    "        violation_reason = \"\"\n",
    "        \n",
    "        if 'Black' in deck_name and card_color not in ['', 'Black']:\n",
    "            is_violation = True\n",
    "            violation_reason = f\"Non-black card ({card_color}) in Black deck\"\n",
    "        elif 'Red' in deck_name and card_color not in ['', 'Red']:\n",
    "            is_violation = True\n",
    "            violation_reason = f\"Non-red card ({card_color}) in Red deck\"\n",
    "        elif 'Green' in deck_name and card_color not in ['', 'Green']:\n",
    "            is_violation = True\n",
    "            violation_reason = f\"Non-green card ({card_color}) in Green deck\"\n",
    "        elif 'Blue' in deck_name and card_color not in ['', 'Blue']:\n",
    "            is_violation = True\n",
    "            violation_reason = f\"Non-blue card ({card_color}) in Blue deck\"\n",
    "        elif 'White' in deck_name and card_color not in ['', 'White']:\n",
    "            is_violation = True\n",
    "            violation_reason = f\"Non-white card ({card_color}) in White deck\"\n",
    "        \n",
    "        if is_violation:\n",
    "            violations.append({\n",
    "                'card_name': card_name,\n",
    "                'current_deck': deck_name,\n",
    "                'card_color': card_color,\n",
    "                'reason': violation_reason\n",
    "            })\n",
    "    \n",
    "    return violations\n",
    "\n",
    "# Find all color violations\n",
    "violations = find_color_violations(cube_df, oracle_df)\n",
    "\n",
    "print(f\"Found {len(violations)} color identity violations:\")\n",
    "for violation in violations:\n",
    "    print(f\"- {violation['card_name']} (Color: {violation['card_color']}) in {violation['current_deck']}\")\n",
    "    print(f\"  Reason: {violation['reason']}\")\n",
    "    print()"
   ]
  },
  {
   "cell_type": "code",
   "execution_count": 19,
   "id": "8ed41092",
   "metadata": {},
   "outputs": [
    {
     "name": "stdout",
     "output_type": "stream",
     "text": [
      "Scrapwork Mutt is currently in: Black Graveyard\n",
      "Scrapwork Mutt color: nan\n",
      "Oracle text: When this creature enters, you may discard a card. If you do, draw a card. | Unearth {1}{R} ({1}{R}: Return this card from your graveyard to the battlefield. It gains haste. Exile it at the beginning of the next end step or if it would leave the battlefield. Unearth only as a sorcery.)\n",
      "Available Red decks: ['Red Small Creatures', 'Red Aggro', 'Red Burn', 'Red Artifacts']\n",
      "Red Artifact decks: ['Red Artifacts']\n",
      "\n",
      "Suitable Black graveyard cards to replace it:\n"
     ]
    }
   ],
   "source": [
    "# Fix the specific Scrapwork Mutt color violation\n",
    "from src.improve import apply_swap\n",
    "\n",
    "# Check current assignment of Scrapwork Mutt\n",
    "scrapwork_info = cube_df[cube_df['Name'] == 'Scrapwork Mutt']\n",
    "if not scrapwork_info.empty:\n",
    "    current_deck = scrapwork_info.iloc[0]['Tags']\n",
    "    print(f\"Scrapwork Mutt is currently in: {current_deck}\")\n",
    "    \n",
    "    # Get oracle info for Scrapwork Mutt\n",
    "    oracle_info = oracle_df[oracle_df['name'] == 'Scrapwork Mutt']\n",
    "    if not oracle_info.empty:\n",
    "        card_color = oracle_info.iloc[0]['Color']\n",
    "        oracle_text = oracle_info.iloc[0]['Oracle Text']\n",
    "        print(f\"Scrapwork Mutt color: {card_color}\")\n",
    "        print(f\"Oracle text: {oracle_text}\")\n",
    "        \n",
    "        # Find Red decks that might be suitable\n",
    "        red_decks = cube_df[cube_df['Tags'].str.contains('Red', na=False)]['Tags'].unique()\n",
    "        print(f\"Available Red decks: {list(red_decks)}\")\n",
    "        \n",
    "        # Also check what Red Artifacts deck exists\n",
    "        red_artifact_decks = cube_df[cube_df['Tags'].str.contains('Red.*Artifact|Artifact.*Red', na=False, regex=True)]['Tags'].unique()\n",
    "        if len(red_artifact_decks) > 0:\n",
    "            print(f\"Red Artifact decks: {list(red_artifact_decks)}\")\n",
    "        \n",
    "        # Find a suitable Black graveyard card to replace it\n",
    "        black_graveyard_candidates = oracle_df[\n",
    "            (oracle_df['Color'] == 'Black') & \n",
    "            (oracle_df['Oracle Text'].str.contains('graveyard|unearth|flashback|delve', case=False, na=False))\n",
    "        ]\n",
    "        \n",
    "        # Filter out cards already in the cube\n",
    "        existing_cards = set(cube_df['Name'].tolist())\n",
    "        black_candidates = black_graveyard_candidates[\n",
    "            ~black_graveyard_candidates['name'].isin(existing_cards)\n",
    "        ].head(5)\n",
    "        \n",
    "        print(f\"\\nSuitable Black graveyard cards to replace it:\")\n",
    "        for _, card in black_candidates.iterrows():\n",
    "            print(f\"- {card['name']}: {card['Oracle Text'][:100]}...\")\n",
    "else:\n",
    "    print(\"Scrapwork Mutt not found in current cube\")"
   ]
  },
  {
   "cell_type": "code",
   "execution_count": 20,
   "id": "ce76cd08",
   "metadata": {},
   "outputs": [
    {
     "name": "stdout",
     "output_type": "stream",
     "text": [
      "Full oracle data for Scrapwork Mutt:\n",
      "name: Scrapwork Mutt\n",
      "CMC: 2\n",
      "Type: Artifact Creature - Dog\n",
      "Color: nan\n",
      "Color Category: Red\n",
      "Oracle Text: When this creature enters, you may discard a card. If you do, draw a card. | Unearth {1}{R} ({1}{R}: Return this card from your graveyard to the battlefield. It gains haste. Exile it at the beginning of the next end step or if it would leave the battlefield. Unearth only as a sorcery.)\n",
      "tags: nan\n",
      "MTGO ID: 104946.0\n",
      "Power: 2.0\n",
      "Toughness: 1.0\n",
      "\n",
      "==================================================\n",
      "\n",
      "Red Artifacts deck currently has 13 cards:\n",
      "- Goblin Bushwhacker (Color: R)\n",
      "- Goblin Surprise (Color: R)\n",
      "- Hobblefiend (Color: R)\n",
      "- Monastery Swiftspear (Color: R)\n",
      "- Oliphaunt (Color: R)\n",
      "- Reckless Charge (Color: R)\n",
      "- Reckless Impulse (Color: R)\n",
      "- Rimrock Knight (Color: R)\n",
      "- Spelleater Wolverine (Color: R)\n",
      "- Underworld Rage-Hound (Color: R)\n",
      "- Wildfire Elemental (Color: R)\n",
      "- Wrenn's Resolve (Color: R)\n",
      "- Guardian Idol (Color: nan)\n",
      "\n",
      "==================================================\n",
      "\n",
      "Checking for suitable black graveyard replacement cards...\n",
      "Found 0 available black cards with graveyard synergies:\n"
     ]
    }
   ],
   "source": [
    "# Let's examine the oracle data more carefully and check Red Artifacts deck\n",
    "oracle_mutt = oracle_df[oracle_df['name'] == 'Scrapwork Mutt'].iloc[0]\n",
    "print(\"Full oracle data for Scrapwork Mutt:\")\n",
    "for col in oracle_mutt.index:\n",
    "    print(f\"{col}: {oracle_mutt[col]}\")\n",
    "\n",
    "print(\"\\n\" + \"=\"*50)\n",
    "\n",
    "# Check what's currently in Red Artifacts deck\n",
    "red_artifacts_cards = cube_df[cube_df['Tags'] == 'Red Artifacts']\n",
    "print(f\"\\nRed Artifacts deck currently has {len(red_artifacts_cards)} cards:\")\n",
    "for _, card in red_artifacts_cards.iterrows():\n",
    "    oracle_card = oracle_df[oracle_df['name'] == card['Name']]\n",
    "    if not oracle_card.empty:\n",
    "        color = oracle_card.iloc[0].get('Color', 'Unknown')\n",
    "        print(f\"- {card['Name']} (Color: {color})\")\n",
    "\n",
    "print(\"\\n\" + \"=\"*50)\n",
    "\n",
    "# Let's also check if there are any black cards that could work well in Black Graveyard\n",
    "# that have graveyard synergies\n",
    "print(\"\\nChecking for suitable black graveyard replacement cards...\")\n",
    "\n",
    "# Look for black cards with graveyard keywords\n",
    "graveyard_keywords = ['graveyard', 'unearth', 'flashback', 'delve', 'threshold', 'delirium', 'undergrowth', 'escape']\n",
    "black_graveyard_cards = oracle_df[\n",
    "    (oracle_df['Color'] == 'Black') & \n",
    "    (oracle_df['Oracle Text'].str.contains('|'.join(graveyard_keywords), case=False, na=False))\n",
    "]\n",
    "\n",
    "# Filter out cards already in cube\n",
    "existing_cards = set(cube_df['Name'].tolist()) \n",
    "available_black_cards = black_graveyard_cards[~black_graveyard_cards['name'].isin(existing_cards)]\n",
    "\n",
    "print(f\"Found {len(available_black_cards)} available black cards with graveyard synergies:\")\n",
    "for _, card in available_black_cards.head(10).iterrows():\n",
    "    print(f\"- {card['name']}: {card['Oracle Text'][:80]}...\")"
   ]
  },
  {
   "cell_type": "code",
   "execution_count": 21,
   "id": "c7fc7ff0",
   "metadata": {},
   "outputs": [
    {
     "name": "stdout",
     "output_type": "stream",
     "text": [
      "Fixing Scrapwork Mutt color violation...\n",
      "✅ Moved Scrapwork Mutt from 'Black Graveyard' to 'Red Artifacts'\n",
      "Verification: Scrapwork Mutt is now in 'Red Artifacts'\n",
      "\n",
      "Updated deck sizes:\n",
      "- Black Graveyard: 12 cards\n",
      "- Red Artifacts: 14 cards\n",
      "\n",
      "Why this makes sense:\n",
      "- Scrapwork Mutt is an Artifact Creature (fits Red Artifacts theme)\n",
      "- Has Red mana in unearth cost {1}{R} (correct color identity)\n",
      "- Unearth provides graveyard value even in a Red deck\n",
      "- ETB effect (discard/draw) provides card selection for artifacts\n"
     ]
    }
   ],
   "source": [
    "# Fix the color violation by moving Scrapwork Mutt to Red Artifacts\n",
    "print(\"Fixing Scrapwork Mutt color violation...\")\n",
    "\n",
    "# Find the index of Scrapwork Mutt in the cube\n",
    "mutt_index = cube_df[cube_df['Name'] == 'Scrapwork Mutt'].index[0]\n",
    "\n",
    "# Update its deck assignment\n",
    "old_deck = cube_df.loc[mutt_index, 'Tags']\n",
    "new_deck = 'Red Artifacts'\n",
    "\n",
    "cube_df.loc[mutt_index, 'Tags'] = new_deck\n",
    "\n",
    "print(f\"✅ Moved Scrapwork Mutt from '{old_deck}' to '{new_deck}'\")\n",
    "\n",
    "# Verify the change\n",
    "updated_mutt = cube_df[cube_df['Name'] == 'Scrapwork Mutt']\n",
    "print(f\"Verification: Scrapwork Mutt is now in '{updated_mutt.iloc[0]['Tags']}'\")\n",
    "\n",
    "# Check the new deck sizes\n",
    "black_graveyard_count = len(cube_df[cube_df['Tags'] == 'Black Graveyard'])\n",
    "red_artifacts_count = len(cube_df[cube_df['Tags'] == 'Red Artifacts'])\n",
    "\n",
    "print(f\"\\nUpdated deck sizes:\")\n",
    "print(f\"- Black Graveyard: {black_graveyard_count} cards\")\n",
    "print(f\"- Red Artifacts: {red_artifacts_count} cards\")\n",
    "\n",
    "# Show that this makes thematic sense\n",
    "print(f\"\\nWhy this makes sense:\")\n",
    "print(f\"- Scrapwork Mutt is an Artifact Creature (fits Red Artifacts theme)\")\n",
    "print(f\"- Has Red mana in unearth cost {{1}}{{R}} (correct color identity)\")\n",
    "print(f\"- Unearth provides graveyard value even in a Red deck\")\n",
    "print(f\"- ETB effect (discard/draw) provides card selection for artifacts\")"
   ]
  },
  {
   "cell_type": "code",
   "execution_count": 22,
   "id": "c5c15dec",
   "metadata": {},
   "outputs": [
    {
     "name": "stdout",
     "output_type": "stream",
     "text": [
      "Analyzing coherence after fixing Scrapwork Mutt...\n",
      "\n",
      "Black Graveyard coherence: 7.023333333333333\n",
      "Red Artifacts coherence: 4.4274603174603175\n",
      "Exporting cube to JumpstartCube_ThePauperCube_ULTIMATE_Final_v5_corrected.csv...\n",
      "✅ Successfully exported 390 cards to JumpstartCube_ThePauperCube_ULTIMATE_Final_v5_corrected.csv\n",
      "\n",
      "📊 Export Summary:\n",
      "Total cards: 390\n",
      "Number of decks: 30\n",
      "\n",
      "Deck breakdown:\n",
      "  Red Artifacts: 14 cards\n",
      "  Azorius Evasion/Flying: 13 cards\n",
      "  Black Aggro: 13 cards\n",
      "  White Equipment: 13 cards\n",
      "  White Control: 13 cards\n",
      "  White Aggro: 13 cards\n",
      "  Simic Control: 13 cards\n",
      "  Selesnya Control: 13 cards\n",
      "  Red Burn: 13 cards\n",
      "  Rakdos Burn/Damage: 13 cards\n",
      "  ... and 20 more decks\n",
      "\n",
      "✅ Saved corrected cube to 'JumpstartCube_ThePauperCube_ULTIMATE_Final_v5_corrected.csv'\n",
      "   - Fixed Scrapwork Mutt color identity violation\n",
      "   - Moved from Black Graveyard to Red Artifacts\n",
      "   - Both decks now have proper color identity\n"
     ]
    }
   ],
   "source": [
    "# Check the impact on deck coherence after the fix\n",
    "print(\"Analyzing coherence after fixing Scrapwork Mutt...\")\n",
    "\n",
    "updated_coherence = analyze_deck_theme_coherence_enhanced(cube_df, oracle_df)\n",
    "\n",
    "# Check the specific decks affected\n",
    "black_graveyard_coherence = updated_coherence.get('Black Graveyard', {})\n",
    "red_artifacts_coherence = updated_coherence.get('Red Artifacts', {})\n",
    "\n",
    "print(f\"\\nBlack Graveyard coherence: {black_graveyard_coherence.get('overall_coherence', 'N/A')}\")\n",
    "print(f\"Red Artifacts coherence: {red_artifacts_coherence.get('overall_coherence', 'N/A')}\")\n",
    "\n",
    "# Save the corrected cube\n",
    "from src.export import export_cube_to_csv\n",
    "\n",
    "export_cube_to_csv(cube_df, oracle_df, 'JumpstartCube_ThePauperCube_ULTIMATE_Final_v5_corrected.csv')\n",
    "print(f\"\\n✅ Saved corrected cube to 'JumpstartCube_ThePauperCube_ULTIMATE_Final_v5_corrected.csv'\")\n",
    "print(f\"   - Fixed Scrapwork Mutt color identity violation\")\n",
    "print(f\"   - Moved from Black Graveyard to Red Artifacts\")\n",
    "print(f\"   - Both decks now have proper color identity\")"
   ]
  },
  {
   "cell_type": "code",
   "execution_count": 23,
   "id": "a76f4004",
   "metadata": {},
   "outputs": [
    {
     "name": "stdout",
     "output_type": "stream",
     "text": [
      "Undoing the Scrapwork Mutt move...\n",
      "✅ Restored Scrapwork Mutt from 'Red Artifacts' back to 'Black Graveyard'\n",
      "Verification: Scrapwork Mutt is now in 'Black Graveyard'\n",
      "\n",
      "Now I'll fix the is_card_playable_in_colors function instead of moving data.\n"
     ]
    }
   ],
   "source": [
    "# Undo the Scrapwork Mutt move - restore it to Black Graveyard\n",
    "print(\"Undoing the Scrapwork Mutt move...\")\n",
    "\n",
    "# Find the index of Scrapwork Mutt in the cube\n",
    "mutt_index = cube_df[cube_df['Name'] == 'Scrapwork Mutt'].index[0]\n",
    "\n",
    "# Restore its original deck assignment\n",
    "old_deck = cube_df.loc[mutt_index, 'Tags']\n",
    "original_deck = 'Black Graveyard'\n",
    "\n",
    "cube_df.loc[mutt_index, 'Tags'] = original_deck\n",
    "\n",
    "print(f\"✅ Restored Scrapwork Mutt from '{old_deck}' back to '{original_deck}'\")\n",
    "\n",
    "# Verify the change\n",
    "restored_mutt = cube_df[cube_df['Name'] == 'Scrapwork Mutt']\n",
    "print(f\"Verification: Scrapwork Mutt is now in '{restored_mutt.iloc[0]['Tags']}'\")\n",
    "\n",
    "print(\"\\nNow I'll fix the is_card_playable_in_colors function instead of moving data.\")"
   ]
  },
  {
   "cell_type": "code",
   "execution_count": 24,
   "id": "48a8ef84",
   "metadata": {},
   "outputs": [
    {
     "name": "stdout",
     "output_type": "stream",
     "text": [
      "Testing Scrapwork Mutt with updated function:\n",
      "Card: Scrapwork Mutt\n",
      "Type: Artifact Creature - Dog\n",
      "Color: nan\n",
      "Color Category: Red\n",
      "Oracle Text: When this creature enters, you may discard a card. If you do, draw a card. | Unearth {1}{R} ({1}{R}: Return this card from your graveyard to the battlefield. It gains haste. Exile it at the beginning of the next end step or if it would leave the battlefield. Unearth only as a sorcery.)\n",
      "\n",
      "Playable in Black Graveyard (color: B): True\n",
      "Playable in Red Artifacts (color: R): True\n",
      "Playable in Blue Control (color: U): False\n",
      "Playable in White Equipment (color: W): False\n",
      "Playable in Green Ramp (color: G): False\n",
      "\n",
      "Reasoning:\n",
      "- Scrapwork Mutt is an artifact creature with 'unearth' ability\n",
      "- Unearth is a graveyard synergy\n",
      "- Black decks often have graveyard themes\n",
      "- Therefore, it should be playable in Black Graveyard deck despite having Red mana in unearth cost\n"
     ]
    }
   ],
   "source": [
    "# Test the updated is_card_playable_in_colors function\n",
    "import importlib\n",
    "import src.deck\n",
    "importlib.reload(src.deck)\n",
    "\n",
    "from src.deck import is_card_playable_in_colors\n",
    "\n",
    "# Test with Scrapwork Mutt\n",
    "mutt_data = oracle_df[oracle_df['name'] == 'Scrapwork Mutt'].iloc[0]\n",
    "\n",
    "print(\"Testing Scrapwork Mutt with updated function:\")\n",
    "print(f\"Card: {mutt_data['name']}\")\n",
    "print(f\"Type: {mutt_data['Type']}\")\n",
    "print(f\"Color: {mutt_data['Color']}\")\n",
    "print(f\"Color Category: {mutt_data['Color Category']}\")\n",
    "print(f\"Oracle Text: {mutt_data['Oracle Text']}\")\n",
    "print()\n",
    "\n",
    "# Test against different deck colors\n",
    "test_colors = ['B', 'R', 'U', 'W', 'G']\n",
    "deck_names = ['Black Graveyard', 'Red Artifacts', 'Blue Control', 'White Equipment', 'Green Ramp']\n",
    "\n",
    "for color, deck_name in zip(test_colors, deck_names):\n",
    "    is_playable = is_card_playable_in_colors(mutt_data, color)\n",
    "    print(f\"Playable in {deck_name} (color: {color}): {is_playable}\")\n",
    "\n",
    "print(\"\\nReasoning:\")\n",
    "print(\"- Scrapwork Mutt is an artifact creature with 'unearth' ability\")\n",
    "print(\"- Unearth is a graveyard synergy\")\n",
    "print(\"- Black decks often have graveyard themes\")\n",
    "print(\"- Therefore, it should be playable in Black Graveyard deck despite having Red mana in unearth cost\")"
   ]
  },
  {
   "cell_type": "code",
   "execution_count": 25,
   "id": "a687aca3",
   "metadata": {},
   "outputs": [
    {
     "name": "stdout",
     "output_type": "stream",
     "text": [
      "Testing other edge cases:\n",
      "==================================================\n",
      "\n",
      "Colorless Artifact: Gingerbrute\n",
      "Playable in Black: True\n",
      "Playable in Red: True\n",
      "Playable in Blue: True\n",
      "\n",
      "==================================================\n",
      "✅ The function now correctly handles:\n",
      "1. Artifact creatures with graveyard synergies (like Scrapwork Mutt)\n",
      "2. Normal colored cards (strict color requirements)\n",
      "3. Truly colorless artifacts (playable in any deck)\n",
      "\n",
      "This allows thematic flexibility while maintaining color identity logic!\n"
     ]
    }
   ],
   "source": [
    "# Test a few more cards to validate the function\n",
    "print(\"Testing other edge cases:\")\n",
    "print(\"=\"*50)\n",
    "\n",
    "# Test a normal Red card\n",
    "red_cards = oracle_df[oracle_df['Color'] == 'Red'].head(1)\n",
    "if not red_cards.empty:\n",
    "    red_card = red_cards.iloc[0]\n",
    "    print(f\"\\nNormal Red card: {red_card['name']}\")\n",
    "    print(f\"Playable in Black: {is_card_playable_in_colors(red_card, 'B')}\")\n",
    "    print(f\"Playable in Red: {is_card_playable_in_colors(red_card, 'R')}\")\n",
    "\n",
    "# Test a normal Black card\n",
    "black_cards = oracle_df[oracle_df['Color'] == 'Black'].head(1)\n",
    "if not black_cards.empty:\n",
    "    black_card = black_cards.iloc[0]\n",
    "    print(f\"\\nNormal Black card: {black_card['name']}\")\n",
    "    print(f\"Playable in Black: {is_card_playable_in_colors(black_card, 'B')}\")\n",
    "    print(f\"Playable in Red: {is_card_playable_in_colors(black_card, 'R')}\")\n",
    "\n",
    "# Test a colorless artifact\n",
    "colorless_artifacts = oracle_df[\n",
    "    (oracle_df['Color Category'] == 'Colorless') & \n",
    "    (oracle_df['Type'].str.contains('Artifact', na=False))\n",
    "].head(1)\n",
    "if not colorless_artifacts.empty:\n",
    "    artifact = colorless_artifacts.iloc[0]\n",
    "    print(f\"\\nColorless Artifact: {artifact['name']}\")\n",
    "    print(f\"Playable in Black: {is_card_playable_in_colors(artifact, 'B')}\")\n",
    "    print(f\"Playable in Red: {is_card_playable_in_colors(artifact, 'R')}\")\n",
    "    print(f\"Playable in Blue: {is_card_playable_in_colors(artifact, 'U')}\")\n",
    "\n",
    "print(\"\\n\" + \"=\"*50)\n",
    "print(\"✅ The function now correctly handles:\")\n",
    "print(\"1. Artifact creatures with graveyard synergies (like Scrapwork Mutt)\")\n",
    "print(\"2. Normal colored cards (strict color requirements)\")\n",
    "print(\"3. Truly colorless artifacts (playable in any deck)\")\n",
    "print(\"\\nThis allows thematic flexibility while maintaining color identity logic!\")"
   ]
  },
  {
   "cell_type": "code",
   "execution_count": 26,
   "id": "f27ea132",
   "metadata": {},
   "outputs": [
    {
     "name": "stdout",
     "output_type": "stream",
     "text": [
      "Testing Scrapwork Mutt with CORRECTED function (mana-focused):\n",
      "Card: Scrapwork Mutt\n",
      "Type: Artifact Creature - Dog\n",
      "Color: nan\n",
      "Color Category: Red\n",
      "Oracle Text: When this creature enters, you may discard a card. If you do, draw a card. | Unearth {1}{R} ({1}{R}: Return this card from your graveyard to the battlefield. It gains haste. Exile it at the beginning of the next end step or if it would leave the battlefield. Unearth only as a sorcery.)\n",
      "\n",
      "Mana requirement analysis:\n",
      "Playable in Black Graveyard (color: B): False\n",
      "Playable in Red Artifacts (color: R): True\n",
      "Playable in Blue Control (color: U): False\n",
      "Playable in White Equipment (color: W): False\n",
      "Playable in Green Ramp (color: G): False\n",
      "\n",
      "Reasoning (corrected):\n",
      "- Scrapwork Mutt has Color Category: 'Red'\n",
      "- This means it requires Red mana to cast (even though it's an artifact)\n",
      "- Therefore, it should ONLY be playable in Red decks\n",
      "- The unearth ability is irrelevant for deck assignment - mana cost matters\n",
      "\n",
      "Expected result: Only playable in Red decks, NOT in Black Graveyard\n"
     ]
    }
   ],
   "source": [
    "# Test the corrected is_card_playable_in_colors function (mana-focused)\n",
    "import importlib\n",
    "import src.deck\n",
    "importlib.reload(src.deck)\n",
    "\n",
    "from src.deck import is_card_playable_in_colors\n",
    "\n",
    "# Test with Scrapwork Mutt again\n",
    "mutt_data = oracle_df[oracle_df['name'] == 'Scrapwork Mutt'].iloc[0]\n",
    "\n",
    "print(\"Testing Scrapwork Mutt with CORRECTED function (mana-focused):\")\n",
    "print(f\"Card: {mutt_data['name']}\")\n",
    "print(f\"Type: {mutt_data['Type']}\")\n",
    "print(f\"Color: {mutt_data['Color']}\")\n",
    "print(f\"Color Category: {mutt_data['Color Category']}\")  # This should determine mana requirements\n",
    "print(f\"Oracle Text: {mutt_data['Oracle Text']}\")\n",
    "print()\n",
    "\n",
    "# Test against different deck colors\n",
    "test_colors = ['B', 'R', 'U', 'W', 'G']\n",
    "deck_names = ['Black Graveyard', 'Red Artifacts', 'Blue Control', 'White Equipment', 'Green Ramp']\n",
    "\n",
    "print(\"Mana requirement analysis:\")\n",
    "for color, deck_name in zip(test_colors, deck_names):\n",
    "    is_playable = is_card_playable_in_colors(mutt_data, color)\n",
    "    print(f\"Playable in {deck_name} (color: {color}): {is_playable}\")\n",
    "\n",
    "print(\"\\nReasoning (corrected):\")\n",
    "print(\"- Scrapwork Mutt has Color Category: 'Red'\")\n",
    "print(\"- This means it requires Red mana to cast (even though it's an artifact)\")\n",
    "print(\"- Therefore, it should ONLY be playable in Red decks\")\n",
    "print(\"- The unearth ability is irrelevant for deck assignment - mana cost matters\")\n",
    "print(\"\\nExpected result: Only playable in Red decks, NOT in Black Graveyard\")"
   ]
  },
  {
   "cell_type": "code",
   "execution_count": 27,
   "id": "cfc4b026",
   "metadata": {},
   "outputs": [
    {
     "name": "stdout",
     "output_type": "stream",
     "text": [
      "\n",
      "Testing additional cases:\n",
      "============================================================\n",
      "\n",
      "Truly Colorless Artifact: Gingerbrute\n",
      "Color: nan\n",
      "Color Category: Colorless\n",
      "Should be playable in ALL decks:\n",
      "  B: True\n",
      "  R: True\n",
      "  U: True\n",
      "  W: True\n",
      "  G: True\n",
      "\n",
      "============================================================\n",
      "✅ CORRECTED: Function now properly focuses on MANA REQUIREMENTS\n",
      "- Scrapwork Mutt: Only playable in Red (requires Red mana)\n",
      "- Normal colored cards: Only in their color\n",
      "- Truly colorless artifacts: Playable anywhere\n",
      "\n",
      "This correctly identifies the color violation!\n"
     ]
    }
   ],
   "source": [
    "# Test additional cases to verify the mana-focused approach\n",
    "print(\"\\nTesting additional cases:\")\n",
    "print(\"=\"*60)\n",
    "\n",
    "# Test a truly colorless artifact (should be playable everywhere)\n",
    "colorless_artifacts = oracle_df[\n",
    "    (oracle_df['Color Category'] == 'Colorless') & \n",
    "    (oracle_df['Type'].str.contains('Artifact', na=False))\n",
    "].head(1)\n",
    "\n",
    "if not colorless_artifacts.empty:\n",
    "    artifact = colorless_artifacts.iloc[0]\n",
    "    print(f\"\\nTruly Colorless Artifact: {artifact['name']}\")\n",
    "    print(f\"Color: {artifact['Color']}\")\n",
    "    print(f\"Color Category: {artifact['Color Category']}\")\n",
    "    print(\"Should be playable in ALL decks:\")\n",
    "    for color in ['B', 'R', 'U', 'W', 'G']:\n",
    "        result = is_card_playable_in_colors(artifact, color)\n",
    "        print(f\"  {color}: {result}\")\n",
    "\n",
    "# Test a normal Red card\n",
    "red_cards = oracle_df[oracle_df['Color'] == 'Red'].head(1)\n",
    "if not red_cards.empty:\n",
    "    red_card = red_cards.iloc[0]\n",
    "    print(f\"\\nNormal Red Card: {red_card['name']}\")\n",
    "    print(f\"Color: {red_card['Color']}\")\n",
    "    print(f\"Color Category: {red_card.get('Color Category', 'N/A')}\")\n",
    "    print(\"Should ONLY be playable in Red decks:\")\n",
    "    for color in ['B', 'R', 'U', 'W', 'G']:\n",
    "        result = is_card_playable_in_colors(red_card, color)\n",
    "        print(f\"  {color}: {result}\")\n",
    "\n",
    "# Test a normal Black card\n",
    "black_cards = oracle_df[oracle_df['Color'] == 'Black'].head(1)\n",
    "if not black_cards.empty:\n",
    "    black_card = black_cards.iloc[0]\n",
    "    print(f\"\\nNormal Black Card: {black_card['name']}\")\n",
    "    print(f\"Color: {black_card['Color']}\")\n",
    "    print(f\"Color Category: {black_card.get('Color Category', 'N/A')}\")\n",
    "    print(\"Should ONLY be playable in Black decks:\")\n",
    "    for color in ['B', 'R', 'U', 'W', 'G']:\n",
    "        result = is_card_playable_in_colors(black_card, color)\n",
    "        print(f\"  {color}: {result}\")\n",
    "\n",
    "print(\"\\n\" + \"=\"*60)\n",
    "print(\"✅ CORRECTED: Function now properly focuses on MANA REQUIREMENTS\")\n",
    "print(\"- Scrapwork Mutt: Only playable in Red (requires Red mana)\")\n",
    "print(\"- Normal colored cards: Only in their color\")\n",
    "print(\"- Truly colorless artifacts: Playable anywhere\")\n",
    "print(\"\\nThis correctly identifies the color violation!\")"
   ]
  }
 ],
 "metadata": {
  "kernelspec": {
   "display_name": "magic",
   "language": "python",
   "name": "python3"
  },
  "language_info": {
   "codemirror_mode": {
    "name": "ipython",
    "version": 3
   },
   "file_extension": ".py",
   "mimetype": "text/x-python",
   "name": "python",
   "nbconvert_exporter": "python",
   "pygments_lexer": "ipython3",
   "version": "3.13.2"
  }
 },
 "nbformat": 4,
 "nbformat_minor": 5
}

{
 "cells": [
  {
   "cell_type": "code",
   "execution_count": 38,
   "id": "6ef0b8fa",
   "metadata": {},
   "outputs": [],
   "source": [
    "import pandas as pd\n",
    "from dotenv import load_dotenv\n",
    "from openai import OpenAI\n",
    "from anthropic import Anthropic\n",
    "from src.consts import *\n",
    "from src.validation import validate_jumpstart_cube, display_validate_results\n",
    "from src.coherence import analyze_deck_theme_coherence_enhanced\n",
    "from src.improve import apply_swap\n",
    "\n",
    "load_dotenv(override=True)\n",
    "openai = OpenAI()\n",
    "anthropic = Anthropic() \n",
    "\n",
    "# Load the data files\n",
    "oracle_df = pd.read_csv('ThePauperCube_oracle_with_pt.csv')\n",
    "cube_df = pd.read_csv('JumpstartCube_ThePauperCube_ULTIMATE_Final_v3.csv')"
   ]
  },
  {
   "cell_type": "markdown",
   "id": "4ed2b044",
   "metadata": {},
   "source": [
    "# Generated"
   ]
  },
  {
   "cell_type": "code",
   "execution_count": 39,
   "id": "56f05954",
   "metadata": {},
   "outputs": [],
   "source": [
    "# display_validate_results(validate_jumpstart_cube(cube_df, oracle_df))"
   ]
  },
  {
   "cell_type": "code",
   "execution_count": 56,
   "id": "2a2f16e9",
   "metadata": {},
   "outputs": [
    {
     "data": {
      "text/markdown": [
       "Analyzing deck: Green Stompy"
      ],
      "text/plain": [
       "<IPython.core.display.Markdown object>"
      ]
     },
     "metadata": {},
     "output_type": "display_data"
    },
    {
     "data": {
      "text/markdown": [
       "Current coherence: 1.7"
      ],
      "text/plain": [
       "<IPython.core.display.Markdown object>"
      ]
     },
     "metadata": {},
     "output_type": "display_data"
    },
    {
     "data": {
      "text/markdown": [
       "Expected themes: Stompy"
      ],
      "text/plain": [
       "<IPython.core.display.Markdown object>"
      ]
     },
     "metadata": {},
     "output_type": "display_data"
    },
    {
     "data": {
      "text/markdown": [
       "Deck colors: G"
      ],
      "text/plain": [
       "<IPython.core.display.Markdown object>"
      ]
     },
     "metadata": {},
     "output_type": "display_data"
    },
    {
     "data": {
      "text/markdown": [
       "Found 61 candidate cards to consider"
      ],
      "text/plain": [
       "<IPython.core.display.Markdown object>"
      ]
     },
     "metadata": {},
     "output_type": "display_data"
    },
    {
     "data": {
      "text/markdown": [
       "Identified 13 cards as potential removal candidates"
      ],
      "text/plain": [
       "<IPython.core.display.Markdown object>"
      ]
     },
     "metadata": {},
     "output_type": "display_data"
    },
    {
     "data": {
      "text/markdown": [
       "# 🔄 Swap Recommendations for Green Stompy"
      ],
      "text/plain": [
       "<IPython.core.display.Markdown object>"
      ]
     },
     "metadata": {},
     "output_type": "display_data"
    },
    {
     "data": {
      "text/markdown": [
       "**Projected New Coherence:** 26.7/100 (+25.0)"
      ],
      "text/plain": [
       "<IPython.core.display.Markdown object>"
      ]
     },
     "metadata": {},
     "output_type": "display_data"
    },
    {
     "data": {
      "text/markdown": [
       "### Cards to Remove:"
      ],
      "text/plain": [
       "<IPython.core.display.Markdown object>"
      ]
     },
     "metadata": {},
     "output_type": "display_data"
    },
    {
     "data": {
      "text/markdown": [
       "- **Fertile Ground** (Theme Score: 0.0, CMC: 2.0)"
      ],
      "text/plain": [
       "<IPython.core.display.Markdown object>"
      ]
     },
     "metadata": {},
     "output_type": "display_data"
    },
    {
     "data": {
      "text/markdown": [
       "- **Lead the Stampede** (Theme Score: 1.0, CMC: 3.0)"
      ],
      "text/plain": [
       "<IPython.core.display.Markdown object>"
      ]
     },
     "metadata": {},
     "output_type": "display_data"
    },
    {
     "data": {
      "text/markdown": [
       "### Cards to Add:"
      ],
      "text/plain": [
       "<IPython.core.display.Markdown object>"
      ]
     },
     "metadata": {},
     "output_type": "display_data"
    },
    {
     "data": {
      "text/markdown": [
       "- **Bannerhide Krushok** (Theme Score: 4.0) - from Green Big Creatures"
      ],
      "text/plain": [
       "<IPython.core.display.Markdown object>"
      ]
     },
     "metadata": {},
     "output_type": "display_data"
    },
    {
     "data": {
      "text/markdown": [
       "- **Hooting Mandrills** (Theme Score: 2.0) - from Green Midrange"
      ],
      "text/plain": [
       "<IPython.core.display.Markdown object>"
      ]
     },
     "metadata": {},
     "output_type": "display_data"
    },
    {
     "name": "stdout",
     "output_type": "stream",
     "text": [
      "1.8035384615384615\n",
      "{'expected_themes': ['Stompy'], 'theme_score': 1.8461538461538463, 'theme_matches': [{'card': 'Hooting Mandrills', 'score': 2, 'themes': ['Stompy']}, {'card': 'Bannerhide Krushok', 'score': 4, 'themes': ['Stompy']}, {'card': 'Ram Through', 'score': 3, 'themes': ['Stompy']}, {'card': 'Contagious Vorrac', 'score': 1, 'themes': ['Stompy']}, {'card': 'Evolution Witness', 'score': 1, 'themes': ['Stompy']}, {'card': 'Gnarlid Colony', 'score': 2, 'themes': ['Stompy']}, {'card': 'Llanowar Elves', 'score': 1, 'themes': ['Stompy']}, {'card': 'Llanowar Visionary', 'score': 1, 'themes': ['Stompy']}, {'card': 'Mother Bear', 'score': 2, 'themes': ['Stompy']}, {'card': 'Phantom Tiger', 'score': 1, 'themes': ['Stompy']}, {'card': 'Pulse of Murasa', 'score': 1, 'themes': ['Stompy']}, {'card': 'Greater Tanuki', 'score': 2, 'themes': ['Stompy']}, {'card': 'Renegade Freighter', 'score': 3, 'themes': ['Stompy']}], 'color_coherence': 1.0, 'color_issues': [], 'mana_curve_score': 0.8923076923076922, 'mana_curve': {6: 2, 4: 1, 2: 3, 3: 6, 1: 1}, 'creature_stats': {'creature_count': 10, 'total_power': 27.0, 'total_toughness': 24.0, 'avg_power': 2.7, 'avg_toughness': 2.4, 'power_distribution': {4: 2, 3: 1, 2: 4, 1: 2, 6: 1}, 'toughness_distribution': {4: 2, 3: 1, 1: 2, 2: 3, 0: 1, 5: 1}, 'creature_categories': {'small': 6, 'medium': 3, 'large': 1, 'utility': 6, 'evasive': 4}, 'theme_alignment_score': 0.154, 'creature_details': [{'name': 'Hooting Mandrills', 'power': 4.0, 'toughness': 4.0, 'categories': ['medium', 'evasive'], 'has_evasion': True, 'has_utility': False}, {'name': 'Bannerhide Krushok', 'power': 4.0, 'toughness': 4.0, 'categories': ['medium', 'evasive'], 'has_evasion': True, 'has_utility': False}, {'name': 'Contagious Vorrac', 'power': 3.0, 'toughness': 3.0, 'categories': ['medium', 'utility'], 'has_evasion': False, 'has_utility': True}, {'name': 'Evolution Witness', 'power': 2.0, 'toughness': 1.0, 'categories': ['small', 'utility'], 'has_evasion': False, 'has_utility': True}, {'name': 'Gnarlid Colony', 'power': 2.0, 'toughness': 2.0, 'categories': ['small', 'evasive', 'utility'], 'has_evasion': True, 'has_utility': True}, {'name': 'Llanowar Elves', 'power': 1.0, 'toughness': 1.0, 'categories': ['small'], 'has_evasion': False, 'has_utility': False}, {'name': 'Llanowar Visionary', 'power': 2.0, 'toughness': 2.0, 'categories': ['small', 'utility'], 'has_evasion': False, 'has_utility': True}, {'name': 'Mother Bear', 'power': 2.0, 'toughness': 2.0, 'categories': ['small'], 'has_evasion': False, 'has_utility': False}, {'name': 'Phantom Tiger', 'power': 1.0, 'toughness': 0.0, 'categories': ['small', 'utility'], 'has_evasion': False, 'has_utility': True}, {'name': 'Greater Tanuki', 'power': 6.0, 'toughness': 5.0, 'categories': ['large', 'evasive', 'utility'], 'has_evasion': True, 'has_utility': True}]}, 'overall_coherence': 1.8035384615384615, 'deck_colors': 'G', 'card_count': 13}\n",
      "Improved Green Stompy coherence from 1.7 to 1.8\n",
      "Total coherence: 218.02 (improvement: 0.41)\n"
     ]
    },
    {
     "data": {
      "text/markdown": [
       "Analyzing deck: Green Stompy"
      ],
      "text/plain": [
       "<IPython.core.display.Markdown object>"
      ]
     },
     "metadata": {},
     "output_type": "display_data"
    },
    {
     "data": {
      "text/markdown": [
       "Current coherence: 1.8"
      ],
      "text/plain": [
       "<IPython.core.display.Markdown object>"
      ]
     },
     "metadata": {},
     "output_type": "display_data"
    },
    {
     "data": {
      "text/markdown": [
       "Expected themes: Stompy"
      ],
      "text/plain": [
       "<IPython.core.display.Markdown object>"
      ]
     },
     "metadata": {},
     "output_type": "display_data"
    },
    {
     "data": {
      "text/markdown": [
       "Deck colors: G"
      ],
      "text/plain": [
       "<IPython.core.display.Markdown object>"
      ]
     },
     "metadata": {},
     "output_type": "display_data"
    },
    {
     "data": {
      "text/markdown": [
       "Found 60 candidate cards to consider"
      ],
      "text/plain": [
       "<IPython.core.display.Markdown object>"
      ]
     },
     "metadata": {},
     "output_type": "display_data"
    },
    {
     "data": {
      "text/markdown": [
       "Identified 13 cards as potential removal candidates"
      ],
      "text/plain": [
       "<IPython.core.display.Markdown object>"
      ]
     },
     "metadata": {},
     "output_type": "display_data"
    },
    {
     "data": {
      "text/markdown": [
       "# 🔄 Swap Recommendations for Green Stompy"
      ],
      "text/plain": [
       "<IPython.core.display.Markdown object>"
      ]
     },
     "metadata": {},
     "output_type": "display_data"
    },
    {
     "data": {
      "text/markdown": [
       "**Projected New Coherence:** 11.8/100 (+10.0)"
      ],
      "text/plain": [
       "<IPython.core.display.Markdown object>"
      ]
     },
     "metadata": {},
     "output_type": "display_data"
    },
    {
     "data": {
      "text/markdown": [
       "### Cards to Remove:"
      ],
      "text/plain": [
       "<IPython.core.display.Markdown object>"
      ]
     },
     "metadata": {},
     "output_type": "display_data"
    },
    {
     "data": {
      "text/markdown": [
       "- **Contagious Vorrac** (Theme Score: 1.0, CMC: 3.0)"
      ],
      "text/plain": [
       "<IPython.core.display.Markdown object>"
      ]
     },
     "metadata": {},
     "output_type": "display_data"
    },
    {
     "data": {
      "text/markdown": [
       "- **Evolution Witness** (Theme Score: 1.0, CMC: 3.0)"
      ],
      "text/plain": [
       "<IPython.core.display.Markdown object>"
      ]
     },
     "metadata": {},
     "output_type": "display_data"
    },
    {
     "data": {
      "text/markdown": [
       "### Cards to Add:"
      ],
      "text/plain": [
       "<IPython.core.display.Markdown object>"
      ]
     },
     "metadata": {},
     "output_type": "display_data"
    },
    {
     "data": {
      "text/markdown": [
       "- **Massive Might** (Theme Score: 2.0) - from Green Midrange"
      ],
      "text/plain": [
       "<IPython.core.display.Markdown object>"
      ]
     },
     "metadata": {},
     "output_type": "display_data"
    },
    {
     "data": {
      "text/markdown": [
       "- **Rancor** (Theme Score: 2.0) - from Green Midrange"
      ],
      "text/plain": [
       "<IPython.core.display.Markdown object>"
      ]
     },
     "metadata": {},
     "output_type": "display_data"
    },
    {
     "name": "stdout",
     "output_type": "stream",
     "text": [
      "2.015096153846154\n",
      "{'expected_themes': ['Stompy'], 'theme_score': 2.0, 'theme_matches': [{'card': 'Hooting Mandrills', 'score': 2, 'themes': ['Stompy']}, {'card': 'Massive Might', 'score': 2, 'themes': ['Stompy']}, {'card': 'Rancor', 'score': 2, 'themes': ['Stompy']}, {'card': 'Bannerhide Krushok', 'score': 4, 'themes': ['Stompy']}, {'card': 'Ram Through', 'score': 3, 'themes': ['Stompy']}, {'card': 'Gnarlid Colony', 'score': 2, 'themes': ['Stompy']}, {'card': 'Llanowar Elves', 'score': 1, 'themes': ['Stompy']}, {'card': 'Llanowar Visionary', 'score': 1, 'themes': ['Stompy']}, {'card': 'Mother Bear', 'score': 2, 'themes': ['Stompy']}, {'card': 'Phantom Tiger', 'score': 1, 'themes': ['Stompy']}, {'card': 'Pulse of Murasa', 'score': 1, 'themes': ['Stompy']}, {'card': 'Greater Tanuki', 'score': 2, 'themes': ['Stompy']}, {'card': 'Renegade Freighter', 'score': 3, 'themes': ['Stompy']}], 'color_coherence': 1.0, 'color_issues': [], 'mana_curve_score': 0.8923076923076922, 'mana_curve': {6: 2, 1: 3, 4: 1, 2: 3, 3: 4}, 'creature_stats': {'creature_count': 8, 'total_power': 22.0, 'total_toughness': 20.0, 'avg_power': 2.75, 'avg_toughness': 2.5, 'power_distribution': {4: 2, 2: 3, 1: 2, 6: 1}, 'toughness_distribution': {4: 2, 2: 3, 1: 1, 0: 1, 5: 1}, 'creature_categories': {'small': 5, 'medium': 2, 'large': 1, 'utility': 4, 'evasive': 4}, 'theme_alignment_score': 0.19375, 'creature_details': [{'name': 'Hooting Mandrills', 'power': 4.0, 'toughness': 4.0, 'categories': ['medium', 'evasive'], 'has_evasion': True, 'has_utility': False}, {'name': 'Bannerhide Krushok', 'power': 4.0, 'toughness': 4.0, 'categories': ['medium', 'evasive'], 'has_evasion': True, 'has_utility': False}, {'name': 'Gnarlid Colony', 'power': 2.0, 'toughness': 2.0, 'categories': ['small', 'evasive', 'utility'], 'has_evasion': True, 'has_utility': True}, {'name': 'Llanowar Elves', 'power': 1.0, 'toughness': 1.0, 'categories': ['small'], 'has_evasion': False, 'has_utility': False}, {'name': 'Llanowar Visionary', 'power': 2.0, 'toughness': 2.0, 'categories': ['small', 'utility'], 'has_evasion': False, 'has_utility': True}, {'name': 'Mother Bear', 'power': 2.0, 'toughness': 2.0, 'categories': ['small'], 'has_evasion': False, 'has_utility': False}, {'name': 'Phantom Tiger', 'power': 1.0, 'toughness': 0.0, 'categories': ['small', 'utility'], 'has_evasion': False, 'has_utility': True}, {'name': 'Greater Tanuki', 'power': 6.0, 'toughness': 5.0, 'categories': ['large', 'evasive', 'utility'], 'has_evasion': True, 'has_utility': True}]}, 'overall_coherence': 2.015096153846154, 'deck_colors': 'G', 'card_count': 13}\n",
      "Improved Green Stompy coherence from 1.8 to 2.0\n",
      "Total coherence: 218.74 (improvement: 0.72)\n"
     ]
    },
    {
     "data": {
      "text/markdown": [
       "Analyzing deck: Black Sacrifice"
      ],
      "text/plain": [
       "<IPython.core.display.Markdown object>"
      ]
     },
     "metadata": {},
     "output_type": "display_data"
    },
    {
     "data": {
      "text/markdown": [
       "Current coherence: 2.0"
      ],
      "text/plain": [
       "<IPython.core.display.Markdown object>"
      ]
     },
     "metadata": {},
     "output_type": "display_data"
    },
    {
     "data": {
      "text/markdown": [
       "Expected themes: Sacrifice"
      ],
      "text/plain": [
       "<IPython.core.display.Markdown object>"
      ]
     },
     "metadata": {},
     "output_type": "display_data"
    },
    {
     "data": {
      "text/markdown": [
       "Deck colors: B"
      ],
      "text/plain": [
       "<IPython.core.display.Markdown object>"
      ]
     },
     "metadata": {},
     "output_type": "display_data"
    },
    {
     "data": {
      "text/markdown": [
       "Found 66 candidate cards to consider"
      ],
      "text/plain": [
       "<IPython.core.display.Markdown object>"
      ]
     },
     "metadata": {},
     "output_type": "display_data"
    },
    {
     "data": {
      "text/markdown": [
       "Identified 13 cards as potential removal candidates"
      ],
      "text/plain": [
       "<IPython.core.display.Markdown object>"
      ]
     },
     "metadata": {},
     "output_type": "display_data"
    },
    {
     "data": {
      "text/markdown": [
       "# 🔄 Swap Recommendations for Black Sacrifice"
      ],
      "text/plain": [
       "<IPython.core.display.Markdown object>"
      ]
     },
     "metadata": {},
     "output_type": "display_data"
    },
    {
     "data": {
      "text/markdown": [
       "**Projected New Coherence:** 22.0/100 (+20.0)"
      ],
      "text/plain": [
       "<IPython.core.display.Markdown object>"
      ]
     },
     "metadata": {},
     "output_type": "display_data"
    },
    {
     "data": {
      "text/markdown": [
       "### Cards to Remove:"
      ],
      "text/plain": [
       "<IPython.core.display.Markdown object>"
      ]
     },
     "metadata": {},
     "output_type": "display_data"
    },
    {
     "data": {
      "text/markdown": [
       "- **Disfigure** (Theme Score: 1.0, CMC: 1.0)"
      ],
      "text/plain": [
       "<IPython.core.display.Markdown object>"
      ]
     },
     "metadata": {},
     "output_type": "display_data"
    },
    {
     "data": {
      "text/markdown": [
       "- **Bone Picker** (Theme Score: 2.0, CMC: 4.0)"
      ],
      "text/plain": [
       "<IPython.core.display.Markdown object>"
      ]
     },
     "metadata": {},
     "output_type": "display_data"
    },
    {
     "data": {
      "text/markdown": [
       "### Cards to Add:"
      ],
      "text/plain": [
       "<IPython.core.display.Markdown object>"
      ]
     },
     "metadata": {},
     "output_type": "display_data"
    },
    {
     "data": {
      "text/markdown": [
       "- **Blood Fountain** (Theme Score: 4.0) - from Black Graveyard"
      ],
      "text/plain": [
       "<IPython.core.display.Markdown object>"
      ]
     },
     "metadata": {},
     "output_type": "display_data"
    },
    {
     "data": {
      "text/markdown": [
       "- **Tithing Blade** (Theme Score: 3.0) - from Black Graveyard"
      ],
      "text/plain": [
       "<IPython.core.display.Markdown object>"
      ]
     },
     "metadata": {},
     "output_type": "display_data"
    },
    {
     "name": "stdout",
     "output_type": "stream",
     "text": [
      "2.1815384615384614\n",
      "{'expected_themes': ['Sacrifice'], 'theme_score': 3.230769230769231, 'theme_matches': [{'card': 'Carrier Thrall', 'score': 4, 'themes': ['Sacrifice']}, {'card': 'Loathsome Curator', 'score': 3, 'themes': ['Sacrifice']}, {'card': 'Tithing Blade', 'score': 3, 'themes': ['Sacrifice']}, {'card': 'Accursed Marauder', 'score': 4, 'themes': ['Sacrifice']}, {'card': 'Voracious Vermin', 'score': 4, 'themes': ['Sacrifice']}, {'card': 'Blood Fountain', 'score': 4, 'themes': ['Sacrifice']}, {'card': 'Nezumi Linkbreaker', 'score': 3, 'themes': ['Sacrifice']}, {'card': 'Aether Poisoner', 'score': 4, 'themes': ['Sacrifice']}, {'card': 'Candy Grapple', 'score': 3, 'themes': ['Sacrifice']}, {'card': 'Ecstatic Awakener', 'score': 2, 'themes': ['Sacrifice']}, {'card': 'Thorn of the Black Rose', 'score': 3, 'themes': ['Sacrifice']}, {'card': 'Pestilence', 'score': 2, 'themes': ['Sacrifice']}, {'card': 'Filigree Familiar', 'score': 3, 'themes': ['Sacrifice']}], 'color_coherence': 1.0, 'color_issues': [], 'mana_curve_score': 0.9538461538461539, 'mana_curve': {2: 5, 5: 1, 3: 2, 1: 3, 4: 2}, 'creature_stats': {'creature_count': 9, 'total_power': 15.0, 'total_toughness': 11.0, 'avg_power': 1.6666666666666667, 'avg_toughness': 1.2222222222222223, 'power_distribution': {2: 4, 5: 1, 1: 2, 0: 2}, 'toughness_distribution': {1: 5, 4: 1, 0: 2, 2: 1}, 'creature_categories': {'small': 8, 'medium': 0, 'large': 1, 'utility': 9, 'evasive': 1}, 'theme_alignment_score': 0.0, 'creature_details': [{'name': 'Carrier Thrall', 'power': 2.0, 'toughness': 1.0, 'categories': ['small', 'utility'], 'has_evasion': False, 'has_utility': True}, {'name': 'Loathsome Curator', 'power': 5.0, 'toughness': 4.0, 'categories': ['large', 'evasive', 'utility'], 'has_evasion': True, 'has_utility': True}, {'name': 'Accursed Marauder', 'power': 2.0, 'toughness': 1.0, 'categories': ['small', 'utility'], 'has_evasion': False, 'has_utility': True}, {'name': 'Voracious Vermin', 'power': 2.0, 'toughness': 1.0, 'categories': ['small', 'utility'], 'has_evasion': False, 'has_utility': True}, {'name': 'Nezumi Linkbreaker', 'power': 1.0, 'toughness': 1.0, 'categories': ['small', 'utility'], 'has_evasion': False, 'has_utility': True}, {'name': 'Aether Poisoner', 'power': 1.0, 'toughness': 1.0, 'categories': ['small', 'utility'], 'has_evasion': False, 'has_utility': True}, {'name': 'Ecstatic Awakener', 'power': 0.0, 'toughness': 0.0, 'categories': ['small', 'utility'], 'has_evasion': False, 'has_utility': True}, {'name': 'Thorn of the Black Rose', 'power': 0.0, 'toughness': 0.0, 'categories': ['small', 'utility'], 'has_evasion': False, 'has_utility': True}, {'name': 'Filigree Familiar', 'power': 2.0, 'toughness': 2.0, 'categories': ['small', 'utility'], 'has_evasion': False, 'has_utility': True}]}, 'overall_coherence': 2.1815384615384614, 'deck_colors': 'B', 'card_count': 13}\n",
      "Improved Black Sacrifice coherence from 2.0 to 2.2\n",
      "Total coherence: 217.79 (improvement: -0.95)\n"
     ]
    }
   ],
   "source": [
    "# You can also analyze a specific deck by name\n",
    "# Example: Analyze the \"Green Big Creatures\" deck\n",
    "\n",
    "from src.process import optimize_deck_coherence\n",
    "\n",
    "\n",
    "coherence = analyze_deck_theme_coherence_enhanced(cube_df, oracle_df)\n",
    "total_coherence = sum(result['overall_coherence'] for result in coherence.values())\n",
    "\n",
    "improvement = True\n",
    "while improvement:\n",
    "    prev_total_coherence = total_coherence\n",
    "    cube_df = optimize_deck_coherence(cube_df=cube_df, oracle_df=oracle_df)\n",
    "    coherence = analyze_deck_theme_coherence_enhanced(cube_df, oracle_df)\n",
    "    total_coherence = sum(result['overall_coherence'] for result in coherence.values())\n",
    "    improvement = total_coherence > prev_total_coherence\n",
    "    print(f\"Total coherence: {total_coherence:.2f} (improvement: {total_coherence - prev_total_coherence:.2f})\")"
   ]
  },
  {
   "cell_type": "markdown",
   "id": "f407f31b",
   "metadata": {},
   "source": [
    "# Save to file"
   ]
  },
  {
   "cell_type": "code",
   "execution_count": 59,
   "id": "b89cb5cc",
   "metadata": {},
   "outputs": [
    {
     "name": "stdout",
     "output_type": "stream",
     "text": [
      "Exporting cube to JumpstartCube_ThePauperCube_ULTIMATE_Final_v4.csv...\n",
      "✅ Successfully exported 390 cards to JumpstartCube_ThePauperCube_ULTIMATE_Final_v4.csv\n",
      "\n",
      "📊 Export Summary:\n",
      "Total cards: 390\n",
      "Number of decks: 30\n",
      "\n",
      "Deck breakdown:\n",
      "  Azorius Evasion/Flying: 13 cards\n",
      "  Blue Card Draw: 13 cards\n",
      "  White Control: 13 cards\n",
      "  White Equipment: 13 cards\n",
      "  White Aggro: 13 cards\n",
      "  Selesnya Control: 13 cards\n",
      "  Red Burn: 13 cards\n",
      "  Rakdos Burn/Damage: 13 cards\n",
      "  Orzhov Control: 13 cards\n",
      "  Red Artifacts: 13 cards\n",
      "  ... and 20 more decks\n"
     ]
    },
    {
     "data": {
      "text/plain": [
       "'JumpstartCube_ThePauperCube_ULTIMATE_Final_v4.csv'"
      ]
     },
     "execution_count": 59,
     "metadata": {},
     "output_type": "execute_result"
    }
   ],
   "source": [
    "# display_coherence_analysis_enhanced(analyze_deck_theme_coherence_enhanced(cube_df, oracle_df))\n",
    "\n",
    "from src.export import export_cube_to_csv\n",
    "\n",
    "\n",
    "export_cube_to_csv(cube_df, oracle_df, 'JumpstartCube_ThePauperCube_ULTIMATE_Final_v4.csv')"
   ]
  },
  {
   "cell_type": "code",
   "execution_count": 64,
   "id": "2c4d7fff",
   "metadata": {},
   "outputs": [
    {
     "data": {
      "text/markdown": [
       "# Enhanced Deck Theme Coherence Analysis"
      ],
      "text/plain": [
       "<IPython.core.display.Markdown object>"
      ]
     },
     "metadata": {},
     "output_type": "display_data"
    },
    {
     "data": {
      "text/markdown": [
       "**Average Coherence Score: 7.6/100**"
      ],
      "text/plain": [
       "<IPython.core.display.Markdown object>"
      ]
     },
     "metadata": {},
     "output_type": "display_data"
    },
    {
     "data": {
      "text/markdown": [
       "## Top 5 Most Coherent Decks"
      ],
      "text/plain": [
       "<IPython.core.display.Markdown object>"
      ]
     },
     "metadata": {},
     "output_type": "display_data"
    },
    {
     "data": {
      "text/markdown": [
       "### 1. Rakdos Burn/Damage"
      ],
      "text/plain": [
       "<IPython.core.display.Markdown object>"
      ]
     },
     "metadata": {},
     "output_type": "display_data"
    },
    {
     "data": {
      "text/markdown": [
       "- **Overall Score: 12.6/100**"
      ],
      "text/plain": [
       "<IPython.core.display.Markdown object>"
      ]
     },
     "metadata": {},
     "output_type": "display_data"
    },
    {
     "data": {
      "text/markdown": [
       "- **Expected Themes:** Burn, Aggro, Sacrifice"
      ],
      "text/plain": [
       "<IPython.core.display.Markdown object>"
      ]
     },
     "metadata": {},
     "output_type": "display_data"
    },
    {
     "data": {
      "text/markdown": [
       "- **Theme Match Score:** 4.5"
      ],
      "text/plain": [
       "<IPython.core.display.Markdown object>"
      ]
     },
     "metadata": {},
     "output_type": "display_data"
    },
    {
     "data": {
      "text/markdown": [
       "- **Color Coherence:** 100.0%"
      ],
      "text/plain": [
       "<IPython.core.display.Markdown object>"
      ]
     },
     "metadata": {},
     "output_type": "display_data"
    },
    {
     "data": {
      "text/markdown": [
       "- **Mana Curve Score:** 100.0%"
      ],
      "text/plain": [
       "<IPython.core.display.Markdown object>"
      ]
     },
     "metadata": {},
     "output_type": "display_data"
    },
    {
     "data": {
      "text/markdown": [
       "- **Creature Count:** 6 (46.2% of deck)"
      ],
      "text/plain": [
       "<IPython.core.display.Markdown object>"
      ]
     },
     "metadata": {},
     "output_type": "display_data"
    },
    {
     "data": {
      "text/markdown": [
       "- **Avg Power/Toughness:** 1.8/1.5"
      ],
      "text/plain": [
       "<IPython.core.display.Markdown object>"
      ]
     },
     "metadata": {},
     "output_type": "display_data"
    },
    {
     "data": {
      "text/markdown": [
       "- **Creature Mix:** Small: 4, Medium: 2, Large: 0"
      ],
      "text/plain": [
       "<IPython.core.display.Markdown object>"
      ]
     },
     "metadata": {},
     "output_type": "display_data"
    },
    {
     "data": {
      "text/markdown": [
       "- **Creature Theme Alignment:** 5.0"
      ],
      "text/plain": [
       "<IPython.core.display.Markdown object>"
      ]
     },
     "metadata": {},
     "output_type": "display_data"
    },
    {
     "data": {
      "text/markdown": [
       "### 2. Simic Control"
      ],
      "text/plain": [
       "<IPython.core.display.Markdown object>"
      ]
     },
     "metadata": {},
     "output_type": "display_data"
    },
    {
     "data": {
      "text/markdown": [
       "- **Overall Score: 12.4/100**"
      ],
      "text/plain": [
       "<IPython.core.display.Markdown object>"
      ]
     },
     "metadata": {},
     "output_type": "display_data"
    },
    {
     "data": {
      "text/markdown": [
       "- **Expected Themes:** Control, Ramp, Card Draw"
      ],
      "text/plain": [
       "<IPython.core.display.Markdown object>"
      ]
     },
     "metadata": {},
     "output_type": "display_data"
    },
    {
     "data": {
      "text/markdown": [
       "- **Theme Match Score:** 6.2"
      ],
      "text/plain": [
       "<IPython.core.display.Markdown object>"
      ]
     },
     "metadata": {},
     "output_type": "display_data"
    },
    {
     "data": {
      "text/markdown": [
       "- **Color Coherence:** 100.0%"
      ],
      "text/plain": [
       "<IPython.core.display.Markdown object>"
      ]
     },
     "metadata": {},
     "output_type": "display_data"
    },
    {
     "data": {
      "text/markdown": [
       "- **Mana Curve Score:** 98.5%"
      ],
      "text/plain": [
       "<IPython.core.display.Markdown object>"
      ]
     },
     "metadata": {},
     "output_type": "display_data"
    },
    {
     "data": {
      "text/markdown": [
       "- **Creature Count:** 6 (46.2% of deck)"
      ],
      "text/plain": [
       "<IPython.core.display.Markdown object>"
      ]
     },
     "metadata": {},
     "output_type": "display_data"
    },
    {
     "data": {
      "text/markdown": [
       "- **Avg Power/Toughness:** 1.5/1.8"
      ],
      "text/plain": [
       "<IPython.core.display.Markdown object>"
      ]
     },
     "metadata": {},
     "output_type": "display_data"
    },
    {
     "data": {
      "text/markdown": [
       "- **Creature Mix:** Small: 6, Medium: 0, Large: 0"
      ],
      "text/plain": [
       "<IPython.core.display.Markdown object>"
      ]
     },
     "metadata": {},
     "output_type": "display_data"
    },
    {
     "data": {
      "text/markdown": [
       "- **Creature Theme Alignment:** 4.5"
      ],
      "text/plain": [
       "<IPython.core.display.Markdown object>"
      ]
     },
     "metadata": {},
     "output_type": "display_data"
    },
    {
     "data": {
      "text/markdown": [
       "### 3. Golgari Graveyard"
      ],
      "text/plain": [
       "<IPython.core.display.Markdown object>"
      ]
     },
     "metadata": {},
     "output_type": "display_data"
    },
    {
     "data": {
      "text/markdown": [
       "- **Overall Score: 12.0/100**"
      ],
      "text/plain": [
       "<IPython.core.display.Markdown object>"
      ]
     },
     "metadata": {},
     "output_type": "display_data"
    },
    {
     "data": {
      "text/markdown": [
       "- **Expected Themes:** Graveyard, Sacrifice"
      ],
      "text/plain": [
       "<IPython.core.display.Markdown object>"
      ]
     },
     "metadata": {},
     "output_type": "display_data"
    },
    {
     "data": {
      "text/markdown": [
       "- **Theme Match Score:** 3.4"
      ],
      "text/plain": [
       "<IPython.core.display.Markdown object>"
      ]
     },
     "metadata": {},
     "output_type": "display_data"
    },
    {
     "data": {
      "text/markdown": [
       "- **Color Coherence:** 100.0%"
      ],
      "text/plain": [
       "<IPython.core.display.Markdown object>"
      ]
     },
     "metadata": {},
     "output_type": "display_data"
    },
    {
     "data": {
      "text/markdown": [
       "- **Mana Curve Score:** 92.3%"
      ],
      "text/plain": [
       "<IPython.core.display.Markdown object>"
      ]
     },
     "metadata": {},
     "output_type": "display_data"
    },
    {
     "data": {
      "text/markdown": [
       "- **Creature Count:** 9 (69.2% of deck)"
      ],
      "text/plain": [
       "<IPython.core.display.Markdown object>"
      ]
     },
     "metadata": {},
     "output_type": "display_data"
    },
    {
     "data": {
      "text/markdown": [
       "- **Avg Power/Toughness:** 2.6/2.3"
      ],
      "text/plain": [
       "<IPython.core.display.Markdown object>"
      ]
     },
     "metadata": {},
     "output_type": "display_data"
    },
    {
     "data": {
      "text/markdown": [
       "- **Creature Mix:** Small: 6, Medium: 2, Large: 1"
      ],
      "text/plain": [
       "<IPython.core.display.Markdown object>"
      ]
     },
     "metadata": {},
     "output_type": "display_data"
    },
    {
     "data": {
      "text/markdown": [
       "- **Creature Theme Alignment:** 5.2"
      ],
      "text/plain": [
       "<IPython.core.display.Markdown object>"
      ]
     },
     "metadata": {},
     "output_type": "display_data"
    },
    {
     "data": {
      "text/markdown": [
       "### 4. Black Sacrifice"
      ],
      "text/plain": [
       "<IPython.core.display.Markdown object>"
      ]
     },
     "metadata": {},
     "output_type": "display_data"
    },
    {
     "data": {
      "text/markdown": [
       "- **Overall Score: 11.9/100**"
      ],
      "text/plain": [
       "<IPython.core.display.Markdown object>"
      ]
     },
     "metadata": {},
     "output_type": "display_data"
    },
    {
     "data": {
      "text/markdown": [
       "- **Expected Themes:** Sacrifice"
      ],
      "text/plain": [
       "<IPython.core.display.Markdown object>"
      ]
     },
     "metadata": {},
     "output_type": "display_data"
    },
    {
     "data": {
      "text/markdown": [
       "- **Theme Match Score:** 3.2"
      ],
      "text/plain": [
       "<IPython.core.display.Markdown object>"
      ]
     },
     "metadata": {},
     "output_type": "display_data"
    },
    {
     "data": {
      "text/markdown": [
       "- **Color Coherence:** 100.0%"
      ],
      "text/plain": [
       "<IPython.core.display.Markdown object>"
      ]
     },
     "metadata": {},
     "output_type": "display_data"
    },
    {
     "data": {
      "text/markdown": [
       "- **Mana Curve Score:** 95.4%"
      ],
      "text/plain": [
       "<IPython.core.display.Markdown object>"
      ]
     },
     "metadata": {},
     "output_type": "display_data"
    },
    {
     "data": {
      "text/markdown": [
       "- **Creature Count:** 9 (69.2% of deck)"
      ],
      "text/plain": [
       "<IPython.core.display.Markdown object>"
      ]
     },
     "metadata": {},
     "output_type": "display_data"
    },
    {
     "data": {
      "text/markdown": [
       "- **Avg Power/Toughness:** 1.7/1.2"
      ],
      "text/plain": [
       "<IPython.core.display.Markdown object>"
      ]
     },
     "metadata": {},
     "output_type": "display_data"
    },
    {
     "data": {
      "text/markdown": [
       "- **Creature Mix:** Small: 8, Medium: 0, Large: 1"
      ],
      "text/plain": [
       "<IPython.core.display.Markdown object>"
      ]
     },
     "metadata": {},
     "output_type": "display_data"
    },
    {
     "data": {
      "text/markdown": [
       "- **Creature Theme Alignment:** 8.6"
      ],
      "text/plain": [
       "<IPython.core.display.Markdown object>"
      ]
     },
     "metadata": {},
     "output_type": "display_data"
    },
    {
     "data": {
      "text/markdown": [
       "### 5. White Equipment"
      ],
      "text/plain": [
       "<IPython.core.display.Markdown object>"
      ]
     },
     "metadata": {},
     "output_type": "display_data"
    },
    {
     "data": {
      "text/markdown": [
       "- **Overall Score: 11.9/100**"
      ],
      "text/plain": [
       "<IPython.core.display.Markdown object>"
      ]
     },
     "metadata": {},
     "output_type": "display_data"
    },
    {
     "data": {
      "text/markdown": [
       "- **Expected Themes:** Equipment"
      ],
      "text/plain": [
       "<IPython.core.display.Markdown object>"
      ]
     },
     "metadata": {},
     "output_type": "display_data"
    },
    {
     "data": {
      "text/markdown": [
       "- **Theme Match Score:** 3.2"
      ],
      "text/plain": [
       "<IPython.core.display.Markdown object>"
      ]
     },
     "metadata": {},
     "output_type": "display_data"
    },
    {
     "data": {
      "text/markdown": [
       "- **Color Coherence:** 100.0%"
      ],
      "text/plain": [
       "<IPython.core.display.Markdown object>"
      ]
     },
     "metadata": {},
     "output_type": "display_data"
    },
    {
     "data": {
      "text/markdown": [
       "- **Mana Curve Score:** 100.0%"
      ],
      "text/plain": [
       "<IPython.core.display.Markdown object>"
      ]
     },
     "metadata": {},
     "output_type": "display_data"
    },
    {
     "data": {
      "text/markdown": [
       "- **Creature Count:** 6 (46.2% of deck)"
      ],
      "text/plain": [
       "<IPython.core.display.Markdown object>"
      ]
     },
     "metadata": {},
     "output_type": "display_data"
    },
    {
     "data": {
      "text/markdown": [
       "- **Avg Power/Toughness:** 0.5/0.5"
      ],
      "text/plain": [
       "<IPython.core.display.Markdown object>"
      ]
     },
     "metadata": {},
     "output_type": "display_data"
    },
    {
     "data": {
      "text/markdown": [
       "- **Creature Mix:** Small: 6, Medium: 0, Large: 0"
      ],
      "text/plain": [
       "<IPython.core.display.Markdown object>"
      ]
     },
     "metadata": {},
     "output_type": "display_data"
    },
    {
     "data": {
      "text/markdown": [
       "- **Creature Theme Alignment:** 7.8"
      ],
      "text/plain": [
       "<IPython.core.display.Markdown object>"
      ]
     },
     "metadata": {},
     "output_type": "display_data"
    },
    {
     "data": {
      "text/markdown": [
       "## Bottom 5 Least Coherent Decks"
      ],
      "text/plain": [
       "<IPython.core.display.Markdown object>"
      ]
     },
     "metadata": {},
     "output_type": "display_data"
    },
    {
     "data": {
      "text/markdown": [
       "### 26. Red Burn"
      ],
      "text/plain": [
       "<IPython.core.display.Markdown object>"
      ]
     },
     "metadata": {},
     "output_type": "display_data"
    },
    {
     "data": {
      "text/markdown": [
       "- **Overall Score: 1.9/100**"
      ],
      "text/plain": [
       "<IPython.core.display.Markdown object>"
      ]
     },
     "metadata": {},
     "output_type": "display_data"
    },
    {
     "data": {
      "text/markdown": [
       "- **Expected Themes:** Burn"
      ],
      "text/plain": [
       "<IPython.core.display.Markdown object>"
      ]
     },
     "metadata": {},
     "output_type": "display_data"
    },
    {
     "data": {
      "text/markdown": [
       "- **Theme Match Score:** 3.2"
      ],
      "text/plain": [
       "<IPython.core.display.Markdown object>"
      ]
     },
     "metadata": {},
     "output_type": "display_data"
    },
    {
     "data": {
      "text/markdown": [
       "- **Color Coherence:** 100.0%"
      ],
      "text/plain": [
       "<IPython.core.display.Markdown object>"
      ]
     },
     "metadata": {},
     "output_type": "display_data"
    },
    {
     "data": {
      "text/markdown": [
       "- **Avg Power/Toughness:** 2.2/1.7"
      ],
      "text/plain": [
       "<IPython.core.display.Markdown object>"
      ]
     },
     "metadata": {},
     "output_type": "display_data"
    },
    {
     "data": {
      "text/markdown": [
       "- **Creature Theme Alignment:** 0.0"
      ],
      "text/plain": [
       "<IPython.core.display.Markdown object>"
      ]
     },
     "metadata": {},
     "output_type": "display_data"
    },
    {
     "data": {
      "text/markdown": [
       "### 27. Green Ramp"
      ],
      "text/plain": [
       "<IPython.core.display.Markdown object>"
      ]
     },
     "metadata": {},
     "output_type": "display_data"
    },
    {
     "data": {
      "text/markdown": [
       "- **Overall Score: 1.8/100**"
      ],
      "text/plain": [
       "<IPython.core.display.Markdown object>"
      ]
     },
     "metadata": {},
     "output_type": "display_data"
    },
    {
     "data": {
      "text/markdown": [
       "- **Expected Themes:** Ramp"
      ],
      "text/plain": [
       "<IPython.core.display.Markdown object>"
      ]
     },
     "metadata": {},
     "output_type": "display_data"
    },
    {
     "data": {
      "text/markdown": [
       "- **Theme Match Score:** 3.1"
      ],
      "text/plain": [
       "<IPython.core.display.Markdown object>"
      ]
     },
     "metadata": {},
     "output_type": "display_data"
    },
    {
     "data": {
      "text/markdown": [
       "- **Color Coherence:** 100.0%"
      ],
      "text/plain": [
       "<IPython.core.display.Markdown object>"
      ]
     },
     "metadata": {},
     "output_type": "display_data"
    },
    {
     "data": {
      "text/markdown": [
       "- **Avg Power/Toughness:** 1.2/1.8"
      ],
      "text/plain": [
       "<IPython.core.display.Markdown object>"
      ]
     },
     "metadata": {},
     "output_type": "display_data"
    },
    {
     "data": {
      "text/markdown": [
       "- **Creature Theme Alignment:** 0.0"
      ],
      "text/plain": [
       "<IPython.core.display.Markdown object>"
      ]
     },
     "metadata": {},
     "output_type": "display_data"
    },
    {
     "data": {
      "text/markdown": [
       "### 28. Blue Tempo"
      ],
      "text/plain": [
       "<IPython.core.display.Markdown object>"
      ]
     },
     "metadata": {},
     "output_type": "display_data"
    },
    {
     "data": {
      "text/markdown": [
       "- **Overall Score: 1.8/100**"
      ],
      "text/plain": [
       "<IPython.core.display.Markdown object>"
      ]
     },
     "metadata": {},
     "output_type": "display_data"
    },
    {
     "data": {
      "text/markdown": [
       "- **Expected Themes:** Tempo"
      ],
      "text/plain": [
       "<IPython.core.display.Markdown object>"
      ]
     },
     "metadata": {},
     "output_type": "display_data"
    },
    {
     "data": {
      "text/markdown": [
       "- **Theme Match Score:** 3.1"
      ],
      "text/plain": [
       "<IPython.core.display.Markdown object>"
      ]
     },
     "metadata": {},
     "output_type": "display_data"
    },
    {
     "data": {
      "text/markdown": [
       "- **Color Coherence:** 100.0%"
      ],
      "text/plain": [
       "<IPython.core.display.Markdown object>"
      ]
     },
     "metadata": {},
     "output_type": "display_data"
    },
    {
     "data": {
      "text/markdown": [
       "- **Avg Power/Toughness:** 2.1/1.8"
      ],
      "text/plain": [
       "<IPython.core.display.Markdown object>"
      ]
     },
     "metadata": {},
     "output_type": "display_data"
    },
    {
     "data": {
      "text/markdown": [
       "- **Creature Theme Alignment:** 0.0"
      ],
      "text/plain": [
       "<IPython.core.display.Markdown object>"
      ]
     },
     "metadata": {},
     "output_type": "display_data"
    },
    {
     "data": {
      "text/markdown": [
       "### 29. Blue Card Draw"
      ],
      "text/plain": [
       "<IPython.core.display.Markdown object>"
      ]
     },
     "metadata": {},
     "output_type": "display_data"
    },
    {
     "data": {
      "text/markdown": [
       "- **Overall Score: 1.8/100**"
      ],
      "text/plain": [
       "<IPython.core.display.Markdown object>"
      ]
     },
     "metadata": {},
     "output_type": "display_data"
    },
    {
     "data": {
      "text/markdown": [
       "- **Expected Themes:** Card Draw"
      ],
      "text/plain": [
       "<IPython.core.display.Markdown object>"
      ]
     },
     "metadata": {},
     "output_type": "display_data"
    },
    {
     "data": {
      "text/markdown": [
       "- **Theme Match Score:** 3.1"
      ],
      "text/plain": [
       "<IPython.core.display.Markdown object>"
      ]
     },
     "metadata": {},
     "output_type": "display_data"
    },
    {
     "data": {
      "text/markdown": [
       "- **Color Coherence:** 100.0%"
      ],
      "text/plain": [
       "<IPython.core.display.Markdown object>"
      ]
     },
     "metadata": {},
     "output_type": "display_data"
    },
    {
     "data": {
      "text/markdown": [
       "- **Avg Power/Toughness:** 2.2/2.0"
      ],
      "text/plain": [
       "<IPython.core.display.Markdown object>"
      ]
     },
     "metadata": {},
     "output_type": "display_data"
    },
    {
     "data": {
      "text/markdown": [
       "- **Creature Theme Alignment:** 0.0"
      ],
      "text/plain": [
       "<IPython.core.display.Markdown object>"
      ]
     },
     "metadata": {},
     "output_type": "display_data"
    },
    {
     "data": {
      "text/markdown": [
       "### 30. Red Small Creatures"
      ],
      "text/plain": [
       "<IPython.core.display.Markdown object>"
      ]
     },
     "metadata": {},
     "output_type": "display_data"
    },
    {
     "data": {
      "text/markdown": [
       "- **Overall Score: 1.8/100**"
      ],
      "text/plain": [
       "<IPython.core.display.Markdown object>"
      ]
     },
     "metadata": {},
     "output_type": "display_data"
    },
    {
     "data": {
      "text/markdown": [
       "- **Expected Themes:** Small Creatures"
      ],
      "text/plain": [
       "<IPython.core.display.Markdown object>"
      ]
     },
     "metadata": {},
     "output_type": "display_data"
    },
    {
     "data": {
      "text/markdown": [
       "- **Theme Match Score:** 2.9"
      ],
      "text/plain": [
       "<IPython.core.display.Markdown object>"
      ]
     },
     "metadata": {},
     "output_type": "display_data"
    },
    {
     "data": {
      "text/markdown": [
       "- **Color Coherence:** 100.0%"
      ],
      "text/plain": [
       "<IPython.core.display.Markdown object>"
      ]
     },
     "metadata": {},
     "output_type": "display_data"
    },
    {
     "data": {
      "text/markdown": [
       "- **Avg Power/Toughness:** 1.7/1.4"
      ],
      "text/plain": [
       "<IPython.core.display.Markdown object>"
      ]
     },
     "metadata": {},
     "output_type": "display_data"
    },
    {
     "data": {
      "text/markdown": [
       "- **Creature Theme Alignment:** 0.0"
      ],
      "text/plain": [
       "<IPython.core.display.Markdown object>"
      ]
     },
     "metadata": {},
     "output_type": "display_data"
    }
   ],
   "source": [
    "from src.coherence import display_coherence_analysis_enhanced\n",
    "\n",
    "\n",
    "display_coherence_analysis_enhanced(analyze_deck_theme_coherence_enhanced(cube_df, oracle_df))"
   ]
  },
  {
   "cell_type": "code",
   "execution_count": 23,
   "id": "eae2de01",
   "metadata": {},
   "outputs": [
    {
     "name": "stdout",
     "output_type": "stream",
     "text": [
      "=== BLACK GRAVEYARD DECK CARDS ===\n",
      "Total cards: 13\n",
      "\n",
      "Tortured Existence (CMC 1) - Enchantment\n",
      "  Oracle Text: {B}, Discard a creature card: Return target creature card from your graveyard to your hand.\n",
      "\n",
      "Unearth (CMC 1) - Sorcery\n",
      "  Oracle Text: Return target creature card with mana value 3 or less from your graveyard to the battlefield. | Cycling {2} ({2}, Discard this card: Draw a card.)\n",
      "\n",
      "Faceless Butcher (CMC 4) - Creature - Nightmare Horror\n",
      "  Power/Toughness: 2.0/3.0\n",
      "  Oracle Text: When this creature enters, exile another target creature. | When this creature leaves the battlefield, return the exiled card to the battlefield under its owner's control.\n",
      "\n",
      "First-Sphere Gargantua (CMC 6) - Creature - Horror\n",
      "  Power/Toughness: 5.0/4.0\n",
      "  Oracle Text: When this creature enters, you draw a card and you lose 1 life. | Unearth {2}{B} ({2}{B}: Return this card from your graveyard to the battlefield. It gains haste. Exile it at the beginning of the next end step or if it would leave the battlefield. Unearth only as a sorcery.)\n",
      "\n",
      "Grim Bauble (CMC 1) - Artifact\n",
      "  Oracle Text: When this artifact enters, target creature an opponent controls gets -2/-2 until end of turn. | {2}{B}, {T}, Sacrifice this artifact: Surveil 2. (Look at the top two cards of your library, then put any number of them into your graveyard and the rest on top of your library in any order.)\n",
      "\n",
      "Gurmag Angler (CMC 7) - Creature - Zombie Fish\n",
      "  Power/Toughness: 5.0/5.0\n",
      "  Oracle Text: Delve (Each card you exile from your graveyard while casting this spell pays for {1}.)\n",
      "\n",
      "Nested Shambler (CMC 1) - Creature - Zombie\n",
      "  Power/Toughness: 1.0/1.0\n",
      "  Oracle Text: When this creature dies, create X tapped 1/1 green Squirrel creature tokens, where X is this creature's power.\n",
      "\n",
      "Putrid Goblin (CMC 2) - Creature - Zombie Goblin\n",
      "  Power/Toughness: 2.0/2.0\n",
      "  Oracle Text: Persist (When this creature dies, if it had no -1/-1 counters on it, return it to the battlefield under its owner's control with a -1/-1 counter on it.)\n",
      "\n",
      "Disfigure (CMC 1) - Instant\n",
      "  Oracle Text: Target creature gets -2/-2 until end of turn.\n",
      "\n",
      "Dread Return (CMC 4) - Sorcery\n",
      "  Oracle Text: Return target creature card from your graveyard to the battlefield. | Flashback—Sacrifice three creatures. (You may cast this card from your graveyard for its flashback cost. Then exile it.)\n",
      "\n",
      "Mire Triton (CMC 2) - Creature - Zombie Merfolk\n",
      "  Power/Toughness: 2.0/1.0\n",
      "  Oracle Text: Deathtouch | When this creature enters, mill two cards and you gain 2 life. (To mill a card, put the top card of your library into your graveyard.)\n",
      "\n",
      "Retrofitted Transmogrant (CMC 1) - Artifact Creature - Zombie\n",
      "  Power/Toughness: 1.0/1.0\n",
      "  Oracle Text: {3}{B}: Return this card from your graveyard to the battlefield tapped with two +1/+1 counters on it.\n",
      "\n",
      "Thorn of the Black Rose (CMC 4) - Creature - Human Assassin\n",
      "  Power/Toughness: nan/nan\n",
      "  Oracle Text: nan\n",
      "\n",
      "\n",
      "==================================================\n",
      "DETAILED COHERENCE ANALYSIS\n",
      "==================================================\n"
     ]
    },
    {
     "data": {
      "text/markdown": [
       "# Enhanced Analysis: Black Graveyard"
      ],
      "text/plain": [
       "<IPython.core.display.Markdown object>"
      ]
     },
     "metadata": {},
     "output_type": "display_data"
    },
    {
     "data": {
      "text/markdown": [
       "**Overall Coherence Score: 1.8/100**"
      ],
      "text/plain": [
       "<IPython.core.display.Markdown object>"
      ]
     },
     "metadata": {},
     "output_type": "display_data"
    },
    {
     "data": {
      "text/markdown": [
       "## Theme Analysis"
      ],
      "text/plain": [
       "<IPython.core.display.Markdown object>"
      ]
     },
     "metadata": {},
     "output_type": "display_data"
    },
    {
     "data": {
      "text/markdown": [
       "**Expected Themes:** Graveyard"
      ],
      "text/plain": [
       "<IPython.core.display.Markdown object>"
      ]
     },
     "metadata": {},
     "output_type": "display_data"
    },
    {
     "data": {
      "text/markdown": [
       "**Theme Match Score:** 2.5"
      ],
      "text/plain": [
       "<IPython.core.display.Markdown object>"
      ]
     },
     "metadata": {},
     "output_type": "display_data"
    },
    {
     "data": {
      "text/markdown": [
       "## Creature Statistics"
      ],
      "text/plain": [
       "<IPython.core.display.Markdown object>"
      ]
     },
     "metadata": {},
     "output_type": "display_data"
    },
    {
     "data": {
      "text/markdown": [
       "**Total Creatures:** 8 (61.5% of deck)"
      ],
      "text/plain": [
       "<IPython.core.display.Markdown object>"
      ]
     },
     "metadata": {},
     "output_type": "display_data"
    },
    {
     "data": {
      "text/markdown": [
       "**Average Power/Toughness:** 2.2/2.1"
      ],
      "text/plain": [
       "<IPython.core.display.Markdown object>"
      ]
     },
     "metadata": {},
     "output_type": "display_data"
    },
    {
     "data": {
      "text/markdown": [
       "**Total Power/Toughness:** 18/17"
      ],
      "text/plain": [
       "<IPython.core.display.Markdown object>"
      ]
     },
     "metadata": {},
     "output_type": "display_data"
    },
    {
     "data": {
      "text/markdown": [
       "**Creature Theme Alignment Score:** 0.0"
      ],
      "text/plain": [
       "<IPython.core.display.Markdown object>"
      ]
     },
     "metadata": {},
     "output_type": "display_data"
    },
    {
     "data": {
      "text/markdown": [
       "### Creature Categories:"
      ],
      "text/plain": [
       "<IPython.core.display.Markdown object>"
      ]
     },
     "metadata": {},
     "output_type": "display_data"
    },
    {
     "data": {
      "text/markdown": [
       "- **Small (≤2 power):** 6 creatures"
      ],
      "text/plain": [
       "<IPython.core.display.Markdown object>"
      ]
     },
     "metadata": {},
     "output_type": "display_data"
    },
    {
     "data": {
      "text/markdown": [
       "- **Medium (3-4 power):** 0 creatures"
      ],
      "text/plain": [
       "<IPython.core.display.Markdown object>"
      ]
     },
     "metadata": {},
     "output_type": "display_data"
    },
    {
     "data": {
      "text/markdown": [
       "- **Large (≥5 power):** 2 creatures"
      ],
      "text/plain": [
       "<IPython.core.display.Markdown object>"
      ]
     },
     "metadata": {},
     "output_type": "display_data"
    },
    {
     "data": {
      "text/markdown": [
       "- **Evasive abilities:** 0 creatures"
      ],
      "text/plain": [
       "<IPython.core.display.Markdown object>"
      ]
     },
     "metadata": {},
     "output_type": "display_data"
    },
    {
     "data": {
      "text/markdown": [
       "- **Utility abilities:** 5 creatures"
      ],
      "text/plain": [
       "<IPython.core.display.Markdown object>"
      ]
     },
     "metadata": {},
     "output_type": "display_data"
    },
    {
     "data": {
      "text/markdown": [
       "**Power Distribution:** 0: 1, 1: 2, 2: 3, 5: 2"
      ],
      "text/plain": [
       "<IPython.core.display.Markdown object>"
      ]
     },
     "metadata": {},
     "output_type": "display_data"
    },
    {
     "data": {
      "text/markdown": [
       "### Creature Details:"
      ],
      "text/plain": [
       "<IPython.core.display.Markdown object>"
      ]
     },
     "metadata": {},
     "output_type": "display_data"
    },
    {
     "data": {
      "text/markdown": [
       "- **Faceless Butcher** (2/3) - small, utility"
      ],
      "text/plain": [
       "<IPython.core.display.Markdown object>"
      ]
     },
     "metadata": {},
     "output_type": "display_data"
    },
    {
     "data": {
      "text/markdown": [
       "- **First-Sphere Gargantua** (5/4) - large, utility"
      ],
      "text/plain": [
       "<IPython.core.display.Markdown object>"
      ]
     },
     "metadata": {},
     "output_type": "display_data"
    },
    {
     "data": {
      "text/markdown": [
       "- **Gurmag Angler** (5/5) - large"
      ],
      "text/plain": [
       "<IPython.core.display.Markdown object>"
      ]
     },
     "metadata": {},
     "output_type": "display_data"
    },
    {
     "data": {
      "text/markdown": [
       "- **Nested Shambler** (1/1) - small, utility"
      ],
      "text/plain": [
       "<IPython.core.display.Markdown object>"
      ]
     },
     "metadata": {},
     "output_type": "display_data"
    },
    {
     "data": {
      "text/markdown": [
       "- **Putrid Goblin** (2/2) - small, utility"
      ],
      "text/plain": [
       "<IPython.core.display.Markdown object>"
      ]
     },
     "metadata": {},
     "output_type": "display_data"
    },
    {
     "data": {
      "text/markdown": [
       "- **Mire Triton** (2/1) - small, utility"
      ],
      "text/plain": [
       "<IPython.core.display.Markdown object>"
      ]
     },
     "metadata": {},
     "output_type": "display_data"
    },
    {
     "data": {
      "text/markdown": [
       "- **Retrofitted Transmogrant** (1/1) - small"
      ],
      "text/plain": [
       "<IPython.core.display.Markdown object>"
      ]
     },
     "metadata": {},
     "output_type": "display_data"
    },
    {
     "data": {
      "text/markdown": [
       "- **Thorn of the Black Rose** (0/0) - small"
      ],
      "text/plain": [
       "<IPython.core.display.Markdown object>"
      ]
     },
     "metadata": {},
     "output_type": "display_data"
    },
    {
     "data": {
      "text/markdown": [
       "## Color Analysis"
      ],
      "text/plain": [
       "<IPython.core.display.Markdown object>"
      ]
     },
     "metadata": {},
     "output_type": "display_data"
    },
    {
     "data": {
      "text/markdown": [
       "**Deck Colors:** B"
      ],
      "text/plain": [
       "<IPython.core.display.Markdown object>"
      ]
     },
     "metadata": {},
     "output_type": "display_data"
    },
    {
     "data": {
      "text/markdown": [
       "**Color Coherence:** 100.0%"
      ],
      "text/plain": [
       "<IPython.core.display.Markdown object>"
      ]
     },
     "metadata": {},
     "output_type": "display_data"
    },
    {
     "data": {
      "text/markdown": [
       "## Mana Curve Analysis"
      ],
      "text/plain": [
       "<IPython.core.display.Markdown object>"
      ]
     },
     "metadata": {},
     "output_type": "display_data"
    },
    {
     "data": {
      "text/markdown": [
       "**Mana Curve Score:** 86.2%"
      ],
      "text/plain": [
       "<IPython.core.display.Markdown object>"
      ]
     },
     "metadata": {},
     "output_type": "display_data"
    },
    {
     "data": {
      "text/markdown": [
       "**Curve Distribution:**"
      ],
      "text/plain": [
       "<IPython.core.display.Markdown object>"
      ]
     },
     "metadata": {},
     "output_type": "display_data"
    },
    {
     "data": {
      "text/markdown": [
       "- CMC 1: 6 cards"
      ],
      "text/plain": [
       "<IPython.core.display.Markdown object>"
      ]
     },
     "metadata": {},
     "output_type": "display_data"
    },
    {
     "data": {
      "text/markdown": [
       "- CMC 2: 2 cards"
      ],
      "text/plain": [
       "<IPython.core.display.Markdown object>"
      ]
     },
     "metadata": {},
     "output_type": "display_data"
    },
    {
     "data": {
      "text/markdown": [
       "- CMC 4: 3 cards"
      ],
      "text/plain": [
       "<IPython.core.display.Markdown object>"
      ]
     },
     "metadata": {},
     "output_type": "display_data"
    },
    {
     "data": {
      "text/markdown": [
       "- CMC 6: 1 cards"
      ],
      "text/plain": [
       "<IPython.core.display.Markdown object>"
      ]
     },
     "metadata": {},
     "output_type": "display_data"
    },
    {
     "data": {
      "text/markdown": [
       "- CMC 7: 1 cards"
      ],
      "text/plain": [
       "<IPython.core.display.Markdown object>"
      ]
     },
     "metadata": {},
     "output_type": "display_data"
    },
    {
     "data": {
      "text/markdown": [
       "## Improvement Recommendations"
      ],
      "text/plain": [
       "<IPython.core.display.Markdown object>"
      ]
     },
     "metadata": {},
     "output_type": "display_data"
    },
    {
     "data": {
      "text/markdown": [
       "- 👹 **Creature Synergy**: Creature stats don't align well with deck themes"
      ],
      "text/plain": [
       "<IPython.core.display.Markdown object>"
      ]
     },
     "metadata": {},
     "output_type": "display_data"
    }
   ],
   "source": [
    "# Analyze the specific Black Graveyard deck\n",
    "from src.coherence import analyze_specific_deck_enhanced\n",
    "\n",
    "# First, let's see the cards in the Black Graveyard deck\n",
    "black_graveyard_cards = cube_df[cube_df['Tags'] == 'Black Graveyard']\n",
    "print(\"=== BLACK GRAVEYARD DECK CARDS ===\")\n",
    "print(f\"Total cards: {len(black_graveyard_cards)}\")\n",
    "print()\n",
    "\n",
    "for idx, card in black_graveyard_cards.iterrows():\n",
    "    card_name = card['Name']\n",
    "    card_type = card['Type']\n",
    "    card_cmc = card['CMC']\n",
    "    \n",
    "    # Find oracle information\n",
    "    oracle_info = oracle_df[oracle_df['name'] == card_name]\n",
    "    if not oracle_info.empty:\n",
    "        oracle_text = oracle_info.iloc[0]['Oracle Text']\n",
    "        power = oracle_info.iloc[0].get('Power', 'N/A')\n",
    "        toughness = oracle_info.iloc[0].get('Toughness', 'N/A')\n",
    "        print(f\"{card_name} (CMC {card_cmc}) - {card_type}\")\n",
    "        if 'Creature' in card_type and power != 'N/A':\n",
    "            print(f\"  Power/Toughness: {power}/{toughness}\")\n",
    "        print(f\"  Oracle Text: {oracle_text}\")\n",
    "        print()\n",
    "    else:\n",
    "        print(f\"{card_name} (CMC {card_cmc}) - {card_type} [No oracle data]\")\n",
    "        print()\n",
    "\n",
    "# Now let's run the detailed analysis\n",
    "print(\"\\n\" + \"=\"*50)\n",
    "print(\"DETAILED COHERENCE ANALYSIS\")\n",
    "print(\"=\"*50)\n",
    "analyze_specific_deck_enhanced('Black Graveyard', cube_df, oracle_df, coherence)"
   ]
  },
  {
   "cell_type": "code",
   "execution_count": 24,
   "id": "704b657c",
   "metadata": {},
   "outputs": [
    {
     "name": "stdout",
     "output_type": "stream",
     "text": [
      "=== ANALYZING BLACK GRAVEYARD SCORING ISSUES ===\n",
      "\n",
      "Graveyard theme keywords: ['graveyard', 'discard', 'mill', 'milling', 'return', 'flashback', 'delve', 'unearth', 'threshold', 'delirium', 'undergrowth', 'escape', 'embalm', 'eternalize', 'reanimator', 'necromancy', 'from.*graveyard', 'to.*graveyard', 'exile.*graveyard', 'creature.*graveyard', 'zombie', 'horror', 'skeleton', 'spirit', 'dies', 'when.*enters', 'sacrifice']\n",
      "\n",
      "=== INDIVIDUAL CARD SCORING ===\n",
      "Card: Tortured Existence\n",
      "  Score: 3\n",
      "  Matching themes: ['Graveyard']\n",
      "  Oracle text: {b}, discard a creature card: return target creature card from your graveyard to your hand.\n",
      "  Manual keyword matches: ['graveyard', 'discard', 'return']\n",
      "\n",
      "Card: Unearth\n",
      "  Score: 4\n",
      "  Matching themes: ['Graveyard']\n",
      "  Oracle text: return target creature card with mana value 3 or less from your graveyard to the battlefield. | cycling {2} ({2}, discard this card: draw a card.)\n",
      "  Manual keyword matches: ['graveyard', 'discard', 'return', 'unearth']\n",
      "\n",
      "Card: Faceless Butcher\n",
      "  Score: 2\n",
      "  Matching themes: ['Graveyard']\n",
      "  Oracle text: when this creature enters, exile another target creature. | when this creature leaves the battlefield, return the exiled card to the battlefield under its owner's control.\n",
      "  Manual keyword matches: ['return']\n",
      "\n",
      "Card: First-Sphere Gargantua\n",
      "  Score: 4\n",
      "  Matching themes: ['Graveyard']\n",
      "  Oracle text: when this creature enters, you draw a card and you lose 1 life. | unearth {2}{b} ({2}{b}: return this card from your graveyard to the battlefield. it gains haste. exile it at the beginning of the next end step or if it would leave the battlefield. unearth only as a sorcery.)\n",
      "  Manual keyword matches: ['graveyard', 'return', 'unearth']\n",
      "\n",
      "Card: Grim Bauble\n",
      "  Score: 2\n",
      "  Matching themes: ['Graveyard']\n",
      "  Oracle text: when this artifact enters, target creature an opponent controls gets -2/-2 until end of turn. | {2}{b}, {t}, sacrifice this artifact: surveil 2. (look at the top two cards of your library, then put any number of them into your graveyard and the rest on top of your library in any order.)\n",
      "  Manual keyword matches: ['graveyard', 'sacrifice']\n",
      "\n",
      "Card: Gurmag Angler\n",
      "  Score: 3\n",
      "  Matching themes: ['Graveyard']\n",
      "  Oracle text: delve (each card you exile from your graveyard while casting this spell pays for {1}.)\n",
      "  Manual keyword matches: ['graveyard', 'delve']\n",
      "\n",
      "Card: Nested Shambler\n",
      "  Score: 2\n",
      "  Matching themes: ['Graveyard']\n",
      "  Oracle text: when this creature dies, create x tapped 1/1 green squirrel creature tokens, where x is this creature's power.\n",
      "  Manual keyword matches: ['dies']\n",
      "\n",
      "Card: Putrid Goblin\n",
      "  Score: 3\n",
      "  Matching themes: ['Graveyard']\n",
      "  Oracle text: persist (when this creature dies, if it had no -1/-1 counters on it, return it to the battlefield under its owner's control with a -1/-1 counter on it.)\n",
      "  Manual keyword matches: ['return', 'dies']\n",
      "\n",
      "Card: Disfigure\n",
      "  Score: 0\n",
      "  Matching themes: ['Graveyard']\n",
      "  Oracle text: target creature gets -2/-2 until end of turn.\n",
      "  Manual keyword matches: []\n",
      "\n",
      "Card: Dread Return\n",
      "  Score: 4\n",
      "  Matching themes: ['Graveyard']\n",
      "  Oracle text: return target creature card from your graveyard to the battlefield. | flashback—sacrifice three creatures. (you may cast this card from your graveyard for its flashback cost. then exile it.)\n",
      "  Manual keyword matches: ['graveyard', 'return', 'flashback', 'sacrifice']\n",
      "\n",
      "Card: Mire Triton\n",
      "  Score: 3\n",
      "  Matching themes: ['Graveyard']\n",
      "  Oracle text: deathtouch | when this creature enters, mill two cards and you gain 2 life. (to mill a card, put the top card of your library into your graveyard.)\n",
      "  Manual keyword matches: ['graveyard', 'mill']\n",
      "\n",
      "Card: Retrofitted Transmogrant\n",
      "  Score: 3\n",
      "  Matching themes: ['Graveyard']\n",
      "  Oracle text: {3}{b}: return this card from your graveyard to the battlefield tapped with two +1/+1 counters on it.\n",
      "  Manual keyword matches: ['graveyard', 'return']\n",
      "\n",
      "Card: Thorn of the Black Rose\n",
      "  Score: 0\n",
      "  Matching themes: ['Graveyard']\n",
      "  Oracle text: nan\n",
      "  Manual keyword matches: []\n",
      "\n",
      "Total theme score: 33\n",
      "Average theme score: 2.54\n",
      "\n",
      "=== OVERALL COHERENCE CALCULATION ===\n",
      "Theme score component: 2.54 * 0.6 = 1.52\n",
      "Color coherence component: 1.00 * 0.1 = 0.10\n",
      "Curve score component: 0.86 * 0.15 = 0.13\n",
      "Creature theme component: 0.00 * 0.15 = 0.00\n",
      "Total calculated score: 1.75\n",
      "Actual coherence score: 1.75\n",
      "Difference: 0.00\n",
      "\n",
      "=== ANALYSIS CONCLUSION ===\n",
      "The Black Graveyard deck IS actually thematically coherent!\n",
      "Many cards have strong graveyard synergies:\n",
      "- Tortured Existence: graveyard/discard engine\n",
      "- Unearth: return from graveyard\n",
      "- First-Sphere Gargantua: has unearth\n",
      "- Gurmag Angler: has delve (graveyard resource)\n",
      "- Dread Return: return from graveyard\n",
      "- Mire Triton: mills cards\n",
      "- Retrofitted Transmogrant: returns from graveyard\n",
      "- Putrid Goblin: persist (dies trigger)\n",
      "\n",
      "The low score appears to be due to:\n",
      "1. Very strict keyword matching that might miss some nuanced graveyard text\n",
      "2. Heavy weight on creature theme alignment (0.15) which is 0 for this deck\n",
      "3. The theme scoring might not be capturing all graveyard synergies properly\n"
     ]
    }
   ],
   "source": [
    "# Let's manually analyze why Black Graveyard is scoring so low\n",
    "from src.deck import calculate_card_theme_score\n",
    "from src.consts import theme_keywords\n",
    "\n",
    "print(\"=== ANALYZING BLACK GRAVEYARD SCORING ISSUES ===\")\n",
    "print()\n",
    "\n",
    "# Check graveyard theme keywords\n",
    "print(\"Graveyard theme keywords:\", theme_keywords['Graveyard'])\n",
    "print()\n",
    "\n",
    "# Analyze each card in the Black Graveyard deck\n",
    "black_graveyard_cards = cube_df[cube_df['Tags'] == 'Black Graveyard']\n",
    "total_theme_score = 0\n",
    "card_count = 0\n",
    "\n",
    "print(\"=== INDIVIDUAL CARD SCORING ===\")\n",
    "for idx, card in black_graveyard_cards.iterrows():\n",
    "    card_name = card['Name']\n",
    "    oracle_info = oracle_df[oracle_df['name'] == card_name]\n",
    "    \n",
    "    if not oracle_info.empty:\n",
    "        oracle_card = oracle_info.iloc[0]\n",
    "        score, matching_themes = calculate_card_theme_score(oracle_card, ['Graveyard'])\n",
    "        total_theme_score += score\n",
    "        card_count += 1\n",
    "        \n",
    "        oracle_text = str(oracle_card['Oracle Text']).lower()\n",
    "        print(f\"Card: {card_name}\")\n",
    "        print(f\"  Score: {score}\")\n",
    "        print(f\"  Matching themes: {matching_themes}\")\n",
    "        print(f\"  Oracle text: {oracle_text}\")\n",
    "        \n",
    "        # Check manually which keywords match\n",
    "        graveyard_keywords = theme_keywords['Graveyard']\n",
    "        manual_matches = []\n",
    "        for keyword in graveyard_keywords:\n",
    "            if keyword in oracle_text or keyword in card_name.lower():\n",
    "                manual_matches.append(keyword)\n",
    "        print(f\"  Manual keyword matches: {manual_matches}\")\n",
    "        print()\n",
    "\n",
    "print(f\"Total theme score: {total_theme_score}\")\n",
    "print(f\"Average theme score: {total_theme_score / card_count if card_count > 0 else 0:.2f}\")\n",
    "print()\n",
    "\n",
    "# Let's also check the overall coherence calculation manually\n",
    "print(\"=== OVERALL COHERENCE CALCULATION ===\")\n",
    "theme_score = total_theme_score / card_count if card_count > 0 else 0\n",
    "color_coherence = 1.0  # 100% - all cards are black\n",
    "curve_score = 0.862  # From the analysis above\n",
    "creature_theme_score = 0.0  # From the analysis above\n",
    "\n",
    "overall_score = (\n",
    "    theme_score * 0.6 + \n",
    "    color_coherence * 0.1 + \n",
    "    curve_score * 0.15 + \n",
    "    creature_theme_score * 0.15\n",
    ")\n",
    "\n",
    "print(f\"Theme score component: {theme_score:.2f} * 0.6 = {theme_score * 0.6:.2f}\")\n",
    "print(f\"Color coherence component: {color_coherence:.2f} * 0.1 = {color_coherence * 0.1:.2f}\")\n",
    "print(f\"Curve score component: {curve_score:.2f} * 0.15 = {curve_score * 0.15:.2f}\")\n",
    "print(f\"Creature theme component: {creature_theme_score:.2f} * 0.15 = {creature_theme_score * 0.15:.2f}\")\n",
    "print(f\"Total calculated score: {overall_score:.2f}\")\n",
    "\n",
    "# Compare with actual result\n",
    "actual_coherence = coherence['Black Graveyard']['overall_coherence']\n",
    "print(f\"Actual coherence score: {actual_coherence:.2f}\")\n",
    "print(f\"Difference: {abs(overall_score - actual_coherence):.2f}\")\n",
    "print()\n",
    "\n",
    "print(\"=== ANALYSIS CONCLUSION ===\")\n",
    "print(\"The Black Graveyard deck IS actually thematically coherent!\")\n",
    "print(\"Many cards have strong graveyard synergies:\")\n",
    "print(\"- Tortured Existence: graveyard/discard engine\")\n",
    "print(\"- Unearth: return from graveyard\")\n",
    "print(\"- First-Sphere Gargantua: has unearth\")\n",
    "print(\"- Gurmag Angler: has delve (graveyard resource)\")\n",
    "print(\"- Dread Return: return from graveyard\")\n",
    "print(\"- Mire Triton: mills cards\")\n",
    "print(\"- Retrofitted Transmogrant: returns from graveyard\")\n",
    "print(\"- Putrid Goblin: persist (dies trigger)\")\n",
    "print()\n",
    "print(\"The low score appears to be due to:\")\n",
    "print(\"1. Very strict keyword matching that might miss some nuanced graveyard text\")\n",
    "print(\"2. Heavy weight on creature theme alignment (0.15) which is 0 for this deck\")\n",
    "print(\"3. The theme scoring might not be capturing all graveyard synergies properly\")"
   ]
  },
  {
   "cell_type": "code",
   "execution_count": 25,
   "id": "20f46454",
   "metadata": {},
   "outputs": [
    {
     "name": "stdout",
     "output_type": "stream",
     "text": [
      "=== TESTING IMPROVED CREATURE THEME ALIGNMENT ===\n",
      "\n",
      "Original creature theme alignment: 0.0\n",
      "Improved creature theme alignment: 3.50\n",
      "\n",
      "=== COMPARISON ACROSS DIFFERENT DECKS ===\n",
      "Black Graveyard:\n",
      "  Expected themes: ['Graveyard']\n",
      "  Original score: 0.00\n",
      "  Improved score: 3.50\n",
      "  Improvement: +3.50\n",
      "\n",
      "Azorius Evasion/Flying:\n",
      "  Expected themes: ['Control', 'Flying']\n",
      "  Original score: 1.32\n",
      "  Improved score: 6.30\n",
      "  Improvement: +4.98\n",
      "\n",
      "Green Big Creatures:\n",
      "  Expected themes: ['Big Creatures']\n",
      "  Original score: 0.40\n",
      "  Improved score: 2.03\n",
      "  Improvement: +1.63\n",
      "\n",
      "Boros Aggro/Beatdown:\n",
      "  Expected themes: ['Beatdown', 'Aggro', 'Equipment']\n",
      "  Original score: 1.62\n",
      "  Improved score: 1.89\n",
      "  Improvement: +0.27\n",
      "\n"
     ]
    }
   ],
   "source": [
    "# Let's create an improved creature theme alignment metric\n",
    "def calculate_improved_creature_theme_alignment(cards, expected_themes, oracle_df):\n",
    "    \"\"\"\n",
    "    Improved creature theme alignment that better recognizes synergistic creatures\n",
    "    and theme-specific value beyond just power/toughness\n",
    "    \"\"\"\n",
    "    if not expected_themes or expected_themes == ['Unknown']:\n",
    "        return 0.0\n",
    "    \n",
    "    creatures = []\n",
    "    total_alignment_score = 0.0\n",
    "    creature_count = 0\n",
    "    \n",
    "    # Define theme-specific creature evaluation criteria\n",
    "    theme_criteria = {\n",
    "        'Graveyard': {\n",
    "            'keywords': ['graveyard', 'mill', 'delve', 'unearth', 'flashback', 'dredge', 'threshold', \n",
    "                        'dies', 'sacrifice', 'discard', 'return', 'zombie', 'horror', 'skeleton',\n",
    "                        'persist', 'undergrowth', 'delirium', 'escape', 'embalm', 'eternalize'],\n",
    "            'abilities': ['enters', 'when', 'whenever', 'triggered abilities'],\n",
    "            'stats_matter': False,  # Power/toughness is less important than abilities\n",
    "            'utility_bonus': 2.0,   # High bonus for utility creatures\n",
    "            'evasion_bonus': 0.5    # Small bonus for evasion\n",
    "        },\n",
    "        'Aggro': {\n",
    "            'keywords': ['haste', 'first strike', 'double strike', 'menace', 'trample'],\n",
    "            'abilities': ['power', 'attack'],\n",
    "            'stats_matter': True,   # Power matters a lot\n",
    "            'utility_bonus': 0.5,   # Small bonus for utility\n",
    "            'evasion_bonus': 1.5,   # High bonus for evasion\n",
    "            'power_threshold': 2    # Want creatures with 2+ power\n",
    "        },\n",
    "        'Control': {\n",
    "            'keywords': ['flash', 'flying', 'vigilance', 'counter', 'destroy', 'exile', 'tap', 'untap'],\n",
    "            'abilities': ['enters', 'when', 'draw', 'search', 'bounce', 'removal'],\n",
    "            'stats_matter': False,  # Stats less important than utility\n",
    "            'utility_bonus': 2.0,   # High value on utility\n",
    "            'evasion_bonus': 1.0    # Moderate evasion value\n",
    "        },\n",
    "        'Flying': {\n",
    "            'keywords': ['flying', 'fly'],\n",
    "            'abilities': ['air', 'wing'],\n",
    "            'stats_matter': True,   # Both stats and flying matter\n",
    "            'utility_bonus': 1.0,\n",
    "            'evasion_bonus': 3.0,   # Flying is the main theme\n",
    "            'required_ability': 'flying'  # Must have flying for high score\n",
    "        },\n",
    "        'Big Creatures': {\n",
    "            'keywords': ['trample', 'vigilance'],\n",
    "            'abilities': ['power', 'toughness'],\n",
    "            'stats_matter': True,   # Power/toughness is primary\n",
    "            'utility_bonus': 0.5,\n",
    "            'evasion_bonus': 1.0,\n",
    "            'power_threshold': 4,   # Want 4+ power creatures\n",
    "            'size_bonus_multiplier': 0.2  # Bonus scales with size\n",
    "        },\n",
    "        'Tokens': {\n",
    "            'keywords': ['token', 'create', 'populate', 'convoke'],\n",
    "            'abilities': ['enters', 'when', 'dies', 'sacrifice'],\n",
    "            'stats_matter': False,  # Utility over stats\n",
    "            'utility_bonus': 2.0,\n",
    "            'evasion_bonus': 1.0,\n",
    "            'token_maker_bonus': 3.0  # High value for token generators\n",
    "        },\n",
    "        'Artifacts': {\n",
    "            'keywords': ['artifact', 'equipment', 'construct', 'servo'],\n",
    "            'abilities': ['enters', 'when', 'sacrifice'],\n",
    "            'stats_matter': False,\n",
    "            'utility_bonus': 1.5,\n",
    "            'evasion_bonus': 1.0,\n",
    "            'artifact_bonus': 2.0  # Bonus for being an artifact creature\n",
    "        },\n",
    "        'Sacrifice': {\n",
    "            'keywords': ['sacrifice', 'dies', 'death', 'token'],\n",
    "            'abilities': ['enters', 'when', 'create', 'dies'],\n",
    "            'stats_matter': False,\n",
    "            'utility_bonus': 2.0,\n",
    "            'evasion_bonus': 0.5,\n",
    "            'sacrifice_outlet_bonus': 2.5,  # High value for sac outlets\n",
    "            'death_trigger_bonus': 2.0      # High value for death triggers\n",
    "        }\n",
    "    }\n",
    "    \n",
    "    for _, card_row in cards.iterrows():\n",
    "        card_name = card_row['Name']\n",
    "        card_type = str(card_row['Type']).lower()\n",
    "        \n",
    "        # Only analyze creatures\n",
    "        if 'creature' not in card_type:\n",
    "            continue\n",
    "            \n",
    "        # Find in oracle\n",
    "        oracle_card = oracle_df[oracle_df['name'] == card_name]\n",
    "        if oracle_card.empty:\n",
    "            continue\n",
    "            \n",
    "        oracle_row = oracle_card.iloc[0]\n",
    "        power = oracle_row.get('Power', 0)\n",
    "        toughness = oracle_row.get('Toughness', 0)\n",
    "        oracle_text = str(oracle_row['Oracle Text']).lower()\n",
    "        \n",
    "        # Handle NaN values\n",
    "        if pd.isna(power):\n",
    "            power = 0\n",
    "        if pd.isna(toughness):\n",
    "            toughness = 0\n",
    "        \n",
    "        try:\n",
    "            power = float(power)\n",
    "            toughness = float(toughness)\n",
    "        except (ValueError, TypeError):\n",
    "            power = 0.0\n",
    "            toughness = 0.0\n",
    "        \n",
    "        creature_count += 1\n",
    "        creature_score = 0.0\n",
    "        \n",
    "        # Evaluate against each expected theme\n",
    "        for theme in expected_themes:\n",
    "            if theme not in theme_criteria:\n",
    "                continue\n",
    "                \n",
    "            criteria = theme_criteria[theme]\n",
    "            theme_score = 0.0\n",
    "            \n",
    "            # Base keyword matching\n",
    "            keyword_matches = sum(1 for keyword in criteria['keywords'] \n",
    "                                if keyword in oracle_text or keyword in card_name.lower())\n",
    "            theme_score += keyword_matches\n",
    "            \n",
    "            # Ability keyword matching\n",
    "            ability_matches = sum(1 for ability in criteria['abilities']\n",
    "                                if ability in oracle_text)\n",
    "            theme_score += ability_matches * 0.5\n",
    "            \n",
    "            # Stats evaluation (if stats matter for this theme)\n",
    "            if criteria.get('stats_matter', False):\n",
    "                power_threshold = criteria.get('power_threshold', 0)\n",
    "                if power >= power_threshold:\n",
    "                    if 'size_bonus_multiplier' in criteria:\n",
    "                        theme_score += power * criteria['size_bonus_multiplier']\n",
    "                    else:\n",
    "                        theme_score += 1.0\n",
    "            \n",
    "            # Utility creature bonus\n",
    "            if any(word in oracle_text for word in ['enters', 'when', 'dies', 'draw', 'search', 'create']):\n",
    "                theme_score += criteria.get('utility_bonus', 0)\n",
    "            \n",
    "            # Evasion bonus\n",
    "            if any(word in oracle_text for word in ['flying', 'unblockable', 'menace', 'trample', 'shadow']):\n",
    "                theme_score += criteria.get('evasion_bonus', 0)\n",
    "            \n",
    "            # Theme-specific bonuses\n",
    "            if theme == 'Flying' and 'flying' in oracle_text:\n",
    "                theme_score += 2.0  # Extra bonus for actually having flying\n",
    "            elif theme == 'Tokens' and any(word in oracle_text for word in ['token', 'create']):\n",
    "                theme_score += criteria.get('token_maker_bonus', 0)\n",
    "            elif theme == 'Artifacts' and 'artifact' in card_type:\n",
    "                theme_score += criteria.get('artifact_bonus', 0)\n",
    "            elif theme == 'Sacrifice':\n",
    "                if 'sacrifice' in oracle_text and 'creature' in oracle_text:\n",
    "                    theme_score += criteria.get('sacrifice_outlet_bonus', 0)\n",
    "                if 'dies' in oracle_text:\n",
    "                    theme_score += criteria.get('death_trigger_bonus', 0)\n",
    "            \n",
    "            creature_score = max(creature_score, theme_score)\n",
    "        \n",
    "        total_alignment_score += creature_score\n",
    "    \n",
    "    # Return average alignment score per creature\n",
    "    return total_alignment_score / max(creature_count, 1)\n",
    "\n",
    "# Test the improved metric on Black Graveyard\n",
    "print(\"=== TESTING IMPROVED CREATURE THEME ALIGNMENT ===\")\n",
    "print()\n",
    "\n",
    "improved_score = calculate_improved_creature_theme_alignment(\n",
    "    black_graveyard_cards, ['Graveyard'], oracle_df\n",
    ")\n",
    "\n",
    "print(f\"Original creature theme alignment: 0.0\")\n",
    "print(f\"Improved creature theme alignment: {improved_score:.2f}\")\n",
    "print()\n",
    "\n",
    "# Let's test on a few other decks for comparison\n",
    "test_decks = ['Black Graveyard', 'Azorius Evasion/Flying', 'Green Big Creatures', 'Boros Aggro/Beatdown']\n",
    "\n",
    "print(\"=== COMPARISON ACROSS DIFFERENT DECKS ===\")\n",
    "for deck_name in test_decks:\n",
    "    if deck_name in coherence:\n",
    "        deck_cards = cube_df[cube_df['Tags'] == deck_name]\n",
    "        expected_themes = coherence[deck_name]['expected_themes']\n",
    "        \n",
    "        original_score = coherence[deck_name]['creature_stats']['theme_alignment_score']\n",
    "        improved_score = calculate_improved_creature_theme_alignment(deck_cards, expected_themes, oracle_df)\n",
    "        \n",
    "        print(f\"{deck_name}:\")\n",
    "        print(f\"  Expected themes: {expected_themes}\")\n",
    "        print(f\"  Original score: {original_score:.2f}\")\n",
    "        print(f\"  Improved score: {improved_score:.2f}\")\n",
    "        print(f\"  Improvement: {improved_score - original_score:+.2f}\")\n",
    "        print()"
   ]
  },
  {
   "cell_type": "code",
   "execution_count": 27,
   "id": "8506e029",
   "metadata": {},
   "outputs": [
    {
     "name": "stdout",
     "output_type": "stream",
     "text": [
      "=== TESTING IMPROVED OVERALL COHERENCE ANALYSIS ===\n",
      "\n",
      "BLACK GRAVEYARD COMPARISON:\n",
      "Original overall score: 1.75\n",
      "Improved overall score: 8.54\n",
      "Improvement: +6.79\n",
      "\n",
      "Score breakdown:\n",
      "Theme score: 2.54 (weight: 0.5)\n",
      "Color coherence: 1.00 (weight: 0.1)\n",
      "Mana curve: 0.86 (weight: 0.2)\n",
      "Creature theme: 3.50 -> 35.00 (weight: 0.2)\n",
      "\n",
      "TOP 5 DECKS (Improved Scoring):\n",
      "1. Simic Control: 12.04 (was 6.64, +5.40)\n",
      "2. Black Sacrifice: 11.87 (was 2.14, +9.73)\n",
      "3. Azorius Evasion/Flying: 11.55 (was 5.72, +5.83)\n",
      "4. Golgari Graveyard: 11.09 (was 2.27, +8.82)\n",
      "5. Rakdos Burn/Damage: 10.90 (was 5.47, +5.43)\n",
      "\n",
      "BOTTOM 5 DECKS (Improved Scoring):\n",
      "26. Green Ramp: 1.84 (was 2.09, -0.26)\n",
      "27. Blue Tempo: 1.83 (was 2.09, -0.26)\n",
      "28. Blue Card Draw: 1.82 (was 2.08, -0.26)\n",
      "29. Red Small Creatures: 1.75 (was 2.00, -0.24)\n",
      "30. Green Stompy: 1.20 (was 2.12, -0.91)\n",
      "\n",
      "Black Graveyard ranking: #10 (was #30)\n"
     ]
    }
   ],
   "source": [
    "# Now let's create an improved version of the overall coherence analysis\n",
    "from src.deck import calculate_card_theme_score, extract_theme_from_deck_name, get_deck_colour\n",
    "\n",
    "def analyze_deck_theme_coherence_improved(cube_df, oracle_df):\n",
    "    \"\"\"\n",
    "    Improved coherence analysis using the better creature theme alignment\n",
    "    \"\"\"\n",
    "    def calculate_theme_score(cards, expected_themes, oracle_df):\n",
    "        \"\"\"Calculate how well cards match expected themes\"\"\"\n",
    "        if not expected_themes or expected_themes == ['Unknown']:\n",
    "            return 0.0, []\n",
    "        \n",
    "        theme_matches = []\n",
    "        total_score = 0\n",
    "        \n",
    "        for _, card_row in cards.iterrows():\n",
    "            card_name = card_row['Name']\n",
    "            \n",
    "            # Find in oracle\n",
    "            oracle_card = oracle_df[oracle_df['name'] == card_name]\n",
    "            if oracle_card.empty:\n",
    "                continue\n",
    "                \n",
    "            card_score, matching_themes = calculate_card_theme_score(oracle_card.iloc[0], expected_themes)\n",
    "            \n",
    "            theme_matches.append({\n",
    "                'card': card_name,\n",
    "                'score': card_score,\n",
    "                'themes': matching_themes\n",
    "            })\n",
    "            total_score += card_score\n",
    "        \n",
    "        avg_score = total_score / len(cards) if len(cards) > 0 else 0\n",
    "        return avg_score, theme_matches\n",
    "\n",
    "    def calculate_color_coherence(cards, deck_colors, oracle_df):\n",
    "        \"\"\"Calculate color identity coherence\"\"\"\n",
    "        if not deck_colors:\n",
    "            return 0.0, []\n",
    "        \n",
    "        color_issues = []\n",
    "        coherent_cards = 0\n",
    "        total_cards = 0\n",
    "        \n",
    "        for _, card_row in cards.iterrows():\n",
    "            card_name = card_row['Name']\n",
    "            oracle_card = oracle_df[oracle_df['name'] == card_name]\n",
    "            \n",
    "            if oracle_card.empty:\n",
    "                color_issues.append(f\"{card_name}: Not found in oracle\")\n",
    "                continue\n",
    "            \n",
    "            card_color = oracle_card.iloc[0]['Color']\n",
    "            card_category = oracle_card.iloc[0]['Color Category']\n",
    "            \n",
    "            total_cards += 1\n",
    "            \n",
    "            # Colorless and artifacts are always coherent\n",
    "            if card_category in ['Colorless', 'Lands'] or pd.isna(card_color):\n",
    "                coherent_cards += 1\n",
    "                continue\n",
    "            \n",
    "            # Check if card colors fit deck colors\n",
    "            if isinstance(card_color, str) and isinstance(deck_colors, str):\n",
    "                card_color_set = set(card_color)\n",
    "                deck_color_set = set(deck_colors)\n",
    "                \n",
    "                if card_color_set.issubset(deck_color_set):\n",
    "                    coherent_cards += 1\n",
    "                else:\n",
    "                    color_issues.append(f\"{card_name}: {card_color} doesn't fit {deck_colors}\")\n",
    "        \n",
    "        coherence_ratio = coherent_cards / total_cards if total_cards > 0 else 0\n",
    "        return coherence_ratio, color_issues\n",
    "    \n",
    "    def calculate_mana_curve_coherence(cards):\n",
    "        \"\"\"Calculate mana curve distribution\"\"\"\n",
    "        curve = {}\n",
    "        for _, card_row in cards.iterrows():\n",
    "            cmc = card_row.get('CMC', 0)\n",
    "            if pd.isna(cmc):\n",
    "                cmc = 0\n",
    "            try:\n",
    "                cmc = int(cmc)\n",
    "            except (ValueError, TypeError):\n",
    "                cmc = 0\n",
    "            curve[cmc] = curve.get(cmc, 0) + 1\n",
    "        \n",
    "        # Calculate curve score\n",
    "        total_cards = sum(curve.values())\n",
    "        if total_cards == 0:\n",
    "            return 0.0, curve\n",
    "        \n",
    "        curve_score = 0\n",
    "        for cmc, count in curve.items():\n",
    "            if cmc <= 3:\n",
    "                curve_score += count * 1.0\n",
    "            elif cmc <= 5:\n",
    "                curve_score += count * 0.8\n",
    "            else:\n",
    "                curve_score += count * 0.4\n",
    "        \n",
    "        curve_ratio = curve_score / total_cards\n",
    "        return curve_ratio, curve\n",
    "    \n",
    "    # Analyze each deck\n",
    "    results = {}\n",
    "    decks = cube_df.groupby('Tags')\n",
    "    \n",
    "    for deck_name, deck_cards in decks:\n",
    "        # Determine deck colors\n",
    "        deck_colors = get_deck_colour(deck_name)\n",
    "        \n",
    "        # Extract expected themes\n",
    "        expected_themes = extract_theme_from_deck_name(deck_name)\n",
    "        \n",
    "        # Calculate scores\n",
    "        theme_score, theme_matches = calculate_theme_score(deck_cards, expected_themes, oracle_df)\n",
    "        color_coherence, color_issues = calculate_color_coherence(deck_cards, deck_colors, oracle_df)\n",
    "        curve_score, mana_curve = calculate_mana_curve_coherence(deck_cards)\n",
    "        \n",
    "        # Use improved creature theme alignment\n",
    "        improved_creature_score = calculate_improved_creature_theme_alignment(\n",
    "            deck_cards, expected_themes, oracle_df\n",
    "        )\n",
    "        \n",
    "        # Scale creature score to 0-100 range and cap at reasonable maximum\n",
    "        creature_theme_score = min(improved_creature_score * 10, 50)  # Cap at 50 to prevent over-weighting\n",
    "        \n",
    "        # Improved overall coherence score with better weighting\n",
    "        overall_score = (\n",
    "            theme_score * 0.5 +           # Reduced from 0.6 - main theme matching\n",
    "            color_coherence * 0.1 +       # Color coherence\n",
    "            curve_score * 0.2 +           # Increased from 0.15 - mana curve importance\n",
    "            creature_theme_score * 0.2    # Increased from 0.15 - creature synergy\n",
    "        )\n",
    "        \n",
    "        results[deck_name] = {\n",
    "            'expected_themes': expected_themes,\n",
    "            'theme_score': theme_score,\n",
    "            'theme_matches': theme_matches,\n",
    "            'color_coherence': color_coherence,\n",
    "            'color_issues': color_issues,\n",
    "            'mana_curve_score': curve_score,\n",
    "            'mana_curve': mana_curve,\n",
    "            'creature_theme_score': improved_creature_score,\n",
    "            'creature_theme_scaled': creature_theme_score,\n",
    "            'overall_coherence': overall_score,\n",
    "            'deck_colors': deck_colors,\n",
    "            'card_count': len(deck_cards)\n",
    "        }\n",
    "    \n",
    "    return results\n",
    "\n",
    "# Test the improved coherence analysis\n",
    "print(\"=== TESTING IMPROVED OVERALL COHERENCE ANALYSIS ===\")\n",
    "print()\n",
    "\n",
    "improved_coherence = analyze_deck_theme_coherence_improved(cube_df, oracle_df)\n",
    "\n",
    "# Compare Black Graveyard scores\n",
    "original_black = coherence['Black Graveyard']\n",
    "improved_black = improved_coherence['Black Graveyard']\n",
    "\n",
    "print(\"BLACK GRAVEYARD COMPARISON:\")\n",
    "print(f\"Original overall score: {original_black['overall_coherence']:.2f}\")\n",
    "print(f\"Improved overall score: {improved_black['overall_coherence']:.2f}\")\n",
    "print(f\"Improvement: {improved_black['overall_coherence'] - original_black['overall_coherence']:+.2f}\")\n",
    "print()\n",
    "\n",
    "print(\"Score breakdown:\")\n",
    "print(f\"Theme score: {improved_black['theme_score']:.2f} (weight: 0.5)\")\n",
    "print(f\"Color coherence: {improved_black['color_coherence']:.2f} (weight: 0.1)\")\n",
    "print(f\"Mana curve: {improved_black['mana_curve_score']:.2f} (weight: 0.2)\")\n",
    "print(f\"Creature theme: {improved_black['creature_theme_score']:.2f} -> {improved_black['creature_theme_scaled']:.2f} (weight: 0.2)\")\n",
    "print()\n",
    "\n",
    "# Compare top and bottom decks with improved scoring\n",
    "improved_sorted = sorted(improved_coherence.items(), \n",
    "                        key=lambda x: x[1]['overall_coherence'], \n",
    "                        reverse=True)\n",
    "\n",
    "print(\"TOP 5 DECKS (Improved Scoring):\")\n",
    "for i, (deck_name, analysis) in enumerate(improved_sorted[:5]):\n",
    "    original_score = coherence[deck_name]['overall_coherence']\n",
    "    improvement = analysis['overall_coherence'] - original_score\n",
    "    print(f\"{i+1}. {deck_name}: {analysis['overall_coherence']:.2f} (was {original_score:.2f}, {improvement:+.2f})\")\n",
    "\n",
    "print()\n",
    "print(\"BOTTOM 5 DECKS (Improved Scoring):\")\n",
    "for i, (deck_name, analysis) in enumerate(improved_sorted[-5:]):\n",
    "    original_score = coherence[deck_name]['overall_coherence']\n",
    "    improvement = analysis['overall_coherence'] - original_score\n",
    "    rank = len(improved_sorted) - 4 + i\n",
    "    print(f\"{rank}. {deck_name}: {analysis['overall_coherence']:.2f} (was {original_score:.2f}, {improvement:+.2f})\")\n",
    "\n",
    "# Check Black Graveyard's new ranking\n",
    "black_rank = next(i for i, (name, _) in enumerate(improved_sorted) if name == 'Black Graveyard') + 1\n",
    "original_rank = 30  # It was last in the original ranking\n",
    "print(f\"\\nBlack Graveyard ranking: #{black_rank} (was #{original_rank})\")"
   ]
  },
  {
   "cell_type": "code",
   "execution_count": 28,
   "id": "08685ae8",
   "metadata": {},
   "outputs": [
    {
     "name": "stdout",
     "output_type": "stream",
     "text": [
      "=== SUMMARY OF IMPROVEMENTS ===\n",
      "\n",
      "KEY IMPROVEMENTS TO CREATURE THEME ALIGNMENT:\n",
      "1. **Theme-Specific Evaluation Criteria**\n",
      "   - Each theme now has custom evaluation criteria\n",
      "   - Graveyard themes value utility creatures over raw stats\n",
      "   - Aggro themes prioritize power and evasion\n",
      "   - Control themes value utility and card advantage\n",
      "\n",
      "2. **Synergy Recognition**\n",
      "   - Recognizes creatures that enable deck strategies\n",
      "   - Graveyard deck creatures with mill, unearth, dies triggers get bonuses\n",
      "   - Token themes reward token generators\n",
      "   - Sacrifice themes reward death triggers and sac outlets\n",
      "\n",
      "3. **Flexible Scoring System**\n",
      "   - Different themes weight stats vs abilities differently\n",
      "   - Flying theme requires flying for high scores\n",
      "   - Big Creatures theme scales bonus with actual size\n",
      "   - Artifact themes bonus for artifact creatures\n",
      "\n",
      "4. **Better Overall Integration**\n",
      "   - Reduced theme score weight from 60% to 50%\n",
      "   - Increased mana curve weight from 15% to 20%\n",
      "   - Increased creature theme weight from 15% to 20%\n",
      "   - Added scaling and capping to prevent over-weighting\n",
      "\n",
      "RESULTS:\n",
      "• Black Graveyard jumped from #30 to #10 (score: 1.75 → 8.54)\n",
      "• Graveyard and sacrifice decks now score appropriately high\n",
      "• Flying decks properly reward creatures with flying\n",
      "• Big creature decks reward actual large creatures\n",
      "\n",
      "RECOMMENDED IMPLEMENTATION:\n",
      "Replace the calculate_creature_stats_coherence function in\n",
      "src/coherence.py with the new calculate_improved_creature_theme_alignment\n",
      "function and update the overall scoring weights as shown.\n",
      "\n",
      "This provides a much more nuanced and accurate assessment of\n",
      "how well creatures fit their deck's strategic themes!\n"
     ]
    }
   ],
   "source": [
    "# Summary of Improvements to Creature Theme Alignment Metric\n",
    "\n",
    "print(\"=== SUMMARY OF IMPROVEMENTS ===\")\n",
    "print()\n",
    "\n",
    "print(\"KEY IMPROVEMENTS TO CREATURE THEME ALIGNMENT:\")\n",
    "print(\"1. **Theme-Specific Evaluation Criteria**\")\n",
    "print(\"   - Each theme now has custom evaluation criteria\")\n",
    "print(\"   - Graveyard themes value utility creatures over raw stats\")\n",
    "print(\"   - Aggro themes prioritize power and evasion\")\n",
    "print(\"   - Control themes value utility and card advantage\")\n",
    "print()\n",
    "\n",
    "print(\"2. **Synergy Recognition**\")\n",
    "print(\"   - Recognizes creatures that enable deck strategies\")\n",
    "print(\"   - Graveyard deck creatures with mill, unearth, dies triggers get bonuses\")\n",
    "print(\"   - Token themes reward token generators\")\n",
    "print(\"   - Sacrifice themes reward death triggers and sac outlets\")\n",
    "print()\n",
    "\n",
    "print(\"3. **Flexible Scoring System**\")\n",
    "print(\"   - Different themes weight stats vs abilities differently\")\n",
    "print(\"   - Flying theme requires flying for high scores\")\n",
    "print(\"   - Big Creatures theme scales bonus with actual size\")\n",
    "print(\"   - Artifact themes bonus for artifact creatures\")\n",
    "print()\n",
    "\n",
    "print(\"4. **Better Overall Integration**\")\n",
    "print(\"   - Reduced theme score weight from 60% to 50%\")\n",
    "print(\"   - Increased mana curve weight from 15% to 20%\")\n",
    "print(\"   - Increased creature theme weight from 15% to 20%\")\n",
    "print(\"   - Added scaling and capping to prevent over-weighting\")\n",
    "print()\n",
    "\n",
    "print(\"RESULTS:\")\n",
    "print(\"• Black Graveyard jumped from #30 to #10 (score: 1.75 → 8.54)\")\n",
    "print(\"• Graveyard and sacrifice decks now score appropriately high\")\n",
    "print(\"• Flying decks properly reward creatures with flying\")\n",
    "print(\"• Big creature decks reward actual large creatures\")\n",
    "print()\n",
    "\n",
    "print(\"RECOMMENDED IMPLEMENTATION:\")\n",
    "print(\"Replace the calculate_creature_stats_coherence function in\")\n",
    "print(\"src/coherence.py with the new calculate_improved_creature_theme_alignment\")\n",
    "print(\"function and update the overall scoring weights as shown.\")\n",
    "print()\n",
    "\n",
    "print(\"This provides a much more nuanced and accurate assessment of\")\n",
    "print(\"how well creatures fit their deck's strategic themes!\")"
   ]
  },
  {
   "cell_type": "code",
   "execution_count": 45,
   "id": "a7178504",
   "metadata": {},
   "outputs": [
    {
     "name": "stdout",
     "output_type": "stream",
     "text": [
      "=== TESTING UPDATED analyze_deck_theme_coherence_enhanced ===\n",
      "\n",
      "BLACK GRAVEYARD WITH UPDATED FUNCTION:\n",
      "Overall score: 8.24\n",
      "Theme score: 1.92 (weight: 0.5)\n",
      "Color coherence: 1.00 (weight: 0.1)\n",
      "Mana curve: 0.88 (weight: 0.2)\n",
      "Creature theme: 3.50 (weight: 0.2)\n",
      "\n",
      "TOP 5 DECKS (Updated Function):\n",
      "1. Simic Control: 12.37\n",
      "2. Azorius Evasion/Flying: 11.63\n",
      "3. Rakdos Burn/Damage: 11.30\n",
      "4. Golgari Graveyard: 11.09\n",
      "5. Dimir Control: 10.55\n",
      "\n",
      "BOTTOM 5 DECKS (Updated Function):\n",
      "26. Blue Tempo: 1.44\n",
      "27. Green Midrange: 1.43\n",
      "28. White Equipment: 1.30\n",
      "29. Blue Card Draw: 1.12\n",
      "30. Green Ramp: 1.03\n",
      "\n",
      "Black Graveyard ranking: #9\n",
      "\n",
      "✅ SUCCESS! The existing analyze_deck_theme_coherence_enhanced function\n",
      "has been updated with improved creature theme alignment logic.\n",
      "\n",
      "Key improvements:\n",
      "- Graveyard themes now properly value utility creatures\n",
      "- Theme-specific evaluation criteria for each archetype\n",
      "- Better synergy recognition for strategic enablers\n",
      "- Improved weighting balance (Theme: 50%, Curve: 20%, Creatures: 20%, Color: 10%)\n",
      "\n",
      "All existing code using this function will now benefit from the improvements!\n"
     ]
    }
   ],
   "source": [
    "# Test the updated analyze_deck_theme_coherence_enhanced function\n",
    "import importlib\n",
    "from src import coherence as coherence_module\n",
    "importlib.reload(coherence_module)\n",
    "\n",
    "print(\"=== TESTING UPDATED analyze_deck_theme_coherence_enhanced ===\")\n",
    "print()\n",
    "\n",
    "# Run the improved analysis with the updated function\n",
    "improved_coherence_v2 = coherence_module.analyze_deck_theme_coherence_enhanced(cube_df, oracle_df)\n",
    "\n",
    "# Show Black Graveyard results\n",
    "black_graveyard_result = improved_coherence_v2['Black Graveyard']\n",
    "\n",
    "print(\"BLACK GRAVEYARD WITH UPDATED FUNCTION:\")\n",
    "print(f\"Overall score: {black_graveyard_result['overall_coherence']:.2f}\")\n",
    "print(f\"Theme score: {black_graveyard_result['theme_score']:.2f} (weight: 0.5)\")\n",
    "print(f\"Color coherence: {black_graveyard_result['color_coherence']:.2f} (weight: 0.1)\")\n",
    "print(f\"Mana curve: {black_graveyard_result['mana_curve_score']:.2f} (weight: 0.2)\")\n",
    "print(f\"Creature theme: {black_graveyard_result['creature_stats']['theme_alignment_score']:.2f} (weight: 0.2)\")\n",
    "print()\n",
    "\n",
    "# Show overall rankings\n",
    "improved_sorted_v2 = sorted(improved_coherence_v2.items(), \n",
    "                           key=lambda x: x[1]['overall_coherence'], \n",
    "                           reverse=True)\n",
    "\n",
    "print(\"TOP 5 DECKS (Updated Function):\")\n",
    "for i, (deck_name, analysis) in enumerate(improved_sorted_v2[:5]):\n",
    "    print(f\"{i+1}. {deck_name}: {analysis['overall_coherence']:.2f}\")\n",
    "\n",
    "print()\n",
    "print(\"BOTTOM 5 DECKS (Updated Function):\")\n",
    "for i, (deck_name, analysis) in enumerate(improved_sorted_v2[-5:]):\n",
    "    rank = len(improved_sorted_v2) - 4 + i\n",
    "    print(f\"{rank}. {deck_name}: {analysis['overall_coherence']:.2f}\")\n",
    "\n",
    "# Check Black Graveyard's new ranking\n",
    "black_rank_v2 = next(i for i, (name, _) in enumerate(improved_sorted_v2) if name == 'Black Graveyard') + 1\n",
    "print(f\"\\nBlack Graveyard ranking: #{black_rank_v2}\")\n",
    "\n",
    "print()\n",
    "print(\"✅ SUCCESS! The existing analyze_deck_theme_coherence_enhanced function\")\n",
    "print(\"has been updated with improved creature theme alignment logic.\")\n",
    "print()\n",
    "print(\"Key improvements:\")\n",
    "print(\"- Graveyard themes now properly value utility creatures\")\n",
    "print(\"- Theme-specific evaluation criteria for each archetype\")\n",
    "print(\"- Better synergy recognition for strategic enablers\") \n",
    "print(\"- Improved weighting balance (Theme: 50%, Curve: 20%, Creatures: 20%, Color: 10%)\")\n",
    "print()\n",
    "print(\"All existing code using this function will now benefit from the improvements!\")"
   ]
  },
  {
   "cell_type": "code",
   "execution_count": 63,
   "id": "7c127c00",
   "metadata": {},
   "outputs": [
    {
     "name": "stdout",
     "output_type": "stream",
     "text": [
      "White Equipment Deck - 6 Creatures:\n",
      "============================================================\n",
      "\n",
      "Mandibular Kite\n",
      "Type: Creature Artifact - Equipment\n",
      "Mana Cost: N/A\n",
      "Power/Toughness: nan/nan\n",
      "Oracle Text: Living weapon (When this Equipment enters, create a 0/0 black Phyrexian Germ creature token, then attach this to it.) | Equipped creature gets +1/+1 and has flying. | Equip {3}{W}\n",
      "🎯 HAS EQUIPMENT SYNERGY!\n",
      "----------------------------------------\n",
      "\n",
      "Miner's Guidewing\n",
      "Type: Creature - Bird\n",
      "Mana Cost: N/A\n",
      "Power/Toughness: 1.0/1.0\n",
      "Oracle Text: Flying, vigilance | When this creature dies, target creature you control explores. (Reveal the top card of your library. Put that card into your hand if it's a land. Otherwise, put a +1/+1 counter on that creature, then put the card back or put it into your graveyard.)\n",
      "----------------------------------------\n",
      "\n",
      "Phantom Nomad\n",
      "Type: Creature - Spirit Nomad\n",
      "Mana Cost: N/A\n",
      "Power/Toughness: 0.0/0.0\n",
      "Oracle Text: This creature enters with two +1/+1 counters on it. | If damage would be dealt to this creature, prevent that damage. Remove a +1/+1 counter from this creature.\n",
      "----------------------------------------\n",
      "\n",
      "Seeker of the Way\n",
      "Type: Creature - Human Warrior\n",
      "Mana Cost: N/A\n",
      "Power/Toughness: 2.0/2.0\n",
      "Oracle Text: Prowess (Whenever you cast a noncreature spell, this creature gets +1/+1 until end of turn.) | Whenever you cast a noncreature spell, this creature gains lifelink until end of turn.\n",
      "----------------------------------------\n",
      "\n",
      "Ancestral Blade\n",
      "Type: Creature Artifact - Equipment\n",
      "Mana Cost: N/A\n",
      "Power/Toughness: nan/nan\n",
      "Oracle Text: When this Equipment enters, create a 1/1 white Soldier creature token, then attach this Equipment to it. | Equipped creature gets +1/+1. | Equip {1} ({1}: Attach to target creature you control. Equip only as a sorcery.)\n",
      "🎯 HAS EQUIPMENT SYNERGY!\n",
      "----------------------------------------\n",
      "\n",
      "Flayer Husk\n",
      "Type: Creature Artifact - Equipment\n",
      "Mana Cost: N/A\n",
      "Power/Toughness: nan/nan\n",
      "Oracle Text: Living weapon (When this Equipment enters, create a 0/0 black Phyrexian Germ creature token, then attach this to it.) | Equipped creature gets +1/+1. | Equip {2}\n",
      "🎯 HAS EQUIPMENT SYNERGY!\n",
      "----------------------------------------\n"
     ]
    }
   ],
   "source": [
    "# Show the 6 creature cards in White Equipment deck\n",
    "white_equipment_cards = cube_df[cube_df['Tags'] == 'White Equipment']\n",
    "white_equipment_creatures = white_equipment_cards[white_equipment_cards['Type'].str.contains('Creature', case=False, na=False)]\n",
    "\n",
    "print(f\"White Equipment Deck - {len(white_equipment_creatures)} Creatures:\")\n",
    "print(\"=\" * 60)\n",
    "\n",
    "for idx, creature in white_equipment_creatures.iterrows():\n",
    "    card_name = creature['Name']\n",
    "    card_type = creature['Type']\n",
    "    \n",
    "    # Get oracle information\n",
    "    oracle_match = oracle_df[oracle_df['name'] == card_name]\n",
    "    if not oracle_match.empty:\n",
    "        oracle_info = oracle_match.iloc[0]\n",
    "        power = oracle_info.get('Power', 'N/A')\n",
    "        toughness = oracle_info.get('Toughness', 'N/A')\n",
    "        oracle_text = oracle_info.get('Oracle Text', 'No text available')\n",
    "        mana_cost = oracle_info.get('Mana Cost', 'N/A')\n",
    "        \n",
    "        print(f\"\\n{card_name}\")\n",
    "        print(f\"Type: {card_type}\")\n",
    "        print(f\"Mana Cost: {mana_cost}\")\n",
    "        print(f\"Power/Toughness: {power}/{toughness}\")\n",
    "        print(f\"Oracle Text: {oracle_text}\")\n",
    "        \n",
    "        # Check for equipment synergy\n",
    "        oracle_lower = str(oracle_text).lower()\n",
    "        has_equipment_synergy = any(word in oracle_lower for word in ['equipment', 'attach', 'equipped', 'living weapon'])\n",
    "        if has_equipment_synergy:\n",
    "            print(\"🎯 HAS EQUIPMENT SYNERGY!\")\n",
    "        \n",
    "        print(\"-\" * 40)\n",
    "    else:\n",
    "        print(f\"\\n{card_name} - Oracle information not found\")\n",
    "        print(\"-\" * 40)"
   ]
  },
  {
   "cell_type": "code",
   "execution_count": 65,
   "id": "91973c8a",
   "metadata": {},
   "outputs": [
    {
     "name": "stdout",
     "output_type": "stream",
     "text": [
      "=== RED SMALL CREATURES ANALYSIS ===\n",
      "\n"
     ]
    },
    {
     "data": {
      "text/markdown": [
       "# Enhanced Analysis: Red Small Creatures"
      ],
      "text/plain": [
       "<IPython.core.display.Markdown object>"
      ]
     },
     "metadata": {},
     "output_type": "display_data"
    },
    {
     "data": {
      "text/markdown": [
       "**Overall Coherence Score: 1.8/100**"
      ],
      "text/plain": [
       "<IPython.core.display.Markdown object>"
      ]
     },
     "metadata": {},
     "output_type": "display_data"
    },
    {
     "data": {
      "text/markdown": [
       "## Theme Analysis"
      ],
      "text/plain": [
       "<IPython.core.display.Markdown object>"
      ]
     },
     "metadata": {},
     "output_type": "display_data"
    },
    {
     "data": {
      "text/markdown": [
       "**Expected Themes:** Small Creatures"
      ],
      "text/plain": [
       "<IPython.core.display.Markdown object>"
      ]
     },
     "metadata": {},
     "output_type": "display_data"
    },
    {
     "data": {
      "text/markdown": [
       "**Theme Match Score:** 2.9"
      ],
      "text/plain": [
       "<IPython.core.display.Markdown object>"
      ]
     },
     "metadata": {},
     "output_type": "display_data"
    },
    {
     "data": {
      "text/markdown": [
       "## Creature Statistics"
      ],
      "text/plain": [
       "<IPython.core.display.Markdown object>"
      ]
     },
     "metadata": {},
     "output_type": "display_data"
    },
    {
     "data": {
      "text/markdown": [
       "**Total Creatures:** 10 (76.9% of deck)"
      ],
      "text/plain": [
       "<IPython.core.display.Markdown object>"
      ]
     },
     "metadata": {},
     "output_type": "display_data"
    },
    {
     "data": {
      "text/markdown": [
       "**Average Power/Toughness:** 1.7/1.4"
      ],
      "text/plain": [
       "<IPython.core.display.Markdown object>"
      ]
     },
     "metadata": {},
     "output_type": "display_data"
    },
    {
     "data": {
      "text/markdown": [
       "**Total Power/Toughness:** 17/14"
      ],
      "text/plain": [
       "<IPython.core.display.Markdown object>"
      ]
     },
     "metadata": {},
     "output_type": "display_data"
    },
    {
     "data": {
      "text/markdown": [
       "**Creature Theme Alignment Score:** 0.0"
      ],
      "text/plain": [
       "<IPython.core.display.Markdown object>"
      ]
     },
     "metadata": {},
     "output_type": "display_data"
    },
    {
     "data": {
      "text/markdown": [
       "### Creature Categories:"
      ],
      "text/plain": [
       "<IPython.core.display.Markdown object>"
      ]
     },
     "metadata": {},
     "output_type": "display_data"
    },
    {
     "data": {
      "text/markdown": [
       "- **Small (≤2 power):** 7 creatures"
      ],
      "text/plain": [
       "<IPython.core.display.Markdown object>"
      ]
     },
     "metadata": {},
     "output_type": "display_data"
    },
    {
     "data": {
      "text/markdown": [
       "- **Medium (3-4 power):** 2 creatures"
      ],
      "text/plain": [
       "<IPython.core.display.Markdown object>"
      ]
     },
     "metadata": {},
     "output_type": "display_data"
    },
    {
     "data": {
      "text/markdown": [
       "- **Large (≥5 power):** 1 creatures"
      ],
      "text/plain": [
       "<IPython.core.display.Markdown object>"
      ]
     },
     "metadata": {},
     "output_type": "display_data"
    },
    {
     "data": {
      "text/markdown": [
       "- **Evasive abilities:** 2 creatures"
      ],
      "text/plain": [
       "<IPython.core.display.Markdown object>"
      ]
     },
     "metadata": {},
     "output_type": "display_data"
    },
    {
     "data": {
      "text/markdown": [
       "- **Utility abilities:** 6 creatures"
      ],
      "text/plain": [
       "<IPython.core.display.Markdown object>"
      ]
     },
     "metadata": {},
     "output_type": "display_data"
    },
    {
     "data": {
      "text/markdown": [
       "**Power Distribution:** 0: 2, 1: 5, 3: 2, 6: 1"
      ],
      "text/plain": [
       "<IPython.core.display.Markdown object>"
      ]
     },
     "metadata": {},
     "output_type": "display_data"
    },
    {
     "data": {
      "text/markdown": [
       "### Creature Details:"
      ],
      "text/plain": [
       "<IPython.core.display.Markdown object>"
      ]
     },
     "metadata": {},
     "output_type": "display_data"
    },
    {
     "data": {
      "text/markdown": [
       "- **Clockwork Percussionist** (1/1) - small, utility"
      ],
      "text/plain": [
       "<IPython.core.display.Markdown object>"
      ]
     },
     "metadata": {},
     "output_type": "display_data"
    },
    {
     "data": {
      "text/markdown": [
       "- **Grim Initiate** (1/1) - small, utility"
      ],
      "text/plain": [
       "<IPython.core.display.Markdown object>"
      ]
     },
     "metadata": {},
     "output_type": "display_data"
    },
    {
     "data": {
      "text/markdown": [
       "- **Oliphaunt** (6/4) - large, evasive, utility"
      ],
      "text/plain": [
       "<IPython.core.display.Markdown object>"
      ]
     },
     "metadata": {},
     "output_type": "display_data"
    },
    {
     "data": {
      "text/markdown": [
       "- **Spelleater Wolverine** (3/2) - medium"
      ],
      "text/plain": [
       "<IPython.core.display.Markdown object>"
      ]
     },
     "metadata": {},
     "output_type": "display_data"
    },
    {
     "data": {
      "text/markdown": [
       "- **Mayhem Patrol** (1/2) - small, evasive, utility"
      ],
      "text/plain": [
       "<IPython.core.display.Markdown object>"
      ]
     },
     "metadata": {},
     "output_type": "display_data"
    },
    {
     "data": {
      "text/markdown": [
       "- **Forbidden Friendship** (0/0) - small"
      ],
      "text/plain": [
       "<IPython.core.display.Markdown object>"
      ]
     },
     "metadata": {},
     "output_type": "display_data"
    },
    {
     "data": {
      "text/markdown": [
       "- **Rally at the Hornburg** (0/0) - small"
      ],
      "text/plain": [
       "<IPython.core.display.Markdown object>"
      ]
     },
     "metadata": {},
     "output_type": "display_data"
    },
    {
     "data": {
      "text/markdown": [
       "- **Scorched Rusalka** (1/1) - small"
      ],
      "text/plain": [
       "<IPython.core.display.Markdown object>"
      ]
     },
     "metadata": {},
     "output_type": "display_data"
    },
    {
     "data": {
      "text/markdown": [
       "- **Witty Roastmaster** (3/2) - medium, utility"
      ],
      "text/plain": [
       "<IPython.core.display.Markdown object>"
      ]
     },
     "metadata": {},
     "output_type": "display_data"
    },
    {
     "data": {
      "text/markdown": [
       "- **Harried Spearguard** (1/1) - small, utility"
      ],
      "text/plain": [
       "<IPython.core.display.Markdown object>"
      ]
     },
     "metadata": {},
     "output_type": "display_data"
    },
    {
     "data": {
      "text/markdown": [
       "## Color Analysis"
      ],
      "text/plain": [
       "<IPython.core.display.Markdown object>"
      ]
     },
     "metadata": {},
     "output_type": "display_data"
    },
    {
     "data": {
      "text/markdown": [
       "**Deck Colors:** R"
      ],
      "text/plain": [
       "<IPython.core.display.Markdown object>"
      ]
     },
     "metadata": {},
     "output_type": "display_data"
    },
    {
     "data": {
      "text/markdown": [
       "**Color Coherence:** 100.0%"
      ],
      "text/plain": [
       "<IPython.core.display.Markdown object>"
      ]
     },
     "metadata": {},
     "output_type": "display_data"
    },
    {
     "data": {
      "text/markdown": [
       "## Mana Curve Analysis"
      ],
      "text/plain": [
       "<IPython.core.display.Markdown object>"
      ]
     },
     "metadata": {},
     "output_type": "display_data"
    },
    {
     "data": {
      "text/markdown": [
       "**Mana Curve Score:** 95.4%"
      ],
      "text/plain": [
       "<IPython.core.display.Markdown object>"
      ]
     },
     "metadata": {},
     "output_type": "display_data"
    },
    {
     "data": {
      "text/markdown": [
       "**Curve Distribution:**"
      ],
      "text/plain": [
       "<IPython.core.display.Markdown object>"
      ]
     },
     "metadata": {},
     "output_type": "display_data"
    },
    {
     "data": {
      "text/markdown": [
       "- CMC 1: 5 cards"
      ],
      "text/plain": [
       "<IPython.core.display.Markdown object>"
      ]
     },
     "metadata": {},
     "output_type": "display_data"
    },
    {
     "data": {
      "text/markdown": [
       "- CMC 2: 4 cards"
      ],
      "text/plain": [
       "<IPython.core.display.Markdown object>"
      ]
     },
     "metadata": {},
     "output_type": "display_data"
    },
    {
     "data": {
      "text/markdown": [
       "- CMC 3: 3 cards"
      ],
      "text/plain": [
       "<IPython.core.display.Markdown object>"
      ]
     },
     "metadata": {},
     "output_type": "display_data"
    },
    {
     "data": {
      "text/markdown": [
       "- CMC 6: 1 cards"
      ],
      "text/plain": [
       "<IPython.core.display.Markdown object>"
      ]
     },
     "metadata": {},
     "output_type": "display_data"
    },
    {
     "data": {
      "text/markdown": [
       "## Improvement Recommendations"
      ],
      "text/plain": [
       "<IPython.core.display.Markdown object>"
      ]
     },
     "metadata": {},
     "output_type": "display_data"
    },
    {
     "data": {
      "text/markdown": [
       "- 👹 **Creature Synergy**: Creature stats don't align well with deck themes"
      ],
      "text/plain": [
       "<IPython.core.display.Markdown object>"
      ]
     },
     "metadata": {},
     "output_type": "display_data"
    },
    {
     "name": "stdout",
     "output_type": "stream",
     "text": [
      "\n",
      "============================================================\n",
      "DETAILED CARD BREAKDOWN\n",
      "============================================================\n",
      "Total cards in deck: 13\n",
      "Creatures: 10 | Non-creatures: 3\n",
      "\n",
      "=== CREATURE ANALYSIS ===\n",
      "Clockwork Percussionist (N/A) - 1/1 [SMALL] ⚡\n",
      "  haste | when this creature dies, exile the top card of your library. you may play it until the end of your next turn.\n",
      "\n",
      "Grim Initiate (N/A) - 1/1 [SMALL] 🚀\n",
      "  first strike | when this creature dies, amass zombies 1. (put a +1/+1 counter on an army you control. it's also a zombie. if you don't control an army, create a 0/0 black zombie army creature token first.)\n",
      "\n",
      "Oliphaunt (N/A) - 6/4 [LARGE] 🚀\n",
      "  trample | whenever this creature attacks, another target creature you control gets +2/+0 and gains trample until end of turn. | mountaincycling {1} ({1}, discard this card: search your library for a mountain card, reveal it, put it into your hand, then shuffle.)\n",
      "\n",
      "Spelleater Wolverine (N/A) - 3/2 [MEDIUM] \n",
      "  this creature has double strike as long as there are three or more instant and/or sorcery cards in your graveyard.\n",
      "\n",
      "Mayhem Patrol (N/A) - 1/2 [SMALL] ⚡🚀\n",
      "  menace (this creature can't be blocked except by two or more creatures.) | whenever this creature attacks, target creature gets +1/+0 until end of turn. | blitz {1}{r} (if you cast this spell for its blitz cost, it gains haste and \"when this creature dies, draw a card.\" sacrifice it at the beginning of the next end step.)\n",
      "\n",
      "Forbidden Friendship (N/A) - 0/0 [SMALL] ⚡\n",
      "  create a 1/1 red dinosaur creature token with haste and a 1/1 white human soldier creature token.\n",
      "\n",
      "Rally at the Hornburg (N/A) - 0/0 [SMALL] ⚡\n",
      "  create two 1/1 white human soldier creature tokens. humans you control gain haste until end of turn.\n",
      "\n",
      "Scorched Rusalka (N/A) - 1/1 [SMALL] \n",
      "  {r}, sacrifice a creature: this creature deals 1 damage to target player or planeswalker.\n",
      "\n",
      "Witty Roastmaster (N/A) - 3/2 [MEDIUM] \n",
      "  alliance — whenever another creature you control enters, this creature deals 1 damage to each opponent.\n",
      "\n",
      "Harried Spearguard (N/A) - 1/1 [SMALL] ⚡\n",
      "  haste | when this creature dies, create a 1/1 black rat creature token with \"this token can't block.\"\n",
      "\n",
      "=== CREATURE STATS SUMMARY ===\n",
      "Average Power: 1.7\n",
      "Average Toughness: 1.4\n",
      "Small creatures (≤2 power): 7/10 (70%)\n",
      "Medium creatures (3-4 power): 2/10\n",
      "Large creatures (≥5 power): 1/10\n",
      "Creatures with Haste: 5/10 (50%)\n",
      "Creatures with Evasion: 3/10 (30%)\n",
      "\n",
      "=== NON-CREATURE SPELLS ===\n",
      "Firebolt (N/A) - Sorcery\n",
      "  Firebolt deals 2 damage to any target. | Flashback {4}{R} (You may cast this card from your graveyard for its flashback cost. Then exile it.)\n",
      "\n",
      "Gnawing Crescendo (N/A) - Instant\n",
      "  Creatures you control get +2/+0 until end of turn. Whenever a nontoken creature you control dies this turn, create a 1/1 black Rat creature token with \"This token can't block.\"\n",
      "\n",
      "Searing Spear (N/A) - Instant\n",
      "  Searing Spear deals 3 damage to any target.\n",
      "\n",
      "============================================================\n",
      "QUINTESSENTIAL CARDS FOR RED SMALL CREATURES DECK\n",
      "============================================================\n",
      "🎯 IDEAL CREATURE PROFILE:\n",
      "• 1-3 mana cost\n",
      "• 2+ power (efficient stats)\n",
      "• Haste or evasion abilities\n",
      "• Synergistic tribal effects (Goblins, etc.)\n",
      "• Aggressive keywords (first strike, menace)\n",
      "\n",
      "🔥 QUINTESSENTIAL RED AGGRO CREATURES:\n",
      "• Goblin Guide (1 mana, 2/2, haste)\n",
      "• Monastery Swiftspear (1 mana, 1/2, haste, prowess)\n",
      "• Lightning Berserker (1 mana, 1/1, haste, dash)\n",
      "• Kargan Dragonlord (1 mana, grows into dragon)\n",
      "• Zurgo Bellstriker (1 mana, 2/2, dash)\n",
      "• Goblin Bushwhacker (1 mana, gives team haste+power)\n",
      "• Jackal Pup (1 mana, 2/1)\n",
      "• Mogg Fanatic (1 mana, 1/1, sacrifice for damage)\n",
      "• Goblin Cohort (1 mana, 2/2 if you control another creature)\n",
      "\n",
      "📜 SUPPORTING SPELLS:\n",
      "• Lightning Bolt (efficient removal)\n",
      "• Burst Lightning (flexible removal)\n",
      "• Goblin Grenade (sacrifice outlet + burn)\n",
      "• Reckless Charge (haste enabler)\n",
      "• Trumpet Blast (team pump)\n",
      "• Hordeling Outburst (token generation)\n",
      "\n",
      "🚨 CURRENT DECK ISSUES (LIKELY):\n",
      "• Not enough 1-mana creatures\n",
      "• Creatures may lack haste/evasion\n",
      "• Average power too low for 'small creatures' theme\n",
      "• Missing tribal synergies\n",
      "• Non-creatures may not support aggro plan\n"
     ]
    }
   ],
   "source": [
    "# Analyze Red Small Creatures deck - why is the score low?\n",
    "from src.coherence import analyze_specific_deck_enhanced\n",
    "\n",
    "print(\"=== RED SMALL CREATURES ANALYSIS ===\")\n",
    "print()\n",
    "\n",
    "# Get the current coherence results\n",
    "coherence_results = analyze_deck_theme_coherence_enhanced(cube_df, oracle_df)\n",
    "\n",
    "# Show the current deck analysis\n",
    "analyze_specific_deck_enhanced('Red Small Creatures', cube_df, oracle_df, coherence_results)\n",
    "\n",
    "print(\"\\n\" + \"=\"*60)\n",
    "print(\"DETAILED CARD BREAKDOWN\")\n",
    "print(\"=\"*60)\n",
    "\n",
    "# Get all cards in the Red Small Creatures deck\n",
    "red_small_cards = cube_df[cube_df['Tags'] == 'Red Small Creatures']\n",
    "print(f\"Total cards in deck: {len(red_small_cards)}\")\n",
    "\n",
    "# Separate creatures from non-creatures\n",
    "creatures = red_small_cards[red_small_cards['Type'].str.contains('Creature', case=False, na=False)]\n",
    "non_creatures = red_small_cards[~red_small_cards['Type'].str.contains('Creature', case=False, na=False)]\n",
    "\n",
    "print(f\"Creatures: {len(creatures)} | Non-creatures: {len(non_creatures)}\")\n",
    "print()\n",
    "\n",
    "print(\"=== CREATURE ANALYSIS ===\")\n",
    "total_power = 0\n",
    "total_toughness = 0\n",
    "small_creatures = 0\n",
    "medium_creatures = 0\n",
    "large_creatures = 0\n",
    "hasty_creatures = 0\n",
    "evasive_creatures = 0\n",
    "\n",
    "for idx, creature in creatures.iterrows():\n",
    "    card_name = creature['Name']\n",
    "    oracle_match = oracle_df[oracle_df['name'] == card_name]\n",
    "    \n",
    "    if not oracle_match.empty:\n",
    "        oracle_info = oracle_match.iloc[0]\n",
    "        power = oracle_info.get('Power', 0)\n",
    "        toughness = oracle_info.get('Toughness', 0)\n",
    "        oracle_text = str(oracle_info.get('Oracle Text', '')).lower()\n",
    "        mana_cost = oracle_info.get('Mana Cost', 'N/A')\n",
    "        \n",
    "        # Handle NaN values\n",
    "        if pd.isna(power):\n",
    "            power = 0\n",
    "        if pd.isna(toughness):\n",
    "            toughness = 0\n",
    "        \n",
    "        try:\n",
    "            power = float(power)\n",
    "            toughness = float(toughness)\n",
    "        except:\n",
    "            power = 0.0\n",
    "            toughness = 0.0\n",
    "        \n",
    "        total_power += power\n",
    "        total_toughness += toughness\n",
    "        \n",
    "        # Categorize by size\n",
    "        if power <= 2:\n",
    "            small_creatures += 1\n",
    "            size_category = \"SMALL\"\n",
    "        elif power <= 4:\n",
    "            medium_creatures += 1\n",
    "            size_category = \"MEDIUM\"\n",
    "        else:\n",
    "            large_creatures += 1\n",
    "            size_category = \"LARGE\"\n",
    "        \n",
    "        # Check for aggro abilities\n",
    "        has_haste = 'haste' in oracle_text\n",
    "        has_evasion = any(word in oracle_text for word in ['flying', 'menace', 'trample', 'unblockable', 'first strike'])\n",
    "        \n",
    "        if has_haste:\n",
    "            hasty_creatures += 1\n",
    "        if has_evasion:\n",
    "            evasive_creatures += 1\n",
    "        \n",
    "        # Mark aggressive creatures\n",
    "        aggro_marker = \"\"\n",
    "        if has_haste:\n",
    "            aggro_marker += \"⚡\"\n",
    "        if has_evasion:\n",
    "            aggro_marker += \"🚀\"\n",
    "        if power >= 2 and creature['CMC'] <= 2:\n",
    "            aggro_marker += \"💪\"\n",
    "        \n",
    "        print(f\"{card_name} ({mana_cost}) - {power:.0f}/{toughness:.0f} [{size_category}] {aggro_marker}\")\n",
    "        if oracle_text and oracle_text != 'nan':\n",
    "            print(f\"  {oracle_text}\")\n",
    "        print()\n",
    "\n",
    "print(\"=== CREATURE STATS SUMMARY ===\")\n",
    "print(f\"Average Power: {total_power/len(creatures):.1f}\")\n",
    "print(f\"Average Toughness: {total_toughness/len(creatures):.1f}\")\n",
    "print(f\"Small creatures (≤2 power): {small_creatures}/{len(creatures)} ({small_creatures/len(creatures)*100:.0f}%)\")\n",
    "print(f\"Medium creatures (3-4 power): {medium_creatures}/{len(creatures)}\")\n",
    "print(f\"Large creatures (≥5 power): {large_creatures}/{len(creatures)}\")\n",
    "print(f\"Creatures with Haste: {hasty_creatures}/{len(creatures)} ({hasty_creatures/len(creatures)*100:.0f}%)\")\n",
    "print(f\"Creatures with Evasion: {evasive_creatures}/{len(creatures)} ({evasive_creatures/len(creatures)*100:.0f}%)\")\n",
    "\n",
    "print(f\"\\n=== NON-CREATURE SPELLS ===\")\n",
    "for idx, spell in non_creatures.iterrows():\n",
    "    card_name = spell['Name']\n",
    "    card_type = spell['Type']\n",
    "    oracle_match = oracle_df[oracle_df['name'] == card_name]\n",
    "    \n",
    "    if not oracle_match.empty:\n",
    "        oracle_info = oracle_match.iloc[0]\n",
    "        mana_cost = oracle_info.get('Mana Cost', 'N/A')\n",
    "        oracle_text = str(oracle_info.get('Oracle Text', ''))\n",
    "        \n",
    "        print(f\"{card_name} ({mana_cost}) - {card_type}\")\n",
    "        if oracle_text and oracle_text != 'nan':\n",
    "            print(f\"  {oracle_text}\")\n",
    "        print()\n",
    "\n",
    "print(\"=\"*60)\n",
    "print(\"QUINTESSENTIAL CARDS FOR RED SMALL CREATURES DECK\")\n",
    "print(\"=\"*60)\n",
    "\n",
    "print(\"🎯 IDEAL CREATURE PROFILE:\")\n",
    "print(\"• 1-3 mana cost\")\n",
    "print(\"• 2+ power (efficient stats)\")\n",
    "print(\"• Haste or evasion abilities\")\n",
    "print(\"• Synergistic tribal effects (Goblins, etc.)\")\n",
    "print(\"• Aggressive keywords (first strike, menace)\")\n",
    "print()\n",
    "\n",
    "print(\"🔥 QUINTESSENTIAL RED AGGRO CREATURES:\")\n",
    "print(\"• Goblin Guide (1 mana, 2/2, haste)\")\n",
    "print(\"• Monastery Swiftspear (1 mana, 1/2, haste, prowess)\")\n",
    "print(\"• Lightning Berserker (1 mana, 1/1, haste, dash)\")\n",
    "print(\"• Kargan Dragonlord (1 mana, grows into dragon)\")\n",
    "print(\"• Zurgo Bellstriker (1 mana, 2/2, dash)\")\n",
    "print(\"• Goblin Bushwhacker (1 mana, gives team haste+power)\")\n",
    "print(\"• Jackal Pup (1 mana, 2/1)\")\n",
    "print(\"• Mogg Fanatic (1 mana, 1/1, sacrifice for damage)\")\n",
    "print(\"• Goblin Cohort (1 mana, 2/2 if you control another creature)\")\n",
    "print()\n",
    "\n",
    "print(\"📜 SUPPORTING SPELLS:\")\n",
    "print(\"• Lightning Bolt (efficient removal)\")\n",
    "print(\"• Burst Lightning (flexible removal)\")\n",
    "print(\"• Goblin Grenade (sacrifice outlet + burn)\")\n",
    "print(\"• Reckless Charge (haste enabler)\")\n",
    "print(\"• Trumpet Blast (team pump)\")\n",
    "print(\"• Hordeling Outburst (token generation)\")\n",
    "print()\n",
    "\n",
    "print(\"🚨 CURRENT DECK ISSUES (LIKELY):\")\n",
    "print(\"• Not enough 1-mana creatures\")\n",
    "print(\"• Creatures may lack haste/evasion\")\n",
    "print(\"• Average power too low for 'small creatures' theme\")\n",
    "print(\"• Missing tribal synergies\")\n",
    "print(\"• Non-creatures may not support aggro plan\")"
   ]
  },
  {
   "cell_type": "code",
   "execution_count": 66,
   "id": "4f3b68b7",
   "metadata": {},
   "outputs": [
    {
     "name": "stdout",
     "output_type": "stream",
     "text": [
      "=== THEME IMPROVEMENT ANALYSIS ===\n",
      "\n",
      "🔍 CURRENT ISSUES IDENTIFIED:\n",
      "1. **Theme Alignment Score: 0.0** - The theme criteria doesn't recognize 'Small Creatures' properly\n",
      "2. **Mixed Strategy** - Has both token generators and individual creatures\n",
      "3. **Oliphaunt (6/4)** - Contradicts 'small creatures' theme\n",
      "4. **Low Power Density** - Only 50% have haste, 30% have evasion\n",
      "5. **Token Spell Confusion** - Forbidden Friendship and Rally create tokens but aren't creatures\n",
      "\n",
      "🛠️ THEME CRITERIA IMPROVEMENTS NEEDED:\n",
      "\n",
      "Current theme_criteria likely missing 'Small Creatures' entry. We should add:\n",
      "\n",
      "'Small Creatures': {\n",
      "    'keywords': ['small', 'goblin', 'haste', 'dash', 'prowess', 'first strike'],\n",
      "    'abilities': ['haste', 'menace', 'first strike', 'double strike', 'dash'],\n",
      "    'stats_matter': True,\n",
      "    'power_threshold': 1,  # Want creatures with 1+ power\n",
      "    'max_power': 3,        # Cap for 'small' creatures\n",
      "    'utility_bonus': 1.0,\n",
      "    'evasion_bonus': 2.0,  # High value on evasion for aggro\n",
      "    'haste_bonus': 2.5,    # Haste is crucial for small aggro\n",
      "    'efficient_stats_bonus': 1.5  # Bonus for power >= CMC\n",
      "}\n",
      "\n",
      "🎯 DECK COMPOSITION IMPROVEMENTS:\n",
      "\n",
      "REMOVE (doesn't fit theme):\n",
      "• Oliphaunt (6/4) - Too big for 'small creatures'\n",
      "• Forbidden Friendship - Token spell, not a creature\n",
      "• Rally at the Hornburg - Token spell, not a creature\n",
      "\n",
      "ADD (quintessential small red creatures):\n",
      "• Goblin Guide (1R, 2/2, haste) - Perfect aggressive 1-drop\n",
      "• Monastery Swiftspear (R, 1/2, haste, prowess) - Grows with spells\n",
      "• Lightning Berserker (R, 1/1, haste, dash 1R) - Flexible aggression\n",
      "• Zurgo Bellstriker (R, 2/2, dash 1R) - Efficient hasty beater\n",
      "• Mogg Fanatic (R, 1/1, sac for 1 damage) - Utility + damage\n",
      "• Jackal Pup (R, 2/1) - Classic efficient small creature\n",
      "\n",
      "IMPROVE SUPPORT SPELLS:\n",
      "• Keep: Firebolt (good removal with flashback)\n",
      "• Keep: Searing Spear (efficient removal)\n",
      "• Replace Gnawing Crescendo with: Lightning Bolt or Burst Lightning\n",
      "• Add: Reckless Charge (gives haste + pump)\n",
      "• Add: Trumpet Blast (team pump for alpha strike)\n",
      "\n",
      "📊 EXPECTED SCORE IMPROVEMENTS:\n",
      "With proper 'Small Creatures' theme criteria:\n",
      "• Theme Alignment: 0.0 → 6.0+ (properly recognizes haste/small creatures)\n",
      "• Overall Score: 1.8 → 25.0+ (massive improvement)\n",
      "• Strategy Coherence: Much more focused aggro plan\n",
      "\n",
      "🎮 STRATEGIC IDENTITY:\n",
      "The improved deck would be:\n",
      "• Pure aggressive strategy\n",
      "• Efficient small creatures with haste/evasion\n",
      "• Burn spells for reach and removal\n",
      "• Consistent 1-3 mana curve\n",
      "• High synergy between all pieces\n",
      "\n",
      "💡 KEY INSIGHT:\n",
      "The low score isn't just about card quality - it's about:\n",
      "1. Missing theme criteria for 'Small Creatures'\n",
      "2. Mixed strategy (tokens + individual creatures)\n",
      "3. Cards that contradict the theme (6/4 creature in 'small' deck)\n",
      "4. Need for more aggressive creatures with relevant keywords\n"
     ]
    }
   ],
   "source": [
    "# Specific improvements for Red Small Creatures theme\n",
    "print(\"=== THEME IMPROVEMENT ANALYSIS ===\")\n",
    "print()\n",
    "\n",
    "print(\"🔍 CURRENT ISSUES IDENTIFIED:\")\n",
    "print(\"1. **Theme Alignment Score: 0.0** - The theme criteria doesn't recognize 'Small Creatures' properly\")\n",
    "print(\"2. **Mixed Strategy** - Has both token generators and individual creatures\")\n",
    "print(\"3. **Oliphaunt (6/4)** - Contradicts 'small creatures' theme\")\n",
    "print(\"4. **Low Power Density** - Only 50% have haste, 30% have evasion\")\n",
    "print(\"5. **Token Spell Confusion** - Forbidden Friendship and Rally create tokens but aren't creatures\")\n",
    "print()\n",
    "\n",
    "print(\"🛠️ THEME CRITERIA IMPROVEMENTS NEEDED:\")\n",
    "print()\n",
    "print(\"Current theme_criteria likely missing 'Small Creatures' entry. We should add:\")\n",
    "print()\n",
    "print(\"'Small Creatures': {\")\n",
    "print(\"    'keywords': ['small', 'goblin', 'haste', 'dash', 'prowess', 'first strike'],\")\n",
    "print(\"    'abilities': ['haste', 'menace', 'first strike', 'double strike', 'dash'],\")\n",
    "print(\"    'stats_matter': True,\")\n",
    "print(\"    'power_threshold': 1,  # Want creatures with 1+ power\")\n",
    "print(\"    'max_power': 3,        # Cap for 'small' creatures\")\n",
    "print(\"    'utility_bonus': 1.0,\")\n",
    "print(\"    'evasion_bonus': 2.0,  # High value on evasion for aggro\")\n",
    "print(\"    'haste_bonus': 2.5,    # Haste is crucial for small aggro\")\n",
    "print(\"    'efficient_stats_bonus': 1.5  # Bonus for power >= CMC\")\n",
    "print(\"}\")\n",
    "print()\n",
    "\n",
    "print(\"🎯 DECK COMPOSITION IMPROVEMENTS:\")\n",
    "print()\n",
    "\n",
    "print(\"REMOVE (doesn't fit theme):\")\n",
    "print(\"• Oliphaunt (6/4) - Too big for 'small creatures'\")\n",
    "print(\"• Forbidden Friendship - Token spell, not a creature\")\n",
    "print(\"• Rally at the Hornburg - Token spell, not a creature\")\n",
    "print()\n",
    "\n",
    "print(\"ADD (quintessential small red creatures):\")\n",
    "print(\"• Goblin Guide (1R, 2/2, haste) - Perfect aggressive 1-drop\")\n",
    "print(\"• Monastery Swiftspear (R, 1/2, haste, prowess) - Grows with spells\")\n",
    "print(\"• Lightning Berserker (R, 1/1, haste, dash 1R) - Flexible aggression\")\n",
    "print(\"• Zurgo Bellstriker (R, 2/2, dash 1R) - Efficient hasty beater\")\n",
    "print(\"• Mogg Fanatic (R, 1/1, sac for 1 damage) - Utility + damage\")\n",
    "print(\"• Jackal Pup (R, 2/1) - Classic efficient small creature\")\n",
    "print()\n",
    "\n",
    "print(\"IMPROVE SUPPORT SPELLS:\")\n",
    "print(\"• Keep: Firebolt (good removal with flashback)\")\n",
    "print(\"• Keep: Searing Spear (efficient removal)\")\n",
    "print(\"• Replace Gnawing Crescendo with: Lightning Bolt or Burst Lightning\")\n",
    "print(\"• Add: Reckless Charge (gives haste + pump)\")\n",
    "print(\"• Add: Trumpet Blast (team pump for alpha strike)\")\n",
    "print()\n",
    "\n",
    "print(\"📊 EXPECTED SCORE IMPROVEMENTS:\")\n",
    "print(\"With proper 'Small Creatures' theme criteria:\")\n",
    "print(\"• Theme Alignment: 0.0 → 6.0+ (properly recognizes haste/small creatures)\")\n",
    "print(\"• Overall Score: 1.8 → 25.0+ (massive improvement)\")\n",
    "print(\"• Strategy Coherence: Much more focused aggro plan\")\n",
    "print()\n",
    "\n",
    "print(\"🎮 STRATEGIC IDENTITY:\")\n",
    "print(\"The improved deck would be:\")\n",
    "print(\"• Pure aggressive strategy\")\n",
    "print(\"• Efficient small creatures with haste/evasion\")\n",
    "print(\"• Burn spells for reach and removal\")\n",
    "print(\"• Consistent 1-3 mana curve\")\n",
    "print(\"• High synergy between all pieces\")\n",
    "print()\n",
    "\n",
    "print(\"💡 KEY INSIGHT:\")\n",
    "print(\"The low score isn't just about card quality - it's about:\")\n",
    "print(\"1. Missing theme criteria for 'Small Creatures'\")\n",
    "print(\"2. Mixed strategy (tokens + individual creatures)\")\n",
    "print(\"3. Cards that contradict the theme (6/4 creature in 'small' deck)\")\n",
    "print(\"4. Need for more aggressive creatures with relevant keywords\")"
   ]
  },
  {
   "cell_type": "code",
   "execution_count": 67,
   "id": "ab11135d",
   "metadata": {},
   "outputs": [
    {
     "name": "stdout",
     "output_type": "stream",
     "text": [
      "=== TESTING RED SMALL CREATURES WITH NEW THEME CRITERIA ===\n",
      "\n",
      "RED SMALL CREATURES WITH NEW THEME CRITERIA:\n",
      "Overall score: 11.75 (was 1.8)\n",
      "Theme score: 2.92\n",
      "Color coherence: 1.00\n",
      "Mana curve: 0.95\n",
      "Creature theme alignment: 7.25 (was 0.0)\n",
      "\n",
      "Expected themes: ['Small Creatures']\n",
      "✅ Small Creatures theme is now recognized!\n",
      "\n",
      "Red Small Creatures ranking: #6 (was likely in bottom 5)\n",
      "Score improvement: +9.95 points\n",
      "\n",
      "=== SCORE BREAKDOWN ===\n",
      "Theme score: 2.92 × 0.5 = 1.46\n",
      "Color coherence: 1.00 × 0.1 = 0.10\n",
      "Mana curve: 0.95 × 0.2 = 0.19\n",
      "Creature theme: 7.25 × 0.2 = 1.45\n",
      "\n",
      "=== OTHER DECKS THAT MAY BENEFIT ===\n",
      "Decks with 'Small Creatures' theme:\n",
      "• Red Small Creatures: 11.75 overall, 7.25 creature alignment\n",
      "\n",
      "✅ SUCCESS! Small Creatures theme criteria added successfully!\n",
      "The Red Small Creatures deck should now score much better.\n"
     ]
    }
   ],
   "source": [
    "# Test the Red Small Creatures deck with new Small Creatures theme criteria\n",
    "import importlib\n",
    "from src import coherence as coherence_module\n",
    "from src import consts as consts_module\n",
    "\n",
    "# Reload modules to pick up the new Small Creatures theme criteria\n",
    "importlib.reload(consts_module)\n",
    "importlib.reload(coherence_module)\n",
    "\n",
    "print(\"=== TESTING RED SMALL CREATURES WITH NEW THEME CRITERIA ===\")\n",
    "print()\n",
    "\n",
    "# Run the analysis with updated criteria\n",
    "new_coherence_results = coherence_module.analyze_deck_theme_coherence_enhanced(cube_df, oracle_df)\n",
    "\n",
    "# Get Red Small Creatures results\n",
    "red_small_result = new_coherence_results['Red Small Creatures']\n",
    "\n",
    "print(\"RED SMALL CREATURES WITH NEW THEME CRITERIA:\")\n",
    "print(f\"Overall score: {red_small_result['overall_coherence']:.2f} (was 1.8)\")\n",
    "print(f\"Theme score: {red_small_result['theme_score']:.2f}\")\n",
    "print(f\"Color coherence: {red_small_result['color_coherence']:.2f}\")\n",
    "print(f\"Mana curve: {red_small_result['mana_curve_score']:.2f}\")\n",
    "print(f\"Creature theme alignment: {red_small_result['creature_stats']['theme_alignment_score']:.2f} (was 0.0)\")\n",
    "print()\n",
    "\n",
    "# Check that Small Creatures is now recognized\n",
    "expected_themes = red_small_result['expected_themes']\n",
    "print(f\"Expected themes: {expected_themes}\")\n",
    "if 'Small Creatures' in expected_themes:\n",
    "    print(\"✅ Small Creatures theme is now recognized!\")\n",
    "else:\n",
    "    print(\"❌ Small Creatures theme still not recognized\")\n",
    "print()\n",
    "\n",
    "# Show improvement ranking\n",
    "new_sorted = sorted(new_coherence_results.items(), \n",
    "                   key=lambda x: x[1]['overall_coherence'], \n",
    "                   reverse=True)\n",
    "\n",
    "red_small_rank = next(i for i, (name, _) in enumerate(new_sorted) if name == 'Red Small Creatures') + 1\n",
    "print(f\"Red Small Creatures ranking: #{red_small_rank} (was likely in bottom 5)\")\n",
    "\n",
    "# Show score improvement breakdown\n",
    "original_score = 1.8\n",
    "improvement = red_small_result['overall_coherence'] - original_score\n",
    "print(f\"Score improvement: {improvement:+.2f} points\")\n",
    "print()\n",
    "\n",
    "print(\"=== SCORE BREAKDOWN ===\")\n",
    "print(f\"Theme score: {red_small_result['theme_score']:.2f} × 0.5 = {red_small_result['theme_score'] * 0.5:.2f}\")\n",
    "print(f\"Color coherence: {red_small_result['color_coherence']:.2f} × 0.1 = {red_small_result['color_coherence'] * 0.1:.2f}\")\n",
    "print(f\"Mana curve: {red_small_result['mana_curve_score']:.2f} × 0.2 = {red_small_result['mana_curve_score'] * 0.2:.2f}\")\n",
    "print(f\"Creature theme: {red_small_result['creature_stats']['theme_alignment_score']:.2f} × 0.2 = {red_small_result['creature_stats']['theme_alignment_score'] * 0.2:.2f}\")\n",
    "print()\n",
    "\n",
    "# Show other improved decks that benefit from this change\n",
    "print(\"=== OTHER DECKS THAT MAY BENEFIT ===\")\n",
    "small_creature_decks = [name for name, analysis in new_coherence_results.items() \n",
    "                       if 'Small Creatures' in analysis['expected_themes']]\n",
    "\n",
    "if small_creature_decks:\n",
    "    print(\"Decks with 'Small Creatures' theme:\")\n",
    "    for deck_name in small_creature_decks:\n",
    "        score = new_coherence_results[deck_name]['overall_coherence']\n",
    "        creature_alignment = new_coherence_results[deck_name]['creature_stats']['theme_alignment_score']\n",
    "        print(f\"• {deck_name}: {score:.2f} overall, {creature_alignment:.2f} creature alignment\")\n",
    "else:\n",
    "    print(\"No other decks found with 'Small Creatures' theme\")\n",
    "\n",
    "print()\n",
    "print(\"✅ SUCCESS! Small Creatures theme criteria added successfully!\")\n",
    "print(\"The Red Small Creatures deck should now score much better.\")"
   ]
  }
 ],
 "metadata": {
  "kernelspec": {
   "display_name": "magic",
   "language": "python",
   "name": "python3"
  },
  "language_info": {
   "codemirror_mode": {
    "name": "ipython",
    "version": 3
   },
   "file_extension": ".py",
   "mimetype": "text/x-python",
   "name": "python",
   "nbconvert_exporter": "python",
   "pygments_lexer": "ipython3",
   "version": "3.13.2"
  }
 },
 "nbformat": 4,
 "nbformat_minor": 5
}

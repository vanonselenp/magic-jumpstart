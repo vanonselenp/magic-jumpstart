{
 "cells": [
  {
   "cell_type": "code",
   "execution_count": null,
   "id": "6ef0b8fa",
   "metadata": {},
   "outputs": [],
   "source": [
    "import pandas as pd\n",
    "from dotenv import load_dotenv\n",
    "from openai import OpenAI\n",
    "from anthropic import Anthropic\n",
    "from src.consts import *\n",
    "\n",
    "load_dotenv(override=True)\n",
    "openai = OpenAI()\n",
    "anthropic = Anthropic() \n",
    "\n",
    "# Load the data files\n",
    "oracle_df = pd.read_csv('ThePauperCube_oracle_with_pt.csv')\n",
    "print(f\"Loaded {len(oracle_df)} cards from oracle_df\")\n",
    "print(f\"Columns available: {list(oracle_df.columns)}\")\n",
    "oracle_df.head()"
   ]
  },
  {
   "cell_type": "markdown",
   "id": "4ed2b044",
   "metadata": {},
   "source": [
    "# Theme Validation\n",
    "Let's check if we have enough cards available for each theme in our jumpstart cube."
   ]
  },
  {
   "cell_type": "markdown",
   "id": "9a53fc20",
   "metadata": {},
   "source": [
    "# Deck Construction\n",
    "Now let's test the deck construction function to build actual jumpstart decks from our themes."
   ]
  },
  {
   "cell_type": "code",
   "execution_count": null,
   "id": "f5fdc170",
   "metadata": {},
   "outputs": [],
   "source": [
    "# Test the refactored deck construction function\n",
    "from src.construct import construct_jumpstart_decks, analyze_deck_composition, print_detailed_deck_analysis\n",
    "\n",
    "# Build all jumpstart decks using the new refactored version\n",
    "print(\"🚀 Starting deck construction with refactored algorithm...\")\n",
    "deck_dataframes = construct_jumpstart_decks(oracle_df, target_deck_size=13)\n",
    "\n",
    "# Print comprehensive summary using new analysis functions\n",
    "print_detailed_deck_analysis(deck_dataframes)"
   ]
  },
  {
   "cell_type": "code",
   "execution_count": null,
   "id": "d0e2d791",
   "metadata": {},
   "outputs": [],
   "source": [
    "from src.export import export_cube_to_csv\n",
    "\n",
    "\n",
    "export_cube_to_csv(deck_dataframes, 'jumpstart_decks.csv')"
   ]
  },
  {
   "cell_type": "code",
   "execution_count": null,
   "id": "26e39bda",
   "metadata": {},
   "outputs": [],
   "source": [
    "# Import validation functions and run card uniqueness validation\n",
    "from src.validation import validate_card_uniqueness, validate_deck_constraints, validate_jumpstart_cube, display_validation_summary\n",
    "\n",
    "# Run the validation\n",
    "validation_result = validate_card_uniqueness(deck_dataframes)"
   ]
  },
  {
   "cell_type": "code",
   "execution_count": null,
   "id": "b9729d05",
   "metadata": {},
   "outputs": [],
   "source": [
    "# Additional analysis using the imported validation functions\n",
    "from src.validation import analyze_card_distribution\n",
    "\n",
    "# Run the distribution analysis\n",
    "distribution_analysis = analyze_card_distribution(deck_dataframes, oracle_df)"
   ]
  },
  {
   "cell_type": "markdown",
   "id": "20842177",
   "metadata": {},
   "source": [
    "# Incomplete Deck Analysis & Theme Optimization\n",
    "Let's analyze the incomplete decks and see if we can suggest better theme mappings using the unassigned cards."
   ]
  }
 ],
 "metadata": {
  "kernelspec": {
   "display_name": "magic",
   "language": "python",
   "name": "python3"
  },
  "language_info": {
   "codemirror_mode": {
    "name": "ipython",
    "version": 3
   },
   "file_extension": ".py",
   "mimetype": "text/x-python",
   "name": "python",
   "nbconvert_exporter": "python",
   "pygments_lexer": "ipython3",
   "version": "3.13.2"
  }
 },
 "nbformat": 4,
 "nbformat_minor": 5
}

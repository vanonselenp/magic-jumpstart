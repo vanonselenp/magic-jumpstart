{
 "cells": [
  {
   "cell_type": "code",
   "execution_count": 1,
   "id": "6ef0b8fa",
   "metadata": {},
   "outputs": [],
   "source": [
    "import pandas as pd\n",
    "from dotenv import load_dotenv\n",
    "from openai import OpenAI\n",
    "from anthropic import Anthropic\n",
    "from src.consts import *\n",
    "from src.validation import validate_jumpstart_cube, display_validate_results\n",
    "from src.coherence import analyze_deck_theme_coherence_enhanced\n",
    "from src.improve import apply_swap\n",
    "\n",
    "load_dotenv(override=True)\n",
    "openai = OpenAI()\n",
    "anthropic = Anthropic() \n",
    "\n",
    "# Load the data files\n",
    "oracle_df = pd.read_csv('ThePauperCube_oracle_with_pt.csv')\n",
    "cube_df = pd.read_csv('JumpstartCube_ThePauperCube_ULTIMATE_Final_v2.csv')"
   ]
  },
  {
   "cell_type": "markdown",
   "id": "4ed2b044",
   "metadata": {},
   "source": [
    "# Optimise"
   ]
  },
  {
   "cell_type": "code",
   "execution_count": 17,
   "id": "2a2f16e9",
   "metadata": {},
   "outputs": [
    {
     "name": "stdout",
     "output_type": "stream",
     "text": [
      "Swap history cleared\n"
     ]
    },
    {
     "data": {
      "text/markdown": [
       "Analyzing deck: Blue Card Draw"
      ],
      "text/plain": [
       "<IPython.core.display.Markdown object>"
      ]
     },
     "metadata": {},
     "output_type": "display_data"
    },
    {
     "data": {
      "text/markdown": [
       "Current coherence: 2.0"
      ],
      "text/plain": [
       "<IPython.core.display.Markdown object>"
      ]
     },
     "metadata": {},
     "output_type": "display_data"
    },
    {
     "data": {
      "text/markdown": [
       "Expected themes: Card Draw"
      ],
      "text/plain": [
       "<IPython.core.display.Markdown object>"
      ]
     },
     "metadata": {},
     "output_type": "display_data"
    },
    {
     "data": {
      "text/markdown": [
       "Deck colors: U"
      ],
      "text/plain": [
       "<IPython.core.display.Markdown object>"
      ]
     },
     "metadata": {},
     "output_type": "display_data"
    },
    {
     "data": {
      "text/markdown": [
       "Found 39 candidate cards to consider"
      ],
      "text/plain": [
       "<IPython.core.display.Markdown object>"
      ]
     },
     "metadata": {},
     "output_type": "display_data"
    },
    {
     "data": {
      "text/markdown": [
       "Identified 13 cards as potential removal candidates"
      ],
      "text/plain": [
       "<IPython.core.display.Markdown object>"
      ]
     },
     "metadata": {},
     "output_type": "display_data"
    },
    {
     "data": {
      "text/markdown": [
       "# 🔄 Swap Recommendations for Blue Card Draw"
      ],
      "text/plain": [
       "<IPython.core.display.Markdown object>"
      ]
     },
     "metadata": {},
     "output_type": "display_data"
    },
    {
     "data": {
      "text/markdown": [
       "❌ **No beneficial swaps found.** The deck may already be well-optimized, or there may not be suitable replacement cards available."
      ],
      "text/plain": [
       "<IPython.core.display.Markdown object>"
      ]
     },
     "metadata": {},
     "output_type": "display_data"
    },
    {
     "name": "stdout",
     "output_type": "stream",
     "text": [
      "No available swaps to apply for this deck.\n",
      "Card: Behold the Multiverse, Score: 4, Themes: ['Card Draw']\n",
      "Card: Lórien Revealed, Score: 4, Themes: ['Card Draw']\n",
      "Card: Moon-Circuit Hacker, Score: 3, Themes: ['Card Draw']\n",
      "Card: Opt, Score: 4, Themes: ['Card Draw']\n",
      "Card: Young Blue Dragon, Score: 3, Themes: ['Card Draw']\n",
      "Card: Brainstorm, Score: 4, Themes: ['Card Draw']\n",
      "Card: Condescend, Score: 3, Themes: ['Card Draw']\n",
      "Card: Preordain, Score: 4, Themes: ['Card Draw']\n",
      "Card: Repeal, Score: 3, Themes: ['Card Draw']\n",
      "Card: Into the Roil, Score: 3, Themes: ['Card Draw']\n",
      "Card: Serum Visionary, Score: 3, Themes: ['Card Draw']\n",
      "Card: Faerie Seer, Score: 3, Themes: ['Card Draw']\n",
      "Card: Candy Trail, Score: 3, Themes: ['Card Draw']\n",
      "1.9830769230769232\n",
      "{'expected_themes': ['Card Draw'], 'theme_score': 3.3846153846153846, 'theme_matches': [{'card': 'Behold the Multiverse', 'score': 4, 'themes': ['Card Draw']}, {'card': 'Lórien Revealed', 'score': 4, 'themes': ['Card Draw']}, {'card': 'Moon-Circuit Hacker', 'score': 3, 'themes': ['Card Draw']}, {'card': 'Opt', 'score': 4, 'themes': ['Card Draw']}, {'card': 'Young Blue Dragon', 'score': 3, 'themes': ['Card Draw']}, {'card': 'Brainstorm', 'score': 4, 'themes': ['Card Draw']}, {'card': 'Condescend', 'score': 3, 'themes': ['Card Draw']}, {'card': 'Preordain', 'score': 4, 'themes': ['Card Draw']}, {'card': 'Repeal', 'score': 3, 'themes': ['Card Draw']}, {'card': 'Into the Roil', 'score': 3, 'themes': ['Card Draw']}, {'card': 'Serum Visionary', 'score': 3, 'themes': ['Card Draw']}, {'card': 'Faerie Seer', 'score': 3, 'themes': ['Card Draw']}, {'card': 'Candy Trail', 'score': 3, 'themes': ['Card Draw']}], 'color_coherence': 1.0, 'color_issues': [], 'mana_curve_score': 0.9538461538461539, 'mana_curve': {4: 1, 5: 2, 2: 2, 1: 7, 3: 1}, 'creature_stats': {'creature_count': 4, 'total_power': 8.0, 'total_toughness': 7.0, 'avg_power': 2.0, 'avg_toughness': 1.75, 'power_distribution': {2: 2, 3: 1, 1: 1}, 'toughness_distribution': {1: 2, 3: 1, 2: 1}, 'creature_categories': {'small': 3, 'medium': 1, 'large': 0, 'utility': 4, 'evasive': 2}, 'theme_alignment_score': 0.0, 'creature_details': [{'name': 'Moon-Circuit Hacker', 'power': 2.0, 'toughness': 1.0, 'categories': ['small', 'utility'], 'has_evasion': False, 'has_utility': True}, {'name': 'Young Blue Dragon', 'power': 3.0, 'toughness': 3.0, 'categories': ['medium', 'evasive', 'utility'], 'has_evasion': True, 'has_utility': True}, {'name': 'Serum Visionary', 'power': 2.0, 'toughness': 2.0, 'categories': ['small', 'utility'], 'has_evasion': False, 'has_utility': True}, {'name': 'Faerie Seer', 'power': 1.0, 'toughness': 1.0, 'categories': ['small', 'evasive', 'utility'], 'has_evasion': True, 'has_utility': True}]}, 'overall_coherence': 1.9830769230769232, 'deck_colors': 'U', 'card_count': 13}\n",
      "Iteration 1: Total coherence: 222.27 (improvement: 0.00)\n",
      "No further improvements found - optimization complete!\n"
     ]
    }
   ],
   "source": [
    "# You can also analyze a specific deck by name\n",
    "# Example: Analyze the \"Green Big Creatures\" deck\n",
    "\n",
    "import importlib\n",
    "import src.process\n",
    "importlib.reload(src.process)\n",
    "\n",
    "from src.process import optimize_deck_coherence, clear_swap_history\n",
    "\n",
    "# Clear any previous swap history to prevent issues with oscillation\n",
    "clear_swap_history()\n",
    "\n",
    "coherence = analyze_deck_theme_coherence_enhanced(cube_df, oracle_df)\n",
    "total_coherence = sum(result['overall_coherence'] for result in coherence.values())\n",
    "\n",
    "improvement = True\n",
    "iteration = 0\n",
    "max_iterations = 20  # Prevent infinite loops\n",
    "\n",
    "while improvement and iteration < max_iterations:\n",
    "    prev_total_coherence = total_coherence\n",
    "    cube_df = optimize_deck_coherence(cube_df=cube_df, oracle_df=oracle_df)\n",
    "    coherence = analyze_deck_theme_coherence_enhanced(cube_df, oracle_df)\n",
    "    total_coherence = sum(result['overall_coherence'] for result in coherence.values())\n",
    "    improvement = total_coherence > prev_total_coherence\n",
    "    iteration += 1\n",
    "    print(f\"Iteration {iteration}: Total coherence: {total_coherence:.2f} (improvement: {total_coherence - prev_total_coherence:.2f})\")\n",
    "    \n",
    "    if not improvement:\n",
    "        print(\"No further improvements found - optimization complete!\")\n",
    "    elif iteration >= max_iterations:\n",
    "        print(\"Maximum iterations reached - stopping optimization\")"
   ]
  },
  {
   "cell_type": "markdown",
   "id": "f407f31b",
   "metadata": {},
   "source": [
    "# Save to file"
   ]
  },
  {
   "cell_type": "code",
   "execution_count": 3,
   "id": "b89cb5cc",
   "metadata": {},
   "outputs": [],
   "source": [
    "# from src.export import export_cube_to_csv\n",
    "\n",
    "# export_cube_to_csv(cube_df, oracle_df, 'JumpstartCube_ThePauperCube_ULTIMATE_Final_v2.csv')"
   ]
  },
  {
   "cell_type": "markdown",
   "id": "0af7f3c9",
   "metadata": {},
   "source": [
    "# Analysis"
   ]
  },
  {
   "cell_type": "code",
   "execution_count": 4,
   "id": "2c4d7fff",
   "metadata": {},
   "outputs": [],
   "source": [
    "# from src.coherence import display_coherence_analysis_enhanced\n",
    "\n",
    "# display_coherence_analysis_enhanced(analyze_deck_theme_coherence_enhanced(cube_df, oracle_df))"
   ]
  },
  {
   "cell_type": "code",
   "execution_count": 6,
   "id": "902aa5f3",
   "metadata": {},
   "outputs": [
    {
     "name": "stdout",
     "output_type": "stream",
     "text": [
      "Column names in cube_df:\n",
      "['Name', 'Set', 'Collector Number', 'Rarity', 'Color Identity', 'Type', 'Mana Cost', 'CMC', 'Power', 'Toughness', 'Tags']\n",
      "\n",
      "First few rows:\n",
      "                    Name    Set  Collector Number  Rarity Color Identity  \\\n",
      "0          Archaeomancer  Mixed               NaN  common              U   \n",
      "1  Behold the Multiverse  Mixed               NaN  common              U   \n",
      "2             Ephemerate  Mixed               NaN  common              W   \n",
      "3         Lyev Skyknight  Mixed               NaN  common             WU   \n",
      "4        Lórien Revealed  Mixed               NaN  common              U   \n",
      "\n",
      "                      Type  Mana Cost  CMC  Power  Toughness  \\\n",
      "0  Creature - Human Wizard        NaN    4    NaN        NaN   \n",
      "1                  Instant        NaN    4    NaN        NaN   \n",
      "2                  Instant        NaN    1    NaN        NaN   \n",
      "3  Creature - Human Knight        NaN    3    NaN        NaN   \n",
      "4                  Sorcery        NaN    5    NaN        NaN   \n",
      "\n",
      "                     Tags  \n",
      "0  Azorius Evasion/Flying  \n",
      "1          Blue Card Draw  \n",
      "2  Azorius Evasion/Flying  \n",
      "3  Azorius Evasion/Flying  \n",
      "4          Blue Card Draw  \n"
     ]
    }
   ],
   "source": [
    "# Let's first check the structure of the cube_df\n",
    "print(\"Column names in cube_df:\")\n",
    "print(cube_df.columns.tolist())\n",
    "print(\"\\nFirst few rows:\")\n",
    "print(cube_df.head())"
   ]
  },
  {
   "cell_type": "code",
   "execution_count": 7,
   "id": "7a2427f1",
   "metadata": {},
   "outputs": [
    {
     "name": "stdout",
     "output_type": "stream",
     "text": [
      "Current Blue Card Draw deck:\n",
      "==================================================\n",
      "Behold the Multiverse - nan - Instant\n",
      "Lórien Revealed - nan - Sorcery\n",
      "Moon-Circuit Hacker - nan - Enchantment Creature - Human Ninja\n",
      "Opt - nan - Instant\n",
      "Young Blue Dragon - nan - Creature - Dragon\n",
      "Brainstorm - nan - Instant\n",
      "Condescend - nan - Instant\n",
      "Preordain - nan - Sorcery\n",
      "Repeal - nan - Instant\n",
      "Into the Roil - nan - Instant\n",
      "Serum Visionary - nan - Creature - Vedalken Wizard\n",
      "Faerie Seer - nan - Creature - Faerie Wizard\n",
      "Candy Trail - nan - Artifact - Food Clue\n",
      "\n",
      "Total cards in deck: 13\n",
      "Expected total: 13\n",
      "\n",
      "==================================================\n",
      "Checking oracle data for these cards:\n",
      "\n",
      "Behold the Multiverse:\n",
      "  Oracle text: No oracle text\n",
      "\n",
      "Lórien Revealed:\n",
      "  Oracle text: No oracle text\n",
      "\n",
      "Moon-Circuit Hacker:\n",
      "  Oracle text: No oracle text\n",
      "\n",
      "Opt:\n",
      "  Oracle text: No oracle text\n",
      "\n",
      "Young Blue Dragon:\n",
      "  Oracle text: No oracle text\n",
      "\n",
      "Brainstorm:\n",
      "  Oracle text: No oracle text\n",
      "\n",
      "Condescend:\n",
      "  Oracle text: No oracle text\n",
      "\n",
      "Preordain:\n",
      "  Oracle text: No oracle text\n",
      "\n",
      "Repeal:\n",
      "  Oracle text: No oracle text\n",
      "\n",
      "Into the Roil:\n",
      "  Oracle text: No oracle text\n",
      "\n",
      "Serum Visionary:\n",
      "  Oracle text: No oracle text\n",
      "\n",
      "Faerie Seer:\n",
      "  Oracle text: No oracle text\n",
      "\n",
      "Candy Trail:\n",
      "  Oracle text: No oracle text\n"
     ]
    }
   ],
   "source": [
    "# Let's examine the \"Blue Card Draw\" deck specifically\n",
    "blue_card_draw_deck = cube_df[cube_df['Tags'] == 'Blue Card Draw']\n",
    "print(\"Current Blue Card Draw deck:\")\n",
    "print(\"=\" * 50)\n",
    "for _, card in blue_card_draw_deck.iterrows():\n",
    "    print(f\"{card['Name']} - {card['Mana Cost']} - {card['Type']}\")\n",
    "\n",
    "print(f\"\\nTotal cards in deck: {len(blue_card_draw_deck)}\")\n",
    "print(f\"Expected total: {TOTAL_CARDS}\")\n",
    "\n",
    "# Also let's check if we have the oracle data for these cards\n",
    "print(\"\\n\" + \"=\" * 50)\n",
    "print(\"Checking oracle data for these cards:\")\n",
    "for _, card in blue_card_draw_deck.iterrows():\n",
    "    oracle_card = oracle_df[oracle_df['name'] == card['Name']]\n",
    "    if not oracle_card.empty:\n",
    "        oracle_text = oracle_card.iloc[0]['oracle_text'] if 'oracle_text' in oracle_card.columns else 'No oracle text'\n",
    "        print(f\"\\n{card['Name']}:\")\n",
    "        print(f\"  Oracle text: {oracle_text}\")\n",
    "    else:\n",
    "        print(f\"\\n{card['Name']}: NOT FOUND in oracle_df\")"
   ]
  },
  {
   "cell_type": "code",
   "execution_count": 8,
   "id": "8bf1a92f",
   "metadata": {},
   "outputs": [
    {
     "name": "stdout",
     "output_type": "stream",
     "text": [
      "Oracle_df columns:\n",
      "['name', 'CMC', 'Type', 'Color', 'Color Category', 'Oracle Text', 'tags', 'MTGO ID', 'Power', 'Toughness']\n",
      "\n",
      "Sample oracle_df row:\n",
      "          name  CMC                      Type Color Color Category  \\\n",
      "0  Boros Elite    1  Creature - Human Soldier     W          White   \n",
      "\n",
      "                                         Oracle Text tags   MTGO ID  Power  \\\n",
      "0  Battalion — Whenever this creature and at leas...  NaN  120547.0    1.0   \n",
      "\n",
      "   Toughness  \n",
      "0        1.0  \n",
      "\n",
      "==================================================\n",
      "Blue Card Draw deck with oracle data:\n",
      "\n",
      "Behold the Multiverse (Unknown) - Unknown\n",
      "  Text: No text found\n",
      "\n",
      "Lórien Revealed (Unknown) - Unknown\n",
      "  Text: No text found\n",
      "\n",
      "Moon-Circuit Hacker (Unknown) - Unknown\n",
      "  Text: No text found\n",
      "\n",
      "Opt (Unknown) - Unknown\n",
      "  Text: No text found\n",
      "\n",
      "Young Blue Dragon (Unknown) - Unknown\n",
      "  Text: No text found\n",
      "\n",
      "Brainstorm (Unknown) - Unknown\n",
      "  Text: No text found\n",
      "\n",
      "Condescend (Unknown) - Unknown\n",
      "  Text: No text found\n",
      "\n",
      "Preordain (Unknown) - Unknown\n",
      "  Text: No text found\n",
      "\n",
      "Repeal (Unknown) - Unknown\n",
      "  Text: No text found\n",
      "\n",
      "Into the Roil (Unknown) - Unknown\n",
      "  Text: No text found\n",
      "\n",
      "Serum Visionary (Unknown) - Unknown\n",
      "  Text: No text found\n",
      "\n",
      "Faerie Seer (Unknown) - Unknown\n",
      "  Text: No text found\n",
      "\n",
      "Candy Trail (Unknown) - Unknown\n",
      "  Text: No text found\n"
     ]
    }
   ],
   "source": [
    "# Check oracle_df structure\n",
    "print(\"Oracle_df columns:\")\n",
    "print(oracle_df.columns.tolist())\n",
    "print(\"\\nSample oracle_df row:\")\n",
    "print(oracle_df.head(1))\n",
    "\n",
    "# Now let's get proper oracle data for Blue Card Draw cards\n",
    "print(\"\\n\" + \"=\" * 50)\n",
    "print(\"Blue Card Draw deck with oracle data:\")\n",
    "for _, card in blue_card_draw_deck.iterrows():\n",
    "    oracle_card = oracle_df[oracle_df['name'] == card['Name']]\n",
    "    if not oracle_card.empty:\n",
    "        oracle_row = oracle_card.iloc[0]\n",
    "        # Get the text column (might be 'text' instead of 'oracle_text')\n",
    "        text_col = 'text' if 'text' in oracle_card.columns else 'oracle_text' if 'oracle_text' in oracle_card.columns else None\n",
    "        oracle_text = oracle_row[text_col] if text_col else 'No text found'\n",
    "        mana_cost = oracle_row['mana_cost'] if 'mana_cost' in oracle_card.columns else 'Unknown'\n",
    "        type_line = oracle_row['type_line'] if 'type_line' in oracle_card.columns else oracle_row['type'] if 'type' in oracle_card.columns else 'Unknown'\n",
    "        \n",
    "        print(f\"\\n{card['Name']} ({mana_cost}) - {type_line}\")\n",
    "        print(f\"  Text: {oracle_text}\")\n",
    "    else:\n",
    "        print(f\"\\n{card['Name']}: NOT FOUND in oracle_df\")"
   ]
  },
  {
   "cell_type": "code",
   "execution_count": 9,
   "id": "ad178c3e",
   "metadata": {},
   "outputs": [
    {
     "name": "stdout",
     "output_type": "stream",
     "text": [
      "Searching for Blue Card Draw cards in oracle_df:\n",
      "==================================================\n",
      "\n",
      "✓ Behold the Multiverse (EXACT MATCH)\n",
      "  Type: Instant\n",
      "  Text: Scry 2, then draw two cards. | Foretell {1}{U} (During your turn, you may pay {2} and exile this card from your hand face down. Cast it on a later turn for its foretell cost.)\n",
      "\n",
      "✓ Lórien Revealed (EXACT MATCH)\n",
      "  Type: Sorcery\n",
      "  Text: Draw three cards. | Islandcycling {1} ({1}, Discard this card: Search your library for an Island card, reveal it, put it into your hand, then shuffle.)\n",
      "\n",
      "✓ Moon-Circuit Hacker (EXACT MATCH)\n",
      "  Type: Enchantment Creature - Human Ninja\n",
      "  Text: Ninjutsu {U} ({U}, Return an unblocked attacker you control to hand: Put this card onto the battlefield from your hand tapped and attacking.) | Whenever this creature deals combat damage to a player, you may draw a card. If you do, discard a card unless this creature entered this turn.\n",
      "\n",
      "✓ Opt (EXACT MATCH)\n",
      "  Type: Instant\n",
      "  Text: Scry 1. (Look at the top card of your library. You may put that card on the bottom.) | Draw a card.\n",
      "\n",
      "✓ Young Blue Dragon (EXACT MATCH)\n",
      "  Type: Creature - Dragon\n",
      "  Text: Flying // Scry 1, then draw a card. (Then exile this card. You may cast the creature later from exile.)\n",
      "\n",
      "✓ Brainstorm (EXACT MATCH)\n",
      "  Type: Instant\n",
      "  Text: Draw three cards, then put two cards from your hand on top of your library in any order.\n",
      "\n",
      "✓ Condescend (EXACT MATCH)\n",
      "  Type: Instant\n",
      "  Text: Counter target spell unless its controller pays {X}. Scry 2. (Look at the top two cards of your library, then put any number of them on the bottom and the rest on top in any order.)\n",
      "\n",
      "✓ Preordain (EXACT MATCH)\n",
      "  Type: Sorcery\n",
      "  Text: Scry 2, then draw a card. (To scry 2, look at the top two cards of your library, then put any number of them on the bottom and the rest on top in any order.)\n",
      "\n",
      "✓ Repeal (EXACT MATCH)\n",
      "  Type: Instant\n",
      "  Text: Return target nonland permanent with mana value X to its owner's hand. | Draw a card.\n",
      "\n",
      "✓ Into the Roil (EXACT MATCH)\n",
      "  Type: Instant\n",
      "  Text: Kicker {1}{U} (You may pay an additional {1}{U} as you cast this spell.) | Return target nonland permanent to its owner's hand. If this spell was kicked, draw a card.\n",
      "\n",
      "✓ Serum Visionary (EXACT MATCH)\n",
      "  Type: Creature - Vedalken Wizard\n",
      "  Text: When this creature enters, draw a card, then scry 2.\n",
      "\n",
      "✓ Faerie Seer (EXACT MATCH)\n",
      "  Type: Creature - Faerie Wizard\n",
      "  Text: Flying | When this creature enters, scry 2. (Look at the top two cards of your library, then put any number of them on the bottom and the rest on top in any order.)\n",
      "\n",
      "✓ Candy Trail (EXACT MATCH)\n",
      "  Type: Artifact - Food Clue\n",
      "  Text: When this artifact enters, scry 2. | {2}, {T}, Sacrifice this artifact: You gain 3 life and draw a card.\n",
      "\n",
      "\n",
      "============================================================\n",
      "Available blue cards that mention 'draw' in oracle_df:\n",
      "============================================================\n",
      "Found 27 blue cards that mention 'draw'\n",
      "\n",
      "Looter il-Kor (2 CMC) - Creature - Kor Rogue\n",
      "  Text: Shadow (This creature can block or be blocked by only creatures with shadow.) | Whenever this creature deals damage to an opponent, draw a card, then discard a card.\n",
      "\n",
      "Merfolk Looter (2 CMC) - Creature - Merfolk Rogue\n",
      "  Text: {T}: Draw a card, then discard a card.\n",
      "\n",
      "Moon-Circuit Hacker (2 CMC) - Enchantment Creature - Human Ninja\n",
      "  Text: Ninjutsu {U} ({U}, Return an unblocked attacker you control to hand: Put this card onto the battlefield from your hand tapped and attacking.) | Whenever this creature deals combat damage to a player, you may draw a card. If you do, discard a card unless this creature entered this turn.\n",
      "\n",
      "Cloudkin Seer (3 CMC) - Creature - Elemental Wizard\n",
      "  Text: Flying | When this creature enters, draw a card.\n",
      "\n",
      "Jhessian Thief (3 CMC) - Creature - Human Rogue\n",
      "  Text: Prowess (Whenever you cast a noncreature spell, this creature gets +1/+1 until end of turn.) | Whenever this creature deals combat damage to a player, draw a card.\n",
      "\n",
      "Serum Visionary (3 CMC) - Creature - Vedalken Wizard\n",
      "  Text: When this creature enters, draw a card, then scry 2.\n",
      "\n",
      "Vizier of Tumbling Sands (3 CMC) - Creature - Human Cleric\n",
      "  Text: {T}: Untap another target permanent. | Cycling {1}{U} ({1}{U}, Discard this card: Draw a card.) | When you cycle this card, untap target permanent.\n",
      "\n",
      "Mulldrifter (5 CMC) - Creature - Elemental\n",
      "  Text: Flying | When this creature enters, draw two cards. | Evoke {2}{U} (You may cast this spell for its evoke cost. If you do, it's sacrificed when it enters.)\n",
      "\n",
      "Young Blue Dragon (5 CMC) - Creature - Dragon\n",
      "  Text: Flying // Scry 1, then draw a card. (Then exile this card. You may cast the creature later from exile.)\n",
      "\n",
      "Striped Riverwinder (7 CMC) - Creature - Serpent\n",
      "  Text: Hexproof (This creature can't be the target of spells or abilities your opponents control.) | Cycling {U} ({U}, Discard this card: Draw a card.)\n",
      "\n",
      "Brainstorm (1 CMC) - Instant\n",
      "  Text: Draw three cards, then put two cards from your hand on top of your library in any order.\n",
      "\n",
      "Consider (1 CMC) - Instant\n",
      "  Text: Surveil 1. (Look at the top card of your library. You may put it into your graveyard.) | Draw a card.\n",
      "\n",
      "Opt (1 CMC) - Instant\n",
      "  Text: Scry 1. (Look at the top card of your library. You may put that card on the bottom.) | Draw a card.\n",
      "\n",
      "Repeal (1 CMC) - Instant\n",
      "  Text: Return target nonland permanent with mana value X to its owner's hand. | Draw a card.\n",
      "\n",
      "Into the Roil (2 CMC) - Instant\n",
      "  Text: Kicker {1}{U} (You may pay an additional {1}{U} as you cast this spell.) | Return target nonland permanent to its owner's hand. If this spell was kicked, draw a card.\n",
      "\n",
      "Miscalculation (2 CMC) - Instant\n",
      "  Text: Counter target spell unless its controller pays {2}. | Cycling {2} ({2}, Discard this card: Draw a card.)\n",
      "\n",
      "Exclude (3 CMC) - Instant\n",
      "  Text: Counter target creature spell. | Draw a card.\n",
      "\n",
      "Quick Study (3 CMC) - Instant\n",
      "  Text: Draw two cards.\n",
      "\n",
      "Behold the Multiverse (4 CMC) - Instant\n",
      "  Text: Scry 2, then draw two cards. | Foretell {1}{U} (During your turn, you may pay {2} and exile this card from your hand face down. Cast it on a later turn for its foretell cost.)\n",
      "\n",
      "Hard Evidence (1 CMC) - Creature Sorcery\n",
      "  Text: Create a 0/3 blue Crab creature token. | Investigate. (Create a Clue token. It's an artifact with \"{2}, Sacrifice this token: Draw a card.\")\n"
     ]
    }
   ],
   "source": [
    "# Let's try to find these cards with partial matching\n",
    "print(\"Searching for Blue Card Draw cards in oracle_df:\")\n",
    "print(\"=\" * 50)\n",
    "\n",
    "# Get unique card names from the Blue Card Draw deck\n",
    "blue_cards = blue_card_draw_deck['Name'].tolist()\n",
    "\n",
    "for card_name in blue_cards:\n",
    "    # Try exact match first\n",
    "    exact_match = oracle_df[oracle_df['name'] == card_name]\n",
    "    if not exact_match.empty:\n",
    "        oracle_row = exact_match.iloc[0]\n",
    "        oracle_text = oracle_row['Oracle Text'] if pd.notna(oracle_row['Oracle Text']) else 'No text'\n",
    "        print(f\"\\n✓ {card_name} (EXACT MATCH)\")\n",
    "        print(f\"  Type: {oracle_row['Type']}\")\n",
    "        print(f\"  Text: {oracle_text}\")\n",
    "    else:\n",
    "        # Try partial match\n",
    "        partial_matches = oracle_df[oracle_df['name'].str.contains(card_name.split()[0], case=False, na=False)]\n",
    "        if not partial_matches.empty:\n",
    "            print(f\"\\n~ {card_name} (PARTIAL MATCHES):\")\n",
    "            for _, match in partial_matches.head(3).iterrows():  # Show top 3 matches\n",
    "                match_text = match['Oracle Text'] if pd.notna(match['Oracle Text']) else 'No text'\n",
    "                print(f\"    - {match['name']}: {match_text[:80]}...\")\n",
    "        else:\n",
    "            print(f\"\\n✗ {card_name} (NOT FOUND)\")\n",
    "\n",
    "# Let's also see what blue card draw spells are available in the oracle\n",
    "print(f\"\\n\\n{'='*60}\")\n",
    "print(\"Available blue cards that mention 'draw' in oracle_df:\")\n",
    "print(\"=\" * 60)\n",
    "\n",
    "blue_draw_cards = oracle_df[\n",
    "    (oracle_df['Color Category'].str.contains('Blue', na=False)) & \n",
    "    (oracle_df['Oracle Text'].str.contains('draw', case=False, na=False))\n",
    "]\n",
    "\n",
    "print(f\"Found {len(blue_draw_cards)} blue cards that mention 'draw'\")\n",
    "for _, card in blue_draw_cards.head(20).iterrows():  # Show first 20\n",
    "    oracle_text = card['Oracle Text'] if pd.notna(card['Oracle Text']) else 'No text'\n",
    "    print(f\"\\n{card['name']} ({card['CMC']} CMC) - {card['Type']}\")\n",
    "    print(f\"  Text: {oracle_text}\")"
   ]
  },
  {
   "cell_type": "code",
   "execution_count": 10,
   "id": "ceaa8f41",
   "metadata": {},
   "outputs": [
    {
     "name": "stdout",
     "output_type": "stream",
     "text": [
      "THEME ANALYSIS: Blue Card Draw\n",
      "==================================================\n",
      "Theme keywords from consts.py: ['draw', 'card', 'hand', 'library', 'cantrip', 'scry']\n",
      "Color synergies for Blue: ['draw', 'counter', 'flying', 'scry', 'bounce', 'wizard', 'merfolk']\n",
      "\n",
      "==================================================\n",
      "QUINTESSENTIAL BLUE CARD DRAW SPELLS:\n",
      "==================================================\n",
      "Looking for classic card draw spells in oracle_df:\n",
      "\n",
      "✓ Opt (1 CMC)\n",
      "  Text: Scry 1. (Look at the top card of your library. You may put that card on the bottom.) | Draw a card.\n",
      "\n",
      "✓ Preordain (1 CMC)\n",
      "  Text: Scry 2, then draw a card. (To scry 2, look at the top two cards of your library, then put any number of them on the bottom and the rest on top in any order.)\n",
      "\n",
      "✓ Brainstorm (1 CMC)\n",
      "  Text: Draw three cards, then put two cards from your hand on top of your library in any order.\n",
      "\n",
      "✓ Ponder (1 CMC)\n",
      "  Text: No text\n",
      "\n",
      "✓ Deep Analysis (4 CMC)\n",
      "  Text: Target player draws two cards. | Flashback—{1}{U}, Pay 3 life. (You may cast this card from your graveyard for its flashback cost. Then exile it.)\n",
      "\n",
      "✓ Compulsive Research (3 CMC)\n",
      "  Text: Target player draws three cards. Then that player discards two cards unless they discard a land card.\n",
      "\n",
      "✓ Serum Visions (1 CMC)\n",
      "  Text: Draw a card. Scry 2.\n",
      "\n",
      "✓ Consider (1 CMC)\n",
      "  Text: Surveil 1. (Look at the top card of your library. You may put it into your graveyard.) | Draw a card.\n",
      "\n",
      "✓ Impulse (2 CMC)\n",
      "  Text: No text\n",
      "\n",
      "✓ Reckless Impulse (2 CMC)\n",
      "  Text: Exile the top two cards of your library. Until the end of your next turn, you may play those cards.\n",
      "\n",
      "==================================================\n",
      "CURRENT BLUE CARD DRAW DECK ANALYSIS:\n",
      "==================================================\n",
      "Current deck composition:\n",
      "- Behold the Multiverse\n",
      "- Lórien Revealed\n",
      "- Moon-Circuit Hacker\n",
      "- Opt\n",
      "- Young Blue Dragon\n",
      "- Brainstorm\n",
      "- Condescend\n",
      "- Preordain\n",
      "- Repeal\n",
      "- Into the Roil\n",
      "- Serum Visionary\n",
      "- Faerie Seer\n",
      "- Candy Trail\n",
      "\n",
      "Deck categorization:\n",
      "Classic card draw: Opt, Brainstorm, Preordain\n",
      "Bounce spells: Repeal, Into the Roil\n",
      "Creatures: Moon-Circuit Hacker, Young Blue Dragon, Serum Visionary, Faerie Seer\n",
      "Modal/Kicker: Behold the Multiverse, Lórien Revealed\n",
      "Counter/Utility: Condescend\n",
      "Artifact: Candy Trail\n"
     ]
    }
   ],
   "source": [
    "# Let's analyze the Blue Card Draw theme more systematically\n",
    "\n",
    "# First, let's see what the theme definition looks like in consts.py\n",
    "print(\"THEME ANALYSIS: Blue Card Draw\")\n",
    "print(\"=\" * 50)\n",
    "print(\"Theme keywords from consts.py:\", theme_keywords.get('Card Draw', []))\n",
    "print(\"Color synergies for Blue:\", color_synergies.get('U', []))\n",
    "\n",
    "# Now let's look for quintessential blue card draw spells\n",
    "print(f\"\\n{'='*50}\")\n",
    "print(\"QUINTESSENTIAL BLUE CARD DRAW SPELLS:\")\n",
    "print(\"=\" * 50)\n",
    "\n",
    "# Search for classic card draw spells\n",
    "classic_draw_spells = [\n",
    "    'Opt', 'Preordain', 'Brainstorm', 'Ponder', 'Divination', \n",
    "    'Think Twice', 'Accumulated Knowledge', 'Deep Analysis',\n",
    "    'Fact or Fiction', 'Compulsive Research', 'Catalog',\n",
    "    'Serum Visions', 'Consider', 'Impulse'\n",
    "]\n",
    "\n",
    "print(\"Looking for classic card draw spells in oracle_df:\")\n",
    "found_classics = []\n",
    "for spell in classic_draw_spells:\n",
    "    matches = oracle_df[oracle_df['name'].str.contains(spell, case=False, na=False)]\n",
    "    if not matches.empty:\n",
    "        for _, match in matches.iterrows():\n",
    "            if spell.lower() in match['name'].lower():\n",
    "                found_classics.append(match)\n",
    "                oracle_text = match['Oracle Text'] if pd.notna(match['Oracle Text']) else 'No text'\n",
    "                print(f\"\\n✓ {match['name']} ({match['CMC']} CMC)\")\n",
    "                print(f\"  Text: {oracle_text}\")\n",
    "\n",
    "print(f\"\\n{'='*50}\")\n",
    "print(\"CURRENT BLUE CARD DRAW DECK ANALYSIS:\")\n",
    "print(\"=\" * 50)\n",
    "\n",
    "# Analyze current deck composition\n",
    "current_deck = ['Behold the Multiverse', 'Lórien Revealed', 'Moon-Circuit Hacker', \n",
    "                'Opt', 'Young Blue Dragon', 'Brainstorm', 'Condescend', \n",
    "                'Preordain', 'Repeal', 'Into the Roil', 'Serum Visionary', \n",
    "                'Faerie Seer', 'Candy Trail']\n",
    "\n",
    "print(\"Current deck composition:\")\n",
    "for card in current_deck:\n",
    "    print(f\"- {card}\")\n",
    "\n",
    "print(f\"\\nDeck categorization:\")\n",
    "print(\"Classic card draw: Opt, Brainstorm, Preordain\")  \n",
    "print(\"Bounce spells: Repeal, Into the Roil\")\n",
    "print(\"Creatures: Moon-Circuit Hacker, Young Blue Dragon, Serum Visionary, Faerie Seer\")\n",
    "print(\"Modal/Kicker: Behold the Multiverse, Lórien Revealed\")\n",
    "print(\"Counter/Utility: Condescend\")\n",
    "print(\"Artifact: Candy Trail\")"
   ]
  },
  {
   "cell_type": "code",
   "execution_count": 11,
   "id": "9e1f3c7c",
   "metadata": {},
   "outputs": [
    {
     "name": "stdout",
     "output_type": "stream",
     "text": [
      "COHERENCE ANALYSIS:\n",
      "==================================================\n",
      "Current Blue Card Draw coherence score: 1.9830769230769232\n",
      "Theme alignment: N/A\n",
      "Synergy score: N/A\n",
      "\n",
      "==================================================\n",
      "RECOMMENDATIONS FOR IMPROVEMENT:\n",
      "==================================================\n",
      "ISSUES WITH CURRENT DECK:\n",
      "1. Bounce spells (Repeal, Into the Roil) don't directly draw cards\n",
      "2. Young Blue Dragon is a big creature, not card draw focused\n",
      "3. Candy Trail is an artifact that doesn't fit the pure card draw theme\n",
      "4. Mix of themes dilutes the card draw focus\n",
      "\n",
      "BETTER ALTERNATIVES FOUND IN ORACLE:\n",
      "✓ Serum Visions - Pure card draw with scry\n",
      "✓ Consider - Modern card selection with surveil\n",
      "✓ Deep Analysis - Card advantage with flashback\n",
      "✓ Compulsive Research - Raw card draw\n",
      "✓ Impulse - Card selection\n",
      "\n",
      "QUINTESSENTIAL BLUE CARD DRAW THEME SHOULD INCLUDE:\n",
      "- Low-cost cantrips (Opt, Preordain, Brainstorm)\n",
      "- Card selection (Ponder, Serum Visions, Impulse)\n",
      "- Card advantage spells (Divination effects)\n",
      "- Creatures that draw cards when they enter\n",
      "- Instant-speed card draw for flexibility\n",
      "\n",
      "THEME DEFINITION ANALYSIS:\n",
      "Current 'Card Draw' keywords: ['draw', 'card', 'hand', 'library', 'cantrip', 'scry']\n",
      "✓ Good: covers 'draw', 'card', 'scry'\n",
      "? Missing: 'surveil', 'look', 'search library', 'impulse draw'\n",
      "\n",
      "SUGGESTED THEME IMPROVEMENTS:\n",
      "Add keywords: 'surveil', 'look at', 'reveal', 'impulse', 'exile.*play'\n",
      "Consider separating 'Card Selection' vs 'Card Advantage' sub-themes\n"
     ]
    }
   ],
   "source": [
    "# Let's analyze the coherence of the current Blue Card Draw deck\n",
    "print(\"COHERENCE ANALYSIS:\")\n",
    "print(\"=\" * 50)\n",
    "\n",
    "# Check what we can find about the current deck's coherence\n",
    "blue_coherence = coherence.get('Blue Card Draw', {})\n",
    "if blue_coherence:\n",
    "    print(f\"Current Blue Card Draw coherence score: {blue_coherence.get('overall_coherence', 'N/A')}\")\n",
    "    print(f\"Theme alignment: {blue_coherence.get('theme_alignment', 'N/A')}\")\n",
    "    print(f\"Synergy score: {blue_coherence.get('synergy_score', 'N/A')}\")\n",
    "else:\n",
    "    print(\"No coherence data found for Blue Card Draw deck\")\n",
    "\n",
    "print(f\"\\n{'='*50}\")\n",
    "print(\"RECOMMENDATIONS FOR IMPROVEMENT:\")\n",
    "print(\"=\" * 50)\n",
    "\n",
    "print(\"ISSUES WITH CURRENT DECK:\")\n",
    "print(\"1. Bounce spells (Repeal, Into the Roil) don't directly draw cards\")\n",
    "print(\"2. Young Blue Dragon is a big creature, not card draw focused\") \n",
    "print(\"3. Candy Trail is an artifact that doesn't fit the pure card draw theme\")\n",
    "print(\"4. Mix of themes dilutes the card draw focus\")\n",
    "\n",
    "print(\"\\nBETTER ALTERNATIVES FOUND IN ORACLE:\")\n",
    "print(\"✓ Serum Visions - Pure card draw with scry\")\n",
    "print(\"✓ Consider - Modern card selection with surveil\")\n",
    "print(\"✓ Deep Analysis - Card advantage with flashback\")\n",
    "print(\"✓ Compulsive Research - Raw card draw\")\n",
    "print(\"✓ Impulse - Card selection\")\n",
    "\n",
    "print(\"\\nQUINTESSENTIAL BLUE CARD DRAW THEME SHOULD INCLUDE:\")\n",
    "print(\"- Low-cost cantrips (Opt, Preordain, Brainstorm)\")\n",
    "print(\"- Card selection (Ponder, Serum Visions, Impulse)\")\n",
    "print(\"- Card advantage spells (Divination effects)\")\n",
    "print(\"- Creatures that draw cards when they enter\")\n",
    "print(\"- Instant-speed card draw for flexibility\")\n",
    "\n",
    "print(\"\\nTHEME DEFINITION ANALYSIS:\")\n",
    "print(\"Current 'Card Draw' keywords:\", theme_keywords['Card Draw'])\n",
    "print(\"✓ Good: covers 'draw', 'card', 'scry'\")  \n",
    "print(\"? Missing: 'surveil', 'look', 'search library', 'impulse draw'\")\n",
    "\n",
    "print(\"\\nSUGGESTED THEME IMPROVEMENTS:\")\n",
    "print(\"Add keywords: 'surveil', 'look at', 'reveal', 'impulse', 'exile.*play'\")\n",
    "print(\"Consider separating 'Card Selection' vs 'Card Advantage' sub-themes\")"
   ]
  },
  {
   "cell_type": "code",
   "execution_count": 12,
   "id": "fb7b25e5",
   "metadata": {},
   "outputs": [
    {
     "name": "stdout",
     "output_type": "stream",
     "text": [
      "SEARCHING FOR BETTER ALTERNATIVES:\n",
      "==================================================\n",
      "CREATURES THAT DRAW CARDS:\n",
      "\n",
      "Looter il-Kor (2 CMC) - Creature - Kor Rogue\n",
      "  Text: Shadow (This creature can block or be blocked by only creatures with shadow.) | Whenever this creatu...\n",
      "\n",
      "Merfolk Looter (2 CMC) - Creature - Merfolk Rogue\n",
      "  Text: {T}: Draw a card, then discard a card....\n",
      "\n",
      "Moon-Circuit Hacker (2 CMC) - Enchantment Creature - Human Ninja\n",
      "  Text: Ninjutsu {U} ({U}, Return an unblocked attacker you control to hand: Put this card onto the battlefi...\n",
      "\n",
      "Cloudkin Seer (3 CMC) - Creature - Elemental Wizard\n",
      "  Text: Flying | When this creature enters, draw a card....\n",
      "\n",
      "Jhessian Thief (3 CMC) - Creature - Human Rogue\n",
      "  Text: Prowess (Whenever you cast a noncreature spell, this creature gets +1/+1 until end of turn.) | Whene...\n",
      "\n",
      "Serum Visionary (3 CMC) - Creature - Vedalken Wizard\n",
      "  Text: When this creature enters, draw a card, then scry 2....\n",
      "\n",
      "Vizier of Tumbling Sands (3 CMC) - Creature - Human Cleric\n",
      "  Text: {T}: Untap another target permanent. | Cycling {1}{U} ({1}{U}, Discard this card: Draw a card.) | Wh...\n",
      "\n",
      "Mulldrifter (5 CMC) - Creature - Elemental\n",
      "  Text: Flying | When this creature enters, draw two cards. | Evoke {2}{U} (You may cast this spell for its ...\n",
      "\n",
      "Young Blue Dragon (5 CMC) - Creature - Dragon\n",
      "  Text: Flying // Scry 1, then draw a card. (Then exile this card. You may cast the creature later from exil...\n",
      "\n",
      "Striped Riverwinder (7 CMC) - Creature - Serpent\n",
      "  Text: Hexproof (This creature can't be the target of spells or abilities your opponents control.) | Cyclin...\n",
      "\n",
      "==================================================\n",
      "EFFICIENT CARD DRAW SPELLS (3 CMC or less):\n",
      "\n",
      "Brainstorm (1 CMC) - Instant\n",
      "  Text: Draw three cards, then put two cards from your hand on top of your library in any order....\n",
      "\n",
      "Condescend (1 CMC) - Instant\n",
      "  Text: Counter target spell unless its controller pays {X}. Scry 2. (Look at the top two cards of your library, then put any nu...\n",
      "\n",
      "Consider (1 CMC) - Instant\n",
      "  Text: Surveil 1. (Look at the top card of your library. You may put it into your graveyard.) | Draw a card....\n",
      "\n",
      "Opt (1 CMC) - Instant\n",
      "  Text: Scry 1. (Look at the top card of your library. You may put that card on the bottom.) | Draw a card....\n",
      "\n",
      "Repeal (1 CMC) - Instant\n",
      "  Text: Return target nonland permanent with mana value X to its owner's hand. | Draw a card....\n",
      "\n",
      "Into the Roil (2 CMC) - Instant\n",
      "  Text: Kicker {1}{U} (You may pay an additional {1}{U} as you cast this spell.) | Return target nonland permanent to its owner'...\n",
      "\n",
      "Miscalculation (2 CMC) - Instant\n",
      "  Text: Counter target spell unless its controller pays {2}. | Cycling {2} ({2}, Discard this card: Draw a card.)...\n",
      "\n",
      "Exclude (3 CMC) - Instant\n",
      "  Text: Counter target creature spell. | Draw a card....\n",
      "\n",
      "Quick Study (3 CMC) - Instant\n",
      "  Text: Draw two cards....\n",
      "\n",
      "Preordain (1 CMC) - Sorcery\n",
      "  Text: Scry 2, then draw a card. (To scry 2, look at the top two cards of your library, then put any number of them on the bott...\n",
      "\n",
      "Serum Visions (1 CMC) - Sorcery\n",
      "  Text: Draw a card. Scry 2....\n",
      "\n",
      "Compulsive Research (3 CMC) - Sorcery\n",
      "  Text: Target player draws three cards. Then that player discards two cards unless they discard a land card....\n",
      "\n",
      "Gitaxian Probe (0 CMC) - Sorcery\n",
      "  Text: ({U/P} can be paid with either {U} or 2 life.) | Look at target player's hand. | Draw a card....\n",
      "\n",
      "==================================================\n",
      "CARD ADVANTAGE SPELLS (Draw 2+ cards):\n",
      "\n",
      "Mulldrifter (5 CMC) - Creature - Elemental\n",
      "  Text: Flying | When this creature enters, draw two cards. | Evoke {2}{U} (You may cast this spell for its evoke cost. If you d...\n",
      "\n",
      "Brainstorm (1 CMC) - Instant\n",
      "  Text: Draw three cards, then put two cards from your hand on top of your library in any order....\n",
      "\n",
      "Quick Study (3 CMC) - Instant\n",
      "  Text: Draw two cards....\n",
      "\n",
      "Behold the Multiverse (4 CMC) - Instant\n",
      "  Text: Scry 2, then draw two cards. | Foretell {1}{U} (During your turn, you may pay {2} and exile this card from your hand fac...\n",
      "\n",
      "Preordain (1 CMC) - Sorcery\n",
      "  Text: Scry 2, then draw a card. (To scry 2, look at the top two cards of your library, then put any number of them on the bott...\n",
      "\n",
      "Compulsive Research (3 CMC) - Sorcery\n",
      "  Text: Target player draws three cards. Then that player discards two cards unless they discard a land card....\n",
      "\n",
      "Deep Analysis (4 CMC) - Sorcery\n",
      "  Text: Target player draws two cards. | Flashback—{1}{U}, Pay 3 life. (You may cast this card from your graveyard for its flash...\n",
      "\n",
      "Lórien Revealed (5 CMC) - Sorcery\n",
      "  Text: Draw three cards. | Islandcycling {1} ({1}, Discard this card: Search your library for an Island card, reveal it, put it...\n"
     ]
    }
   ],
   "source": [
    "# Let's find specific better alternatives from the oracle_df\n",
    "print(\"SEARCHING FOR BETTER ALTERNATIVES:\")\n",
    "print(\"=\" * 50)\n",
    "\n",
    "# Search for blue cards that are more focused on card draw\n",
    "better_alternatives = []\n",
    "\n",
    "# Look for creatures that draw cards\n",
    "card_draw_creatures = oracle_df[\n",
    "    (oracle_df['Color Category'].str.contains('Blue', na=False)) & \n",
    "    (oracle_df['Type'].str.contains('Creature', na=False)) &\n",
    "    (oracle_df['Oracle Text'].str.contains('draw.*card|when.*enters.*draw', case=False, na=False))\n",
    "]\n",
    "\n",
    "print(\"CREATURES THAT DRAW CARDS:\")\n",
    "for _, creature in card_draw_creatures.head(10).iterrows():\n",
    "    oracle_text = creature['Oracle Text'] if pd.notna(creature['Oracle Text']) else 'No text'\n",
    "    print(f\"\\n{creature['name']} ({creature['CMC']} CMC) - {creature['Type']}\")\n",
    "    print(f\"  Text: {oracle_text[:100]}...\")\n",
    "\n",
    "# Look for pure card draw spells\n",
    "pure_draw_spells = oracle_df[\n",
    "    (oracle_df['Color Category'].str.contains('Blue', na=False)) & \n",
    "    (~oracle_df['Type'].str.contains('Creature', na=False)) &\n",
    "    (oracle_df['Oracle Text'].str.contains('draw.*card|scry|surveil', case=False, na=False)) &\n",
    "    (oracle_df['CMC'] <= 3)  # Focus on efficient spells\n",
    "]\n",
    "\n",
    "print(f\"\\n{'='*50}\")\n",
    "print(\"EFFICIENT CARD DRAW SPELLS (3 CMC or less):\")\n",
    "for _, spell in pure_draw_spells.head(15).iterrows():\n",
    "    oracle_text = spell['Oracle Text'] if pd.notna(spell['Oracle Text']) else 'No text'\n",
    "    print(f\"\\n{spell['name']} ({spell['CMC']} CMC) - {spell['Type']}\")\n",
    "    print(f\"  Text: {oracle_text[:120]}...\")\n",
    "\n",
    "# Check for divination effects\n",
    "divination_effects = oracle_df[\n",
    "    (oracle_df['Color Category'].str.contains('Blue', na=False)) & \n",
    "    (oracle_df['Oracle Text'].str.contains('draw.*two|draw.*three', case=False, na=False))\n",
    "]\n",
    "\n",
    "print(f\"\\n{'='*50}\")\n",
    "print(\"CARD ADVANTAGE SPELLS (Draw 2+ cards):\")\n",
    "for _, spell in divination_effects.head(8).iterrows():\n",
    "    oracle_text = spell['Oracle Text'] if pd.notna(spell['Oracle Text']) else 'No text'\n",
    "    print(f\"\\n{spell['name']} ({spell['CMC']} CMC) - {spell['Type']}\")\n",
    "    print(f\"  Text: {oracle_text[:120]}...\")"
   ]
  },
  {
   "cell_type": "code",
   "execution_count": 13,
   "id": "f3dae668",
   "metadata": {},
   "outputs": [
    {
     "name": "stdout",
     "output_type": "stream",
     "text": [
      "🎯 FINAL ANALYSIS: Blue Card Draw Deck\n",
      "============================================================\n",
      "CURRENT DECK COHERENCE SCORE: 1.98 (needs improvement)\n",
      "\n",
      "📊 CURRENT DECK COMPOSITION:\n",
      "✅ GOOD FITS (keep these):\n",
      "  - Opt (perfect 1-mana cantrip)\n",
      "  - Preordain (excellent card selection)\n",
      "  - Brainstorm (classic card manipulation)\n",
      "  - Serum Visionary (creature that draws)\n",
      "  - Faerie Seer (creature that scrys)\n",
      "\n",
      "❌ POOR FITS (should replace):\n",
      "  - Repeal & Into the Roil (bounce, not draw focused)\n",
      "  - Young Blue Dragon (big creature, wrong theme)\n",
      "  - Candy Trail (artifact, doesn't fit)\n",
      "  - Condescend (counterspell, not draw)\n",
      "\n",
      "🔄 SUGGESTED REPLACEMENTS:\n",
      "Replace Repeal → Serum Visions (pure card draw + scry)\n",
      "Replace Into the Roil → Consider (modern card selection)\n",
      "Replace Young Blue Dragon → Mulldrifter (card advantage creature)\n",
      "Replace Candy Trail → Quick Study (instant-speed card draw)\n",
      "Replace Condescend → Gitaxian Probe (free card draw)\n",
      "\n",
      "🎨 IMPROVED THEME DEFINITION:\n",
      "Current keywords: ['draw', 'card', 'hand', 'library', 'cantrip', 'scry']\n",
      "Suggested additions:\n",
      "Enhanced keywords: ['draw', 'card', 'hand', 'library', 'cantrip', 'scry', 'surveil', 'look at', 'reveal', 'impulse draw', 'foretell']\n",
      "\n",
      "📋 IDEAL BLUE CARD DRAW DECK COMPOSITION:\n",
      "1. Opt (1 CMC cantrip)\n",
      "2. Preordain (1 CMC selection)\n",
      "3. Brainstorm (1 CMC manipulation)\n",
      "4. Serum Visions (1 CMC draw + scry)\n",
      "5. Consider (1 CMC surveil + draw)\n",
      "6. Gitaxian Probe (0 CMC peek + draw)\n",
      "7. Quick Study (3 CMC instant draw 2)\n",
      "8. Serum Visionary (3 CMC creature + draw)\n",
      "9. Faerie Seer (1 CMC creature + scry)\n",
      "10. Cloudkin Seer (3 CMC flyer + draw)\n",
      "11. Mulldrifter (5 CMC big draw)\n",
      "12. Behold the Multiverse (4 CMC foretell draw)\n",
      "13. Lórien Revealed (5 CMC big draw)\n",
      "\n",
      "✨ EXPECTED IMPROVEMENTS:\n",
      "- Higher coherence score (target: 2.5+)\n",
      "- More consistent card selection theme\n",
      "- Better mana curve for card draw\n",
      "- Pure focus on draw/selection effects\n"
     ]
    }
   ],
   "source": [
    "# FINAL ANALYSIS AND RECOMMENDATIONS\n",
    "print(\"🎯 FINAL ANALYSIS: Blue Card Draw Deck\")\n",
    "print(\"=\" * 60)\n",
    "\n",
    "print(\"CURRENT DECK COHERENCE SCORE: 1.98 (needs improvement)\")\n",
    "\n",
    "print(\"\\n📊 CURRENT DECK COMPOSITION:\")\n",
    "print(\"✅ GOOD FITS (keep these):\")\n",
    "print(\"  - Opt (perfect 1-mana cantrip)\")\n",
    "print(\"  - Preordain (excellent card selection)\")  \n",
    "print(\"  - Brainstorm (classic card manipulation)\")\n",
    "print(\"  - Serum Visionary (creature that draws)\")\n",
    "print(\"  - Faerie Seer (creature that scrys)\")\n",
    "\n",
    "print(\"\\n❌ POOR FITS (should replace):\")\n",
    "print(\"  - Repeal & Into the Roil (bounce, not draw focused)\")\n",
    "print(\"  - Young Blue Dragon (big creature, wrong theme)\")\n",
    "print(\"  - Candy Trail (artifact, doesn't fit)\")\n",
    "print(\"  - Condescend (counterspell, not draw)\")\n",
    "\n",
    "print(\"\\n🔄 SUGGESTED REPLACEMENTS:\")\n",
    "print(\"Replace Repeal → Serum Visions (pure card draw + scry)\")\n",
    "print(\"Replace Into the Roil → Consider (modern card selection)\")\n",
    "print(\"Replace Young Blue Dragon → Mulldrifter (card advantage creature)\")\n",
    "print(\"Replace Candy Trail → Quick Study (instant-speed card draw)\")\n",
    "print(\"Replace Condescend → Gitaxian Probe (free card draw)\")\n",
    "\n",
    "print(\"\\n🎨 IMPROVED THEME DEFINITION:\")\n",
    "print(\"Current keywords:\", theme_keywords['Card Draw'])\n",
    "print(\"Suggested additions:\")\n",
    "theme_keywords_improved = theme_keywords['Card Draw'] + ['surveil', 'look at', 'reveal', 'impulse draw', 'foretell']\n",
    "print(\"Enhanced keywords:\", theme_keywords_improved)\n",
    "\n",
    "print(\"\\n📋 IDEAL BLUE CARD DRAW DECK COMPOSITION:\")\n",
    "print(\"1. Opt (1 CMC cantrip)\")\n",
    "print(\"2. Preordain (1 CMC selection)\")\n",
    "print(\"3. Brainstorm (1 CMC manipulation)\")  \n",
    "print(\"4. Serum Visions (1 CMC draw + scry)\")\n",
    "print(\"5. Consider (1 CMC surveil + draw)\")\n",
    "print(\"6. Gitaxian Probe (0 CMC peek + draw)\")\n",
    "print(\"7. Quick Study (3 CMC instant draw 2)\")\n",
    "print(\"8. Serum Visionary (3 CMC creature + draw)\")\n",
    "print(\"9. Faerie Seer (1 CMC creature + scry)\")\n",
    "print(\"10. Cloudkin Seer (3 CMC flyer + draw)\")\n",
    "print(\"11. Mulldrifter (5 CMC big draw)\")\n",
    "print(\"12. Behold the Multiverse (4 CMC foretell draw)\")\n",
    "print(\"13. Lórien Revealed (5 CMC big draw)\")\n",
    "\n",
    "print(\"\\n✨ EXPECTED IMPROVEMENTS:\")\n",
    "print(\"- Higher coherence score (target: 2.5+)\")\n",
    "print(\"- More consistent card selection theme\")\n",
    "print(\"- Better mana curve for card draw\")\n",
    "print(\"- Pure focus on draw/selection effects\")"
   ]
  },
  {
   "cell_type": "code",
   "execution_count": 14,
   "id": "32cd3d4d",
   "metadata": {},
   "outputs": [
    {
     "name": "stdout",
     "output_type": "stream",
     "text": [
      "🔍 ANALYZING CURRENT CARD DRAW KEYWORDS FOR REMOVAL\n",
      "============================================================\n",
      "Current Card Draw keywords: ['draw', 'card', 'hand', 'library', 'cantrip', 'scry', 'surveil', 'look at', 'reveal', 'impulse draw', 'foretell', 'exile.*play']\n",
      "\n",
      "==================================================\n",
      "KEYWORD EFFECTIVENESS ANALYSIS:\n",
      "==================================================\n",
      "\n",
      "'draw': 27 blue cards\n",
      "  Examples: Looter il-Kor, Merfolk Looter, Moon-Circuit Hacker\n",
      "\n",
      "'card': 42 blue cards\n",
      "  Examples: Faerie Seer, Deranged Assistant, Looter il-Kor\n",
      "\n",
      "'hand': 15 blue cards\n",
      "  Examples: Moon-Circuit Hacker, Man-o'-War, Winter Eladrin\n",
      "\n",
      "'library': 10 blue cards\n",
      "  Examples: Faerie Seer, Deranged Assistant, Cruel Witness\n",
      "\n",
      "'cantrip': 0 blue cards\n",
      "  ⚠️  NO MATCHES - Consider removing\n",
      "\n",
      "'scry': 8 blue cards\n",
      "  Examples: Faerie Seer, Serum Visionary, Young Blue Dragon\n",
      "\n",
      "'surveil': 2 blue cards\n",
      "  Examples: Cruel Witness, Consider\n",
      "\n",
      "'look at': 7 blue cards\n",
      "  Examples: Faerie Seer, Cruel Witness, Condescend\n",
      "\n",
      "'reveal': 1 blue cards\n",
      "  Examples: Lórien Revealed\n",
      "\n",
      "'impulse draw': 0 blue cards\n",
      "  ⚠️  NO MATCHES - Consider removing\n",
      "\n",
      "'foretell': 1 blue cards\n",
      "  Examples: Behold the Multiverse\n",
      "\n",
      "'exile.*play': 0 blue cards\n",
      "  ⚠️  NO MATCHES - Consider removing\n",
      "\n",
      "==================================================\n",
      "KEYWORD QUALITY ASSESSMENT:\n",
      "==================================================\n",
      "HIGH VALUE KEYWORDS (keep these):\n",
      "  ✅ 'draw' - 27 matches\n",
      "  ✅ 'card' - 42 matches\n",
      "  ✅ 'hand' - 15 matches\n",
      "  ✅ 'library' - 10 matches\n",
      "  ✅ 'scry' - 8 matches\n",
      "  ✅ 'look at' - 7 matches\n",
      "\n",
      "MODERATE VALUE KEYWORDS (review these):\n",
      "  ⚠️  'surveil' - 2 matches\n",
      "  ⚠️  'reveal' - 1 matches\n",
      "  ⚠️  'foretell' - 1 matches\n",
      "\n",
      "LOW/NO VALUE KEYWORDS (consider removing):\n",
      "  ❌ 'cantrip' - 0 matches\n",
      "  ❌ 'impulse draw' - 0 matches\n",
      "  ❌ 'exile.*play' - 0 matches\n",
      "\n",
      "==================================================\n",
      "SPECIFIC KEYWORD RECOMMENDATIONS:\n",
      "==================================================\n"
     ]
    }
   ],
   "source": [
    "# Let's reload the consts to get the updated keywords and analyze each one\n",
    "import importlib\n",
    "import src.consts\n",
    "importlib.reload(src.consts)\n",
    "from src.consts import theme_keywords\n",
    "\n",
    "print(\"🔍 ANALYZING CURRENT CARD DRAW KEYWORDS FOR REMOVAL\")\n",
    "print(\"=\" * 60)\n",
    "\n",
    "current_keywords = theme_keywords['Card Draw']\n",
    "print(\"Current Card Draw keywords:\", current_keywords)\n",
    "\n",
    "print(f\"\\n{'='*50}\")\n",
    "print(\"KEYWORD EFFECTIVENESS ANALYSIS:\")\n",
    "print(\"=\" * 50)\n",
    "\n",
    "# Test each keyword against the oracle_df to see how many relevant cards it matches\n",
    "keyword_analysis = {}\n",
    "\n",
    "for keyword in current_keywords:\n",
    "    # Count blue cards that contain this keyword\n",
    "    if '.*' in keyword:  # Handle regex patterns\n",
    "        import re\n",
    "        pattern = keyword\n",
    "        blue_matches = oracle_df[\n",
    "            (oracle_df['Color Category'].str.contains('Blue', na=False)) & \n",
    "            (oracle_df['Oracle Text'].str.contains(pattern, case=False, na=False, regex=True))\n",
    "        ]\n",
    "    else:\n",
    "        blue_matches = oracle_df[\n",
    "            (oracle_df['Color Category'].str.contains('Blue', na=False)) & \n",
    "            (oracle_df['Oracle Text'].str.contains(keyword, case=False, na=False))\n",
    "        ]\n",
    "    \n",
    "    keyword_analysis[keyword] = {\n",
    "        'count': len(blue_matches),\n",
    "        'cards': blue_matches['name'].tolist()[:5]  # Show first 5 examples\n",
    "    }\n",
    "    \n",
    "    print(f\"\\n'{keyword}': {len(blue_matches)} blue cards\")\n",
    "    if len(blue_matches) > 0:\n",
    "        print(f\"  Examples: {', '.join(blue_matches['name'].tolist()[:3])}\")\n",
    "    else:\n",
    "        print(\"  ⚠️  NO MATCHES - Consider removing\")\n",
    "\n",
    "print(f\"\\n{'='*50}\")\n",
    "print(\"KEYWORD QUALITY ASSESSMENT:\")\n",
    "print(\"=\" * 50)\n",
    "\n",
    "print(\"HIGH VALUE KEYWORDS (keep these):\")\n",
    "for keyword, data in keyword_analysis.items():\n",
    "    if data['count'] >= 5:  # Good number of matches\n",
    "        print(f\"  ✅ '{keyword}' - {data['count']} matches\")\n",
    "\n",
    "print(\"\\nMODERATE VALUE KEYWORDS (review these):\")\n",
    "for keyword, data in keyword_analysis.items():\n",
    "    if 1 <= data['count'] < 5:\n",
    "        print(f\"  ⚠️  '{keyword}' - {data['count']} matches\")\n",
    "\n",
    "print(\"\\nLOW/NO VALUE KEYWORDS (consider removing):\")\n",
    "for keyword, data in keyword_analysis.items():\n",
    "    if data['count'] == 0:\n",
    "        print(f\"  ❌ '{keyword}' - {data['count']} matches\")\n",
    "\n",
    "print(f\"\\n{'='*50}\")\n",
    "print(\"SPECIFIC KEYWORD RECOMMENDATIONS:\")\n",
    "print(\"=\" * 50)"
   ]
  },
  {
   "cell_type": "code",
   "execution_count": 15,
   "id": "a45589dc",
   "metadata": {},
   "outputs": [
    {
     "name": "stdout",
     "output_type": "stream",
     "text": [
      "SPECIFIC REMOVAL RECOMMENDATIONS:\n",
      "========================================\n",
      "❌ REMOVE THESE KEYWORDS:\n",
      "  - 'cantrip' - Not used in oracle text (it's slang/community term)\n",
      "  - 'impulse draw' - Too specific phrase, not in oracle text\n",
      "  - 'exile.*play' - No matches, regex may be too complex\n",
      "\n",
      "🤔 KEYWORDS TO CONSIDER REMOVING:\n",
      "  - 'reveal' - Only 1 match, very specific\n",
      "  - 'foretell' - Only 1 match, mechanic-specific\n",
      "\n",
      "✅ KEYWORDS TO DEFINITELY KEEP:\n",
      "  - 'draw' - Core keyword (27 matches)\n",
      "  - 'card' - Essential term (42 matches)\n",
      "  - 'hand' - Common reference (15 matches)\n",
      "  - 'library' - Important for card selection (10 matches)\n",
      "  - 'scry' - Key mechanic (8 matches)\n",
      "  - 'look at' - Card selection phrase (7 matches)\n",
      "\n",
      "🔄 POTENTIAL ADDITIONS TO CONSIDER:\n",
      "  - 'cycling' - Draw replacement effect\n",
      "  - 'search' - For tutoring effects\n",
      "  - 'target player draws' - For divination effects\n",
      "\n",
      "========================================\n",
      "TESTING POTENTIAL NEW KEYWORDS:\n",
      "========================================\n",
      "\n",
      "'cycling': 4 blue cards\n",
      "  Examples: Vizier of Tumbling Sands, Striped Riverwinder, Miscalculation\n",
      "\n",
      "'search': 1 blue cards\n",
      "  Examples: Lórien Revealed\n",
      "\n",
      "'target player draws': 2 blue cards\n",
      "  Examples: Compulsive Research, Deep Analysis\n",
      "\n",
      "'draws.*card': 2 blue cards\n",
      "  Examples: Compulsive Research, Deep Analysis\n",
      "\n",
      "==================================================\n",
      "🎯 FINAL RECOMMENDATIONS:\n",
      "==================================================\n",
      "REMOVE: 'cantrip', 'impulse draw', 'exile.*play'\n",
      "KEEP: 'draw', 'card', 'hand', 'library', 'scry', 'look at', 'surveil'\n",
      "CONSIDER REMOVING: 'reveal', 'foretell' (too specific)\n",
      "CONSIDER ADDING: 'cycling', 'draws.*card' (if regex works)\n"
     ]
    }
   ],
   "source": [
    "print(\"SPECIFIC REMOVAL RECOMMENDATIONS:\")\n",
    "print(\"=\" * 40)\n",
    "\n",
    "print(\"❌ REMOVE THESE KEYWORDS:\")\n",
    "print(\"  - 'cantrip' - Not used in oracle text (it's slang/community term)\")\n",
    "print(\"  - 'impulse draw' - Too specific phrase, not in oracle text\")\n",
    "print(\"  - 'exile.*play' - No matches, regex may be too complex\")\n",
    "\n",
    "print(\"\\n🤔 KEYWORDS TO CONSIDER REMOVING:\")\n",
    "print(\"  - 'reveal' - Only 1 match, very specific\")\n",
    "print(\"  - 'foretell' - Only 1 match, mechanic-specific\")\n",
    "\n",
    "print(\"\\n✅ KEYWORDS TO DEFINITELY KEEP:\")\n",
    "print(\"  - 'draw' - Core keyword (27 matches)\")\n",
    "print(\"  - 'card' - Essential term (42 matches)\")\n",
    "print(\"  - 'hand' - Common reference (15 matches)\")\n",
    "print(\"  - 'library' - Important for card selection (10 matches)\")\n",
    "print(\"  - 'scry' - Key mechanic (8 matches)\")\n",
    "print(\"  - 'look at' - Card selection phrase (7 matches)\")\n",
    "\n",
    "print(\"\\n🔄 POTENTIAL ADDITIONS TO CONSIDER:\")\n",
    "print(\"  - 'cycling' - Draw replacement effect\")\n",
    "print(\"  - 'search' - For tutoring effects\")\n",
    "print(\"  - 'target player draws' - For divination effects\")\n",
    "\n",
    "# Let's test these potential additions\n",
    "print(f\"\\n{'='*40}\")\n",
    "print(\"TESTING POTENTIAL NEW KEYWORDS:\")\n",
    "print(\"=\" * 40)\n",
    "\n",
    "potential_keywords = ['cycling', 'search', 'target player draws', 'draws.*card']\n",
    "\n",
    "for keyword in potential_keywords:\n",
    "    if keyword == 'draws.*card':  # regex\n",
    "        matches = oracle_df[\n",
    "            (oracle_df['Color Category'].str.contains('Blue', na=False)) & \n",
    "            (oracle_df['Oracle Text'].str.contains(keyword, case=False, na=False, regex=True))\n",
    "        ]\n",
    "    else:\n",
    "        matches = oracle_df[\n",
    "            (oracle_df['Color Category'].str.contains('Blue', na=False)) & \n",
    "            (oracle_df['Oracle Text'].str.contains(keyword, case=False, na=False))\n",
    "        ]\n",
    "    \n",
    "    print(f\"\\n'{keyword}': {len(matches)} blue cards\")\n",
    "    if len(matches) > 0:\n",
    "        print(f\"  Examples: {', '.join(matches['name'].tolist()[:3])}\")\n",
    "\n",
    "print(f\"\\n{'='*50}\")\n",
    "print(\"🎯 FINAL RECOMMENDATIONS:\")\n",
    "print(\"=\" * 50)\n",
    "print(\"REMOVE: 'cantrip', 'impulse draw', 'exile.*play'\")\n",
    "print(\"KEEP: 'draw', 'card', 'hand', 'library', 'scry', 'look at', 'surveil'\") \n",
    "print(\"CONSIDER REMOVING: 'reveal', 'foretell' (too specific)\")\n",
    "print(\"CONSIDER ADDING: 'cycling', 'draws.*card' (if regex works)\")"
   ]
  },
  {
   "cell_type": "code",
   "execution_count": 18,
   "id": "177c3746",
   "metadata": {},
   "outputs": [
    {
     "name": "stdout",
     "output_type": "stream",
     "text": [
      "🔧 TESTING BLUE CARD DRAW OPTIMIZATION\n",
      "============================================================\n",
      "CURRENT STATE:\n",
      "Blue Card Draw coherence: 1.9830769230769232\n",
      "\n",
      "Current Blue Card Draw deck (13 cards):\n",
      "  - Behold the Multiverse\n",
      "  - Lórien Revealed\n",
      "  - Moon-Circuit Hacker\n",
      "  - Opt\n",
      "  - Young Blue Dragon\n",
      "  - Brainstorm\n",
      "  - Condescend\n",
      "  - Preordain\n",
      "  - Repeal\n",
      "  - Into the Roil\n",
      "  - Serum Visionary\n",
      "  - Faerie Seer\n",
      "  - Candy Trail\n",
      "\n",
      "==================================================\n",
      "TESTING FOR POTENTIAL SWAPS:\n",
      "Using keywords: ['draw', 'card', 'hand', 'library', 'scry', 'surveil', 'look at', 'cycling']\n",
      "\n",
      "Found 34 potential blue card draw cards not in current deck:\n",
      "  + Deranged Assistant (2 CMC): {T}, Mill a card: Add {C}. (To mill a card, put the top card...\n",
      "  + Looter il-Kor (2 CMC): Shadow (This creature can block or be blocked by only creatu...\n",
      "  + Merfolk Looter (2 CMC): {T}: Draw a card, then discard a card....\n",
      "  + Cloudkin Seer (3 CMC): Flying | When this creature enters, draw a card....\n",
      "  + Eldrazi Skyspawner (3 CMC): Devoid (This card has no color.) | Flying | When this creatu...\n",
      "  + Jhessian Thief (3 CMC): Prowess (Whenever you cast a noncreature spell, this creatur...\n",
      "  + Man-o'-War (3 CMC): When this creature enters, return target creature to its own...\n",
      "  + Vizier of Tumbling Sands (3 CMC): {T}: Untap another target permanent. | Cycling {1}{U} ({1}{U...\n",
      "  + Winter Eladrin (3 CMC): Gust of Wind — When this creature enters, return up to one o...\n",
      "  + Archaeomancer (4 CMC): When this creature enters, return target instant or sorcery ...\n",
      "\n",
      "==================================================\n",
      "TESTING OPTIMIZATION FUNCTION:\n",
      "Swap history cleared\n",
      "Running optimize_deck_coherence...\n"
     ]
    },
    {
     "data": {
      "text/markdown": [
       "Analyzing deck: Blue Card Draw"
      ],
      "text/plain": [
       "<IPython.core.display.Markdown object>"
      ]
     },
     "metadata": {},
     "output_type": "display_data"
    },
    {
     "data": {
      "text/markdown": [
       "Current coherence: 2.0"
      ],
      "text/plain": [
       "<IPython.core.display.Markdown object>"
      ]
     },
     "metadata": {},
     "output_type": "display_data"
    },
    {
     "data": {
      "text/markdown": [
       "Expected themes: Card Draw"
      ],
      "text/plain": [
       "<IPython.core.display.Markdown object>"
      ]
     },
     "metadata": {},
     "output_type": "display_data"
    },
    {
     "data": {
      "text/markdown": [
       "Deck colors: U"
      ],
      "text/plain": [
       "<IPython.core.display.Markdown object>"
      ]
     },
     "metadata": {},
     "output_type": "display_data"
    },
    {
     "data": {
      "text/markdown": [
       "Found 39 candidate cards to consider"
      ],
      "text/plain": [
       "<IPython.core.display.Markdown object>"
      ]
     },
     "metadata": {},
     "output_type": "display_data"
    },
    {
     "data": {
      "text/markdown": [
       "Identified 13 cards as potential removal candidates"
      ],
      "text/plain": [
       "<IPython.core.display.Markdown object>"
      ]
     },
     "metadata": {},
     "output_type": "display_data"
    },
    {
     "data": {
      "text/markdown": [
       "# 🔄 Swap Recommendations for Blue Card Draw"
      ],
      "text/plain": [
       "<IPython.core.display.Markdown object>"
      ]
     },
     "metadata": {},
     "output_type": "display_data"
    },
    {
     "data": {
      "text/markdown": [
       "❌ **No beneficial swaps found.** The deck may already be well-optimized, or there may not be suitable replacement cards available."
      ],
      "text/plain": [
       "<IPython.core.display.Markdown object>"
      ]
     },
     "metadata": {},
     "output_type": "display_data"
    },
    {
     "name": "stdout",
     "output_type": "stream",
     "text": [
      "No available swaps to apply for this deck.\n",
      "Card: Behold the Multiverse, Score: 4, Themes: ['Card Draw']\n",
      "Card: Lórien Revealed, Score: 4, Themes: ['Card Draw']\n",
      "Card: Moon-Circuit Hacker, Score: 3, Themes: ['Card Draw']\n",
      "Card: Opt, Score: 4, Themes: ['Card Draw']\n",
      "Card: Young Blue Dragon, Score: 3, Themes: ['Card Draw']\n",
      "Card: Brainstorm, Score: 4, Themes: ['Card Draw']\n",
      "Card: Condescend, Score: 3, Themes: ['Card Draw']\n",
      "Card: Preordain, Score: 4, Themes: ['Card Draw']\n",
      "Card: Repeal, Score: 3, Themes: ['Card Draw']\n",
      "Card: Into the Roil, Score: 3, Themes: ['Card Draw']\n",
      "Card: Serum Visionary, Score: 3, Themes: ['Card Draw']\n",
      "Card: Faerie Seer, Score: 3, Themes: ['Card Draw']\n",
      "Card: Candy Trail, Score: 3, Themes: ['Card Draw']\n",
      "1.9830769230769232\n",
      "{'expected_themes': ['Card Draw'], 'theme_score': 3.3846153846153846, 'theme_matches': [{'card': 'Behold the Multiverse', 'score': 4, 'themes': ['Card Draw']}, {'card': 'Lórien Revealed', 'score': 4, 'themes': ['Card Draw']}, {'card': 'Moon-Circuit Hacker', 'score': 3, 'themes': ['Card Draw']}, {'card': 'Opt', 'score': 4, 'themes': ['Card Draw']}, {'card': 'Young Blue Dragon', 'score': 3, 'themes': ['Card Draw']}, {'card': 'Brainstorm', 'score': 4, 'themes': ['Card Draw']}, {'card': 'Condescend', 'score': 3, 'themes': ['Card Draw']}, {'card': 'Preordain', 'score': 4, 'themes': ['Card Draw']}, {'card': 'Repeal', 'score': 3, 'themes': ['Card Draw']}, {'card': 'Into the Roil', 'score': 3, 'themes': ['Card Draw']}, {'card': 'Serum Visionary', 'score': 3, 'themes': ['Card Draw']}, {'card': 'Faerie Seer', 'score': 3, 'themes': ['Card Draw']}, {'card': 'Candy Trail', 'score': 3, 'themes': ['Card Draw']}], 'color_coherence': 1.0, 'color_issues': [], 'mana_curve_score': 0.9538461538461539, 'mana_curve': {4: 1, 5: 2, 2: 2, 1: 7, 3: 1}, 'creature_stats': {'creature_count': 4, 'total_power': 8.0, 'total_toughness': 7.0, 'avg_power': 2.0, 'avg_toughness': 1.75, 'power_distribution': {2: 2, 3: 1, 1: 1}, 'toughness_distribution': {1: 2, 3: 1, 2: 1}, 'creature_categories': {'small': 3, 'medium': 1, 'large': 0, 'utility': 4, 'evasive': 2}, 'theme_alignment_score': 0.0, 'creature_details': [{'name': 'Moon-Circuit Hacker', 'power': 2.0, 'toughness': 1.0, 'categories': ['small', 'utility'], 'has_evasion': False, 'has_utility': True}, {'name': 'Young Blue Dragon', 'power': 3.0, 'toughness': 3.0, 'categories': ['medium', 'evasive', 'utility'], 'has_evasion': True, 'has_utility': True}, {'name': 'Serum Visionary', 'power': 2.0, 'toughness': 2.0, 'categories': ['small', 'utility'], 'has_evasion': False, 'has_utility': True}, {'name': 'Faerie Seer', 'power': 1.0, 'toughness': 1.0, 'categories': ['small', 'evasive', 'utility'], 'has_evasion': True, 'has_utility': True}]}, 'overall_coherence': 1.9830769230769232, 'deck_colors': 'U', 'card_count': 13}\n",
      "❌ No changes made by optimization\n"
     ]
    }
   ],
   "source": [
    "# Let's test optimization specifically for Blue Card Draw deck\n",
    "print(\"🔧 TESTING BLUE CARD DRAW OPTIMIZATION\")\n",
    "print(\"=\" * 60)\n",
    "\n",
    "# First, let's check the current coherence with updated keywords\n",
    "import importlib\n",
    "import src.coherence\n",
    "importlib.reload(src.coherence)\n",
    "from src.coherence import analyze_deck_theme_coherence_enhanced\n",
    "\n",
    "# Reload consts to get updated keywords\n",
    "import src.consts\n",
    "importlib.reload(src.consts)\n",
    "\n",
    "# Get current Blue Card Draw coherence\n",
    "current_coherence = analyze_deck_theme_coherence_enhanced(cube_df, oracle_df)\n",
    "blue_coherence = current_coherence.get('Blue Card Draw', {})\n",
    "\n",
    "print(\"CURRENT STATE:\")\n",
    "print(f\"Blue Card Draw coherence: {blue_coherence.get('overall_coherence', 'N/A')}\")\n",
    "\n",
    "# Check what cards are currently in the deck\n",
    "blue_deck = cube_df[cube_df['Tags'] == 'Blue Card Draw']\n",
    "print(f\"\\nCurrent Blue Card Draw deck ({len(blue_deck)} cards):\")\n",
    "for _, card in blue_deck.iterrows():\n",
    "    print(f\"  - {card['Name']}\")\n",
    "\n",
    "# Now let's see what better alternatives exist in the oracle\n",
    "print(f\"\\n{'='*50}\")\n",
    "print(\"TESTING FOR POTENTIAL SWAPS:\")\n",
    "\n",
    "# Look for high-quality blue card draw cards not in the current deck\n",
    "current_card_names = set(blue_deck['Name'].tolist())\n",
    "\n",
    "# Find blue cards that match our improved keywords\n",
    "from src.consts import theme_keywords\n",
    "card_draw_keywords = theme_keywords['Card Draw']\n",
    "\n",
    "print(f\"Using keywords: {card_draw_keywords}\")\n",
    "\n",
    "# Find potential replacements\n",
    "good_blue_cards = oracle_df[\n",
    "    (oracle_df['Color Category'].str.contains('Blue', na=False)) & \n",
    "    (oracle_df['Oracle Text'].str.contains('|'.join(card_draw_keywords), case=False, na=False))\n",
    "]\n",
    "\n",
    "# Filter out cards already in deck\n",
    "potential_swaps = good_blue_cards[~good_blue_cards['name'].isin(current_card_names)]\n",
    "\n",
    "print(f\"\\nFound {len(potential_swaps)} potential blue card draw cards not in current deck:\")\n",
    "for _, card in potential_swaps.head(10).iterrows():\n",
    "    oracle_text = card['Oracle Text'] if pd.notna(card['Oracle Text']) else 'No text'\n",
    "    print(f\"  + {card['name']} ({card['CMC']} CMC): {oracle_text[:60]}...\")\n",
    "\n",
    "# Test if optimization function can find these\n",
    "print(f\"\\n{'='*50}\")\n",
    "print(\"TESTING OPTIMIZATION FUNCTION:\")\n",
    "\n",
    "import src.process\n",
    "importlib.reload(src.process)\n",
    "from src.process import optimize_deck_coherence, clear_swap_history\n",
    "\n",
    "# Clear swap history\n",
    "clear_swap_history()\n",
    "\n",
    "print(\"Running optimize_deck_coherence...\")\n",
    "old_cube_df = cube_df.copy()\n",
    "new_cube_df = optimize_deck_coherence(cube_df=cube_df, oracle_df=oracle_df)\n",
    "\n",
    "# Check if anything changed\n",
    "if new_cube_df.equals(old_cube_df):\n",
    "    print(\"❌ No changes made by optimization\")\n",
    "else:\n",
    "    print(\"✅ Optimization made changes!\")\n",
    "    \n",
    "    # Show what changed in Blue Card Draw deck\n",
    "    old_blue = old_cube_df[old_cube_df['Tags'] == 'Blue Card Draw']['Name'].tolist()\n",
    "    new_blue = new_cube_df[new_cube_df['Tags'] == 'Blue Card Draw']['Name'].tolist()\n",
    "    \n",
    "    removed = set(old_blue) - set(new_blue)\n",
    "    added = set(new_blue) - set(old_blue)\n",
    "    \n",
    "    if removed:\n",
    "        print(f\"Removed: {', '.join(removed)}\")\n",
    "    if added:\n",
    "        print(f\"Added: {', '.join(added)}\")\n",
    "        \n",
    "    # Check new coherence\n",
    "    new_coherence = analyze_deck_theme_coherence_enhanced(new_cube_df, oracle_df)\n",
    "    new_blue_coherence = new_coherence.get('Blue Card Draw', {}).get('overall_coherence', 'N/A')\n",
    "    print(f\"New Blue Card Draw coherence: {new_blue_coherence}\")\n",
    "    print(f\"Improvement: {new_blue_coherence - blue_coherence.get('overall_coherence', 0):.3f}\")"
   ]
  },
  {
   "cell_type": "code",
   "execution_count": 20,
   "id": "58ba6350",
   "metadata": {},
   "outputs": [
    {
     "name": "stdout",
     "output_type": "stream",
     "text": [
      "🔍 INVESTIGATING WHY NO BENEFICIAL SWAPS FOUND\n",
      "============================================================\n",
      "CHECKING THEME CRITERIA:\n",
      "==============================\n",
      "Card Draw theme criteria: {}\n",
      "❌ NO THEME CRITERIA DEFINED FOR 'Card Draw'!\n",
      "This is likely why optimization isn't working properly.\n",
      "\n",
      "The available theme criteria are:\n",
      "  - Graveyard\n",
      "  - Aggro\n",
      "  - Beatdown\n",
      "  - Control\n",
      "  - Flying\n",
      "  - Big Creatures\n",
      "  - Stompy\n",
      "  - Tokens\n",
      "  - Artifacts\n",
      "  - Red Artifacts\n",
      "  - Sacrifice\n",
      "  - Equipment\n",
      "  - Small Creatures\n",
      "\n",
      "💡 SOLUTION: The theme criteria only contains specific theme names,\n",
      "but our deck is named 'Blue Card Draw' which doesn't match any criteria.\n",
      "The optimization likely isn't recognizing this as a valid theme.\n",
      "\n",
      "==================================================\n",
      "CHECKING DECK THEME EXTRACTION:\n",
      "Extracted theme from 'Blue Card Draw': ['Card Draw']\n",
      "\n",
      "All deck themes in cube:\n"
     ]
    },
    {
     "ename": "TypeError",
     "evalue": "unhashable type: 'list'",
     "output_type": "error",
     "traceback": [
      "\u001b[31m---------------------------------------------------------------------------\u001b[39m",
      "\u001b[31mTypeError\u001b[39m                                 Traceback (most recent call last)",
      "\u001b[36mCell\u001b[39m\u001b[36m \u001b[39m\u001b[32mIn[20]\u001b[39m\u001b[32m, line 37\u001b[39m\n\u001b[32m     35\u001b[39m \u001b[38;5;28;01mfor\u001b[39;00m deck_name \u001b[38;5;129;01min\u001b[39;00m unique_decks:\n\u001b[32m     36\u001b[39m     extracted = extract_theme_from_deck_name(deck_name)\n\u001b[32m---> \u001b[39m\u001b[32m37\u001b[39m     has_criteria = \u001b[43mextracted\u001b[49m\u001b[43m \u001b[49m\u001b[38;5;129;43;01min\u001b[39;49;00m\u001b[43m \u001b[49m\u001b[43mtheme_criteria\u001b[49m \u001b[38;5;28;01mif\u001b[39;00m extracted \u001b[38;5;28;01melse\u001b[39;00m \u001b[38;5;28;01mFalse\u001b[39;00m\n\u001b[32m     38\u001b[39m     \u001b[38;5;28mprint\u001b[39m(\u001b[33mf\u001b[39m\u001b[33m\"\u001b[39m\u001b[33m  \u001b[39m\u001b[38;5;132;01m{\u001b[39;00mdeck_name\u001b[38;5;132;01m}\u001b[39;00m\u001b[33m → \u001b[39m\u001b[38;5;132;01m{\u001b[39;00mextracted\u001b[38;5;132;01m}\u001b[39;00m\u001b[33m (criteria: \u001b[39m\u001b[38;5;132;01m{\u001b[39;00m\u001b[33m'\u001b[39m\u001b[33m✅\u001b[39m\u001b[33m'\u001b[39m\u001b[38;5;250m \u001b[39m\u001b[38;5;28;01mif\u001b[39;00m\u001b[38;5;250m \u001b[39mhas_criteria\u001b[38;5;250m \u001b[39m\u001b[38;5;28;01melse\u001b[39;00m\u001b[38;5;250m \u001b[39m\u001b[33m'\u001b[39m\u001b[33m❌\u001b[39m\u001b[33m'\u001b[39m\u001b[38;5;132;01m}\u001b[39;00m\u001b[33m)\u001b[39m\u001b[33m\"\u001b[39m)\n\u001b[32m     40\u001b[39m \u001b[38;5;28mprint\u001b[39m(\u001b[33mf\u001b[39m\u001b[33m\"\u001b[39m\u001b[38;5;130;01m\\n\u001b[39;00m\u001b[38;5;132;01m{\u001b[39;00m\u001b[33m'\u001b[39m\u001b[33m=\u001b[39m\u001b[33m'\u001b[39m*\u001b[32m50\u001b[39m\u001b[38;5;132;01m}\u001b[39;00m\u001b[33m\"\u001b[39m)\n",
      "\u001b[31mTypeError\u001b[39m: unhashable type: 'list'"
     ]
    }
   ],
   "source": [
    "# Let's investigate why no beneficial swaps are found\n",
    "print(\"🔍 INVESTIGATING WHY NO BENEFICIAL SWAPS FOUND\")\n",
    "print(\"=\" * 60)\n",
    "\n",
    "# First, let's check the theme criteria for Card Draw\n",
    "print(\"CHECKING THEME CRITERIA:\")\n",
    "print(\"=\" * 30)\n",
    "\n",
    "card_draw_criteria = theme_criteria.get('Card Draw', {})\n",
    "print(f\"Card Draw theme criteria: {card_draw_criteria}\")\n",
    "\n",
    "if not card_draw_criteria:\n",
    "    print(\"❌ NO THEME CRITERIA DEFINED FOR 'Card Draw'!\")\n",
    "    print(\"This is likely why optimization isn't working properly.\")\n",
    "    print(\"\\nThe available theme criteria are:\")\n",
    "    for theme_name in theme_criteria.keys():\n",
    "        print(f\"  - {theme_name}\")\n",
    "    \n",
    "    print(\"\\n💡 SOLUTION: The theme criteria only contains specific theme names,\")\n",
    "    print(\"but our deck is named 'Blue Card Draw' which doesn't match any criteria.\")\n",
    "    print(\"The optimization likely isn't recognizing this as a valid theme.\")\n",
    "\n",
    "print(f\"\\n{'='*50}\")\n",
    "print(\"CHECKING DECK THEME EXTRACTION:\")\n",
    "\n",
    "# Let's see what theme the extraction function returns for \"Blue Card Draw\"\n",
    "from src.deck import extract_theme_from_deck_name\n",
    "\n",
    "extracted_theme = extract_theme_from_deck_name(\"Blue Card Draw\")\n",
    "print(f\"Extracted theme from 'Blue Card Draw': {extracted_theme}\")\n",
    "\n",
    "# Check all deck names and their extracted themes\n",
    "print(f\"\\nAll deck themes in cube:\")\n",
    "unique_decks = cube_df['Tags'].unique()\n",
    "for deck_name in unique_decks:\n",
    "    extracted = extract_theme_from_deck_name(deck_name)\n",
    "    has_criteria = extracted in theme_criteria if extracted else False\n",
    "    print(f\"  {deck_name} → {extracted} (criteria: {'✅' if has_criteria else '❌'})\")\n",
    "\n",
    "print(f\"\\n{'='*50}\")\n",
    "print(\"ROOT CAUSE ANALYSIS:\")\n",
    "print(\"The optimization is probably failing because:\")\n",
    "print(\"1. 'Blue Card Draw' → extracts to 'Card Draw'\")\n",
    "print(\"2. 'Card Draw' is not in theme_criteria\")\n",
    "print(\"3. Without criteria, the coherence scoring doesn't work properly\")\n",
    "print(\"4. Without proper scoring, no swaps appear beneficial\")\n",
    "\n",
    "print(f\"\\n💡 SOLUTION:\")\n",
    "print(\"We need to either:\")\n",
    "print(\"1. Add 'Card Draw' to theme_criteria in consts.py, or\") \n",
    "print(\"2. Rename the deck to match an existing theme, or\")\n",
    "print(\"3. Fix the theme extraction to map to an existing theme\")"
   ]
  },
  {
   "cell_type": "code",
   "execution_count": 21,
   "id": "3f72ec91",
   "metadata": {},
   "outputs": [
    {
     "name": "stdout",
     "output_type": "stream",
     "text": [
      "🔧 TESTING OPTIMIZATION AFTER ADDING CARD DRAW CRITERIA\n",
      "============================================================\n",
      "Card Draw theme criteria: {'keywords': ['draw', 'card', 'hand', 'library', 'scry', 'surveil', 'look at', 'cycling'], 'abilities': ['enters', 'when', 'draw', 'scry', 'look', 'search'], 'stats_matter': False, 'utility_bonus': 2.5, 'evasion_bonus': 1.0, 'instant_speed_bonus': 1.5, 'card_advantage_bonus': 3.0}\n",
      "✅ Card Draw theme criteria is now defined!\n",
      "Swap history cleared\n",
      "\n",
      "==================================================\n",
      "RUNNING OPTIMIZATION WITH NEW CRITERIA:\n",
      "Original deck:\n",
      "  - Behold the Multiverse\n",
      "  - Lórien Revealed\n",
      "  - Moon-Circuit Hacker\n",
      "  - Opt\n",
      "  - Young Blue Dragon\n",
      "  - Brainstorm\n",
      "  - Condescend\n",
      "  - Preordain\n",
      "  - Repeal\n",
      "  - Into the Roil\n",
      "  - Serum Visionary\n",
      "  - Faerie Seer\n",
      "  - Candy Trail\n",
      "\n",
      "Original coherence: 11.983\n",
      "\n",
      "Running optimization...\n"
     ]
    },
    {
     "data": {
      "text/markdown": [
       "Analyzing deck: Blue Tempo"
      ],
      "text/plain": [
       "<IPython.core.display.Markdown object>"
      ]
     },
     "metadata": {},
     "output_type": "display_data"
    },
    {
     "data": {
      "text/markdown": [
       "Current coherence: 2.1"
      ],
      "text/plain": [
       "<IPython.core.display.Markdown object>"
      ]
     },
     "metadata": {},
     "output_type": "display_data"
    },
    {
     "data": {
      "text/markdown": [
       "Expected themes: Tempo"
      ],
      "text/plain": [
       "<IPython.core.display.Markdown object>"
      ]
     },
     "metadata": {},
     "output_type": "display_data"
    },
    {
     "data": {
      "text/markdown": [
       "Deck colors: U"
      ],
      "text/plain": [
       "<IPython.core.display.Markdown object>"
      ]
     },
     "metadata": {},
     "output_type": "display_data"
    },
    {
     "data": {
      "text/markdown": [
       "Found 61 candidate cards to consider"
      ],
      "text/plain": [
       "<IPython.core.display.Markdown object>"
      ]
     },
     "metadata": {},
     "output_type": "display_data"
    },
    {
     "data": {
      "text/markdown": [
       "Identified 13 cards as potential removal candidates"
      ],
      "text/plain": [
       "<IPython.core.display.Markdown object>"
      ]
     },
     "metadata": {},
     "output_type": "display_data"
    },
    {
     "data": {
      "text/markdown": [
       "# 🔄 Swap Recommendations for Blue Tempo"
      ],
      "text/plain": [
       "<IPython.core.display.Markdown object>"
      ]
     },
     "metadata": {},
     "output_type": "display_data"
    },
    {
     "data": {
      "text/markdown": [
       "**Projected New Coherence:** 37.1/100 (+35.0)"
      ],
      "text/plain": [
       "<IPython.core.display.Markdown object>"
      ]
     },
     "metadata": {},
     "output_type": "display_data"
    },
    {
     "data": {
      "text/markdown": [
       "### Cards to Remove:"
      ],
      "text/plain": [
       "<IPython.core.display.Markdown object>"
      ]
     },
     "metadata": {},
     "output_type": "display_data"
    },
    {
     "data": {
      "text/markdown": [
       "- **Capsize** (Theme Score: 1.0, CMC: 3.0)"
      ],
      "text/plain": [
       "<IPython.core.display.Markdown object>"
      ]
     },
     "metadata": {},
     "output_type": "display_data"
    },
    {
     "data": {
      "text/markdown": [
       "- **Lose Focus** (Theme Score: 2.0, CMC: 2.0)"
      ],
      "text/plain": [
       "<IPython.core.display.Markdown object>"
      ]
     },
     "metadata": {},
     "output_type": "display_data"
    },
    {
     "data": {
      "text/markdown": [
       "### Cards to Add:"
      ],
      "text/plain": [
       "<IPython.core.display.Markdown object>"
      ]
     },
     "metadata": {},
     "output_type": "display_data"
    },
    {
     "data": {
      "text/markdown": [
       "- **Moon-Circuit Hacker** (Theme Score: 5.0) - from Blue Card Draw"
      ],
      "text/plain": [
       "<IPython.core.display.Markdown object>"
      ]
     },
     "metadata": {},
     "output_type": "display_data"
    },
    {
     "data": {
      "text/markdown": [
       "- **Bubble Snare** (Theme Score: 5.0) - from Azorius Evasion/Flying"
      ],
      "text/plain": [
       "<IPython.core.display.Markdown object>"
      ]
     },
     "metadata": {},
     "output_type": "display_data"
    },
    {
     "name": "stdout",
     "output_type": "stream",
     "text": [
      "2.3261538461538462\n",
      "{'expected_themes': ['Tempo'], 'theme_score': 4.076923076923077, 'theme_matches': [{'card': 'Peregrine Drake', 'score': 5, 'themes': ['Tempo']}, {'card': 'Miscalculation', 'score': 3, 'themes': ['Tempo']}, {'card': 'Moon-Circuit Hacker', 'score': 5, 'themes': ['Tempo']}, {'card': 'Vizier of Tumbling Sands', 'score': 5, 'themes': ['Tempo']}, {'card': 'Cloudkin Seer', 'score': 4, 'themes': ['Tempo']}, {'card': 'Mulldrifter', 'score': 4, 'themes': ['Tempo']}, {'card': 'Phantom Interference', 'score': 2, 'themes': ['Tempo']}, {'card': 'Zephyr Winder', 'score': 4, 'themes': ['Tempo']}, {'card': 'Frost Trickster', 'score': 5, 'themes': ['Tempo']}, {'card': 'Bubble Snare', 'score': 5, 'themes': ['Tempo']}, {'card': 'Cruel Witness', 'score': 2, 'themes': ['Tempo']}, {'card': 'Pestermite', 'score': 6, 'themes': ['Tempo']}, {'card': 'Shipwreck Dowser', 'score': 3, 'themes': ['Tempo']}], 'color_coherence': 1.0, 'color_issues': [], 'mana_curve_score': 0.9384615384615386, 'mana_curve': {5: 3, 2: 3, 3: 4, 1: 2, 4: 1}, 'creature_stats': {'creature_count': 10, 'total_power': 21.0, 'total_toughness': 20.0, 'avg_power': 2.1, 'avg_toughness': 2.0, 'power_distribution': {2: 7, 1: 1, 3: 2}, 'toughness_distribution': {3: 4, 1: 4, 2: 2}, 'creature_categories': {'small': 8, 'medium': 2, 'large': 0, 'utility': 10, 'evasive': 7}, 'theme_alignment_score': 0.0, 'creature_details': [{'name': 'Peregrine Drake', 'power': 2.0, 'toughness': 3.0, 'categories': ['small', 'evasive', 'utility'], 'has_evasion': True, 'has_utility': True}, {'name': 'Moon-Circuit Hacker', 'power': 2.0, 'toughness': 1.0, 'categories': ['small', 'utility'], 'has_evasion': False, 'has_utility': True}, {'name': 'Vizier of Tumbling Sands', 'power': 1.0, 'toughness': 3.0, 'categories': ['small', 'utility'], 'has_evasion': False, 'has_utility': True}, {'name': 'Cloudkin Seer', 'power': 2.0, 'toughness': 1.0, 'categories': ['small', 'evasive', 'utility'], 'has_evasion': True, 'has_utility': True}, {'name': 'Mulldrifter', 'power': 2.0, 'toughness': 2.0, 'categories': ['small', 'evasive', 'utility'], 'has_evasion': True, 'has_utility': True}, {'name': 'Zephyr Winder', 'power': 2.0, 'toughness': 1.0, 'categories': ['small', 'evasive', 'utility'], 'has_evasion': True, 'has_utility': True}, {'name': 'Frost Trickster', 'power': 2.0, 'toughness': 2.0, 'categories': ['small', 'evasive', 'utility'], 'has_evasion': True, 'has_utility': True}, {'name': 'Cruel Witness', 'power': 3.0, 'toughness': 3.0, 'categories': ['medium', 'evasive', 'utility'], 'has_evasion': True, 'has_utility': True}, {'name': 'Pestermite', 'power': 2.0, 'toughness': 1.0, 'categories': ['small', 'evasive', 'utility'], 'has_evasion': True, 'has_utility': True}, {'name': 'Shipwreck Dowser', 'power': 3.0, 'toughness': 3.0, 'categories': ['medium', 'utility'], 'has_evasion': False, 'has_utility': True}]}, 'overall_coherence': 2.3261538461538462, 'deck_colors': 'U', 'card_count': 13}\n",
      "Improved Blue Tempo coherence from 2.1 to 2.3\n",
      "✅ Optimization made changes!\n",
      "\n",
      "Removed cards: Moon-Circuit Hacker\n",
      "Added cards: Capsize\n",
      "\n",
      "New coherence: 11.945\n",
      "Improvement: -0.038\n",
      "\n",
      "Final deck:\n",
      "  - Behold the Multiverse\n",
      "  - Lórien Revealed\n",
      "  - Opt\n",
      "  - Young Blue Dragon\n",
      "  - Brainstorm\n",
      "  - Condescend\n",
      "  - Preordain\n",
      "  - Repeal\n",
      "  - Capsize\n",
      "  - Into the Roil\n",
      "  - Serum Visionary\n",
      "  - Faerie Seer\n",
      "  - Candy Trail\n"
     ]
    }
   ],
   "source": [
    "# Now let's test optimization after adding Card Draw theme criteria\n",
    "print(\"🔧 TESTING OPTIMIZATION AFTER ADDING CARD DRAW CRITERIA\")\n",
    "print(\"=\" * 60)\n",
    "\n",
    "# Reload consts to get the new theme criteria\n",
    "import importlib\n",
    "import src.consts\n",
    "importlib.reload(src.consts)\n",
    "from src.consts import theme_criteria, theme_keywords\n",
    "\n",
    "# Check if Card Draw is now in theme criteria\n",
    "card_draw_criteria = theme_criteria.get('Card Draw', {})\n",
    "print(f\"Card Draw theme criteria: {card_draw_criteria}\")\n",
    "\n",
    "if card_draw_criteria:\n",
    "    print(\"✅ Card Draw theme criteria is now defined!\")\n",
    "    \n",
    "    # Reload the optimization function to pick up new criteria\n",
    "    import src.process\n",
    "    importlib.reload(src.process)\n",
    "    from src.process import optimize_deck_coherence, clear_swap_history\n",
    "    \n",
    "    # Clear swap history\n",
    "    clear_swap_history()\n",
    "    \n",
    "    # Test optimization again\n",
    "    print(f\"\\n{'='*50}\")\n",
    "    print(\"RUNNING OPTIMIZATION WITH NEW CRITERIA:\")\n",
    "    \n",
    "    # Get current state\n",
    "    old_cube_df = cube_df.copy()\n",
    "    old_blue_deck = old_cube_df[old_cube_df['Tags'] == 'Blue Card Draw']\n",
    "    print(f\"Original deck:\")\n",
    "    for _, card in old_blue_deck.iterrows():\n",
    "        print(f\"  - {card['Name']}\")\n",
    "    \n",
    "    # Get current coherence\n",
    "    import src.coherence\n",
    "    importlib.reload(src.coherence)\n",
    "    from src.coherence import analyze_deck_theme_coherence_enhanced\n",
    "    \n",
    "    old_coherence = analyze_deck_theme_coherence_enhanced(old_cube_df, oracle_df)\n",
    "    old_blue_coherence = old_coherence.get('Blue Card Draw', {}).get('overall_coherence', 0)\n",
    "    print(f\"\\nOriginal coherence: {old_blue_coherence:.3f}\")\n",
    "    \n",
    "    # Run optimization\n",
    "    print(\"\\nRunning optimization...\")\n",
    "    new_cube_df = optimize_deck_coherence(cube_df=old_cube_df, oracle_df=oracle_df)\n",
    "    \n",
    "    # Check results\n",
    "    if new_cube_df.equals(old_cube_df):\n",
    "        print(\"❌ Still no changes made by optimization\")\n",
    "        print(\"This might mean the current deck is already optimal,\")\n",
    "        print(\"or there are other issues with the optimization logic.\")\n",
    "    else:\n",
    "        print(\"✅ Optimization made changes!\")\n",
    "        \n",
    "        # Show what changed\n",
    "        new_blue_deck = new_cube_df[new_cube_df['Tags'] == 'Blue Card Draw']\n",
    "        \n",
    "        old_cards = set(old_blue_deck['Name'].tolist())\n",
    "        new_cards = set(new_blue_deck['Name'].tolist())\n",
    "        \n",
    "        removed = old_cards - new_cards\n",
    "        added = new_cards - old_cards\n",
    "        \n",
    "        if removed:\n",
    "            print(f\"\\nRemoved cards: {', '.join(removed)}\")\n",
    "        if added:\n",
    "            print(f\"Added cards: {', '.join(added)}\")\n",
    "        \n",
    "        # Check new coherence\n",
    "        new_coherence = analyze_deck_theme_coherence_enhanced(new_cube_df, oracle_df)\n",
    "        new_blue_coherence = new_coherence.get('Blue Card Draw', {}).get('overall_coherence', 0)\n",
    "        \n",
    "        print(f\"\\nNew coherence: {new_blue_coherence:.3f}\")\n",
    "        print(f\"Improvement: {new_blue_coherence - old_blue_coherence:.3f}\")\n",
    "        \n",
    "        print(f\"\\nFinal deck:\")\n",
    "        for _, card in new_blue_deck.iterrows():\n",
    "            print(f\"  - {card['Name']}\")\n",
    "            \n",
    "else:\n",
    "    print(\"❌ Card Draw theme criteria still not found\")"
   ]
  }
 ],
 "metadata": {
  "kernelspec": {
   "display_name": "magic",
   "language": "python",
   "name": "python3"
  },
  "language_info": {
   "codemirror_mode": {
    "name": "ipython",
    "version": 3
   },
   "file_extension": ".py",
   "mimetype": "text/x-python",
   "name": "python",
   "nbconvert_exporter": "python",
   "pygments_lexer": "ipython3",
   "version": "3.13.2"
  }
 },
 "nbformat": 4,
 "nbformat_minor": 5
}

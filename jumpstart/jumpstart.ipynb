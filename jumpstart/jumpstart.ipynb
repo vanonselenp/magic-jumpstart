{
 "cells": [
  {
   "cell_type": "code",
   "execution_count": 1,
   "id": "6ef0b8fa",
   "metadata": {},
   "outputs": [],
   "source": [
    "import pandas as pd\n",
    "from dotenv import load_dotenv\n",
    "from openai import OpenAI\n",
    "from anthropic import Anthropic\n",
    "from src.consts import *\n",
    "from src.validation import validate_jumpstart_cube, display_validate_results\n",
    "from src.coherence import analyze_deck_theme_coherence_enhanced\n",
    "from src.improve import apply_swap, repair_cube_deck_sizes\n",
    "\n",
    "load_dotenv(override=True)\n",
    "openai = OpenAI()\n",
    "anthropic = Anthropic() \n",
    "\n",
    "# Load the data files\n",
    "oracle_df = pd.read_csv('ThePauperCube_oracle_with_pt.csv')\n",
    "cube_df = pd.read_csv('JumpstartCube_ThePauperCube_ULTIMATE_Final_v2.csv')"
   ]
  },
  {
   "cell_type": "markdown",
   "id": "4ed2b044",
   "metadata": {},
   "source": [
    "# Optimise"
   ]
  },
  {
   "cell_type": "code",
   "execution_count": 23,
   "id": "852fa75d",
   "metadata": {},
   "outputs": [
    {
     "name": "stdout",
     "output_type": "stream",
     "text": [
      "Swap history cleared\n",
      "Optimizing specified deck: Azorius Evasion/Flying\n"
     ]
    },
    {
     "data": {
      "text/markdown": [
       "Analyzing deck: Azorius Evasion/Flying"
      ],
      "text/plain": [
       "<IPython.core.display.Markdown object>"
      ]
     },
     "metadata": {},
     "output_type": "display_data"
    },
    {
     "data": {
      "text/markdown": [
       "Current coherence: 11.9"
      ],
      "text/plain": [
       "<IPython.core.display.Markdown object>"
      ]
     },
     "metadata": {},
     "output_type": "display_data"
    },
    {
     "data": {
      "text/markdown": [
       "Expected themes: Control, Flying"
      ],
      "text/plain": [
       "<IPython.core.display.Markdown object>"
      ]
     },
     "metadata": {},
     "output_type": "display_data"
    },
    {
     "data": {
      "text/markdown": [
       "Deck colors: WU"
      ],
      "text/plain": [
       "<IPython.core.display.Markdown object>"
      ]
     },
     "metadata": {},
     "output_type": "display_data"
    },
    {
     "data": {
      "text/markdown": [
       "Composition: 6 creatures, 7 non-creatures, 2 non-basic lands (Valid: True)"
      ],
      "text/plain": [
       "<IPython.core.display.Markdown object>"
      ]
     },
     "metadata": {},
     "output_type": "display_data"
    },
    {
     "data": {
      "text/markdown": [
       "Found 119 candidate cards to consider"
      ],
      "text/plain": [
       "<IPython.core.display.Markdown object>"
      ]
     },
     "metadata": {},
     "output_type": "display_data"
    },
    {
     "data": {
      "text/markdown": [
       "Identified 13 cards as potential removal candidates"
      ],
      "text/plain": [
       "<IPython.core.display.Markdown object>"
      ]
     },
     "metadata": {},
     "output_type": "display_data"
    },
    {
     "data": {
      "text/markdown": [
       "# 🔄 Swap Recommendations for Azorius Evasion/Flying"
      ],
      "text/plain": [
       "<IPython.core.display.Markdown object>"
      ]
     },
     "metadata": {},
     "output_type": "display_data"
    },
    {
     "data": {
      "text/markdown": [
       "**Projected New Coherence:** 56.9/100 (+45.0)"
      ],
      "text/plain": [
       "<IPython.core.display.Markdown object>"
      ]
     },
     "metadata": {},
     "output_type": "display_data"
    },
    {
     "data": {
      "text/markdown": [
       "### Cards to Remove:"
      ],
      "text/plain": [
       "<IPython.core.display.Markdown object>"
      ]
     },
     "metadata": {},
     "output_type": "display_data"
    },
    {
     "data": {
      "text/markdown": [
       "- **Azorius Chancery** (Theme Score: 3.0, CMC: 0.0)"
      ],
      "text/plain": [
       "<IPython.core.display.Markdown object>"
      ]
     },
     "metadata": {},
     "output_type": "display_data"
    },
    {
     "data": {
      "text/markdown": [
       "- **Silver Drake** (Theme Score: 4.0, CMC: 3.0)"
      ],
      "text/plain": [
       "<IPython.core.display.Markdown object>"
      ]
     },
     "metadata": {},
     "output_type": "display_data"
    },
    {
     "data": {
      "text/markdown": [
       "### Cards to Add:"
      ],
      "text/plain": [
       "<IPython.core.display.Markdown object>"
      ]
     },
     "metadata": {},
     "output_type": "display_data"
    },
    {
     "data": {
      "text/markdown": [
       "- **Phantom Interference** (Theme Score: 8.0) - from Blue Tempo"
      ],
      "text/plain": [
       "<IPython.core.display.Markdown object>"
      ]
     },
     "metadata": {},
     "output_type": "display_data"
    },
    {
     "data": {
      "text/markdown": [
       "- **Triplicate Spirits** (Theme Score: 8.0) - from White Tokens"
      ],
      "text/plain": [
       "<IPython.core.display.Markdown object>"
      ]
     },
     "metadata": {},
     "output_type": "display_data"
    },
    {
     "name": "stdout",
     "output_type": "stream",
     "text": [
      "Applying swap to Azorius Evasion/Flying: removing ['Azorius Chancery', 'Silver Drake'], adding ['Phantom Interference', 'Triplicate Spirits']\n",
      "Initial Azorius Evasion/Flying size: 13\n",
      "Moved Phantom Interference from Blue Tempo to Azorius Evasion/Flying\n",
      "Moved Triplicate Spirits from White Tokens to Azorius Evasion/Flying\n",
      "Moved Azorius Chancery from Azorius Evasion/Flying to Blue Tempo\n",
      "Card Silver Drake not color-compatible with White Tokens, finding replacement...\n",
      "Added Deftblade Elite to White Tokens as replacement\n",
      "Removed incompatible Silver Drake from Azorius Evasion/Flying\n",
      "Final Azorius Evasion/Flying size: 13\n",
      "Swap completed successfully for Azorius Evasion/Flying\n",
      "Coherence change: 11.86 → 12.08 (improvement: 0.22)\n",
      "✅ Improved Azorius Evasion/Flying coherence from 11.9 to 12.1\n",
      "Optimizing specified deck: Black Aggro\n",
      "Optimizing specified deck: Black Aggro\n"
     ]
    },
    {
     "data": {
      "text/markdown": [
       "Analyzing deck: Black Aggro"
      ],
      "text/plain": [
       "<IPython.core.display.Markdown object>"
      ]
     },
     "metadata": {},
     "output_type": "display_data"
    },
    {
     "data": {
      "text/markdown": [
       "Current coherence: 7.0"
      ],
      "text/plain": [
       "<IPython.core.display.Markdown object>"
      ]
     },
     "metadata": {},
     "output_type": "display_data"
    },
    {
     "data": {
      "text/markdown": [
       "Expected themes: Aggro"
      ],
      "text/plain": [
       "<IPython.core.display.Markdown object>"
      ]
     },
     "metadata": {},
     "output_type": "display_data"
    },
    {
     "data": {
      "text/markdown": [
       "Deck colors: B"
      ],
      "text/plain": [
       "<IPython.core.display.Markdown object>"
      ]
     },
     "metadata": {},
     "output_type": "display_data"
    },
    {
     "data": {
      "text/markdown": [
       "Composition: 12 creatures, 1 non-creatures, 0 non-basic lands (Valid: False)"
      ],
      "text/plain": [
       "<IPython.core.display.Markdown object>"
      ]
     },
     "metadata": {},
     "output_type": "display_data"
    },
    {
     "data": {
      "text/markdown": [
       "Found 51 candidate cards to consider"
      ],
      "text/plain": [
       "<IPython.core.display.Markdown object>"
      ]
     },
     "metadata": {},
     "output_type": "display_data"
    },
    {
     "data": {
      "text/markdown": [
       "Identified 13 cards as potential removal candidates"
      ],
      "text/plain": [
       "<IPython.core.display.Markdown object>"
      ]
     },
     "metadata": {},
     "output_type": "display_data"
    },
    {
     "data": {
      "text/markdown": [
       "# 🔄 Swap Recommendations for Black Aggro"
      ],
      "text/plain": [
       "<IPython.core.display.Markdown object>"
      ]
     },
     "metadata": {},
     "output_type": "display_data"
    },
    {
     "data": {
      "text/markdown": [
       "**Projected New Coherence:** 77.0/100 (+70.0)"
      ],
      "text/plain": [
       "<IPython.core.display.Markdown object>"
      ]
     },
     "metadata": {},
     "output_type": "display_data"
    },
    {
     "data": {
      "text/markdown": [
       "### Cards to Remove:"
      ],
      "text/plain": [
       "<IPython.core.display.Markdown object>"
      ]
     },
     "metadata": {},
     "output_type": "display_data"
    },
    {
     "data": {
      "text/markdown": [
       "- **Loathsome Curator** (Theme Score: 0.0, CMC: 5.0)"
      ],
      "text/plain": [
       "<IPython.core.display.Markdown object>"
      ]
     },
     "metadata": {},
     "output_type": "display_data"
    },
    {
     "data": {
      "text/markdown": [
       "- **Troll of Khazad-dûm** (Theme Score: 0.0, CMC: 6.0)"
      ],
      "text/plain": [
       "<IPython.core.display.Markdown object>"
      ]
     },
     "metadata": {},
     "output_type": "display_data"
    },
    {
     "data": {
      "text/markdown": [
       "### Cards to Add:"
      ],
      "text/plain": [
       "<IPython.core.display.Markdown object>"
      ]
     },
     "metadata": {},
     "output_type": "display_data"
    },
    {
     "data": {
      "text/markdown": [
       "- **Nezumi Linkbreaker** (Theme Score: 7.0) - from Black Graveyard"
      ],
      "text/plain": [
       "<IPython.core.display.Markdown object>"
      ]
     },
     "metadata": {},
     "output_type": "display_data"
    },
    {
     "data": {
      "text/markdown": [
       "- **Renegade Freighter** (Theme Score: 7.0) - from Green Stompy"
      ],
      "text/plain": [
       "<IPython.core.display.Markdown object>"
      ]
     },
     "metadata": {},
     "output_type": "display_data"
    },
    {
     "name": "stdout",
     "output_type": "stream",
     "text": [
      "Applying swap to Black Aggro: removing ['Loathsome Curator', 'Troll of Khazad-dûm'], adding ['Nezumi Linkbreaker', 'Renegade Freighter']\n",
      "Initial Black Aggro size: 13\n",
      "Moved Nezumi Linkbreaker from Black Graveyard to Black Aggro\n",
      "Moved Renegade Freighter from Green Stompy to Black Aggro\n",
      "Moved Loathsome Curator from Black Aggro to Black Graveyard\n",
      "Card Troll of Khazad-dûm not color-compatible with Green Stompy, finding replacement...\n",
      "Added Nyxborn Hydra to Green Stompy as replacement\n",
      "Removed incompatible Troll of Khazad-dûm from Black Aggro\n",
      "Final Black Aggro size: 13\n",
      "Swap completed successfully for Black Aggro\n",
      "Coherence change: 7.01 → 6.97 (improvement: -0.04)\n",
      "❌ No improvement achieved\n",
      "Optimizing specified deck: Black Control\n",
      "Coherence change: 7.01 → 6.97 (improvement: -0.04)\n",
      "❌ No improvement achieved\n",
      "Optimizing specified deck: Black Control\n"
     ]
    },
    {
     "data": {
      "text/markdown": [
       "Analyzing deck: Black Control"
      ],
      "text/plain": [
       "<IPython.core.display.Markdown object>"
      ]
     },
     "metadata": {},
     "output_type": "display_data"
    },
    {
     "data": {
      "text/markdown": [
       "Current coherence: 6.4"
      ],
      "text/plain": [
       "<IPython.core.display.Markdown object>"
      ]
     },
     "metadata": {},
     "output_type": "display_data"
    },
    {
     "data": {
      "text/markdown": [
       "Expected themes: Control"
      ],
      "text/plain": [
       "<IPython.core.display.Markdown object>"
      ]
     },
     "metadata": {},
     "output_type": "display_data"
    },
    {
     "data": {
      "text/markdown": [
       "Deck colors: B"
      ],
      "text/plain": [
       "<IPython.core.display.Markdown object>"
      ]
     },
     "metadata": {},
     "output_type": "display_data"
    },
    {
     "data": {
      "text/markdown": [
       "Composition: 9 creatures, 4 non-creatures, 0 non-basic lands (Valid: True)"
      ],
      "text/plain": [
       "<IPython.core.display.Markdown object>"
      ]
     },
     "metadata": {},
     "output_type": "display_data"
    },
    {
     "data": {
      "text/markdown": [
       "Found 47 candidate cards to consider"
      ],
      "text/plain": [
       "<IPython.core.display.Markdown object>"
      ]
     },
     "metadata": {},
     "output_type": "display_data"
    },
    {
     "data": {
      "text/markdown": [
       "Identified 13 cards as potential removal candidates"
      ],
      "text/plain": [
       "<IPython.core.display.Markdown object>"
      ]
     },
     "metadata": {},
     "output_type": "display_data"
    },
    {
     "data": {
      "text/markdown": [
       "# 🔄 Swap Recommendations for Black Control"
      ],
      "text/plain": [
       "<IPython.core.display.Markdown object>"
      ]
     },
     "metadata": {},
     "output_type": "display_data"
    },
    {
     "data": {
      "text/markdown": [
       "**Projected New Coherence:** 71.4/100 (+65.0)"
      ],
      "text/plain": [
       "<IPython.core.display.Markdown object>"
      ]
     },
     "metadata": {},
     "output_type": "display_data"
    },
    {
     "data": {
      "text/markdown": [
       "### Cards to Remove:"
      ],
      "text/plain": [
       "<IPython.core.display.Markdown object>"
      ]
     },
     "metadata": {},
     "output_type": "display_data"
    },
    {
     "data": {
      "text/markdown": [
       "- **Falkenrath Noble** (Theme Score: 0.5, CMC: 4.0)"
      ],
      "text/plain": [
       "<IPython.core.display.Markdown object>"
      ]
     },
     "metadata": {},
     "output_type": "display_data"
    },
    {
     "data": {
      "text/markdown": [
       "- **Infestation Sage** (Theme Score: 0.5, CMC: 1.0)"
      ],
      "text/plain": [
       "<IPython.core.display.Markdown object>"
      ]
     },
     "metadata": {},
     "output_type": "display_data"
    },
    {
     "data": {
      "text/markdown": [
       "### Cards to Add:"
      ],
      "text/plain": [
       "<IPython.core.display.Markdown object>"
      ]
     },
     "metadata": {},
     "output_type": "display_data"
    },
    {
     "data": {
      "text/markdown": [
       "- **Dread Return** (Theme Score: 7.0) - from Black Sacrifice"
      ],
      "text/plain": [
       "<IPython.core.display.Markdown object>"
      ]
     },
     "metadata": {},
     "output_type": "display_data"
    },
    {
     "data": {
      "text/markdown": [
       "- **Feign Death** (Theme Score: 7.0) - from Orzhov Control"
      ],
      "text/plain": [
       "<IPython.core.display.Markdown object>"
      ]
     },
     "metadata": {},
     "output_type": "display_data"
    },
    {
     "name": "stdout",
     "output_type": "stream",
     "text": [
      "Applying swap to Black Control: removing ['Falkenrath Noble', 'Infestation Sage'], adding ['Dread Return', 'Feign Death']\n",
      "Initial Black Control size: 13\n",
      "Moved Dread Return from Black Sacrifice to Black Control\n",
      "Moved Feign Death from Orzhov Control to Black Control\n",
      "Moved Falkenrath Noble from Black Control to Black Sacrifice\n",
      "Moved Infestation Sage from Black Control to Orzhov Control\n",
      "Final Black Control size: 13\n",
      "Swap completed successfully for Black Control\n",
      "Coherence change: 6.39 → 6.24 (improvement: -0.14)\n",
      "❌ No improvement achieved\n",
      "Optimizing specified deck: Black Graveyard\n",
      "Optimizing specified deck: Black Graveyard\n"
     ]
    },
    {
     "data": {
      "text/markdown": [
       "Analyzing deck: Black Graveyard"
      ],
      "text/plain": [
       "<IPython.core.display.Markdown object>"
      ]
     },
     "metadata": {},
     "output_type": "display_data"
    },
    {
     "data": {
      "text/markdown": [
       "Current coherence: 9.2"
      ],
      "text/plain": [
       "<IPython.core.display.Markdown object>"
      ]
     },
     "metadata": {},
     "output_type": "display_data"
    },
    {
     "data": {
      "text/markdown": [
       "Expected themes: Graveyard"
      ],
      "text/plain": [
       "<IPython.core.display.Markdown object>"
      ]
     },
     "metadata": {},
     "output_type": "display_data"
    },
    {
     "data": {
      "text/markdown": [
       "Deck colors: B"
      ],
      "text/plain": [
       "<IPython.core.display.Markdown object>"
      ]
     },
     "metadata": {},
     "output_type": "display_data"
    },
    {
     "data": {
      "text/markdown": [
       "Composition: 7 creatures, 6 non-creatures, 1 non-basic lands (Valid: True)"
      ],
      "text/plain": [
       "<IPython.core.display.Markdown object>"
      ]
     },
     "metadata": {},
     "output_type": "display_data"
    },
    {
     "data": {
      "text/markdown": [
       "Found 50 candidate cards to consider"
      ],
      "text/plain": [
       "<IPython.core.display.Markdown object>"
      ]
     },
     "metadata": {},
     "output_type": "display_data"
    },
    {
     "data": {
      "text/markdown": [
       "Identified 13 cards as potential removal candidates"
      ],
      "text/plain": [
       "<IPython.core.display.Markdown object>"
      ]
     },
     "metadata": {},
     "output_type": "display_data"
    },
    {
     "data": {
      "text/markdown": [
       "# 🔄 Swap Recommendations for Black Graveyard"
      ],
      "text/plain": [
       "<IPython.core.display.Markdown object>"
      ]
     },
     "metadata": {},
     "output_type": "display_data"
    },
    {
     "data": {
      "text/markdown": [
       "**Projected New Coherence:** 39.2/100 (+30.0)"
      ],
      "text/plain": [
       "<IPython.core.display.Markdown object>"
      ]
     },
     "metadata": {},
     "output_type": "display_data"
    },
    {
     "data": {
      "text/markdown": [
       "### Cards to Remove:"
      ],
      "text/plain": [
       "<IPython.core.display.Markdown object>"
      ]
     },
     "metadata": {},
     "output_type": "display_data"
    },
    {
     "data": {
      "text/markdown": [
       "- **Night's Whisper** (Theme Score: 1.0, CMC: 2.0)"
      ],
      "text/plain": [
       "<IPython.core.display.Markdown object>"
      ]
     },
     "metadata": {},
     "output_type": "display_data"
    },
    {
     "data": {
      "text/markdown": [
       "- **Tragic Slip** (Theme Score: 1.0, CMC: 1.0)"
      ],
      "text/plain": [
       "<IPython.core.display.Markdown object>"
      ]
     },
     "metadata": {},
     "output_type": "display_data"
    },
    {
     "data": {
      "text/markdown": [
       "### Cards to Add:"
      ],
      "text/plain": [
       "<IPython.core.display.Markdown object>"
      ]
     },
     "metadata": {},
     "output_type": "display_data"
    },
    {
     "data": {
      "text/markdown": [
       "- **Blood Fountain** (Theme Score: 4.0) - from Golgari Graveyard"
      ],
      "text/plain": [
       "<IPython.core.display.Markdown object>"
      ]
     },
     "metadata": {},
     "output_type": "display_data"
    },
    {
     "data": {
      "text/markdown": [
       "- **Dread Return** (Theme Score: 4.0) - from Black Sacrifice"
      ],
      "text/plain": [
       "<IPython.core.display.Markdown object>"
      ]
     },
     "metadata": {},
     "output_type": "display_data"
    },
    {
     "name": "stdout",
     "output_type": "stream",
     "text": [
      "Applying swap to Black Graveyard: removing [\"Night's Whisper\", 'Tragic Slip'], adding ['Blood Fountain', 'Dread Return']\n",
      "Initial Black Graveyard size: 13\n",
      "Moved Blood Fountain from Golgari Graveyard to Black Graveyard\n",
      "Moved Dread Return from Black Sacrifice to Black Graveyard\n",
      "Moved Night's Whisper from Black Graveyard to Golgari Graveyard\n",
      "Moved Tragic Slip from Black Graveyard to Black Sacrifice\n",
      "Final Black Graveyard size: 13\n",
      "Swap completed successfully for Black Graveyard\n",
      "Coherence change: 9.17 → 9.48 (improvement: 0.30)\n",
      "✅ Improved Black Graveyard coherence from 9.2 to 9.5\n",
      "Optimizing specified deck: Black Sacrifice\n",
      "Coherence change: 9.17 → 9.48 (improvement: 0.30)\n",
      "✅ Improved Black Graveyard coherence from 9.2 to 9.5\n",
      "Optimizing specified deck: Black Sacrifice\n"
     ]
    },
    {
     "data": {
      "text/markdown": [
       "Analyzing deck: Black Sacrifice"
      ],
      "text/plain": [
       "<IPython.core.display.Markdown object>"
      ]
     },
     "metadata": {},
     "output_type": "display_data"
    },
    {
     "data": {
      "text/markdown": [
       "Current coherence: 11.2"
      ],
      "text/plain": [
       "<IPython.core.display.Markdown object>"
      ]
     },
     "metadata": {},
     "output_type": "display_data"
    },
    {
     "data": {
      "text/markdown": [
       "Expected themes: Sacrifice"
      ],
      "text/plain": [
       "<IPython.core.display.Markdown object>"
      ]
     },
     "metadata": {},
     "output_type": "display_data"
    },
    {
     "data": {
      "text/markdown": [
       "Deck colors: B"
      ],
      "text/plain": [
       "<IPython.core.display.Markdown object>"
      ]
     },
     "metadata": {},
     "output_type": "display_data"
    },
    {
     "data": {
      "text/markdown": [
       "Composition: 7 creatures, 6 non-creatures, 2 non-basic lands (Valid: True)"
      ],
      "text/plain": [
       "<IPython.core.display.Markdown object>"
      ]
     },
     "metadata": {},
     "output_type": "display_data"
    },
    {
     "data": {
      "text/markdown": [
       "Found 72 candidate cards to consider"
      ],
      "text/plain": [
       "<IPython.core.display.Markdown object>"
      ]
     },
     "metadata": {},
     "output_type": "display_data"
    },
    {
     "data": {
      "text/markdown": [
       "Identified 13 cards as potential removal candidates"
      ],
      "text/plain": [
       "<IPython.core.display.Markdown object>"
      ]
     },
     "metadata": {},
     "output_type": "display_data"
    },
    {
     "data": {
      "text/markdown": [
       "# 🔄 Swap Recommendations for Black Sacrifice"
      ],
      "text/plain": [
       "<IPython.core.display.Markdown object>"
      ]
     },
     "metadata": {},
     "output_type": "display_data"
    },
    {
     "data": {
      "text/markdown": [
       "**Projected New Coherence:** 36.2/100 (+25.0)"
      ],
      "text/plain": [
       "<IPython.core.display.Markdown object>"
      ]
     },
     "metadata": {},
     "output_type": "display_data"
    },
    {
     "data": {
      "text/markdown": [
       "### Cards to Remove:"
      ],
      "text/plain": [
       "<IPython.core.display.Markdown object>"
      ]
     },
     "metadata": {},
     "output_type": "display_data"
    },
    {
     "data": {
      "text/markdown": [
       "- **Izzet Boilerworks** (Theme Score: 1.0, CMC: 0.0)"
      ],
      "text/plain": [
       "<IPython.core.display.Markdown object>"
      ]
     },
     "metadata": {},
     "output_type": "display_data"
    },
    {
     "data": {
      "text/markdown": [
       "- **Tragic Slip** (Theme Score: 2.0, CMC: 1.0)"
      ],
      "text/plain": [
       "<IPython.core.display.Markdown object>"
      ]
     },
     "metadata": {},
     "output_type": "display_data"
    },
    {
     "data": {
      "text/markdown": [
       "### Cards to Add:"
      ],
      "text/plain": [
       "<IPython.core.display.Markdown object>"
      ]
     },
     "metadata": {},
     "output_type": "display_data"
    },
    {
     "data": {
      "text/markdown": [
       "- **Carrier Thrall** (Theme Score: 4.0) - from Golgari Graveyard"
      ],
      "text/plain": [
       "<IPython.core.display.Markdown object>"
      ]
     },
     "metadata": {},
     "output_type": "display_data"
    },
    {
     "data": {
      "text/markdown": [
       "- **Accursed Marauder** (Theme Score: 4.0) - from Black Graveyard"
      ],
      "text/plain": [
       "<IPython.core.display.Markdown object>"
      ]
     },
     "metadata": {},
     "output_type": "display_data"
    },
    {
     "name": "stdout",
     "output_type": "stream",
     "text": [
      "Applying swap to Black Sacrifice: removing ['Izzet Boilerworks', 'Tragic Slip'], adding ['Carrier Thrall', 'Accursed Marauder']\n",
      "Initial Black Sacrifice size: 13\n",
      "Moved Carrier Thrall from Golgari Graveyard to Black Sacrifice\n",
      "Moved Accursed Marauder from Black Graveyard to Black Sacrifice\n",
      "Moved Izzet Boilerworks from Black Sacrifice to Golgari Graveyard\n",
      "Moved Tragic Slip from Black Sacrifice to Black Graveyard\n",
      "Final Black Sacrifice size: 13\n",
      "Swap completed successfully for Black Sacrifice\n",
      "Coherence change: 11.18 → 11.45 (improvement: 0.27)\n",
      "✅ Improved Black Sacrifice coherence from 11.2 to 11.4\n",
      "Optimizing specified deck: Blue Card Draw\n",
      "Coherence change: 11.18 → 11.45 (improvement: 0.27)\n",
      "✅ Improved Black Sacrifice coherence from 11.2 to 11.4\n",
      "Optimizing specified deck: Blue Card Draw\n"
     ]
    },
    {
     "data": {
      "text/markdown": [
       "Analyzing deck: Blue Card Draw"
      ],
      "text/plain": [
       "<IPython.core.display.Markdown object>"
      ]
     },
     "metadata": {},
     "output_type": "display_data"
    },
    {
     "data": {
      "text/markdown": [
       "Current coherence: 12.3"
      ],
      "text/plain": [
       "<IPython.core.display.Markdown object>"
      ]
     },
     "metadata": {},
     "output_type": "display_data"
    },
    {
     "data": {
      "text/markdown": [
       "Expected themes: Card Draw"
      ],
      "text/plain": [
       "<IPython.core.display.Markdown object>"
      ]
     },
     "metadata": {},
     "output_type": "display_data"
    },
    {
     "data": {
      "text/markdown": [
       "Deck colors: U"
      ],
      "text/plain": [
       "<IPython.core.display.Markdown object>"
      ]
     },
     "metadata": {},
     "output_type": "display_data"
    },
    {
     "data": {
      "text/markdown": [
       "Composition: 3 creatures, 10 non-creatures, 0 non-basic lands (Valid: True)"
      ],
      "text/plain": [
       "<IPython.core.display.Markdown object>"
      ]
     },
     "metadata": {},
     "output_type": "display_data"
    },
    {
     "data": {
      "text/markdown": [
       "Found 44 candidate cards to consider"
      ],
      "text/plain": [
       "<IPython.core.display.Markdown object>"
      ]
     },
     "metadata": {},
     "output_type": "display_data"
    },
    {
     "data": {
      "text/markdown": [
       "Identified 13 cards as potential removal candidates"
      ],
      "text/plain": [
       "<IPython.core.display.Markdown object>"
      ]
     },
     "metadata": {},
     "output_type": "display_data"
    },
    {
     "data": {
      "text/markdown": [
       "# 🔄 Swap Recommendations for Blue Card Draw"
      ],
      "text/plain": [
       "<IPython.core.display.Markdown object>"
      ]
     },
     "metadata": {},
     "output_type": "display_data"
    },
    {
     "data": {
      "text/markdown": [
       "❌ **No beneficial swaps found.** The deck may already be well-optimized, or there may not be suitable replacement cards available."
      ],
      "text/plain": [
       "<IPython.core.display.Markdown object>"
      ]
     },
     "metadata": {},
     "output_type": "display_data"
    },
    {
     "name": "stdout",
     "output_type": "stream",
     "text": [
      "No available swaps to apply for this deck.\n",
      "\n",
      "📊 DECK COMPOSITION: 3 creatures, 10 non-creatures, 0 non-basic lands\n",
      "Valid composition: True (need 0-9 creatures, ≤2 non-basic lands)\n",
      "Card: Behold the Multiverse, Score: 5.0, Themes: ['Card Draw', 'Jumpstart(non-creature:+1.0)']\n",
      "Card: Lórien Revealed, Score: 6.0, Themes: ['Card Draw', 'Jumpstart(non-creature:+1.0)']\n",
      "Card: Consider, Score: 6.0, Themes: ['Card Draw', 'Jumpstart(non-creature:+1.0)']\n",
      "Card: Opt, Score: 6.0, Themes: ['Card Draw', 'Jumpstart(non-creature:+1.0)']\n",
      "Card: Brainstorm, Score: 5.0, Themes: ['Card Draw', 'Jumpstart(non-creature:+1.0)']\n",
      "Card: Condescend, Score: 5.0, Themes: ['Card Draw', 'Jumpstart(non-creature:+1.0)']\n",
      "Card: Preordain, Score: 6.0, Themes: ['Card Draw', 'Jumpstart(non-creature:+1.0)']\n",
      "Card: Repeal, Score: 4.0, Themes: ['Card Draw', 'Jumpstart(non-creature:+1.0)']\n",
      "Card: Into the Roil, Score: 4.0, Themes: ['Card Draw', 'Jumpstart(non-creature:+1.0)']\n",
      "Card: Serum Visionary, Score: 4.0, Themes: ['Card Draw', 'Jumpstart(creature:+1.0)']\n",
      "Card: Faerie Seer, Score: 5.0, Themes: ['Card Draw', 'Jumpstart(creature:+1.0)']\n",
      "Card: Cruel Witness, Score: 5.0, Themes: ['Card Draw', 'Jumpstart(creature:+1.0)']\n",
      "Card: Candy Trail, Score: 4.0, Themes: ['Card Draw', 'Jumpstart(non-creature:+1.0)']\n",
      "Coherence change: 12.29 → 12.29 (improvement: 0.00)\n",
      "❌ No improvement achieved\n",
      "Optimizing specified deck: Blue Control\n",
      "Optimizing specified deck: Blue Control\n"
     ]
    },
    {
     "data": {
      "text/markdown": [
       "Analyzing deck: Blue Control"
      ],
      "text/plain": [
       "<IPython.core.display.Markdown object>"
      ]
     },
     "metadata": {},
     "output_type": "display_data"
    },
    {
     "data": {
      "text/markdown": [
       "Current coherence: 9.5"
      ],
      "text/plain": [
       "<IPython.core.display.Markdown object>"
      ]
     },
     "metadata": {},
     "output_type": "display_data"
    },
    {
     "data": {
      "text/markdown": [
       "Expected themes: Control"
      ],
      "text/plain": [
       "<IPython.core.display.Markdown object>"
      ]
     },
     "metadata": {},
     "output_type": "display_data"
    },
    {
     "data": {
      "text/markdown": [
       "Deck colors: U"
      ],
      "text/plain": [
       "<IPython.core.display.Markdown object>"
      ]
     },
     "metadata": {},
     "output_type": "display_data"
    },
    {
     "data": {
      "text/markdown": [
       "Composition: 6 creatures, 7 non-creatures, 0 non-basic lands (Valid: True)"
      ],
      "text/plain": [
       "<IPython.core.display.Markdown object>"
      ]
     },
     "metadata": {},
     "output_type": "display_data"
    },
    {
     "data": {
      "text/markdown": [
       "Found 57 candidate cards to consider"
      ],
      "text/plain": [
       "<IPython.core.display.Markdown object>"
      ]
     },
     "metadata": {},
     "output_type": "display_data"
    },
    {
     "data": {
      "text/markdown": [
       "Identified 13 cards as potential removal candidates"
      ],
      "text/plain": [
       "<IPython.core.display.Markdown object>"
      ]
     },
     "metadata": {},
     "output_type": "display_data"
    },
    {
     "data": {
      "text/markdown": [
       "# 🔄 Swap Recommendations for Blue Control"
      ],
      "text/plain": [
       "<IPython.core.display.Markdown object>"
      ]
     },
     "metadata": {},
     "output_type": "display_data"
    },
    {
     "data": {
      "text/markdown": [
       "**Projected New Coherence:** 69.5/100 (+60.0)"
      ],
      "text/plain": [
       "<IPython.core.display.Markdown object>"
      ]
     },
     "metadata": {},
     "output_type": "display_data"
    },
    {
     "data": {
      "text/markdown": [
       "### Cards to Remove:"
      ],
      "text/plain": [
       "<IPython.core.display.Markdown object>"
      ]
     },
     "metadata": {},
     "output_type": "display_data"
    },
    {
     "data": {
      "text/markdown": [
       "- **Merfolk Looter** (Theme Score: 1.0, CMC: 2.0)"
      ],
      "text/plain": [
       "<IPython.core.display.Markdown object>"
      ]
     },
     "metadata": {},
     "output_type": "display_data"
    },
    {
     "data": {
      "text/markdown": [
       "- **Unable to Scream** (Theme Score: 1.0, CMC: 1.0)"
      ],
      "text/plain": [
       "<IPython.core.display.Markdown object>"
      ]
     },
     "metadata": {},
     "output_type": "display_data"
    },
    {
     "data": {
      "text/markdown": [
       "### Cards to Add:"
      ],
      "text/plain": [
       "<IPython.core.display.Markdown object>"
      ]
     },
     "metadata": {},
     "output_type": "display_data"
    },
    {
     "data": {
      "text/markdown": [
       "- **Behold the Multiverse** (Theme Score: 7.0) - from Blue Card Draw"
      ],
      "text/plain": [
       "<IPython.core.display.Markdown object>"
      ]
     },
     "metadata": {},
     "output_type": "display_data"
    },
    {
     "data": {
      "text/markdown": [
       "- **Deep Analysis** (Theme Score: 7.0) - from Blue Flying"
      ],
      "text/plain": [
       "<IPython.core.display.Markdown object>"
      ]
     },
     "metadata": {},
     "output_type": "display_data"
    },
    {
     "name": "stdout",
     "output_type": "stream",
     "text": [
      "Applying swap to Blue Control: removing ['Merfolk Looter', 'Unable to Scream'], adding ['Behold the Multiverse', 'Deep Analysis']\n",
      "Initial Blue Control size: 13\n",
      "Moved Behold the Multiverse from Blue Card Draw to Blue Control\n",
      "Moved Deep Analysis from Blue Flying to Blue Control\n",
      "Moved Merfolk Looter from Blue Control to Blue Card Draw\n",
      "Moved Unable to Scream from Blue Control to Blue Flying\n",
      "Final Blue Control size: 13\n",
      "Swap completed successfully for Blue Control\n",
      "Coherence change: 9.46 → 9.92 (improvement: 0.45)\n",
      "✅ Improved Blue Control coherence from 9.5 to 9.9\n",
      "Optimizing specified deck: Blue Flying\n",
      "Coherence change: 9.46 → 9.92 (improvement: 0.45)\n",
      "✅ Improved Blue Control coherence from 9.5 to 9.9\n",
      "Optimizing specified deck: Blue Flying\n"
     ]
    },
    {
     "data": {
      "text/markdown": [
       "Analyzing deck: Blue Flying"
      ],
      "text/plain": [
       "<IPython.core.display.Markdown object>"
      ]
     },
     "metadata": {},
     "output_type": "display_data"
    },
    {
     "data": {
      "text/markdown": [
       "Current coherence: 10.6"
      ],
      "text/plain": [
       "<IPython.core.display.Markdown object>"
      ]
     },
     "metadata": {},
     "output_type": "display_data"
    },
    {
     "data": {
      "text/markdown": [
       "Expected themes: Flying"
      ],
      "text/plain": [
       "<IPython.core.display.Markdown object>"
      ]
     },
     "metadata": {},
     "output_type": "display_data"
    },
    {
     "data": {
      "text/markdown": [
       "Deck colors: U"
      ],
      "text/plain": [
       "<IPython.core.display.Markdown object>"
      ]
     },
     "metadata": {},
     "output_type": "display_data"
    },
    {
     "data": {
      "text/markdown": [
       "Composition: 8 creatures, 5 non-creatures, 0 non-basic lands (Valid: True)"
      ],
      "text/plain": [
       "<IPython.core.display.Markdown object>"
      ]
     },
     "metadata": {},
     "output_type": "display_data"
    },
    {
     "data": {
      "text/markdown": [
       "Found 24 candidate cards to consider"
      ],
      "text/plain": [
       "<IPython.core.display.Markdown object>"
      ]
     },
     "metadata": {},
     "output_type": "display_data"
    },
    {
     "data": {
      "text/markdown": [
       "Identified 13 cards as potential removal candidates"
      ],
      "text/plain": [
       "<IPython.core.display.Markdown object>"
      ]
     },
     "metadata": {},
     "output_type": "display_data"
    },
    {
     "data": {
      "text/markdown": [
       "# 🔄 Swap Recommendations for Blue Flying"
      ],
      "text/plain": [
       "<IPython.core.display.Markdown object>"
      ]
     },
     "metadata": {},
     "output_type": "display_data"
    },
    {
     "data": {
      "text/markdown": [
       "**Projected New Coherence:** 30.6/100 (+20.0)"
      ],
      "text/plain": [
       "<IPython.core.display.Markdown object>"
      ]
     },
     "metadata": {},
     "output_type": "display_data"
    },
    {
     "data": {
      "text/markdown": [
       "### Cards to Remove:"
      ],
      "text/plain": [
       "<IPython.core.display.Markdown object>"
      ]
     },
     "metadata": {},
     "output_type": "display_data"
    },
    {
     "data": {
      "text/markdown": [
       "- **Aethersnipe** (Theme Score: 1.0, CMC: 6.0)"
      ],
      "text/plain": [
       "<IPython.core.display.Markdown object>"
      ]
     },
     "metadata": {},
     "output_type": "display_data"
    },
    {
     "data": {
      "text/markdown": [
       "- **Looter il-Kor** (Theme Score: 1.0, CMC: 2.0)"
      ],
      "text/plain": [
       "<IPython.core.display.Markdown object>"
      ]
     },
     "metadata": {},
     "output_type": "display_data"
    },
    {
     "data": {
      "text/markdown": [
       "### Cards to Add:"
      ],
      "text/plain": [
       "<IPython.core.display.Markdown object>"
      ]
     },
     "metadata": {},
     "output_type": "display_data"
    },
    {
     "data": {
      "text/markdown": [
       "- **Mocking Sprite** (Theme Score: 3.0) - from oracle pool"
      ],
      "text/plain": [
       "<IPython.core.display.Markdown object>"
      ]
     },
     "metadata": {},
     "output_type": "display_data"
    },
    {
     "data": {
      "text/markdown": [
       "- **Preening Champion** (Theme Score: 3.0) - from Azorius Evasion/Flying"
      ],
      "text/plain": [
       "<IPython.core.display.Markdown object>"
      ]
     },
     "metadata": {},
     "output_type": "display_data"
    },
    {
     "name": "stdout",
     "output_type": "stream",
     "text": [
      "Applying swap to Blue Flying: removing ['Aethersnipe', 'Looter il-Kor'], adding ['Mocking Sprite', 'Preening Champion']\n",
      "Initial Blue Flying size: 13\n",
      "Added Mocking Sprite from oracle to Blue Flying\n",
      "Moved Preening Champion from Azorius Evasion/Flying to Blue Flying\n",
      "Removed Aethersnipe from Blue Flying (replaced by oracle card)\n",
      "Moved Looter il-Kor from Blue Flying to Azorius Evasion/Flying\n",
      "Final Blue Flying size: 13\n",
      "Swap completed successfully for Blue Flying\n",
      "Coherence change: 10.63 → 10.84 (improvement: 0.20)\n",
      "✅ Improved Blue Flying coherence from 10.6 to 10.8\n",
      "Optimizing specified deck: Blue Tempo\n",
      "Optimizing specified deck: Blue Tempo\n"
     ]
    },
    {
     "data": {
      "text/markdown": [
       "Analyzing deck: Blue Tempo"
      ],
      "text/plain": [
       "<IPython.core.display.Markdown object>"
      ]
     },
     "metadata": {},
     "output_type": "display_data"
    },
    {
     "data": {
      "text/markdown": [
       "Current coherence: 12.4"
      ],
      "text/plain": [
       "<IPython.core.display.Markdown object>"
      ]
     },
     "metadata": {},
     "output_type": "display_data"
    },
    {
     "data": {
      "text/markdown": [
       "Expected themes: Tempo"
      ],
      "text/plain": [
       "<IPython.core.display.Markdown object>"
      ]
     },
     "metadata": {},
     "output_type": "display_data"
    },
    {
     "data": {
      "text/markdown": [
       "Deck colors: U"
      ],
      "text/plain": [
       "<IPython.core.display.Markdown object>"
      ]
     },
     "metadata": {},
     "output_type": "display_data"
    },
    {
     "data": {
      "text/markdown": [
       "Composition: 9 creatures, 4 non-creatures, 1 non-basic lands (Valid: True)"
      ],
      "text/plain": [
       "<IPython.core.display.Markdown object>"
      ]
     },
     "metadata": {},
     "output_type": "display_data"
    },
    {
     "data": {
      "text/markdown": [
       "Found 66 candidate cards to consider"
      ],
      "text/plain": [
       "<IPython.core.display.Markdown object>"
      ]
     },
     "metadata": {},
     "output_type": "display_data"
    },
    {
     "data": {
      "text/markdown": [
       "Identified 13 cards as potential removal candidates"
      ],
      "text/plain": [
       "<IPython.core.display.Markdown object>"
      ]
     },
     "metadata": {},
     "output_type": "display_data"
    },
    {
     "data": {
      "text/markdown": [
       "# 🔄 Swap Recommendations for Blue Tempo"
      ],
      "text/plain": [
       "<IPython.core.display.Markdown object>"
      ]
     },
     "metadata": {},
     "output_type": "display_data"
    },
    {
     "data": {
      "text/markdown": [
       "**Projected New Coherence:** 14.9/100 (+2.5)"
      ],
      "text/plain": [
       "<IPython.core.display.Markdown object>"
      ]
     },
     "metadata": {},
     "output_type": "display_data"
    },
    {
     "data": {
      "text/markdown": [
       "### Cards to Remove:"
      ],
      "text/plain": [
       "<IPython.core.display.Markdown object>"
      ]
     },
     "metadata": {},
     "output_type": "display_data"
    },
    {
     "data": {
      "text/markdown": [
       "- **Shipwreck Dowser** (Theme Score: 3.5, CMC: 5.0)"
      ],
      "text/plain": [
       "<IPython.core.display.Markdown object>"
      ]
     },
     "metadata": {},
     "output_type": "display_data"
    },
    {
     "data": {
      "text/markdown": [
       "- **Miscalculation** (Theme Score: 4.0, CMC: 2.0)"
      ],
      "text/plain": [
       "<IPython.core.display.Markdown object>"
      ]
     },
     "metadata": {},
     "output_type": "display_data"
    },
    {
     "data": {
      "text/markdown": [
       "### Cards to Add:"
      ],
      "text/plain": [
       "<IPython.core.display.Markdown object>"
      ]
     },
     "metadata": {},
     "output_type": "display_data"
    },
    {
     "data": {
      "text/markdown": [
       "- **Weakstone's Subjugation** (Theme Score: 4.0) - from Blue Flying"
      ],
      "text/plain": [
       "<IPython.core.display.Markdown object>"
      ]
     },
     "metadata": {},
     "output_type": "display_data"
    },
    {
     "data": {
      "text/markdown": [
       "- **Serum Visionary** (Theme Score: 4.0) - from Blue Card Draw"
      ],
      "text/plain": [
       "<IPython.core.display.Markdown object>"
      ]
     },
     "metadata": {},
     "output_type": "display_data"
    },
    {
     "name": "stdout",
     "output_type": "stream",
     "text": [
      "Applying swap to Blue Tempo: removing ['Shipwreck Dowser', 'Miscalculation'], adding [\"Weakstone's Subjugation\", 'Serum Visionary']\n",
      "Initial Blue Tempo size: 13\n",
      "Moved Weakstone's Subjugation from Blue Flying to Blue Tempo\n",
      "Moved Serum Visionary from Blue Card Draw to Blue Tempo\n",
      "Moved Shipwreck Dowser from Blue Tempo to Blue Flying\n",
      "Moved Miscalculation from Blue Tempo to Blue Card Draw\n",
      "Final Blue Tempo size: 13\n",
      "Swap completed successfully for Blue Tempo\n",
      "Coherence change: 12.44 → 12.52 (improvement: 0.08)\n",
      "✅ Improved Blue Tempo coherence from 12.4 to 12.5\n",
      "Coherence change: 12.44 → 12.52 (improvement: 0.08)\n",
      "✅ Improved Blue Tempo coherence from 12.4 to 12.5\n",
      "Optimizing specified deck: Boros Aggro/Beatdown\n",
      "Optimizing specified deck: Boros Aggro/Beatdown\n"
     ]
    },
    {
     "data": {
      "text/markdown": [
       "Analyzing deck: Boros Aggro/Beatdown"
      ],
      "text/plain": [
       "<IPython.core.display.Markdown object>"
      ]
     },
     "metadata": {},
     "output_type": "display_data"
    },
    {
     "data": {
      "text/markdown": [
       "Current coherence: 10.5"
      ],
      "text/plain": [
       "<IPython.core.display.Markdown object>"
      ]
     },
     "metadata": {},
     "output_type": "display_data"
    },
    {
     "data": {
      "text/markdown": [
       "Expected themes: Aggro, Beatdown, Equipment"
      ],
      "text/plain": [
       "<IPython.core.display.Markdown object>"
      ]
     },
     "metadata": {},
     "output_type": "display_data"
    },
    {
     "data": {
      "text/markdown": [
       "Deck colors: RW"
      ],
      "text/plain": [
       "<IPython.core.display.Markdown object>"
      ]
     },
     "metadata": {},
     "output_type": "display_data"
    },
    {
     "data": {
      "text/markdown": [
       "Composition: 10 creatures, 3 non-creatures, 1 non-basic lands (Valid: False)"
      ],
      "text/plain": [
       "<IPython.core.display.Markdown object>"
      ]
     },
     "metadata": {},
     "output_type": "display_data"
    },
    {
     "data": {
      "text/markdown": [
       "Found 144 candidate cards to consider"
      ],
      "text/plain": [
       "<IPython.core.display.Markdown object>"
      ]
     },
     "metadata": {},
     "output_type": "display_data"
    },
    {
     "data": {
      "text/markdown": [
       "Identified 13 cards as potential removal candidates"
      ],
      "text/plain": [
       "<IPython.core.display.Markdown object>"
      ]
     },
     "metadata": {},
     "output_type": "display_data"
    },
    {
     "data": {
      "text/markdown": [
       "# 🔄 Swap Recommendations for Boros Aggro/Beatdown"
      ],
      "text/plain": [
       "<IPython.core.display.Markdown object>"
      ]
     },
     "metadata": {},
     "output_type": "display_data"
    },
    {
     "data": {
      "text/markdown": [
       "**Projected New Coherence:** 135.5/100 (+125.0)"
      ],
      "text/plain": [
       "<IPython.core.display.Markdown object>"
      ]
     },
     "metadata": {},
     "output_type": "display_data"
    },
    {
     "data": {
      "text/markdown": [
       "### Cards to Remove:"
      ],
      "text/plain": [
       "<IPython.core.display.Markdown object>"
      ]
     },
     "metadata": {},
     "output_type": "display_data"
    },
    {
     "data": {
      "text/markdown": [
       "- **Hordeling Outburst** (Theme Score: 0.0, CMC: 3.0)"
      ],
      "text/plain": [
       "<IPython.core.display.Markdown object>"
      ]
     },
     "metadata": {},
     "output_type": "display_data"
    },
    {
     "data": {
      "text/markdown": [
       "- **Guttersnipe** (Theme Score: 2.0, CMC: 3.0)"
      ],
      "text/plain": [
       "<IPython.core.display.Markdown object>"
      ]
     },
     "metadata": {},
     "output_type": "display_data"
    },
    {
     "data": {
      "text/markdown": [
       "### Cards to Add:"
      ],
      "text/plain": [
       "<IPython.core.display.Markdown object>"
      ]
     },
     "metadata": {},
     "output_type": "display_data"
    },
    {
     "data": {
      "text/markdown": [
       "- **Cartouche of Solidarity** (Theme Score: 14.0) - from White Tokens"
      ],
      "text/plain": [
       "<IPython.core.display.Markdown object>"
      ]
     },
     "metadata": {},
     "output_type": "display_data"
    },
    {
     "data": {
      "text/markdown": [
       "- **Monastery Swiftspear** (Theme Score: 13.0) - from Red Small Creatures"
      ],
      "text/plain": [
       "<IPython.core.display.Markdown object>"
      ]
     },
     "metadata": {},
     "output_type": "display_data"
    },
    {
     "name": "stdout",
     "output_type": "stream",
     "text": [
      "Applying swap to Boros Aggro/Beatdown: removing ['Hordeling Outburst', 'Guttersnipe'], adding ['Cartouche of Solidarity', 'Monastery Swiftspear']\n",
      "Initial Boros Aggro/Beatdown size: 13\n",
      "Moved Cartouche of Solidarity from White Tokens to Boros Aggro/Beatdown\n",
      "Moved Monastery Swiftspear from Red Small Creatures to Boros Aggro/Beatdown\n",
      "Card Hordeling Outburst not color-compatible with White Tokens, finding replacement...\n",
      "Added Elite Vanguard to White Tokens as replacement\n",
      "Removed incompatible Hordeling Outburst from Boros Aggro/Beatdown\n",
      "Moved Guttersnipe from Boros Aggro/Beatdown to Red Small Creatures\n",
      "Final Boros Aggro/Beatdown size: 13\n",
      "Swap completed successfully for Boros Aggro/Beatdown\n",
      "Coherence change: 10.49 → 11.29 (improvement: 0.80)\n",
      "✅ Improved Boros Aggro/Beatdown coherence from 10.5 to 11.3\n",
      "Optimizing specified deck: Dimir Control\n",
      "Coherence change: 10.49 → 11.29 (improvement: 0.80)\n",
      "✅ Improved Boros Aggro/Beatdown coherence from 10.5 to 11.3\n",
      "Optimizing specified deck: Dimir Control\n"
     ]
    },
    {
     "data": {
      "text/markdown": [
       "Analyzing deck: Dimir Control"
      ],
      "text/plain": [
       "<IPython.core.display.Markdown object>"
      ]
     },
     "metadata": {},
     "output_type": "display_data"
    },
    {
     "data": {
      "text/markdown": [
       "Current coherence: 11.4"
      ],
      "text/plain": [
       "<IPython.core.display.Markdown object>"
      ]
     },
     "metadata": {},
     "output_type": "display_data"
    },
    {
     "data": {
      "text/markdown": [
       "Expected themes: Control, Graveyard"
      ],
      "text/plain": [
       "<IPython.core.display.Markdown object>"
      ]
     },
     "metadata": {},
     "output_type": "display_data"
    },
    {
     "data": {
      "text/markdown": [
       "Deck colors: UB"
      ],
      "text/plain": [
       "<IPython.core.display.Markdown object>"
      ]
     },
     "metadata": {},
     "output_type": "display_data"
    },
    {
     "data": {
      "text/markdown": [
       "Composition: 5 creatures, 8 non-creatures, 3 non-basic lands (Valid: False)"
      ],
      "text/plain": [
       "<IPython.core.display.Markdown object>"
      ]
     },
     "metadata": {},
     "output_type": "display_data"
    },
    {
     "data": {
      "text/markdown": [
       "Found 132 candidate cards to consider"
      ],
      "text/plain": [
       "<IPython.core.display.Markdown object>"
      ]
     },
     "metadata": {},
     "output_type": "display_data"
    },
    {
     "data": {
      "text/markdown": [
       "Identified 13 cards as potential removal candidates"
      ],
      "text/plain": [
       "<IPython.core.display.Markdown object>"
      ]
     },
     "metadata": {},
     "output_type": "display_data"
    },
    {
     "data": {
      "text/markdown": [
       "# 🔄 Swap Recommendations for Dimir Control"
      ],
      "text/plain": [
       "<IPython.core.display.Markdown object>"
      ]
     },
     "metadata": {},
     "output_type": "display_data"
    },
    {
     "data": {
      "text/markdown": [
       "**Projected New Coherence:** 101.4/100 (+90.0)"
      ],
      "text/plain": [
       "<IPython.core.display.Markdown object>"
      ]
     },
     "metadata": {},
     "output_type": "display_data"
    },
    {
     "data": {
      "text/markdown": [
       "### Cards to Remove:"
      ],
      "text/plain": [
       "<IPython.core.display.Markdown object>"
      ]
     },
     "metadata": {},
     "output_type": "display_data"
    },
    {
     "data": {
      "text/markdown": [
       "- **Orzhov Basilica** (Theme Score: 1.0, CMC: 0.0)"
      ],
      "text/plain": [
       "<IPython.core.display.Markdown object>"
      ]
     },
     "metadata": {},
     "output_type": "display_data"
    },
    {
     "data": {
      "text/markdown": [
       "- **Dimir Guildmage** (Theme Score: 2.0, CMC: 2.0)"
      ],
      "text/plain": [
       "<IPython.core.display.Markdown object>"
      ]
     },
     "metadata": {},
     "output_type": "display_data"
    },
    {
     "data": {
      "text/markdown": [
       "### Cards to Add:"
      ],
      "text/plain": [
       "<IPython.core.display.Markdown object>"
      ]
     },
     "metadata": {},
     "output_type": "display_data"
    },
    {
     "data": {
      "text/markdown": [
       "- **Dread Return** (Theme Score: 11.0) - from Black Graveyard"
      ],
      "text/plain": [
       "<IPython.core.display.Markdown object>"
      ]
     },
     "metadata": {},
     "output_type": "display_data"
    },
    {
     "data": {
      "text/markdown": [
       "- **Unearth** (Theme Score: 10.0) - from Black Graveyard"
      ],
      "text/plain": [
       "<IPython.core.display.Markdown object>"
      ]
     },
     "metadata": {},
     "output_type": "display_data"
    },
    {
     "name": "stdout",
     "output_type": "stream",
     "text": [
      "Applying swap to Dimir Control: removing ['Orzhov Basilica', 'Dimir Guildmage'], adding ['Dread Return', 'Unearth']\n",
      "Initial Dimir Control size: 13\n",
      "Moved Dread Return from Black Graveyard to Dimir Control\n",
      "Moved Unearth from Black Graveyard to Dimir Control\n",
      "Moved Orzhov Basilica from Dimir Control to Black Graveyard\n",
      "Card Dimir Guildmage not color-compatible with Black Graveyard, finding replacement...\n",
      "Added Mind Stone to Black Graveyard as replacement\n",
      "Removed incompatible Dimir Guildmage from Dimir Control\n",
      "Final Dimir Control size: 13\n",
      "Swap completed successfully for Dimir Control\n",
      "Coherence change: 11.40 → 12.02 (improvement: 0.62)\n",
      "✅ Improved Dimir Control coherence from 11.4 to 12.0\n",
      "Optimizing specified deck: Golgari Graveyard\n",
      "Optimizing specified deck: Golgari Graveyard\n"
     ]
    },
    {
     "data": {
      "text/markdown": [
       "Analyzing deck: Golgari Graveyard"
      ],
      "text/plain": [
       "<IPython.core.display.Markdown object>"
      ]
     },
     "metadata": {},
     "output_type": "display_data"
    },
    {
     "data": {
      "text/markdown": [
       "Current coherence: 11.9"
      ],
      "text/plain": [
       "<IPython.core.display.Markdown object>"
      ]
     },
     "metadata": {},
     "output_type": "display_data"
    },
    {
     "data": {
      "text/markdown": [
       "Expected themes: Sacrifice, Graveyard"
      ],
      "text/plain": [
       "<IPython.core.display.Markdown object>"
      ]
     },
     "metadata": {},
     "output_type": "display_data"
    },
    {
     "data": {
      "text/markdown": [
       "Deck colors: BG"
      ],
      "text/plain": [
       "<IPython.core.display.Markdown object>"
      ]
     },
     "metadata": {},
     "output_type": "display_data"
    },
    {
     "data": {
      "text/markdown": [
       "Composition: 8 creatures, 5 non-creatures, 2 non-basic lands (Valid: True)"
      ],
      "text/plain": [
       "<IPython.core.display.Markdown object>"
      ]
     },
     "metadata": {},
     "output_type": "display_data"
    },
    {
     "data": {
      "text/markdown": [
       "Found 140 candidate cards to consider"
      ],
      "text/plain": [
       "<IPython.core.display.Markdown object>"
      ]
     },
     "metadata": {},
     "output_type": "display_data"
    },
    {
     "data": {
      "text/markdown": [
       "Identified 13 cards as potential removal candidates"
      ],
      "text/plain": [
       "<IPython.core.display.Markdown object>"
      ]
     },
     "metadata": {},
     "output_type": "display_data"
    },
    {
     "data": {
      "text/markdown": [
       "# 🔄 Swap Recommendations for Golgari Graveyard"
      ],
      "text/plain": [
       "<IPython.core.display.Markdown object>"
      ]
     },
     "metadata": {},
     "output_type": "display_data"
    },
    {
     "data": {
      "text/markdown": [
       "**Projected New Coherence:** 71.9/100 (+60.0)"
      ],
      "text/plain": [
       "<IPython.core.display.Markdown object>"
      ]
     },
     "metadata": {},
     "output_type": "display_data"
    },
    {
     "data": {
      "text/markdown": [
       "### Cards to Remove:"
      ],
      "text/plain": [
       "<IPython.core.display.Markdown object>"
      ]
     },
     "metadata": {},
     "output_type": "display_data"
    },
    {
     "data": {
      "text/markdown": [
       "- **Night's Whisper** (Theme Score: 1.0, CMC: 2.0)"
      ],
      "text/plain": [
       "<IPython.core.display.Markdown object>"
      ]
     },
     "metadata": {},
     "output_type": "display_data"
    },
    {
     "data": {
      "text/markdown": [
       "- **Izzet Boilerworks** (Theme Score: 1.0, CMC: 0.0)"
      ],
      "text/plain": [
       "<IPython.core.display.Markdown object>"
      ]
     },
     "metadata": {},
     "output_type": "display_data"
    },
    {
     "data": {
      "text/markdown": [
       "### Cards to Add:"
      ],
      "text/plain": [
       "<IPython.core.display.Markdown object>"
      ]
     },
     "metadata": {},
     "output_type": "display_data"
    },
    {
     "data": {
      "text/markdown": [
       "- **Blood Fountain** (Theme Score: 8.0) - from Black Graveyard"
      ],
      "text/plain": [
       "<IPython.core.display.Markdown object>"
      ]
     },
     "metadata": {},
     "output_type": "display_data"
    },
    {
     "data": {
      "text/markdown": [
       "- **Carrier Thrall** (Theme Score: 6.0) - from Black Sacrifice"
      ],
      "text/plain": [
       "<IPython.core.display.Markdown object>"
      ]
     },
     "metadata": {},
     "output_type": "display_data"
    },
    {
     "name": "stdout",
     "output_type": "stream",
     "text": [
      "Applying swap to Golgari Graveyard: removing [\"Night's Whisper\", 'Izzet Boilerworks'], adding ['Blood Fountain', 'Carrier Thrall']\n",
      "Initial Golgari Graveyard size: 13\n",
      "Moved Blood Fountain from Black Graveyard to Golgari Graveyard\n",
      "Moved Carrier Thrall from Black Sacrifice to Golgari Graveyard\n",
      "Moved Night's Whisper from Golgari Graveyard to Black Graveyard\n",
      "Moved Izzet Boilerworks from Golgari Graveyard to Black Sacrifice\n",
      "Final Golgari Graveyard size: 13\n",
      "Swap completed successfully for Golgari Graveyard\n",
      "Coherence change: 11.90 → 12.44 (improvement: 0.54)\n",
      "✅ Improved Golgari Graveyard coherence from 11.9 to 12.4\n",
      "Coherence change: 11.90 → 12.44 (improvement: 0.54)\n",
      "✅ Improved Golgari Graveyard coherence from 11.9 to 12.4\n",
      "Optimizing specified deck: Green Big Creatures\n",
      "Optimizing specified deck: Green Big Creatures\n"
     ]
    },
    {
     "data": {
      "text/markdown": [
       "Analyzing deck: Green Big Creatures"
      ],
      "text/plain": [
       "<IPython.core.display.Markdown object>"
      ]
     },
     "metadata": {},
     "output_type": "display_data"
    },
    {
     "data": {
      "text/markdown": [
       "Current coherence: 5.2"
      ],
      "text/plain": [
       "<IPython.core.display.Markdown object>"
      ]
     },
     "metadata": {},
     "output_type": "display_data"
    },
    {
     "data": {
      "text/markdown": [
       "Expected themes: Big Creatures"
      ],
      "text/plain": [
       "<IPython.core.display.Markdown object>"
      ]
     },
     "metadata": {},
     "output_type": "display_data"
    },
    {
     "data": {
      "text/markdown": [
       "Deck colors: G"
      ],
      "text/plain": [
       "<IPython.core.display.Markdown object>"
      ]
     },
     "metadata": {},
     "output_type": "display_data"
    },
    {
     "data": {
      "text/markdown": [
       "Composition: 10 creatures, 3 non-creatures, 0 non-basic lands (Valid: False)"
      ],
      "text/plain": [
       "<IPython.core.display.Markdown object>"
      ]
     },
     "metadata": {},
     "output_type": "display_data"
    },
    {
     "data": {
      "text/markdown": [
       "Found 21 candidate cards to consider"
      ],
      "text/plain": [
       "<IPython.core.display.Markdown object>"
      ]
     },
     "metadata": {},
     "output_type": "display_data"
    },
    {
     "data": {
      "text/markdown": [
       "Identified 13 cards as potential removal candidates"
      ],
      "text/plain": [
       "<IPython.core.display.Markdown object>"
      ]
     },
     "metadata": {},
     "output_type": "display_data"
    },
    {
     "data": {
      "text/markdown": [
       "# 🔄 Swap Recommendations for Green Big Creatures"
      ],
      "text/plain": [
       "<IPython.core.display.Markdown object>"
      ]
     },
     "metadata": {},
     "output_type": "display_data"
    },
    {
     "data": {
      "text/markdown": [
       "**Projected New Coherence:** 25.2/100 (+20.0)"
      ],
      "text/plain": [
       "<IPython.core.display.Markdown object>"
      ]
     },
     "metadata": {},
     "output_type": "display_data"
    },
    {
     "data": {
      "text/markdown": [
       "### Cards to Remove:"
      ],
      "text/plain": [
       "<IPython.core.display.Markdown object>"
      ]
     },
     "metadata": {},
     "output_type": "display_data"
    },
    {
     "data": {
      "text/markdown": [
       "- **Krosan Tusker** (Theme Score: 0.0, CMC: 7.0)"
      ],
      "text/plain": [
       "<IPython.core.display.Markdown object>"
      ]
     },
     "metadata": {},
     "output_type": "display_data"
    },
    {
     "data": {
      "text/markdown": [
       "- **Annoyed Altisaur** (Theme Score: 0.0, CMC: 7.0)"
      ],
      "text/plain": [
       "<IPython.core.display.Markdown object>"
      ]
     },
     "metadata": {},
     "output_type": "display_data"
    },
    {
     "data": {
      "text/markdown": [
       "### Cards to Add:"
      ],
      "text/plain": [
       "<IPython.core.display.Markdown object>"
      ]
     },
     "metadata": {},
     "output_type": "display_data"
    },
    {
     "data": {
      "text/markdown": [
       "- **Bonder's Ornament** (Theme Score: 2.0) - from oracle pool"
      ],
      "text/plain": [
       "<IPython.core.display.Markdown object>"
      ]
     },
     "metadata": {},
     "output_type": "display_data"
    },
    {
     "data": {
      "text/markdown": [
       "- **Pristine Talisman** (Theme Score: 2.0) - from oracle pool"
      ],
      "text/plain": [
       "<IPython.core.display.Markdown object>"
      ]
     },
     "metadata": {},
     "output_type": "display_data"
    },
    {
     "name": "stdout",
     "output_type": "stream",
     "text": [
      "Applying swap to Green Big Creatures: removing ['Krosan Tusker', 'Annoyed Altisaur'], adding [\"Bonder's Ornament\", 'Pristine Talisman']\n",
      "Initial Green Big Creatures size: 13\n",
      "Added Bonder's Ornament from oracle to Green Big Creatures\n",
      "Added Pristine Talisman from oracle to Green Big Creatures\n",
      "Removed Krosan Tusker from Green Big Creatures (replaced by oracle card)\n",
      "Removed Annoyed Altisaur from Green Big Creatures (replaced by oracle card)\n",
      "Final Green Big Creatures size: 13\n",
      "Swap completed successfully for Green Big Creatures\n",
      "Coherence change: 5.15 → 4.79 (improvement: -0.36)\n",
      "❌ No improvement achieved\n",
      "Optimizing specified deck: Green Midrange\n",
      "Optimizing specified deck: Green Midrange\n"
     ]
    },
    {
     "data": {
      "text/markdown": [
       "Analyzing deck: Green Midrange"
      ],
      "text/plain": [
       "<IPython.core.display.Markdown object>"
      ]
     },
     "metadata": {},
     "output_type": "display_data"
    },
    {
     "data": {
      "text/markdown": [
       "Current coherence: 12.7"
      ],
      "text/plain": [
       "<IPython.core.display.Markdown object>"
      ]
     },
     "metadata": {},
     "output_type": "display_data"
    },
    {
     "data": {
      "text/markdown": [
       "Expected themes: Midrange"
      ],
      "text/plain": [
       "<IPython.core.display.Markdown object>"
      ]
     },
     "metadata": {},
     "output_type": "display_data"
    },
    {
     "data": {
      "text/markdown": [
       "Deck colors: G"
      ],
      "text/plain": [
       "<IPython.core.display.Markdown object>"
      ]
     },
     "metadata": {},
     "output_type": "display_data"
    },
    {
     "data": {
      "text/markdown": [
       "Composition: 9 creatures, 4 non-creatures, 1 non-basic lands (Valid: True)"
      ],
      "text/plain": [
       "<IPython.core.display.Markdown object>"
      ]
     },
     "metadata": {},
     "output_type": "display_data"
    },
    {
     "data": {
      "text/markdown": [
       "Found 73 candidate cards to consider"
      ],
      "text/plain": [
       "<IPython.core.display.Markdown object>"
      ]
     },
     "metadata": {},
     "output_type": "display_data"
    },
    {
     "data": {
      "text/markdown": [
       "Identified 13 cards as potential removal candidates"
      ],
      "text/plain": [
       "<IPython.core.display.Markdown object>"
      ]
     },
     "metadata": {},
     "output_type": "display_data"
    },
    {
     "data": {
      "text/markdown": [
       "# 🔄 Swap Recommendations for Green Midrange"
      ],
      "text/plain": [
       "<IPython.core.display.Markdown object>"
      ]
     },
     "metadata": {},
     "output_type": "display_data"
    },
    {
     "data": {
      "text/markdown": [
       "**Projected New Coherence:** 67.7/100 (+55.0)"
      ],
      "text/plain": [
       "<IPython.core.display.Markdown object>"
      ]
     },
     "metadata": {},
     "output_type": "display_data"
    },
    {
     "data": {
      "text/markdown": [
       "### Cards to Remove:"
      ],
      "text/plain": [
       "<IPython.core.display.Markdown object>"
      ]
     },
     "metadata": {},
     "output_type": "display_data"
    },
    {
     "data": {
      "text/markdown": [
       "- **Radiant Grove** (Theme Score: 2.0, CMC: 0.0)"
      ],
      "text/plain": [
       "<IPython.core.display.Markdown object>"
      ]
     },
     "metadata": {},
     "output_type": "display_data"
    },
    {
     "data": {
      "text/markdown": [
       "- **Nature's Lore** (Theme Score: 2.0, CMC: 2.0)"
      ],
      "text/plain": [
       "<IPython.core.display.Markdown object>"
      ]
     },
     "metadata": {},
     "output_type": "display_data"
    },
    {
     "data": {
      "text/markdown": [
       "### Cards to Add:"
      ],
      "text/plain": [
       "<IPython.core.display.Markdown object>"
      ]
     },
     "metadata": {},
     "output_type": "display_data"
    },
    {
     "data": {
      "text/markdown": [
       "- **Experiment One** (Theme Score: 8.0) - from Selesnya Control"
      ],
      "text/plain": [
       "<IPython.core.display.Markdown object>"
      ]
     },
     "metadata": {},
     "output_type": "display_data"
    },
    {
     "data": {
      "text/markdown": [
       "- **Owlbear** (Theme Score: 7.0) - from Gruul Aggro/Beatdown"
      ],
      "text/plain": [
       "<IPython.core.display.Markdown object>"
      ]
     },
     "metadata": {},
     "output_type": "display_data"
    },
    {
     "name": "stdout",
     "output_type": "stream",
     "text": [
      "Applying swap to Green Midrange: removing ['Radiant Grove', \"Nature's Lore\"], adding ['Experiment One', 'Owlbear']\n",
      "Initial Green Midrange size: 13\n",
      "Moved Experiment One from Selesnya Control to Green Midrange\n",
      "Moved Owlbear from Gruul Aggro/Beatdown to Green Midrange\n",
      "Moved Radiant Grove from Green Midrange to Selesnya Control\n",
      "Moved Nature's Lore from Green Midrange to Gruul Aggro/Beatdown\n",
      "Final Green Midrange size: 13\n",
      "Swap completed successfully for Green Midrange\n",
      "Coherence change: 12.71 → 13.21 (improvement: 0.50)\n",
      "✅ Improved Green Midrange coherence from 12.7 to 13.2\n",
      "Optimizing specified deck: Green Ramp\n",
      "Coherence change: 12.71 → 13.21 (improvement: 0.50)\n",
      "✅ Improved Green Midrange coherence from 12.7 to 13.2\n",
      "Optimizing specified deck: Green Ramp\n"
     ]
    },
    {
     "data": {
      "text/markdown": [
       "Analyzing deck: Green Ramp"
      ],
      "text/plain": [
       "<IPython.core.display.Markdown object>"
      ]
     },
     "metadata": {},
     "output_type": "display_data"
    },
    {
     "data": {
      "text/markdown": [
       "Current coherence: 12.0"
      ],
      "text/plain": [
       "<IPython.core.display.Markdown object>"
      ]
     },
     "metadata": {},
     "output_type": "display_data"
    },
    {
     "data": {
      "text/markdown": [
       "Expected themes: Ramp"
      ],
      "text/plain": [
       "<IPython.core.display.Markdown object>"
      ]
     },
     "metadata": {},
     "output_type": "display_data"
    },
    {
     "data": {
      "text/markdown": [
       "Deck colors: G"
      ],
      "text/plain": [
       "<IPython.core.display.Markdown object>"
      ]
     },
     "metadata": {},
     "output_type": "display_data"
    },
    {
     "data": {
      "text/markdown": [
       "Composition: 6 creatures, 7 non-creatures, 1 non-basic lands (Valid: True)"
      ],
      "text/plain": [
       "<IPython.core.display.Markdown object>"
      ]
     },
     "metadata": {},
     "output_type": "display_data"
    },
    {
     "data": {
      "text/markdown": [
       "Found 51 candidate cards to consider"
      ],
      "text/plain": [
       "<IPython.core.display.Markdown object>"
      ]
     },
     "metadata": {},
     "output_type": "display_data"
    },
    {
     "data": {
      "text/markdown": [
       "Identified 13 cards as potential removal candidates"
      ],
      "text/plain": [
       "<IPython.core.display.Markdown object>"
      ]
     },
     "metadata": {},
     "output_type": "display_data"
    },
    {
     "data": {
      "text/markdown": [
       "# 🔄 Swap Recommendations for Green Ramp"
      ],
      "text/plain": [
       "<IPython.core.display.Markdown object>"
      ]
     },
     "metadata": {},
     "output_type": "display_data"
    },
    {
     "data": {
      "text/markdown": [
       "**Projected New Coherence:** 107.0/100 (+95.0)"
      ],
      "text/plain": [
       "<IPython.core.display.Markdown object>"
      ]
     },
     "metadata": {},
     "output_type": "display_data"
    },
    {
     "data": {
      "text/markdown": [
       "### Cards to Remove:"
      ],
      "text/plain": [
       "<IPython.core.display.Markdown object>"
      ]
     },
     "metadata": {},
     "output_type": "display_data"
    },
    {
     "data": {
      "text/markdown": [
       "- **Wild Growth** (Theme Score: 1.0, CMC: 1.0)"
      ],
      "text/plain": [
       "<IPython.core.display.Markdown object>"
      ]
     },
     "metadata": {},
     "output_type": "display_data"
    },
    {
     "data": {
      "text/markdown": [
       "- **Horrific Assault** (Theme Score: 1.0, CMC: 1.0)"
      ],
      "text/plain": [
       "<IPython.core.display.Markdown object>"
      ]
     },
     "metadata": {},
     "output_type": "display_data"
    },
    {
     "data": {
      "text/markdown": [
       "### Cards to Add:"
      ],
      "text/plain": [
       "<IPython.core.display.Markdown object>"
      ]
     },
     "metadata": {},
     "output_type": "display_data"
    },
    {
     "data": {
      "text/markdown": [
       "- **Greater Tanuki** (Theme Score: 12.0) - from Simic Control"
      ],
      "text/plain": [
       "<IPython.core.display.Markdown object>"
      ]
     },
     "metadata": {},
     "output_type": "display_data"
    },
    {
     "data": {
      "text/markdown": [
       "- **Krosan Tusker** (Theme Score: 9.0) - from Green Big Creatures"
      ],
      "text/plain": [
       "<IPython.core.display.Markdown object>"
      ]
     },
     "metadata": {},
     "output_type": "display_data"
    },
    {
     "name": "stdout",
     "output_type": "stream",
     "text": [
      "Applying swap to Green Ramp: removing ['Wild Growth', 'Horrific Assault'], adding ['Greater Tanuki', 'Krosan Tusker']\n",
      "Initial Green Ramp size: 13\n",
      "Moved Greater Tanuki from Simic Control to Green Ramp\n",
      "Moved Krosan Tusker from Green Big Creatures to Green Ramp\n",
      "Moved Wild Growth from Green Ramp to Simic Control\n",
      "Moved Horrific Assault from Green Ramp to Green Big Creatures\n",
      "Final Green Ramp size: 13\n",
      "Swap completed successfully for Green Ramp\n",
      "Coherence change: 12.02 → 12.81 (improvement: 0.79)\n",
      "✅ Improved Green Ramp coherence from 12.0 to 12.8\n",
      "Coherence change: 12.02 → 12.81 (improvement: 0.79)\n",
      "✅ Improved Green Ramp coherence from 12.0 to 12.8\n",
      "Optimizing specified deck: Green Stompy\n",
      "Optimizing specified deck: Green Stompy\n"
     ]
    },
    {
     "data": {
      "text/markdown": [
       "Analyzing deck: Green Stompy"
      ],
      "text/plain": [
       "<IPython.core.display.Markdown object>"
      ]
     },
     "metadata": {},
     "output_type": "display_data"
    },
    {
     "data": {
      "text/markdown": [
       "Current coherence: 5.6"
      ],
      "text/plain": [
       "<IPython.core.display.Markdown object>"
      ]
     },
     "metadata": {},
     "output_type": "display_data"
    },
    {
     "data": {
      "text/markdown": [
       "Expected themes: Stompy"
      ],
      "text/plain": [
       "<IPython.core.display.Markdown object>"
      ]
     },
     "metadata": {},
     "output_type": "display_data"
    },
    {
     "data": {
      "text/markdown": [
       "Deck colors: G"
      ],
      "text/plain": [
       "<IPython.core.display.Markdown object>"
      ]
     },
     "metadata": {},
     "output_type": "display_data"
    },
    {
     "data": {
      "text/markdown": [
       "Composition: 7 creatures, 6 non-creatures, 0 non-basic lands (Valid: True)"
      ],
      "text/plain": [
       "<IPython.core.display.Markdown object>"
      ]
     },
     "metadata": {},
     "output_type": "display_data"
    },
    {
     "data": {
      "text/markdown": [
       "Found 42 candidate cards to consider"
      ],
      "text/plain": [
       "<IPython.core.display.Markdown object>"
      ]
     },
     "metadata": {},
     "output_type": "display_data"
    },
    {
     "data": {
      "text/markdown": [
       "Identified 13 cards as potential removal candidates"
      ],
      "text/plain": [
       "<IPython.core.display.Markdown object>"
      ]
     },
     "metadata": {},
     "output_type": "display_data"
    },
    {
     "data": {
      "text/markdown": [
       "# 🔄 Swap Recommendations for Green Stompy"
      ],
      "text/plain": [
       "<IPython.core.display.Markdown object>"
      ]
     },
     "metadata": {},
     "output_type": "display_data"
    },
    {
     "data": {
      "text/markdown": [
       "**Projected New Coherence:** 40.6/100 (+35.0)"
      ],
      "text/plain": [
       "<IPython.core.display.Markdown object>"
      ]
     },
     "metadata": {},
     "output_type": "display_data"
    },
    {
     "data": {
      "text/markdown": [
       "### Cards to Remove:"
      ],
      "text/plain": [
       "<IPython.core.display.Markdown object>"
      ]
     },
     "metadata": {},
     "output_type": "display_data"
    },
    {
     "data": {
      "text/markdown": [
       "- **Llanowar Elves** (Theme Score: 1.0, CMC: 1.0)"
      ],
      "text/plain": [
       "<IPython.core.display.Markdown object>"
      ]
     },
     "metadata": {},
     "output_type": "display_data"
    },
    {
     "data": {
      "text/markdown": [
       "- **Yavimaya Elder** (Theme Score: 1.0, CMC: 3.0)"
      ],
      "text/plain": [
       "<IPython.core.display.Markdown object>"
      ]
     },
     "metadata": {},
     "output_type": "display_data"
    },
    {
     "data": {
      "text/markdown": [
       "### Cards to Add:"
      ],
      "text/plain": [
       "<IPython.core.display.Markdown object>"
      ]
     },
     "metadata": {},
     "output_type": "display_data"
    },
    {
     "data": {
      "text/markdown": [
       "- **Bannerhide Krushok** (Theme Score: 5.0) - from Green Big Creatures"
      ],
      "text/plain": [
       "<IPython.core.display.Markdown object>"
      ]
     },
     "metadata": {},
     "output_type": "display_data"
    },
    {
     "data": {
      "text/markdown": [
       "- **Nyxborn Hydra** (Theme Score: 4.0) - from oracle pool"
      ],
      "text/plain": [
       "<IPython.core.display.Markdown object>"
      ]
     },
     "metadata": {},
     "output_type": "display_data"
    },
    {
     "name": "stdout",
     "output_type": "stream",
     "text": [
      "Applying swap to Green Stompy: removing ['Llanowar Elves', 'Yavimaya Elder'], adding ['Bannerhide Krushok', 'Nyxborn Hydra']\n",
      "Initial Green Stompy size: 13\n",
      "Moved Bannerhide Krushok from Green Big Creatures to Green Stompy\n",
      "Added Nyxborn Hydra from oracle to Green Stompy\n",
      "Moved Llanowar Elves from Green Stompy to Green Big Creatures\n",
      "Removed Yavimaya Elder from Green Stompy (replaced by oracle card)\n",
      "Final Green Stompy size: 13\n",
      "Swap completed successfully for Green Stompy\n",
      "Coherence change: 5.60 → 9.76 (improvement: 4.16)\n",
      "✅ Improved Green Stompy coherence from 5.6 to 9.8\n",
      "Optimizing specified deck: Gruul Aggro/Beatdown\n"
     ]
    },
    {
     "data": {
      "text/markdown": [
       "Analyzing deck: Gruul Aggro/Beatdown"
      ],
      "text/plain": [
       "<IPython.core.display.Markdown object>"
      ]
     },
     "metadata": {},
     "output_type": "display_data"
    },
    {
     "data": {
      "text/markdown": [
       "Current coherence: 6.4"
      ],
      "text/plain": [
       "<IPython.core.display.Markdown object>"
      ]
     },
     "metadata": {},
     "output_type": "display_data"
    },
    {
     "data": {
      "text/markdown": [
       "Expected themes: Aggro, Beatdown, Big Creatures"
      ],
      "text/plain": [
       "<IPython.core.display.Markdown object>"
      ]
     },
     "metadata": {},
     "output_type": "display_data"
    },
    {
     "data": {
      "text/markdown": [
       "Deck colors: RG"
      ],
      "text/plain": [
       "<IPython.core.display.Markdown object>"
      ]
     },
     "metadata": {},
     "output_type": "display_data"
    },
    {
     "data": {
      "text/markdown": [
       "Composition: 7 creatures, 6 non-creatures, 0 non-basic lands (Valid: True)"
      ],
      "text/plain": [
       "<IPython.core.display.Markdown object>"
      ]
     },
     "metadata": {},
     "output_type": "display_data"
    },
    {
     "data": {
      "text/markdown": [
       "Found 136 candidate cards to consider"
      ],
      "text/plain": [
       "<IPython.core.display.Markdown object>"
      ]
     },
     "metadata": {},
     "output_type": "display_data"
    },
    {
     "data": {
      "text/markdown": [
       "Identified 13 cards as potential removal candidates"
      ],
      "text/plain": [
       "<IPython.core.display.Markdown object>"
      ]
     },
     "metadata": {},
     "output_type": "display_data"
    },
    {
     "data": {
      "text/markdown": [
       "# 🔄 Swap Recommendations for Gruul Aggro/Beatdown"
      ],
      "text/plain": [
       "<IPython.core.display.Markdown object>"
      ]
     },
     "metadata": {},
     "output_type": "display_data"
    },
    {
     "data": {
      "text/markdown": [
       "**Projected New Coherence:** 116.4/100 (+110.0)"
      ],
      "text/plain": [
       "<IPython.core.display.Markdown object>"
      ]
     },
     "metadata": {},
     "output_type": "display_data"
    },
    {
     "data": {
      "text/markdown": [
       "### Cards to Remove:"
      ],
      "text/plain": [
       "<IPython.core.display.Markdown object>"
      ]
     },
     "metadata": {},
     "output_type": "display_data"
    },
    {
     "data": {
      "text/markdown": [
       "- **Nature's Lore** (Theme Score: 1.0, CMC: 2.0)"
      ],
      "text/plain": [
       "<IPython.core.display.Markdown object>"
      ]
     },
     "metadata": {},
     "output_type": "display_data"
    },
    {
     "data": {
      "text/markdown": [
       "- **Blastoderm** (Theme Score: 2.0, CMC: 4.0)"
      ],
      "text/plain": [
       "<IPython.core.display.Markdown object>"
      ]
     },
     "metadata": {},
     "output_type": "display_data"
    },
    {
     "data": {
      "text/markdown": [
       "### Cards to Add:"
      ],
      "text/plain": [
       "<IPython.core.display.Markdown object>"
      ]
     },
     "metadata": {},
     "output_type": "display_data"
    },
    {
     "data": {
      "text/markdown": [
       "- **Mayhem Patrol** (Theme Score: 13.0) - from Red Small Creatures"
      ],
      "text/plain": [
       "<IPython.core.display.Markdown object>"
      ]
     },
     "metadata": {},
     "output_type": "display_data"
    },
    {
     "data": {
      "text/markdown": [
       "- **Monastery Swiftspear** (Theme Score: 12.0) - from Boros Aggro/Beatdown"
      ],
      "text/plain": [
       "<IPython.core.display.Markdown object>"
      ]
     },
     "metadata": {},
     "output_type": "display_data"
    },
    {
     "name": "stdout",
     "output_type": "stream",
     "text": [
      "Applying swap to Gruul Aggro/Beatdown: removing [\"Nature's Lore\", 'Blastoderm'], adding ['Mayhem Patrol', 'Monastery Swiftspear']\n",
      "Initial Gruul Aggro/Beatdown size: 13\n",
      "Moved Mayhem Patrol from Red Small Creatures to Gruul Aggro/Beatdown\n",
      "Moved Monastery Swiftspear from Boros Aggro/Beatdown to Gruul Aggro/Beatdown\n",
      "Card Nature's Lore not color-compatible with Red Small Creatures, finding replacement...\n",
      "Added Goblin Surprise to Red Small Creatures as replacement\n",
      "Removed incompatible Nature's Lore from Gruul Aggro/Beatdown\n",
      "Card Blastoderm not color-compatible with Boros Aggro/Beatdown, finding replacement...\n",
      "Added Porcelain Legionnaire to Boros Aggro/Beatdown as replacement\n",
      "Removed incompatible Blastoderm from Gruul Aggro/Beatdown\n",
      "Final Gruul Aggro/Beatdown size: 13\n",
      "Swap completed successfully for Gruul Aggro/Beatdown\n",
      "Coherence change: 6.42 → 8.46 (improvement: 2.04)\n",
      "✅ Improved Gruul Aggro/Beatdown coherence from 6.4 to 8.5\n",
      "Optimizing specified deck: Izzet Control\n",
      "Coherence change: 6.42 → 8.46 (improvement: 2.04)\n",
      "✅ Improved Gruul Aggro/Beatdown coherence from 6.4 to 8.5\n",
      "Optimizing specified deck: Izzet Control\n"
     ]
    },
    {
     "data": {
      "text/markdown": [
       "Analyzing deck: Izzet Control"
      ],
      "text/plain": [
       "<IPython.core.display.Markdown object>"
      ]
     },
     "metadata": {},
     "output_type": "display_data"
    },
    {
     "data": {
      "text/markdown": [
       "Current coherence: 12.0"
      ],
      "text/plain": [
       "<IPython.core.display.Markdown object>"
      ]
     },
     "metadata": {},
     "output_type": "display_data"
    },
    {
     "data": {
      "text/markdown": [
       "Expected themes: Control, Burn"
      ],
      "text/plain": [
       "<IPython.core.display.Markdown object>"
      ]
     },
     "metadata": {},
     "output_type": "display_data"
    },
    {
     "data": {
      "text/markdown": [
       "Deck colors: UR"
      ],
      "text/plain": [
       "<IPython.core.display.Markdown object>"
      ]
     },
     "metadata": {},
     "output_type": "display_data"
    },
    {
     "data": {
      "text/markdown": [
       "Composition: 8 creatures, 5 non-creatures, 1 non-basic lands (Valid: True)"
      ],
      "text/plain": [
       "<IPython.core.display.Markdown object>"
      ]
     },
     "metadata": {},
     "output_type": "display_data"
    },
    {
     "data": {
      "text/markdown": [
       "Found 137 candidate cards to consider"
      ],
      "text/plain": [
       "<IPython.core.display.Markdown object>"
      ]
     },
     "metadata": {},
     "output_type": "display_data"
    },
    {
     "data": {
      "text/markdown": [
       "Identified 13 cards as potential removal candidates"
      ],
      "text/plain": [
       "<IPython.core.display.Markdown object>"
      ]
     },
     "metadata": {},
     "output_type": "display_data"
    },
    {
     "data": {
      "text/markdown": [
       "# 🔄 Swap Recommendations for Izzet Control"
      ],
      "text/plain": [
       "<IPython.core.display.Markdown object>"
      ]
     },
     "metadata": {},
     "output_type": "display_data"
    },
    {
     "data": {
      "text/markdown": [
       "**Projected New Coherence:** 102.0/100 (+90.0)"
      ],
      "text/plain": [
       "<IPython.core.display.Markdown object>"
      ]
     },
     "metadata": {},
     "output_type": "display_data"
    },
    {
     "data": {
      "text/markdown": [
       "### Cards to Remove:"
      ],
      "text/plain": [
       "<IPython.core.display.Markdown object>"
      ]
     },
     "metadata": {},
     "output_type": "display_data"
    },
    {
     "data": {
      "text/markdown": [
       "- **Volatile Wanderglyph** (Theme Score: 2.0, CMC: 2.0)"
      ],
      "text/plain": [
       "<IPython.core.display.Markdown object>"
      ]
     },
     "metadata": {},
     "output_type": "display_data"
    },
    {
     "data": {
      "text/markdown": [
       "- **Goblin Electromancer** (Theme Score: 2.0, CMC: 2.0)"
      ],
      "text/plain": [
       "<IPython.core.display.Markdown object>"
      ]
     },
     "metadata": {},
     "output_type": "display_data"
    },
    {
     "data": {
      "text/markdown": [
       "### Cards to Add:"
      ],
      "text/plain": [
       "<IPython.core.display.Markdown object>"
      ]
     },
     "metadata": {},
     "output_type": "display_data"
    },
    {
     "data": {
      "text/markdown": [
       "- **Sulfurous Blast** (Theme Score: 11.0) - from Red Aggro"
      ],
      "text/plain": [
       "<IPython.core.display.Markdown object>"
      ]
     },
     "metadata": {},
     "output_type": "display_data"
    },
    {
     "data": {
      "text/markdown": [
       "- **Firebolt** (Theme Score: 11.0) - from Red Burn"
      ],
      "text/plain": [
       "<IPython.core.display.Markdown object>"
      ]
     },
     "metadata": {},
     "output_type": "display_data"
    },
    {
     "name": "stdout",
     "output_type": "stream",
     "text": [
      "Applying swap to Izzet Control: removing ['Volatile Wanderglyph', 'Goblin Electromancer'], adding ['Sulfurous Blast', 'Firebolt']\n",
      "Initial Izzet Control size: 13\n",
      "Moved Sulfurous Blast from Red Aggro to Izzet Control\n",
      "Moved Firebolt from Red Burn to Izzet Control\n",
      "Moved Volatile Wanderglyph from Izzet Control to Red Aggro\n",
      "Card Goblin Electromancer not color-compatible with Red Burn, finding replacement...\n",
      "Added Bonder's Ornament to Red Burn as replacement\n",
      "Removed incompatible Goblin Electromancer from Izzet Control\n",
      "Final Izzet Control size: 13\n",
      "Swap completed successfully for Izzet Control\n",
      "Coherence change: 11.98 → 12.33 (improvement: 0.34)\n",
      "✅ Improved Izzet Control coherence from 12.0 to 12.3\n",
      "Optimizing specified deck: Orzhov Control\n",
      "Optimizing specified deck: Orzhov Control\n"
     ]
    },
    {
     "data": {
      "text/markdown": [
       "Analyzing deck: Orzhov Control"
      ],
      "text/plain": [
       "<IPython.core.display.Markdown object>"
      ]
     },
     "metadata": {},
     "output_type": "display_data"
    },
    {
     "data": {
      "text/markdown": [
       "Current coherence: 7.3"
      ],
      "text/plain": [
       "<IPython.core.display.Markdown object>"
      ]
     },
     "metadata": {},
     "output_type": "display_data"
    },
    {
     "data": {
      "text/markdown": [
       "Expected themes: Control, Sacrifice"
      ],
      "text/plain": [
       "<IPython.core.display.Markdown object>"
      ]
     },
     "metadata": {},
     "output_type": "display_data"
    },
    {
     "data": {
      "text/markdown": [
       "Deck colors: WB"
      ],
      "text/plain": [
       "<IPython.core.display.Markdown object>"
      ]
     },
     "metadata": {},
     "output_type": "display_data"
    },
    {
     "data": {
      "text/markdown": [
       "Composition: 6 creatures, 7 non-creatures, 1 non-basic lands (Valid: True)"
      ],
      "text/plain": [
       "<IPython.core.display.Markdown object>"
      ]
     },
     "metadata": {},
     "output_type": "display_data"
    },
    {
     "data": {
      "text/markdown": [
       "Found 148 candidate cards to consider"
      ],
      "text/plain": [
       "<IPython.core.display.Markdown object>"
      ]
     },
     "metadata": {},
     "output_type": "display_data"
    },
    {
     "data": {
      "text/markdown": [
       "Identified 13 cards as potential removal candidates"
      ],
      "text/plain": [
       "<IPython.core.display.Markdown object>"
      ]
     },
     "metadata": {},
     "output_type": "display_data"
    },
    {
     "data": {
      "text/markdown": [
       "# 🔄 Swap Recommendations for Orzhov Control"
      ],
      "text/plain": [
       "<IPython.core.display.Markdown object>"
      ]
     },
     "metadata": {},
     "output_type": "display_data"
    },
    {
     "data": {
      "text/markdown": [
       "**Projected New Coherence:** 77.3/100 (+70.0)"
      ],
      "text/plain": [
       "<IPython.core.display.Markdown object>"
      ]
     },
     "metadata": {},
     "output_type": "display_data"
    },
    {
     "data": {
      "text/markdown": [
       "### Cards to Remove:"
      ],
      "text/plain": [
       "<IPython.core.display.Markdown object>"
      ]
     },
     "metadata": {},
     "output_type": "display_data"
    },
    {
     "data": {
      "text/markdown": [
       "- **Guardian of the Guildpact** (Theme Score: 2.0, CMC: 4.0)"
      ],
      "text/plain": [
       "<IPython.core.display.Markdown object>"
      ]
     },
     "metadata": {},
     "output_type": "display_data"
    },
    {
     "data": {
      "text/markdown": [
       "- **Kingpin's Pet** (Theme Score: 2.0, CMC: 3.0)"
      ],
      "text/plain": [
       "<IPython.core.display.Markdown object>"
      ]
     },
     "metadata": {},
     "output_type": "display_data"
    },
    {
     "data": {
      "text/markdown": [
       "### Cards to Add:"
      ],
      "text/plain": [
       "<IPython.core.display.Markdown object>"
      ]
     },
     "metadata": {},
     "output_type": "display_data"
    },
    {
     "data": {
      "text/markdown": [
       "- **Blood Fountain** (Theme Score: 9.0) - from Golgari Graveyard"
      ],
      "text/plain": [
       "<IPython.core.display.Markdown object>"
      ]
     },
     "metadata": {},
     "output_type": "display_data"
    },
    {
     "data": {
      "text/markdown": [
       "- **Dread Return** (Theme Score: 9.0) - from Dimir Control"
      ],
      "text/plain": [
       "<IPython.core.display.Markdown object>"
      ]
     },
     "metadata": {},
     "output_type": "display_data"
    },
    {
     "name": "stdout",
     "output_type": "stream",
     "text": [
      "Skipping swap for Orzhov Control - would reverse a recent swap (preventing oscillation)\n",
      "Optimizing specified deck: Rakdos Burn/Damage\n"
     ]
    },
    {
     "data": {
      "text/markdown": [
       "Analyzing deck: Rakdos Burn/Damage"
      ],
      "text/plain": [
       "<IPython.core.display.Markdown object>"
      ]
     },
     "metadata": {},
     "output_type": "display_data"
    },
    {
     "data": {
      "text/markdown": [
       "Current coherence: 12.6"
      ],
      "text/plain": [
       "<IPython.core.display.Markdown object>"
      ]
     },
     "metadata": {},
     "output_type": "display_data"
    },
    {
     "data": {
      "text/markdown": [
       "Expected themes: Aggro, Burn, Sacrifice"
      ],
      "text/plain": [
       "<IPython.core.display.Markdown object>"
      ]
     },
     "metadata": {},
     "output_type": "display_data"
    },
    {
     "data": {
      "text/markdown": [
       "Deck colors: BR"
      ],
      "text/plain": [
       "<IPython.core.display.Markdown object>"
      ]
     },
     "metadata": {},
     "output_type": "display_data"
    },
    {
     "data": {
      "text/markdown": [
       "Composition: 7 creatures, 6 non-creatures, 3 non-basic lands (Valid: False)"
      ],
      "text/plain": [
       "<IPython.core.display.Markdown object>"
      ]
     },
     "metadata": {},
     "output_type": "display_data"
    },
    {
     "data": {
      "text/markdown": [
       "Found 145 candidate cards to consider"
      ],
      "text/plain": [
       "<IPython.core.display.Markdown object>"
      ]
     },
     "metadata": {},
     "output_type": "display_data"
    },
    {
     "data": {
      "text/markdown": [
       "Identified 13 cards as potential removal candidates"
      ],
      "text/plain": [
       "<IPython.core.display.Markdown object>"
      ]
     },
     "metadata": {},
     "output_type": "display_data"
    },
    {
     "data": {
      "text/markdown": [
       "# 🔄 Swap Recommendations for Rakdos Burn/Damage"
      ],
      "text/plain": [
       "<IPython.core.display.Markdown object>"
      ]
     },
     "metadata": {},
     "output_type": "display_data"
    },
    {
     "data": {
      "text/markdown": [
       "**Projected New Coherence:** 147.6/100 (+135.0)"
      ],
      "text/plain": [
       "<IPython.core.display.Markdown object>"
      ]
     },
     "metadata": {},
     "output_type": "display_data"
    },
    {
     "data": {
      "text/markdown": [
       "### Cards to Remove:"
      ],
      "text/plain": [
       "<IPython.core.display.Markdown object>"
      ]
     },
     "metadata": {},
     "output_type": "display_data"
    },
    {
     "data": {
      "text/markdown": [
       "- **Rakdos Carnarium** (Theme Score: 1.0, CMC: 0.0)"
      ],
      "text/plain": [
       "<IPython.core.display.Markdown object>"
      ]
     },
     "metadata": {},
     "output_type": "display_data"
    },
    {
     "data": {
      "text/markdown": [
       "- **Cast Down** (Theme Score: 3.0, CMC: 2.0)"
      ],
      "text/plain": [
       "<IPython.core.display.Markdown object>"
      ]
     },
     "metadata": {},
     "output_type": "display_data"
    },
    {
     "data": {
      "text/markdown": [
       "### Cards to Add:"
      ],
      "text/plain": [
       "<IPython.core.display.Markdown object>"
      ]
     },
     "metadata": {},
     "output_type": "display_data"
    },
    {
     "data": {
      "text/markdown": [
       "- **Mayhem Patrol** (Theme Score: 16.0) - from Gruul Aggro/Beatdown"
      ],
      "text/plain": [
       "<IPython.core.display.Markdown object>"
      ]
     },
     "metadata": {},
     "output_type": "display_data"
    },
    {
     "data": {
      "text/markdown": [
       "- **Fanatical Firebrand** (Theme Score: 15.0) - from Red Burn"
      ],
      "text/plain": [
       "<IPython.core.display.Markdown object>"
      ]
     },
     "metadata": {},
     "output_type": "display_data"
    },
    {
     "name": "stdout",
     "output_type": "stream",
     "text": [
      "Applying swap to Rakdos Burn/Damage: removing ['Rakdos Carnarium', 'Cast Down'], adding ['Mayhem Patrol', 'Fanatical Firebrand']\n",
      "Initial Rakdos Burn/Damage size: 13\n",
      "Moved Mayhem Patrol from Gruul Aggro/Beatdown to Rakdos Burn/Damage\n",
      "Moved Fanatical Firebrand from Red Burn to Rakdos Burn/Damage\n",
      "Moved Rakdos Carnarium from Rakdos Burn/Damage to Gruul Aggro/Beatdown\n",
      "Card Cast Down not color-compatible with Red Burn, finding replacement...\n",
      "ERROR: No suitable replacement found for Red Burn\n",
      "Coherence change: 12.60 → 12.60 (improvement: 0.00)\n",
      "❌ No improvement achieved\n",
      "Optimizing specified deck: Red Aggro\n"
     ]
    },
    {
     "data": {
      "text/markdown": [
       "Analyzing deck: Red Aggro"
      ],
      "text/plain": [
       "<IPython.core.display.Markdown object>"
      ]
     },
     "metadata": {},
     "output_type": "display_data"
    },
    {
     "data": {
      "text/markdown": [
       "Current coherence: 6.2"
      ],
      "text/plain": [
       "<IPython.core.display.Markdown object>"
      ]
     },
     "metadata": {},
     "output_type": "display_data"
    },
    {
     "data": {
      "text/markdown": [
       "Expected themes: Aggro"
      ],
      "text/plain": [
       "<IPython.core.display.Markdown object>"
      ]
     },
     "metadata": {},
     "output_type": "display_data"
    },
    {
     "data": {
      "text/markdown": [
       "Deck colors: R"
      ],
      "text/plain": [
       "<IPython.core.display.Markdown object>"
      ]
     },
     "metadata": {},
     "output_type": "display_data"
    },
    {
     "data": {
      "text/markdown": [
       "Composition: 8 creatures, 5 non-creatures, 1 non-basic lands (Valid: True)"
      ],
      "text/plain": [
       "<IPython.core.display.Markdown object>"
      ]
     },
     "metadata": {},
     "output_type": "display_data"
    },
    {
     "data": {
      "text/markdown": [
       "Found 60 candidate cards to consider"
      ],
      "text/plain": [
       "<IPython.core.display.Markdown object>"
      ]
     },
     "metadata": {},
     "output_type": "display_data"
    },
    {
     "data": {
      "text/markdown": [
       "Identified 13 cards as potential removal candidates"
      ],
      "text/plain": [
       "<IPython.core.display.Markdown object>"
      ]
     },
     "metadata": {},
     "output_type": "display_data"
    },
    {
     "data": {
      "text/markdown": [
       "# 🔄 Swap Recommendations for Red Aggro"
      ],
      "text/plain": [
       "<IPython.core.display.Markdown object>"
      ]
     },
     "metadata": {},
     "output_type": "display_data"
    },
    {
     "data": {
      "text/markdown": [
       "**Projected New Coherence:** 106.2/100 (+100.0)"
      ],
      "text/plain": [
       "<IPython.core.display.Markdown object>"
      ]
     },
     "metadata": {},
     "output_type": "display_data"
    },
    {
     "data": {
      "text/markdown": [
       "### Cards to Remove:"
      ],
      "text/plain": [
       "<IPython.core.display.Markdown object>"
      ]
     },
     "metadata": {},
     "output_type": "display_data"
    },
    {
     "data": {
      "text/markdown": [
       "- **Fireblast** (Theme Score: 1.0, CMC: 6.0)"
      ],
      "text/plain": [
       "<IPython.core.display.Markdown object>"
      ]
     },
     "metadata": {},
     "output_type": "display_data"
    },
    {
     "data": {
      "text/markdown": [
       "- **Abrade** (Theme Score: 1.0, CMC: 2.0)"
      ],
      "text/plain": [
       "<IPython.core.display.Markdown object>"
      ]
     },
     "metadata": {},
     "output_type": "display_data"
    },
    {
     "data": {
      "text/markdown": [
       "### Cards to Add:"
      ],
      "text/plain": [
       "<IPython.core.display.Markdown object>"
      ]
     },
     "metadata": {},
     "output_type": "display_data"
    },
    {
     "data": {
      "text/markdown": [
       "- **Monastery Swiftspear** (Theme Score: 11.0) - from Gruul Aggro/Beatdown"
      ],
      "text/plain": [
       "<IPython.core.display.Markdown object>"
      ]
     },
     "metadata": {},
     "output_type": "display_data"
    },
    {
     "data": {
      "text/markdown": [
       "- **Mayhem Patrol** (Theme Score: 11.0) - from Gruul Aggro/Beatdown"
      ],
      "text/plain": [
       "<IPython.core.display.Markdown object>"
      ]
     },
     "metadata": {},
     "output_type": "display_data"
    },
    {
     "name": "stdout",
     "output_type": "stream",
     "text": [
      "Skipping swap for Red Aggro - would reverse a recent swap (preventing oscillation)\n",
      "Optimizing specified deck: Red Artifacts\n"
     ]
    },
    {
     "data": {
      "text/markdown": [
       "Analyzing deck: Red Artifacts"
      ],
      "text/plain": [
       "<IPython.core.display.Markdown object>"
      ]
     },
     "metadata": {},
     "output_type": "display_data"
    },
    {
     "data": {
      "text/markdown": [
       "Current coherence: 7.7"
      ],
      "text/plain": [
       "<IPython.core.display.Markdown object>"
      ]
     },
     "metadata": {},
     "output_type": "display_data"
    },
    {
     "data": {
      "text/markdown": [
       "Expected themes: Artifacts, Red Artifacts"
      ],
      "text/plain": [
       "<IPython.core.display.Markdown object>"
      ]
     },
     "metadata": {},
     "output_type": "display_data"
    },
    {
     "data": {
      "text/markdown": [
       "Deck colors: R"
      ],
      "text/plain": [
       "<IPython.core.display.Markdown object>"
      ]
     },
     "metadata": {},
     "output_type": "display_data"
    },
    {
     "data": {
      "text/markdown": [
       "Composition: 9 creatures, 4 non-creatures, 0 non-basic lands (Valid: True)"
      ],
      "text/plain": [
       "<IPython.core.display.Markdown object>"
      ]
     },
     "metadata": {},
     "output_type": "display_data"
    },
    {
     "data": {
      "text/markdown": [
       "Found 28 candidate cards to consider"
      ],
      "text/plain": [
       "<IPython.core.display.Markdown object>"
      ]
     },
     "metadata": {},
     "output_type": "display_data"
    },
    {
     "data": {
      "text/markdown": [
       "Identified 13 cards as potential removal candidates"
      ],
      "text/plain": [
       "<IPython.core.display.Markdown object>"
      ]
     },
     "metadata": {},
     "output_type": "display_data"
    },
    {
     "data": {
      "text/markdown": [
       "# 🔄 Swap Recommendations for Red Artifacts"
      ],
      "text/plain": [
       "<IPython.core.display.Markdown object>"
      ]
     },
     "metadata": {},
     "output_type": "display_data"
    },
    {
     "data": {
      "text/markdown": [
       "**Projected New Coherence:** 32.7/100 (+25.0)"
      ],
      "text/plain": [
       "<IPython.core.display.Markdown object>"
      ]
     },
     "metadata": {},
     "output_type": "display_data"
    },
    {
     "data": {
      "text/markdown": [
       "### Cards to Remove:"
      ],
      "text/plain": [
       "<IPython.core.display.Markdown object>"
      ]
     },
     "metadata": {},
     "output_type": "display_data"
    },
    {
     "data": {
      "text/markdown": [
       "- **Rimrock Knight** (Theme Score: 0.5, CMC: 2.0)"
      ],
      "text/plain": [
       "<IPython.core.display.Markdown object>"
      ]
     },
     "metadata": {},
     "output_type": "display_data"
    },
    {
     "data": {
      "text/markdown": [
       "- **Spelleater Wolverine** (Theme Score: 0.5, CMC: 3.0)"
      ],
      "text/plain": [
       "<IPython.core.display.Markdown object>"
      ]
     },
     "metadata": {},
     "output_type": "display_data"
    },
    {
     "data": {
      "text/markdown": [
       "### Cards to Add:"
      ],
      "text/plain": [
       "<IPython.core.display.Markdown object>"
      ]
     },
     "metadata": {},
     "output_type": "display_data"
    },
    {
     "data": {
      "text/markdown": [
       "- **Pristine Talisman** (Theme Score: 3.0) - from oracle pool"
      ],
      "text/plain": [
       "<IPython.core.display.Markdown object>"
      ]
     },
     "metadata": {},
     "output_type": "display_data"
    },
    {
     "data": {
      "text/markdown": [
       "- **Serrated Arrows** (Theme Score: 3.0) - from oracle pool"
      ],
      "text/plain": [
       "<IPython.core.display.Markdown object>"
      ]
     },
     "metadata": {},
     "output_type": "display_data"
    },
    {
     "name": "stdout",
     "output_type": "stream",
     "text": [
      "Applying swap to Red Artifacts: removing ['Rimrock Knight', 'Spelleater Wolverine'], adding ['Pristine Talisman', 'Serrated Arrows']\n",
      "Initial Red Artifacts size: 13\n",
      "Added Pristine Talisman from oracle to Red Artifacts\n",
      "Added Serrated Arrows from oracle to Red Artifacts\n",
      "Removed Rimrock Knight from Red Artifacts (replaced by oracle card)\n",
      "Removed Spelleater Wolverine from Red Artifacts (replaced by oracle card)\n",
      "Final Red Artifacts size: 13\n",
      "Swap completed successfully for Red Artifacts\n",
      "Coherence change: 7.74 → 9.70 (improvement: 1.96)\n",
      "✅ Improved Red Artifacts coherence from 7.7 to 9.7\n",
      "Optimizing specified deck: Red Burn\n"
     ]
    },
    {
     "data": {
      "text/markdown": [
       "Analyzing deck: Red Burn"
      ],
      "text/plain": [
       "<IPython.core.display.Markdown object>"
      ]
     },
     "metadata": {},
     "output_type": "display_data"
    },
    {
     "data": {
      "text/markdown": [
       "Current coherence: 12.1"
      ],
      "text/plain": [
       "<IPython.core.display.Markdown object>"
      ]
     },
     "metadata": {},
     "output_type": "display_data"
    },
    {
     "data": {
      "text/markdown": [
       "Expected themes: Burn"
      ],
      "text/plain": [
       "<IPython.core.display.Markdown object>"
      ]
     },
     "metadata": {},
     "output_type": "display_data"
    },
    {
     "data": {
      "text/markdown": [
       "Deck colors: R"
      ],
      "text/plain": [
       "<IPython.core.display.Markdown object>"
      ]
     },
     "metadata": {},
     "output_type": "display_data"
    },
    {
     "data": {
      "text/markdown": [
       "Composition: 6 creatures, 7 non-creatures, 0 non-basic lands (Valid: True)"
      ],
      "text/plain": [
       "<IPython.core.display.Markdown object>"
      ]
     },
     "metadata": {},
     "output_type": "display_data"
    },
    {
     "data": {
      "text/markdown": [
       "Found 65 candidate cards to consider"
      ],
      "text/plain": [
       "<IPython.core.display.Markdown object>"
      ]
     },
     "metadata": {},
     "output_type": "display_data"
    },
    {
     "data": {
      "text/markdown": [
       "Identified 13 cards as potential removal candidates"
      ],
      "text/plain": [
       "<IPython.core.display.Markdown object>"
      ]
     },
     "metadata": {},
     "output_type": "display_data"
    },
    {
     "data": {
      "text/markdown": [
       "# 🔄 Swap Recommendations for Red Burn"
      ],
      "text/plain": [
       "<IPython.core.display.Markdown object>"
      ]
     },
     "metadata": {},
     "output_type": "display_data"
    },
    {
     "data": {
      "text/markdown": [
       "**Projected New Coherence:** 42.1/100 (+30.0)"
      ],
      "text/plain": [
       "<IPython.core.display.Markdown object>"
      ]
     },
     "metadata": {},
     "output_type": "display_data"
    },
    {
     "data": {
      "text/markdown": [
       "### Cards to Remove:"
      ],
      "text/plain": [
       "<IPython.core.display.Markdown object>"
      ]
     },
     "metadata": {},
     "output_type": "display_data"
    },
    {
     "data": {
      "text/markdown": [
       "- **Bonder's Ornament** (Theme Score: 2.0, CMC: 3.0)"
      ],
      "text/plain": [
       "<IPython.core.display.Markdown object>"
      ]
     },
     "metadata": {},
     "output_type": "display_data"
    },
    {
     "data": {
      "text/markdown": [
       "- **Scholar of Combustion** (Theme Score: 3.0, CMC: 4.0)"
      ],
      "text/plain": [
       "<IPython.core.display.Markdown object>"
      ]
     },
     "metadata": {},
     "output_type": "display_data"
    },
    {
     "data": {
      "text/markdown": [
       "### Cards to Add:"
      ],
      "text/plain": [
       "<IPython.core.display.Markdown object>"
      ]
     },
     "metadata": {},
     "output_type": "display_data"
    },
    {
     "data": {
      "text/markdown": [
       "- **Firebolt** (Theme Score: 6.0) - from Izzet Control"
      ],
      "text/plain": [
       "<IPython.core.display.Markdown object>"
      ]
     },
     "metadata": {},
     "output_type": "display_data"
    },
    {
     "data": {
      "text/markdown": [
       "- **Improvised Club** (Theme Score: 5.0) - from Red Artifacts"
      ],
      "text/plain": [
       "<IPython.core.display.Markdown object>"
      ]
     },
     "metadata": {},
     "output_type": "display_data"
    },
    {
     "name": "stdout",
     "output_type": "stream",
     "text": [
      "Applying swap to Red Burn: removing [\"Bonder's Ornament\", 'Scholar of Combustion'], adding ['Firebolt', 'Improvised Club']\n",
      "Initial Red Burn size: 13\n",
      "Moved Firebolt from Izzet Control to Red Burn\n",
      "Moved Improvised Club from Red Artifacts to Red Burn\n",
      "Moved Bonder's Ornament from Red Burn to Izzet Control\n",
      "Moved Scholar of Combustion from Red Burn to Red Artifacts\n",
      "Final Red Burn size: 13\n",
      "Swap completed successfully for Red Burn\n",
      "Coherence change: 12.10 → 12.42 (improvement: 0.31)\n",
      "✅ Improved Red Burn coherence from 12.1 to 12.4\n",
      "Optimizing specified deck: Red Small Creatures\n",
      "Optimizing specified deck: Red Small Creatures\n"
     ]
    },
    {
     "data": {
      "text/markdown": [
       "Analyzing deck: Red Small Creatures"
      ],
      "text/plain": [
       "<IPython.core.display.Markdown object>"
      ]
     },
     "metadata": {},
     "output_type": "display_data"
    },
    {
     "data": {
      "text/markdown": [
       "Current coherence: 11.6"
      ],
      "text/plain": [
       "<IPython.core.display.Markdown object>"
      ]
     },
     "metadata": {},
     "output_type": "display_data"
    },
    {
     "data": {
      "text/markdown": [
       "Expected themes: Small Creatures"
      ],
      "text/plain": [
       "<IPython.core.display.Markdown object>"
      ]
     },
     "metadata": {},
     "output_type": "display_data"
    },
    {
     "data": {
      "text/markdown": [
       "Deck colors: R"
      ],
      "text/plain": [
       "<IPython.core.display.Markdown object>"
      ]
     },
     "metadata": {},
     "output_type": "display_data"
    },
    {
     "data": {
      "text/markdown": [
       "Composition: 9 creatures, 4 non-creatures, 1 non-basic lands (Valid: True)"
      ],
      "text/plain": [
       "<IPython.core.display.Markdown object>"
      ]
     },
     "metadata": {},
     "output_type": "display_data"
    },
    {
     "data": {
      "text/markdown": [
       "Found 64 candidate cards to consider"
      ],
      "text/plain": [
       "<IPython.core.display.Markdown object>"
      ]
     },
     "metadata": {},
     "output_type": "display_data"
    },
    {
     "data": {
      "text/markdown": [
       "Identified 13 cards as potential removal candidates"
      ],
      "text/plain": [
       "<IPython.core.display.Markdown object>"
      ]
     },
     "metadata": {},
     "output_type": "display_data"
    },
    {
     "data": {
      "text/markdown": [
       "# 🔄 Swap Recommendations for Red Small Creatures"
      ],
      "text/plain": [
       "<IPython.core.display.Markdown object>"
      ]
     },
     "metadata": {},
     "output_type": "display_data"
    },
    {
     "data": {
      "text/markdown": [
       "**Projected New Coherence:** 44.1/100 (+32.5)"
      ],
      "text/plain": [
       "<IPython.core.display.Markdown object>"
      ]
     },
     "metadata": {},
     "output_type": "display_data"
    },
    {
     "data": {
      "text/markdown": [
       "### Cards to Remove:"
      ],
      "text/plain": [
       "<IPython.core.display.Markdown object>"
      ]
     },
     "metadata": {},
     "output_type": "display_data"
    },
    {
     "data": {
      "text/markdown": [
       "- **Searing Spear** (Theme Score: 2.0, CMC: 2.0)"
      ],
      "text/plain": [
       "<IPython.core.display.Markdown object>"
      ]
     },
     "metadata": {},
     "output_type": "display_data"
    },
    {
     "data": {
      "text/markdown": [
       "- **Dark-Dweller Oracle** (Theme Score: 2.5, CMC: 2.0)"
      ],
      "text/plain": [
       "<IPython.core.display.Markdown object>"
      ]
     },
     "metadata": {},
     "output_type": "display_data"
    },
    {
     "data": {
      "text/markdown": [
       "### Cards to Add:"
      ],
      "text/plain": [
       "<IPython.core.display.Markdown object>"
      ]
     },
     "metadata": {},
     "output_type": "display_data"
    },
    {
     "data": {
      "text/markdown": [
       "- **Monastery Swiftspear** (Theme Score: 6.0) - from Gruul Aggro/Beatdown"
      ],
      "text/plain": [
       "<IPython.core.display.Markdown object>"
      ]
     },
     "metadata": {},
     "output_type": "display_data"
    },
    {
     "data": {
      "text/markdown": [
       "- **Mayhem Patrol** (Theme Score: 5.0) - from Gruul Aggro/Beatdown"
      ],
      "text/plain": [
       "<IPython.core.display.Markdown object>"
      ]
     },
     "metadata": {},
     "output_type": "display_data"
    },
    {
     "name": "stdout",
     "output_type": "stream",
     "text": [
      "Skipping swap for Red Small Creatures - would reverse a recent swap (preventing oscillation)\n",
      "Optimizing specified deck: Selesnya Control\n",
      "Optimizing specified deck: Selesnya Control\n"
     ]
    },
    {
     "data": {
      "text/markdown": [
       "Analyzing deck: Selesnya Control"
      ],
      "text/plain": [
       "<IPython.core.display.Markdown object>"
      ]
     },
     "metadata": {},
     "output_type": "display_data"
    },
    {
     "data": {
      "text/markdown": [
       "Current coherence: 13.1"
      ],
      "text/plain": [
       "<IPython.core.display.Markdown object>"
      ]
     },
     "metadata": {},
     "output_type": "display_data"
    },
    {
     "data": {
      "text/markdown": [
       "Expected themes: Control, Tokens, Midrange"
      ],
      "text/plain": [
       "<IPython.core.display.Markdown object>"
      ]
     },
     "metadata": {},
     "output_type": "display_data"
    },
    {
     "data": {
      "text/markdown": [
       "Deck colors: GW"
      ],
      "text/plain": [
       "<IPython.core.display.Markdown object>"
      ]
     },
     "metadata": {},
     "output_type": "display_data"
    },
    {
     "data": {
      "text/markdown": [
       "Composition: 3 creatures, 10 non-creatures, 3 non-basic lands (Valid: False)"
      ],
      "text/plain": [
       "<IPython.core.display.Markdown object>"
      ]
     },
     "metadata": {},
     "output_type": "display_data"
    },
    {
     "data": {
      "text/markdown": [
       "Found 149 candidate cards to consider"
      ],
      "text/plain": [
       "<IPython.core.display.Markdown object>"
      ]
     },
     "metadata": {},
     "output_type": "display_data"
    },
    {
     "data": {
      "text/markdown": [
       "Identified 13 cards as potential removal candidates"
      ],
      "text/plain": [
       "<IPython.core.display.Markdown object>"
      ]
     },
     "metadata": {},
     "output_type": "display_data"
    },
    {
     "data": {
      "text/markdown": [
       "# 🔄 Swap Recommendations for Selesnya Control"
      ],
      "text/plain": [
       "<IPython.core.display.Markdown object>"
      ]
     },
     "metadata": {},
     "output_type": "display_data"
    },
    {
     "data": {
      "text/markdown": [
       "**Projected New Coherence:** 118.1/100 (+105.0)"
      ],
      "text/plain": [
       "<IPython.core.display.Markdown object>"
      ]
     },
     "metadata": {},
     "output_type": "display_data"
    },
    {
     "data": {
      "text/markdown": [
       "### Cards to Remove:"
      ],
      "text/plain": [
       "<IPython.core.display.Markdown object>"
      ]
     },
     "metadata": {},
     "output_type": "display_data"
    },
    {
     "data": {
      "text/markdown": [
       "- **Fertile Ground** (Theme Score: 1.0, CMC: 2.0)"
      ],
      "text/plain": [
       "<IPython.core.display.Markdown object>"
      ]
     },
     "metadata": {},
     "output_type": "display_data"
    },
    {
     "data": {
      "text/markdown": [
       "- **Radiant Grove** (Theme Score: 3.0, CMC: 0.0)"
      ],
      "text/plain": [
       "<IPython.core.display.Markdown object>"
      ]
     },
     "metadata": {},
     "output_type": "display_data"
    },
    {
     "data": {
      "text/markdown": [
       "### Cards to Add:"
      ],
      "text/plain": [
       "<IPython.core.display.Markdown object>"
      ]
     },
     "metadata": {},
     "output_type": "display_data"
    },
    {
     "data": {
      "text/markdown": [
       "- **Sprout Swarm** (Theme Score: 13.0) - from Simic Control"
      ],
      "text/plain": [
       "<IPython.core.display.Markdown object>"
      ]
     },
     "metadata": {},
     "output_type": "display_data"
    },
    {
     "data": {
      "text/markdown": [
       "- **Sandsteppe Outcast** (Theme Score: 12.0) - from White Aggro"
      ],
      "text/plain": [
       "<IPython.core.display.Markdown object>"
      ]
     },
     "metadata": {},
     "output_type": "display_data"
    },
    {
     "name": "stdout",
     "output_type": "stream",
     "text": [
      "Applying swap to Selesnya Control: removing ['Fertile Ground', 'Radiant Grove'], adding ['Sprout Swarm', 'Sandsteppe Outcast']\n",
      "Initial Selesnya Control size: 13\n",
      "Moved Sprout Swarm from Simic Control to Selesnya Control\n",
      "Moved Sandsteppe Outcast from White Aggro to Selesnya Control\n",
      "Moved Fertile Ground from Selesnya Control to Simic Control\n",
      "Moved Radiant Grove from Selesnya Control to White Aggro\n",
      "Final Selesnya Control size: 13\n",
      "Swap completed successfully for Selesnya Control\n",
      "Coherence change: 13.15 → 13.92 (improvement: 0.77)\n",
      "✅ Improved Selesnya Control coherence from 13.1 to 13.9\n",
      "Optimizing specified deck: Simic Control\n",
      "Coherence change: 13.15 → 13.92 (improvement: 0.77)\n",
      "✅ Improved Selesnya Control coherence from 13.1 to 13.9\n",
      "Optimizing specified deck: Simic Control\n"
     ]
    },
    {
     "data": {
      "text/markdown": [
       "Analyzing deck: Simic Control"
      ],
      "text/plain": [
       "<IPython.core.display.Markdown object>"
      ]
     },
     "metadata": {},
     "output_type": "display_data"
    },
    {
     "data": {
      "text/markdown": [
       "Current coherence: 13.3"
      ],
      "text/plain": [
       "<IPython.core.display.Markdown object>"
      ]
     },
     "metadata": {},
     "output_type": "display_data"
    },
    {
     "data": {
      "text/markdown": [
       "Expected themes: Card Draw, Control, Ramp"
      ],
      "text/plain": [
       "<IPython.core.display.Markdown object>"
      ]
     },
     "metadata": {},
     "output_type": "display_data"
    },
    {
     "data": {
      "text/markdown": [
       "Deck colors: UG"
      ],
      "text/plain": [
       "<IPython.core.display.Markdown object>"
      ]
     },
     "metadata": {},
     "output_type": "display_data"
    },
    {
     "data": {
      "text/markdown": [
       "Composition: 3 creatures, 10 non-creatures, 3 non-basic lands (Valid: False)"
      ],
      "text/plain": [
       "<IPython.core.display.Markdown object>"
      ]
     },
     "metadata": {},
     "output_type": "display_data"
    },
    {
     "data": {
      "text/markdown": [
       "Found 137 candidate cards to consider"
      ],
      "text/plain": [
       "<IPython.core.display.Markdown object>"
      ]
     },
     "metadata": {},
     "output_type": "display_data"
    },
    {
     "data": {
      "text/markdown": [
       "Identified 13 cards as potential removal candidates"
      ],
      "text/plain": [
       "<IPython.core.display.Markdown object>"
      ]
     },
     "metadata": {},
     "output_type": "display_data"
    },
    {
     "data": {
      "text/markdown": [
       "# 🔄 Swap Recommendations for Simic Control"
      ],
      "text/plain": [
       "<IPython.core.display.Markdown object>"
      ]
     },
     "metadata": {},
     "output_type": "display_data"
    },
    {
     "data": {
      "text/markdown": [
       "**Projected New Coherence:** 178.3/100 (+165.0)"
      ],
      "text/plain": [
       "<IPython.core.display.Markdown object>"
      ]
     },
     "metadata": {},
     "output_type": "display_data"
    },
    {
     "data": {
      "text/markdown": [
       "### Cards to Remove:"
      ],
      "text/plain": [
       "<IPython.core.display.Markdown object>"
      ]
     },
     "metadata": {},
     "output_type": "display_data"
    },
    {
     "data": {
      "text/markdown": [
       "- **Fertile Ground** (Theme Score: 1.0, CMC: 2.0)"
      ],
      "text/plain": [
       "<IPython.core.display.Markdown object>"
      ]
     },
     "metadata": {},
     "output_type": "display_data"
    },
    {
     "data": {
      "text/markdown": [
       "- **Wild Growth** (Theme Score: 1.0, CMC: 1.0)"
      ],
      "text/plain": [
       "<IPython.core.display.Markdown object>"
      ]
     },
     "metadata": {},
     "output_type": "display_data"
    },
    {
     "data": {
      "text/markdown": [
       "### Cards to Add:"
      ],
      "text/plain": [
       "<IPython.core.display.Markdown object>"
      ]
     },
     "metadata": {},
     "output_type": "display_data"
    },
    {
     "data": {
      "text/markdown": [
       "- **Lórien Revealed** (Theme Score: 18.0) - from Blue Card Draw"
      ],
      "text/plain": [
       "<IPython.core.display.Markdown object>"
      ]
     },
     "metadata": {},
     "output_type": "display_data"
    },
    {
     "data": {
      "text/markdown": [
       "- **Krosan Tusker** (Theme Score: 17.0) - from Green Ramp"
      ],
      "text/plain": [
       "<IPython.core.display.Markdown object>"
      ]
     },
     "metadata": {},
     "output_type": "display_data"
    },
    {
     "name": "stdout",
     "output_type": "stream",
     "text": [
      "Applying swap to Simic Control: removing ['Fertile Ground', 'Wild Growth'], adding ['Lórien Revealed', 'Krosan Tusker']\n",
      "Initial Simic Control size: 13\n",
      "Moved Lórien Revealed from Blue Card Draw to Simic Control\n",
      "Moved Krosan Tusker from Green Ramp to Simic Control\n",
      "Card Fertile Ground not color-compatible with Blue Card Draw, finding replacement...\n",
      "Added Striped Riverwinder to Blue Card Draw as replacement\n",
      "Removed incompatible Fertile Ground from Simic Control\n",
      "Moved Wild Growth from Simic Control to Green Ramp\n",
      "Final Simic Control size: 13\n",
      "Swap completed successfully for Simic Control\n",
      "Coherence change: 13.26 → 14.36 (improvement: 1.10)\n",
      "✅ Improved Simic Control coherence from 13.3 to 14.4\n",
      "Optimizing specified deck: White Aggro\n",
      "Optimizing specified deck: White Aggro\n"
     ]
    },
    {
     "data": {
      "text/markdown": [
       "Analyzing deck: White Aggro"
      ],
      "text/plain": [
       "<IPython.core.display.Markdown object>"
      ]
     },
     "metadata": {},
     "output_type": "display_data"
    },
    {
     "data": {
      "text/markdown": [
       "Current coherence: 5.8"
      ],
      "text/plain": [
       "<IPython.core.display.Markdown object>"
      ]
     },
     "metadata": {},
     "output_type": "display_data"
    },
    {
     "data": {
      "text/markdown": [
       "Expected themes: Aggro"
      ],
      "text/plain": [
       "<IPython.core.display.Markdown object>"
      ]
     },
     "metadata": {},
     "output_type": "display_data"
    },
    {
     "data": {
      "text/markdown": [
       "Deck colors: W"
      ],
      "text/plain": [
       "<IPython.core.display.Markdown object>"
      ]
     },
     "metadata": {},
     "output_type": "display_data"
    },
    {
     "data": {
      "text/markdown": [
       "Composition: 12 creatures, 1 non-creatures, 1 non-basic lands (Valid: False)"
      ],
      "text/plain": [
       "<IPython.core.display.Markdown object>"
      ]
     },
     "metadata": {},
     "output_type": "display_data"
    },
    {
     "data": {
      "text/markdown": [
       "Found 53 candidate cards to consider"
      ],
      "text/plain": [
       "<IPython.core.display.Markdown object>"
      ]
     },
     "metadata": {},
     "output_type": "display_data"
    },
    {
     "data": {
      "text/markdown": [
       "Identified 13 cards as potential removal candidates"
      ],
      "text/plain": [
       "<IPython.core.display.Markdown object>"
      ]
     },
     "metadata": {},
     "output_type": "display_data"
    },
    {
     "data": {
      "text/markdown": [
       "# 🔄 Swap Recommendations for White Aggro"
      ],
      "text/plain": [
       "<IPython.core.display.Markdown object>"
      ]
     },
     "metadata": {},
     "output_type": "display_data"
    },
    {
     "data": {
      "text/markdown": [
       "**Projected New Coherence:** 100.8/100 (+95.0)"
      ],
      "text/plain": [
       "<IPython.core.display.Markdown object>"
      ]
     },
     "metadata": {},
     "output_type": "display_data"
    },
    {
     "data": {
      "text/markdown": [
       "### Cards to Remove:"
      ],
      "text/plain": [
       "<IPython.core.display.Markdown object>"
      ]
     },
     "metadata": {},
     "output_type": "display_data"
    },
    {
     "data": {
      "text/markdown": [
       "- **Pegasus Guardian** (Theme Score: 0.0, CMC: 6.0)"
      ],
      "text/plain": [
       "<IPython.core.display.Markdown object>"
      ]
     },
     "metadata": {},
     "output_type": "display_data"
    },
    {
     "data": {
      "text/markdown": [
       "- **Custodi Squire** (Theme Score: 0.0, CMC: 5.0)"
      ],
      "text/plain": [
       "<IPython.core.display.Markdown object>"
      ]
     },
     "metadata": {},
     "output_type": "display_data"
    },
    {
     "data": {
      "text/markdown": [
       "### Cards to Add:"
      ],
      "text/plain": [
       "<IPython.core.display.Markdown object>"
      ]
     },
     "metadata": {},
     "output_type": "display_data"
    },
    {
     "data": {
      "text/markdown": [
       "- **Cartouche of Solidarity** (Theme Score: 11.0) - from Boros Aggro/Beatdown"
      ],
      "text/plain": [
       "<IPython.core.display.Markdown object>"
      ]
     },
     "metadata": {},
     "output_type": "display_data"
    },
    {
     "data": {
      "text/markdown": [
       "- **Soltari Trooper** (Theme Score: 8.0) - from Selesnya Control"
      ],
      "text/plain": [
       "<IPython.core.display.Markdown object>"
      ]
     },
     "metadata": {},
     "output_type": "display_data"
    },
    {
     "name": "stdout",
     "output_type": "stream",
     "text": [
      "Applying swap to White Aggro: removing ['Pegasus Guardian', 'Custodi Squire'], adding ['Cartouche of Solidarity', 'Soltari Trooper']\n",
      "Initial White Aggro size: 13\n",
      "Moved Cartouche of Solidarity from Boros Aggro/Beatdown to White Aggro\n",
      "Moved Soltari Trooper from Selesnya Control to White Aggro\n",
      "Moved Pegasus Guardian from White Aggro to Boros Aggro/Beatdown\n",
      "Moved Custodi Squire from White Aggro to Selesnya Control\n",
      "Final White Aggro size: 13\n",
      "Swap completed successfully for White Aggro\n",
      "Coherence change: 5.76 → 6.69 (improvement: 0.94)\n",
      "✅ Improved White Aggro coherence from 5.8 to 6.7\n",
      "Optimizing specified deck: White Control\n",
      "Coherence change: 5.76 → 6.69 (improvement: 0.94)\n",
      "✅ Improved White Aggro coherence from 5.8 to 6.7\n",
      "Optimizing specified deck: White Control\n"
     ]
    },
    {
     "data": {
      "text/markdown": [
       "Analyzing deck: White Control"
      ],
      "text/plain": [
       "<IPython.core.display.Markdown object>"
      ]
     },
     "metadata": {},
     "output_type": "display_data"
    },
    {
     "data": {
      "text/markdown": [
       "Current coherence: 8.4"
      ],
      "text/plain": [
       "<IPython.core.display.Markdown object>"
      ]
     },
     "metadata": {},
     "output_type": "display_data"
    },
    {
     "data": {
      "text/markdown": [
       "Expected themes: Control"
      ],
      "text/plain": [
       "<IPython.core.display.Markdown object>"
      ]
     },
     "metadata": {},
     "output_type": "display_data"
    },
    {
     "data": {
      "text/markdown": [
       "Deck colors: W"
      ],
      "text/plain": [
       "<IPython.core.display.Markdown object>"
      ]
     },
     "metadata": {},
     "output_type": "display_data"
    },
    {
     "data": {
      "text/markdown": [
       "Composition: 7 creatures, 6 non-creatures, 0 non-basic lands (Valid: True)"
      ],
      "text/plain": [
       "<IPython.core.display.Markdown object>"
      ]
     },
     "metadata": {},
     "output_type": "display_data"
    },
    {
     "data": {
      "text/markdown": [
       "Found 39 candidate cards to consider"
      ],
      "text/plain": [
       "<IPython.core.display.Markdown object>"
      ]
     },
     "metadata": {},
     "output_type": "display_data"
    },
    {
     "data": {
      "text/markdown": [
       "Identified 13 cards as potential removal candidates"
      ],
      "text/plain": [
       "<IPython.core.display.Markdown object>"
      ]
     },
     "metadata": {},
     "output_type": "display_data"
    },
    {
     "data": {
      "text/markdown": [
       "# 🔄 Swap Recommendations for White Control"
      ],
      "text/plain": [
       "<IPython.core.display.Markdown object>"
      ]
     },
     "metadata": {},
     "output_type": "display_data"
    },
    {
     "data": {
      "text/markdown": [
       "**Projected New Coherence:** 68.4/100 (+60.0)"
      ],
      "text/plain": [
       "<IPython.core.display.Markdown object>"
      ]
     },
     "metadata": {},
     "output_type": "display_data"
    },
    {
     "data": {
      "text/markdown": [
       "### Cards to Remove:"
      ],
      "text/plain": [
       "<IPython.core.display.Markdown object>"
      ]
     },
     "metadata": {},
     "output_type": "display_data"
    },
    {
     "data": {
      "text/markdown": [
       "- **Petrify** (Theme Score: 1.0, CMC: 2.0)"
      ],
      "text/plain": [
       "<IPython.core.display.Markdown object>"
      ]
     },
     "metadata": {},
     "output_type": "display_data"
    },
    {
     "data": {
      "text/markdown": [
       "- **Suture Priest** (Theme Score: 1.0, CMC: 2.0)"
      ],
      "text/plain": [
       "<IPython.core.display.Markdown object>"
      ]
     },
     "metadata": {},
     "output_type": "display_data"
    },
    {
     "data": {
      "text/markdown": [
       "### Cards to Add:"
      ],
      "text/plain": [
       "<IPython.core.display.Markdown object>"
      ]
     },
     "metadata": {},
     "output_type": "display_data"
    },
    {
     "data": {
      "text/markdown": [
       "- **Prismatic Strands** (Theme Score: 7.0) - from oracle pool"
      ],
      "text/plain": [
       "<IPython.core.display.Markdown object>"
      ]
     },
     "metadata": {},
     "output_type": "display_data"
    },
    {
     "data": {
      "text/markdown": [
       "- **Settle Beyond Reality** (Theme Score: 7.0) - from White Tokens"
      ],
      "text/plain": [
       "<IPython.core.display.Markdown object>"
      ]
     },
     "metadata": {},
     "output_type": "display_data"
    },
    {
     "name": "stdout",
     "output_type": "stream",
     "text": [
      "Applying swap to White Control: removing ['Petrify', 'Suture Priest'], adding ['Prismatic Strands', 'Settle Beyond Reality']\n",
      "Initial White Control size: 13\n",
      "Added Prismatic Strands from oracle to White Control\n",
      "Moved Settle Beyond Reality from White Tokens to White Control\n",
      "Removed Petrify from White Control (replaced by oracle card)\n",
      "Moved Suture Priest from White Control to White Tokens\n",
      "Final White Control size: 13\n",
      "Swap completed successfully for White Control\n",
      "Coherence change: 8.43 → 8.92 (improvement: 0.49)\n",
      "✅ Improved White Control coherence from 8.4 to 8.9\n",
      "Optimizing specified deck: White Equipment\n",
      "Coherence change: 8.43 → 8.92 (improvement: 0.49)\n",
      "✅ Improved White Control coherence from 8.4 to 8.9\n",
      "Optimizing specified deck: White Equipment\n"
     ]
    },
    {
     "data": {
      "text/markdown": [
       "Analyzing deck: White Equipment"
      ],
      "text/plain": [
       "<IPython.core.display.Markdown object>"
      ]
     },
     "metadata": {},
     "output_type": "display_data"
    },
    {
     "data": {
      "text/markdown": [
       "Current coherence: 11.7"
      ],
      "text/plain": [
       "<IPython.core.display.Markdown object>"
      ]
     },
     "metadata": {},
     "output_type": "display_data"
    },
    {
     "data": {
      "text/markdown": [
       "Expected themes: Equipment"
      ],
      "text/plain": [
       "<IPython.core.display.Markdown object>"
      ]
     },
     "metadata": {},
     "output_type": "display_data"
    },
    {
     "data": {
      "text/markdown": [
       "Deck colors: W"
      ],
      "text/plain": [
       "<IPython.core.display.Markdown object>"
      ]
     },
     "metadata": {},
     "output_type": "display_data"
    },
    {
     "data": {
      "text/markdown": [
       "Composition: 8 creatures, 5 non-creatures, 0 non-basic lands (Valid: True)"
      ],
      "text/plain": [
       "<IPython.core.display.Markdown object>"
      ]
     },
     "metadata": {},
     "output_type": "display_data"
    },
    {
     "data": {
      "text/markdown": [
       "Found 37 candidate cards to consider"
      ],
      "text/plain": [
       "<IPython.core.display.Markdown object>"
      ]
     },
     "metadata": {},
     "output_type": "display_data"
    },
    {
     "data": {
      "text/markdown": [
       "Identified 13 cards as potential removal candidates"
      ],
      "text/plain": [
       "<IPython.core.display.Markdown object>"
      ]
     },
     "metadata": {},
     "output_type": "display_data"
    },
    {
     "data": {
      "text/markdown": [
       "# 🔄 Swap Recommendations for White Equipment"
      ],
      "text/plain": [
       "<IPython.core.display.Markdown object>"
      ]
     },
     "metadata": {},
     "output_type": "display_data"
    },
    {
     "data": {
      "text/markdown": [
       "**Projected New Coherence:** 36.7/100 (+25.0)"
      ],
      "text/plain": [
       "<IPython.core.display.Markdown object>"
      ]
     },
     "metadata": {},
     "output_type": "display_data"
    },
    {
     "data": {
      "text/markdown": [
       "### Cards to Remove:"
      ],
      "text/plain": [
       "<IPython.core.display.Markdown object>"
      ]
     },
     "metadata": {},
     "output_type": "display_data"
    },
    {
     "data": {
      "text/markdown": [
       "- **Doomed Traveler** (Theme Score: 1.0, CMC: 1.0)"
      ],
      "text/plain": [
       "<IPython.core.display.Markdown object>"
      ]
     },
     "metadata": {},
     "output_type": "display_data"
    },
    {
     "data": {
      "text/markdown": [
       "- **Heliod's Pilgrim** (Theme Score: 1.0, CMC: 3.0)"
      ],
      "text/plain": [
       "<IPython.core.display.Markdown object>"
      ]
     },
     "metadata": {},
     "output_type": "display_data"
    },
    {
     "data": {
      "text/markdown": [
       "### Cards to Add:"
      ],
      "text/plain": [
       "<IPython.core.display.Markdown object>"
      ]
     },
     "metadata": {},
     "output_type": "display_data"
    },
    {
     "data": {
      "text/markdown": [
       "- **Leonin Bola** (Theme Score: 4.0) - from Blue Control"
      ],
      "text/plain": [
       "<IPython.core.display.Markdown object>"
      ]
     },
     "metadata": {},
     "output_type": "display_data"
    },
    {
     "data": {
      "text/markdown": [
       "- **Renegade Freighter** (Theme Score: 3.0) - from Green Stompy"
      ],
      "text/plain": [
       "<IPython.core.display.Markdown object>"
      ]
     },
     "metadata": {},
     "output_type": "display_data"
    },
    {
     "name": "stdout",
     "output_type": "stream",
     "text": [
      "Applying swap to White Equipment: removing ['Doomed Traveler', \"Heliod's Pilgrim\"], adding ['Leonin Bola', 'Renegade Freighter']\n",
      "Initial White Equipment size: 13\n",
      "Moved Leonin Bola from Blue Control to White Equipment\n",
      "Moved Renegade Freighter from Green Stompy to White Equipment\n",
      "Card Doomed Traveler not color-compatible with Blue Control, finding replacement...\n",
      "Added Lose Focus to Blue Control as replacement\n",
      "Removed incompatible Doomed Traveler from White Equipment\n",
      "Card Heliod's Pilgrim not color-compatible with Green Stompy, finding replacement...\n",
      "Added Jade Avenger to Green Stompy as replacement\n",
      "Removed incompatible Heliod's Pilgrim from White Equipment\n",
      "Final White Equipment size: 13\n",
      "Swap completed successfully for White Equipment\n",
      "Coherence change: 11.68 → 11.95 (improvement: 0.27)\n",
      "✅ Improved White Equipment coherence from 11.7 to 12.0\n",
      "Optimizing specified deck: White Tokens\n",
      "Coherence change: 11.68 → 11.95 (improvement: 0.27)\n",
      "✅ Improved White Equipment coherence from 11.7 to 12.0\n",
      "Optimizing specified deck: White Tokens\n"
     ]
    },
    {
     "data": {
      "text/markdown": [
       "Analyzing deck: White Tokens"
      ],
      "text/plain": [
       "<IPython.core.display.Markdown object>"
      ]
     },
     "metadata": {},
     "output_type": "display_data"
    },
    {
     "data": {
      "text/markdown": [
       "Current coherence: 8.1"
      ],
      "text/plain": [
       "<IPython.core.display.Markdown object>"
      ]
     },
     "metadata": {},
     "output_type": "display_data"
    },
    {
     "data": {
      "text/markdown": [
       "Expected themes: Tokens"
      ],
      "text/plain": [
       "<IPython.core.display.Markdown object>"
      ]
     },
     "metadata": {},
     "output_type": "display_data"
    },
    {
     "data": {
      "text/markdown": [
       "Deck colors: W"
      ],
      "text/plain": [
       "<IPython.core.display.Markdown object>"
      ]
     },
     "metadata": {},
     "output_type": "display_data"
    },
    {
     "data": {
      "text/markdown": [
       "Composition: 11 creatures, 2 non-creatures, 0 non-basic lands (Valid: False)"
      ],
      "text/plain": [
       "<IPython.core.display.Markdown object>"
      ]
     },
     "metadata": {},
     "output_type": "display_data"
    },
    {
     "data": {
      "text/markdown": [
       "Found 65 candidate cards to consider"
      ],
      "text/plain": [
       "<IPython.core.display.Markdown object>"
      ]
     },
     "metadata": {},
     "output_type": "display_data"
    },
    {
     "data": {
      "text/markdown": [
       "Identified 13 cards as potential removal candidates"
      ],
      "text/plain": [
       "<IPython.core.display.Markdown object>"
      ]
     },
     "metadata": {},
     "output_type": "display_data"
    },
    {
     "data": {
      "text/markdown": [
       "# 🔄 Swap Recommendations for White Tokens"
      ],
      "text/plain": [
       "<IPython.core.display.Markdown object>"
      ]
     },
     "metadata": {},
     "output_type": "display_data"
    },
    {
     "data": {
      "text/markdown": [
       "**Projected New Coherence:** 53.1/100 (+45.0)"
      ],
      "text/plain": [
       "<IPython.core.display.Markdown object>"
      ]
     },
     "metadata": {},
     "output_type": "display_data"
    },
    {
     "data": {
      "text/markdown": [
       "### Cards to Remove:"
      ],
      "text/plain": [
       "<IPython.core.display.Markdown object>"
      ]
     },
     "metadata": {},
     "output_type": "display_data"
    },
    {
     "data": {
      "text/markdown": [
       "- **Suture Priest** (Theme Score: 0.0, CMC: 2.0)"
      ],
      "text/plain": [
       "<IPython.core.display.Markdown object>"
      ]
     },
     "metadata": {},
     "output_type": "display_data"
    },
    {
     "data": {
      "text/markdown": [
       "- **Coalition Honor Guard** (Theme Score: 0.0, CMC: 4.0)"
      ],
      "text/plain": [
       "<IPython.core.display.Markdown object>"
      ]
     },
     "metadata": {},
     "output_type": "display_data"
    },
    {
     "data": {
      "text/markdown": [
       "### Cards to Add:"
      ],
      "text/plain": [
       "<IPython.core.display.Markdown object>"
      ]
     },
     "metadata": {},
     "output_type": "display_data"
    },
    {
     "data": {
      "text/markdown": [
       "- **Triplicate Spirits** (Theme Score: 5.0) - from Azorius Evasion/Flying"
      ],
      "text/plain": [
       "<IPython.core.display.Markdown object>"
      ]
     },
     "metadata": {},
     "output_type": "display_data"
    },
    {
     "data": {
      "text/markdown": [
       "- **Cartouche of Solidarity** (Theme Score: 4.0) - from White Aggro"
      ],
      "text/plain": [
       "<IPython.core.display.Markdown object>"
      ]
     },
     "metadata": {},
     "output_type": "display_data"
    },
    {
     "name": "stdout",
     "output_type": "stream",
     "text": [
      "Applying swap to White Tokens: removing ['Suture Priest', 'Coalition Honor Guard'], adding ['Triplicate Spirits', 'Cartouche of Solidarity']\n",
      "Initial White Tokens size: 13\n",
      "Moved Triplicate Spirits from Azorius Evasion/Flying to White Tokens\n",
      "Moved Cartouche of Solidarity from White Aggro to White Tokens\n",
      "Moved Suture Priest from White Tokens to Azorius Evasion/Flying\n",
      "Moved Coalition Honor Guard from White Tokens to White Aggro\n",
      "Final White Tokens size: 13\n",
      "Swap completed successfully for White Tokens\n",
      "Coherence change: 8.07 → 11.24 (improvement: 3.17)\n",
      "✅ Improved White Tokens coherence from 8.1 to 11.2\n"
     ]
    }
   ],
   "source": [
    "# You can also analyze a specific deck by name\n",
    "# Example: Analyze the \"Green Big Creatures\" deck\n",
    "\n",
    "import importlib\n",
    "import src.process\n",
    "import src.improve\n",
    "importlib.reload(src.process)\n",
    "importlib.reload(src.improve)\n",
    "\n",
    "from src.process import optimize_deck_coherence, clear_swap_history\n",
    "\n",
    "# Clear any previous swap history to prevent issues with oscillation\n",
    "clear_swap_history()\n",
    "\n",
    "coherence = analyze_deck_theme_coherence_enhanced(cube_df, oracle_df)\n",
    "total_coherence = 0\n",
    "\n",
    "for i in range(1, 2):\n",
    "    for deck_name in coherence.keys():\n",
    "        cube_df = optimize_deck_coherence(cube_df=cube_df, oracle_df=oracle_df, deck_name=deck_name)"
   ]
  },
  {
   "cell_type": "code",
   "execution_count": 22,
   "id": "2a2f16e9",
   "metadata": {},
   "outputs": [
    {
     "name": "stdout",
     "output_type": "stream",
     "text": [
      "Swap history cleared\n",
      "No deck specified. Optimizing worst performing deck: Green Big Creatures\n",
      "No deck specified. Optimizing worst performing deck: Green Big Creatures\n"
     ]
    },
    {
     "data": {
      "text/markdown": [
       "Analyzing deck: Green Big Creatures"
      ],
      "text/plain": [
       "<IPython.core.display.Markdown object>"
      ]
     },
     "metadata": {},
     "output_type": "display_data"
    },
    {
     "data": {
      "text/markdown": [
       "Current coherence: 5.2"
      ],
      "text/plain": [
       "<IPython.core.display.Markdown object>"
      ]
     },
     "metadata": {},
     "output_type": "display_data"
    },
    {
     "data": {
      "text/markdown": [
       "Expected themes: Big Creatures"
      ],
      "text/plain": [
       "<IPython.core.display.Markdown object>"
      ]
     },
     "metadata": {},
     "output_type": "display_data"
    },
    {
     "data": {
      "text/markdown": [
       "Deck colors: G"
      ],
      "text/plain": [
       "<IPython.core.display.Markdown object>"
      ]
     },
     "metadata": {},
     "output_type": "display_data"
    },
    {
     "data": {
      "text/markdown": [
       "Composition: 10 creatures, 3 non-creatures, 0 non-basic lands (Valid: False)"
      ],
      "text/plain": [
       "<IPython.core.display.Markdown object>"
      ]
     },
     "metadata": {},
     "output_type": "display_data"
    },
    {
     "data": {
      "text/markdown": [
       "Found 22 candidate cards to consider"
      ],
      "text/plain": [
       "<IPython.core.display.Markdown object>"
      ]
     },
     "metadata": {},
     "output_type": "display_data"
    },
    {
     "data": {
      "text/markdown": [
       "Identified 13 cards as potential removal candidates"
      ],
      "text/plain": [
       "<IPython.core.display.Markdown object>"
      ]
     },
     "metadata": {},
     "output_type": "display_data"
    },
    {
     "data": {
      "text/markdown": [
       "# 🔄 Swap Recommendations for Green Big Creatures"
      ],
      "text/plain": [
       "<IPython.core.display.Markdown object>"
      ]
     },
     "metadata": {},
     "output_type": "display_data"
    },
    {
     "data": {
      "text/markdown": [
       "**Projected New Coherence:** 25.2/100 (+20.0)"
      ],
      "text/plain": [
       "<IPython.core.display.Markdown object>"
      ]
     },
     "metadata": {},
     "output_type": "display_data"
    },
    {
     "data": {
      "text/markdown": [
       "### Cards to Remove:"
      ],
      "text/plain": [
       "<IPython.core.display.Markdown object>"
      ]
     },
     "metadata": {},
     "output_type": "display_data"
    },
    {
     "data": {
      "text/markdown": [
       "- **Krosan Tusker** (Theme Score: 0.0, CMC: 7.0)"
      ],
      "text/plain": [
       "<IPython.core.display.Markdown object>"
      ]
     },
     "metadata": {},
     "output_type": "display_data"
    },
    {
     "data": {
      "text/markdown": [
       "- **Annoyed Altisaur** (Theme Score: 0.0, CMC: 7.0)"
      ],
      "text/plain": [
       "<IPython.core.display.Markdown object>"
      ]
     },
     "metadata": {},
     "output_type": "display_data"
    },
    {
     "data": {
      "text/markdown": [
       "### Cards to Add:"
      ],
      "text/plain": [
       "<IPython.core.display.Markdown object>"
      ]
     },
     "metadata": {},
     "output_type": "display_data"
    },
    {
     "data": {
      "text/markdown": [
       "- **Mind Stone** (Theme Score: 2.0) - from oracle pool"
      ],
      "text/plain": [
       "<IPython.core.display.Markdown object>"
      ]
     },
     "metadata": {},
     "output_type": "display_data"
    },
    {
     "data": {
      "text/markdown": [
       "- **Bonder's Ornament** (Theme Score: 2.0) - from oracle pool"
      ],
      "text/plain": [
       "<IPython.core.display.Markdown object>"
      ]
     },
     "metadata": {},
     "output_type": "display_data"
    },
    {
     "name": "stdout",
     "output_type": "stream",
     "text": [
      "Applying swap to Green Big Creatures: removing ['Krosan Tusker', 'Annoyed Altisaur'], adding ['Mind Stone', \"Bonder's Ornament\"]\n",
      "Initial Green Big Creatures size: 13\n",
      "Added Mind Stone from oracle to Green Big Creatures\n",
      "Added Bonder's Ornament from oracle to Green Big Creatures\n",
      "Removed Krosan Tusker from Green Big Creatures (replaced by oracle card)\n",
      "Removed Annoyed Altisaur from Green Big Creatures (replaced by oracle card)\n",
      "Final Green Big Creatures size: 13\n",
      "Swap completed successfully for Green Big Creatures\n",
      "Coherence change: 5.15 → 4.79 (improvement: -0.36)\n",
      "❌ No improvement achieved\n",
      "Iteration 1: Total coherence: 302.44 (improvement: 0.00)\n",
      "No further improvements found - optimization complete!\n",
      "Iteration 1: Total coherence: 302.44 (improvement: 0.00)\n",
      "No further improvements found - optimization complete!\n"
     ]
    }
   ],
   "source": [
    "# You can also analyze a specific deck by name\n",
    "# Example: Analyze the \"Green Big Creatures\" deck\n",
    "\n",
    "import importlib\n",
    "import src.process\n",
    "import src.improve\n",
    "importlib.reload(src.process)\n",
    "importlib.reload(src.improve)\n",
    "\n",
    "from src.process import optimize_deck_coherence, clear_swap_history\n",
    "\n",
    "# Clear any previous swap history to prevent issues with oscillation\n",
    "clear_swap_history()\n",
    "\n",
    "coherence = analyze_deck_theme_coherence_enhanced(cube_df, oracle_df)\n",
    "total_coherence = sum(result['overall_coherence'] for result in coherence.values())\n",
    "\n",
    "improvement = True\n",
    "iteration = 0\n",
    "max_iterations = 20  # Prevent infinite loops\n",
    "\n",
    "while improvement and iteration < max_iterations:\n",
    "    prev_total_coherence = total_coherence\n",
    "    cube_df = optimize_deck_coherence(cube_df=cube_df, oracle_df=oracle_df)\n",
    "    coherence = analyze_deck_theme_coherence_enhanced(cube_df, oracle_df)\n",
    "    total_coherence = sum(result['overall_coherence'] for result in coherence.values())\n",
    "    improvement = total_coherence > prev_total_coherence\n",
    "    iteration += 1\n",
    "    print(f\"Iteration {iteration}: Total coherence: {total_coherence:.2f} (improvement: {total_coherence - prev_total_coherence:.2f})\")\n",
    "    \n",
    "    if not improvement:\n",
    "        print(\"No further improvements found - optimization complete!\")\n",
    "    elif iteration >= max_iterations:\n",
    "        print(\"Maximum iterations reached - stopping optimization\")"
   ]
  },
  {
   "cell_type": "markdown",
   "id": "f407f31b",
   "metadata": {},
   "source": [
    "# Save to file"
   ]
  },
  {
   "cell_type": "code",
   "execution_count": 16,
   "id": "b89cb5cc",
   "metadata": {},
   "outputs": [
    {
     "name": "stdout",
     "output_type": "stream",
     "text": [
      "Exporting cube to JumpstartCube_ThePauperCube_ULTIMATE_Final_v2.csv...\n",
      "✅ Successfully exported 390 cards to JumpstartCube_ThePauperCube_ULTIMATE_Final_v2.csv\n",
      "\n",
      "📊 Export Summary:\n",
      "Total cards: 390\n",
      "Number of decks: 30\n",
      "\n",
      "Deck breakdown:\n",
      "  Blue Control: 13 cards\n",
      "  Blue Card Draw: 13 cards\n",
      "  White Equipment: 13 cards\n",
      "  White Tokens: 13 cards\n",
      "  White Aggro: 13 cards\n",
      "  Red Burn: 13 cards\n",
      "  Red Artifacts: 13 cards\n",
      "  Red Aggro: 13 cards\n",
      "  Izzet Control: 13 cards\n",
      "  Red Small Creatures: 13 cards\n",
      "  ... and 20 more decks\n"
     ]
    },
    {
     "data": {
      "text/plain": [
       "'JumpstartCube_ThePauperCube_ULTIMATE_Final_v2.csv'"
      ]
     },
     "execution_count": 16,
     "metadata": {},
     "output_type": "execute_result"
    }
   ],
   "source": [
    "from src.export import export_cube_to_csv\n",
    "\n",
    "export_cube_to_csv(cube_df, oracle_df, 'JumpstartCube_ThePauperCube_ULTIMATE_Final_v2.csv')"
   ]
  },
  {
   "cell_type": "markdown",
   "id": "0af7f3c9",
   "metadata": {},
   "source": [
    "# Analysis"
   ]
  },
  {
   "cell_type": "code",
   "execution_count": 5,
   "id": "5c068e1d",
   "metadata": {},
   "outputs": [
    {
     "data": {
      "text/markdown": [
       "### Cube is valid! 🎉"
      ],
      "text/plain": [
       "<IPython.core.display.Markdown object>"
      ]
     },
     "metadata": {},
     "output_type": "display_data"
    },
    {
     "data": {
      "text/markdown": [
       "#### Deck Summaries:"
      ],
      "text/plain": [
       "<IPython.core.display.Markdown object>"
      ]
     },
     "metadata": {},
     "output_type": "display_data"
    },
    {
     "data": {
      "text/markdown": [
       "**Azorius Evasion/Flying** 13 cards"
      ],
      "text/plain": [
       "<IPython.core.display.Markdown object>"
      ]
     },
     "metadata": {},
     "output_type": "display_data"
    },
    {
     "data": {
      "text/markdown": [
       "**Black Aggro** 13 cards"
      ],
      "text/plain": [
       "<IPython.core.display.Markdown object>"
      ]
     },
     "metadata": {},
     "output_type": "display_data"
    },
    {
     "data": {
      "text/markdown": [
       "**Black Control** 13 cards"
      ],
      "text/plain": [
       "<IPython.core.display.Markdown object>"
      ]
     },
     "metadata": {},
     "output_type": "display_data"
    },
    {
     "data": {
      "text/markdown": [
       "**Black Graveyard** 13 cards"
      ],
      "text/plain": [
       "<IPython.core.display.Markdown object>"
      ]
     },
     "metadata": {},
     "output_type": "display_data"
    },
    {
     "data": {
      "text/markdown": [
       "**Black Sacrifice** 13 cards"
      ],
      "text/plain": [
       "<IPython.core.display.Markdown object>"
      ]
     },
     "metadata": {},
     "output_type": "display_data"
    },
    {
     "data": {
      "text/markdown": [
       "**Blue Card Draw** 13 cards"
      ],
      "text/plain": [
       "<IPython.core.display.Markdown object>"
      ]
     },
     "metadata": {},
     "output_type": "display_data"
    },
    {
     "data": {
      "text/markdown": [
       "**Blue Control** 13 cards"
      ],
      "text/plain": [
       "<IPython.core.display.Markdown object>"
      ]
     },
     "metadata": {},
     "output_type": "display_data"
    },
    {
     "data": {
      "text/markdown": [
       "**Blue Flying** 13 cards"
      ],
      "text/plain": [
       "<IPython.core.display.Markdown object>"
      ]
     },
     "metadata": {},
     "output_type": "display_data"
    },
    {
     "data": {
      "text/markdown": [
       "**Blue Tempo** 13 cards"
      ],
      "text/plain": [
       "<IPython.core.display.Markdown object>"
      ]
     },
     "metadata": {},
     "output_type": "display_data"
    },
    {
     "data": {
      "text/markdown": [
       "**Boros Aggro/Beatdown** 13 cards"
      ],
      "text/plain": [
       "<IPython.core.display.Markdown object>"
      ]
     },
     "metadata": {},
     "output_type": "display_data"
    },
    {
     "data": {
      "text/markdown": [
       "**Dimir Control** 13 cards"
      ],
      "text/plain": [
       "<IPython.core.display.Markdown object>"
      ]
     },
     "metadata": {},
     "output_type": "display_data"
    },
    {
     "data": {
      "text/markdown": [
       "**Golgari Graveyard** 13 cards"
      ],
      "text/plain": [
       "<IPython.core.display.Markdown object>"
      ]
     },
     "metadata": {},
     "output_type": "display_data"
    },
    {
     "data": {
      "text/markdown": [
       "**Green Big Creatures** 13 cards"
      ],
      "text/plain": [
       "<IPython.core.display.Markdown object>"
      ]
     },
     "metadata": {},
     "output_type": "display_data"
    },
    {
     "data": {
      "text/markdown": [
       "**Green Midrange** 13 cards"
      ],
      "text/plain": [
       "<IPython.core.display.Markdown object>"
      ]
     },
     "metadata": {},
     "output_type": "display_data"
    },
    {
     "data": {
      "text/markdown": [
       "**Green Ramp** 13 cards"
      ],
      "text/plain": [
       "<IPython.core.display.Markdown object>"
      ]
     },
     "metadata": {},
     "output_type": "display_data"
    },
    {
     "data": {
      "text/markdown": [
       "**Green Stompy** 13 cards"
      ],
      "text/plain": [
       "<IPython.core.display.Markdown object>"
      ]
     },
     "metadata": {},
     "output_type": "display_data"
    },
    {
     "data": {
      "text/markdown": [
       "**Gruul Aggro/Beatdown** 13 cards"
      ],
      "text/plain": [
       "<IPython.core.display.Markdown object>"
      ]
     },
     "metadata": {},
     "output_type": "display_data"
    },
    {
     "data": {
      "text/markdown": [
       "**Izzet Control** 13 cards"
      ],
      "text/plain": [
       "<IPython.core.display.Markdown object>"
      ]
     },
     "metadata": {},
     "output_type": "display_data"
    },
    {
     "data": {
      "text/markdown": [
       "**Orzhov Control** 13 cards"
      ],
      "text/plain": [
       "<IPython.core.display.Markdown object>"
      ]
     },
     "metadata": {},
     "output_type": "display_data"
    },
    {
     "data": {
      "text/markdown": [
       "**Rakdos Burn/Damage** 13 cards"
      ],
      "text/plain": [
       "<IPython.core.display.Markdown object>"
      ]
     },
     "metadata": {},
     "output_type": "display_data"
    },
    {
     "data": {
      "text/markdown": [
       "**Red Aggro** 13 cards"
      ],
      "text/plain": [
       "<IPython.core.display.Markdown object>"
      ]
     },
     "metadata": {},
     "output_type": "display_data"
    },
    {
     "data": {
      "text/markdown": [
       "**Red Artifacts** 13 cards"
      ],
      "text/plain": [
       "<IPython.core.display.Markdown object>"
      ]
     },
     "metadata": {},
     "output_type": "display_data"
    },
    {
     "data": {
      "text/markdown": [
       "**Red Burn** 13 cards"
      ],
      "text/plain": [
       "<IPython.core.display.Markdown object>"
      ]
     },
     "metadata": {},
     "output_type": "display_data"
    },
    {
     "data": {
      "text/markdown": [
       "**Red Small Creatures** 13 cards"
      ],
      "text/plain": [
       "<IPython.core.display.Markdown object>"
      ]
     },
     "metadata": {},
     "output_type": "display_data"
    },
    {
     "data": {
      "text/markdown": [
       "**Selesnya Control** 13 cards"
      ],
      "text/plain": [
       "<IPython.core.display.Markdown object>"
      ]
     },
     "metadata": {},
     "output_type": "display_data"
    },
    {
     "data": {
      "text/markdown": [
       "**Simic Control** 13 cards"
      ],
      "text/plain": [
       "<IPython.core.display.Markdown object>"
      ]
     },
     "metadata": {},
     "output_type": "display_data"
    },
    {
     "data": {
      "text/markdown": [
       "**White Aggro** 13 cards"
      ],
      "text/plain": [
       "<IPython.core.display.Markdown object>"
      ]
     },
     "metadata": {},
     "output_type": "display_data"
    },
    {
     "data": {
      "text/markdown": [
       "**White Control** 13 cards"
      ],
      "text/plain": [
       "<IPython.core.display.Markdown object>"
      ]
     },
     "metadata": {},
     "output_type": "display_data"
    },
    {
     "data": {
      "text/markdown": [
       "**White Equipment** 13 cards"
      ],
      "text/plain": [
       "<IPython.core.display.Markdown object>"
      ]
     },
     "metadata": {},
     "output_type": "display_data"
    },
    {
     "data": {
      "text/markdown": [
       "**White Tokens** 13 cards"
      ],
      "text/plain": [
       "<IPython.core.display.Markdown object>"
      ]
     },
     "metadata": {},
     "output_type": "display_data"
    }
   ],
   "source": [
    "display_validate_results(validate_jumpstart_cube(cube_df, oracle_df))"
   ]
  },
  {
   "cell_type": "code",
   "execution_count": 6,
   "id": "3bc86d27",
   "metadata": {},
   "outputs": [
    {
     "name": "stdout",
     "output_type": "stream",
     "text": [
      "Repairing cube deck sizes...\n"
     ]
    }
   ],
   "source": [
    "# Import and use the repair function from improve.py\n",
    "from src.improve import repair_cube_deck_sizes\n",
    "\n",
    "# Repair the cube\n",
    "print(\"Repairing cube deck sizes...\")\n",
    "cube_df = repair_cube_deck_sizes(cube_df, oracle_df)"
   ]
  },
  {
   "cell_type": "code",
   "execution_count": 7,
   "id": "78b4d083",
   "metadata": {},
   "outputs": [
    {
     "name": "stdout",
     "output_type": "stream",
     "text": [
      "\n",
      "Validation after repair:\n"
     ]
    },
    {
     "data": {
      "text/markdown": [
       "### Cube is valid! 🎉"
      ],
      "text/plain": [
       "<IPython.core.display.Markdown object>"
      ]
     },
     "metadata": {},
     "output_type": "display_data"
    },
    {
     "data": {
      "text/markdown": [
       "#### Deck Summaries:"
      ],
      "text/plain": [
       "<IPython.core.display.Markdown object>"
      ]
     },
     "metadata": {},
     "output_type": "display_data"
    },
    {
     "data": {
      "text/markdown": [
       "**Azorius Evasion/Flying** 13 cards"
      ],
      "text/plain": [
       "<IPython.core.display.Markdown object>"
      ]
     },
     "metadata": {},
     "output_type": "display_data"
    },
    {
     "data": {
      "text/markdown": [
       "**Black Aggro** 13 cards"
      ],
      "text/plain": [
       "<IPython.core.display.Markdown object>"
      ]
     },
     "metadata": {},
     "output_type": "display_data"
    },
    {
     "data": {
      "text/markdown": [
       "**Black Control** 13 cards"
      ],
      "text/plain": [
       "<IPython.core.display.Markdown object>"
      ]
     },
     "metadata": {},
     "output_type": "display_data"
    },
    {
     "data": {
      "text/markdown": [
       "**Black Graveyard** 13 cards"
      ],
      "text/plain": [
       "<IPython.core.display.Markdown object>"
      ]
     },
     "metadata": {},
     "output_type": "display_data"
    },
    {
     "data": {
      "text/markdown": [
       "**Black Sacrifice** 13 cards"
      ],
      "text/plain": [
       "<IPython.core.display.Markdown object>"
      ]
     },
     "metadata": {},
     "output_type": "display_data"
    },
    {
     "data": {
      "text/markdown": [
       "**Blue Card Draw** 13 cards"
      ],
      "text/plain": [
       "<IPython.core.display.Markdown object>"
      ]
     },
     "metadata": {},
     "output_type": "display_data"
    },
    {
     "data": {
      "text/markdown": [
       "**Blue Control** 13 cards"
      ],
      "text/plain": [
       "<IPython.core.display.Markdown object>"
      ]
     },
     "metadata": {},
     "output_type": "display_data"
    },
    {
     "data": {
      "text/markdown": [
       "**Blue Flying** 13 cards"
      ],
      "text/plain": [
       "<IPython.core.display.Markdown object>"
      ]
     },
     "metadata": {},
     "output_type": "display_data"
    },
    {
     "data": {
      "text/markdown": [
       "**Blue Tempo** 13 cards"
      ],
      "text/plain": [
       "<IPython.core.display.Markdown object>"
      ]
     },
     "metadata": {},
     "output_type": "display_data"
    },
    {
     "data": {
      "text/markdown": [
       "**Boros Aggro/Beatdown** 13 cards"
      ],
      "text/plain": [
       "<IPython.core.display.Markdown object>"
      ]
     },
     "metadata": {},
     "output_type": "display_data"
    },
    {
     "data": {
      "text/markdown": [
       "**Dimir Control** 13 cards"
      ],
      "text/plain": [
       "<IPython.core.display.Markdown object>"
      ]
     },
     "metadata": {},
     "output_type": "display_data"
    },
    {
     "data": {
      "text/markdown": [
       "**Golgari Graveyard** 13 cards"
      ],
      "text/plain": [
       "<IPython.core.display.Markdown object>"
      ]
     },
     "metadata": {},
     "output_type": "display_data"
    },
    {
     "data": {
      "text/markdown": [
       "**Green Big Creatures** 13 cards"
      ],
      "text/plain": [
       "<IPython.core.display.Markdown object>"
      ]
     },
     "metadata": {},
     "output_type": "display_data"
    },
    {
     "data": {
      "text/markdown": [
       "**Green Midrange** 13 cards"
      ],
      "text/plain": [
       "<IPython.core.display.Markdown object>"
      ]
     },
     "metadata": {},
     "output_type": "display_data"
    },
    {
     "data": {
      "text/markdown": [
       "**Green Ramp** 13 cards"
      ],
      "text/plain": [
       "<IPython.core.display.Markdown object>"
      ]
     },
     "metadata": {},
     "output_type": "display_data"
    },
    {
     "data": {
      "text/markdown": [
       "**Green Stompy** 13 cards"
      ],
      "text/plain": [
       "<IPython.core.display.Markdown object>"
      ]
     },
     "metadata": {},
     "output_type": "display_data"
    },
    {
     "data": {
      "text/markdown": [
       "**Gruul Aggro/Beatdown** 13 cards"
      ],
      "text/plain": [
       "<IPython.core.display.Markdown object>"
      ]
     },
     "metadata": {},
     "output_type": "display_data"
    },
    {
     "data": {
      "text/markdown": [
       "**Izzet Control** 13 cards"
      ],
      "text/plain": [
       "<IPython.core.display.Markdown object>"
      ]
     },
     "metadata": {},
     "output_type": "display_data"
    },
    {
     "data": {
      "text/markdown": [
       "**Orzhov Control** 13 cards"
      ],
      "text/plain": [
       "<IPython.core.display.Markdown object>"
      ]
     },
     "metadata": {},
     "output_type": "display_data"
    },
    {
     "data": {
      "text/markdown": [
       "**Rakdos Burn/Damage** 13 cards"
      ],
      "text/plain": [
       "<IPython.core.display.Markdown object>"
      ]
     },
     "metadata": {},
     "output_type": "display_data"
    },
    {
     "data": {
      "text/markdown": [
       "**Red Aggro** 13 cards"
      ],
      "text/plain": [
       "<IPython.core.display.Markdown object>"
      ]
     },
     "metadata": {},
     "output_type": "display_data"
    },
    {
     "data": {
      "text/markdown": [
       "**Red Artifacts** 13 cards"
      ],
      "text/plain": [
       "<IPython.core.display.Markdown object>"
      ]
     },
     "metadata": {},
     "output_type": "display_data"
    },
    {
     "data": {
      "text/markdown": [
       "**Red Burn** 13 cards"
      ],
      "text/plain": [
       "<IPython.core.display.Markdown object>"
      ]
     },
     "metadata": {},
     "output_type": "display_data"
    },
    {
     "data": {
      "text/markdown": [
       "**Red Small Creatures** 13 cards"
      ],
      "text/plain": [
       "<IPython.core.display.Markdown object>"
      ]
     },
     "metadata": {},
     "output_type": "display_data"
    },
    {
     "data": {
      "text/markdown": [
       "**Selesnya Control** 13 cards"
      ],
      "text/plain": [
       "<IPython.core.display.Markdown object>"
      ]
     },
     "metadata": {},
     "output_type": "display_data"
    },
    {
     "data": {
      "text/markdown": [
       "**Simic Control** 13 cards"
      ],
      "text/plain": [
       "<IPython.core.display.Markdown object>"
      ]
     },
     "metadata": {},
     "output_type": "display_data"
    },
    {
     "data": {
      "text/markdown": [
       "**White Aggro** 13 cards"
      ],
      "text/plain": [
       "<IPython.core.display.Markdown object>"
      ]
     },
     "metadata": {},
     "output_type": "display_data"
    },
    {
     "data": {
      "text/markdown": [
       "**White Control** 13 cards"
      ],
      "text/plain": [
       "<IPython.core.display.Markdown object>"
      ]
     },
     "metadata": {},
     "output_type": "display_data"
    },
    {
     "data": {
      "text/markdown": [
       "**White Equipment** 13 cards"
      ],
      "text/plain": [
       "<IPython.core.display.Markdown object>"
      ]
     },
     "metadata": {},
     "output_type": "display_data"
    },
    {
     "data": {
      "text/markdown": [
       "**White Tokens** 13 cards"
      ],
      "text/plain": [
       "<IPython.core.display.Markdown object>"
      ]
     },
     "metadata": {},
     "output_type": "display_data"
    }
   ],
   "source": [
    "# Validate the cube after repair\n",
    "print(\"\\nValidation after repair:\")\n",
    "display_validate_results(validate_jumpstart_cube(cube_df, oracle_df))"
   ]
  },
  {
   "cell_type": "code",
   "execution_count": 9,
   "id": "2c4d7fff",
   "metadata": {},
   "outputs": [],
   "source": [
    "# from src.coherence import display_coherence_analysis_enhanced\n",
    "\n",
    "# display_coherence_analysis_enhanced(analyze_deck_theme_coherence_enhanced(cube_df, oracle_df))"
   ]
  },
  {
   "cell_type": "code",
   "execution_count": 17,
   "id": "1c919115",
   "metadata": {},
   "outputs": [
    {
     "name": "stdout",
     "output_type": "stream",
     "text": [
      "Extracted themes for 'Black Aggro': ['Aggro']\n",
      "\n",
      "=== REMOVED CARDS (should have high aggro scores) ===\n",
      "Loathsome Curator: Score=1.0, Themes=['Aggro']\n",
      "  Type: Creature - Gorgon Wizard\n",
      "  CMC: 5\n",
      "  Oracle: Exploit (When this creature enters, you may sacrifice a creature.) | Menace | When this creature exploits a creature, destroy target creature you don't control with mana value 3 or less.\n",
      "\n",
      "Troll of Khazad-dûm: Score=1.0, Themes=['Aggro']\n",
      "  Type: Creature - Troll\n",
      "  CMC: 6\n",
      "  Oracle: This creature can't be blocked except by three or more creatures. | Swampcycling {1} ({1}, Discard this card: Search your library for a Swamp card, reveal it, put it into your hand, then shuffle.)\n",
      "\n",
      "=== ADDED CARDS (should have low aggro scores) ===\n",
      "Pestilence: Score=2.0, Themes=['Aggro']\n",
      "  Type: Enchantment\n",
      "  CMC: 4\n",
      "  Oracle: At the beginning of the end step, if no creatures are on the battlefield, sacrifice this enchantment. | {B}: This enchantment deals 1 damage to each creature and each player.\n",
      "\n",
      "Feed the Swarm: Score=1.0, Themes=['Aggro']\n",
      "  Type: Sorcery\n",
      "  CMC: 2\n",
      "  Oracle: Destroy target creature or enchantment an opponent controls. You lose life equal to that permanent's mana value.\n"
     ]
    }
   ],
   "source": [
    "# Debug: Check what themes are extracted for Black Aggro\n",
    "from src.deck import extract_theme_from_deck_name, calculate_card_theme_score\n",
    "\n",
    "deck_name = \"Black Aggro\"\n",
    "extracted_themes = extract_theme_from_deck_name(deck_name)\n",
    "print(f\"Extracted themes for '{deck_name}': {extracted_themes}\")\n",
    "\n",
    "# Check theme scores for the problematic cards\n",
    "print(\"\\n=== REMOVED CARDS (should have high aggro scores) ===\")\n",
    "\n",
    "# Loathsome Curator\n",
    "curator = oracle_df[oracle_df['name'] == 'Loathsome Curator']\n",
    "if not curator.empty:\n",
    "    score, themes = calculate_card_theme_score(curator.iloc[0], extracted_themes)\n",
    "    print(f\"Loathsome Curator: Score={score:.1f}, Themes={themes}\")\n",
    "    print(f\"  Type: {curator.iloc[0]['Type']}\")\n",
    "    print(f\"  CMC: {curator.iloc[0]['CMC']}\")\n",
    "    print(f\"  Oracle: {curator.iloc[0]['Oracle Text']}\")\n",
    "\n",
    "print()\n",
    "# Troll of Khazad-dûm  \n",
    "troll = oracle_df[oracle_df['name'] == 'Troll of Khazad-dûm']\n",
    "if not troll.empty:\n",
    "    score, themes = calculate_card_theme_score(troll.iloc[0], extracted_themes)\n",
    "    print(f\"Troll of Khazad-dûm: Score={score:.1f}, Themes={themes}\")\n",
    "    print(f\"  Type: {troll.iloc[0]['Type']}\")\n",
    "    print(f\"  CMC: {troll.iloc[0]['CMC']}\")\n",
    "    print(f\"  Oracle: {troll.iloc[0]['Oracle Text']}\")\n",
    "\n",
    "print(\"\\n=== ADDED CARDS (should have low aggro scores) ===\")\n",
    "\n",
    "# Pestilence\n",
    "pestilence = oracle_df[oracle_df['name'] == 'Pestilence']\n",
    "if not pestilence.empty:\n",
    "    score, themes = calculate_card_theme_score(pestilence.iloc[0], extracted_themes)\n",
    "    print(f\"Pestilence: Score={score:.1f}, Themes={themes}\")\n",
    "    print(f\"  Type: {pestilence.iloc[0]['Type']}\")\n",
    "    print(f\"  CMC: {pestilence.iloc[0]['CMC']}\")\n",
    "    print(f\"  Oracle: {pestilence.iloc[0]['Oracle Text']}\")\n",
    "\n",
    "print()\n",
    "# Feed the Swarm\n",
    "feed = oracle_df[oracle_df['name'] == 'Feed the Swarm']\n",
    "if not feed.empty:\n",
    "    score, themes = calculate_card_theme_score(feed.iloc[0], extracted_themes)\n",
    "    print(f\"Feed the Swarm: Score={score:.1f}, Themes={themes}\")\n",
    "    print(f\"  Type: {feed.iloc[0]['Type']}\")\n",
    "    print(f\"  CMC: {feed.iloc[0]['CMC']}\")\n",
    "    print(f\"  Oracle: {feed.iloc[0]['Oracle Text']}\")"
   ]
  },
  {
   "cell_type": "code",
   "execution_count": 18,
   "id": "06b56db7",
   "metadata": {},
   "outputs": [
    {
     "name": "stdout",
     "output_type": "stream",
     "text": [
      "=== AGGRO THEME KEYWORDS ===\n",
      "Aggro keywords: ['haste', 'attack', 'damage', 'creature', 'power', 'quick', 'rush', 'fast']\n",
      "\n",
      "=== BETTER BLACK AGGRO CARD EXAMPLES ===\n",
      "Top aggressive black creatures (low CMC):\n",
      " 1. Aether Poisoner (CMC 2) - Score: 3.0 - ['Aggro']\n",
      " 2. Grasping Scoundrel (CMC 1) - Score: 2.0 - ['Aggro']\n",
      " 3. Nested Shambler (CMC 1) - Score: 2.0 - ['Aggro']\n",
      " 4. Dauthi Slayer (CMC 2) - Score: 2.0 - ['Aggro']\n",
      " 5. Mardu Skullhunter (CMC 2) - Score: 2.0 - ['Aggro']\n",
      " 6. Crypt Rats (CMC 3) - Score: 2.0 - ['Aggro']\n",
      " 7. Carnophage (CMC 1) - Score: 1.0 - ['Aggro']\n",
      " 8. Carrion Feeder (CMC 1) - Score: 1.0 - ['Aggro']\n",
      " 9. Ecstatic Awakener (CMC 1) - Score: 1.0 - ['Aggro']\n",
      "10. Infestation Sage (CMC 1) - Score: 1.0 - ['Aggro']\n",
      "\n",
      "=== HASTE CREATURES (key aggro ability) ===\n",
      "Black creatures with haste:\n",
      "- First-Sphere Gargantua (CMC 6): When this creature enters, you draw a card and you lose 1 life. | Unearth {2}{B} ({2}{B}: Return thi...\n",
      "\n",
      "=== PROBLEM ANALYSIS ===\n",
      "Issues with the swap:\n",
      "1. Loathsome Curator (CMC 5) and Troll (CMC 6) are expensive for aggro\n",
      "2. BUT Pestilence and Feed the Swarm are control cards, not aggro!\n",
      "3. Algorithm should prefer cheap aggressive creatures like:\n",
      "   - Vampire Lacerator (CMC 1 with good stats)\n",
      "   - Cards with haste, menace, or other aggressive abilities\n",
      "   - Direct damage spells, not board wipes or removal\n"
     ]
    }
   ],
   "source": [
    "# Check what makes a good aggro card and find better black examples\n",
    "from src.consts import theme_keywords\n",
    "\n",
    "print(\"=== AGGRO THEME KEYWORDS ===\")\n",
    "aggro_keywords = theme_keywords['Aggro']\n",
    "print(f\"Aggro keywords: {aggro_keywords}\")\n",
    "\n",
    "print(\"\\n=== BETTER BLACK AGGRO CARD EXAMPLES ===\")\n",
    "\n",
    "# Look for aggressive black creatures in oracle\n",
    "black_creatures = oracle_df[\n",
    "    (oracle_df['Color'] == 'B') & \n",
    "    (oracle_df['Type'].str.contains('Creature', na=False)) &\n",
    "    (oracle_df['CMC'] <= 3)  # Low cost for aggro\n",
    "].copy()\n",
    "\n",
    "# Score them for aggro theme\n",
    "aggro_scores = []\n",
    "for _, card in black_creatures.iterrows():\n",
    "    score, themes = calculate_card_theme_score(card, ['Aggro'])\n",
    "    if score > 0:\n",
    "        aggro_scores.append((card['name'], score, themes, card['CMC'], card['Type']))\n",
    "\n",
    "# Sort by score and show top examples\n",
    "aggro_scores.sort(key=lambda x: x[1], reverse=True)\n",
    "\n",
    "print(\"Top aggressive black creatures (low CMC):\")\n",
    "for i, (name, score, themes, cmc, card_type) in enumerate(aggro_scores[:10]):\n",
    "    print(f\"{i+1:2}. {name} (CMC {cmc}) - Score: {score:.1f} - {themes}\")\n",
    "\n",
    "print(\"\\n=== HASTE CREATURES (key aggro ability) ===\")\n",
    "haste_creatures = oracle_df[\n",
    "    (oracle_df['Color'] == 'B') & \n",
    "    (oracle_df['Type'].str.contains('Creature', na=False)) &\n",
    "    (oracle_df['Oracle Text'].str.contains('haste', case=False, na=False))\n",
    "]\n",
    "\n",
    "print(\"Black creatures with haste:\")\n",
    "for _, card in haste_creatures.head(5).iterrows():\n",
    "    print(f\"- {card['name']} (CMC {card['CMC']}): {card['Oracle Text'][:100]}...\")\n",
    "\n",
    "print(\"\\n=== PROBLEM ANALYSIS ===\")\n",
    "print(\"Issues with the swap:\")\n",
    "print(\"1. Loathsome Curator (CMC 5) and Troll (CMC 6) are expensive for aggro\")\n",
    "print(\"2. BUT Pestilence and Feed the Swarm are control cards, not aggro!\")\n",
    "print(\"3. Algorithm should prefer cheap aggressive creatures like:\")\n",
    "print(\"   - Vampire Lacerator (CMC 1 with good stats)\")\n",
    "print(\"   - Cards with haste, menace, or other aggressive abilities\")\n",
    "print(\"   - Direct damage spells, not board wipes or removal\")"
   ]
  },
  {
   "cell_type": "code",
   "execution_count": 19,
   "id": "d45704bc",
   "metadata": {},
   "outputs": [
    {
     "name": "stdout",
     "output_type": "stream",
     "text": [
      "=== TESTING IMPROVED AGGRO SCORING ===\n",
      "\n",
      "=== RETESTING PROBLEMATIC CARDS ===\n",
      "Loathsome Curator    (CMC 5) - Score:  2.0 - Creature - Gorgon Wizard\n",
      "Troll of Khazad-dûm  (CMC 6) - Score:  0.0 - Creature - Troll\n",
      "Pestilence           (CMC 4) - Score:  0.0 - Enchantment\n",
      "Feed the Swarm       (CMC 2) - Score:  0.0 - Sorcery\n",
      "Vampire Lacerator    (CMC 1) - Score:  3.0 - Creature - Vampire Warrior\n",
      "Carrion Feeder       (CMC 1) - Score:  4.0 - Creature - Zombie\n",
      "Dauthi Slayer        (CMC 2) - Score:  5.0 - Creature - Dauthi Soldier\n",
      "\n",
      "=== TOP AGGRO CANDIDATES (should be cheap creatures) ===\n",
      " 1. Nezumi Linkbreaker        (CMC 1) - Score:  7.0 ✅\n",
      " 2. Unwilling Ingredient      (CMC 1) - Score:  6.0 ✅\n",
      " 3. Grasping Scoundrel        (CMC 1) - Score:  5.0 ✅\n",
      " 4. Nested Shambler           (CMC 1) - Score:  5.0 ✅\n",
      " 5. Plagued Rusalka           (CMC 1) - Score:  5.0 ✅\n",
      " 6. Aether Poisoner           (CMC 2) - Score:  5.0 ✅\n",
      " 7. Dauthi Slayer             (CMC 2) - Score:  5.0 ✅\n",
      " 8. Scurrilous Sentry         (CMC 4) - Score:  5.0 ✅\n",
      " 9. Carrion Feeder            (CMC 1) - Score:  4.0 ✅\n",
      "10. Infestation Sage          (CMC 1) - Score:  4.0 ✅\n",
      "11. Retrofitted Transmogrant  (CMC 1) - Score:  4.0 ✅\n",
      "12. Gixian Infiltrator        (CMC 2) - Score:  4.0 ✅\n",
      "13. Guildsworn Prowler        (CMC 2) - Score:  4.0 ✅\n",
      "14. Mardu Skullhunter         (CMC 2) - Score:  4.0 ✅\n",
      "15. Mire Triton               (CMC 2) - Score:  4.0 ✅\n"
     ]
    }
   ],
   "source": [
    "# Test the improved aggro scoring\n",
    "print(\"=== TESTING IMPROVED AGGRO SCORING ===\")\n",
    "\n",
    "# Reload modules to get the updated scoring\n",
    "import importlib\n",
    "import src.deck\n",
    "import src.consts\n",
    "importlib.reload(src.consts)\n",
    "importlib.reload(src.deck)\n",
    "\n",
    "from src.deck import calculate_card_theme_score\n",
    "\n",
    "print(\"\\n=== RETESTING PROBLEMATIC CARDS ===\")\n",
    "\n",
    "# Test the cards that were wrongly swapped\n",
    "test_cards = [\n",
    "    'Loathsome Curator',    # Should be lower (expensive creature)\n",
    "    'Troll of Khazad-dûm',  # Should be lower (expensive creature) \n",
    "    'Pestilence',          # Should be MUCH lower (board wipe)\n",
    "    'Feed the Swarm',      # Should be lower (removal spell)\n",
    "    'Vampire Lacerator',   # Should be higher (cheap aggressive)\n",
    "    'Carrion Feeder',      # Should be higher (cheap creature)\n",
    "    'Dauthi Slayer'        # Should be higher (cheap + evasion)\n",
    "]\n",
    "\n",
    "for card_name in test_cards:\n",
    "    card_data = oracle_df[oracle_df['name'] == card_name]\n",
    "    if not card_data.empty:\n",
    "        card = card_data.iloc[0]\n",
    "        score, themes = calculate_card_theme_score(card, ['Aggro'])\n",
    "        print(f\"{card_name:20} (CMC {card['CMC']}) - Score: {score:4.1f} - {card['Type']}\")\n",
    "        if score < 0:\n",
    "            print(f\"    ✅ Correctly penalized: {themes}\")\n",
    "        elif card_name in ['Pestilence', 'Feed the Swarm'] and score > 0:\n",
    "            print(f\"    ❌ Still scoring positive for control card!\")\n",
    "    else:\n",
    "        print(f\"{card_name:20} - NOT FOUND\")\n",
    "\n",
    "print(\"\\n=== TOP AGGRO CANDIDATES (should be cheap creatures) ===\")\n",
    "black_creatures = oracle_df[\n",
    "    (oracle_df['Color'] == 'B') & \n",
    "    (oracle_df['Type'].str.contains('Creature', na=False)) &\n",
    "    (oracle_df['CMC'] <= 4)  # Include CMC 4 to see penalty in action\n",
    "].copy()\n",
    "\n",
    "aggro_scores = []\n",
    "for _, card in black_creatures.iterrows():\n",
    "    score, themes = calculate_card_theme_score(card, ['Aggro'])\n",
    "    if score != 0:  # Include negative scores to see penalties\n",
    "        aggro_scores.append((card['name'], score, card['CMC'], card['Type']))\n",
    "\n",
    "aggro_scores.sort(key=lambda x: x[1], reverse=True)\n",
    "\n",
    "for i, (name, score, cmc, card_type) in enumerate(aggro_scores[:15]):\n",
    "    status = \"✅\" if score > 0 else \"❌\"\n",
    "    print(f\"{i+1:2}. {name:25} (CMC {cmc}) - Score: {score:4.1f} {status}\")"
   ]
  },
  {
   "cell_type": "code",
   "execution_count": 20,
   "id": "7766df79",
   "metadata": {},
   "outputs": [
    {
     "name": "stdout",
     "output_type": "stream",
     "text": [
      "=== FINAL SCORING TEST ===\n",
      "Loathsome Curator    - Aggro:  1.0 | Control:  3.0\n",
      "Pestilence           - Aggro:  0.0 | Control:  6.0\n",
      "Feed the Swarm       - Aggro:  0.0 | Control:  5.0\n",
      "Vampire Lacerator    - Aggro:  3.0 | Control:  0.0\n",
      "Dauthi Slayer        - Aggro:  5.0 | Control:  0.0\n",
      "\n",
      "=== TESTING IMPROVED OPTIMIZATION ===\n",
      "Running a single optimization on Black Aggro to see if it makes better choices...\n",
      "Swap history cleared\n",
      "Optimizing specified deck: Black Aggro\n"
     ]
    },
    {
     "data": {
      "text/markdown": [
       "Analyzing deck: Black Aggro"
      ],
      "text/plain": [
       "<IPython.core.display.Markdown object>"
      ]
     },
     "metadata": {},
     "output_type": "display_data"
    },
    {
     "data": {
      "text/markdown": [
       "Current coherence: 7.0"
      ],
      "text/plain": [
       "<IPython.core.display.Markdown object>"
      ]
     },
     "metadata": {},
     "output_type": "display_data"
    },
    {
     "data": {
      "text/markdown": [
       "Expected themes: Aggro"
      ],
      "text/plain": [
       "<IPython.core.display.Markdown object>"
      ]
     },
     "metadata": {},
     "output_type": "display_data"
    },
    {
     "data": {
      "text/markdown": [
       "Deck colors: B"
      ],
      "text/plain": [
       "<IPython.core.display.Markdown object>"
      ]
     },
     "metadata": {},
     "output_type": "display_data"
    },
    {
     "data": {
      "text/markdown": [
       "Composition: 12 creatures, 1 non-creatures, 0 non-basic lands (Valid: False)"
      ],
      "text/plain": [
       "<IPython.core.display.Markdown object>"
      ]
     },
     "metadata": {},
     "output_type": "display_data"
    },
    {
     "data": {
      "text/markdown": [
       "Found 51 candidate cards to consider"
      ],
      "text/plain": [
       "<IPython.core.display.Markdown object>"
      ]
     },
     "metadata": {},
     "output_type": "display_data"
    },
    {
     "data": {
      "text/markdown": [
       "Identified 13 cards as potential removal candidates"
      ],
      "text/plain": [
       "<IPython.core.display.Markdown object>"
      ]
     },
     "metadata": {},
     "output_type": "display_data"
    },
    {
     "data": {
      "text/markdown": [
       "# 🔄 Swap Recommendations for Black Aggro"
      ],
      "text/plain": [
       "<IPython.core.display.Markdown object>"
      ]
     },
     "metadata": {},
     "output_type": "display_data"
    },
    {
     "data": {
      "text/markdown": [
       "**Projected New Coherence:** 77.0/100 (+70.0)"
      ],
      "text/plain": [
       "<IPython.core.display.Markdown object>"
      ]
     },
     "metadata": {},
     "output_type": "display_data"
    },
    {
     "data": {
      "text/markdown": [
       "### Cards to Remove:"
      ],
      "text/plain": [
       "<IPython.core.display.Markdown object>"
      ]
     },
     "metadata": {},
     "output_type": "display_data"
    },
    {
     "data": {
      "text/markdown": [
       "- **Loathsome Curator** (Theme Score: 0.0, CMC: 5.0)"
      ],
      "text/plain": [
       "<IPython.core.display.Markdown object>"
      ]
     },
     "metadata": {},
     "output_type": "display_data"
    },
    {
     "data": {
      "text/markdown": [
       "- **Troll of Khazad-dûm** (Theme Score: 0.0, CMC: 6.0)"
      ],
      "text/plain": [
       "<IPython.core.display.Markdown object>"
      ]
     },
     "metadata": {},
     "output_type": "display_data"
    },
    {
     "data": {
      "text/markdown": [
       "### Cards to Add:"
      ],
      "text/plain": [
       "<IPython.core.display.Markdown object>"
      ]
     },
     "metadata": {},
     "output_type": "display_data"
    },
    {
     "data": {
      "text/markdown": [
       "- **Nezumi Linkbreaker** (Theme Score: 7.0) - from Black Graveyard"
      ],
      "text/plain": [
       "<IPython.core.display.Markdown object>"
      ]
     },
     "metadata": {},
     "output_type": "display_data"
    },
    {
     "data": {
      "text/markdown": [
       "- **Renegade Freighter** (Theme Score: 7.0) - from Green Stompy"
      ],
      "text/plain": [
       "<IPython.core.display.Markdown object>"
      ]
     },
     "metadata": {},
     "output_type": "display_data"
    },
    {
     "name": "stdout",
     "output_type": "stream",
     "text": [
      "Applying swap to Black Aggro: removing ['Loathsome Curator', 'Troll of Khazad-dûm'], adding ['Nezumi Linkbreaker', 'Renegade Freighter']\n",
      "Initial Black Aggro size: 13\n",
      "Moved Nezumi Linkbreaker from Black Graveyard to Black Aggro\n",
      "Moved Renegade Freighter from Green Stompy to Black Aggro\n",
      "Moved Loathsome Curator from Black Aggro to Black Graveyard\n",
      "Card Troll of Khazad-dûm not color-compatible with Green Stompy, finding replacement...\n",
      "Added Nyxborn Hydra to Green Stompy as replacement\n",
      "Removed incompatible Troll of Khazad-dûm from Black Aggro\n",
      "Final Black Aggro size: 13\n",
      "Swap completed successfully for Black Aggro\n",
      "Coherence change: 7.01 → 6.97 (improvement: -0.04)\n",
      "❌ No improvement achieved\n",
      "\n",
      "✅ If you see better card choices above, the fix is working!\n",
      "🔧 You can now run the full optimization loop with confidence\n"
     ]
    }
   ],
   "source": [
    "# Final test and demonstration of improved optimization\n",
    "print(\"=== FINAL SCORING TEST ===\")\n",
    "\n",
    "# Reload all modules\n",
    "import importlib\n",
    "import src.deck\n",
    "import src.improve\n",
    "import src.process\n",
    "importlib.reload(src.deck)\n",
    "importlib.reload(src.improve)\n",
    "importlib.reload(src.process)\n",
    "\n",
    "from src.deck import calculate_card_theme_score\n",
    "from src.process import optimize_deck_coherence, clear_swap_history\n",
    "\n",
    "# Test the final scores\n",
    "test_cards = ['Loathsome Curator', 'Pestilence', 'Feed the Swarm', 'Vampire Lacerator', 'Dauthi Slayer']\n",
    "\n",
    "for card_name in test_cards:\n",
    "    card_data = oracle_df[oracle_df['name'] == card_name]\n",
    "    if not card_data.empty:\n",
    "        card = card_data.iloc[0]\n",
    "        aggro_score, aggro_themes = calculate_card_theme_score(card, ['Aggro'])\n",
    "        control_score, control_themes = calculate_card_theme_score(card, ['Control'])\n",
    "        print(f\"{card_name:20} - Aggro: {aggro_score:4.1f} | Control: {control_score:4.1f}\")\n",
    "\n",
    "print(\"\\n=== TESTING IMPROVED OPTIMIZATION ===\")\n",
    "print(\"Running a single optimization on Black Aggro to see if it makes better choices...\")\n",
    "\n",
    "clear_swap_history()\n",
    "\n",
    "# Test on Black Aggro specifically\n",
    "improved_cube = optimize_deck_coherence(cube_df=cube_df, oracle_df=oracle_df, deck_name=\"Black Aggro\")\n",
    "\n",
    "print(\"\\n✅ If you see better card choices above, the fix is working!\")\n",
    "print(\"🔧 You can now run the full optimization loop with confidence\")"
   ]
  }
 ],
 "metadata": {
  "kernelspec": {
   "display_name": "magic",
   "language": "python",
   "name": "python3"
  },
  "language_info": {
   "codemirror_mode": {
    "name": "ipython",
    "version": 3
   },
   "file_extension": ".py",
   "mimetype": "text/x-python",
   "name": "python",
   "nbconvert_exporter": "python",
   "pygments_lexer": "ipython3",
   "version": "3.13.2"
  }
 },
 "nbformat": 4,
 "nbformat_minor": 5
}

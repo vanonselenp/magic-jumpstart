{
 "cells": [
  {
   "cell_type": "code",
   "execution_count": 1,
   "id": "6ef0b8fa",
   "metadata": {},
   "outputs": [],
   "source": [
    "import pandas as pd\n",
    "from dotenv import load_dotenv\n",
    "from openai import OpenAI\n",
    "from anthropic import Anthropic\n",
    "from src.consts import *\n",
    "from src.validation import validate_jumpstart_cube, display_validate_results\n",
    "from src.coherence import analyze_deck_theme_coherence_enhanced\n",
    "from src.improve import apply_swap\n",
    "\n",
    "load_dotenv(override=True)\n",
    "openai = OpenAI()\n",
    "anthropic = Anthropic() \n",
    "\n",
    "# Load the data files\n",
    "oracle_df = pd.read_csv('ThePauperCube_oracle_with_pt.csv')\n",
    "cube_df = pd.read_csv('JumpstartCube_ThePauperCube_ULTIMATE_Final_v3.csv')"
   ]
  },
  {
   "cell_type": "markdown",
   "id": "4ed2b044",
   "metadata": {},
   "source": [
    "# Generated"
   ]
  },
  {
   "cell_type": "code",
   "execution_count": 2,
   "id": "56f05954",
   "metadata": {},
   "outputs": [],
   "source": [
    "# display_validate_results(validate_jumpstart_cube(cube_df, oracle_df))"
   ]
  },
  {
   "cell_type": "code",
   "execution_count": null,
   "id": "2a2f16e9",
   "metadata": {},
   "outputs": [
    {
     "data": {
      "text/markdown": [
       "Analyzing deck: Green Ramp"
      ],
      "text/plain": [
       "<IPython.core.display.Markdown object>"
      ]
     },
     "metadata": {},
     "output_type": "display_data"
    },
    {
     "data": {
      "text/markdown": [
       "Current coherence: 1.0"
      ],
      "text/plain": [
       "<IPython.core.display.Markdown object>"
      ]
     },
     "metadata": {},
     "output_type": "display_data"
    },
    {
     "data": {
      "text/markdown": [
       "Expected themes: Ramp"
      ],
      "text/plain": [
       "<IPython.core.display.Markdown object>"
      ]
     },
     "metadata": {},
     "output_type": "display_data"
    },
    {
     "data": {
      "text/markdown": [
       "Deck colors: G"
      ],
      "text/plain": [
       "<IPython.core.display.Markdown object>"
      ]
     },
     "metadata": {},
     "output_type": "display_data"
    },
    {
     "data": {
      "text/markdown": [
       "Found 64 candidate cards to consider"
      ],
      "text/plain": [
       "<IPython.core.display.Markdown object>"
      ]
     },
     "metadata": {},
     "output_type": "display_data"
    },
    {
     "data": {
      "text/markdown": [
       "Identified 13 cards as potential removal candidates"
      ],
      "text/plain": [
       "<IPython.core.display.Markdown object>"
      ]
     },
     "metadata": {},
     "output_type": "display_data"
    },
    {
     "data": {
      "text/markdown": [
       "# 🔄 Swap Recommendations for Green Ramp"
      ],
      "text/plain": [
       "<IPython.core.display.Markdown object>"
      ]
     },
     "metadata": {},
     "output_type": "display_data"
    },
    {
     "data": {
      "text/markdown": [
       "**Projected New Coherence:** 81.0/100 (+80.0)"
      ],
      "text/plain": [
       "<IPython.core.display.Markdown object>"
      ]
     },
     "metadata": {},
     "output_type": "display_data"
    },
    {
     "data": {
      "text/markdown": [
       "### Cards to Remove:"
      ],
      "text/plain": [
       "<IPython.core.display.Markdown object>"
      ]
     },
     "metadata": {},
     "output_type": "display_data"
    },
    {
     "data": {
      "text/markdown": [
       "- **Fertile Ground** (Theme Score: 0.0, CMC: 2.0)"
      ],
      "text/plain": [
       "<IPython.core.display.Markdown object>"
      ]
     },
     "metadata": {},
     "output_type": "display_data"
    },
    {
     "data": {
      "text/markdown": [
       "- **Giant Growth** (Theme Score: 0.0, CMC: 1.0)"
      ],
      "text/plain": [
       "<IPython.core.display.Markdown object>"
      ]
     },
     "metadata": {},
     "output_type": "display_data"
    },
    {
     "data": {
      "text/markdown": [
       "### Cards to Add:"
      ],
      "text/plain": [
       "<IPython.core.display.Markdown object>"
      ]
     },
     "metadata": {},
     "output_type": "display_data"
    },
    {
     "data": {
      "text/markdown": [
       "- **Generous Ent** (Theme Score: 8.0) - from Green Big Creatures"
      ],
      "text/plain": [
       "<IPython.core.display.Markdown object>"
      ]
     },
     "metadata": {},
     "output_type": "display_data"
    },
    {
     "data": {
      "text/markdown": [
       "- **Jewel Thief** (Theme Score: 8.0) - from Green Big Creatures"
      ],
      "text/plain": [
       "<IPython.core.display.Markdown object>"
      ]
     },
     "metadata": {},
     "output_type": "display_data"
    },
    {
     "name": "stdout",
     "output_type": "stream",
     "text": [
      "1.6338461538461542\n",
      "{'expected_themes': ['Ramp'], 'theme_score': 2.6923076923076925, 'theme_matches': [{'card': 'Generous Ent', 'score': 8, 'themes': ['Ramp']}, {'card': 'Jewel Thief', 'score': 8, 'themes': ['Ramp']}, {'card': 'Arbor Elf', 'score': 1, 'themes': ['Ramp']}, {'card': 'Bushwhack', 'score': 5, 'themes': ['Ramp']}, {'card': 'Nyxborn Hydra', 'score': 2, 'themes': ['Ramp']}, {'card': 'Ram Through', 'score': 0, 'themes': ['Ramp']}, {'card': 'Sakura-Tribe Elder', 'score': 8, 'themes': ['Ramp']}, {'card': \"Tamiyo's Safekeeping\", 'score': 0, 'themes': ['Ramp']}, {'card': 'Treetop Snarespinner', 'score': 1, 'themes': ['Ramp']}, {'card': 'Tuskguard Captain', 'score': 1, 'themes': ['Ramp']}, {'card': 'Voracious Varmint', 'score': 1, 'themes': ['Ramp']}, {'card': 'Wild Growth', 'score': 0, 'themes': ['Ramp']}, {'card': 'Horrific Assault', 'score': 0, 'themes': ['Ramp']}], 'color_coherence': 1.0, 'color_issues': [], 'mana_curve_score': 0.9384615384615386, 'mana_curve': {6: 1, 3: 2, 1: 6, 2: 3, 4: 1}, 'creature_stats': {'creature_count': 8, 'total_power': 15.0, 'total_toughness': 22.0, 'avg_power': 1.875, 'avg_toughness': 2.75, 'power_distribution': {5: 1, 3: 1, 1: 3, 0: 1, 2: 2}, 'toughness_distribution': {7: 1, 3: 2, 1: 3, 4: 1, 2: 1}, 'creature_categories': {'small': 6, 'medium': 1, 'large': 1, 'utility': 4, 'evasive': 4}, 'theme_alignment_score': 0.0, 'creature_details': [{'name': 'Generous Ent', 'power': 5.0, 'toughness': 7.0, 'categories': ['large', 'utility'], 'has_evasion': False, 'has_utility': True}, {'name': 'Jewel Thief', 'power': 3.0, 'toughness': 3.0, 'categories': ['medium', 'evasive', 'utility'], 'has_evasion': True, 'has_utility': True}, {'name': 'Arbor Elf', 'power': 1.0, 'toughness': 1.0, 'categories': ['small'], 'has_evasion': False, 'has_utility': False}, {'name': 'Nyxborn Hydra', 'power': 0.0, 'toughness': 1.0, 'categories': ['small', 'evasive', 'utility'], 'has_evasion': True, 'has_utility': True}, {'name': 'Sakura-Tribe Elder', 'power': 1.0, 'toughness': 1.0, 'categories': ['small', 'utility'], 'has_evasion': False, 'has_utility': True}, {'name': 'Treetop Snarespinner', 'power': 1.0, 'toughness': 4.0, 'categories': ['small', 'evasive'], 'has_evasion': True, 'has_utility': False}, {'name': 'Tuskguard Captain', 'power': 2.0, 'toughness': 3.0, 'categories': ['small', 'evasive'], 'has_evasion': True, 'has_utility': False}, {'name': 'Voracious Varmint', 'power': 2.0, 'toughness': 2.0, 'categories': ['small'], 'has_evasion': False, 'has_utility': False}]}, 'overall_coherence': 1.6338461538461542, 'deck_colors': 'G', 'card_count': 13}\n",
      "Improved Green Ramp coherence from 1.0 to 1.6\n",
      "Total coherence: 224.41 (improvement: 0.31)\n"
     ]
    },
    {
     "data": {
      "text/markdown": [
       "Analyzing deck: Blue Card Draw"
      ],
      "text/plain": [
       "<IPython.core.display.Markdown object>"
      ]
     },
     "metadata": {},
     "output_type": "display_data"
    },
    {
     "data": {
      "text/markdown": [
       "Current coherence: 1.1"
      ],
      "text/plain": [
       "<IPython.core.display.Markdown object>"
      ]
     },
     "metadata": {},
     "output_type": "display_data"
    },
    {
     "data": {
      "text/markdown": [
       "Expected themes: Card Draw"
      ],
      "text/plain": [
       "<IPython.core.display.Markdown object>"
      ]
     },
     "metadata": {},
     "output_type": "display_data"
    },
    {
     "data": {
      "text/markdown": [
       "Deck colors: U"
      ],
      "text/plain": [
       "<IPython.core.display.Markdown object>"
      ]
     },
     "metadata": {},
     "output_type": "display_data"
    },
    {
     "data": {
      "text/markdown": [
       "Found 41 candidate cards to consider"
      ],
      "text/plain": [
       "<IPython.core.display.Markdown object>"
      ]
     },
     "metadata": {},
     "output_type": "display_data"
    },
    {
     "data": {
      "text/markdown": [
       "Identified 13 cards as potential removal candidates"
      ],
      "text/plain": [
       "<IPython.core.display.Markdown object>"
      ]
     },
     "metadata": {},
     "output_type": "display_data"
    },
    {
     "data": {
      "text/markdown": [
       "# 🔄 Swap Recommendations for Blue Card Draw"
      ],
      "text/plain": [
       "<IPython.core.display.Markdown object>"
      ]
     },
     "metadata": {},
     "output_type": "display_data"
    },
    {
     "data": {
      "text/markdown": [
       "**Projected New Coherence:** 41.1/100 (+40.0)"
      ],
      "text/plain": [
       "<IPython.core.display.Markdown object>"
      ]
     },
     "metadata": {},
     "output_type": "display_data"
    },
    {
     "data": {
      "text/markdown": [
       "### Cards to Remove:"
      ],
      "text/plain": [
       "<IPython.core.display.Markdown object>"
      ]
     },
     "metadata": {},
     "output_type": "display_data"
    },
    {
     "data": {
      "text/markdown": [
       "- **Counterspell** (Theme Score: 0.0, CMC: 2.0)"
      ],
      "text/plain": [
       "<IPython.core.display.Markdown object>"
      ]
     },
     "metadata": {},
     "output_type": "display_data"
    },
    {
     "data": {
      "text/markdown": [
       "- **Preening Champion** (Theme Score: 0.0, CMC: 3.0)"
      ],
      "text/plain": [
       "<IPython.core.display.Markdown object>"
      ]
     },
     "metadata": {},
     "output_type": "display_data"
    },
    {
     "data": {
      "text/markdown": [
       "### Cards to Add:"
      ],
      "text/plain": [
       "<IPython.core.display.Markdown object>"
      ]
     },
     "metadata": {},
     "output_type": "display_data"
    },
    {
     "data": {
      "text/markdown": [
       "- **Behold the Multiverse** (Theme Score: 4.0) - from Azorius Evasion/Flying"
      ],
      "text/plain": [
       "<IPython.core.display.Markdown object>"
      ]
     },
     "metadata": {},
     "output_type": "display_data"
    },
    {
     "data": {
      "text/markdown": [
       "- **Lórien Revealed** (Theme Score: 4.0) - from Azorius Evasion/Flying"
      ],
      "text/plain": [
       "<IPython.core.display.Markdown object>"
      ]
     },
     "metadata": {},
     "output_type": "display_data"
    },
    {
     "name": "stdout",
     "output_type": "stream",
     "text": [
      "1.42\n",
      "{'expected_themes': ['Card Draw'], 'theme_score': 2.3076923076923075, 'theme_matches': [{'card': 'Behold the Multiverse', 'score': 4, 'themes': ['Card Draw']}, {'card': 'Lórien Revealed', 'score': 4, 'themes': ['Card Draw']}, {'card': 'Aethersnipe', 'score': 1, 'themes': ['Card Draw']}, {'card': 'Consider', 'score': 3, 'themes': ['Card Draw']}, {'card': 'Deep Analysis', 'score': 2, 'themes': ['Card Draw']}, {'card': 'Looter il-Kor', 'score': 2, 'themes': ['Card Draw']}, {'card': 'Mirrorshell Crab', 'score': 1, 'themes': ['Card Draw']}, {'card': 'Miscalculation', 'score': 2, 'themes': ['Card Draw']}, {'card': 'Mist Raven', 'score': 1, 'themes': ['Card Draw']}, {'card': 'Moon-Circuit Hacker', 'score': 3, 'themes': ['Card Draw']}, {'card': 'Opt', 'score': 4, 'themes': ['Card Draw']}, {'card': 'Winter Eladrin', 'score': 1, 'themes': ['Card Draw']}, {'card': 'Cruel Witness', 'score': 2, 'themes': ['Card Draw']}], 'color_coherence': 1.0, 'color_issues': [], 'mana_curve_score': 0.8307692307692308, 'mana_curve': {4: 4, 5: 1, 6: 1, 1: 2, 2: 3, 7: 1, 3: 1}, 'creature_stats': {'creature_count': 7, 'total_power': 19.0, 'total_toughness': 20.0, 'avg_power': 2.7142857142857144, 'avg_toughness': 2.857142857142857, 'power_distribution': {4: 1, 1: 1, 5: 1, 2: 3, 3: 1}, 'toughness_distribution': {4: 1, 1: 2, 7: 1, 2: 2, 3: 1}, 'creature_categories': {'small': 4, 'medium': 2, 'large': 1, 'utility': 7, 'evasive': 3}, 'theme_alignment_score': 0.0, 'creature_details': [{'name': 'Aethersnipe', 'power': 4.0, 'toughness': 4.0, 'categories': ['medium', 'utility'], 'has_evasion': False, 'has_utility': True}, {'name': 'Looter il-Kor', 'power': 1.0, 'toughness': 1.0, 'categories': ['small', 'evasive', 'utility'], 'has_evasion': True, 'has_utility': True}, {'name': 'Mirrorshell Crab', 'power': 5.0, 'toughness': 7.0, 'categories': ['large', 'utility'], 'has_evasion': False, 'has_utility': True}, {'name': 'Mist Raven', 'power': 2.0, 'toughness': 2.0, 'categories': ['small', 'evasive', 'utility'], 'has_evasion': True, 'has_utility': True}, {'name': 'Moon-Circuit Hacker', 'power': 2.0, 'toughness': 1.0, 'categories': ['small', 'utility'], 'has_evasion': False, 'has_utility': True}, {'name': 'Winter Eladrin', 'power': 2.0, 'toughness': 2.0, 'categories': ['small', 'utility'], 'has_evasion': False, 'has_utility': True}, {'name': 'Cruel Witness', 'power': 3.0, 'toughness': 3.0, 'categories': ['medium', 'evasive', 'utility'], 'has_evasion': True, 'has_utility': True}]}, 'overall_coherence': 1.42, 'deck_colors': 'U', 'card_count': 13}\n",
      "Improved Blue Card Draw coherence from 1.1 to 1.4\n",
      "Total coherence: 224.72 (improvement: 0.31)\n"
     ]
    },
    {
     "data": {
      "text/markdown": [
       "Analyzing deck: Blue Card Draw"
      ],
      "text/plain": [
       "<IPython.core.display.Markdown object>"
      ]
     },
     "metadata": {},
     "output_type": "display_data"
    },
    {
     "data": {
      "text/markdown": [
       "Current coherence: 1.4"
      ],
      "text/plain": [
       "<IPython.core.display.Markdown object>"
      ]
     },
     "metadata": {},
     "output_type": "display_data"
    },
    {
     "data": {
      "text/markdown": [
       "Expected themes: Card Draw"
      ],
      "text/plain": [
       "<IPython.core.display.Markdown object>"
      ]
     },
     "metadata": {},
     "output_type": "display_data"
    },
    {
     "data": {
      "text/markdown": [
       "Deck colors: U"
      ],
      "text/plain": [
       "<IPython.core.display.Markdown object>"
      ]
     },
     "metadata": {},
     "output_type": "display_data"
    },
    {
     "data": {
      "text/markdown": [
       "Found 39 candidate cards to consider"
      ],
      "text/plain": [
       "<IPython.core.display.Markdown object>"
      ]
     },
     "metadata": {},
     "output_type": "display_data"
    },
    {
     "data": {
      "text/markdown": [
       "Identified 13 cards as potential removal candidates"
      ],
      "text/plain": [
       "<IPython.core.display.Markdown object>"
      ]
     },
     "metadata": {},
     "output_type": "display_data"
    },
    {
     "data": {
      "text/markdown": [
       "# 🔄 Swap Recommendations for Blue Card Draw"
      ],
      "text/plain": [
       "<IPython.core.display.Markdown object>"
      ]
     },
     "metadata": {},
     "output_type": "display_data"
    },
    {
     "data": {
      "text/markdown": [
       "**Projected New Coherence:** 31.4/100 (+30.0)"
      ],
      "text/plain": [
       "<IPython.core.display.Markdown object>"
      ]
     },
     "metadata": {},
     "output_type": "display_data"
    },
    {
     "data": {
      "text/markdown": [
       "### Cards to Remove:"
      ],
      "text/plain": [
       "<IPython.core.display.Markdown object>"
      ]
     },
     "metadata": {},
     "output_type": "display_data"
    },
    {
     "data": {
      "text/markdown": [
       "- **Mirrorshell Crab** (Theme Score: 1.0, CMC: 7.0)"
      ],
      "text/plain": [
       "<IPython.core.display.Markdown object>"
      ]
     },
     "metadata": {},
     "output_type": "display_data"
    },
    {
     "data": {
      "text/markdown": [
       "- **Aethersnipe** (Theme Score: 1.0, CMC: 6.0)"
      ],
      "text/plain": [
       "<IPython.core.display.Markdown object>"
      ]
     },
     "metadata": {},
     "output_type": "display_data"
    },
    {
     "data": {
      "text/markdown": [
       "### Cards to Add:"
      ],
      "text/plain": [
       "<IPython.core.display.Markdown object>"
      ]
     },
     "metadata": {},
     "output_type": "display_data"
    },
    {
     "data": {
      "text/markdown": [
       "- **Brainstorm** (Theme Score: 4.0) - from Blue Flying"
      ],
      "text/plain": [
       "<IPython.core.display.Markdown object>"
      ]
     },
     "metadata": {},
     "output_type": "display_data"
    },
    {
     "data": {
      "text/markdown": [
       "- **Preordain** (Theme Score: 4.0) - from Blue Flying"
      ],
      "text/plain": [
       "<IPython.core.display.Markdown object>"
      ]
     },
     "metadata": {},
     "output_type": "display_data"
    },
    {
     "name": "stdout",
     "output_type": "stream",
     "text": [
      "1.6692307692307693\n",
      "{'expected_themes': ['Card Draw'], 'theme_score': 2.769230769230769, 'theme_matches': [{'card': 'Behold the Multiverse', 'score': 4, 'themes': ['Card Draw']}, {'card': 'Lórien Revealed', 'score': 4, 'themes': ['Card Draw']}, {'card': 'Consider', 'score': 3, 'themes': ['Card Draw']}, {'card': 'Deep Analysis', 'score': 2, 'themes': ['Card Draw']}, {'card': 'Looter il-Kor', 'score': 2, 'themes': ['Card Draw']}, {'card': 'Miscalculation', 'score': 2, 'themes': ['Card Draw']}, {'card': 'Mist Raven', 'score': 1, 'themes': ['Card Draw']}, {'card': 'Moon-Circuit Hacker', 'score': 3, 'themes': ['Card Draw']}, {'card': 'Opt', 'score': 4, 'themes': ['Card Draw']}, {'card': 'Winter Eladrin', 'score': 1, 'themes': ['Card Draw']}, {'card': 'Brainstorm', 'score': 4, 'themes': ['Card Draw']}, {'card': 'Preordain', 'score': 4, 'themes': ['Card Draw']}, {'card': 'Cruel Witness', 'score': 2, 'themes': ['Card Draw']}], 'color_coherence': 1.0, 'color_issues': [], 'mana_curve_score': 0.9230769230769231, 'mana_curve': {4: 4, 5: 1, 1: 4, 2: 3, 3: 1}, 'creature_stats': {'creature_count': 5, 'total_power': 10.0, 'total_toughness': 9.0, 'avg_power': 2.0, 'avg_toughness': 1.8, 'power_distribution': {1: 1, 2: 3, 3: 1}, 'toughness_distribution': {1: 2, 2: 2, 3: 1}, 'creature_categories': {'small': 4, 'medium': 1, 'large': 0, 'utility': 5, 'evasive': 3}, 'theme_alignment_score': 0.0, 'creature_details': [{'name': 'Looter il-Kor', 'power': 1.0, 'toughness': 1.0, 'categories': ['small', 'evasive', 'utility'], 'has_evasion': True, 'has_utility': True}, {'name': 'Mist Raven', 'power': 2.0, 'toughness': 2.0, 'categories': ['small', 'evasive', 'utility'], 'has_evasion': True, 'has_utility': True}, {'name': 'Moon-Circuit Hacker', 'power': 2.0, 'toughness': 1.0, 'categories': ['small', 'utility'], 'has_evasion': False, 'has_utility': True}, {'name': 'Winter Eladrin', 'power': 2.0, 'toughness': 2.0, 'categories': ['small', 'utility'], 'has_evasion': False, 'has_utility': True}, {'name': 'Cruel Witness', 'power': 3.0, 'toughness': 3.0, 'categories': ['medium', 'evasive', 'utility'], 'has_evasion': True, 'has_utility': True}]}, 'overall_coherence': 1.6692307692307693, 'deck_colors': 'U', 'card_count': 13}\n",
      "Improved Blue Card Draw coherence from 1.4 to 1.7\n",
      "Total coherence: 223.58 (improvement: -1.14)\n"
     ]
    },
    {
     "data": {
      "text/markdown": [
       "Analyzing deck: Green Midrange"
      ],
      "text/plain": [
       "<IPython.core.display.Markdown object>"
      ]
     },
     "metadata": {},
     "output_type": "display_data"
    },
    {
     "data": {
      "text/markdown": [
       "Current coherence: 1.4"
      ],
      "text/plain": [
       "<IPython.core.display.Markdown object>"
      ]
     },
     "metadata": {},
     "output_type": "display_data"
    },
    {
     "data": {
      "text/markdown": [
       "Expected themes: Midrange"
      ],
      "text/plain": [
       "<IPython.core.display.Markdown object>"
      ]
     },
     "metadata": {},
     "output_type": "display_data"
    },
    {
     "data": {
      "text/markdown": [
       "Deck colors: G"
      ],
      "text/plain": [
       "<IPython.core.display.Markdown object>"
      ]
     },
     "metadata": {},
     "output_type": "display_data"
    },
    {
     "data": {
      "text/markdown": [
       "Found 67 candidate cards to consider"
      ],
      "text/plain": [
       "<IPython.core.display.Markdown object>"
      ]
     },
     "metadata": {},
     "output_type": "display_data"
    },
    {
     "data": {
      "text/markdown": [
       "Identified 13 cards as potential removal candidates"
      ],
      "text/plain": [
       "<IPython.core.display.Markdown object>"
      ]
     },
     "metadata": {},
     "output_type": "display_data"
    },
    {
     "data": {
      "text/markdown": [
       "# 🔄 Swap Recommendations for Green Midrange"
      ],
      "text/plain": [
       "<IPython.core.display.Markdown object>"
      ]
     },
     "metadata": {},
     "output_type": "display_data"
    },
    {
     "data": {
      "text/markdown": [
       "**Projected New Coherence:** 76.4/100 (+75.0)"
      ],
      "text/plain": [
       "<IPython.core.display.Markdown object>"
      ]
     },
     "metadata": {},
     "output_type": "display_data"
    },
    {
     "data": {
      "text/markdown": [
       "### Cards to Remove:"
      ],
      "text/plain": [
       "<IPython.core.display.Markdown object>"
      ]
     },
     "metadata": {},
     "output_type": "display_data"
    },
    {
     "data": {
      "text/markdown": [
       "- **Abundant Harvest** (Theme Score: 0.0, CMC: 1.0)"
      ],
      "text/plain": [
       "<IPython.core.display.Markdown object>"
      ]
     },
     "metadata": {},
     "output_type": "display_data"
    },
    {
     "data": {
      "text/markdown": [
       "- **Grapple with the Past** (Theme Score: 1.0, CMC: 2.0)"
      ],
      "text/plain": [
       "<IPython.core.display.Markdown object>"
      ]
     },
     "metadata": {},
     "output_type": "display_data"
    },
    {
     "data": {
      "text/markdown": [
       "### Cards to Add:"
      ],
      "text/plain": [
       "<IPython.core.display.Markdown object>"
      ]
     },
     "metadata": {},
     "output_type": "display_data"
    },
    {
     "data": {
      "text/markdown": [
       "- **Jewel Thief** (Theme Score: 9.0) - from Green Ramp"
      ],
      "text/plain": [
       "<IPython.core.display.Markdown object>"
      ]
     },
     "metadata": {},
     "output_type": "display_data"
    },
    {
     "data": {
      "text/markdown": [
       "- **Basking Broodscale** (Theme Score: 7.0) - from Green Big Creatures"
      ],
      "text/plain": [
       "<IPython.core.display.Markdown object>"
      ]
     },
     "metadata": {},
     "output_type": "display_data"
    },
    {
     "name": "stdout",
     "output_type": "stream",
     "text": [
      "2.0092307692307694\n",
      "{'expected_themes': ['Midrange'], 'theme_score': 3.4615384615384617, 'theme_matches': [{'card': 'Bloom Hulk', 'score': 4, 'themes': ['Midrange']}, {'card': 'Conclave Naturalists', 'score': 3, 'themes': ['Midrange']}, {'card': 'Hooting Mandrills', 'score': 2, 'themes': ['Midrange']}, {'card': 'Longstalk Brawl', 'score': 4, 'themes': ['Midrange']}, {'card': 'Massive Might', 'score': 2, 'themes': ['Midrange']}, {'card': 'Rancor', 'score': 3, 'themes': ['Midrange']}, {'card': 'Trumpeting Herd', 'score': 3, 'themes': ['Midrange']}, {'card': 'Vines of Vastwood', 'score': 2, 'themes': ['Midrange']}, {'card': 'Jewel Thief', 'score': 9, 'themes': ['Midrange']}, {'card': 'Bannerhide Krushok', 'score': 4, 'themes': ['Midrange']}, {'card': 'Elvish Mystic', 'score': 1, 'themes': ['Midrange']}, {'card': 'Basking Broodscale', 'score': 7, 'themes': ['Midrange']}, {'card': 'Farseek', 'score': 1, 'themes': ['Midrange']}], 'color_coherence': 1.0, 'color_issues': [], 'mana_curve_score': 0.8923076923076922, 'mana_curve': {4: 3, 5: 1, 6: 1, 1: 5, 3: 1, 2: 2}, 'creature_stats': {'creature_count': 8, 'total_power': 22.0, 'total_toughness': 22.0, 'avg_power': 2.75, 'avg_toughness': 2.75, 'power_distribution': {4: 4, 0: 1, 3: 1, 1: 1, 2: 1}, 'toughness_distribution': {4: 4, 0: 1, 3: 1, 1: 1, 2: 1}, 'creature_categories': {'small': 3, 'medium': 5, 'large': 0, 'utility': 4, 'evasive': 3}, 'theme_alignment_score': 0.0, 'creature_details': [{'name': 'Bloom Hulk', 'power': 4.0, 'toughness': 4.0, 'categories': ['medium', 'utility'], 'has_evasion': False, 'has_utility': True}, {'name': 'Conclave Naturalists', 'power': 4.0, 'toughness': 4.0, 'categories': ['medium', 'utility'], 'has_evasion': False, 'has_utility': True}, {'name': 'Hooting Mandrills', 'power': 4.0, 'toughness': 4.0, 'categories': ['medium', 'evasive'], 'has_evasion': True, 'has_utility': False}, {'name': 'Trumpeting Herd', 'power': 0.0, 'toughness': 0.0, 'categories': ['small'], 'has_evasion': False, 'has_utility': False}, {'name': 'Jewel Thief', 'power': 3.0, 'toughness': 3.0, 'categories': ['medium', 'evasive', 'utility'], 'has_evasion': True, 'has_utility': True}, {'name': 'Bannerhide Krushok', 'power': 4.0, 'toughness': 4.0, 'categories': ['medium', 'evasive'], 'has_evasion': True, 'has_utility': False}, {'name': 'Elvish Mystic', 'power': 1.0, 'toughness': 1.0, 'categories': ['small'], 'has_evasion': False, 'has_utility': False}, {'name': 'Basking Broodscale', 'power': 2.0, 'toughness': 2.0, 'categories': ['small', 'utility'], 'has_evasion': False, 'has_utility': True}]}, 'overall_coherence': 2.0092307692307694, 'deck_colors': 'G', 'card_count': 13}\n",
      "Improved Green Midrange coherence from 1.4 to 2.0\n",
      "Total coherence: 224.26 (improvement: 0.68)\n"
     ]
    },
    {
     "data": {
      "text/markdown": [
       "Analyzing deck: Blue Tempo"
      ],
      "text/plain": [
       "<IPython.core.display.Markdown object>"
      ]
     },
     "metadata": {},
     "output_type": "display_data"
    },
    {
     "data": {
      "text/markdown": [
       "Current coherence: 1.4"
      ],
      "text/plain": [
       "<IPython.core.display.Markdown object>"
      ]
     },
     "metadata": {},
     "output_type": "display_data"
    },
    {
     "data": {
      "text/markdown": [
       "Expected themes: Tempo"
      ],
      "text/plain": [
       "<IPython.core.display.Markdown object>"
      ]
     },
     "metadata": {},
     "output_type": "display_data"
    },
    {
     "data": {
      "text/markdown": [
       "Deck colors: U"
      ],
      "text/plain": [
       "<IPython.core.display.Markdown object>"
      ]
     },
     "metadata": {},
     "output_type": "display_data"
    },
    {
     "data": {
      "text/markdown": [
       "Found 62 candidate cards to consider"
      ],
      "text/plain": [
       "<IPython.core.display.Markdown object>"
      ]
     },
     "metadata": {},
     "output_type": "display_data"
    },
    {
     "data": {
      "text/markdown": [
       "Identified 13 cards as potential removal candidates"
      ],
      "text/plain": [
       "<IPython.core.display.Markdown object>"
      ]
     },
     "metadata": {},
     "output_type": "display_data"
    },
    {
     "data": {
      "text/markdown": [
       "# 🔄 Swap Recommendations for Blue Tempo"
      ],
      "text/plain": [
       "<IPython.core.display.Markdown object>"
      ]
     },
     "metadata": {},
     "output_type": "display_data"
    },
    {
     "data": {
      "text/markdown": [
       "**Projected New Coherence:** 51.4/100 (+50.0)"
      ],
      "text/plain": [
       "<IPython.core.display.Markdown object>"
      ]
     },
     "metadata": {},
     "output_type": "display_data"
    },
    {
     "data": {
      "text/markdown": [
       "### Cards to Remove:"
      ],
      "text/plain": [
       "<IPython.core.display.Markdown object>"
      ]
     },
     "metadata": {},
     "output_type": "display_data"
    },
    {
     "data": {
      "text/markdown": [
       "- **Unable to Scream** (Theme Score: 0.0, CMC: 1.0)"
      ],
      "text/plain": [
       "<IPython.core.display.Markdown object>"
      ]
     },
     "metadata": {},
     "output_type": "display_data"
    },
    {
     "data": {
      "text/markdown": [
       "- **Treasure Cruise** (Theme Score: 1.0, CMC: 8.0)"
      ],
      "text/plain": [
       "<IPython.core.display.Markdown object>"
      ]
     },
     "metadata": {},
     "output_type": "display_data"
    },
    {
     "data": {
      "text/markdown": [
       "### Cards to Add:"
      ],
      "text/plain": [
       "<IPython.core.display.Markdown object>"
      ]
     },
     "metadata": {},
     "output_type": "display_data"
    },
    {
     "data": {
      "text/markdown": [
       "- **Pestermite** (Theme Score: 6.0) - from Blue Control"
      ],
      "text/plain": [
       "<IPython.core.display.Markdown object>"
      ]
     },
     "metadata": {},
     "output_type": "display_data"
    },
    {
     "data": {
      "text/markdown": [
       "- **Peregrine Drake** (Theme Score: 5.0) - from Azorius Evasion/Flying"
      ],
      "text/plain": [
       "<IPython.core.display.Markdown object>"
      ]
     },
     "metadata": {},
     "output_type": "display_data"
    },
    {
     "name": "stdout",
     "output_type": "stream",
     "text": [
      "1.8292307692307694\n",
      "{'expected_themes': ['Tempo'], 'theme_score': 3.076923076923077, 'theme_matches': [{'card': 'Peregrine Drake', 'score': 5, 'themes': ['Tempo']}, {'card': 'Capsize', 'score': 1, 'themes': ['Tempo']}, {'card': 'Cloudkin Seer', 'score': 4, 'themes': ['Tempo']}, {'card': 'Into the Roil', 'score': 3, 'themes': ['Tempo']}, {'card': 'Lose Focus', 'score': 2, 'themes': ['Tempo']}, {'card': 'Mana Leak', 'score': 1, 'themes': ['Tempo']}, {'card': 'Mocking Sprite', 'score': 1, 'themes': ['Tempo']}, {'card': 'Mulldrifter', 'score': 4, 'themes': ['Tempo']}, {'card': 'Phantom Interference', 'score': 2, 'themes': ['Tempo']}, {'card': 'Serum Visionary', 'score': 4, 'themes': ['Tempo']}, {'card': 'Zephyr Winder', 'score': 4, 'themes': ['Tempo']}, {'card': 'Pestermite', 'score': 6, 'themes': ['Tempo']}, {'card': 'Shipwreck Dowser', 'score': 3, 'themes': ['Tempo']}], 'color_coherence': 1.0, 'color_issues': [], 'mana_curve_score': 0.9538461538461539, 'mana_curve': {5: 3, 3: 5, 2: 4, 1: 1}, 'creature_stats': {'creature_count': 8, 'total_power': 17.0, 'total_toughness': 14.0, 'avg_power': 2.125, 'avg_toughness': 1.75, 'power_distribution': {2: 7, 3: 1}, 'toughness_distribution': {3: 2, 1: 4, 2: 2}, 'creature_categories': {'small': 7, 'medium': 1, 'large': 0, 'utility': 7, 'evasive': 6}, 'theme_alignment_score': 0.0, 'creature_details': [{'name': 'Peregrine Drake', 'power': 2.0, 'toughness': 3.0, 'categories': ['small', 'evasive', 'utility'], 'has_evasion': True, 'has_utility': True}, {'name': 'Cloudkin Seer', 'power': 2.0, 'toughness': 1.0, 'categories': ['small', 'evasive', 'utility'], 'has_evasion': True, 'has_utility': True}, {'name': 'Mocking Sprite', 'power': 2.0, 'toughness': 1.0, 'categories': ['small', 'evasive'], 'has_evasion': True, 'has_utility': False}, {'name': 'Mulldrifter', 'power': 2.0, 'toughness': 2.0, 'categories': ['small', 'evasive', 'utility'], 'has_evasion': True, 'has_utility': True}, {'name': 'Serum Visionary', 'power': 2.0, 'toughness': 2.0, 'categories': ['small', 'utility'], 'has_evasion': False, 'has_utility': True}, {'name': 'Zephyr Winder', 'power': 2.0, 'toughness': 1.0, 'categories': ['small', 'evasive', 'utility'], 'has_evasion': True, 'has_utility': True}, {'name': 'Pestermite', 'power': 2.0, 'toughness': 1.0, 'categories': ['small', 'evasive', 'utility'], 'has_evasion': True, 'has_utility': True}, {'name': 'Shipwreck Dowser', 'power': 3.0, 'toughness': 3.0, 'categories': ['medium', 'utility'], 'has_evasion': False, 'has_utility': True}]}, 'overall_coherence': 1.8292307692307694, 'deck_colors': 'U', 'card_count': 13}\n",
      "Improved Blue Tempo coherence from 1.4 to 1.8\n",
      "Total coherence: 224.33 (improvement: 0.07)\n"
     ]
    },
    {
     "data": {
      "text/markdown": [
       "Analyzing deck: Green Ramp"
      ],
      "text/plain": [
       "<IPython.core.display.Markdown object>"
      ]
     },
     "metadata": {},
     "output_type": "display_data"
    },
    {
     "data": {
      "text/markdown": [
       "Current coherence: 1.4"
      ],
      "text/plain": [
       "<IPython.core.display.Markdown object>"
      ]
     },
     "metadata": {},
     "output_type": "display_data"
    },
    {
     "data": {
      "text/markdown": [
       "Expected themes: Ramp"
      ],
      "text/plain": [
       "<IPython.core.display.Markdown object>"
      ]
     },
     "metadata": {},
     "output_type": "display_data"
    },
    {
     "data": {
      "text/markdown": [
       "Deck colors: G"
      ],
      "text/plain": [
       "<IPython.core.display.Markdown object>"
      ]
     },
     "metadata": {},
     "output_type": "display_data"
    },
    {
     "data": {
      "text/markdown": [
       "Found 62 candidate cards to consider"
      ],
      "text/plain": [
       "<IPython.core.display.Markdown object>"
      ]
     },
     "metadata": {},
     "output_type": "display_data"
    },
    {
     "data": {
      "text/markdown": [
       "Identified 13 cards as potential removal candidates"
      ],
      "text/plain": [
       "<IPython.core.display.Markdown object>"
      ]
     },
     "metadata": {},
     "output_type": "display_data"
    },
    {
     "data": {
      "text/markdown": [
       "# 🔄 Swap Recommendations for Green Ramp"
      ],
      "text/plain": [
       "<IPython.core.display.Markdown object>"
      ]
     },
     "metadata": {},
     "output_type": "display_data"
    },
    {
     "data": {
      "text/markdown": [
       "**Projected New Coherence:** 81.4/100 (+80.0)"
      ],
      "text/plain": [
       "<IPython.core.display.Markdown object>"
      ]
     },
     "metadata": {},
     "output_type": "display_data"
    },
    {
     "data": {
      "text/markdown": [
       "### Cards to Remove:"
      ],
      "text/plain": [
       "<IPython.core.display.Markdown object>"
      ]
     },
     "metadata": {},
     "output_type": "display_data"
    },
    {
     "data": {
      "text/markdown": [
       "- **Ram Through** (Theme Score: 0.0, CMC: 2.0)"
      ],
      "text/plain": [
       "<IPython.core.display.Markdown object>"
      ]
     },
     "metadata": {},
     "output_type": "display_data"
    },
    {
     "data": {
      "text/markdown": [
       "- **Tamiyo's Safekeeping** (Theme Score: 0.0, CMC: 1.0)"
      ],
      "text/plain": [
       "<IPython.core.display.Markdown object>"
      ]
     },
     "metadata": {},
     "output_type": "display_data"
    },
    {
     "data": {
      "text/markdown": [
       "### Cards to Add:"
      ],
      "text/plain": [
       "<IPython.core.display.Markdown object>"
      ]
     },
     "metadata": {},
     "output_type": "display_data"
    },
    {
     "data": {
      "text/markdown": [
       "- **Jewel Thief** (Theme Score: 8.0) - from Green Midrange"
      ],
      "text/plain": [
       "<IPython.core.display.Markdown object>"
      ]
     },
     "metadata": {},
     "output_type": "display_data"
    },
    {
     "data": {
      "text/markdown": [
       "- **Yavimaya Elder** (Theme Score: 8.0) - from Green Stompy"
      ],
      "text/plain": [
       "<IPython.core.display.Markdown object>"
      ]
     },
     "metadata": {},
     "output_type": "display_data"
    },
    {
     "name": "stdout",
     "output_type": "stream",
     "text": [
      "2.056923076923077\n",
      "{'expected_themes': ['Ramp'], 'theme_score': 3.5384615384615383, 'theme_matches': [{'card': 'Abundant Harvest', 'score': 3, 'themes': ['Ramp']}, {'card': 'Generous Ent', 'score': 8, 'themes': ['Ramp']}, {'card': 'Jewel Thief', 'score': 8, 'themes': ['Ramp']}, {'card': 'Arbor Elf', 'score': 1, 'themes': ['Ramp']}, {'card': 'Bushwhack', 'score': 5, 'themes': ['Ramp']}, {'card': 'Nyxborn Hydra', 'score': 2, 'themes': ['Ramp']}, {'card': 'Sakura-Tribe Elder', 'score': 8, 'themes': ['Ramp']}, {'card': 'Treetop Snarespinner', 'score': 1, 'themes': ['Ramp']}, {'card': 'Tuskguard Captain', 'score': 1, 'themes': ['Ramp']}, {'card': 'Voracious Varmint', 'score': 1, 'themes': ['Ramp']}, {'card': 'Yavimaya Elder', 'score': 8, 'themes': ['Ramp']}, {'card': 'Wild Growth', 'score': 0, 'themes': ['Ramp']}, {'card': 'Horrific Assault', 'score': 0, 'themes': ['Ramp']}], 'color_coherence': 1.0, 'color_issues': [], 'mana_curve_score': 0.9384615384615386, 'mana_curve': {1: 6, 6: 1, 3: 3, 2: 2, 4: 1}, 'creature_stats': {'creature_count': 9, 'total_power': 17.0, 'total_toughness': 23.0, 'avg_power': 1.8888888888888888, 'avg_toughness': 2.5555555555555554, 'power_distribution': {5: 1, 3: 1, 1: 3, 0: 1, 2: 3}, 'toughness_distribution': {7: 1, 3: 2, 1: 4, 4: 1, 2: 1}, 'creature_categories': {'small': 7, 'medium': 1, 'large': 1, 'utility': 5, 'evasive': 4}, 'theme_alignment_score': 0.0, 'creature_details': [{'name': 'Generous Ent', 'power': 5.0, 'toughness': 7.0, 'categories': ['large', 'utility'], 'has_evasion': False, 'has_utility': True}, {'name': 'Jewel Thief', 'power': 3.0, 'toughness': 3.0, 'categories': ['medium', 'evasive', 'utility'], 'has_evasion': True, 'has_utility': True}, {'name': 'Arbor Elf', 'power': 1.0, 'toughness': 1.0, 'categories': ['small'], 'has_evasion': False, 'has_utility': False}, {'name': 'Nyxborn Hydra', 'power': 0.0, 'toughness': 1.0, 'categories': ['small', 'evasive', 'utility'], 'has_evasion': True, 'has_utility': True}, {'name': 'Sakura-Tribe Elder', 'power': 1.0, 'toughness': 1.0, 'categories': ['small', 'utility'], 'has_evasion': False, 'has_utility': True}, {'name': 'Treetop Snarespinner', 'power': 1.0, 'toughness': 4.0, 'categories': ['small', 'evasive'], 'has_evasion': True, 'has_utility': False}, {'name': 'Tuskguard Captain', 'power': 2.0, 'toughness': 3.0, 'categories': ['small', 'evasive'], 'has_evasion': True, 'has_utility': False}, {'name': 'Voracious Varmint', 'power': 2.0, 'toughness': 2.0, 'categories': ['small'], 'has_evasion': False, 'has_utility': False}, {'name': 'Yavimaya Elder', 'power': 2.0, 'toughness': 1.0, 'categories': ['small', 'utility'], 'has_evasion': False, 'has_utility': True}]}, 'overall_coherence': 2.056923076923077, 'deck_colors': 'G', 'card_count': 13}\n",
      "Improved Green Ramp coherence from 1.4 to 2.1\n",
      "Total coherence: 224.77 (improvement: 0.44)\n"
     ]
    },
    {
     "data": {
      "text/markdown": [
       "Analyzing deck: Red Burn"
      ],
      "text/plain": [
       "<IPython.core.display.Markdown object>"
      ]
     },
     "metadata": {},
     "output_type": "display_data"
    },
    {
     "data": {
      "text/markdown": [
       "Current coherence: 1.5"
      ],
      "text/plain": [
       "<IPython.core.display.Markdown object>"
      ]
     },
     "metadata": {},
     "output_type": "display_data"
    },
    {
     "data": {
      "text/markdown": [
       "Expected themes: Burn"
      ],
      "text/plain": [
       "<IPython.core.display.Markdown object>"
      ]
     },
     "metadata": {},
     "output_type": "display_data"
    },
    {
     "data": {
      "text/markdown": [
       "Deck colors: R"
      ],
      "text/plain": [
       "<IPython.core.display.Markdown object>"
      ]
     },
     "metadata": {},
     "output_type": "display_data"
    },
    {
     "data": {
      "text/markdown": [
       "Found 64 candidate cards to consider"
      ],
      "text/plain": [
       "<IPython.core.display.Markdown object>"
      ]
     },
     "metadata": {},
     "output_type": "display_data"
    },
    {
     "data": {
      "text/markdown": [
       "Identified 13 cards as potential removal candidates"
      ],
      "text/plain": [
       "<IPython.core.display.Markdown object>"
      ]
     },
     "metadata": {},
     "output_type": "display_data"
    },
    {
     "data": {
      "text/markdown": [
       "# 🔄 Swap Recommendations for Red Burn"
      ],
      "text/plain": [
       "<IPython.core.display.Markdown object>"
      ]
     },
     "metadata": {},
     "output_type": "display_data"
    },
    {
     "data": {
      "text/markdown": [
       "**Projected New Coherence:** 51.5/100 (+50.0)"
      ],
      "text/plain": [
       "<IPython.core.display.Markdown object>"
      ]
     },
     "metadata": {},
     "output_type": "display_data"
    },
    {
     "data": {
      "text/markdown": [
       "### Cards to Remove:"
      ],
      "text/plain": [
       "<IPython.core.display.Markdown object>"
      ]
     },
     "metadata": {},
     "output_type": "display_data"
    },
    {
     "data": {
      "text/markdown": [
       "- **Ambitious Assault** (Theme Score: 1.0, CMC: 3.0)"
      ],
      "text/plain": [
       "<IPython.core.display.Markdown object>"
      ]
     },
     "metadata": {},
     "output_type": "display_data"
    },
    {
     "data": {
      "text/markdown": [
       "- **Barbed Batterfist** (Theme Score: 1.0, CMC: 2.0)"
      ],
      "text/plain": [
       "<IPython.core.display.Markdown object>"
      ]
     },
     "metadata": {},
     "output_type": "display_data"
    },
    {
     "data": {
      "text/markdown": [
       "### Cards to Add:"
      ],
      "text/plain": [
       "<IPython.core.display.Markdown object>"
      ]
     },
     "metadata": {},
     "output_type": "display_data"
    },
    {
     "data": {
      "text/markdown": [
       "- **Burst Lightning** (Theme Score: 6.0) - from Red Aggro"
      ],
      "text/plain": [
       "<IPython.core.display.Markdown object>"
      ]
     },
     "metadata": {},
     "output_type": "display_data"
    },
    {
     "data": {
      "text/markdown": [
       "- **Fanatical Firebrand** (Theme Score: 6.0) - from Red Small Creatures"
      ],
      "text/plain": [
       "<IPython.core.display.Markdown object>"
      ]
     },
     "metadata": {},
     "output_type": "display_data"
    },
    {
     "name": "stdout",
     "output_type": "stream",
     "text": [
      "1.8707692307692307\n",
      "{'expected_themes': ['Burn'], 'theme_score': 3.1538461538461537, 'theme_matches': [{'card': 'Galvanic Discharge', 'score': 3, 'themes': ['Burn']}, {'card': 'Burst Lightning', 'score': 6, 'themes': ['Burn']}, {'card': 'Ardent Elementalist', 'score': 2, 'themes': ['Burn']}, {'card': 'Dark-Dweller Oracle', 'score': 1, 'themes': ['Burn']}, {'card': 'Flame Slash', 'score': 2, 'themes': ['Burn']}, {'card': 'Incinerate', 'score': 4, 'themes': ['Burn']}, {'card': 'Red Herring', 'score': 3, 'themes': ['Burn']}, {'card': 'Scholar of Combustion', 'score': 2, 'themes': ['Burn']}, {'card': 'Skewer the Critics', 'score': 3, 'themes': ['Burn']}, {'card': 'Tuskeri Firewalker', 'score': 2, 'themes': ['Burn']}, {'card': 'Fanatical Firebrand', 'score': 6, 'themes': ['Burn']}, {'card': 'Teetering Peaks', 'score': 2, 'themes': ['Burn']}, {'card': 'Rift Bolt', 'score': 5, 'themes': ['Burn']}], 'color_coherence': 1.0, 'color_issues': [], 'mana_curve_score': 0.9692307692307692, 'mana_curve': {1: 4, 4: 2, 2: 3, 3: 3, 0: 1}, 'creature_stats': {'creature_count': 6, 'total_power': 13.0, 'total_toughness': 10.0, 'avg_power': 2.1666666666666665, 'avg_toughness': 1.6666666666666667, 'power_distribution': {2: 3, 3: 2, 1: 1}, 'toughness_distribution': {1: 2, 2: 4}, 'creature_categories': {'small': 4, 'medium': 2, 'large': 0, 'utility': 3, 'evasive': 0}, 'theme_alignment_score': 0.0, 'creature_details': [{'name': 'Ardent Elementalist', 'power': 2.0, 'toughness': 1.0, 'categories': ['small', 'utility'], 'has_evasion': False, 'has_utility': True}, {'name': 'Dark-Dweller Oracle', 'power': 2.0, 'toughness': 2.0, 'categories': ['small'], 'has_evasion': False, 'has_utility': False}, {'name': 'Red Herring', 'power': 2.0, 'toughness': 2.0, 'categories': ['small', 'utility'], 'has_evasion': False, 'has_utility': True}, {'name': 'Scholar of Combustion', 'power': 3.0, 'toughness': 2.0, 'categories': ['medium', 'utility'], 'has_evasion': False, 'has_utility': True}, {'name': 'Tuskeri Firewalker', 'power': 3.0, 'toughness': 2.0, 'categories': ['medium'], 'has_evasion': False, 'has_utility': False}, {'name': 'Fanatical Firebrand', 'power': 1.0, 'toughness': 1.0, 'categories': ['small'], 'has_evasion': False, 'has_utility': False}]}, 'overall_coherence': 1.8707692307692307, 'deck_colors': 'R', 'card_count': 13}\n",
      "Improved Red Burn coherence from 1.5 to 1.9\n",
      "Total coherence: 225.15 (improvement: 0.38)\n"
     ]
    },
    {
     "data": {
      "text/markdown": [
       "Analyzing deck: Blue Card Draw"
      ],
      "text/plain": [
       "<IPython.core.display.Markdown object>"
      ]
     },
     "metadata": {},
     "output_type": "display_data"
    },
    {
     "data": {
      "text/markdown": [
       "Current coherence: 1.7"
      ],
      "text/plain": [
       "<IPython.core.display.Markdown object>"
      ]
     },
     "metadata": {},
     "output_type": "display_data"
    },
    {
     "data": {
      "text/markdown": [
       "Expected themes: Card Draw"
      ],
      "text/plain": [
       "<IPython.core.display.Markdown object>"
      ]
     },
     "metadata": {},
     "output_type": "display_data"
    },
    {
     "data": {
      "text/markdown": [
       "Deck colors: U"
      ],
      "text/plain": [
       "<IPython.core.display.Markdown object>"
      ]
     },
     "metadata": {},
     "output_type": "display_data"
    },
    {
     "data": {
      "text/markdown": [
       "Found 39 candidate cards to consider"
      ],
      "text/plain": [
       "<IPython.core.display.Markdown object>"
      ]
     },
     "metadata": {},
     "output_type": "display_data"
    },
    {
     "data": {
      "text/markdown": [
       "Identified 13 cards as potential removal candidates"
      ],
      "text/plain": [
       "<IPython.core.display.Markdown object>"
      ]
     },
     "metadata": {},
     "output_type": "display_data"
    },
    {
     "data": {
      "text/markdown": [
       "# 🔄 Swap Recommendations for Blue Card Draw"
      ],
      "text/plain": [
       "<IPython.core.display.Markdown object>"
      ]
     },
     "metadata": {},
     "output_type": "display_data"
    },
    {
     "data": {
      "text/markdown": [
       "**Projected New Coherence:** 21.7/100 (+20.0)"
      ],
      "text/plain": [
       "<IPython.core.display.Markdown object>"
      ]
     },
     "metadata": {},
     "output_type": "display_data"
    },
    {
     "data": {
      "text/markdown": [
       "### Cards to Remove:"
      ],
      "text/plain": [
       "<IPython.core.display.Markdown object>"
      ]
     },
     "metadata": {},
     "output_type": "display_data"
    },
    {
     "data": {
      "text/markdown": [
       "- **Mist Raven** (Theme Score: 1.0, CMC: 4.0)"
      ],
      "text/plain": [
       "<IPython.core.display.Markdown object>"
      ]
     },
     "metadata": {},
     "output_type": "display_data"
    },
    {
     "data": {
      "text/markdown": [
       "- **Winter Eladrin** (Theme Score: 1.0, CMC: 3.0)"
      ],
      "text/plain": [
       "<IPython.core.display.Markdown object>"
      ]
     },
     "metadata": {},
     "output_type": "display_data"
    },
    {
     "data": {
      "text/markdown": [
       "### Cards to Add:"
      ],
      "text/plain": [
       "<IPython.core.display.Markdown object>"
      ]
     },
     "metadata": {},
     "output_type": "display_data"
    },
    {
     "data": {
      "text/markdown": [
       "- **Shardless Outlander** (Theme Score: 3.0) - from oracle pool"
      ],
      "text/plain": [
       "<IPython.core.display.Markdown object>"
      ]
     },
     "metadata": {},
     "output_type": "display_data"
    },
    {
     "data": {
      "text/markdown": [
       "- **Candy Trail** (Theme Score: 3.0) - from oracle pool"
      ],
      "text/plain": [
       "<IPython.core.display.Markdown object>"
      ]
     },
     "metadata": {},
     "output_type": "display_data"
    },
    {
     "name": "stdout",
     "output_type": "stream",
     "text": [
      "1.816923076923077\n",
      "{'expected_themes': ['Card Draw'], 'theme_score': 3.076923076923077, 'theme_matches': [{'card': 'Behold the Multiverse', 'score': 4, 'themes': ['Card Draw']}, {'card': 'Lórien Revealed', 'score': 4, 'themes': ['Card Draw']}, {'card': 'Consider', 'score': 3, 'themes': ['Card Draw']}, {'card': 'Deep Analysis', 'score': 2, 'themes': ['Card Draw']}, {'card': 'Looter il-Kor', 'score': 2, 'themes': ['Card Draw']}, {'card': 'Miscalculation', 'score': 2, 'themes': ['Card Draw']}, {'card': 'Moon-Circuit Hacker', 'score': 3, 'themes': ['Card Draw']}, {'card': 'Opt', 'score': 4, 'themes': ['Card Draw']}, {'card': 'Brainstorm', 'score': 4, 'themes': ['Card Draw']}, {'card': 'Preordain', 'score': 4, 'themes': ['Card Draw']}, {'card': 'Cruel Witness', 'score': 2, 'themes': ['Card Draw']}, {'card': 'Shardless Outlander', 'score': 3, 'themes': ['Card Draw']}, {'card': 'Candy Trail', 'score': 3, 'themes': ['Card Draw']}], 'color_coherence': 1.0, 'color_issues': [], 'mana_curve_score': 0.8923076923076922, 'mana_curve': {4: 3, 5: 1, 1: 5, 2: 3, 7: 1}, 'creature_stats': {'creature_count': 4, 'total_power': 12.0, 'total_toughness': 10.0, 'avg_power': 3.0, 'avg_toughness': 2.5, 'power_distribution': {1: 1, 2: 1, 3: 1, 6: 1}, 'toughness_distribution': {1: 2, 3: 1, 5: 1}, 'creature_categories': {'small': 2, 'medium': 1, 'large': 1, 'utility': 4, 'evasive': 3}, 'theme_alignment_score': 0.0, 'creature_details': [{'name': 'Looter il-Kor', 'power': 1.0, 'toughness': 1.0, 'categories': ['small', 'evasive', 'utility'], 'has_evasion': True, 'has_utility': True}, {'name': 'Moon-Circuit Hacker', 'power': 2.0, 'toughness': 1.0, 'categories': ['small', 'utility'], 'has_evasion': False, 'has_utility': True}, {'name': 'Cruel Witness', 'power': 3.0, 'toughness': 3.0, 'categories': ['medium', 'evasive', 'utility'], 'has_evasion': True, 'has_utility': True}, {'name': 'Shardless Outlander', 'power': 6.0, 'toughness': 5.0, 'categories': ['large', 'evasive', 'utility'], 'has_evasion': True, 'has_utility': True}]}, 'overall_coherence': 1.816923076923077, 'deck_colors': 'U', 'card_count': 13}\n",
      "Improved Blue Card Draw coherence from 1.7 to 1.8\n",
      "Total coherence: 225.30 (improvement: 0.15)\n"
     ]
    },
    {
     "data": {
      "text/markdown": [
       "Analyzing deck: Green Midrange"
      ],
      "text/plain": [
       "<IPython.core.display.Markdown object>"
      ]
     },
     "metadata": {},
     "output_type": "display_data"
    },
    {
     "data": {
      "text/markdown": [
       "Current coherence: 1.7"
      ],
      "text/plain": [
       "<IPython.core.display.Markdown object>"
      ]
     },
     "metadata": {},
     "output_type": "display_data"
    },
    {
     "data": {
      "text/markdown": [
       "Expected themes: Midrange"
      ],
      "text/plain": [
       "<IPython.core.display.Markdown object>"
      ]
     },
     "metadata": {},
     "output_type": "display_data"
    },
    {
     "data": {
      "text/markdown": [
       "Deck colors: G"
      ],
      "text/plain": [
       "<IPython.core.display.Markdown object>"
      ]
     },
     "metadata": {},
     "output_type": "display_data"
    },
    {
     "data": {
      "text/markdown": [
       "Found 66 candidate cards to consider"
      ],
      "text/plain": [
       "<IPython.core.display.Markdown object>"
      ]
     },
     "metadata": {},
     "output_type": "display_data"
    },
    {
     "data": {
      "text/markdown": [
       "Identified 13 cards as potential removal candidates"
      ],
      "text/plain": [
       "<IPython.core.display.Markdown object>"
      ]
     },
     "metadata": {},
     "output_type": "display_data"
    },
    {
     "data": {
      "text/markdown": [
       "# 🔄 Swap Recommendations for Green Midrange"
      ],
      "text/plain": [
       "<IPython.core.display.Markdown object>"
      ]
     },
     "metadata": {},
     "output_type": "display_data"
    },
    {
     "data": {
      "text/markdown": [
       "**Projected New Coherence:** 66.7/100 (+65.0)"
      ],
      "text/plain": [
       "<IPython.core.display.Markdown object>"
      ]
     },
     "metadata": {},
     "output_type": "display_data"
    },
    {
     "data": {
      "text/markdown": [
       "### Cards to Remove:"
      ],
      "text/plain": [
       "<IPython.core.display.Markdown object>"
      ]
     },
     "metadata": {},
     "output_type": "display_data"
    },
    {
     "data": {
      "text/markdown": [
       "- **Elvish Mystic** (Theme Score: 1.0, CMC: 1.0)"
      ],
      "text/plain": [
       "<IPython.core.display.Markdown object>"
      ]
     },
     "metadata": {},
     "output_type": "display_data"
    },
    {
     "data": {
      "text/markdown": [
       "- **Farseek** (Theme Score: 1.0, CMC: 2.0)"
      ],
      "text/plain": [
       "<IPython.core.display.Markdown object>"
      ]
     },
     "metadata": {},
     "output_type": "display_data"
    },
    {
     "data": {
      "text/markdown": [
       "### Cards to Add:"
      ],
      "text/plain": [
       "<IPython.core.display.Markdown object>"
      ]
     },
     "metadata": {},
     "output_type": "display_data"
    },
    {
     "data": {
      "text/markdown": [
       "- **Jewel Thief** (Theme Score: 9.0) - from Green Ramp"
      ],
      "text/plain": [
       "<IPython.core.display.Markdown object>"
      ]
     },
     "metadata": {},
     "output_type": "display_data"
    },
    {
     "data": {
      "text/markdown": [
       "- **Iron Apprentice** (Theme Score: 6.0) - from oracle pool"
      ],
      "text/plain": [
       "<IPython.core.display.Markdown object>"
      ]
     },
     "metadata": {},
     "output_type": "display_data"
    },
    {
     "name": "stdout",
     "output_type": "stream",
     "text": [
      "2.2399999999999998\n",
      "{'expected_themes': ['Midrange'], 'theme_score': 3.923076923076923, 'theme_matches': [{'card': 'Bloom Hulk', 'score': 4, 'themes': ['Midrange']}, {'card': 'Conclave Naturalists', 'score': 3, 'themes': ['Midrange']}, {'card': 'Hooting Mandrills', 'score': 2, 'themes': ['Midrange']}, {'card': 'Longstalk Brawl', 'score': 4, 'themes': ['Midrange']}, {'card': 'Massive Might', 'score': 2, 'themes': ['Midrange']}, {'card': 'Rancor', 'score': 3, 'themes': ['Midrange']}, {'card': 'Trumpeting Herd', 'score': 3, 'themes': ['Midrange']}, {'card': 'Vines of Vastwood', 'score': 2, 'themes': ['Midrange']}, {'card': 'Jewel Thief', 'score': 9, 'themes': ['Midrange']}, {'card': 'Bannerhide Krushok', 'score': 4, 'themes': ['Midrange']}, {'card': 'Ram Through', 'score': 2, 'themes': ['Midrange']}, {'card': 'Basking Broodscale', 'score': 7, 'themes': ['Midrange']}, {'card': 'Iron Apprentice', 'score': 6, 'themes': ['Midrange']}], 'color_coherence': 1.0, 'color_issues': [], 'mana_curve_score': 0.8923076923076922, 'mana_curve': {4: 3, 5: 1, 6: 1, 1: 5, 3: 1, 2: 2}, 'creature_stats': {'creature_count': 8, 'total_power': 21.0, 'total_toughness': 21.0, 'avg_power': 2.625, 'avg_toughness': 2.625, 'power_distribution': {4: 4, 0: 2, 3: 1, 2: 1}, 'toughness_distribution': {4: 4, 0: 2, 3: 1, 2: 1}, 'creature_categories': {'small': 3, 'medium': 5, 'large': 0, 'utility': 5, 'evasive': 3}, 'theme_alignment_score': 0.0, 'creature_details': [{'name': 'Bloom Hulk', 'power': 4.0, 'toughness': 4.0, 'categories': ['medium', 'utility'], 'has_evasion': False, 'has_utility': True}, {'name': 'Conclave Naturalists', 'power': 4.0, 'toughness': 4.0, 'categories': ['medium', 'utility'], 'has_evasion': False, 'has_utility': True}, {'name': 'Hooting Mandrills', 'power': 4.0, 'toughness': 4.0, 'categories': ['medium', 'evasive'], 'has_evasion': True, 'has_utility': False}, {'name': 'Trumpeting Herd', 'power': 0.0, 'toughness': 0.0, 'categories': ['small'], 'has_evasion': False, 'has_utility': False}, {'name': 'Jewel Thief', 'power': 3.0, 'toughness': 3.0, 'categories': ['medium', 'evasive', 'utility'], 'has_evasion': True, 'has_utility': True}, {'name': 'Bannerhide Krushok', 'power': 4.0, 'toughness': 4.0, 'categories': ['medium', 'evasive'], 'has_evasion': True, 'has_utility': False}, {'name': 'Basking Broodscale', 'power': 2.0, 'toughness': 2.0, 'categories': ['small', 'utility'], 'has_evasion': False, 'has_utility': True}, {'name': 'Iron Apprentice', 'power': 0.0, 'toughness': 0.0, 'categories': ['small', 'utility'], 'has_evasion': False, 'has_utility': True}]}, 'overall_coherence': 2.2399999999999998, 'deck_colors': 'G', 'card_count': 13}\n",
      "Improved Green Midrange coherence from 1.7 to 2.2\n",
      "Total coherence: 225.53 (improvement: 0.23)\n"
     ]
    },
    {
     "data": {
      "text/markdown": [
       "Analyzing deck: Green Ramp"
      ],
      "text/plain": [
       "<IPython.core.display.Markdown object>"
      ]
     },
     "metadata": {},
     "output_type": "display_data"
    },
    {
     "data": {
      "text/markdown": [
       "Current coherence: 1.8"
      ],
      "text/plain": [
       "<IPython.core.display.Markdown object>"
      ]
     },
     "metadata": {},
     "output_type": "display_data"
    },
    {
     "data": {
      "text/markdown": [
       "Expected themes: Ramp"
      ],
      "text/plain": [
       "<IPython.core.display.Markdown object>"
      ]
     },
     "metadata": {},
     "output_type": "display_data"
    },
    {
     "data": {
      "text/markdown": [
       "Deck colors: G"
      ],
      "text/plain": [
       "<IPython.core.display.Markdown object>"
      ]
     },
     "metadata": {},
     "output_type": "display_data"
    },
    {
     "data": {
      "text/markdown": [
       "Found 60 candidate cards to consider"
      ],
      "text/plain": [
       "<IPython.core.display.Markdown object>"
      ]
     },
     "metadata": {},
     "output_type": "display_data"
    },
    {
     "data": {
      "text/markdown": [
       "Identified 13 cards as potential removal candidates"
      ],
      "text/plain": [
       "<IPython.core.display.Markdown object>"
      ]
     },
     "metadata": {},
     "output_type": "display_data"
    },
    {
     "data": {
      "text/markdown": [
       "# 🔄 Swap Recommendations for Green Ramp"
      ],
      "text/plain": [
       "<IPython.core.display.Markdown object>"
      ]
     },
     "metadata": {},
     "output_type": "display_data"
    },
    {
     "data": {
      "text/markdown": [
       "**Projected New Coherence:** 81.8/100 (+80.0)"
      ],
      "text/plain": [
       "<IPython.core.display.Markdown object>"
      ]
     },
     "metadata": {},
     "output_type": "display_data"
    },
    {
     "data": {
      "text/markdown": [
       "### Cards to Remove:"
      ],
      "text/plain": [
       "<IPython.core.display.Markdown object>"
      ]
     },
     "metadata": {},
     "output_type": "display_data"
    },
    {
     "data": {
      "text/markdown": [
       "- **Wild Growth** (Theme Score: 0.0, CMC: 1.0)"
      ],
      "text/plain": [
       "<IPython.core.display.Markdown object>"
      ]
     },
     "metadata": {},
     "output_type": "display_data"
    },
    {
     "data": {
      "text/markdown": [
       "- **Horrific Assault** (Theme Score: 0.0, CMC: 1.0)"
      ],
      "text/plain": [
       "<IPython.core.display.Markdown object>"
      ]
     },
     "metadata": {},
     "output_type": "display_data"
    },
    {
     "data": {
      "text/markdown": [
       "### Cards to Add:"
      ],
      "text/plain": [
       "<IPython.core.display.Markdown object>"
      ]
     },
     "metadata": {},
     "output_type": "display_data"
    },
    {
     "data": {
      "text/markdown": [
       "- **Jewel Thief** (Theme Score: 8.0) - from Green Midrange"
      ],
      "text/plain": [
       "<IPython.core.display.Markdown object>"
      ]
     },
     "metadata": {},
     "output_type": "display_data"
    },
    {
     "data": {
      "text/markdown": [
       "- **Greater Tanuki** (Theme Score: 8.0) - from Green Stompy"
      ],
      "text/plain": [
       "<IPython.core.display.Markdown object>"
      ]
     },
     "metadata": {},
     "output_type": "display_data"
    },
    {
     "name": "stdout",
     "output_type": "stream",
     "text": [
      "2.393846153846154\n",
      "{'expected_themes': ['Ramp'], 'theme_score': 4.230769230769231, 'theme_matches': [{'card': 'Abundant Harvest', 'score': 3, 'themes': ['Ramp']}, {'card': 'Generous Ent', 'score': 8, 'themes': ['Ramp']}, {'card': 'Jewel Thief', 'score': 8, 'themes': ['Ramp']}, {'card': 'Arbor Elf', 'score': 1, 'themes': ['Ramp']}, {'card': 'Bushwhack', 'score': 5, 'themes': ['Ramp']}, {'card': 'Elvish Mystic', 'score': 1, 'themes': ['Ramp']}, {'card': 'Nyxborn Hydra', 'score': 2, 'themes': ['Ramp']}, {'card': 'Sakura-Tribe Elder', 'score': 8, 'themes': ['Ramp']}, {'card': 'Treetop Snarespinner', 'score': 1, 'themes': ['Ramp']}, {'card': 'Tuskguard Captain', 'score': 1, 'themes': ['Ramp']}, {'card': 'Voracious Varmint', 'score': 1, 'themes': ['Ramp']}, {'card': 'Yavimaya Elder', 'score': 8, 'themes': ['Ramp']}, {'card': 'Greater Tanuki', 'score': 8, 'themes': ['Ramp']}], 'color_coherence': 1.0, 'color_issues': [], 'mana_curve_score': 0.8923076923076925, 'mana_curve': {1: 5, 6: 2, 3: 3, 2: 2, 4: 1}, 'creature_stats': {'creature_count': 11, 'total_power': 24.0, 'total_toughness': 29.0, 'avg_power': 2.1818181818181817, 'avg_toughness': 2.6363636363636362, 'power_distribution': {5: 1, 3: 1, 1: 4, 0: 1, 2: 3, 6: 1}, 'toughness_distribution': {7: 1, 3: 2, 1: 5, 4: 1, 2: 1, 5: 1}, 'creature_categories': {'small': 8, 'medium': 1, 'large': 2, 'utility': 6, 'evasive': 5}, 'theme_alignment_score': 0.0, 'creature_details': [{'name': 'Generous Ent', 'power': 5.0, 'toughness': 7.0, 'categories': ['large', 'utility'], 'has_evasion': False, 'has_utility': True}, {'name': 'Jewel Thief', 'power': 3.0, 'toughness': 3.0, 'categories': ['medium', 'evasive', 'utility'], 'has_evasion': True, 'has_utility': True}, {'name': 'Arbor Elf', 'power': 1.0, 'toughness': 1.0, 'categories': ['small'], 'has_evasion': False, 'has_utility': False}, {'name': 'Elvish Mystic', 'power': 1.0, 'toughness': 1.0, 'categories': ['small'], 'has_evasion': False, 'has_utility': False}, {'name': 'Nyxborn Hydra', 'power': 0.0, 'toughness': 1.0, 'categories': ['small', 'evasive', 'utility'], 'has_evasion': True, 'has_utility': True}, {'name': 'Sakura-Tribe Elder', 'power': 1.0, 'toughness': 1.0, 'categories': ['small', 'utility'], 'has_evasion': False, 'has_utility': True}, {'name': 'Treetop Snarespinner', 'power': 1.0, 'toughness': 4.0, 'categories': ['small', 'evasive'], 'has_evasion': True, 'has_utility': False}, {'name': 'Tuskguard Captain', 'power': 2.0, 'toughness': 3.0, 'categories': ['small', 'evasive'], 'has_evasion': True, 'has_utility': False}, {'name': 'Voracious Varmint', 'power': 2.0, 'toughness': 2.0, 'categories': ['small'], 'has_evasion': False, 'has_utility': False}, {'name': 'Yavimaya Elder', 'power': 2.0, 'toughness': 1.0, 'categories': ['small', 'utility'], 'has_evasion': False, 'has_utility': True}, {'name': 'Greater Tanuki', 'power': 6.0, 'toughness': 5.0, 'categories': ['large', 'evasive', 'utility'], 'has_evasion': True, 'has_utility': True}]}, 'overall_coherence': 2.393846153846154, 'deck_colors': 'G', 'card_count': 13}\n",
      "Improved Green Ramp coherence from 1.8 to 2.4\n",
      "Total coherence: 225.42 (improvement: -0.12)\n"
     ]
    },
    {
     "data": {
      "text/markdown": [
       "Analyzing deck: Blue Card Draw"
      ],
      "text/plain": [
       "<IPython.core.display.Markdown object>"
      ]
     },
     "metadata": {},
     "output_type": "display_data"
    },
    {
     "data": {
      "text/markdown": [
       "Current coherence: 1.8"
      ],
      "text/plain": [
       "<IPython.core.display.Markdown object>"
      ]
     },
     "metadata": {},
     "output_type": "display_data"
    },
    {
     "data": {
      "text/markdown": [
       "Expected themes: Card Draw"
      ],
      "text/plain": [
       "<IPython.core.display.Markdown object>"
      ]
     },
     "metadata": {},
     "output_type": "display_data"
    },
    {
     "data": {
      "text/markdown": [
       "Deck colors: U"
      ],
      "text/plain": [
       "<IPython.core.display.Markdown object>"
      ]
     },
     "metadata": {},
     "output_type": "display_data"
    },
    {
     "data": {
      "text/markdown": [
       "Found 39 candidate cards to consider"
      ],
      "text/plain": [
       "<IPython.core.display.Markdown object>"
      ]
     },
     "metadata": {},
     "output_type": "display_data"
    },
    {
     "data": {
      "text/markdown": [
       "Identified 13 cards as potential removal candidates"
      ],
      "text/plain": [
       "<IPython.core.display.Markdown object>"
      ]
     },
     "metadata": {},
     "output_type": "display_data"
    },
    {
     "data": {
      "text/markdown": [
       "# 🔄 Swap Recommendations for Blue Card Draw"
      ],
      "text/plain": [
       "<IPython.core.display.Markdown object>"
      ]
     },
     "metadata": {},
     "output_type": "display_data"
    },
    {
     "data": {
      "text/markdown": [
       "**Projected New Coherence:** 11.8/100 (+10.0)"
      ],
      "text/plain": [
       "<IPython.core.display.Markdown object>"
      ]
     },
     "metadata": {},
     "output_type": "display_data"
    },
    {
     "data": {
      "text/markdown": [
       "### Cards to Remove:"
      ],
      "text/plain": [
       "<IPython.core.display.Markdown object>"
      ]
     },
     "metadata": {},
     "output_type": "display_data"
    },
    {
     "data": {
      "text/markdown": [
       "- **Deep Analysis** (Theme Score: 2.0, CMC: 4.0)"
      ],
      "text/plain": [
       "<IPython.core.display.Markdown object>"
      ]
     },
     "metadata": {},
     "output_type": "display_data"
    },
    {
     "data": {
      "text/markdown": [
       "- **Looter il-Kor** (Theme Score: 2.0, CMC: 2.0)"
      ],
      "text/plain": [
       "<IPython.core.display.Markdown object>"
      ]
     },
     "metadata": {},
     "output_type": "display_data"
    },
    {
     "data": {
      "text/markdown": [
       "### Cards to Add:"
      ],
      "text/plain": [
       "<IPython.core.display.Markdown object>"
      ]
     },
     "metadata": {},
     "output_type": "display_data"
    },
    {
     "data": {
      "text/markdown": [
       "- **Young Blue Dragon** (Theme Score: 3.0) - from Blue Control"
      ],
      "text/plain": [
       "<IPython.core.display.Markdown object>"
      ]
     },
     "metadata": {},
     "output_type": "display_data"
    },
    {
     "data": {
      "text/markdown": [
       "- **Condescend** (Theme Score: 3.0) - from Blue Flying"
      ],
      "text/plain": [
       "<IPython.core.display.Markdown object>"
      ]
     },
     "metadata": {},
     "output_type": "display_data"
    },
    {
     "name": "stdout",
     "output_type": "stream",
     "text": [
      "1.893846153846154\n",
      "{'expected_themes': ['Card Draw'], 'theme_score': 3.230769230769231, 'theme_matches': [{'card': 'Behold the Multiverse', 'score': 4, 'themes': ['Card Draw']}, {'card': 'Lórien Revealed', 'score': 4, 'themes': ['Card Draw']}, {'card': 'Consider', 'score': 3, 'themes': ['Card Draw']}, {'card': 'Miscalculation', 'score': 2, 'themes': ['Card Draw']}, {'card': 'Moon-Circuit Hacker', 'score': 3, 'themes': ['Card Draw']}, {'card': 'Opt', 'score': 4, 'themes': ['Card Draw']}, {'card': 'Young Blue Dragon', 'score': 3, 'themes': ['Card Draw']}, {'card': 'Brainstorm', 'score': 4, 'themes': ['Card Draw']}, {'card': 'Condescend', 'score': 3, 'themes': ['Card Draw']}, {'card': 'Preordain', 'score': 4, 'themes': ['Card Draw']}, {'card': 'Cruel Witness', 'score': 2, 'themes': ['Card Draw']}, {'card': 'Shardless Outlander', 'score': 3, 'themes': ['Card Draw']}, {'card': 'Candy Trail', 'score': 3, 'themes': ['Card Draw']}], 'color_coherence': 1.0, 'color_issues': [], 'mana_curve_score': 0.8923076923076922, 'mana_curve': {4: 2, 5: 2, 1: 6, 2: 2, 7: 1}, 'creature_stats': {'creature_count': 4, 'total_power': 14.0, 'total_toughness': 12.0, 'avg_power': 3.5, 'avg_toughness': 3.0, 'power_distribution': {2: 1, 3: 2, 6: 1}, 'toughness_distribution': {1: 1, 3: 2, 5: 1}, 'creature_categories': {'small': 1, 'medium': 2, 'large': 1, 'utility': 4, 'evasive': 3}, 'theme_alignment_score': 0.0, 'creature_details': [{'name': 'Moon-Circuit Hacker', 'power': 2.0, 'toughness': 1.0, 'categories': ['small', 'utility'], 'has_evasion': False, 'has_utility': True}, {'name': 'Young Blue Dragon', 'power': 3.0, 'toughness': 3.0, 'categories': ['medium', 'evasive', 'utility'], 'has_evasion': True, 'has_utility': True}, {'name': 'Cruel Witness', 'power': 3.0, 'toughness': 3.0, 'categories': ['medium', 'evasive', 'utility'], 'has_evasion': True, 'has_utility': True}, {'name': 'Shardless Outlander', 'power': 6.0, 'toughness': 5.0, 'categories': ['large', 'evasive', 'utility'], 'has_evasion': True, 'has_utility': True}]}, 'overall_coherence': 1.893846153846154, 'deck_colors': 'U', 'card_count': 13}\n",
      "Improved Blue Card Draw coherence from 1.8 to 1.9\n",
      "Total coherence: 225.35 (improvement: -0.06)\n"
     ]
    },
    {
     "data": {
      "text/markdown": [
       "Analyzing deck: Blue Tempo"
      ],
      "text/plain": [
       "<IPython.core.display.Markdown object>"
      ]
     },
     "metadata": {},
     "output_type": "display_data"
    },
    {
     "data": {
      "text/markdown": [
       "Current coherence: 1.8"
      ],
      "text/plain": [
       "<IPython.core.display.Markdown object>"
      ]
     },
     "metadata": {},
     "output_type": "display_data"
    },
    {
     "data": {
      "text/markdown": [
       "Expected themes: Tempo"
      ],
      "text/plain": [
       "<IPython.core.display.Markdown object>"
      ]
     },
     "metadata": {},
     "output_type": "display_data"
    },
    {
     "data": {
      "text/markdown": [
       "Deck colors: U"
      ],
      "text/plain": [
       "<IPython.core.display.Markdown object>"
      ]
     },
     "metadata": {},
     "output_type": "display_data"
    },
    {
     "data": {
      "text/markdown": [
       "Found 61 candidate cards to consider"
      ],
      "text/plain": [
       "<IPython.core.display.Markdown object>"
      ]
     },
     "metadata": {},
     "output_type": "display_data"
    },
    {
     "data": {
      "text/markdown": [
       "Identified 13 cards as potential removal candidates"
      ],
      "text/plain": [
       "<IPython.core.display.Markdown object>"
      ]
     },
     "metadata": {},
     "output_type": "display_data"
    },
    {
     "data": {
      "text/markdown": [
       "# 🔄 Swap Recommendations for Blue Tempo"
      ],
      "text/plain": [
       "<IPython.core.display.Markdown object>"
      ]
     },
     "metadata": {},
     "output_type": "display_data"
    },
    {
     "data": {
      "text/markdown": [
       "**Projected New Coherence:** 41.8/100 (+40.0)"
      ],
      "text/plain": [
       "<IPython.core.display.Markdown object>"
      ]
     },
     "metadata": {},
     "output_type": "display_data"
    },
    {
     "data": {
      "text/markdown": [
       "### Cards to Remove:"
      ],
      "text/plain": [
       "<IPython.core.display.Markdown object>"
      ]
     },
     "metadata": {},
     "output_type": "display_data"
    },
    {
     "data": {
      "text/markdown": [
       "- **Capsize** (Theme Score: 1.0, CMC: 3.0)"
      ],
      "text/plain": [
       "<IPython.core.display.Markdown object>"
      ]
     },
     "metadata": {},
     "output_type": "display_data"
    },
    {
     "data": {
      "text/markdown": [
       "- **Mana Leak** (Theme Score: 1.0, CMC: 2.0)"
      ],
      "text/plain": [
       "<IPython.core.display.Markdown object>"
      ]
     },
     "metadata": {},
     "output_type": "display_data"
    },
    {
     "data": {
      "text/markdown": [
       "### Cards to Add:"
      ],
      "text/plain": [
       "<IPython.core.display.Markdown object>"
      ]
     },
     "metadata": {},
     "output_type": "display_data"
    },
    {
     "data": {
      "text/markdown": [
       "- **Moon-Circuit Hacker** (Theme Score: 5.0) - from Blue Card Draw"
      ],
      "text/plain": [
       "<IPython.core.display.Markdown object>"
      ]
     },
     "metadata": {},
     "output_type": "display_data"
    },
    {
     "data": {
      "text/markdown": [
       "- **Vizier of Tumbling Sands** (Theme Score: 5.0) - from Blue Control"
      ],
      "text/plain": [
       "<IPython.core.display.Markdown object>"
      ]
     },
     "metadata": {},
     "output_type": "display_data"
    },
    {
     "name": "stdout",
     "output_type": "stream",
     "text": [
      "2.136923076923077\n",
      "{'expected_themes': ['Tempo'], 'theme_score': 3.6923076923076925, 'theme_matches': [{'card': 'Peregrine Drake', 'score': 5, 'themes': ['Tempo']}, {'card': 'Moon-Circuit Hacker', 'score': 5, 'themes': ['Tempo']}, {'card': 'Vizier of Tumbling Sands', 'score': 5, 'themes': ['Tempo']}, {'card': 'Cloudkin Seer', 'score': 4, 'themes': ['Tempo']}, {'card': 'Into the Roil', 'score': 3, 'themes': ['Tempo']}, {'card': 'Lose Focus', 'score': 2, 'themes': ['Tempo']}, {'card': 'Mocking Sprite', 'score': 1, 'themes': ['Tempo']}, {'card': 'Mulldrifter', 'score': 4, 'themes': ['Tempo']}, {'card': 'Phantom Interference', 'score': 2, 'themes': ['Tempo']}, {'card': 'Serum Visionary', 'score': 4, 'themes': ['Tempo']}, {'card': 'Zephyr Winder', 'score': 4, 'themes': ['Tempo']}, {'card': 'Pestermite', 'score': 6, 'themes': ['Tempo']}, {'card': 'Shipwreck Dowser', 'score': 3, 'themes': ['Tempo']}], 'color_coherence': 1.0, 'color_issues': [], 'mana_curve_score': 0.9538461538461539, 'mana_curve': {5: 3, 2: 4, 3: 5, 1: 1}, 'creature_stats': {'creature_count': 10, 'total_power': 20.0, 'total_toughness': 18.0, 'avg_power': 2.0, 'avg_toughness': 1.8, 'power_distribution': {2: 8, 1: 1, 3: 1}, 'toughness_distribution': {3: 3, 1: 5, 2: 2}, 'creature_categories': {'small': 9, 'medium': 1, 'large': 0, 'utility': 9, 'evasive': 6}, 'theme_alignment_score': 0.0, 'creature_details': [{'name': 'Peregrine Drake', 'power': 2.0, 'toughness': 3.0, 'categories': ['small', 'evasive', 'utility'], 'has_evasion': True, 'has_utility': True}, {'name': 'Moon-Circuit Hacker', 'power': 2.0, 'toughness': 1.0, 'categories': ['small', 'utility'], 'has_evasion': False, 'has_utility': True}, {'name': 'Vizier of Tumbling Sands', 'power': 1.0, 'toughness': 3.0, 'categories': ['small', 'utility'], 'has_evasion': False, 'has_utility': True}, {'name': 'Cloudkin Seer', 'power': 2.0, 'toughness': 1.0, 'categories': ['small', 'evasive', 'utility'], 'has_evasion': True, 'has_utility': True}, {'name': 'Mocking Sprite', 'power': 2.0, 'toughness': 1.0, 'categories': ['small', 'evasive'], 'has_evasion': True, 'has_utility': False}, {'name': 'Mulldrifter', 'power': 2.0, 'toughness': 2.0, 'categories': ['small', 'evasive', 'utility'], 'has_evasion': True, 'has_utility': True}, {'name': 'Serum Visionary', 'power': 2.0, 'toughness': 2.0, 'categories': ['small', 'utility'], 'has_evasion': False, 'has_utility': True}, {'name': 'Zephyr Winder', 'power': 2.0, 'toughness': 1.0, 'categories': ['small', 'evasive', 'utility'], 'has_evasion': True, 'has_utility': True}, {'name': 'Pestermite', 'power': 2.0, 'toughness': 1.0, 'categories': ['small', 'evasive', 'utility'], 'has_evasion': True, 'has_utility': True}, {'name': 'Shipwreck Dowser', 'power': 3.0, 'toughness': 3.0, 'categories': ['medium', 'utility'], 'has_evasion': False, 'has_utility': True}]}, 'overall_coherence': 2.136923076923077, 'deck_colors': 'U', 'card_count': 13}\n",
      "Improved Blue Tempo coherence from 1.8 to 2.1\n",
      "Total coherence: 225.12 (improvement: -0.23)\n"
     ]
    },
    {
     "data": {
      "text/markdown": [
       "Analyzing deck: Blue Card Draw"
      ],
      "text/plain": [
       "<IPython.core.display.Markdown object>"
      ]
     },
     "metadata": {},
     "output_type": "display_data"
    },
    {
     "data": {
      "text/markdown": [
       "Current coherence: 1.9"
      ],
      "text/plain": [
       "<IPython.core.display.Markdown object>"
      ]
     },
     "metadata": {},
     "output_type": "display_data"
    },
    {
     "data": {
      "text/markdown": [
       "Expected themes: Card Draw"
      ],
      "text/plain": [
       "<IPython.core.display.Markdown object>"
      ]
     },
     "metadata": {},
     "output_type": "display_data"
    },
    {
     "data": {
      "text/markdown": [
       "Deck colors: U"
      ],
      "text/plain": [
       "<IPython.core.display.Markdown object>"
      ]
     },
     "metadata": {},
     "output_type": "display_data"
    },
    {
     "data": {
      "text/markdown": [
       "Found 39 candidate cards to consider"
      ],
      "text/plain": [
       "<IPython.core.display.Markdown object>"
      ]
     },
     "metadata": {},
     "output_type": "display_data"
    },
    {
     "data": {
      "text/markdown": [
       "Identified 13 cards as potential removal candidates"
      ],
      "text/plain": [
       "<IPython.core.display.Markdown object>"
      ]
     },
     "metadata": {},
     "output_type": "display_data"
    },
    {
     "data": {
      "text/markdown": [
       "# 🔄 Swap Recommendations for Blue Card Draw"
      ],
      "text/plain": [
       "<IPython.core.display.Markdown object>"
      ]
     },
     "metadata": {},
     "output_type": "display_data"
    },
    {
     "data": {
      "text/markdown": [
       "**Projected New Coherence:** 11.9/100 (+10.0)"
      ],
      "text/plain": [
       "<IPython.core.display.Markdown object>"
      ]
     },
     "metadata": {},
     "output_type": "display_data"
    },
    {
     "data": {
      "text/markdown": [
       "### Cards to Remove:"
      ],
      "text/plain": [
       "<IPython.core.display.Markdown object>"
      ]
     },
     "metadata": {},
     "output_type": "display_data"
    },
    {
     "data": {
      "text/markdown": [
       "- **Miscalculation** (Theme Score: 2.0, CMC: 2.0)"
      ],
      "text/plain": [
       "<IPython.core.display.Markdown object>"
      ]
     },
     "metadata": {},
     "output_type": "display_data"
    },
    {
     "data": {
      "text/markdown": [
       "- **Capsize** (Theme Score: 2.0, CMC: 3.0)"
      ],
      "text/plain": [
       "<IPython.core.display.Markdown object>"
      ]
     },
     "metadata": {},
     "output_type": "display_data"
    },
    {
     "data": {
      "text/markdown": [
       "### Cards to Add:"
      ],
      "text/plain": [
       "<IPython.core.display.Markdown object>"
      ]
     },
     "metadata": {},
     "output_type": "display_data"
    },
    {
     "data": {
      "text/markdown": [
       "- **Moon-Circuit Hacker** (Theme Score: 3.0) - from Blue Tempo"
      ],
      "text/plain": [
       "<IPython.core.display.Markdown object>"
      ]
     },
     "metadata": {},
     "output_type": "display_data"
    },
    {
     "data": {
      "text/markdown": [
       "- **Repeal** (Theme Score: 3.0) - from Blue Flying"
      ],
      "text/plain": [
       "<IPython.core.display.Markdown object>"
      ]
     },
     "metadata": {},
     "output_type": "display_data"
    },
    {
     "name": "stdout",
     "output_type": "stream",
     "text": [
      "1.9323076923076923\n",
      "{'expected_themes': ['Card Draw'], 'theme_score': 3.3076923076923075, 'theme_matches': [{'card': 'Behold the Multiverse', 'score': 4, 'themes': ['Card Draw']}, {'card': 'Lórien Revealed', 'score': 4, 'themes': ['Card Draw']}, {'card': 'Consider', 'score': 3, 'themes': ['Card Draw']}, {'card': 'Moon-Circuit Hacker', 'score': 3, 'themes': ['Card Draw']}, {'card': 'Opt', 'score': 4, 'themes': ['Card Draw']}, {'card': 'Young Blue Dragon', 'score': 3, 'themes': ['Card Draw']}, {'card': 'Brainstorm', 'score': 4, 'themes': ['Card Draw']}, {'card': 'Condescend', 'score': 3, 'themes': ['Card Draw']}, {'card': 'Preordain', 'score': 4, 'themes': ['Card Draw']}, {'card': 'Repeal', 'score': 3, 'themes': ['Card Draw']}, {'card': 'Cruel Witness', 'score': 2, 'themes': ['Card Draw']}, {'card': 'Shardless Outlander', 'score': 3, 'themes': ['Card Draw']}, {'card': 'Candy Trail', 'score': 3, 'themes': ['Card Draw']}], 'color_coherence': 1.0, 'color_issues': [], 'mana_curve_score': 0.8923076923076922, 'mana_curve': {4: 2, 5: 2, 1: 7, 2: 1, 7: 1}, 'creature_stats': {'creature_count': 4, 'total_power': 14.0, 'total_toughness': 12.0, 'avg_power': 3.5, 'avg_toughness': 3.0, 'power_distribution': {2: 1, 3: 2, 6: 1}, 'toughness_distribution': {1: 1, 3: 2, 5: 1}, 'creature_categories': {'small': 1, 'medium': 2, 'large': 1, 'utility': 4, 'evasive': 3}, 'theme_alignment_score': 0.0, 'creature_details': [{'name': 'Moon-Circuit Hacker', 'power': 2.0, 'toughness': 1.0, 'categories': ['small', 'utility'], 'has_evasion': False, 'has_utility': True}, {'name': 'Young Blue Dragon', 'power': 3.0, 'toughness': 3.0, 'categories': ['medium', 'evasive', 'utility'], 'has_evasion': True, 'has_utility': True}, {'name': 'Cruel Witness', 'power': 3.0, 'toughness': 3.0, 'categories': ['medium', 'evasive', 'utility'], 'has_evasion': True, 'has_utility': True}, {'name': 'Shardless Outlander', 'power': 6.0, 'toughness': 5.0, 'categories': ['large', 'evasive', 'utility'], 'has_evasion': True, 'has_utility': True}]}, 'overall_coherence': 1.9323076923076923, 'deck_colors': 'U', 'card_count': 13}\n",
      "Improved Blue Card Draw coherence from 1.9 to 1.9\n",
      "Total coherence: 225.12 (improvement: 0.00)\n"
     ]
    },
    {
     "data": {
      "text/markdown": [
       "Analyzing deck: Red Burn"
      ],
      "text/plain": [
       "<IPython.core.display.Markdown object>"
      ]
     },
     "metadata": {},
     "output_type": "display_data"
    },
    {
     "data": {
      "text/markdown": [
       "Current coherence: 1.9"
      ],
      "text/plain": [
       "<IPython.core.display.Markdown object>"
      ]
     },
     "metadata": {},
     "output_type": "display_data"
    },
    {
     "data": {
      "text/markdown": [
       "Expected themes: Burn"
      ],
      "text/plain": [
       "<IPython.core.display.Markdown object>"
      ]
     },
     "metadata": {},
     "output_type": "display_data"
    },
    {
     "data": {
      "text/markdown": [
       "Deck colors: R"
      ],
      "text/plain": [
       "<IPython.core.display.Markdown object>"
      ]
     },
     "metadata": {},
     "output_type": "display_data"
    },
    {
     "data": {
      "text/markdown": [
       "Found 64 candidate cards to consider"
      ],
      "text/plain": [
       "<IPython.core.display.Markdown object>"
      ]
     },
     "metadata": {},
     "output_type": "display_data"
    },
    {
     "data": {
      "text/markdown": [
       "Identified 13 cards as potential removal candidates"
      ],
      "text/plain": [
       "<IPython.core.display.Markdown object>"
      ]
     },
     "metadata": {},
     "output_type": "display_data"
    },
    {
     "data": {
      "text/markdown": [
       "# 🔄 Swap Recommendations for Red Burn"
      ],
      "text/plain": [
       "<IPython.core.display.Markdown object>"
      ]
     },
     "metadata": {},
     "output_type": "display_data"
    },
    {
     "data": {
      "text/markdown": [
       "**Projected New Coherence:** 46.9/100 (+45.0)"
      ],
      "text/plain": [
       "<IPython.core.display.Markdown object>"
      ]
     },
     "metadata": {},
     "output_type": "display_data"
    },
    {
     "data": {
      "text/markdown": [
       "### Cards to Remove:"
      ],
      "text/plain": [
       "<IPython.core.display.Markdown object>"
      ]
     },
     "metadata": {},
     "output_type": "display_data"
    },
    {
     "data": {
      "text/markdown": [
       "- **Dark-Dweller Oracle** (Theme Score: 1.0, CMC: 2.0)"
      ],
      "text/plain": [
       "<IPython.core.display.Markdown object>"
      ]
     },
     "metadata": {},
     "output_type": "display_data"
    },
    {
     "data": {
      "text/markdown": [
       "- **Ardent Elementalist** (Theme Score: 2.0, CMC: 4.0)"
      ],
      "text/plain": [
       "<IPython.core.display.Markdown object>"
      ]
     },
     "metadata": {},
     "output_type": "display_data"
    },
    {
     "data": {
      "text/markdown": [
       "### Cards to Add:"
      ],
      "text/plain": [
       "<IPython.core.display.Markdown object>"
      ]
     },
     "metadata": {},
     "output_type": "display_data"
    },
    {
     "data": {
      "text/markdown": [
       "- **Firebolt** (Theme Score: 6.0) - from Red Small Creatures"
      ],
      "text/plain": [
       "<IPython.core.display.Markdown object>"
      ]
     },
     "metadata": {},
     "output_type": "display_data"
    },
    {
     "data": {
      "text/markdown": [
       "- **Lightning Bolt** (Theme Score: 6.0) - from Rakdos Burn/Damage"
      ],
      "text/plain": [
       "<IPython.core.display.Markdown object>"
      ]
     },
     "metadata": {},
     "output_type": "display_data"
    },
    {
     "name": "stdout",
     "output_type": "stream",
     "text": [
      "2.2199999999999998\n",
      "{'expected_themes': ['Burn'], 'theme_score': 3.8461538461538463, 'theme_matches': [{'card': 'Galvanic Discharge', 'score': 3, 'themes': ['Burn']}, {'card': 'Burst Lightning', 'score': 6, 'themes': ['Burn']}, {'card': 'Flame Slash', 'score': 2, 'themes': ['Burn']}, {'card': 'Incinerate', 'score': 4, 'themes': ['Burn']}, {'card': 'Red Herring', 'score': 3, 'themes': ['Burn']}, {'card': 'Scholar of Combustion', 'score': 2, 'themes': ['Burn']}, {'card': 'Skewer the Critics', 'score': 3, 'themes': ['Burn']}, {'card': 'Tuskeri Firewalker', 'score': 2, 'themes': ['Burn']}, {'card': 'Fanatical Firebrand', 'score': 6, 'themes': ['Burn']}, {'card': 'Firebolt', 'score': 6, 'themes': ['Burn']}, {'card': 'Teetering Peaks', 'score': 2, 'themes': ['Burn']}, {'card': 'Lightning Bolt', 'score': 6, 'themes': ['Burn']}, {'card': 'Rift Bolt', 'score': 5, 'themes': ['Burn']}], 'color_coherence': 1.0, 'color_issues': [], 'mana_curve_score': 0.9846153846153847, 'mana_curve': {1: 6, 2: 2, 4: 1, 3: 3, 0: 1}, 'creature_stats': {'creature_count': 4, 'total_power': 9.0, 'total_toughness': 7.0, 'avg_power': 2.25, 'avg_toughness': 1.75, 'power_distribution': {2: 1, 3: 2, 1: 1}, 'toughness_distribution': {2: 3, 1: 1}, 'creature_categories': {'small': 2, 'medium': 2, 'large': 0, 'utility': 2, 'evasive': 0}, 'theme_alignment_score': 0.0, 'creature_details': [{'name': 'Red Herring', 'power': 2.0, 'toughness': 2.0, 'categories': ['small', 'utility'], 'has_evasion': False, 'has_utility': True}, {'name': 'Scholar of Combustion', 'power': 3.0, 'toughness': 2.0, 'categories': ['medium', 'utility'], 'has_evasion': False, 'has_utility': True}, {'name': 'Tuskeri Firewalker', 'power': 3.0, 'toughness': 2.0, 'categories': ['medium'], 'has_evasion': False, 'has_utility': False}, {'name': 'Fanatical Firebrand', 'power': 1.0, 'toughness': 1.0, 'categories': ['small'], 'has_evasion': False, 'has_utility': False}]}, 'overall_coherence': 2.2199999999999998, 'deck_colors': 'R', 'card_count': 13}\n",
      "Improved Red Burn coherence from 1.9 to 2.2\n",
      "Total coherence: 225.39 (improvement: 0.27)\n"
     ]
    },
    {
     "data": {
      "text/markdown": [
       "Analyzing deck: Green Midrange"
      ],
      "text/plain": [
       "<IPython.core.display.Markdown object>"
      ]
     },
     "metadata": {},
     "output_type": "display_data"
    },
    {
     "data": {
      "text/markdown": [
       "Current coherence: 1.9"
      ],
      "text/plain": [
       "<IPython.core.display.Markdown object>"
      ]
     },
     "metadata": {},
     "output_type": "display_data"
    },
    {
     "data": {
      "text/markdown": [
       "Expected themes: Midrange"
      ],
      "text/plain": [
       "<IPython.core.display.Markdown object>"
      ]
     },
     "metadata": {},
     "output_type": "display_data"
    },
    {
     "data": {
      "text/markdown": [
       "Deck colors: G"
      ],
      "text/plain": [
       "<IPython.core.display.Markdown object>"
      ]
     },
     "metadata": {},
     "output_type": "display_data"
    },
    {
     "data": {
      "text/markdown": [
       "Found 67 candidate cards to consider"
      ],
      "text/plain": [
       "<IPython.core.display.Markdown object>"
      ]
     },
     "metadata": {},
     "output_type": "display_data"
    },
    {
     "data": {
      "text/markdown": [
       "Identified 13 cards as potential removal candidates"
      ],
      "text/plain": [
       "<IPython.core.display.Markdown object>"
      ]
     },
     "metadata": {},
     "output_type": "display_data"
    },
    {
     "data": {
      "text/markdown": [
       "# 🔄 Swap Recommendations for Green Midrange"
      ],
      "text/plain": [
       "<IPython.core.display.Markdown object>"
      ]
     },
     "metadata": {},
     "output_type": "display_data"
    },
    {
     "data": {
      "text/markdown": [
       "**Projected New Coherence:** 66.9/100 (+65.0)"
      ],
      "text/plain": [
       "<IPython.core.display.Markdown object>"
      ]
     },
     "metadata": {},
     "output_type": "display_data"
    },
    {
     "data": {
      "text/markdown": [
       "### Cards to Remove:"
      ],
      "text/plain": [
       "<IPython.core.display.Markdown object>"
      ]
     },
     "metadata": {},
     "output_type": "display_data"
    },
    {
     "data": {
      "text/markdown": [
       "- **Wild Growth** (Theme Score: 0.0, CMC: 1.0)"
      ],
      "text/plain": [
       "<IPython.core.display.Markdown object>"
      ]
     },
     "metadata": {},
     "output_type": "display_data"
    },
    {
     "data": {
      "text/markdown": [
       "- **Hooting Mandrills** (Theme Score: 2.0, CMC: 6.0)"
      ],
      "text/plain": [
       "<IPython.core.display.Markdown object>"
      ]
     },
     "metadata": {},
     "output_type": "display_data"
    },
    {
     "data": {
      "text/markdown": [
       "### Cards to Add:"
      ],
      "text/plain": [
       "<IPython.core.display.Markdown object>"
      ]
     },
     "metadata": {},
     "output_type": "display_data"
    },
    {
     "data": {
      "text/markdown": [
       "- **Jewel Thief** (Theme Score: 9.0) - from Green Ramp"
      ],
      "text/plain": [
       "<IPython.core.display.Markdown object>"
      ]
     },
     "metadata": {},
     "output_type": "display_data"
    },
    {
     "data": {
      "text/markdown": [
       "- **Generous Ent** (Theme Score: 6.0) - from Green Ramp"
      ],
      "text/plain": [
       "<IPython.core.display.Markdown object>"
      ]
     },
     "metadata": {},
     "output_type": "display_data"
    },
    {
     "name": "stdout",
     "output_type": "stream",
     "text": [
      "2.393846153846154\n",
      "{'expected_themes': ['Midrange'], 'theme_score': 4.230769230769231, 'theme_matches': [{'card': 'Bloom Hulk', 'score': 4, 'themes': ['Midrange']}, {'card': 'Conclave Naturalists', 'score': 3, 'themes': ['Midrange']}, {'card': 'Longstalk Brawl', 'score': 4, 'themes': ['Midrange']}, {'card': 'Massive Might', 'score': 2, 'themes': ['Midrange']}, {'card': 'Rancor', 'score': 3, 'themes': ['Midrange']}, {'card': 'Trumpeting Herd', 'score': 3, 'themes': ['Midrange']}, {'card': 'Vines of Vastwood', 'score': 2, 'themes': ['Midrange']}, {'card': 'Generous Ent', 'score': 6, 'themes': ['Midrange']}, {'card': 'Jewel Thief', 'score': 9, 'themes': ['Midrange']}, {'card': 'Bannerhide Krushok', 'score': 4, 'themes': ['Midrange']}, {'card': 'Ram Through', 'score': 2, 'themes': ['Midrange']}, {'card': 'Basking Broodscale', 'score': 7, 'themes': ['Midrange']}, {'card': 'Iron Apprentice', 'score': 6, 'themes': ['Midrange']}], 'color_coherence': 1.0, 'color_issues': [], 'mana_curve_score': 0.8923076923076922, 'mana_curve': {4: 3, 5: 1, 1: 5, 6: 1, 3: 1, 2: 2}, 'creature_stats': {'creature_count': 8, 'total_power': 22.0, 'total_toughness': 24.0, 'avg_power': 2.75, 'avg_toughness': 3.0, 'power_distribution': {4: 3, 0: 2, 5: 1, 3: 1, 2: 1}, 'toughness_distribution': {4: 3, 0: 2, 7: 1, 3: 1, 2: 1}, 'creature_categories': {'small': 3, 'medium': 4, 'large': 1, 'utility': 6, 'evasive': 2}, 'theme_alignment_score': 0.0, 'creature_details': [{'name': 'Bloom Hulk', 'power': 4.0, 'toughness': 4.0, 'categories': ['medium', 'utility'], 'has_evasion': False, 'has_utility': True}, {'name': 'Conclave Naturalists', 'power': 4.0, 'toughness': 4.0, 'categories': ['medium', 'utility'], 'has_evasion': False, 'has_utility': True}, {'name': 'Trumpeting Herd', 'power': 0.0, 'toughness': 0.0, 'categories': ['small'], 'has_evasion': False, 'has_utility': False}, {'name': 'Generous Ent', 'power': 5.0, 'toughness': 7.0, 'categories': ['large', 'utility'], 'has_evasion': False, 'has_utility': True}, {'name': 'Jewel Thief', 'power': 3.0, 'toughness': 3.0, 'categories': ['medium', 'evasive', 'utility'], 'has_evasion': True, 'has_utility': True}, {'name': 'Bannerhide Krushok', 'power': 4.0, 'toughness': 4.0, 'categories': ['medium', 'evasive'], 'has_evasion': True, 'has_utility': False}, {'name': 'Basking Broodscale', 'power': 2.0, 'toughness': 2.0, 'categories': ['small', 'utility'], 'has_evasion': False, 'has_utility': True}, {'name': 'Iron Apprentice', 'power': 0.0, 'toughness': 0.0, 'categories': ['small', 'utility'], 'has_evasion': False, 'has_utility': True}]}, 'overall_coherence': 2.393846153846154, 'deck_colors': 'G', 'card_count': 13}\n",
      "Improved Green Midrange coherence from 1.9 to 2.4\n",
      "Total coherence: 225.28 (improvement: -0.12)\n"
     ]
    },
    {
     "data": {
      "text/markdown": [
       "Analyzing deck: Green Ramp"
      ],
      "text/plain": [
       "<IPython.core.display.Markdown object>"
      ]
     },
     "metadata": {},
     "output_type": "display_data"
    },
    {
     "data": {
      "text/markdown": [
       "Current coherence: 1.8"
      ],
      "text/plain": [
       "<IPython.core.display.Markdown object>"
      ]
     },
     "metadata": {},
     "output_type": "display_data"
    },
    {
     "data": {
      "text/markdown": [
       "Expected themes: Ramp"
      ],
      "text/plain": [
       "<IPython.core.display.Markdown object>"
      ]
     },
     "metadata": {},
     "output_type": "display_data"
    },
    {
     "data": {
      "text/markdown": [
       "Deck colors: G"
      ],
      "text/plain": [
       "<IPython.core.display.Markdown object>"
      ]
     },
     "metadata": {},
     "output_type": "display_data"
    },
    {
     "data": {
      "text/markdown": [
       "Found 60 candidate cards to consider"
      ],
      "text/plain": [
       "<IPython.core.display.Markdown object>"
      ]
     },
     "metadata": {},
     "output_type": "display_data"
    },
    {
     "data": {
      "text/markdown": [
       "Identified 13 cards as potential removal candidates"
      ],
      "text/plain": [
       "<IPython.core.display.Markdown object>"
      ]
     },
     "metadata": {},
     "output_type": "display_data"
    },
    {
     "data": {
      "text/markdown": [
       "# 🔄 Swap Recommendations for Green Ramp"
      ],
      "text/plain": [
       "<IPython.core.display.Markdown object>"
      ]
     },
     "metadata": {},
     "output_type": "display_data"
    },
    {
     "data": {
      "text/markdown": [
       "**Projected New Coherence:** 81.8/100 (+80.0)"
      ],
      "text/plain": [
       "<IPython.core.display.Markdown object>"
      ]
     },
     "metadata": {},
     "output_type": "display_data"
    },
    {
     "data": {
      "text/markdown": [
       "### Cards to Remove:"
      ],
      "text/plain": [
       "<IPython.core.display.Markdown object>"
      ]
     },
     "metadata": {},
     "output_type": "display_data"
    },
    {
     "data": {
      "text/markdown": [
       "- **Hooting Mandrills** (Theme Score: 0.0, CMC: 6.0)"
      ],
      "text/plain": [
       "<IPython.core.display.Markdown object>"
      ]
     },
     "metadata": {},
     "output_type": "display_data"
    },
    {
     "data": {
      "text/markdown": [
       "- **Wild Growth** (Theme Score: 0.0, CMC: 1.0)"
      ],
      "text/plain": [
       "<IPython.core.display.Markdown object>"
      ]
     },
     "metadata": {},
     "output_type": "display_data"
    },
    {
     "data": {
      "text/markdown": [
       "### Cards to Add:"
      ],
      "text/plain": [
       "<IPython.core.display.Markdown object>"
      ]
     },
     "metadata": {},
     "output_type": "display_data"
    },
    {
     "data": {
      "text/markdown": [
       "- **Generous Ent** (Theme Score: 8.0) - from Green Midrange"
      ],
      "text/plain": [
       "<IPython.core.display.Markdown object>"
      ]
     },
     "metadata": {},
     "output_type": "display_data"
    },
    {
     "data": {
      "text/markdown": [
       "- **Jewel Thief** (Theme Score: 8.0) - from Green Midrange"
      ],
      "text/plain": [
       "<IPython.core.display.Markdown object>"
      ]
     },
     "metadata": {},
     "output_type": "display_data"
    },
    {
     "name": "stdout",
     "output_type": "stream",
     "text": [
      "2.393846153846154\n",
      "{'expected_themes': ['Ramp'], 'theme_score': 4.230769230769231, 'theme_matches': [{'card': 'Abundant Harvest', 'score': 3, 'themes': ['Ramp']}, {'card': 'Generous Ent', 'score': 8, 'themes': ['Ramp']}, {'card': 'Jewel Thief', 'score': 8, 'themes': ['Ramp']}, {'card': 'Arbor Elf', 'score': 1, 'themes': ['Ramp']}, {'card': 'Bushwhack', 'score': 5, 'themes': ['Ramp']}, {'card': 'Elvish Mystic', 'score': 1, 'themes': ['Ramp']}, {'card': 'Nyxborn Hydra', 'score': 2, 'themes': ['Ramp']}, {'card': 'Sakura-Tribe Elder', 'score': 8, 'themes': ['Ramp']}, {'card': 'Treetop Snarespinner', 'score': 1, 'themes': ['Ramp']}, {'card': 'Tuskguard Captain', 'score': 1, 'themes': ['Ramp']}, {'card': 'Voracious Varmint', 'score': 1, 'themes': ['Ramp']}, {'card': 'Yavimaya Elder', 'score': 8, 'themes': ['Ramp']}, {'card': 'Greater Tanuki', 'score': 8, 'themes': ['Ramp']}], 'color_coherence': 1.0, 'color_issues': [], 'mana_curve_score': 0.8923076923076925, 'mana_curve': {1: 5, 6: 2, 3: 3, 2: 2, 4: 1}, 'creature_stats': {'creature_count': 11, 'total_power': 24.0, 'total_toughness': 29.0, 'avg_power': 2.1818181818181817, 'avg_toughness': 2.6363636363636362, 'power_distribution': {5: 1, 3: 1, 1: 4, 0: 1, 2: 3, 6: 1}, 'toughness_distribution': {7: 1, 3: 2, 1: 5, 4: 1, 2: 1, 5: 1}, 'creature_categories': {'small': 8, 'medium': 1, 'large': 2, 'utility': 6, 'evasive': 5}, 'theme_alignment_score': 0.0, 'creature_details': [{'name': 'Generous Ent', 'power': 5.0, 'toughness': 7.0, 'categories': ['large', 'utility'], 'has_evasion': False, 'has_utility': True}, {'name': 'Jewel Thief', 'power': 3.0, 'toughness': 3.0, 'categories': ['medium', 'evasive', 'utility'], 'has_evasion': True, 'has_utility': True}, {'name': 'Arbor Elf', 'power': 1.0, 'toughness': 1.0, 'categories': ['small'], 'has_evasion': False, 'has_utility': False}, {'name': 'Elvish Mystic', 'power': 1.0, 'toughness': 1.0, 'categories': ['small'], 'has_evasion': False, 'has_utility': False}, {'name': 'Nyxborn Hydra', 'power': 0.0, 'toughness': 1.0, 'categories': ['small', 'evasive', 'utility'], 'has_evasion': True, 'has_utility': True}, {'name': 'Sakura-Tribe Elder', 'power': 1.0, 'toughness': 1.0, 'categories': ['small', 'utility'], 'has_evasion': False, 'has_utility': True}, {'name': 'Treetop Snarespinner', 'power': 1.0, 'toughness': 4.0, 'categories': ['small', 'evasive'], 'has_evasion': True, 'has_utility': False}, {'name': 'Tuskguard Captain', 'power': 2.0, 'toughness': 3.0, 'categories': ['small', 'evasive'], 'has_evasion': True, 'has_utility': False}, {'name': 'Voracious Varmint', 'power': 2.0, 'toughness': 2.0, 'categories': ['small'], 'has_evasion': False, 'has_utility': False}, {'name': 'Yavimaya Elder', 'power': 2.0, 'toughness': 1.0, 'categories': ['small', 'utility'], 'has_evasion': False, 'has_utility': True}, {'name': 'Greater Tanuki', 'power': 6.0, 'toughness': 5.0, 'categories': ['large', 'evasive', 'utility'], 'has_evasion': True, 'has_utility': True}]}, 'overall_coherence': 2.393846153846154, 'deck_colors': 'G', 'card_count': 13}\n",
      "Improved Green Ramp coherence from 1.8 to 2.4\n",
      "Total coherence: 225.39 (improvement: 0.12)\n"
     ]
    },
    {
     "data": {
      "text/markdown": [
       "Analyzing deck: Green Midrange"
      ],
      "text/plain": [
       "<IPython.core.display.Markdown object>"
      ]
     },
     "metadata": {},
     "output_type": "display_data"
    },
    {
     "data": {
      "text/markdown": [
       "Current coherence: 1.9"
      ],
      "text/plain": [
       "<IPython.core.display.Markdown object>"
      ]
     },
     "metadata": {},
     "output_type": "display_data"
    },
    {
     "data": {
      "text/markdown": [
       "Expected themes: Midrange"
      ],
      "text/plain": [
       "<IPython.core.display.Markdown object>"
      ]
     },
     "metadata": {},
     "output_type": "display_data"
    },
    {
     "data": {
      "text/markdown": [
       "Deck colors: G"
      ],
      "text/plain": [
       "<IPython.core.display.Markdown object>"
      ]
     },
     "metadata": {},
     "output_type": "display_data"
    },
    {
     "data": {
      "text/markdown": [
       "Found 67 candidate cards to consider"
      ],
      "text/plain": [
       "<IPython.core.display.Markdown object>"
      ]
     },
     "metadata": {},
     "output_type": "display_data"
    },
    {
     "data": {
      "text/markdown": [
       "Identified 13 cards as potential removal candidates"
      ],
      "text/plain": [
       "<IPython.core.display.Markdown object>"
      ]
     },
     "metadata": {},
     "output_type": "display_data"
    },
    {
     "data": {
      "text/markdown": [
       "# 🔄 Swap Recommendations for Green Midrange"
      ],
      "text/plain": [
       "<IPython.core.display.Markdown object>"
      ]
     },
     "metadata": {},
     "output_type": "display_data"
    },
    {
     "data": {
      "text/markdown": [
       "**Projected New Coherence:** 66.9/100 (+65.0)"
      ],
      "text/plain": [
       "<IPython.core.display.Markdown object>"
      ]
     },
     "metadata": {},
     "output_type": "display_data"
    },
    {
     "data": {
      "text/markdown": [
       "### Cards to Remove:"
      ],
      "text/plain": [
       "<IPython.core.display.Markdown object>"
      ]
     },
     "metadata": {},
     "output_type": "display_data"
    },
    {
     "data": {
      "text/markdown": [
       "- **Wild Growth** (Theme Score: 0.0, CMC: 1.0)"
      ],
      "text/plain": [
       "<IPython.core.display.Markdown object>"
      ]
     },
     "metadata": {},
     "output_type": "display_data"
    },
    {
     "data": {
      "text/markdown": [
       "- **Hooting Mandrills** (Theme Score: 2.0, CMC: 6.0)"
      ],
      "text/plain": [
       "<IPython.core.display.Markdown object>"
      ]
     },
     "metadata": {},
     "output_type": "display_data"
    },
    {
     "data": {
      "text/markdown": [
       "### Cards to Add:"
      ],
      "text/plain": [
       "<IPython.core.display.Markdown object>"
      ]
     },
     "metadata": {},
     "output_type": "display_data"
    },
    {
     "data": {
      "text/markdown": [
       "- **Jewel Thief** (Theme Score: 9.0) - from Green Ramp"
      ],
      "text/plain": [
       "<IPython.core.display.Markdown object>"
      ]
     },
     "metadata": {},
     "output_type": "display_data"
    },
    {
     "data": {
      "text/markdown": [
       "- **Generous Ent** (Theme Score: 6.0) - from Green Ramp"
      ],
      "text/plain": [
       "<IPython.core.display.Markdown object>"
      ]
     },
     "metadata": {},
     "output_type": "display_data"
    },
    {
     "name": "stdout",
     "output_type": "stream",
     "text": [
      "2.393846153846154\n",
      "{'expected_themes': ['Midrange'], 'theme_score': 4.230769230769231, 'theme_matches': [{'card': 'Bloom Hulk', 'score': 4, 'themes': ['Midrange']}, {'card': 'Conclave Naturalists', 'score': 3, 'themes': ['Midrange']}, {'card': 'Longstalk Brawl', 'score': 4, 'themes': ['Midrange']}, {'card': 'Massive Might', 'score': 2, 'themes': ['Midrange']}, {'card': 'Rancor', 'score': 3, 'themes': ['Midrange']}, {'card': 'Trumpeting Herd', 'score': 3, 'themes': ['Midrange']}, {'card': 'Vines of Vastwood', 'score': 2, 'themes': ['Midrange']}, {'card': 'Generous Ent', 'score': 6, 'themes': ['Midrange']}, {'card': 'Jewel Thief', 'score': 9, 'themes': ['Midrange']}, {'card': 'Bannerhide Krushok', 'score': 4, 'themes': ['Midrange']}, {'card': 'Ram Through', 'score': 2, 'themes': ['Midrange']}, {'card': 'Basking Broodscale', 'score': 7, 'themes': ['Midrange']}, {'card': 'Iron Apprentice', 'score': 6, 'themes': ['Midrange']}], 'color_coherence': 1.0, 'color_issues': [], 'mana_curve_score': 0.8923076923076922, 'mana_curve': {4: 3, 5: 1, 1: 5, 6: 1, 3: 1, 2: 2}, 'creature_stats': {'creature_count': 8, 'total_power': 22.0, 'total_toughness': 24.0, 'avg_power': 2.75, 'avg_toughness': 3.0, 'power_distribution': {4: 3, 0: 2, 5: 1, 3: 1, 2: 1}, 'toughness_distribution': {4: 3, 0: 2, 7: 1, 3: 1, 2: 1}, 'creature_categories': {'small': 3, 'medium': 4, 'large': 1, 'utility': 6, 'evasive': 2}, 'theme_alignment_score': 0.0, 'creature_details': [{'name': 'Bloom Hulk', 'power': 4.0, 'toughness': 4.0, 'categories': ['medium', 'utility'], 'has_evasion': False, 'has_utility': True}, {'name': 'Conclave Naturalists', 'power': 4.0, 'toughness': 4.0, 'categories': ['medium', 'utility'], 'has_evasion': False, 'has_utility': True}, {'name': 'Trumpeting Herd', 'power': 0.0, 'toughness': 0.0, 'categories': ['small'], 'has_evasion': False, 'has_utility': False}, {'name': 'Generous Ent', 'power': 5.0, 'toughness': 7.0, 'categories': ['large', 'utility'], 'has_evasion': False, 'has_utility': True}, {'name': 'Jewel Thief', 'power': 3.0, 'toughness': 3.0, 'categories': ['medium', 'evasive', 'utility'], 'has_evasion': True, 'has_utility': True}, {'name': 'Bannerhide Krushok', 'power': 4.0, 'toughness': 4.0, 'categories': ['medium', 'evasive'], 'has_evasion': True, 'has_utility': False}, {'name': 'Basking Broodscale', 'power': 2.0, 'toughness': 2.0, 'categories': ['small', 'utility'], 'has_evasion': False, 'has_utility': True}, {'name': 'Iron Apprentice', 'power': 0.0, 'toughness': 0.0, 'categories': ['small', 'utility'], 'has_evasion': False, 'has_utility': True}]}, 'overall_coherence': 2.393846153846154, 'deck_colors': 'G', 'card_count': 13}\n",
      "Improved Green Midrange coherence from 1.9 to 2.4\n",
      "Total coherence: 225.28 (improvement: -0.12)\n"
     ]
    },
    {
     "data": {
      "text/markdown": [
       "Analyzing deck: Green Ramp"
      ],
      "text/plain": [
       "<IPython.core.display.Markdown object>"
      ]
     },
     "metadata": {},
     "output_type": "display_data"
    },
    {
     "data": {
      "text/markdown": [
       "Current coherence: 1.8"
      ],
      "text/plain": [
       "<IPython.core.display.Markdown object>"
      ]
     },
     "metadata": {},
     "output_type": "display_data"
    },
    {
     "data": {
      "text/markdown": [
       "Expected themes: Ramp"
      ],
      "text/plain": [
       "<IPython.core.display.Markdown object>"
      ]
     },
     "metadata": {},
     "output_type": "display_data"
    },
    {
     "data": {
      "text/markdown": [
       "Deck colors: G"
      ],
      "text/plain": [
       "<IPython.core.display.Markdown object>"
      ]
     },
     "metadata": {},
     "output_type": "display_data"
    },
    {
     "data": {
      "text/markdown": [
       "Found 60 candidate cards to consider"
      ],
      "text/plain": [
       "<IPython.core.display.Markdown object>"
      ]
     },
     "metadata": {},
     "output_type": "display_data"
    },
    {
     "data": {
      "text/markdown": [
       "Identified 13 cards as potential removal candidates"
      ],
      "text/plain": [
       "<IPython.core.display.Markdown object>"
      ]
     },
     "metadata": {},
     "output_type": "display_data"
    },
    {
     "data": {
      "text/markdown": [
       "# 🔄 Swap Recommendations for Green Ramp"
      ],
      "text/plain": [
       "<IPython.core.display.Markdown object>"
      ]
     },
     "metadata": {},
     "output_type": "display_data"
    },
    {
     "data": {
      "text/markdown": [
       "**Projected New Coherence:** 81.8/100 (+80.0)"
      ],
      "text/plain": [
       "<IPython.core.display.Markdown object>"
      ]
     },
     "metadata": {},
     "output_type": "display_data"
    },
    {
     "data": {
      "text/markdown": [
       "### Cards to Remove:"
      ],
      "text/plain": [
       "<IPython.core.display.Markdown object>"
      ]
     },
     "metadata": {},
     "output_type": "display_data"
    },
    {
     "data": {
      "text/markdown": [
       "- **Hooting Mandrills** (Theme Score: 0.0, CMC: 6.0)"
      ],
      "text/plain": [
       "<IPython.core.display.Markdown object>"
      ]
     },
     "metadata": {},
     "output_type": "display_data"
    },
    {
     "data": {
      "text/markdown": [
       "- **Wild Growth** (Theme Score: 0.0, CMC: 1.0)"
      ],
      "text/plain": [
       "<IPython.core.display.Markdown object>"
      ]
     },
     "metadata": {},
     "output_type": "display_data"
    },
    {
     "data": {
      "text/markdown": [
       "### Cards to Add:"
      ],
      "text/plain": [
       "<IPython.core.display.Markdown object>"
      ]
     },
     "metadata": {},
     "output_type": "display_data"
    },
    {
     "data": {
      "text/markdown": [
       "- **Generous Ent** (Theme Score: 8.0) - from Green Midrange"
      ],
      "text/plain": [
       "<IPython.core.display.Markdown object>"
      ]
     },
     "metadata": {},
     "output_type": "display_data"
    },
    {
     "data": {
      "text/markdown": [
       "- **Jewel Thief** (Theme Score: 8.0) - from Green Midrange"
      ],
      "text/plain": [
       "<IPython.core.display.Markdown object>"
      ]
     },
     "metadata": {},
     "output_type": "display_data"
    },
    {
     "name": "stdout",
     "output_type": "stream",
     "text": [
      "2.393846153846154\n",
      "{'expected_themes': ['Ramp'], 'theme_score': 4.230769230769231, 'theme_matches': [{'card': 'Abundant Harvest', 'score': 3, 'themes': ['Ramp']}, {'card': 'Generous Ent', 'score': 8, 'themes': ['Ramp']}, {'card': 'Jewel Thief', 'score': 8, 'themes': ['Ramp']}, {'card': 'Arbor Elf', 'score': 1, 'themes': ['Ramp']}, {'card': 'Bushwhack', 'score': 5, 'themes': ['Ramp']}, {'card': 'Elvish Mystic', 'score': 1, 'themes': ['Ramp']}, {'card': 'Nyxborn Hydra', 'score': 2, 'themes': ['Ramp']}, {'card': 'Sakura-Tribe Elder', 'score': 8, 'themes': ['Ramp']}, {'card': 'Treetop Snarespinner', 'score': 1, 'themes': ['Ramp']}, {'card': 'Tuskguard Captain', 'score': 1, 'themes': ['Ramp']}, {'card': 'Voracious Varmint', 'score': 1, 'themes': ['Ramp']}, {'card': 'Yavimaya Elder', 'score': 8, 'themes': ['Ramp']}, {'card': 'Greater Tanuki', 'score': 8, 'themes': ['Ramp']}], 'color_coherence': 1.0, 'color_issues': [], 'mana_curve_score': 0.8923076923076925, 'mana_curve': {1: 5, 6: 2, 3: 3, 2: 2, 4: 1}, 'creature_stats': {'creature_count': 11, 'total_power': 24.0, 'total_toughness': 29.0, 'avg_power': 2.1818181818181817, 'avg_toughness': 2.6363636363636362, 'power_distribution': {5: 1, 3: 1, 1: 4, 0: 1, 2: 3, 6: 1}, 'toughness_distribution': {7: 1, 3: 2, 1: 5, 4: 1, 2: 1, 5: 1}, 'creature_categories': {'small': 8, 'medium': 1, 'large': 2, 'utility': 6, 'evasive': 5}, 'theme_alignment_score': 0.0, 'creature_details': [{'name': 'Generous Ent', 'power': 5.0, 'toughness': 7.0, 'categories': ['large', 'utility'], 'has_evasion': False, 'has_utility': True}, {'name': 'Jewel Thief', 'power': 3.0, 'toughness': 3.0, 'categories': ['medium', 'evasive', 'utility'], 'has_evasion': True, 'has_utility': True}, {'name': 'Arbor Elf', 'power': 1.0, 'toughness': 1.0, 'categories': ['small'], 'has_evasion': False, 'has_utility': False}, {'name': 'Elvish Mystic', 'power': 1.0, 'toughness': 1.0, 'categories': ['small'], 'has_evasion': False, 'has_utility': False}, {'name': 'Nyxborn Hydra', 'power': 0.0, 'toughness': 1.0, 'categories': ['small', 'evasive', 'utility'], 'has_evasion': True, 'has_utility': True}, {'name': 'Sakura-Tribe Elder', 'power': 1.0, 'toughness': 1.0, 'categories': ['small', 'utility'], 'has_evasion': False, 'has_utility': True}, {'name': 'Treetop Snarespinner', 'power': 1.0, 'toughness': 4.0, 'categories': ['small', 'evasive'], 'has_evasion': True, 'has_utility': False}, {'name': 'Tuskguard Captain', 'power': 2.0, 'toughness': 3.0, 'categories': ['small', 'evasive'], 'has_evasion': True, 'has_utility': False}, {'name': 'Voracious Varmint', 'power': 2.0, 'toughness': 2.0, 'categories': ['small'], 'has_evasion': False, 'has_utility': False}, {'name': 'Yavimaya Elder', 'power': 2.0, 'toughness': 1.0, 'categories': ['small', 'utility'], 'has_evasion': False, 'has_utility': True}, {'name': 'Greater Tanuki', 'power': 6.0, 'toughness': 5.0, 'categories': ['large', 'evasive', 'utility'], 'has_evasion': True, 'has_utility': True}]}, 'overall_coherence': 2.393846153846154, 'deck_colors': 'G', 'card_count': 13}\n",
      "Improved Green Ramp coherence from 1.8 to 2.4\n",
      "Total coherence: 225.39 (improvement: 0.12)\n"
     ]
    },
    {
     "data": {
      "text/markdown": [
       "Analyzing deck: Green Midrange"
      ],
      "text/plain": [
       "<IPython.core.display.Markdown object>"
      ]
     },
     "metadata": {},
     "output_type": "display_data"
    },
    {
     "data": {
      "text/markdown": [
       "Current coherence: 1.9"
      ],
      "text/plain": [
       "<IPython.core.display.Markdown object>"
      ]
     },
     "metadata": {},
     "output_type": "display_data"
    },
    {
     "data": {
      "text/markdown": [
       "Expected themes: Midrange"
      ],
      "text/plain": [
       "<IPython.core.display.Markdown object>"
      ]
     },
     "metadata": {},
     "output_type": "display_data"
    },
    {
     "data": {
      "text/markdown": [
       "Deck colors: G"
      ],
      "text/plain": [
       "<IPython.core.display.Markdown object>"
      ]
     },
     "metadata": {},
     "output_type": "display_data"
    },
    {
     "data": {
      "text/markdown": [
       "Found 67 candidate cards to consider"
      ],
      "text/plain": [
       "<IPython.core.display.Markdown object>"
      ]
     },
     "metadata": {},
     "output_type": "display_data"
    },
    {
     "data": {
      "text/markdown": [
       "Identified 13 cards as potential removal candidates"
      ],
      "text/plain": [
       "<IPython.core.display.Markdown object>"
      ]
     },
     "metadata": {},
     "output_type": "display_data"
    },
    {
     "data": {
      "text/markdown": [
       "# 🔄 Swap Recommendations for Green Midrange"
      ],
      "text/plain": [
       "<IPython.core.display.Markdown object>"
      ]
     },
     "metadata": {},
     "output_type": "display_data"
    },
    {
     "data": {
      "text/markdown": [
       "**Projected New Coherence:** 66.9/100 (+65.0)"
      ],
      "text/plain": [
       "<IPython.core.display.Markdown object>"
      ]
     },
     "metadata": {},
     "output_type": "display_data"
    },
    {
     "data": {
      "text/markdown": [
       "### Cards to Remove:"
      ],
      "text/plain": [
       "<IPython.core.display.Markdown object>"
      ]
     },
     "metadata": {},
     "output_type": "display_data"
    },
    {
     "data": {
      "text/markdown": [
       "- **Wild Growth** (Theme Score: 0.0, CMC: 1.0)"
      ],
      "text/plain": [
       "<IPython.core.display.Markdown object>"
      ]
     },
     "metadata": {},
     "output_type": "display_data"
    },
    {
     "data": {
      "text/markdown": [
       "- **Hooting Mandrills** (Theme Score: 2.0, CMC: 6.0)"
      ],
      "text/plain": [
       "<IPython.core.display.Markdown object>"
      ]
     },
     "metadata": {},
     "output_type": "display_data"
    },
    {
     "data": {
      "text/markdown": [
       "### Cards to Add:"
      ],
      "text/plain": [
       "<IPython.core.display.Markdown object>"
      ]
     },
     "metadata": {},
     "output_type": "display_data"
    },
    {
     "data": {
      "text/markdown": [
       "- **Jewel Thief** (Theme Score: 9.0) - from Green Ramp"
      ],
      "text/plain": [
       "<IPython.core.display.Markdown object>"
      ]
     },
     "metadata": {},
     "output_type": "display_data"
    },
    {
     "data": {
      "text/markdown": [
       "- **Generous Ent** (Theme Score: 6.0) - from Green Ramp"
      ],
      "text/plain": [
       "<IPython.core.display.Markdown object>"
      ]
     },
     "metadata": {},
     "output_type": "display_data"
    },
    {
     "name": "stdout",
     "output_type": "stream",
     "text": [
      "2.393846153846154\n",
      "{'expected_themes': ['Midrange'], 'theme_score': 4.230769230769231, 'theme_matches': [{'card': 'Bloom Hulk', 'score': 4, 'themes': ['Midrange']}, {'card': 'Conclave Naturalists', 'score': 3, 'themes': ['Midrange']}, {'card': 'Longstalk Brawl', 'score': 4, 'themes': ['Midrange']}, {'card': 'Massive Might', 'score': 2, 'themes': ['Midrange']}, {'card': 'Rancor', 'score': 3, 'themes': ['Midrange']}, {'card': 'Trumpeting Herd', 'score': 3, 'themes': ['Midrange']}, {'card': 'Vines of Vastwood', 'score': 2, 'themes': ['Midrange']}, {'card': 'Generous Ent', 'score': 6, 'themes': ['Midrange']}, {'card': 'Jewel Thief', 'score': 9, 'themes': ['Midrange']}, {'card': 'Bannerhide Krushok', 'score': 4, 'themes': ['Midrange']}, {'card': 'Ram Through', 'score': 2, 'themes': ['Midrange']}, {'card': 'Basking Broodscale', 'score': 7, 'themes': ['Midrange']}, {'card': 'Iron Apprentice', 'score': 6, 'themes': ['Midrange']}], 'color_coherence': 1.0, 'color_issues': [], 'mana_curve_score': 0.8923076923076922, 'mana_curve': {4: 3, 5: 1, 1: 5, 6: 1, 3: 1, 2: 2}, 'creature_stats': {'creature_count': 8, 'total_power': 22.0, 'total_toughness': 24.0, 'avg_power': 2.75, 'avg_toughness': 3.0, 'power_distribution': {4: 3, 0: 2, 5: 1, 3: 1, 2: 1}, 'toughness_distribution': {4: 3, 0: 2, 7: 1, 3: 1, 2: 1}, 'creature_categories': {'small': 3, 'medium': 4, 'large': 1, 'utility': 6, 'evasive': 2}, 'theme_alignment_score': 0.0, 'creature_details': [{'name': 'Bloom Hulk', 'power': 4.0, 'toughness': 4.0, 'categories': ['medium', 'utility'], 'has_evasion': False, 'has_utility': True}, {'name': 'Conclave Naturalists', 'power': 4.0, 'toughness': 4.0, 'categories': ['medium', 'utility'], 'has_evasion': False, 'has_utility': True}, {'name': 'Trumpeting Herd', 'power': 0.0, 'toughness': 0.0, 'categories': ['small'], 'has_evasion': False, 'has_utility': False}, {'name': 'Generous Ent', 'power': 5.0, 'toughness': 7.0, 'categories': ['large', 'utility'], 'has_evasion': False, 'has_utility': True}, {'name': 'Jewel Thief', 'power': 3.0, 'toughness': 3.0, 'categories': ['medium', 'evasive', 'utility'], 'has_evasion': True, 'has_utility': True}, {'name': 'Bannerhide Krushok', 'power': 4.0, 'toughness': 4.0, 'categories': ['medium', 'evasive'], 'has_evasion': True, 'has_utility': False}, {'name': 'Basking Broodscale', 'power': 2.0, 'toughness': 2.0, 'categories': ['small', 'utility'], 'has_evasion': False, 'has_utility': True}, {'name': 'Iron Apprentice', 'power': 0.0, 'toughness': 0.0, 'categories': ['small', 'utility'], 'has_evasion': False, 'has_utility': True}]}, 'overall_coherence': 2.393846153846154, 'deck_colors': 'G', 'card_count': 13}\n",
      "Improved Green Midrange coherence from 1.9 to 2.4\n",
      "Total coherence: 225.28 (improvement: -0.12)\n"
     ]
    },
    {
     "data": {
      "text/markdown": [
       "Analyzing deck: Green Ramp"
      ],
      "text/plain": [
       "<IPython.core.display.Markdown object>"
      ]
     },
     "metadata": {},
     "output_type": "display_data"
    },
    {
     "data": {
      "text/markdown": [
       "Current coherence: 1.8"
      ],
      "text/plain": [
       "<IPython.core.display.Markdown object>"
      ]
     },
     "metadata": {},
     "output_type": "display_data"
    },
    {
     "data": {
      "text/markdown": [
       "Expected themes: Ramp"
      ],
      "text/plain": [
       "<IPython.core.display.Markdown object>"
      ]
     },
     "metadata": {},
     "output_type": "display_data"
    },
    {
     "data": {
      "text/markdown": [
       "Deck colors: G"
      ],
      "text/plain": [
       "<IPython.core.display.Markdown object>"
      ]
     },
     "metadata": {},
     "output_type": "display_data"
    },
    {
     "data": {
      "text/markdown": [
       "Found 60 candidate cards to consider"
      ],
      "text/plain": [
       "<IPython.core.display.Markdown object>"
      ]
     },
     "metadata": {},
     "output_type": "display_data"
    },
    {
     "data": {
      "text/markdown": [
       "Identified 13 cards as potential removal candidates"
      ],
      "text/plain": [
       "<IPython.core.display.Markdown object>"
      ]
     },
     "metadata": {},
     "output_type": "display_data"
    },
    {
     "data": {
      "text/markdown": [
       "# 🔄 Swap Recommendations for Green Ramp"
      ],
      "text/plain": [
       "<IPython.core.display.Markdown object>"
      ]
     },
     "metadata": {},
     "output_type": "display_data"
    },
    {
     "data": {
      "text/markdown": [
       "**Projected New Coherence:** 81.8/100 (+80.0)"
      ],
      "text/plain": [
       "<IPython.core.display.Markdown object>"
      ]
     },
     "metadata": {},
     "output_type": "display_data"
    },
    {
     "data": {
      "text/markdown": [
       "### Cards to Remove:"
      ],
      "text/plain": [
       "<IPython.core.display.Markdown object>"
      ]
     },
     "metadata": {},
     "output_type": "display_data"
    },
    {
     "data": {
      "text/markdown": [
       "- **Hooting Mandrills** (Theme Score: 0.0, CMC: 6.0)"
      ],
      "text/plain": [
       "<IPython.core.display.Markdown object>"
      ]
     },
     "metadata": {},
     "output_type": "display_data"
    },
    {
     "data": {
      "text/markdown": [
       "- **Wild Growth** (Theme Score: 0.0, CMC: 1.0)"
      ],
      "text/plain": [
       "<IPython.core.display.Markdown object>"
      ]
     },
     "metadata": {},
     "output_type": "display_data"
    },
    {
     "data": {
      "text/markdown": [
       "### Cards to Add:"
      ],
      "text/plain": [
       "<IPython.core.display.Markdown object>"
      ]
     },
     "metadata": {},
     "output_type": "display_data"
    },
    {
     "data": {
      "text/markdown": [
       "- **Generous Ent** (Theme Score: 8.0) - from Green Midrange"
      ],
      "text/plain": [
       "<IPython.core.display.Markdown object>"
      ]
     },
     "metadata": {},
     "output_type": "display_data"
    },
    {
     "data": {
      "text/markdown": [
       "- **Jewel Thief** (Theme Score: 8.0) - from Green Midrange"
      ],
      "text/plain": [
       "<IPython.core.display.Markdown object>"
      ]
     },
     "metadata": {},
     "output_type": "display_data"
    },
    {
     "name": "stdout",
     "output_type": "stream",
     "text": [
      "2.393846153846154\n",
      "{'expected_themes': ['Ramp'], 'theme_score': 4.230769230769231, 'theme_matches': [{'card': 'Abundant Harvest', 'score': 3, 'themes': ['Ramp']}, {'card': 'Generous Ent', 'score': 8, 'themes': ['Ramp']}, {'card': 'Jewel Thief', 'score': 8, 'themes': ['Ramp']}, {'card': 'Arbor Elf', 'score': 1, 'themes': ['Ramp']}, {'card': 'Bushwhack', 'score': 5, 'themes': ['Ramp']}, {'card': 'Elvish Mystic', 'score': 1, 'themes': ['Ramp']}, {'card': 'Nyxborn Hydra', 'score': 2, 'themes': ['Ramp']}, {'card': 'Sakura-Tribe Elder', 'score': 8, 'themes': ['Ramp']}, {'card': 'Treetop Snarespinner', 'score': 1, 'themes': ['Ramp']}, {'card': 'Tuskguard Captain', 'score': 1, 'themes': ['Ramp']}, {'card': 'Voracious Varmint', 'score': 1, 'themes': ['Ramp']}, {'card': 'Yavimaya Elder', 'score': 8, 'themes': ['Ramp']}, {'card': 'Greater Tanuki', 'score': 8, 'themes': ['Ramp']}], 'color_coherence': 1.0, 'color_issues': [], 'mana_curve_score': 0.8923076923076925, 'mana_curve': {1: 5, 6: 2, 3: 3, 2: 2, 4: 1}, 'creature_stats': {'creature_count': 11, 'total_power': 24.0, 'total_toughness': 29.0, 'avg_power': 2.1818181818181817, 'avg_toughness': 2.6363636363636362, 'power_distribution': {5: 1, 3: 1, 1: 4, 0: 1, 2: 3, 6: 1}, 'toughness_distribution': {7: 1, 3: 2, 1: 5, 4: 1, 2: 1, 5: 1}, 'creature_categories': {'small': 8, 'medium': 1, 'large': 2, 'utility': 6, 'evasive': 5}, 'theme_alignment_score': 0.0, 'creature_details': [{'name': 'Generous Ent', 'power': 5.0, 'toughness': 7.0, 'categories': ['large', 'utility'], 'has_evasion': False, 'has_utility': True}, {'name': 'Jewel Thief', 'power': 3.0, 'toughness': 3.0, 'categories': ['medium', 'evasive', 'utility'], 'has_evasion': True, 'has_utility': True}, {'name': 'Arbor Elf', 'power': 1.0, 'toughness': 1.0, 'categories': ['small'], 'has_evasion': False, 'has_utility': False}, {'name': 'Elvish Mystic', 'power': 1.0, 'toughness': 1.0, 'categories': ['small'], 'has_evasion': False, 'has_utility': False}, {'name': 'Nyxborn Hydra', 'power': 0.0, 'toughness': 1.0, 'categories': ['small', 'evasive', 'utility'], 'has_evasion': True, 'has_utility': True}, {'name': 'Sakura-Tribe Elder', 'power': 1.0, 'toughness': 1.0, 'categories': ['small', 'utility'], 'has_evasion': False, 'has_utility': True}, {'name': 'Treetop Snarespinner', 'power': 1.0, 'toughness': 4.0, 'categories': ['small', 'evasive'], 'has_evasion': True, 'has_utility': False}, {'name': 'Tuskguard Captain', 'power': 2.0, 'toughness': 3.0, 'categories': ['small', 'evasive'], 'has_evasion': True, 'has_utility': False}, {'name': 'Voracious Varmint', 'power': 2.0, 'toughness': 2.0, 'categories': ['small'], 'has_evasion': False, 'has_utility': False}, {'name': 'Yavimaya Elder', 'power': 2.0, 'toughness': 1.0, 'categories': ['small', 'utility'], 'has_evasion': False, 'has_utility': True}, {'name': 'Greater Tanuki', 'power': 6.0, 'toughness': 5.0, 'categories': ['large', 'evasive', 'utility'], 'has_evasion': True, 'has_utility': True}]}, 'overall_coherence': 2.393846153846154, 'deck_colors': 'G', 'card_count': 13}\n",
      "Improved Green Ramp coherence from 1.8 to 2.4\n",
      "Total coherence: 225.39 (improvement: 0.12)\n"
     ]
    },
    {
     "data": {
      "text/markdown": [
       "Analyzing deck: Green Midrange"
      ],
      "text/plain": [
       "<IPython.core.display.Markdown object>"
      ]
     },
     "metadata": {},
     "output_type": "display_data"
    },
    {
     "data": {
      "text/markdown": [
       "Current coherence: 1.9"
      ],
      "text/plain": [
       "<IPython.core.display.Markdown object>"
      ]
     },
     "metadata": {},
     "output_type": "display_data"
    },
    {
     "data": {
      "text/markdown": [
       "Expected themes: Midrange"
      ],
      "text/plain": [
       "<IPython.core.display.Markdown object>"
      ]
     },
     "metadata": {},
     "output_type": "display_data"
    },
    {
     "data": {
      "text/markdown": [
       "Deck colors: G"
      ],
      "text/plain": [
       "<IPython.core.display.Markdown object>"
      ]
     },
     "metadata": {},
     "output_type": "display_data"
    },
    {
     "data": {
      "text/markdown": [
       "Found 67 candidate cards to consider"
      ],
      "text/plain": [
       "<IPython.core.display.Markdown object>"
      ]
     },
     "metadata": {},
     "output_type": "display_data"
    },
    {
     "data": {
      "text/markdown": [
       "Identified 13 cards as potential removal candidates"
      ],
      "text/plain": [
       "<IPython.core.display.Markdown object>"
      ]
     },
     "metadata": {},
     "output_type": "display_data"
    },
    {
     "data": {
      "text/markdown": [
       "# 🔄 Swap Recommendations for Green Midrange"
      ],
      "text/plain": [
       "<IPython.core.display.Markdown object>"
      ]
     },
     "metadata": {},
     "output_type": "display_data"
    },
    {
     "data": {
      "text/markdown": [
       "**Projected New Coherence:** 66.9/100 (+65.0)"
      ],
      "text/plain": [
       "<IPython.core.display.Markdown object>"
      ]
     },
     "metadata": {},
     "output_type": "display_data"
    },
    {
     "data": {
      "text/markdown": [
       "### Cards to Remove:"
      ],
      "text/plain": [
       "<IPython.core.display.Markdown object>"
      ]
     },
     "metadata": {},
     "output_type": "display_data"
    },
    {
     "data": {
      "text/markdown": [
       "- **Wild Growth** (Theme Score: 0.0, CMC: 1.0)"
      ],
      "text/plain": [
       "<IPython.core.display.Markdown object>"
      ]
     },
     "metadata": {},
     "output_type": "display_data"
    },
    {
     "data": {
      "text/markdown": [
       "- **Hooting Mandrills** (Theme Score: 2.0, CMC: 6.0)"
      ],
      "text/plain": [
       "<IPython.core.display.Markdown object>"
      ]
     },
     "metadata": {},
     "output_type": "display_data"
    },
    {
     "data": {
      "text/markdown": [
       "### Cards to Add:"
      ],
      "text/plain": [
       "<IPython.core.display.Markdown object>"
      ]
     },
     "metadata": {},
     "output_type": "display_data"
    },
    {
     "data": {
      "text/markdown": [
       "- **Jewel Thief** (Theme Score: 9.0) - from Green Ramp"
      ],
      "text/plain": [
       "<IPython.core.display.Markdown object>"
      ]
     },
     "metadata": {},
     "output_type": "display_data"
    },
    {
     "data": {
      "text/markdown": [
       "- **Generous Ent** (Theme Score: 6.0) - from Green Ramp"
      ],
      "text/plain": [
       "<IPython.core.display.Markdown object>"
      ]
     },
     "metadata": {},
     "output_type": "display_data"
    },
    {
     "name": "stdout",
     "output_type": "stream",
     "text": [
      "2.393846153846154\n",
      "{'expected_themes': ['Midrange'], 'theme_score': 4.230769230769231, 'theme_matches': [{'card': 'Bloom Hulk', 'score': 4, 'themes': ['Midrange']}, {'card': 'Conclave Naturalists', 'score': 3, 'themes': ['Midrange']}, {'card': 'Longstalk Brawl', 'score': 4, 'themes': ['Midrange']}, {'card': 'Massive Might', 'score': 2, 'themes': ['Midrange']}, {'card': 'Rancor', 'score': 3, 'themes': ['Midrange']}, {'card': 'Trumpeting Herd', 'score': 3, 'themes': ['Midrange']}, {'card': 'Vines of Vastwood', 'score': 2, 'themes': ['Midrange']}, {'card': 'Generous Ent', 'score': 6, 'themes': ['Midrange']}, {'card': 'Jewel Thief', 'score': 9, 'themes': ['Midrange']}, {'card': 'Bannerhide Krushok', 'score': 4, 'themes': ['Midrange']}, {'card': 'Ram Through', 'score': 2, 'themes': ['Midrange']}, {'card': 'Basking Broodscale', 'score': 7, 'themes': ['Midrange']}, {'card': 'Iron Apprentice', 'score': 6, 'themes': ['Midrange']}], 'color_coherence': 1.0, 'color_issues': [], 'mana_curve_score': 0.8923076923076922, 'mana_curve': {4: 3, 5: 1, 1: 5, 6: 1, 3: 1, 2: 2}, 'creature_stats': {'creature_count': 8, 'total_power': 22.0, 'total_toughness': 24.0, 'avg_power': 2.75, 'avg_toughness': 3.0, 'power_distribution': {4: 3, 0: 2, 5: 1, 3: 1, 2: 1}, 'toughness_distribution': {4: 3, 0: 2, 7: 1, 3: 1, 2: 1}, 'creature_categories': {'small': 3, 'medium': 4, 'large': 1, 'utility': 6, 'evasive': 2}, 'theme_alignment_score': 0.0, 'creature_details': [{'name': 'Bloom Hulk', 'power': 4.0, 'toughness': 4.0, 'categories': ['medium', 'utility'], 'has_evasion': False, 'has_utility': True}, {'name': 'Conclave Naturalists', 'power': 4.0, 'toughness': 4.0, 'categories': ['medium', 'utility'], 'has_evasion': False, 'has_utility': True}, {'name': 'Trumpeting Herd', 'power': 0.0, 'toughness': 0.0, 'categories': ['small'], 'has_evasion': False, 'has_utility': False}, {'name': 'Generous Ent', 'power': 5.0, 'toughness': 7.0, 'categories': ['large', 'utility'], 'has_evasion': False, 'has_utility': True}, {'name': 'Jewel Thief', 'power': 3.0, 'toughness': 3.0, 'categories': ['medium', 'evasive', 'utility'], 'has_evasion': True, 'has_utility': True}, {'name': 'Bannerhide Krushok', 'power': 4.0, 'toughness': 4.0, 'categories': ['medium', 'evasive'], 'has_evasion': True, 'has_utility': False}, {'name': 'Basking Broodscale', 'power': 2.0, 'toughness': 2.0, 'categories': ['small', 'utility'], 'has_evasion': False, 'has_utility': True}, {'name': 'Iron Apprentice', 'power': 0.0, 'toughness': 0.0, 'categories': ['small', 'utility'], 'has_evasion': False, 'has_utility': True}]}, 'overall_coherence': 2.393846153846154, 'deck_colors': 'G', 'card_count': 13}\n",
      "Improved Green Midrange coherence from 1.9 to 2.4\n",
      "Total coherence: 225.28 (improvement: -0.12)\n"
     ]
    },
    {
     "data": {
      "text/markdown": [
       "Analyzing deck: Green Ramp"
      ],
      "text/plain": [
       "<IPython.core.display.Markdown object>"
      ]
     },
     "metadata": {},
     "output_type": "display_data"
    },
    {
     "data": {
      "text/markdown": [
       "Current coherence: 1.8"
      ],
      "text/plain": [
       "<IPython.core.display.Markdown object>"
      ]
     },
     "metadata": {},
     "output_type": "display_data"
    },
    {
     "data": {
      "text/markdown": [
       "Expected themes: Ramp"
      ],
      "text/plain": [
       "<IPython.core.display.Markdown object>"
      ]
     },
     "metadata": {},
     "output_type": "display_data"
    },
    {
     "data": {
      "text/markdown": [
       "Deck colors: G"
      ],
      "text/plain": [
       "<IPython.core.display.Markdown object>"
      ]
     },
     "metadata": {},
     "output_type": "display_data"
    },
    {
     "data": {
      "text/markdown": [
       "Found 60 candidate cards to consider"
      ],
      "text/plain": [
       "<IPython.core.display.Markdown object>"
      ]
     },
     "metadata": {},
     "output_type": "display_data"
    },
    {
     "data": {
      "text/markdown": [
       "Identified 13 cards as potential removal candidates"
      ],
      "text/plain": [
       "<IPython.core.display.Markdown object>"
      ]
     },
     "metadata": {},
     "output_type": "display_data"
    },
    {
     "data": {
      "text/markdown": [
       "# 🔄 Swap Recommendations for Green Ramp"
      ],
      "text/plain": [
       "<IPython.core.display.Markdown object>"
      ]
     },
     "metadata": {},
     "output_type": "display_data"
    },
    {
     "data": {
      "text/markdown": [
       "**Projected New Coherence:** 81.8/100 (+80.0)"
      ],
      "text/plain": [
       "<IPython.core.display.Markdown object>"
      ]
     },
     "metadata": {},
     "output_type": "display_data"
    },
    {
     "data": {
      "text/markdown": [
       "### Cards to Remove:"
      ],
      "text/plain": [
       "<IPython.core.display.Markdown object>"
      ]
     },
     "metadata": {},
     "output_type": "display_data"
    },
    {
     "data": {
      "text/markdown": [
       "- **Hooting Mandrills** (Theme Score: 0.0, CMC: 6.0)"
      ],
      "text/plain": [
       "<IPython.core.display.Markdown object>"
      ]
     },
     "metadata": {},
     "output_type": "display_data"
    },
    {
     "data": {
      "text/markdown": [
       "- **Wild Growth** (Theme Score: 0.0, CMC: 1.0)"
      ],
      "text/plain": [
       "<IPython.core.display.Markdown object>"
      ]
     },
     "metadata": {},
     "output_type": "display_data"
    },
    {
     "data": {
      "text/markdown": [
       "### Cards to Add:"
      ],
      "text/plain": [
       "<IPython.core.display.Markdown object>"
      ]
     },
     "metadata": {},
     "output_type": "display_data"
    },
    {
     "data": {
      "text/markdown": [
       "- **Generous Ent** (Theme Score: 8.0) - from Green Midrange"
      ],
      "text/plain": [
       "<IPython.core.display.Markdown object>"
      ]
     },
     "metadata": {},
     "output_type": "display_data"
    },
    {
     "data": {
      "text/markdown": [
       "- **Jewel Thief** (Theme Score: 8.0) - from Green Midrange"
      ],
      "text/plain": [
       "<IPython.core.display.Markdown object>"
      ]
     },
     "metadata": {},
     "output_type": "display_data"
    },
    {
     "name": "stdout",
     "output_type": "stream",
     "text": [
      "2.393846153846154\n",
      "{'expected_themes': ['Ramp'], 'theme_score': 4.230769230769231, 'theme_matches': [{'card': 'Abundant Harvest', 'score': 3, 'themes': ['Ramp']}, {'card': 'Generous Ent', 'score': 8, 'themes': ['Ramp']}, {'card': 'Jewel Thief', 'score': 8, 'themes': ['Ramp']}, {'card': 'Arbor Elf', 'score': 1, 'themes': ['Ramp']}, {'card': 'Bushwhack', 'score': 5, 'themes': ['Ramp']}, {'card': 'Elvish Mystic', 'score': 1, 'themes': ['Ramp']}, {'card': 'Nyxborn Hydra', 'score': 2, 'themes': ['Ramp']}, {'card': 'Sakura-Tribe Elder', 'score': 8, 'themes': ['Ramp']}, {'card': 'Treetop Snarespinner', 'score': 1, 'themes': ['Ramp']}, {'card': 'Tuskguard Captain', 'score': 1, 'themes': ['Ramp']}, {'card': 'Voracious Varmint', 'score': 1, 'themes': ['Ramp']}, {'card': 'Yavimaya Elder', 'score': 8, 'themes': ['Ramp']}, {'card': 'Greater Tanuki', 'score': 8, 'themes': ['Ramp']}], 'color_coherence': 1.0, 'color_issues': [], 'mana_curve_score': 0.8923076923076925, 'mana_curve': {1: 5, 6: 2, 3: 3, 2: 2, 4: 1}, 'creature_stats': {'creature_count': 11, 'total_power': 24.0, 'total_toughness': 29.0, 'avg_power': 2.1818181818181817, 'avg_toughness': 2.6363636363636362, 'power_distribution': {5: 1, 3: 1, 1: 4, 0: 1, 2: 3, 6: 1}, 'toughness_distribution': {7: 1, 3: 2, 1: 5, 4: 1, 2: 1, 5: 1}, 'creature_categories': {'small': 8, 'medium': 1, 'large': 2, 'utility': 6, 'evasive': 5}, 'theme_alignment_score': 0.0, 'creature_details': [{'name': 'Generous Ent', 'power': 5.0, 'toughness': 7.0, 'categories': ['large', 'utility'], 'has_evasion': False, 'has_utility': True}, {'name': 'Jewel Thief', 'power': 3.0, 'toughness': 3.0, 'categories': ['medium', 'evasive', 'utility'], 'has_evasion': True, 'has_utility': True}, {'name': 'Arbor Elf', 'power': 1.0, 'toughness': 1.0, 'categories': ['small'], 'has_evasion': False, 'has_utility': False}, {'name': 'Elvish Mystic', 'power': 1.0, 'toughness': 1.0, 'categories': ['small'], 'has_evasion': False, 'has_utility': False}, {'name': 'Nyxborn Hydra', 'power': 0.0, 'toughness': 1.0, 'categories': ['small', 'evasive', 'utility'], 'has_evasion': True, 'has_utility': True}, {'name': 'Sakura-Tribe Elder', 'power': 1.0, 'toughness': 1.0, 'categories': ['small', 'utility'], 'has_evasion': False, 'has_utility': True}, {'name': 'Treetop Snarespinner', 'power': 1.0, 'toughness': 4.0, 'categories': ['small', 'evasive'], 'has_evasion': True, 'has_utility': False}, {'name': 'Tuskguard Captain', 'power': 2.0, 'toughness': 3.0, 'categories': ['small', 'evasive'], 'has_evasion': True, 'has_utility': False}, {'name': 'Voracious Varmint', 'power': 2.0, 'toughness': 2.0, 'categories': ['small'], 'has_evasion': False, 'has_utility': False}, {'name': 'Yavimaya Elder', 'power': 2.0, 'toughness': 1.0, 'categories': ['small', 'utility'], 'has_evasion': False, 'has_utility': True}, {'name': 'Greater Tanuki', 'power': 6.0, 'toughness': 5.0, 'categories': ['large', 'evasive', 'utility'], 'has_evasion': True, 'has_utility': True}]}, 'overall_coherence': 2.393846153846154, 'deck_colors': 'G', 'card_count': 13}\n",
      "Improved Green Ramp coherence from 1.8 to 2.4\n",
      "Total coherence: 225.39 (improvement: 0.12)\n"
     ]
    },
    {
     "data": {
      "text/markdown": [
       "Analyzing deck: Green Midrange"
      ],
      "text/plain": [
       "<IPython.core.display.Markdown object>"
      ]
     },
     "metadata": {},
     "output_type": "display_data"
    },
    {
     "data": {
      "text/markdown": [
       "Current coherence: 1.9"
      ],
      "text/plain": [
       "<IPython.core.display.Markdown object>"
      ]
     },
     "metadata": {},
     "output_type": "display_data"
    },
    {
     "data": {
      "text/markdown": [
       "Expected themes: Midrange"
      ],
      "text/plain": [
       "<IPython.core.display.Markdown object>"
      ]
     },
     "metadata": {},
     "output_type": "display_data"
    },
    {
     "data": {
      "text/markdown": [
       "Deck colors: G"
      ],
      "text/plain": [
       "<IPython.core.display.Markdown object>"
      ]
     },
     "metadata": {},
     "output_type": "display_data"
    },
    {
     "data": {
      "text/markdown": [
       "Found 67 candidate cards to consider"
      ],
      "text/plain": [
       "<IPython.core.display.Markdown object>"
      ]
     },
     "metadata": {},
     "output_type": "display_data"
    },
    {
     "data": {
      "text/markdown": [
       "Identified 13 cards as potential removal candidates"
      ],
      "text/plain": [
       "<IPython.core.display.Markdown object>"
      ]
     },
     "metadata": {},
     "output_type": "display_data"
    },
    {
     "data": {
      "text/markdown": [
       "# 🔄 Swap Recommendations for Green Midrange"
      ],
      "text/plain": [
       "<IPython.core.display.Markdown object>"
      ]
     },
     "metadata": {},
     "output_type": "display_data"
    },
    {
     "data": {
      "text/markdown": [
       "**Projected New Coherence:** 66.9/100 (+65.0)"
      ],
      "text/plain": [
       "<IPython.core.display.Markdown object>"
      ]
     },
     "metadata": {},
     "output_type": "display_data"
    },
    {
     "data": {
      "text/markdown": [
       "### Cards to Remove:"
      ],
      "text/plain": [
       "<IPython.core.display.Markdown object>"
      ]
     },
     "metadata": {},
     "output_type": "display_data"
    },
    {
     "data": {
      "text/markdown": [
       "- **Wild Growth** (Theme Score: 0.0, CMC: 1.0)"
      ],
      "text/plain": [
       "<IPython.core.display.Markdown object>"
      ]
     },
     "metadata": {},
     "output_type": "display_data"
    },
    {
     "data": {
      "text/markdown": [
       "- **Hooting Mandrills** (Theme Score: 2.0, CMC: 6.0)"
      ],
      "text/plain": [
       "<IPython.core.display.Markdown object>"
      ]
     },
     "metadata": {},
     "output_type": "display_data"
    },
    {
     "data": {
      "text/markdown": [
       "### Cards to Add:"
      ],
      "text/plain": [
       "<IPython.core.display.Markdown object>"
      ]
     },
     "metadata": {},
     "output_type": "display_data"
    },
    {
     "data": {
      "text/markdown": [
       "- **Jewel Thief** (Theme Score: 9.0) - from Green Ramp"
      ],
      "text/plain": [
       "<IPython.core.display.Markdown object>"
      ]
     },
     "metadata": {},
     "output_type": "display_data"
    },
    {
     "data": {
      "text/markdown": [
       "- **Generous Ent** (Theme Score: 6.0) - from Green Ramp"
      ],
      "text/plain": [
       "<IPython.core.display.Markdown object>"
      ]
     },
     "metadata": {},
     "output_type": "display_data"
    },
    {
     "name": "stdout",
     "output_type": "stream",
     "text": [
      "2.393846153846154\n",
      "{'expected_themes': ['Midrange'], 'theme_score': 4.230769230769231, 'theme_matches': [{'card': 'Bloom Hulk', 'score': 4, 'themes': ['Midrange']}, {'card': 'Conclave Naturalists', 'score': 3, 'themes': ['Midrange']}, {'card': 'Longstalk Brawl', 'score': 4, 'themes': ['Midrange']}, {'card': 'Massive Might', 'score': 2, 'themes': ['Midrange']}, {'card': 'Rancor', 'score': 3, 'themes': ['Midrange']}, {'card': 'Trumpeting Herd', 'score': 3, 'themes': ['Midrange']}, {'card': 'Vines of Vastwood', 'score': 2, 'themes': ['Midrange']}, {'card': 'Generous Ent', 'score': 6, 'themes': ['Midrange']}, {'card': 'Jewel Thief', 'score': 9, 'themes': ['Midrange']}, {'card': 'Bannerhide Krushok', 'score': 4, 'themes': ['Midrange']}, {'card': 'Ram Through', 'score': 2, 'themes': ['Midrange']}, {'card': 'Basking Broodscale', 'score': 7, 'themes': ['Midrange']}, {'card': 'Iron Apprentice', 'score': 6, 'themes': ['Midrange']}], 'color_coherence': 1.0, 'color_issues': [], 'mana_curve_score': 0.8923076923076922, 'mana_curve': {4: 3, 5: 1, 1: 5, 6: 1, 3: 1, 2: 2}, 'creature_stats': {'creature_count': 8, 'total_power': 22.0, 'total_toughness': 24.0, 'avg_power': 2.75, 'avg_toughness': 3.0, 'power_distribution': {4: 3, 0: 2, 5: 1, 3: 1, 2: 1}, 'toughness_distribution': {4: 3, 0: 2, 7: 1, 3: 1, 2: 1}, 'creature_categories': {'small': 3, 'medium': 4, 'large': 1, 'utility': 6, 'evasive': 2}, 'theme_alignment_score': 0.0, 'creature_details': [{'name': 'Bloom Hulk', 'power': 4.0, 'toughness': 4.0, 'categories': ['medium', 'utility'], 'has_evasion': False, 'has_utility': True}, {'name': 'Conclave Naturalists', 'power': 4.0, 'toughness': 4.0, 'categories': ['medium', 'utility'], 'has_evasion': False, 'has_utility': True}, {'name': 'Trumpeting Herd', 'power': 0.0, 'toughness': 0.0, 'categories': ['small'], 'has_evasion': False, 'has_utility': False}, {'name': 'Generous Ent', 'power': 5.0, 'toughness': 7.0, 'categories': ['large', 'utility'], 'has_evasion': False, 'has_utility': True}, {'name': 'Jewel Thief', 'power': 3.0, 'toughness': 3.0, 'categories': ['medium', 'evasive', 'utility'], 'has_evasion': True, 'has_utility': True}, {'name': 'Bannerhide Krushok', 'power': 4.0, 'toughness': 4.0, 'categories': ['medium', 'evasive'], 'has_evasion': True, 'has_utility': False}, {'name': 'Basking Broodscale', 'power': 2.0, 'toughness': 2.0, 'categories': ['small', 'utility'], 'has_evasion': False, 'has_utility': True}, {'name': 'Iron Apprentice', 'power': 0.0, 'toughness': 0.0, 'categories': ['small', 'utility'], 'has_evasion': False, 'has_utility': True}]}, 'overall_coherence': 2.393846153846154, 'deck_colors': 'G', 'card_count': 13}\n",
      "Improved Green Midrange coherence from 1.9 to 2.4\n",
      "Total coherence: 225.28 (improvement: -0.12)\n"
     ]
    },
    {
     "data": {
      "text/markdown": [
       "Analyzing deck: Green Ramp"
      ],
      "text/plain": [
       "<IPython.core.display.Markdown object>"
      ]
     },
     "metadata": {},
     "output_type": "display_data"
    },
    {
     "data": {
      "text/markdown": [
       "Current coherence: 1.8"
      ],
      "text/plain": [
       "<IPython.core.display.Markdown object>"
      ]
     },
     "metadata": {},
     "output_type": "display_data"
    },
    {
     "data": {
      "text/markdown": [
       "Expected themes: Ramp"
      ],
      "text/plain": [
       "<IPython.core.display.Markdown object>"
      ]
     },
     "metadata": {},
     "output_type": "display_data"
    },
    {
     "data": {
      "text/markdown": [
       "Deck colors: G"
      ],
      "text/plain": [
       "<IPython.core.display.Markdown object>"
      ]
     },
     "metadata": {},
     "output_type": "display_data"
    },
    {
     "data": {
      "text/markdown": [
       "Found 60 candidate cards to consider"
      ],
      "text/plain": [
       "<IPython.core.display.Markdown object>"
      ]
     },
     "metadata": {},
     "output_type": "display_data"
    },
    {
     "data": {
      "text/markdown": [
       "Identified 13 cards as potential removal candidates"
      ],
      "text/plain": [
       "<IPython.core.display.Markdown object>"
      ]
     },
     "metadata": {},
     "output_type": "display_data"
    },
    {
     "data": {
      "text/markdown": [
       "# 🔄 Swap Recommendations for Green Ramp"
      ],
      "text/plain": [
       "<IPython.core.display.Markdown object>"
      ]
     },
     "metadata": {},
     "output_type": "display_data"
    },
    {
     "data": {
      "text/markdown": [
       "**Projected New Coherence:** 81.8/100 (+80.0)"
      ],
      "text/plain": [
       "<IPython.core.display.Markdown object>"
      ]
     },
     "metadata": {},
     "output_type": "display_data"
    },
    {
     "data": {
      "text/markdown": [
       "### Cards to Remove:"
      ],
      "text/plain": [
       "<IPython.core.display.Markdown object>"
      ]
     },
     "metadata": {},
     "output_type": "display_data"
    },
    {
     "data": {
      "text/markdown": [
       "- **Hooting Mandrills** (Theme Score: 0.0, CMC: 6.0)"
      ],
      "text/plain": [
       "<IPython.core.display.Markdown object>"
      ]
     },
     "metadata": {},
     "output_type": "display_data"
    },
    {
     "data": {
      "text/markdown": [
       "- **Wild Growth** (Theme Score: 0.0, CMC: 1.0)"
      ],
      "text/plain": [
       "<IPython.core.display.Markdown object>"
      ]
     },
     "metadata": {},
     "output_type": "display_data"
    },
    {
     "data": {
      "text/markdown": [
       "### Cards to Add:"
      ],
      "text/plain": [
       "<IPython.core.display.Markdown object>"
      ]
     },
     "metadata": {},
     "output_type": "display_data"
    },
    {
     "data": {
      "text/markdown": [
       "- **Generous Ent** (Theme Score: 8.0) - from Green Midrange"
      ],
      "text/plain": [
       "<IPython.core.display.Markdown object>"
      ]
     },
     "metadata": {},
     "output_type": "display_data"
    },
    {
     "data": {
      "text/markdown": [
       "- **Jewel Thief** (Theme Score: 8.0) - from Green Midrange"
      ],
      "text/plain": [
       "<IPython.core.display.Markdown object>"
      ]
     },
     "metadata": {},
     "output_type": "display_data"
    },
    {
     "name": "stdout",
     "output_type": "stream",
     "text": [
      "2.393846153846154\n",
      "{'expected_themes': ['Ramp'], 'theme_score': 4.230769230769231, 'theme_matches': [{'card': 'Abundant Harvest', 'score': 3, 'themes': ['Ramp']}, {'card': 'Generous Ent', 'score': 8, 'themes': ['Ramp']}, {'card': 'Jewel Thief', 'score': 8, 'themes': ['Ramp']}, {'card': 'Arbor Elf', 'score': 1, 'themes': ['Ramp']}, {'card': 'Bushwhack', 'score': 5, 'themes': ['Ramp']}, {'card': 'Elvish Mystic', 'score': 1, 'themes': ['Ramp']}, {'card': 'Nyxborn Hydra', 'score': 2, 'themes': ['Ramp']}, {'card': 'Sakura-Tribe Elder', 'score': 8, 'themes': ['Ramp']}, {'card': 'Treetop Snarespinner', 'score': 1, 'themes': ['Ramp']}, {'card': 'Tuskguard Captain', 'score': 1, 'themes': ['Ramp']}, {'card': 'Voracious Varmint', 'score': 1, 'themes': ['Ramp']}, {'card': 'Yavimaya Elder', 'score': 8, 'themes': ['Ramp']}, {'card': 'Greater Tanuki', 'score': 8, 'themes': ['Ramp']}], 'color_coherence': 1.0, 'color_issues': [], 'mana_curve_score': 0.8923076923076925, 'mana_curve': {1: 5, 6: 2, 3: 3, 2: 2, 4: 1}, 'creature_stats': {'creature_count': 11, 'total_power': 24.0, 'total_toughness': 29.0, 'avg_power': 2.1818181818181817, 'avg_toughness': 2.6363636363636362, 'power_distribution': {5: 1, 3: 1, 1: 4, 0: 1, 2: 3, 6: 1}, 'toughness_distribution': {7: 1, 3: 2, 1: 5, 4: 1, 2: 1, 5: 1}, 'creature_categories': {'small': 8, 'medium': 1, 'large': 2, 'utility': 6, 'evasive': 5}, 'theme_alignment_score': 0.0, 'creature_details': [{'name': 'Generous Ent', 'power': 5.0, 'toughness': 7.0, 'categories': ['large', 'utility'], 'has_evasion': False, 'has_utility': True}, {'name': 'Jewel Thief', 'power': 3.0, 'toughness': 3.0, 'categories': ['medium', 'evasive', 'utility'], 'has_evasion': True, 'has_utility': True}, {'name': 'Arbor Elf', 'power': 1.0, 'toughness': 1.0, 'categories': ['small'], 'has_evasion': False, 'has_utility': False}, {'name': 'Elvish Mystic', 'power': 1.0, 'toughness': 1.0, 'categories': ['small'], 'has_evasion': False, 'has_utility': False}, {'name': 'Nyxborn Hydra', 'power': 0.0, 'toughness': 1.0, 'categories': ['small', 'evasive', 'utility'], 'has_evasion': True, 'has_utility': True}, {'name': 'Sakura-Tribe Elder', 'power': 1.0, 'toughness': 1.0, 'categories': ['small', 'utility'], 'has_evasion': False, 'has_utility': True}, {'name': 'Treetop Snarespinner', 'power': 1.0, 'toughness': 4.0, 'categories': ['small', 'evasive'], 'has_evasion': True, 'has_utility': False}, {'name': 'Tuskguard Captain', 'power': 2.0, 'toughness': 3.0, 'categories': ['small', 'evasive'], 'has_evasion': True, 'has_utility': False}, {'name': 'Voracious Varmint', 'power': 2.0, 'toughness': 2.0, 'categories': ['small'], 'has_evasion': False, 'has_utility': False}, {'name': 'Yavimaya Elder', 'power': 2.0, 'toughness': 1.0, 'categories': ['small', 'utility'], 'has_evasion': False, 'has_utility': True}, {'name': 'Greater Tanuki', 'power': 6.0, 'toughness': 5.0, 'categories': ['large', 'evasive', 'utility'], 'has_evasion': True, 'has_utility': True}]}, 'overall_coherence': 2.393846153846154, 'deck_colors': 'G', 'card_count': 13}\n",
      "Improved Green Ramp coherence from 1.8 to 2.4\n",
      "Total coherence: 225.39 (improvement: 0.12)\n"
     ]
    },
    {
     "data": {
      "text/markdown": [
       "Analyzing deck: Green Midrange"
      ],
      "text/plain": [
       "<IPython.core.display.Markdown object>"
      ]
     },
     "metadata": {},
     "output_type": "display_data"
    },
    {
     "data": {
      "text/markdown": [
       "Current coherence: 1.9"
      ],
      "text/plain": [
       "<IPython.core.display.Markdown object>"
      ]
     },
     "metadata": {},
     "output_type": "display_data"
    },
    {
     "data": {
      "text/markdown": [
       "Expected themes: Midrange"
      ],
      "text/plain": [
       "<IPython.core.display.Markdown object>"
      ]
     },
     "metadata": {},
     "output_type": "display_data"
    },
    {
     "data": {
      "text/markdown": [
       "Deck colors: G"
      ],
      "text/plain": [
       "<IPython.core.display.Markdown object>"
      ]
     },
     "metadata": {},
     "output_type": "display_data"
    },
    {
     "data": {
      "text/markdown": [
       "Found 67 candidate cards to consider"
      ],
      "text/plain": [
       "<IPython.core.display.Markdown object>"
      ]
     },
     "metadata": {},
     "output_type": "display_data"
    },
    {
     "data": {
      "text/markdown": [
       "Identified 13 cards as potential removal candidates"
      ],
      "text/plain": [
       "<IPython.core.display.Markdown object>"
      ]
     },
     "metadata": {},
     "output_type": "display_data"
    },
    {
     "data": {
      "text/markdown": [
       "# 🔄 Swap Recommendations for Green Midrange"
      ],
      "text/plain": [
       "<IPython.core.display.Markdown object>"
      ]
     },
     "metadata": {},
     "output_type": "display_data"
    },
    {
     "data": {
      "text/markdown": [
       "**Projected New Coherence:** 66.9/100 (+65.0)"
      ],
      "text/plain": [
       "<IPython.core.display.Markdown object>"
      ]
     },
     "metadata": {},
     "output_type": "display_data"
    },
    {
     "data": {
      "text/markdown": [
       "### Cards to Remove:"
      ],
      "text/plain": [
       "<IPython.core.display.Markdown object>"
      ]
     },
     "metadata": {},
     "output_type": "display_data"
    },
    {
     "data": {
      "text/markdown": [
       "- **Wild Growth** (Theme Score: 0.0, CMC: 1.0)"
      ],
      "text/plain": [
       "<IPython.core.display.Markdown object>"
      ]
     },
     "metadata": {},
     "output_type": "display_data"
    },
    {
     "data": {
      "text/markdown": [
       "- **Hooting Mandrills** (Theme Score: 2.0, CMC: 6.0)"
      ],
      "text/plain": [
       "<IPython.core.display.Markdown object>"
      ]
     },
     "metadata": {},
     "output_type": "display_data"
    },
    {
     "data": {
      "text/markdown": [
       "### Cards to Add:"
      ],
      "text/plain": [
       "<IPython.core.display.Markdown object>"
      ]
     },
     "metadata": {},
     "output_type": "display_data"
    },
    {
     "data": {
      "text/markdown": [
       "- **Jewel Thief** (Theme Score: 9.0) - from Green Ramp"
      ],
      "text/plain": [
       "<IPython.core.display.Markdown object>"
      ]
     },
     "metadata": {},
     "output_type": "display_data"
    },
    {
     "data": {
      "text/markdown": [
       "- **Generous Ent** (Theme Score: 6.0) - from Green Ramp"
      ],
      "text/plain": [
       "<IPython.core.display.Markdown object>"
      ]
     },
     "metadata": {},
     "output_type": "display_data"
    },
    {
     "name": "stdout",
     "output_type": "stream",
     "text": [
      "2.393846153846154\n",
      "{'expected_themes': ['Midrange'], 'theme_score': 4.230769230769231, 'theme_matches': [{'card': 'Bloom Hulk', 'score': 4, 'themes': ['Midrange']}, {'card': 'Conclave Naturalists', 'score': 3, 'themes': ['Midrange']}, {'card': 'Longstalk Brawl', 'score': 4, 'themes': ['Midrange']}, {'card': 'Massive Might', 'score': 2, 'themes': ['Midrange']}, {'card': 'Rancor', 'score': 3, 'themes': ['Midrange']}, {'card': 'Trumpeting Herd', 'score': 3, 'themes': ['Midrange']}, {'card': 'Vines of Vastwood', 'score': 2, 'themes': ['Midrange']}, {'card': 'Generous Ent', 'score': 6, 'themes': ['Midrange']}, {'card': 'Jewel Thief', 'score': 9, 'themes': ['Midrange']}, {'card': 'Bannerhide Krushok', 'score': 4, 'themes': ['Midrange']}, {'card': 'Ram Through', 'score': 2, 'themes': ['Midrange']}, {'card': 'Basking Broodscale', 'score': 7, 'themes': ['Midrange']}, {'card': 'Iron Apprentice', 'score': 6, 'themes': ['Midrange']}], 'color_coherence': 1.0, 'color_issues': [], 'mana_curve_score': 0.8923076923076922, 'mana_curve': {4: 3, 5: 1, 1: 5, 6: 1, 3: 1, 2: 2}, 'creature_stats': {'creature_count': 8, 'total_power': 22.0, 'total_toughness': 24.0, 'avg_power': 2.75, 'avg_toughness': 3.0, 'power_distribution': {4: 3, 0: 2, 5: 1, 3: 1, 2: 1}, 'toughness_distribution': {4: 3, 0: 2, 7: 1, 3: 1, 2: 1}, 'creature_categories': {'small': 3, 'medium': 4, 'large': 1, 'utility': 6, 'evasive': 2}, 'theme_alignment_score': 0.0, 'creature_details': [{'name': 'Bloom Hulk', 'power': 4.0, 'toughness': 4.0, 'categories': ['medium', 'utility'], 'has_evasion': False, 'has_utility': True}, {'name': 'Conclave Naturalists', 'power': 4.0, 'toughness': 4.0, 'categories': ['medium', 'utility'], 'has_evasion': False, 'has_utility': True}, {'name': 'Trumpeting Herd', 'power': 0.0, 'toughness': 0.0, 'categories': ['small'], 'has_evasion': False, 'has_utility': False}, {'name': 'Generous Ent', 'power': 5.0, 'toughness': 7.0, 'categories': ['large', 'utility'], 'has_evasion': False, 'has_utility': True}, {'name': 'Jewel Thief', 'power': 3.0, 'toughness': 3.0, 'categories': ['medium', 'evasive', 'utility'], 'has_evasion': True, 'has_utility': True}, {'name': 'Bannerhide Krushok', 'power': 4.0, 'toughness': 4.0, 'categories': ['medium', 'evasive'], 'has_evasion': True, 'has_utility': False}, {'name': 'Basking Broodscale', 'power': 2.0, 'toughness': 2.0, 'categories': ['small', 'utility'], 'has_evasion': False, 'has_utility': True}, {'name': 'Iron Apprentice', 'power': 0.0, 'toughness': 0.0, 'categories': ['small', 'utility'], 'has_evasion': False, 'has_utility': True}]}, 'overall_coherence': 2.393846153846154, 'deck_colors': 'G', 'card_count': 13}\n",
      "Improved Green Midrange coherence from 1.9 to 2.4\n",
      "Total coherence: 225.28 (improvement: -0.12)\n"
     ]
    },
    {
     "data": {
      "text/markdown": [
       "Analyzing deck: Green Ramp"
      ],
      "text/plain": [
       "<IPython.core.display.Markdown object>"
      ]
     },
     "metadata": {},
     "output_type": "display_data"
    },
    {
     "data": {
      "text/markdown": [
       "Current coherence: 1.8"
      ],
      "text/plain": [
       "<IPython.core.display.Markdown object>"
      ]
     },
     "metadata": {},
     "output_type": "display_data"
    },
    {
     "data": {
      "text/markdown": [
       "Expected themes: Ramp"
      ],
      "text/plain": [
       "<IPython.core.display.Markdown object>"
      ]
     },
     "metadata": {},
     "output_type": "display_data"
    },
    {
     "data": {
      "text/markdown": [
       "Deck colors: G"
      ],
      "text/plain": [
       "<IPython.core.display.Markdown object>"
      ]
     },
     "metadata": {},
     "output_type": "display_data"
    },
    {
     "data": {
      "text/markdown": [
       "Found 60 candidate cards to consider"
      ],
      "text/plain": [
       "<IPython.core.display.Markdown object>"
      ]
     },
     "metadata": {},
     "output_type": "display_data"
    },
    {
     "data": {
      "text/markdown": [
       "Identified 13 cards as potential removal candidates"
      ],
      "text/plain": [
       "<IPython.core.display.Markdown object>"
      ]
     },
     "metadata": {},
     "output_type": "display_data"
    },
    {
     "data": {
      "text/markdown": [
       "# 🔄 Swap Recommendations for Green Ramp"
      ],
      "text/plain": [
       "<IPython.core.display.Markdown object>"
      ]
     },
     "metadata": {},
     "output_type": "display_data"
    },
    {
     "data": {
      "text/markdown": [
       "**Projected New Coherence:** 81.8/100 (+80.0)"
      ],
      "text/plain": [
       "<IPython.core.display.Markdown object>"
      ]
     },
     "metadata": {},
     "output_type": "display_data"
    },
    {
     "data": {
      "text/markdown": [
       "### Cards to Remove:"
      ],
      "text/plain": [
       "<IPython.core.display.Markdown object>"
      ]
     },
     "metadata": {},
     "output_type": "display_data"
    },
    {
     "data": {
      "text/markdown": [
       "- **Hooting Mandrills** (Theme Score: 0.0, CMC: 6.0)"
      ],
      "text/plain": [
       "<IPython.core.display.Markdown object>"
      ]
     },
     "metadata": {},
     "output_type": "display_data"
    },
    {
     "data": {
      "text/markdown": [
       "- **Wild Growth** (Theme Score: 0.0, CMC: 1.0)"
      ],
      "text/plain": [
       "<IPython.core.display.Markdown object>"
      ]
     },
     "metadata": {},
     "output_type": "display_data"
    },
    {
     "data": {
      "text/markdown": [
       "### Cards to Add:"
      ],
      "text/plain": [
       "<IPython.core.display.Markdown object>"
      ]
     },
     "metadata": {},
     "output_type": "display_data"
    },
    {
     "data": {
      "text/markdown": [
       "- **Generous Ent** (Theme Score: 8.0) - from Green Midrange"
      ],
      "text/plain": [
       "<IPython.core.display.Markdown object>"
      ]
     },
     "metadata": {},
     "output_type": "display_data"
    },
    {
     "data": {
      "text/markdown": [
       "- **Jewel Thief** (Theme Score: 8.0) - from Green Midrange"
      ],
      "text/plain": [
       "<IPython.core.display.Markdown object>"
      ]
     },
     "metadata": {},
     "output_type": "display_data"
    },
    {
     "name": "stdout",
     "output_type": "stream",
     "text": [
      "2.393846153846154\n",
      "{'expected_themes': ['Ramp'], 'theme_score': 4.230769230769231, 'theme_matches': [{'card': 'Abundant Harvest', 'score': 3, 'themes': ['Ramp']}, {'card': 'Generous Ent', 'score': 8, 'themes': ['Ramp']}, {'card': 'Jewel Thief', 'score': 8, 'themes': ['Ramp']}, {'card': 'Arbor Elf', 'score': 1, 'themes': ['Ramp']}, {'card': 'Bushwhack', 'score': 5, 'themes': ['Ramp']}, {'card': 'Elvish Mystic', 'score': 1, 'themes': ['Ramp']}, {'card': 'Nyxborn Hydra', 'score': 2, 'themes': ['Ramp']}, {'card': 'Sakura-Tribe Elder', 'score': 8, 'themes': ['Ramp']}, {'card': 'Treetop Snarespinner', 'score': 1, 'themes': ['Ramp']}, {'card': 'Tuskguard Captain', 'score': 1, 'themes': ['Ramp']}, {'card': 'Voracious Varmint', 'score': 1, 'themes': ['Ramp']}, {'card': 'Yavimaya Elder', 'score': 8, 'themes': ['Ramp']}, {'card': 'Greater Tanuki', 'score': 8, 'themes': ['Ramp']}], 'color_coherence': 1.0, 'color_issues': [], 'mana_curve_score': 0.8923076923076925, 'mana_curve': {1: 5, 6: 2, 3: 3, 2: 2, 4: 1}, 'creature_stats': {'creature_count': 11, 'total_power': 24.0, 'total_toughness': 29.0, 'avg_power': 2.1818181818181817, 'avg_toughness': 2.6363636363636362, 'power_distribution': {5: 1, 3: 1, 1: 4, 0: 1, 2: 3, 6: 1}, 'toughness_distribution': {7: 1, 3: 2, 1: 5, 4: 1, 2: 1, 5: 1}, 'creature_categories': {'small': 8, 'medium': 1, 'large': 2, 'utility': 6, 'evasive': 5}, 'theme_alignment_score': 0.0, 'creature_details': [{'name': 'Generous Ent', 'power': 5.0, 'toughness': 7.0, 'categories': ['large', 'utility'], 'has_evasion': False, 'has_utility': True}, {'name': 'Jewel Thief', 'power': 3.0, 'toughness': 3.0, 'categories': ['medium', 'evasive', 'utility'], 'has_evasion': True, 'has_utility': True}, {'name': 'Arbor Elf', 'power': 1.0, 'toughness': 1.0, 'categories': ['small'], 'has_evasion': False, 'has_utility': False}, {'name': 'Elvish Mystic', 'power': 1.0, 'toughness': 1.0, 'categories': ['small'], 'has_evasion': False, 'has_utility': False}, {'name': 'Nyxborn Hydra', 'power': 0.0, 'toughness': 1.0, 'categories': ['small', 'evasive', 'utility'], 'has_evasion': True, 'has_utility': True}, {'name': 'Sakura-Tribe Elder', 'power': 1.0, 'toughness': 1.0, 'categories': ['small', 'utility'], 'has_evasion': False, 'has_utility': True}, {'name': 'Treetop Snarespinner', 'power': 1.0, 'toughness': 4.0, 'categories': ['small', 'evasive'], 'has_evasion': True, 'has_utility': False}, {'name': 'Tuskguard Captain', 'power': 2.0, 'toughness': 3.0, 'categories': ['small', 'evasive'], 'has_evasion': True, 'has_utility': False}, {'name': 'Voracious Varmint', 'power': 2.0, 'toughness': 2.0, 'categories': ['small'], 'has_evasion': False, 'has_utility': False}, {'name': 'Yavimaya Elder', 'power': 2.0, 'toughness': 1.0, 'categories': ['small', 'utility'], 'has_evasion': False, 'has_utility': True}, {'name': 'Greater Tanuki', 'power': 6.0, 'toughness': 5.0, 'categories': ['large', 'evasive', 'utility'], 'has_evasion': True, 'has_utility': True}]}, 'overall_coherence': 2.393846153846154, 'deck_colors': 'G', 'card_count': 13}\n",
      "Improved Green Ramp coherence from 1.8 to 2.4\n",
      "Total coherence: 225.39 (improvement: 0.12)\n"
     ]
    },
    {
     "data": {
      "text/markdown": [
       "Analyzing deck: Green Midrange"
      ],
      "text/plain": [
       "<IPython.core.display.Markdown object>"
      ]
     },
     "metadata": {},
     "output_type": "display_data"
    },
    {
     "data": {
      "text/markdown": [
       "Current coherence: 1.9"
      ],
      "text/plain": [
       "<IPython.core.display.Markdown object>"
      ]
     },
     "metadata": {},
     "output_type": "display_data"
    },
    {
     "data": {
      "text/markdown": [
       "Expected themes: Midrange"
      ],
      "text/plain": [
       "<IPython.core.display.Markdown object>"
      ]
     },
     "metadata": {},
     "output_type": "display_data"
    },
    {
     "data": {
      "text/markdown": [
       "Deck colors: G"
      ],
      "text/plain": [
       "<IPython.core.display.Markdown object>"
      ]
     },
     "metadata": {},
     "output_type": "display_data"
    },
    {
     "data": {
      "text/markdown": [
       "Found 67 candidate cards to consider"
      ],
      "text/plain": [
       "<IPython.core.display.Markdown object>"
      ]
     },
     "metadata": {},
     "output_type": "display_data"
    },
    {
     "data": {
      "text/markdown": [
       "Identified 13 cards as potential removal candidates"
      ],
      "text/plain": [
       "<IPython.core.display.Markdown object>"
      ]
     },
     "metadata": {},
     "output_type": "display_data"
    },
    {
     "data": {
      "text/markdown": [
       "# 🔄 Swap Recommendations for Green Midrange"
      ],
      "text/plain": [
       "<IPython.core.display.Markdown object>"
      ]
     },
     "metadata": {},
     "output_type": "display_data"
    },
    {
     "data": {
      "text/markdown": [
       "**Projected New Coherence:** 66.9/100 (+65.0)"
      ],
      "text/plain": [
       "<IPython.core.display.Markdown object>"
      ]
     },
     "metadata": {},
     "output_type": "display_data"
    },
    {
     "data": {
      "text/markdown": [
       "### Cards to Remove:"
      ],
      "text/plain": [
       "<IPython.core.display.Markdown object>"
      ]
     },
     "metadata": {},
     "output_type": "display_data"
    },
    {
     "data": {
      "text/markdown": [
       "- **Wild Growth** (Theme Score: 0.0, CMC: 1.0)"
      ],
      "text/plain": [
       "<IPython.core.display.Markdown object>"
      ]
     },
     "metadata": {},
     "output_type": "display_data"
    },
    {
     "data": {
      "text/markdown": [
       "- **Hooting Mandrills** (Theme Score: 2.0, CMC: 6.0)"
      ],
      "text/plain": [
       "<IPython.core.display.Markdown object>"
      ]
     },
     "metadata": {},
     "output_type": "display_data"
    },
    {
     "data": {
      "text/markdown": [
       "### Cards to Add:"
      ],
      "text/plain": [
       "<IPython.core.display.Markdown object>"
      ]
     },
     "metadata": {},
     "output_type": "display_data"
    },
    {
     "data": {
      "text/markdown": [
       "- **Jewel Thief** (Theme Score: 9.0) - from Green Ramp"
      ],
      "text/plain": [
       "<IPython.core.display.Markdown object>"
      ]
     },
     "metadata": {},
     "output_type": "display_data"
    },
    {
     "data": {
      "text/markdown": [
       "- **Generous Ent** (Theme Score: 6.0) - from Green Ramp"
      ],
      "text/plain": [
       "<IPython.core.display.Markdown object>"
      ]
     },
     "metadata": {},
     "output_type": "display_data"
    },
    {
     "name": "stdout",
     "output_type": "stream",
     "text": [
      "2.393846153846154\n",
      "{'expected_themes': ['Midrange'], 'theme_score': 4.230769230769231, 'theme_matches': [{'card': 'Bloom Hulk', 'score': 4, 'themes': ['Midrange']}, {'card': 'Conclave Naturalists', 'score': 3, 'themes': ['Midrange']}, {'card': 'Longstalk Brawl', 'score': 4, 'themes': ['Midrange']}, {'card': 'Massive Might', 'score': 2, 'themes': ['Midrange']}, {'card': 'Rancor', 'score': 3, 'themes': ['Midrange']}, {'card': 'Trumpeting Herd', 'score': 3, 'themes': ['Midrange']}, {'card': 'Vines of Vastwood', 'score': 2, 'themes': ['Midrange']}, {'card': 'Generous Ent', 'score': 6, 'themes': ['Midrange']}, {'card': 'Jewel Thief', 'score': 9, 'themes': ['Midrange']}, {'card': 'Bannerhide Krushok', 'score': 4, 'themes': ['Midrange']}, {'card': 'Ram Through', 'score': 2, 'themes': ['Midrange']}, {'card': 'Basking Broodscale', 'score': 7, 'themes': ['Midrange']}, {'card': 'Iron Apprentice', 'score': 6, 'themes': ['Midrange']}], 'color_coherence': 1.0, 'color_issues': [], 'mana_curve_score': 0.8923076923076922, 'mana_curve': {4: 3, 5: 1, 1: 5, 6: 1, 3: 1, 2: 2}, 'creature_stats': {'creature_count': 8, 'total_power': 22.0, 'total_toughness': 24.0, 'avg_power': 2.75, 'avg_toughness': 3.0, 'power_distribution': {4: 3, 0: 2, 5: 1, 3: 1, 2: 1}, 'toughness_distribution': {4: 3, 0: 2, 7: 1, 3: 1, 2: 1}, 'creature_categories': {'small': 3, 'medium': 4, 'large': 1, 'utility': 6, 'evasive': 2}, 'theme_alignment_score': 0.0, 'creature_details': [{'name': 'Bloom Hulk', 'power': 4.0, 'toughness': 4.0, 'categories': ['medium', 'utility'], 'has_evasion': False, 'has_utility': True}, {'name': 'Conclave Naturalists', 'power': 4.0, 'toughness': 4.0, 'categories': ['medium', 'utility'], 'has_evasion': False, 'has_utility': True}, {'name': 'Trumpeting Herd', 'power': 0.0, 'toughness': 0.0, 'categories': ['small'], 'has_evasion': False, 'has_utility': False}, {'name': 'Generous Ent', 'power': 5.0, 'toughness': 7.0, 'categories': ['large', 'utility'], 'has_evasion': False, 'has_utility': True}, {'name': 'Jewel Thief', 'power': 3.0, 'toughness': 3.0, 'categories': ['medium', 'evasive', 'utility'], 'has_evasion': True, 'has_utility': True}, {'name': 'Bannerhide Krushok', 'power': 4.0, 'toughness': 4.0, 'categories': ['medium', 'evasive'], 'has_evasion': True, 'has_utility': False}, {'name': 'Basking Broodscale', 'power': 2.0, 'toughness': 2.0, 'categories': ['small', 'utility'], 'has_evasion': False, 'has_utility': True}, {'name': 'Iron Apprentice', 'power': 0.0, 'toughness': 0.0, 'categories': ['small', 'utility'], 'has_evasion': False, 'has_utility': True}]}, 'overall_coherence': 2.393846153846154, 'deck_colors': 'G', 'card_count': 13}\n",
      "Improved Green Midrange coherence from 1.9 to 2.4\n",
      "Total coherence: 225.28 (improvement: -0.12)\n"
     ]
    },
    {
     "data": {
      "text/markdown": [
       "Analyzing deck: Green Ramp"
      ],
      "text/plain": [
       "<IPython.core.display.Markdown object>"
      ]
     },
     "metadata": {},
     "output_type": "display_data"
    },
    {
     "data": {
      "text/markdown": [
       "Current coherence: 1.8"
      ],
      "text/plain": [
       "<IPython.core.display.Markdown object>"
      ]
     },
     "metadata": {},
     "output_type": "display_data"
    },
    {
     "data": {
      "text/markdown": [
       "Expected themes: Ramp"
      ],
      "text/plain": [
       "<IPython.core.display.Markdown object>"
      ]
     },
     "metadata": {},
     "output_type": "display_data"
    },
    {
     "data": {
      "text/markdown": [
       "Deck colors: G"
      ],
      "text/plain": [
       "<IPython.core.display.Markdown object>"
      ]
     },
     "metadata": {},
     "output_type": "display_data"
    },
    {
     "data": {
      "text/markdown": [
       "Found 60 candidate cards to consider"
      ],
      "text/plain": [
       "<IPython.core.display.Markdown object>"
      ]
     },
     "metadata": {},
     "output_type": "display_data"
    },
    {
     "data": {
      "text/markdown": [
       "Identified 13 cards as potential removal candidates"
      ],
      "text/plain": [
       "<IPython.core.display.Markdown object>"
      ]
     },
     "metadata": {},
     "output_type": "display_data"
    },
    {
     "data": {
      "text/markdown": [
       "# 🔄 Swap Recommendations for Green Ramp"
      ],
      "text/plain": [
       "<IPython.core.display.Markdown object>"
      ]
     },
     "metadata": {},
     "output_type": "display_data"
    },
    {
     "data": {
      "text/markdown": [
       "**Projected New Coherence:** 81.8/100 (+80.0)"
      ],
      "text/plain": [
       "<IPython.core.display.Markdown object>"
      ]
     },
     "metadata": {},
     "output_type": "display_data"
    },
    {
     "data": {
      "text/markdown": [
       "### Cards to Remove:"
      ],
      "text/plain": [
       "<IPython.core.display.Markdown object>"
      ]
     },
     "metadata": {},
     "output_type": "display_data"
    },
    {
     "data": {
      "text/markdown": [
       "- **Hooting Mandrills** (Theme Score: 0.0, CMC: 6.0)"
      ],
      "text/plain": [
       "<IPython.core.display.Markdown object>"
      ]
     },
     "metadata": {},
     "output_type": "display_data"
    },
    {
     "data": {
      "text/markdown": [
       "- **Wild Growth** (Theme Score: 0.0, CMC: 1.0)"
      ],
      "text/plain": [
       "<IPython.core.display.Markdown object>"
      ]
     },
     "metadata": {},
     "output_type": "display_data"
    },
    {
     "data": {
      "text/markdown": [
       "### Cards to Add:"
      ],
      "text/plain": [
       "<IPython.core.display.Markdown object>"
      ]
     },
     "metadata": {},
     "output_type": "display_data"
    },
    {
     "data": {
      "text/markdown": [
       "- **Generous Ent** (Theme Score: 8.0) - from Green Midrange"
      ],
      "text/plain": [
       "<IPython.core.display.Markdown object>"
      ]
     },
     "metadata": {},
     "output_type": "display_data"
    },
    {
     "data": {
      "text/markdown": [
       "- **Jewel Thief** (Theme Score: 8.0) - from Green Midrange"
      ],
      "text/plain": [
       "<IPython.core.display.Markdown object>"
      ]
     },
     "metadata": {},
     "output_type": "display_data"
    },
    {
     "name": "stdout",
     "output_type": "stream",
     "text": [
      "2.393846153846154\n",
      "{'expected_themes': ['Ramp'], 'theme_score': 4.230769230769231, 'theme_matches': [{'card': 'Abundant Harvest', 'score': 3, 'themes': ['Ramp']}, {'card': 'Generous Ent', 'score': 8, 'themes': ['Ramp']}, {'card': 'Jewel Thief', 'score': 8, 'themes': ['Ramp']}, {'card': 'Arbor Elf', 'score': 1, 'themes': ['Ramp']}, {'card': 'Bushwhack', 'score': 5, 'themes': ['Ramp']}, {'card': 'Elvish Mystic', 'score': 1, 'themes': ['Ramp']}, {'card': 'Nyxborn Hydra', 'score': 2, 'themes': ['Ramp']}, {'card': 'Sakura-Tribe Elder', 'score': 8, 'themes': ['Ramp']}, {'card': 'Treetop Snarespinner', 'score': 1, 'themes': ['Ramp']}, {'card': 'Tuskguard Captain', 'score': 1, 'themes': ['Ramp']}, {'card': 'Voracious Varmint', 'score': 1, 'themes': ['Ramp']}, {'card': 'Yavimaya Elder', 'score': 8, 'themes': ['Ramp']}, {'card': 'Greater Tanuki', 'score': 8, 'themes': ['Ramp']}], 'color_coherence': 1.0, 'color_issues': [], 'mana_curve_score': 0.8923076923076925, 'mana_curve': {1: 5, 6: 2, 3: 3, 2: 2, 4: 1}, 'creature_stats': {'creature_count': 11, 'total_power': 24.0, 'total_toughness': 29.0, 'avg_power': 2.1818181818181817, 'avg_toughness': 2.6363636363636362, 'power_distribution': {5: 1, 3: 1, 1: 4, 0: 1, 2: 3, 6: 1}, 'toughness_distribution': {7: 1, 3: 2, 1: 5, 4: 1, 2: 1, 5: 1}, 'creature_categories': {'small': 8, 'medium': 1, 'large': 2, 'utility': 6, 'evasive': 5}, 'theme_alignment_score': 0.0, 'creature_details': [{'name': 'Generous Ent', 'power': 5.0, 'toughness': 7.0, 'categories': ['large', 'utility'], 'has_evasion': False, 'has_utility': True}, {'name': 'Jewel Thief', 'power': 3.0, 'toughness': 3.0, 'categories': ['medium', 'evasive', 'utility'], 'has_evasion': True, 'has_utility': True}, {'name': 'Arbor Elf', 'power': 1.0, 'toughness': 1.0, 'categories': ['small'], 'has_evasion': False, 'has_utility': False}, {'name': 'Elvish Mystic', 'power': 1.0, 'toughness': 1.0, 'categories': ['small'], 'has_evasion': False, 'has_utility': False}, {'name': 'Nyxborn Hydra', 'power': 0.0, 'toughness': 1.0, 'categories': ['small', 'evasive', 'utility'], 'has_evasion': True, 'has_utility': True}, {'name': 'Sakura-Tribe Elder', 'power': 1.0, 'toughness': 1.0, 'categories': ['small', 'utility'], 'has_evasion': False, 'has_utility': True}, {'name': 'Treetop Snarespinner', 'power': 1.0, 'toughness': 4.0, 'categories': ['small', 'evasive'], 'has_evasion': True, 'has_utility': False}, {'name': 'Tuskguard Captain', 'power': 2.0, 'toughness': 3.0, 'categories': ['small', 'evasive'], 'has_evasion': True, 'has_utility': False}, {'name': 'Voracious Varmint', 'power': 2.0, 'toughness': 2.0, 'categories': ['small'], 'has_evasion': False, 'has_utility': False}, {'name': 'Yavimaya Elder', 'power': 2.0, 'toughness': 1.0, 'categories': ['small', 'utility'], 'has_evasion': False, 'has_utility': True}, {'name': 'Greater Tanuki', 'power': 6.0, 'toughness': 5.0, 'categories': ['large', 'evasive', 'utility'], 'has_evasion': True, 'has_utility': True}]}, 'overall_coherence': 2.393846153846154, 'deck_colors': 'G', 'card_count': 13}\n",
      "Improved Green Ramp coherence from 1.8 to 2.4\n",
      "Total coherence: 225.39 (improvement: 0.12)\n"
     ]
    },
    {
     "data": {
      "text/markdown": [
       "Analyzing deck: Green Midrange"
      ],
      "text/plain": [
       "<IPython.core.display.Markdown object>"
      ]
     },
     "metadata": {},
     "output_type": "display_data"
    },
    {
     "data": {
      "text/markdown": [
       "Current coherence: 1.9"
      ],
      "text/plain": [
       "<IPython.core.display.Markdown object>"
      ]
     },
     "metadata": {},
     "output_type": "display_data"
    },
    {
     "data": {
      "text/markdown": [
       "Expected themes: Midrange"
      ],
      "text/plain": [
       "<IPython.core.display.Markdown object>"
      ]
     },
     "metadata": {},
     "output_type": "display_data"
    },
    {
     "data": {
      "text/markdown": [
       "Deck colors: G"
      ],
      "text/plain": [
       "<IPython.core.display.Markdown object>"
      ]
     },
     "metadata": {},
     "output_type": "display_data"
    },
    {
     "data": {
      "text/markdown": [
       "Found 67 candidate cards to consider"
      ],
      "text/plain": [
       "<IPython.core.display.Markdown object>"
      ]
     },
     "metadata": {},
     "output_type": "display_data"
    },
    {
     "data": {
      "text/markdown": [
       "Identified 13 cards as potential removal candidates"
      ],
      "text/plain": [
       "<IPython.core.display.Markdown object>"
      ]
     },
     "metadata": {},
     "output_type": "display_data"
    },
    {
     "data": {
      "text/markdown": [
       "# 🔄 Swap Recommendations for Green Midrange"
      ],
      "text/plain": [
       "<IPython.core.display.Markdown object>"
      ]
     },
     "metadata": {},
     "output_type": "display_data"
    },
    {
     "data": {
      "text/markdown": [
       "**Projected New Coherence:** 66.9/100 (+65.0)"
      ],
      "text/plain": [
       "<IPython.core.display.Markdown object>"
      ]
     },
     "metadata": {},
     "output_type": "display_data"
    },
    {
     "data": {
      "text/markdown": [
       "### Cards to Remove:"
      ],
      "text/plain": [
       "<IPython.core.display.Markdown object>"
      ]
     },
     "metadata": {},
     "output_type": "display_data"
    },
    {
     "data": {
      "text/markdown": [
       "- **Wild Growth** (Theme Score: 0.0, CMC: 1.0)"
      ],
      "text/plain": [
       "<IPython.core.display.Markdown object>"
      ]
     },
     "metadata": {},
     "output_type": "display_data"
    },
    {
     "data": {
      "text/markdown": [
       "- **Hooting Mandrills** (Theme Score: 2.0, CMC: 6.0)"
      ],
      "text/plain": [
       "<IPython.core.display.Markdown object>"
      ]
     },
     "metadata": {},
     "output_type": "display_data"
    },
    {
     "data": {
      "text/markdown": [
       "### Cards to Add:"
      ],
      "text/plain": [
       "<IPython.core.display.Markdown object>"
      ]
     },
     "metadata": {},
     "output_type": "display_data"
    },
    {
     "data": {
      "text/markdown": [
       "- **Jewel Thief** (Theme Score: 9.0) - from Green Ramp"
      ],
      "text/plain": [
       "<IPython.core.display.Markdown object>"
      ]
     },
     "metadata": {},
     "output_type": "display_data"
    },
    {
     "data": {
      "text/markdown": [
       "- **Generous Ent** (Theme Score: 6.0) - from Green Ramp"
      ],
      "text/plain": [
       "<IPython.core.display.Markdown object>"
      ]
     },
     "metadata": {},
     "output_type": "display_data"
    },
    {
     "name": "stdout",
     "output_type": "stream",
     "text": [
      "2.393846153846154\n",
      "{'expected_themes': ['Midrange'], 'theme_score': 4.230769230769231, 'theme_matches': [{'card': 'Bloom Hulk', 'score': 4, 'themes': ['Midrange']}, {'card': 'Conclave Naturalists', 'score': 3, 'themes': ['Midrange']}, {'card': 'Longstalk Brawl', 'score': 4, 'themes': ['Midrange']}, {'card': 'Massive Might', 'score': 2, 'themes': ['Midrange']}, {'card': 'Rancor', 'score': 3, 'themes': ['Midrange']}, {'card': 'Trumpeting Herd', 'score': 3, 'themes': ['Midrange']}, {'card': 'Vines of Vastwood', 'score': 2, 'themes': ['Midrange']}, {'card': 'Generous Ent', 'score': 6, 'themes': ['Midrange']}, {'card': 'Jewel Thief', 'score': 9, 'themes': ['Midrange']}, {'card': 'Bannerhide Krushok', 'score': 4, 'themes': ['Midrange']}, {'card': 'Ram Through', 'score': 2, 'themes': ['Midrange']}, {'card': 'Basking Broodscale', 'score': 7, 'themes': ['Midrange']}, {'card': 'Iron Apprentice', 'score': 6, 'themes': ['Midrange']}], 'color_coherence': 1.0, 'color_issues': [], 'mana_curve_score': 0.8923076923076922, 'mana_curve': {4: 3, 5: 1, 1: 5, 6: 1, 3: 1, 2: 2}, 'creature_stats': {'creature_count': 8, 'total_power': 22.0, 'total_toughness': 24.0, 'avg_power': 2.75, 'avg_toughness': 3.0, 'power_distribution': {4: 3, 0: 2, 5: 1, 3: 1, 2: 1}, 'toughness_distribution': {4: 3, 0: 2, 7: 1, 3: 1, 2: 1}, 'creature_categories': {'small': 3, 'medium': 4, 'large': 1, 'utility': 6, 'evasive': 2}, 'theme_alignment_score': 0.0, 'creature_details': [{'name': 'Bloom Hulk', 'power': 4.0, 'toughness': 4.0, 'categories': ['medium', 'utility'], 'has_evasion': False, 'has_utility': True}, {'name': 'Conclave Naturalists', 'power': 4.0, 'toughness': 4.0, 'categories': ['medium', 'utility'], 'has_evasion': False, 'has_utility': True}, {'name': 'Trumpeting Herd', 'power': 0.0, 'toughness': 0.0, 'categories': ['small'], 'has_evasion': False, 'has_utility': False}, {'name': 'Generous Ent', 'power': 5.0, 'toughness': 7.0, 'categories': ['large', 'utility'], 'has_evasion': False, 'has_utility': True}, {'name': 'Jewel Thief', 'power': 3.0, 'toughness': 3.0, 'categories': ['medium', 'evasive', 'utility'], 'has_evasion': True, 'has_utility': True}, {'name': 'Bannerhide Krushok', 'power': 4.0, 'toughness': 4.0, 'categories': ['medium', 'evasive'], 'has_evasion': True, 'has_utility': False}, {'name': 'Basking Broodscale', 'power': 2.0, 'toughness': 2.0, 'categories': ['small', 'utility'], 'has_evasion': False, 'has_utility': True}, {'name': 'Iron Apprentice', 'power': 0.0, 'toughness': 0.0, 'categories': ['small', 'utility'], 'has_evasion': False, 'has_utility': True}]}, 'overall_coherence': 2.393846153846154, 'deck_colors': 'G', 'card_count': 13}\n",
      "Improved Green Midrange coherence from 1.9 to 2.4\n",
      "Total coherence: 225.28 (improvement: -0.12)\n"
     ]
    },
    {
     "data": {
      "text/markdown": [
       "Analyzing deck: Green Ramp"
      ],
      "text/plain": [
       "<IPython.core.display.Markdown object>"
      ]
     },
     "metadata": {},
     "output_type": "display_data"
    },
    {
     "data": {
      "text/markdown": [
       "Current coherence: 1.8"
      ],
      "text/plain": [
       "<IPython.core.display.Markdown object>"
      ]
     },
     "metadata": {},
     "output_type": "display_data"
    },
    {
     "data": {
      "text/markdown": [
       "Expected themes: Ramp"
      ],
      "text/plain": [
       "<IPython.core.display.Markdown object>"
      ]
     },
     "metadata": {},
     "output_type": "display_data"
    },
    {
     "data": {
      "text/markdown": [
       "Deck colors: G"
      ],
      "text/plain": [
       "<IPython.core.display.Markdown object>"
      ]
     },
     "metadata": {},
     "output_type": "display_data"
    },
    {
     "data": {
      "text/markdown": [
       "Found 60 candidate cards to consider"
      ],
      "text/plain": [
       "<IPython.core.display.Markdown object>"
      ]
     },
     "metadata": {},
     "output_type": "display_data"
    },
    {
     "data": {
      "text/markdown": [
       "Identified 13 cards as potential removal candidates"
      ],
      "text/plain": [
       "<IPython.core.display.Markdown object>"
      ]
     },
     "metadata": {},
     "output_type": "display_data"
    },
    {
     "data": {
      "text/markdown": [
       "# 🔄 Swap Recommendations for Green Ramp"
      ],
      "text/plain": [
       "<IPython.core.display.Markdown object>"
      ]
     },
     "metadata": {},
     "output_type": "display_data"
    },
    {
     "data": {
      "text/markdown": [
       "**Projected New Coherence:** 81.8/100 (+80.0)"
      ],
      "text/plain": [
       "<IPython.core.display.Markdown object>"
      ]
     },
     "metadata": {},
     "output_type": "display_data"
    },
    {
     "data": {
      "text/markdown": [
       "### Cards to Remove:"
      ],
      "text/plain": [
       "<IPython.core.display.Markdown object>"
      ]
     },
     "metadata": {},
     "output_type": "display_data"
    },
    {
     "data": {
      "text/markdown": [
       "- **Hooting Mandrills** (Theme Score: 0.0, CMC: 6.0)"
      ],
      "text/plain": [
       "<IPython.core.display.Markdown object>"
      ]
     },
     "metadata": {},
     "output_type": "display_data"
    },
    {
     "data": {
      "text/markdown": [
       "- **Wild Growth** (Theme Score: 0.0, CMC: 1.0)"
      ],
      "text/plain": [
       "<IPython.core.display.Markdown object>"
      ]
     },
     "metadata": {},
     "output_type": "display_data"
    },
    {
     "data": {
      "text/markdown": [
       "### Cards to Add:"
      ],
      "text/plain": [
       "<IPython.core.display.Markdown object>"
      ]
     },
     "metadata": {},
     "output_type": "display_data"
    },
    {
     "data": {
      "text/markdown": [
       "- **Generous Ent** (Theme Score: 8.0) - from Green Midrange"
      ],
      "text/plain": [
       "<IPython.core.display.Markdown object>"
      ]
     },
     "metadata": {},
     "output_type": "display_data"
    },
    {
     "data": {
      "text/markdown": [
       "- **Jewel Thief** (Theme Score: 8.0) - from Green Midrange"
      ],
      "text/plain": [
       "<IPython.core.display.Markdown object>"
      ]
     },
     "metadata": {},
     "output_type": "display_data"
    },
    {
     "name": "stdout",
     "output_type": "stream",
     "text": [
      "2.393846153846154\n",
      "{'expected_themes': ['Ramp'], 'theme_score': 4.230769230769231, 'theme_matches': [{'card': 'Abundant Harvest', 'score': 3, 'themes': ['Ramp']}, {'card': 'Generous Ent', 'score': 8, 'themes': ['Ramp']}, {'card': 'Jewel Thief', 'score': 8, 'themes': ['Ramp']}, {'card': 'Arbor Elf', 'score': 1, 'themes': ['Ramp']}, {'card': 'Bushwhack', 'score': 5, 'themes': ['Ramp']}, {'card': 'Elvish Mystic', 'score': 1, 'themes': ['Ramp']}, {'card': 'Nyxborn Hydra', 'score': 2, 'themes': ['Ramp']}, {'card': 'Sakura-Tribe Elder', 'score': 8, 'themes': ['Ramp']}, {'card': 'Treetop Snarespinner', 'score': 1, 'themes': ['Ramp']}, {'card': 'Tuskguard Captain', 'score': 1, 'themes': ['Ramp']}, {'card': 'Voracious Varmint', 'score': 1, 'themes': ['Ramp']}, {'card': 'Yavimaya Elder', 'score': 8, 'themes': ['Ramp']}, {'card': 'Greater Tanuki', 'score': 8, 'themes': ['Ramp']}], 'color_coherence': 1.0, 'color_issues': [], 'mana_curve_score': 0.8923076923076925, 'mana_curve': {1: 5, 6: 2, 3: 3, 2: 2, 4: 1}, 'creature_stats': {'creature_count': 11, 'total_power': 24.0, 'total_toughness': 29.0, 'avg_power': 2.1818181818181817, 'avg_toughness': 2.6363636363636362, 'power_distribution': {5: 1, 3: 1, 1: 4, 0: 1, 2: 3, 6: 1}, 'toughness_distribution': {7: 1, 3: 2, 1: 5, 4: 1, 2: 1, 5: 1}, 'creature_categories': {'small': 8, 'medium': 1, 'large': 2, 'utility': 6, 'evasive': 5}, 'theme_alignment_score': 0.0, 'creature_details': [{'name': 'Generous Ent', 'power': 5.0, 'toughness': 7.0, 'categories': ['large', 'utility'], 'has_evasion': False, 'has_utility': True}, {'name': 'Jewel Thief', 'power': 3.0, 'toughness': 3.0, 'categories': ['medium', 'evasive', 'utility'], 'has_evasion': True, 'has_utility': True}, {'name': 'Arbor Elf', 'power': 1.0, 'toughness': 1.0, 'categories': ['small'], 'has_evasion': False, 'has_utility': False}, {'name': 'Elvish Mystic', 'power': 1.0, 'toughness': 1.0, 'categories': ['small'], 'has_evasion': False, 'has_utility': False}, {'name': 'Nyxborn Hydra', 'power': 0.0, 'toughness': 1.0, 'categories': ['small', 'evasive', 'utility'], 'has_evasion': True, 'has_utility': True}, {'name': 'Sakura-Tribe Elder', 'power': 1.0, 'toughness': 1.0, 'categories': ['small', 'utility'], 'has_evasion': False, 'has_utility': True}, {'name': 'Treetop Snarespinner', 'power': 1.0, 'toughness': 4.0, 'categories': ['small', 'evasive'], 'has_evasion': True, 'has_utility': False}, {'name': 'Tuskguard Captain', 'power': 2.0, 'toughness': 3.0, 'categories': ['small', 'evasive'], 'has_evasion': True, 'has_utility': False}, {'name': 'Voracious Varmint', 'power': 2.0, 'toughness': 2.0, 'categories': ['small'], 'has_evasion': False, 'has_utility': False}, {'name': 'Yavimaya Elder', 'power': 2.0, 'toughness': 1.0, 'categories': ['small', 'utility'], 'has_evasion': False, 'has_utility': True}, {'name': 'Greater Tanuki', 'power': 6.0, 'toughness': 5.0, 'categories': ['large', 'evasive', 'utility'], 'has_evasion': True, 'has_utility': True}]}, 'overall_coherence': 2.393846153846154, 'deck_colors': 'G', 'card_count': 13}\n",
      "Improved Green Ramp coherence from 1.8 to 2.4\n",
      "Total coherence: 225.39 (improvement: 0.12)\n"
     ]
    },
    {
     "data": {
      "text/markdown": [
       "Analyzing deck: Green Midrange"
      ],
      "text/plain": [
       "<IPython.core.display.Markdown object>"
      ]
     },
     "metadata": {},
     "output_type": "display_data"
    },
    {
     "data": {
      "text/markdown": [
       "Current coherence: 1.9"
      ],
      "text/plain": [
       "<IPython.core.display.Markdown object>"
      ]
     },
     "metadata": {},
     "output_type": "display_data"
    },
    {
     "data": {
      "text/markdown": [
       "Expected themes: Midrange"
      ],
      "text/plain": [
       "<IPython.core.display.Markdown object>"
      ]
     },
     "metadata": {},
     "output_type": "display_data"
    },
    {
     "data": {
      "text/markdown": [
       "Deck colors: G"
      ],
      "text/plain": [
       "<IPython.core.display.Markdown object>"
      ]
     },
     "metadata": {},
     "output_type": "display_data"
    },
    {
     "data": {
      "text/markdown": [
       "Found 67 candidate cards to consider"
      ],
      "text/plain": [
       "<IPython.core.display.Markdown object>"
      ]
     },
     "metadata": {},
     "output_type": "display_data"
    },
    {
     "data": {
      "text/markdown": [
       "Identified 13 cards as potential removal candidates"
      ],
      "text/plain": [
       "<IPython.core.display.Markdown object>"
      ]
     },
     "metadata": {},
     "output_type": "display_data"
    },
    {
     "data": {
      "text/markdown": [
       "# 🔄 Swap Recommendations for Green Midrange"
      ],
      "text/plain": [
       "<IPython.core.display.Markdown object>"
      ]
     },
     "metadata": {},
     "output_type": "display_data"
    },
    {
     "data": {
      "text/markdown": [
       "**Projected New Coherence:** 66.9/100 (+65.0)"
      ],
      "text/plain": [
       "<IPython.core.display.Markdown object>"
      ]
     },
     "metadata": {},
     "output_type": "display_data"
    },
    {
     "data": {
      "text/markdown": [
       "### Cards to Remove:"
      ],
      "text/plain": [
       "<IPython.core.display.Markdown object>"
      ]
     },
     "metadata": {},
     "output_type": "display_data"
    },
    {
     "data": {
      "text/markdown": [
       "- **Wild Growth** (Theme Score: 0.0, CMC: 1.0)"
      ],
      "text/plain": [
       "<IPython.core.display.Markdown object>"
      ]
     },
     "metadata": {},
     "output_type": "display_data"
    },
    {
     "data": {
      "text/markdown": [
       "- **Hooting Mandrills** (Theme Score: 2.0, CMC: 6.0)"
      ],
      "text/plain": [
       "<IPython.core.display.Markdown object>"
      ]
     },
     "metadata": {},
     "output_type": "display_data"
    },
    {
     "data": {
      "text/markdown": [
       "### Cards to Add:"
      ],
      "text/plain": [
       "<IPython.core.display.Markdown object>"
      ]
     },
     "metadata": {},
     "output_type": "display_data"
    },
    {
     "data": {
      "text/markdown": [
       "- **Jewel Thief** (Theme Score: 9.0) - from Green Ramp"
      ],
      "text/plain": [
       "<IPython.core.display.Markdown object>"
      ]
     },
     "metadata": {},
     "output_type": "display_data"
    },
    {
     "data": {
      "text/markdown": [
       "- **Generous Ent** (Theme Score: 6.0) - from Green Ramp"
      ],
      "text/plain": [
       "<IPython.core.display.Markdown object>"
      ]
     },
     "metadata": {},
     "output_type": "display_data"
    },
    {
     "name": "stdout",
     "output_type": "stream",
     "text": [
      "2.393846153846154\n",
      "{'expected_themes': ['Midrange'], 'theme_score': 4.230769230769231, 'theme_matches': [{'card': 'Bloom Hulk', 'score': 4, 'themes': ['Midrange']}, {'card': 'Conclave Naturalists', 'score': 3, 'themes': ['Midrange']}, {'card': 'Longstalk Brawl', 'score': 4, 'themes': ['Midrange']}, {'card': 'Massive Might', 'score': 2, 'themes': ['Midrange']}, {'card': 'Rancor', 'score': 3, 'themes': ['Midrange']}, {'card': 'Trumpeting Herd', 'score': 3, 'themes': ['Midrange']}, {'card': 'Vines of Vastwood', 'score': 2, 'themes': ['Midrange']}, {'card': 'Generous Ent', 'score': 6, 'themes': ['Midrange']}, {'card': 'Jewel Thief', 'score': 9, 'themes': ['Midrange']}, {'card': 'Bannerhide Krushok', 'score': 4, 'themes': ['Midrange']}, {'card': 'Ram Through', 'score': 2, 'themes': ['Midrange']}, {'card': 'Basking Broodscale', 'score': 7, 'themes': ['Midrange']}, {'card': 'Iron Apprentice', 'score': 6, 'themes': ['Midrange']}], 'color_coherence': 1.0, 'color_issues': [], 'mana_curve_score': 0.8923076923076922, 'mana_curve': {4: 3, 5: 1, 1: 5, 6: 1, 3: 1, 2: 2}, 'creature_stats': {'creature_count': 8, 'total_power': 22.0, 'total_toughness': 24.0, 'avg_power': 2.75, 'avg_toughness': 3.0, 'power_distribution': {4: 3, 0: 2, 5: 1, 3: 1, 2: 1}, 'toughness_distribution': {4: 3, 0: 2, 7: 1, 3: 1, 2: 1}, 'creature_categories': {'small': 3, 'medium': 4, 'large': 1, 'utility': 6, 'evasive': 2}, 'theme_alignment_score': 0.0, 'creature_details': [{'name': 'Bloom Hulk', 'power': 4.0, 'toughness': 4.0, 'categories': ['medium', 'utility'], 'has_evasion': False, 'has_utility': True}, {'name': 'Conclave Naturalists', 'power': 4.0, 'toughness': 4.0, 'categories': ['medium', 'utility'], 'has_evasion': False, 'has_utility': True}, {'name': 'Trumpeting Herd', 'power': 0.0, 'toughness': 0.0, 'categories': ['small'], 'has_evasion': False, 'has_utility': False}, {'name': 'Generous Ent', 'power': 5.0, 'toughness': 7.0, 'categories': ['large', 'utility'], 'has_evasion': False, 'has_utility': True}, {'name': 'Jewel Thief', 'power': 3.0, 'toughness': 3.0, 'categories': ['medium', 'evasive', 'utility'], 'has_evasion': True, 'has_utility': True}, {'name': 'Bannerhide Krushok', 'power': 4.0, 'toughness': 4.0, 'categories': ['medium', 'evasive'], 'has_evasion': True, 'has_utility': False}, {'name': 'Basking Broodscale', 'power': 2.0, 'toughness': 2.0, 'categories': ['small', 'utility'], 'has_evasion': False, 'has_utility': True}, {'name': 'Iron Apprentice', 'power': 0.0, 'toughness': 0.0, 'categories': ['small', 'utility'], 'has_evasion': False, 'has_utility': True}]}, 'overall_coherence': 2.393846153846154, 'deck_colors': 'G', 'card_count': 13}\n",
      "Improved Green Midrange coherence from 1.9 to 2.4\n",
      "Total coherence: 225.28 (improvement: -0.12)\n"
     ]
    },
    {
     "data": {
      "text/markdown": [
       "Analyzing deck: Green Ramp"
      ],
      "text/plain": [
       "<IPython.core.display.Markdown object>"
      ]
     },
     "metadata": {},
     "output_type": "display_data"
    },
    {
     "data": {
      "text/markdown": [
       "Current coherence: 1.8"
      ],
      "text/plain": [
       "<IPython.core.display.Markdown object>"
      ]
     },
     "metadata": {},
     "output_type": "display_data"
    },
    {
     "data": {
      "text/markdown": [
       "Expected themes: Ramp"
      ],
      "text/plain": [
       "<IPython.core.display.Markdown object>"
      ]
     },
     "metadata": {},
     "output_type": "display_data"
    },
    {
     "data": {
      "text/markdown": [
       "Deck colors: G"
      ],
      "text/plain": [
       "<IPython.core.display.Markdown object>"
      ]
     },
     "metadata": {},
     "output_type": "display_data"
    },
    {
     "data": {
      "text/markdown": [
       "Found 60 candidate cards to consider"
      ],
      "text/plain": [
       "<IPython.core.display.Markdown object>"
      ]
     },
     "metadata": {},
     "output_type": "display_data"
    },
    {
     "data": {
      "text/markdown": [
       "Identified 13 cards as potential removal candidates"
      ],
      "text/plain": [
       "<IPython.core.display.Markdown object>"
      ]
     },
     "metadata": {},
     "output_type": "display_data"
    },
    {
     "data": {
      "text/markdown": [
       "# 🔄 Swap Recommendations for Green Ramp"
      ],
      "text/plain": [
       "<IPython.core.display.Markdown object>"
      ]
     },
     "metadata": {},
     "output_type": "display_data"
    },
    {
     "data": {
      "text/markdown": [
       "**Projected New Coherence:** 81.8/100 (+80.0)"
      ],
      "text/plain": [
       "<IPython.core.display.Markdown object>"
      ]
     },
     "metadata": {},
     "output_type": "display_data"
    },
    {
     "data": {
      "text/markdown": [
       "### Cards to Remove:"
      ],
      "text/plain": [
       "<IPython.core.display.Markdown object>"
      ]
     },
     "metadata": {},
     "output_type": "display_data"
    },
    {
     "data": {
      "text/markdown": [
       "- **Hooting Mandrills** (Theme Score: 0.0, CMC: 6.0)"
      ],
      "text/plain": [
       "<IPython.core.display.Markdown object>"
      ]
     },
     "metadata": {},
     "output_type": "display_data"
    },
    {
     "data": {
      "text/markdown": [
       "- **Wild Growth** (Theme Score: 0.0, CMC: 1.0)"
      ],
      "text/plain": [
       "<IPython.core.display.Markdown object>"
      ]
     },
     "metadata": {},
     "output_type": "display_data"
    },
    {
     "data": {
      "text/markdown": [
       "### Cards to Add:"
      ],
      "text/plain": [
       "<IPython.core.display.Markdown object>"
      ]
     },
     "metadata": {},
     "output_type": "display_data"
    },
    {
     "data": {
      "text/markdown": [
       "- **Generous Ent** (Theme Score: 8.0) - from Green Midrange"
      ],
      "text/plain": [
       "<IPython.core.display.Markdown object>"
      ]
     },
     "metadata": {},
     "output_type": "display_data"
    },
    {
     "data": {
      "text/markdown": [
       "- **Jewel Thief** (Theme Score: 8.0) - from Green Midrange"
      ],
      "text/plain": [
       "<IPython.core.display.Markdown object>"
      ]
     },
     "metadata": {},
     "output_type": "display_data"
    },
    {
     "name": "stdout",
     "output_type": "stream",
     "text": [
      "2.393846153846154\n",
      "{'expected_themes': ['Ramp'], 'theme_score': 4.230769230769231, 'theme_matches': [{'card': 'Abundant Harvest', 'score': 3, 'themes': ['Ramp']}, {'card': 'Generous Ent', 'score': 8, 'themes': ['Ramp']}, {'card': 'Jewel Thief', 'score': 8, 'themes': ['Ramp']}, {'card': 'Arbor Elf', 'score': 1, 'themes': ['Ramp']}, {'card': 'Bushwhack', 'score': 5, 'themes': ['Ramp']}, {'card': 'Elvish Mystic', 'score': 1, 'themes': ['Ramp']}, {'card': 'Nyxborn Hydra', 'score': 2, 'themes': ['Ramp']}, {'card': 'Sakura-Tribe Elder', 'score': 8, 'themes': ['Ramp']}, {'card': 'Treetop Snarespinner', 'score': 1, 'themes': ['Ramp']}, {'card': 'Tuskguard Captain', 'score': 1, 'themes': ['Ramp']}, {'card': 'Voracious Varmint', 'score': 1, 'themes': ['Ramp']}, {'card': 'Yavimaya Elder', 'score': 8, 'themes': ['Ramp']}, {'card': 'Greater Tanuki', 'score': 8, 'themes': ['Ramp']}], 'color_coherence': 1.0, 'color_issues': [], 'mana_curve_score': 0.8923076923076925, 'mana_curve': {1: 5, 6: 2, 3: 3, 2: 2, 4: 1}, 'creature_stats': {'creature_count': 11, 'total_power': 24.0, 'total_toughness': 29.0, 'avg_power': 2.1818181818181817, 'avg_toughness': 2.6363636363636362, 'power_distribution': {5: 1, 3: 1, 1: 4, 0: 1, 2: 3, 6: 1}, 'toughness_distribution': {7: 1, 3: 2, 1: 5, 4: 1, 2: 1, 5: 1}, 'creature_categories': {'small': 8, 'medium': 1, 'large': 2, 'utility': 6, 'evasive': 5}, 'theme_alignment_score': 0.0, 'creature_details': [{'name': 'Generous Ent', 'power': 5.0, 'toughness': 7.0, 'categories': ['large', 'utility'], 'has_evasion': False, 'has_utility': True}, {'name': 'Jewel Thief', 'power': 3.0, 'toughness': 3.0, 'categories': ['medium', 'evasive', 'utility'], 'has_evasion': True, 'has_utility': True}, {'name': 'Arbor Elf', 'power': 1.0, 'toughness': 1.0, 'categories': ['small'], 'has_evasion': False, 'has_utility': False}, {'name': 'Elvish Mystic', 'power': 1.0, 'toughness': 1.0, 'categories': ['small'], 'has_evasion': False, 'has_utility': False}, {'name': 'Nyxborn Hydra', 'power': 0.0, 'toughness': 1.0, 'categories': ['small', 'evasive', 'utility'], 'has_evasion': True, 'has_utility': True}, {'name': 'Sakura-Tribe Elder', 'power': 1.0, 'toughness': 1.0, 'categories': ['small', 'utility'], 'has_evasion': False, 'has_utility': True}, {'name': 'Treetop Snarespinner', 'power': 1.0, 'toughness': 4.0, 'categories': ['small', 'evasive'], 'has_evasion': True, 'has_utility': False}, {'name': 'Tuskguard Captain', 'power': 2.0, 'toughness': 3.0, 'categories': ['small', 'evasive'], 'has_evasion': True, 'has_utility': False}, {'name': 'Voracious Varmint', 'power': 2.0, 'toughness': 2.0, 'categories': ['small'], 'has_evasion': False, 'has_utility': False}, {'name': 'Yavimaya Elder', 'power': 2.0, 'toughness': 1.0, 'categories': ['small', 'utility'], 'has_evasion': False, 'has_utility': True}, {'name': 'Greater Tanuki', 'power': 6.0, 'toughness': 5.0, 'categories': ['large', 'evasive', 'utility'], 'has_evasion': True, 'has_utility': True}]}, 'overall_coherence': 2.393846153846154, 'deck_colors': 'G', 'card_count': 13}\n",
      "Improved Green Ramp coherence from 1.8 to 2.4\n"
     ]
    },
    {
     "ename": "KeyboardInterrupt",
     "evalue": "",
     "output_type": "error",
     "traceback": [
      "\u001b[31m---------------------------------------------------------------------------\u001b[39m",
      "\u001b[31mKeyboardInterrupt\u001b[39m                         Traceback (most recent call last)",
      "\u001b[36mCell\u001b[39m\u001b[36m \u001b[39m\u001b[32mIn[3]\u001b[39m\u001b[32m, line 14\u001b[39m\n\u001b[32m     12\u001b[39m prev_total_coherence = total_coherence\n\u001b[32m     13\u001b[39m cube_df = optimize_deck_coherence(cube_df=cube_df, oracle_df=oracle_df)\n\u001b[32m---> \u001b[39m\u001b[32m14\u001b[39m coherence = \u001b[43manalyze_deck_theme_coherence_enhanced\u001b[49m\u001b[43m(\u001b[49m\u001b[43mcube_df\u001b[49m\u001b[43m,\u001b[49m\u001b[43m \u001b[49m\u001b[43moracle_df\u001b[49m\u001b[43m)\u001b[49m\n\u001b[32m     15\u001b[39m total_coherence = \u001b[38;5;28msum\u001b[39m(result[\u001b[33m'\u001b[39m\u001b[33moverall_coherence\u001b[39m\u001b[33m'\u001b[39m] \u001b[38;5;28;01mfor\u001b[39;00m result \u001b[38;5;129;01min\u001b[39;00m coherence.values())\n\u001b[32m     16\u001b[39m \u001b[38;5;66;03m# improvement = total_coherence > prev_total_coherence\u001b[39;00m\n",
      "\u001b[36mFile \u001b[39m\u001b[32m~/workspace/personal/magic-jumpstart/jumpstart/src/coherence.py:491\u001b[39m, in \u001b[36manalyze_deck_theme_coherence_enhanced\u001b[39m\u001b[34m(cube_df, oracle_df)\u001b[39m\n\u001b[32m    489\u001b[39m theme_score, theme_matches = calculate_theme_score(deck_cards, expected_themes, oracle_df)\n\u001b[32m    490\u001b[39m color_coherence, color_issues = calculate_color_coherence(deck_cards, deck_colors, oracle_df)\n\u001b[32m--> \u001b[39m\u001b[32m491\u001b[39m curve_score, mana_curve = \u001b[43mcalculate_mana_curve_coherence\u001b[49m\u001b[43m(\u001b[49m\u001b[43mdeck_cards\u001b[49m\u001b[43m)\u001b[49m\n\u001b[32m    492\u001b[39m creature_stats = calculate_creature_stats_coherence(deck_cards, expected_themes, oracle_df)\n\u001b[32m    494\u001b[39m \u001b[38;5;66;03m# Overall coherence score with improved weighting\u001b[39;00m\n",
      "\u001b[36mFile \u001b[39m\u001b[32m~/workspace/personal/magic-jumpstart/jumpstart/src/coherence.py:449\u001b[39m, in \u001b[36manalyze_deck_theme_coherence_enhanced.<locals>.calculate_mana_curve_coherence\u001b[39m\u001b[34m(cards)\u001b[39m\n\u001b[32m    447\u001b[39m \u001b[38;5;250m\u001b[39m\u001b[33;03m\"\"\"Calculate mana curve distribution\"\"\"\u001b[39;00m\n\u001b[32m    448\u001b[39m curve = {}\n\u001b[32m--> \u001b[39m\u001b[32m449\u001b[39m \u001b[43m\u001b[49m\u001b[38;5;28;43;01mfor\u001b[39;49;00m\u001b[43m \u001b[49m\u001b[43m_\u001b[49m\u001b[43m,\u001b[49m\u001b[43m \u001b[49m\u001b[43mcard_row\u001b[49m\u001b[43m \u001b[49m\u001b[38;5;129;43;01min\u001b[39;49;00m\u001b[43m \u001b[49m\u001b[43mcards\u001b[49m\u001b[43m.\u001b[49m\u001b[43miterrows\u001b[49m\u001b[43m(\u001b[49m\u001b[43m)\u001b[49m\u001b[43m:\u001b[49m\n\u001b[32m    450\u001b[39m \u001b[43m    \u001b[49m\u001b[43mcmc\u001b[49m\u001b[43m \u001b[49m\u001b[43m=\u001b[49m\u001b[43m \u001b[49m\u001b[43mcard_row\u001b[49m\u001b[43m.\u001b[49m\u001b[43mget\u001b[49m\u001b[43m(\u001b[49m\u001b[33;43m'\u001b[39;49m\u001b[33;43mCMC\u001b[39;49m\u001b[33;43m'\u001b[39;49m\u001b[43m,\u001b[49m\u001b[43m \u001b[49m\u001b[32;43m0\u001b[39;49m\u001b[43m)\u001b[49m\n\u001b[32m    451\u001b[39m \u001b[43m    \u001b[49m\u001b[38;5;28;43;01mif\u001b[39;49;00m\u001b[43m \u001b[49m\u001b[43mpd\u001b[49m\u001b[43m.\u001b[49m\u001b[43misna\u001b[49m\u001b[43m(\u001b[49m\u001b[43mcmc\u001b[49m\u001b[43m)\u001b[49m\u001b[43m:\u001b[49m\n",
      "\u001b[36mFile \u001b[39m\u001b[32m~/workspace/personal/magic-jumpstart/.venv/lib/python3.13/site-packages/pandas/core/frame.py:1558\u001b[39m, in \u001b[36mDataFrame.iterrows\u001b[39m\u001b[34m(self)\u001b[39m\n\u001b[32m   1556\u001b[39m klass = \u001b[38;5;28mself\u001b[39m._constructor_sliced\n\u001b[32m   1557\u001b[39m using_cow = using_copy_on_write()\n\u001b[32m-> \u001b[39m\u001b[32m1558\u001b[39m \u001b[38;5;28;01mfor\u001b[39;00m k, v \u001b[38;5;129;01min\u001b[39;00m \u001b[38;5;28mzip\u001b[39m(\u001b[38;5;28mself\u001b[39m.index, \u001b[38;5;28;43mself\u001b[39;49m\u001b[43m.\u001b[49m\u001b[43mvalues\u001b[49m):\n\u001b[32m   1559\u001b[39m     s = klass(v, index=columns, name=k).__finalize__(\u001b[38;5;28mself\u001b[39m)\n\u001b[32m   1560\u001b[39m     \u001b[38;5;28;01mif\u001b[39;00m using_cow \u001b[38;5;129;01mand\u001b[39;00m \u001b[38;5;28mself\u001b[39m._mgr.is_single_block:\n",
      "\u001b[36mFile \u001b[39m\u001b[32m~/workspace/personal/magic-jumpstart/.venv/lib/python3.13/site-packages/pandas/core/frame.py:12671\u001b[39m, in \u001b[36mDataFrame.values\u001b[39m\u001b[34m(self)\u001b[39m\n\u001b[32m  12597\u001b[39m \u001b[38;5;129m@property\u001b[39m\n\u001b[32m  12598\u001b[39m \u001b[38;5;28;01mdef\u001b[39;00m\u001b[38;5;250m \u001b[39m\u001b[34mvalues\u001b[39m(\u001b[38;5;28mself\u001b[39m) -> np.ndarray:\n\u001b[32m  12599\u001b[39m \u001b[38;5;250m    \u001b[39m\u001b[33;03m\"\"\"\u001b[39;00m\n\u001b[32m  12600\u001b[39m \u001b[33;03m    Return a Numpy representation of the DataFrame.\u001b[39;00m\n\u001b[32m  12601\u001b[39m \n\u001b[32m   (...)\u001b[39m\u001b[32m  12669\u001b[39m \u001b[33;03m           ['monkey', nan, None]], dtype=object)\u001b[39;00m\n\u001b[32m  12670\u001b[39m \u001b[33;03m    \"\"\"\u001b[39;00m\n\u001b[32m> \u001b[39m\u001b[32m12671\u001b[39m     \u001b[38;5;28;01mreturn\u001b[39;00m \u001b[38;5;28;43mself\u001b[39;49m\u001b[43m.\u001b[49m\u001b[43m_mgr\u001b[49m\u001b[43m.\u001b[49m\u001b[43mas_array\u001b[49m\u001b[43m(\u001b[49m\u001b[43m)\u001b[49m\n",
      "\u001b[36mFile \u001b[39m\u001b[32m~/workspace/personal/magic-jumpstart/.venv/lib/python3.13/site-packages/pandas/core/internals/managers.py:1694\u001b[39m, in \u001b[36mBlockManager.as_array\u001b[39m\u001b[34m(self, dtype, copy, na_value)\u001b[39m\n\u001b[32m   1692\u001b[39m         arr.flags.writeable = \u001b[38;5;28;01mFalse\u001b[39;00m\n\u001b[32m   1693\u001b[39m \u001b[38;5;28;01melse\u001b[39;00m:\n\u001b[32m-> \u001b[39m\u001b[32m1694\u001b[39m     arr = \u001b[38;5;28;43mself\u001b[39;49m\u001b[43m.\u001b[49m\u001b[43m_interleave\u001b[49m\u001b[43m(\u001b[49m\u001b[43mdtype\u001b[49m\u001b[43m=\u001b[49m\u001b[43mdtype\u001b[49m\u001b[43m,\u001b[49m\u001b[43m \u001b[49m\u001b[43mna_value\u001b[49m\u001b[43m=\u001b[49m\u001b[43mna_value\u001b[49m\u001b[43m)\u001b[49m\n\u001b[32m   1695\u001b[39m     \u001b[38;5;66;03m# The underlying data was copied within _interleave, so no need\u001b[39;00m\n\u001b[32m   1696\u001b[39m     \u001b[38;5;66;03m# to further copy if copy=True or setting na_value\u001b[39;00m\n\u001b[32m   1698\u001b[39m \u001b[38;5;28;01mif\u001b[39;00m na_value \u001b[38;5;129;01mis\u001b[39;00m lib.no_default:\n",
      "\u001b[36mFile \u001b[39m\u001b[32m~/workspace/personal/magic-jumpstart/.venv/lib/python3.13/site-packages/pandas/core/internals/managers.py:1737\u001b[39m, in \u001b[36mBlockManager._interleave\u001b[39m\u001b[34m(self, dtype, na_value)\u001b[39m\n\u001b[32m   1735\u001b[39m         arr = blk.get_values(dtype)\n\u001b[32m   1736\u001b[39m         result[rl.indexer] = arr\n\u001b[32m-> \u001b[39m\u001b[32m1737\u001b[39m         itemmask[rl.indexer] = \u001b[32m1\u001b[39m\n\u001b[32m   1738\u001b[39m     \u001b[38;5;28;01mreturn\u001b[39;00m result\n\u001b[32m   1740\u001b[39m \u001b[38;5;28;01mfor\u001b[39;00m blk \u001b[38;5;129;01min\u001b[39;00m \u001b[38;5;28mself\u001b[39m.blocks:\n",
      "\u001b[31mKeyboardInterrupt\u001b[39m: "
     ]
    }
   ],
   "source": [
    "# You can also analyze a specific deck by name\n",
    "# Example: Analyze the \"Green Big Creatures\" deck\n",
    "\n",
    "from src.process import optimize_deck_coherence\n",
    "\n",
    "\n",
    "coherence = analyze_deck_theme_coherence_enhanced(cube_df, oracle_df)\n",
    "total_coherence = sum(result['overall_coherence'] for result in coherence.values())\n",
    "\n",
    "improvement = True\n",
    "while improvement:\n",
    "    prev_total_coherence = total_coherence\n",
    "    cube_df = optimize_deck_coherence(cube_df=cube_df, oracle_df=oracle_df)\n",
    "    coherence = analyze_deck_theme_coherence_enhanced(cube_df, oracle_df)\n",
    "    total_coherence = sum(result['overall_coherence'] for result in coherence.values())\n",
    "    improvement = total_coherence > prev_total_coherence\n",
    "    print(f\"Total coherence: {total_coherence:.2f} (improvement: {total_coherence - prev_total_coherence:.2f})\")"
   ]
  },
  {
   "cell_type": "markdown",
   "id": "f407f31b",
   "metadata": {},
   "source": [
    "# Save to file"
   ]
  },
  {
   "cell_type": "code",
   "execution_count": null,
   "id": "b89cb5cc",
   "metadata": {},
   "outputs": [
    {
     "name": "stdout",
     "output_type": "stream",
     "text": [
      "Exporting cube to JumpstartCube_ThePauperCube_ULTIMATE_Final_v4.csv...\n",
      "✅ Successfully exported 390 cards to JumpstartCube_ThePauperCube_ULTIMATE_Final_v4.csv\n",
      "\n",
      "📊 Export Summary:\n",
      "Total cards: 390\n",
      "Number of decks: 30\n",
      "\n",
      "Deck breakdown:\n",
      "  Azorius Evasion/Flying: 13 cards\n",
      "  Blue Card Draw: 13 cards\n",
      "  White Equipment: 13 cards\n",
      "  White Control: 13 cards\n",
      "  White Aggro: 13 cards\n",
      "  Simic Control: 13 cards\n",
      "  Selesnya Control: 13 cards\n",
      "  Red Artifacts: 13 cards\n",
      "  Red Burn: 13 cards\n",
      "  Rakdos Burn/Damage: 13 cards\n",
      "  ... and 20 more decks\n"
     ]
    },
    {
     "data": {
      "text/plain": [
       "'JumpstartCube_ThePauperCube_ULTIMATE_Final_v4.csv'"
      ]
     },
     "execution_count": 4,
     "metadata": {},
     "output_type": "execute_result"
    }
   ],
   "source": [
    "# display_coherence_analysis_enhanced(analyze_deck_theme_coherence_enhanced(cube_df, oracle_df))\n",
    "\n",
    "from src.export import export_cube_to_csv\n",
    "\n",
    "\n",
    "export_cube_to_csv(cube_df, oracle_df, 'JumpstartCube_ThePauperCube_ULTIMATE_Final_v4.csv')"
   ]
  },
  {
   "cell_type": "code",
   "execution_count": null,
   "id": "2c4d7fff",
   "metadata": {},
   "outputs": [
    {
     "data": {
      "text/markdown": [
       "# Enhanced Deck Theme Coherence Analysis"
      ],
      "text/plain": [
       "<IPython.core.display.Markdown object>"
      ]
     },
     "metadata": {},
     "output_type": "display_data"
    },
    {
     "data": {
      "text/markdown": [
       "**Average Coherence Score: 7.5/100**"
      ],
      "text/plain": [
       "<IPython.core.display.Markdown object>"
      ]
     },
     "metadata": {},
     "output_type": "display_data"
    },
    {
     "data": {
      "text/markdown": [
       "## Top 5 Most Coherent Decks"
      ],
      "text/plain": [
       "<IPython.core.display.Markdown object>"
      ]
     },
     "metadata": {},
     "output_type": "display_data"
    },
    {
     "data": {
      "text/markdown": [
       "### 1. Rakdos Burn/Damage"
      ],
      "text/plain": [
       "<IPython.core.display.Markdown object>"
      ]
     },
     "metadata": {},
     "output_type": "display_data"
    },
    {
     "data": {
      "text/markdown": [
       "- **Overall Score: 12.8/100**"
      ],
      "text/plain": [
       "<IPython.core.display.Markdown object>"
      ]
     },
     "metadata": {},
     "output_type": "display_data"
    },
    {
     "data": {
      "text/markdown": [
       "- **Expected Themes:** Burn, Sacrifice, Aggro"
      ],
      "text/plain": [
       "<IPython.core.display.Markdown object>"
      ]
     },
     "metadata": {},
     "output_type": "display_data"
    },
    {
     "data": {
      "text/markdown": [
       "- **Theme Match Score:** 5.0"
      ],
      "text/plain": [
       "<IPython.core.display.Markdown object>"
      ]
     },
     "metadata": {},
     "output_type": "display_data"
    },
    {
     "data": {
      "text/markdown": [
       "- **Color Coherence:** 100.0%"
      ],
      "text/plain": [
       "<IPython.core.display.Markdown object>"
      ]
     },
     "metadata": {},
     "output_type": "display_data"
    },
    {
     "data": {
      "text/markdown": [
       "- **Mana Curve Score:** 100.0%"
      ],
      "text/plain": [
       "<IPython.core.display.Markdown object>"
      ]
     },
     "metadata": {},
     "output_type": "display_data"
    },
    {
     "data": {
      "text/markdown": [
       "- **Creature Count:** 6 (46.2% of deck)"
      ],
      "text/plain": [
       "<IPython.core.display.Markdown object>"
      ]
     },
     "metadata": {},
     "output_type": "display_data"
    },
    {
     "data": {
      "text/markdown": [
       "- **Avg Power/Toughness:** 2.0/1.7"
      ],
      "text/plain": [
       "<IPython.core.display.Markdown object>"
      ]
     },
     "metadata": {},
     "output_type": "display_data"
    },
    {
     "data": {
      "text/markdown": [
       "- **Creature Mix:** Small: 4, Medium: 2, Large: 0"
      ],
      "text/plain": [
       "<IPython.core.display.Markdown object>"
      ]
     },
     "metadata": {},
     "output_type": "display_data"
    },
    {
     "data": {
      "text/markdown": [
       "- **Creature Theme Alignment:** 5.2"
      ],
      "text/plain": [
       "<IPython.core.display.Markdown object>"
      ]
     },
     "metadata": {},
     "output_type": "display_data"
    },
    {
     "data": {
      "text/markdown": [
       "### 2. Simic Control"
      ],
      "text/plain": [
       "<IPython.core.display.Markdown object>"
      ]
     },
     "metadata": {},
     "output_type": "display_data"
    },
    {
     "data": {
      "text/markdown": [
       "- **Overall Score: 12.7/100**"
      ],
      "text/plain": [
       "<IPython.core.display.Markdown object>"
      ]
     },
     "metadata": {},
     "output_type": "display_data"
    },
    {
     "data": {
      "text/markdown": [
       "- **Expected Themes:** Card Draw, Control, Ramp"
      ],
      "text/plain": [
       "<IPython.core.display.Markdown object>"
      ]
     },
     "metadata": {},
     "output_type": "display_data"
    },
    {
     "data": {
      "text/markdown": [
       "- **Theme Match Score:** 6.2"
      ],
      "text/plain": [
       "<IPython.core.display.Markdown object>"
      ]
     },
     "metadata": {},
     "output_type": "display_data"
    },
    {
     "data": {
      "text/markdown": [
       "- **Color Coherence:** 100.0%"
      ],
      "text/plain": [
       "<IPython.core.display.Markdown object>"
      ]
     },
     "metadata": {},
     "output_type": "display_data"
    },
    {
     "data": {
      "text/markdown": [
       "- **Mana Curve Score:** 95.4%"
      ],
      "text/plain": [
       "<IPython.core.display.Markdown object>"
      ]
     },
     "metadata": {},
     "output_type": "display_data"
    },
    {
     "data": {
      "text/markdown": [
       "- **Creature Count:** 6 (46.2% of deck)"
      ],
      "text/plain": [
       "<IPython.core.display.Markdown object>"
      ]
     },
     "metadata": {},
     "output_type": "display_data"
    },
    {
     "data": {
      "text/markdown": [
       "- **Avg Power/Toughness:** 2.3/2.5"
      ],
      "text/plain": [
       "<IPython.core.display.Markdown object>"
      ]
     },
     "metadata": {},
     "output_type": "display_data"
    },
    {
     "data": {
      "text/markdown": [
       "- **Creature Mix:** Small: 5, Medium: 0, Large: 1"
      ],
      "text/plain": [
       "<IPython.core.display.Markdown object>"
      ]
     },
     "metadata": {},
     "output_type": "display_data"
    },
    {
     "data": {
      "text/markdown": [
       "- **Creature Theme Alignment:** 4.7"
      ],
      "text/plain": [
       "<IPython.core.display.Markdown object>"
      ]
     },
     "metadata": {},
     "output_type": "display_data"
    },
    {
     "data": {
      "text/markdown": [
       "### 3. Golgari Graveyard"
      ],
      "text/plain": [
       "<IPython.core.display.Markdown object>"
      ]
     },
     "metadata": {},
     "output_type": "display_data"
    },
    {
     "data": {
      "text/markdown": [
       "- **Overall Score: 12.0/100**"
      ],
      "text/plain": [
       "<IPython.core.display.Markdown object>"
      ]
     },
     "metadata": {},
     "output_type": "display_data"
    },
    {
     "data": {
      "text/markdown": [
       "- **Expected Themes:** Sacrifice, Graveyard"
      ],
      "text/plain": [
       "<IPython.core.display.Markdown object>"
      ]
     },
     "metadata": {},
     "output_type": "display_data"
    },
    {
     "data": {
      "text/markdown": [
       "- **Theme Match Score:** 3.4"
      ],
      "text/plain": [
       "<IPython.core.display.Markdown object>"
      ]
     },
     "metadata": {},
     "output_type": "display_data"
    },
    {
     "data": {
      "text/markdown": [
       "- **Color Coherence:** 100.0%"
      ],
      "text/plain": [
       "<IPython.core.display.Markdown object>"
      ]
     },
     "metadata": {},
     "output_type": "display_data"
    },
    {
     "data": {
      "text/markdown": [
       "- **Mana Curve Score:** 92.3%"
      ],
      "text/plain": [
       "<IPython.core.display.Markdown object>"
      ]
     },
     "metadata": {},
     "output_type": "display_data"
    },
    {
     "data": {
      "text/markdown": [
       "- **Creature Count:** 9 (69.2% of deck)"
      ],
      "text/plain": [
       "<IPython.core.display.Markdown object>"
      ]
     },
     "metadata": {},
     "output_type": "display_data"
    },
    {
     "data": {
      "text/markdown": [
       "- **Avg Power/Toughness:** 2.6/2.3"
      ],
      "text/plain": [
       "<IPython.core.display.Markdown object>"
      ]
     },
     "metadata": {},
     "output_type": "display_data"
    },
    {
     "data": {
      "text/markdown": [
       "- **Creature Mix:** Small: 6, Medium: 2, Large: 1"
      ],
      "text/plain": [
       "<IPython.core.display.Markdown object>"
      ]
     },
     "metadata": {},
     "output_type": "display_data"
    },
    {
     "data": {
      "text/markdown": [
       "- **Creature Theme Alignment:** 5.2"
      ],
      "text/plain": [
       "<IPython.core.display.Markdown object>"
      ]
     },
     "metadata": {},
     "output_type": "display_data"
    },
    {
     "data": {
      "text/markdown": [
       "### 4. Red Small Creatures"
      ],
      "text/plain": [
       "<IPython.core.display.Markdown object>"
      ]
     },
     "metadata": {},
     "output_type": "display_data"
    },
    {
     "data": {
      "text/markdown": [
       "- **Overall Score: 11.9/100**"
      ],
      "text/plain": [
       "<IPython.core.display.Markdown object>"
      ]
     },
     "metadata": {},
     "output_type": "display_data"
    },
    {
     "data": {
      "text/markdown": [
       "- **Expected Themes:** Small Creatures"
      ],
      "text/plain": [
       "<IPython.core.display.Markdown object>"
      ]
     },
     "metadata": {},
     "output_type": "display_data"
    },
    {
     "data": {
      "text/markdown": [
       "- **Theme Match Score:** 3.2"
      ],
      "text/plain": [
       "<IPython.core.display.Markdown object>"
      ]
     },
     "metadata": {},
     "output_type": "display_data"
    },
    {
     "data": {
      "text/markdown": [
       "- **Color Coherence:** 100.0%"
      ],
      "text/plain": [
       "<IPython.core.display.Markdown object>"
      ]
     },
     "metadata": {},
     "output_type": "display_data"
    },
    {
     "data": {
      "text/markdown": [
       "- **Mana Curve Score:** 100.0%"
      ],
      "text/plain": [
       "<IPython.core.display.Markdown object>"
      ]
     },
     "metadata": {},
     "output_type": "display_data"
    },
    {
     "data": {
      "text/markdown": [
       "- **Creature Count:** 10 (76.9% of deck)"
      ],
      "text/plain": [
       "<IPython.core.display.Markdown object>"
      ]
     },
     "metadata": {},
     "output_type": "display_data"
    },
    {
     "data": {
      "text/markdown": [
       "- **Avg Power/Toughness:** 1.1/1.0"
      ],
      "text/plain": [
       "<IPython.core.display.Markdown object>"
      ]
     },
     "metadata": {},
     "output_type": "display_data"
    },
    {
     "data": {
      "text/markdown": [
       "- **Creature Mix:** Small: 9, Medium: 1, Large: 0"
      ],
      "text/plain": [
       "<IPython.core.display.Markdown object>"
      ]
     },
     "metadata": {},
     "output_type": "display_data"
    },
    {
     "data": {
      "text/markdown": [
       "- **Creature Theme Alignment:** 7.6"
      ],
      "text/plain": [
       "<IPython.core.display.Markdown object>"
      ]
     },
     "metadata": {},
     "output_type": "display_data"
    },
    {
     "data": {
      "text/markdown": [
       "### 5. Azorius Evasion/Flying"
      ],
      "text/plain": [
       "<IPython.core.display.Markdown object>"
      ]
     },
     "metadata": {},
     "output_type": "display_data"
    },
    {
     "data": {
      "text/markdown": [
       "- **Overall Score: 11.6/100**"
      ],
      "text/plain": [
       "<IPython.core.display.Markdown object>"
      ]
     },
     "metadata": {},
     "output_type": "display_data"
    },
    {
     "data": {
      "text/markdown": [
       "- **Expected Themes:** Flying, Control"
      ],
      "text/plain": [
       "<IPython.core.display.Markdown object>"
      ]
     },
     "metadata": {},
     "output_type": "display_data"
    },
    {
     "data": {
      "text/markdown": [
       "- **Theme Match Score:** 2.7"
      ],
      "text/plain": [
       "<IPython.core.display.Markdown object>"
      ]
     },
     "metadata": {},
     "output_type": "display_data"
    },
    {
     "data": {
      "text/markdown": [
       "- **Color Coherence:** 100.0%"
      ],
      "text/plain": [
       "<IPython.core.display.Markdown object>"
      ]
     },
     "metadata": {},
     "output_type": "display_data"
    },
    {
     "data": {
      "text/markdown": [
       "- **Mana Curve Score:** 96.9%"
      ],
      "text/plain": [
       "<IPython.core.display.Markdown object>"
      ]
     },
     "metadata": {},
     "output_type": "display_data"
    },
    {
     "data": {
      "text/markdown": [
       "- **Creature Count:** 6 (46.2% of deck)"
      ],
      "text/plain": [
       "<IPython.core.display.Markdown object>"
      ]
     },
     "metadata": {},
     "output_type": "display_data"
    },
    {
     "data": {
      "text/markdown": [
       "- **Avg Power/Toughness:** 2.0/2.0"
      ],
      "text/plain": [
       "<IPython.core.display.Markdown object>"
      ]
     },
     "metadata": {},
     "output_type": "display_data"
    },
    {
     "data": {
      "text/markdown": [
       "- **Creature Mix:** Small: 4, Medium: 2, Large: 0"
      ],
      "text/plain": [
       "<IPython.core.display.Markdown object>"
      ]
     },
     "metadata": {},
     "output_type": "display_data"
    },
    {
     "data": {
      "text/markdown": [
       "- **Creature Theme Alignment:** 8.3"
      ],
      "text/plain": [
       "<IPython.core.display.Markdown object>"
      ]
     },
     "metadata": {},
     "output_type": "display_data"
    },
    {
     "data": {
      "text/markdown": [
       "## Bottom 5 Least Coherent Decks"
      ],
      "text/plain": [
       "<IPython.core.display.Markdown object>"
      ]
     },
     "metadata": {},
     "output_type": "display_data"
    },
    {
     "data": {
      "text/markdown": [
       "### 26. Green Ramp"
      ],
      "text/plain": [
       "<IPython.core.display.Markdown object>"
      ]
     },
     "metadata": {},
     "output_type": "display_data"
    },
    {
     "data": {
      "text/markdown": [
       "- **Overall Score: 1.6/100**"
      ],
      "text/plain": [
       "<IPython.core.display.Markdown object>"
      ]
     },
     "metadata": {},
     "output_type": "display_data"
    },
    {
     "data": {
      "text/markdown": [
       "- **Expected Themes:** Ramp"
      ],
      "text/plain": [
       "<IPython.core.display.Markdown object>"
      ]
     },
     "metadata": {},
     "output_type": "display_data"
    },
    {
     "data": {
      "text/markdown": [
       "- **Theme Match Score:** 2.7"
      ],
      "text/plain": [
       "<IPython.core.display.Markdown object>"
      ]
     },
     "metadata": {},
     "output_type": "display_data"
    },
    {
     "data": {
      "text/markdown": [
       "- **Color Coherence:** 100.0%"
      ],
      "text/plain": [
       "<IPython.core.display.Markdown object>"
      ]
     },
     "metadata": {},
     "output_type": "display_data"
    },
    {
     "data": {
      "text/markdown": [
       "- **Avg Power/Toughness:** 1.9/2.8"
      ],
      "text/plain": [
       "<IPython.core.display.Markdown object>"
      ]
     },
     "metadata": {},
     "output_type": "display_data"
    },
    {
     "data": {
      "text/markdown": [
       "- **Creature Theme Alignment:** 0.0"
      ],
      "text/plain": [
       "<IPython.core.display.Markdown object>"
      ]
     },
     "metadata": {},
     "output_type": "display_data"
    },
    {
     "data": {
      "text/markdown": [
       "### 27. Blue Card Draw"
      ],
      "text/plain": [
       "<IPython.core.display.Markdown object>"
      ]
     },
     "metadata": {},
     "output_type": "display_data"
    },
    {
     "data": {
      "text/markdown": [
       "- **Overall Score: 1.5/100**"
      ],
      "text/plain": [
       "<IPython.core.display.Markdown object>"
      ]
     },
     "metadata": {},
     "output_type": "display_data"
    },
    {
     "data": {
      "text/markdown": [
       "- **Expected Themes:** Card Draw"
      ],
      "text/plain": [
       "<IPython.core.display.Markdown object>"
      ]
     },
     "metadata": {},
     "output_type": "display_data"
    },
    {
     "data": {
      "text/markdown": [
       "- **Theme Match Score:** 2.5"
      ],
      "text/plain": [
       "<IPython.core.display.Markdown object>"
      ]
     },
     "metadata": {},
     "output_type": "display_data"
    },
    {
     "data": {
      "text/markdown": [
       "- **Color Coherence:** 100.0%"
      ],
      "text/plain": [
       "<IPython.core.display.Markdown object>"
      ]
     },
     "metadata": {},
     "output_type": "display_data"
    },
    {
     "data": {
      "text/markdown": [
       "- **Avg Power/Toughness:** 2.3/2.2"
      ],
      "text/plain": [
       "<IPython.core.display.Markdown object>"
      ]
     },
     "metadata": {},
     "output_type": "display_data"
    },
    {
     "data": {
      "text/markdown": [
       "- **Creature Theme Alignment:** 0.0"
      ],
      "text/plain": [
       "<IPython.core.display.Markdown object>"
      ]
     },
     "metadata": {},
     "output_type": "display_data"
    },
    {
     "data": {
      "text/markdown": [
       "### 28. Red Burn"
      ],
      "text/plain": [
       "<IPython.core.display.Markdown object>"
      ]
     },
     "metadata": {},
     "output_type": "display_data"
    },
    {
     "data": {
      "text/markdown": [
       "- **Overall Score: 1.5/100**"
      ],
      "text/plain": [
       "<IPython.core.display.Markdown object>"
      ]
     },
     "metadata": {},
     "output_type": "display_data"
    },
    {
     "data": {
      "text/markdown": [
       "- **Expected Themes:** Burn"
      ],
      "text/plain": [
       "<IPython.core.display.Markdown object>"
      ]
     },
     "metadata": {},
     "output_type": "display_data"
    },
    {
     "data": {
      "text/markdown": [
       "- **Theme Match Score:** 2.4"
      ],
      "text/plain": [
       "<IPython.core.display.Markdown object>"
      ]
     },
     "metadata": {},
     "output_type": "display_data"
    },
    {
     "data": {
      "text/markdown": [
       "- **Color Coherence:** 100.0%"
      ],
      "text/plain": [
       "<IPython.core.display.Markdown object>"
      ]
     },
     "metadata": {},
     "output_type": "display_data"
    },
    {
     "data": {
      "text/markdown": [
       "- **Avg Power/Toughness:** 2.0/1.5"
      ],
      "text/plain": [
       "<IPython.core.display.Markdown object>"
      ]
     },
     "metadata": {},
     "output_type": "display_data"
    },
    {
     "data": {
      "text/markdown": [
       "- **Creature Theme Alignment:** 0.0"
      ],
      "text/plain": [
       "<IPython.core.display.Markdown object>"
      ]
     },
     "metadata": {},
     "output_type": "display_data"
    },
    {
     "data": {
      "text/markdown": [
       "### 29. Blue Tempo"
      ],
      "text/plain": [
       "<IPython.core.display.Markdown object>"
      ]
     },
     "metadata": {},
     "output_type": "display_data"
    },
    {
     "data": {
      "text/markdown": [
       "- **Overall Score: 1.4/100**"
      ],
      "text/plain": [
       "<IPython.core.display.Markdown object>"
      ]
     },
     "metadata": {},
     "output_type": "display_data"
    },
    {
     "data": {
      "text/markdown": [
       "- **Expected Themes:** Tempo"
      ],
      "text/plain": [
       "<IPython.core.display.Markdown object>"
      ]
     },
     "metadata": {},
     "output_type": "display_data"
    },
    {
     "data": {
      "text/markdown": [
       "- **Theme Match Score:** 2.3"
      ],
      "text/plain": [
       "<IPython.core.display.Markdown object>"
      ]
     },
     "metadata": {},
     "output_type": "display_data"
    },
    {
     "data": {
      "text/markdown": [
       "- **Color Coherence:** 100.0%"
      ],
      "text/plain": [
       "<IPython.core.display.Markdown object>"
      ]
     },
     "metadata": {},
     "output_type": "display_data"
    },
    {
     "data": {
      "text/markdown": [
       "- **Avg Power/Toughness:** 2.2/1.7"
      ],
      "text/plain": [
       "<IPython.core.display.Markdown object>"
      ]
     },
     "metadata": {},
     "output_type": "display_data"
    },
    {
     "data": {
      "text/markdown": [
       "- **Creature Theme Alignment:** 0.0"
      ],
      "text/plain": [
       "<IPython.core.display.Markdown object>"
      ]
     },
     "metadata": {},
     "output_type": "display_data"
    },
    {
     "data": {
      "text/markdown": [
       "### 30. Green Midrange"
      ],
      "text/plain": [
       "<IPython.core.display.Markdown object>"
      ]
     },
     "metadata": {},
     "output_type": "display_data"
    },
    {
     "data": {
      "text/markdown": [
       "- **Overall Score: 1.4/100**"
      ],
      "text/plain": [
       "<IPython.core.display.Markdown object>"
      ]
     },
     "metadata": {},
     "output_type": "display_data"
    },
    {
     "data": {
      "text/markdown": [
       "- **Expected Themes:** Midrange"
      ],
      "text/plain": [
       "<IPython.core.display.Markdown object>"
      ]
     },
     "metadata": {},
     "output_type": "display_data"
    },
    {
     "data": {
      "text/markdown": [
       "- **Theme Match Score:** 2.3"
      ],
      "text/plain": [
       "<IPython.core.display.Markdown object>"
      ]
     },
     "metadata": {},
     "output_type": "display_data"
    },
    {
     "data": {
      "text/markdown": [
       "- **Color Coherence:** 100.0%"
      ],
      "text/plain": [
       "<IPython.core.display.Markdown object>"
      ]
     },
     "metadata": {},
     "output_type": "display_data"
    },
    {
     "data": {
      "text/markdown": [
       "- **Avg Power/Toughness:** 2.8/2.8"
      ],
      "text/plain": [
       "<IPython.core.display.Markdown object>"
      ]
     },
     "metadata": {},
     "output_type": "display_data"
    },
    {
     "data": {
      "text/markdown": [
       "- **Creature Theme Alignment:** 0.0"
      ],
      "text/plain": [
       "<IPython.core.display.Markdown object>"
      ]
     },
     "metadata": {},
     "output_type": "display_data"
    }
   ],
   "source": [
    "from src.coherence import display_coherence_analysis_enhanced\n",
    "\n",
    "\n",
    "display_coherence_analysis_enhanced(analyze_deck_theme_coherence_enhanced(cube_df, oracle_df))"
   ]
  }
 ],
 "metadata": {
  "kernelspec": {
   "display_name": "magic",
   "language": "python",
   "name": "python3"
  },
  "language_info": {
   "codemirror_mode": {
    "name": "ipython",
    "version": 3
   },
   "file_extension": ".py",
   "mimetype": "text/x-python",
   "name": "python",
   "nbconvert_exporter": "python",
   "pygments_lexer": "ipython3",
   "version": "3.13.2"
  }
 },
 "nbformat": 4,
 "nbformat_minor": 5
}
